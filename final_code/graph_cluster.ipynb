{
 "cells": [
  {
   "cell_type": "markdown",
   "source": "# Word Graph Clustering",
   "metadata": {
    "cell_id": "00000-9e7e1a66-715e-4976-8512-2608fac056fc",
    "deepnote_cell_type": "markdown"
   }
  },
  {
   "cell_type": "code",
   "metadata": {
    "cell_id": "00001-10da82d4-2d30-4a1e-b348-43360cab7e4b",
    "deepnote_cell_type": "code"
   },
   "source": "import pandas as pd\nimport networkx as nx\nimport matplotlib.pyplot as plt\nimport numpy as np\nfrom bokeh.io import output_notebook, show, save\nfrom bokeh.models import Range1d, Circle, ColumnDataSource, MultiLine, EdgesAndLinkedNodes, NodesAndLinkedEdges, Square, LinearColorMapper, BasicTicker, ColorBar\nfrom bokeh.plotting import figure\nfrom bokeh.plotting import from_networkx\nfrom bokeh.palettes import Blues8, Reds8, Purples8, Oranges8, Viridis8, Spectral8, Inferno256, Viridis256, Category10, RdYlBu3, RdYlBu5, RdYlBu10\nfrom bokeh.transform import linear_cmap, factor_mark, factor_cmap\nfrom bokeh.models import EdgesAndLinkedNodes, NodesAndLinkedEdges\n\nfrom networkx import edge_betweenness_centrality\nfrom random import random\n\ndef most_central_edge(G):\n    centrality = edge_betweenness_centrality(G)\n    max_cent = max(centrality.values())\n    # Scale the centrality values so they are between 0 and 1,\n    # and add some random noise.\n    centrality = {e: c / max_cent for e, c in centrality.items()}\n    # Add some random noise.\n    centrality = {e: c + random() for e, c in centrality.items()}\n    return max(centrality, key=centrality.get)\n\noutput_notebook()\n",
   "outputs": [
    {
     "output_type": "display_data",
     "data": {
      "text/html": "\n    <div class=\"bk-root\">\n        <a href=\"https://bokeh.org\" target=\"_blank\" class=\"bk-logo bk-logo-small bk-logo-notebook\"></a>\n        <span id=\"21573\">Loading BokehJS ...</span>\n    </div>"
     },
     "metadata": {}
    },
    {
     "output_type": "display_data",
     "data": {
      "application/javascript": "\n(function(root) {\n  function now() {\n    return new Date();\n  }\n\n  var force = true;\n\n  if (typeof root._bokeh_onload_callbacks === \"undefined\" || force === true) {\n    root._bokeh_onload_callbacks = [];\n    root._bokeh_is_loading = undefined;\n  }\n\n  var JS_MIME_TYPE = 'application/javascript';\n  var HTML_MIME_TYPE = 'text/html';\n  var EXEC_MIME_TYPE = 'application/vnd.bokehjs_exec.v0+json';\n  var CLASS_NAME = 'output_bokeh rendered_html';\n\n  /**\n   * Render data to the DOM node\n   */\n  function render(props, node) {\n    var script = document.createElement(\"script\");\n    node.appendChild(script);\n  }\n\n  /**\n   * Handle when an output is cleared or removed\n   */\n  function handleClearOutput(event, handle) {\n    var cell = handle.cell;\n\n    var id = cell.output_area._bokeh_element_id;\n    var server_id = cell.output_area._bokeh_server_id;\n    // Clean up Bokeh references\n    if (id != null && id in Bokeh.index) {\n      Bokeh.index[id].model.document.clear();\n      delete Bokeh.index[id];\n    }\n\n    if (server_id !== undefined) {\n      // Clean up Bokeh references\n      var cmd = \"from bokeh.io.state import curstate; print(curstate().uuid_to_server['\" + server_id + \"'].get_sessions()[0].document.roots[0]._id)\";\n      cell.notebook.kernel.execute(cmd, {\n        iopub: {\n          output: function(msg) {\n            var id = msg.content.text.trim();\n            if (id in Bokeh.index) {\n              Bokeh.index[id].model.document.clear();\n              delete Bokeh.index[id];\n            }\n          }\n        }\n      });\n      // Destroy server and session\n      var cmd = \"import bokeh.io.notebook as ion; ion.destroy_server('\" + server_id + \"')\";\n      cell.notebook.kernel.execute(cmd);\n    }\n  }\n\n  /**\n   * Handle when a new output is added\n   */\n  function handleAddOutput(event, handle) {\n    var output_area = handle.output_area;\n    var output = handle.output;\n\n    // limit handleAddOutput to display_data with EXEC_MIME_TYPE content only\n    if ((output.output_type != \"display_data\") || (!Object.prototype.hasOwnProperty.call(output.data, EXEC_MIME_TYPE))) {\n      return\n    }\n\n    var toinsert = output_area.element.find(\".\" + CLASS_NAME.split(' ')[0]);\n\n    if (output.metadata[EXEC_MIME_TYPE][\"id\"] !== undefined) {\n      toinsert[toinsert.length - 1].firstChild.textContent = output.data[JS_MIME_TYPE];\n      // store reference to embed id on output_area\n      output_area._bokeh_element_id = output.metadata[EXEC_MIME_TYPE][\"id\"];\n    }\n    if (output.metadata[EXEC_MIME_TYPE][\"server_id\"] !== undefined) {\n      var bk_div = document.createElement(\"div\");\n      bk_div.innerHTML = output.data[HTML_MIME_TYPE];\n      var script_attrs = bk_div.children[0].attributes;\n      for (var i = 0; i < script_attrs.length; i++) {\n        toinsert[toinsert.length - 1].firstChild.setAttribute(script_attrs[i].name, script_attrs[i].value);\n        toinsert[toinsert.length - 1].firstChild.textContent = bk_div.children[0].textContent\n      }\n      // store reference to server id on output_area\n      output_area._bokeh_server_id = output.metadata[EXEC_MIME_TYPE][\"server_id\"];\n    }\n  }\n\n  function register_renderer(events, OutputArea) {\n\n    function append_mime(data, metadata, element) {\n      // create a DOM node to render to\n      var toinsert = this.create_output_subarea(\n        metadata,\n        CLASS_NAME,\n        EXEC_MIME_TYPE\n      );\n      this.keyboard_manager.register_events(toinsert);\n      // Render to node\n      var props = {data: data, metadata: metadata[EXEC_MIME_TYPE]};\n      render(props, toinsert[toinsert.length - 1]);\n      element.append(toinsert);\n      return toinsert\n    }\n\n    /* Handle when an output is cleared or removed */\n    events.on('clear_output.CodeCell', handleClearOutput);\n    events.on('delete.Cell', handleClearOutput);\n\n    /* Handle when a new output is added */\n    events.on('output_added.OutputArea', handleAddOutput);\n\n    /**\n     * Register the mime type and append_mime function with output_area\n     */\n    OutputArea.prototype.register_mime_type(EXEC_MIME_TYPE, append_mime, {\n      /* Is output safe? */\n      safe: true,\n      /* Index of renderer in `output_area.display_order` */\n      index: 0\n    });\n  }\n\n  // register the mime type if in Jupyter Notebook environment and previously unregistered\n  if (root.Jupyter !== undefined) {\n    var events = require('base/js/events');\n    var OutputArea = require('notebook/js/outputarea').OutputArea;\n\n    if (OutputArea.prototype.mime_types().indexOf(EXEC_MIME_TYPE) == -1) {\n      register_renderer(events, OutputArea);\n    }\n  }\n\n  \n  if (typeof (root._bokeh_timeout) === \"undefined\" || force === true) {\n    root._bokeh_timeout = Date.now() + 5000;\n    root._bokeh_failed_load = false;\n  }\n\n  var NB_LOAD_WARNING = {'data': {'text/html':\n     \"<div style='background-color: #fdd'>\\n\"+\n     \"<p>\\n\"+\n     \"BokehJS does not appear to have successfully loaded. If loading BokehJS from CDN, this \\n\"+\n     \"may be due to a slow or bad network connection. Possible fixes:\\n\"+\n     \"</p>\\n\"+\n     \"<ul>\\n\"+\n     \"<li>re-rerun `output_notebook()` to attempt to load from CDN again, or</li>\\n\"+\n     \"<li>use INLINE resources instead, as so:</li>\\n\"+\n     \"</ul>\\n\"+\n     \"<code>\\n\"+\n     \"from bokeh.resources import INLINE\\n\"+\n     \"output_notebook(resources=INLINE)\\n\"+\n     \"</code>\\n\"+\n     \"</div>\"}};\n\n  function display_loaded() {\n    var el = document.getElementById(\"21573\");\n    if (el != null) {\n      el.textContent = \"BokehJS is loading...\";\n    }\n    if (root.Bokeh !== undefined) {\n      if (el != null) {\n        el.textContent = \"BokehJS \" + root.Bokeh.version + \" successfully loaded.\";\n      }\n    } else if (Date.now() < root._bokeh_timeout) {\n      setTimeout(display_loaded, 100)\n    }\n  }\n\n\n  function run_callbacks() {\n    try {\n      root._bokeh_onload_callbacks.forEach(function(callback) {\n        if (callback != null)\n          callback();\n      });\n    } finally {\n      delete root._bokeh_onload_callbacks\n    }\n    console.debug(\"Bokeh: all callbacks have finished\");\n  }\n\n  function load_libs(css_urls, js_urls, callback) {\n    if (css_urls == null) css_urls = [];\n    if (js_urls == null) js_urls = [];\n\n    root._bokeh_onload_callbacks.push(callback);\n    if (root._bokeh_is_loading > 0) {\n      console.debug(\"Bokeh: BokehJS is being loaded, scheduling callback at\", now());\n      return null;\n    }\n    if (js_urls == null || js_urls.length === 0) {\n      run_callbacks();\n      return null;\n    }\n    console.debug(\"Bokeh: BokehJS not loaded, scheduling load and callback at\", now());\n    root._bokeh_is_loading = css_urls.length + js_urls.length;\n\n    function on_load() {\n      root._bokeh_is_loading--;\n      if (root._bokeh_is_loading === 0) {\n        console.debug(\"Bokeh: all BokehJS libraries/stylesheets loaded\");\n        run_callbacks()\n      }\n    }\n\n    function on_error(url) {\n      console.error(\"failed to load \" + url);\n    }\n\n    for (let i = 0; i < css_urls.length; i++) {\n      const url = css_urls[i];\n      const element = document.createElement(\"link\");\n      element.onload = on_load;\n      element.onerror = on_error.bind(null, url);\n      element.rel = \"stylesheet\";\n      element.type = \"text/css\";\n      element.href = url;\n      console.debug(\"Bokeh: injecting link tag for BokehJS stylesheet: \", url);\n      document.body.appendChild(element);\n    }\n\n    const hashes = {\"https://cdn.bokeh.org/bokeh/release/bokeh-2.3.3.min.js\": \"dM3QQsP+wXdHg42wTqW85BjZQdLNNIXqlPw/BgKoExPmTG7ZLML4EGqLMfqHT6ON\", \"https://cdn.bokeh.org/bokeh/release/bokeh-tables-2.3.3.min.js\": \"8x57I4YuIfu8XyZfFo0XVr2WAT8EK4rh/uDe3wF7YuW2FNUSNEpJbsPaB1nJ2fz2\", \"https://cdn.bokeh.org/bokeh/release/bokeh-widgets-2.3.3.min.js\": \"3QTqdz9LyAm2i0sG5XTePsHec3UHWwVsrOL68SYRoAXsafvfAyqtQ+h440+qIBhS\"};\n\n    for (let i = 0; i < js_urls.length; i++) {\n      const url = js_urls[i];\n      const element = document.createElement('script');\n      element.onload = on_load;\n      element.onerror = on_error.bind(null, url);\n      element.async = false;\n      element.src = url;\n      if (url in hashes) {\n        element.crossOrigin = \"anonymous\";\n        element.integrity = \"sha384-\" + hashes[url];\n      }\n      console.debug(\"Bokeh: injecting script tag for BokehJS library: \", url);\n      document.head.appendChild(element);\n    }\n  };\n\n  function inject_raw_css(css) {\n    const element = document.createElement(\"style\");\n    element.appendChild(document.createTextNode(css));\n    document.body.appendChild(element);\n  }\n\n  \n  var js_urls = [\"https://cdn.bokeh.org/bokeh/release/bokeh-2.3.3.min.js\", \"https://cdn.bokeh.org/bokeh/release/bokeh-widgets-2.3.3.min.js\", \"https://cdn.bokeh.org/bokeh/release/bokeh-tables-2.3.3.min.js\"];\n  var css_urls = [];\n  \n\n  var inline_js = [\n    function(Bokeh) {\n      Bokeh.set_log_level(\"info\");\n    },\n    function(Bokeh) {\n    \n    \n    }\n  ];\n\n  function run_inline_js() {\n    \n    if (root.Bokeh !== undefined || force === true) {\n      \n    for (var i = 0; i < inline_js.length; i++) {\n      inline_js[i].call(root, root.Bokeh);\n    }\n    if (force === true) {\n        display_loaded();\n      }} else if (Date.now() < root._bokeh_timeout) {\n      setTimeout(run_inline_js, 100);\n    } else if (!root._bokeh_failed_load) {\n      console.log(\"Bokeh: BokehJS failed to load within specified timeout.\");\n      root._bokeh_failed_load = true;\n    } else if (force !== true) {\n      var cell = $(document.getElementById(\"21573\")).parents('.cell').data().cell;\n      cell.output_area.append_execute_result(NB_LOAD_WARNING)\n    }\n\n  }\n\n  if (root._bokeh_is_loading === 0) {\n    console.debug(\"Bokeh: BokehJS loaded, going straight to plotting\");\n    run_inline_js();\n  } else {\n    load_libs(css_urls, js_urls, function() {\n      console.debug(\"Bokeh: BokehJS plotting callback run at\", now());\n      run_inline_js();\n    });\n  }\n}(window));",
      "application/vnd.bokehjs_load.v0+json": ""
     },
     "metadata": {}
    }
   ],
   "execution_count": null
  },
  {
   "cell_type": "code",
   "metadata": {
    "cell_id": "00002-36227164-f5e4-4eb1-b121-cb59914f600f",
    "deepnote_cell_type": "code"
   },
   "source": "inc_df = pd.read_csv(\"dtm_all.csv\")",
   "outputs": [],
   "execution_count": null
  },
  {
   "cell_type": "code",
   "metadata": {
    "cell_id": "00003-0f29fe6a-c1a4-46b6-b707-9e9bd49656ab",
    "deepnote_cell_type": "code"
   },
   "source": "listings = pd.read_csv(r\"C:\\Users\\billz\\OneDrive-UWaterloo\\OneDrive - University of Waterloo\\Desktop\\Waterloo\\Data Open 2021\\Datasets-20210712T225538Z-001\\Datasets\\listings.csv\")",
   "outputs": [],
   "execution_count": null
  },
  {
   "cell_type": "code",
   "metadata": {
    "cell_id": "00004-d6e91887-a273-4bf3-bde0-c7cc9c4a71f0",
    "deepnote_cell_type": "code"
   },
   "source": "id_full_set_tx = set(listings[listings[\"state\"] == \"TX\"][\"id\"])\nid_full_set_la = set(listings[listings[\"state\"] == \"LA\"][\"id\"])\nid_full_set_nc = set(listings[listings[\"state\"] == \"NC\"][\"id\"])",
   "outputs": [],
   "execution_count": null
  },
  {
   "cell_type": "code",
   "metadata": {
    "cell_id": "00005-53796405-72a5-41b9-8bdd-e35832a94865",
    "deepnote_cell_type": "code"
   },
   "source": "tx_id_set = id_full_set_tx.intersection(set(inc_df[\"id\"]))\nla_id_set = id_full_set_la.intersection(set(inc_df[\"id\"]))\nnc_id_set = id_full_set_nc.intersection(set(inc_df[\"id\"]))",
   "outputs": [],
   "execution_count": null
  },
  {
   "cell_type": "code",
   "metadata": {
    "cell_id": "00006-ecd7c8f1-c2e9-463d-b615-02ac9bbde427",
    "deepnote_cell_type": "code"
   },
   "source": "inc_df_tx = inc_df.set_index(\"id\").loc[tx_id_set, :]\ninc_df_la = inc_df.set_index(\"id\").loc[la_id_set, :]\ninc_df_nc = inc_df.set_index(\"id\").loc[nc_id_set, :]",
   "outputs": [],
   "execution_count": null
  },
  {
   "cell_type": "code",
   "metadata": {
    "cell_id": "00007-d96cd458-b8dd-4220-9cd6-76b20ba8a9b9",
    "deepnote_cell_type": "code"
   },
   "source": "inc_df_tx.reset_index().to_csv(\"dtm_tx.csv\", index = False)\ninc_df_la.reset_index().to_csv(\"dtm_la.csv\", index = False)\ninc_df_nc.reset_index().to_csv(\"dtm_nc.csv\", index = False)",
   "outputs": [],
   "execution_count": null
  },
  {
   "cell_type": "code",
   "metadata": {
    "cell_id": "00008-1f1ccd24-925b-4149-8e8d-32a27a79dec7",
    "deepnote_cell_type": "code"
   },
   "source": "inc_df_tx = pd.read_csv(\"dtm_tx.csv\")\ninc_df_la = pd.read_csv(\"dtm_la.csv\")\ninc_df_nc = pd.read_csv(\"dtm_nc.csv\")",
   "outputs": [],
   "execution_count": null
  },
  {
   "cell_type": "code",
   "metadata": {
    "cell_id": "00009-1d72b7cc-a779-4bbf-b741-a5624ce4e7a7",
    "deepnote_cell_type": "code"
   },
   "source": "col_names_tx = list(inc_df_tx.sum()[inc_df_tx.sum() > 1000].index)\ncol_names_la = list(inc_df_la.sum()[inc_df_la.sum() > 1000].index)\ncol_names_nc = list(inc_df_nc.sum()[inc_df_nc.sum() > 1000].index)",
   "outputs": [],
   "execution_count": null
  },
  {
   "cell_type": "code",
   "metadata": {
    "cell_id": "00010-94786246-78be-4ce6-bf5a-e49abc1777df",
    "deepnote_cell_type": "code"
   },
   "source": "inc_df_tx_small = inc_df_tx[col_names_tx]\ninc_df_la_small = inc_df_la[col_names_la]\ninc_df_nc_small = inc_df_nc[col_names_nc]",
   "outputs": [],
   "execution_count": null
  },
  {
   "cell_type": "code",
   "metadata": {
    "cell_id": "00011-d04586ed-dd52-44a1-8fa1-7ff779e13c34",
    "deepnote_cell_type": "code"
   },
   "source": "inc_df_tx_small.to_csv(\"dtm_tx_small.csv\", index = False)\ninc_df_la_small.to_csv(\"dtm_la_small.csv\", index = False)\ninc_df_nc_small.to_csv(\"dtm_nc_small.csv\", index = False)",
   "outputs": [],
   "execution_count": null
  },
  {
   "cell_type": "code",
   "metadata": {
    "cell_id": "00012-4ae53879-acac-43d6-85d5-a4984a033343",
    "deepnote_cell_type": "code"
   },
   "source": "inc_df_tx_small_sample = inc_df_tx_small.sample(frac = 0.2)\ninc_df_la_small_sample = inc_df_la_small.sample(frac = 0.2)\ninc_df_nc_small_sample = inc_df_nc_small.sample(frac = 0.2)",
   "outputs": [],
   "execution_count": null
  },
  {
   "cell_type": "code",
   "metadata": {
    "cell_id": "00013-722b6db6-29e7-458b-9f61-cab45f5b3a4a",
    "deepnote_cell_type": "code"
   },
   "source": "target = pd.read_csv(\"feedback_score_3.csv\")\ntarget = target.iloc[:, 1:]",
   "outputs": [],
   "execution_count": null
  },
  {
   "cell_type": "code",
   "metadata": {
    "cell_id": "00014-da59b944-50cd-4e98-95ef-05e8c330db78",
    "deepnote_cell_type": "code"
   },
   "source": "inc_df_tx_small_sample[\"rating\"] =target.set_index(\"id\").loc[inc_df_tx_small_sample.index, \"feedback_score\"].values\ninc_df_la_small_sample[\"rating\"] =target.set_index(\"id\").loc[inc_df_la_small_sample.index, \"feedback_score\"].values\ninc_df_nc_small_sample[\"rating\"] =target.set_index(\"id\").loc[inc_df_nc_small_sample.index, \"feedback_score\"].values",
   "outputs": [],
   "execution_count": null
  },
  {
   "cell_type": "code",
   "metadata": {
    "cell_id": "00015-07070c46-6bee-482e-944e-5cd3c10f81b7",
    "deepnote_cell_type": "code"
   },
   "source": "inc_df_tx_small_sample = inc_df_tx_small_sample.dropna()\ninc_df_la_small_sample = inc_df_la_small_sample.dropna()\ninc_df_nc_small_sample = inc_df_nc_small_sample.dropna()",
   "outputs": [],
   "execution_count": null
  },
  {
   "cell_type": "code",
   "metadata": {
    "cell_id": "00016-8232580b-b990-4763-bb7a-6d1b80405aba",
    "deepnote_cell_type": "code"
   },
   "source": "adj_mat_tx_small_sample = np.dot(inc_df_tx_small_sample.iloc[:,:-1].values, inc_df_tx_small_sample.iloc[:,:-1].values.T)\nadj_mat_la_small_sample = np.dot(inc_df_la_small_sample.iloc[:,:-1].values, inc_df_la_small_sample.iloc[:,:-1].values.T)\nadj_mat_nc_small_sample = np.dot(inc_df_nc_small_sample.iloc[:,:-1].values, inc_df_nc_small_sample.iloc[:,:-1].values.T)",
   "outputs": [],
   "execution_count": null
  },
  {
   "cell_type": "code",
   "metadata": {
    "cell_id": "00017-e1e15bb5-c0bb-4eaf-bd34-20923684b896",
    "deepnote_cell_type": "code"
   },
   "source": "G_tx = nx.from_numpy_array(adj_mat_tx_small_sample)\nG_la = nx.from_numpy_array(adj_mat_la_small_sample)\nG_nc = nx.from_numpy_array(adj_mat_nc_small_sample)",
   "outputs": [],
   "execution_count": null
  },
  {
   "cell_type": "code",
   "metadata": {
    "cell_id": "00018-d9130e30-2fef-4a47-9e6b-6450acff4fe0",
    "deepnote_cell_type": "code"
   },
   "source": "from networkx.algorithms.community import greedy_modularity_communities, asyn_fluidc",
   "outputs": [],
   "execution_count": null
  },
  {
   "cell_type": "code",
   "metadata": {
    "cell_id": "00019-eee381f4-fe3d-4e75-8e86-602722cd2303",
    "deepnote_cell_type": "code"
   },
   "source": "def create_spectral_clustering(G, state_name):\n    communities = asyn_fluidc(G, 5)\n    # Create empty dictionaries\n    fluid_class = {}\n    fluid_color = {}\n    fluid_size = {}\n    #Loop through each community in the network\n    for community_number, community in enumerate(communities):\n        #For each member of the community, add their community number and a distinct color\n        for name in community: \n            fluid_class[name] = community_number\n            fluid_color[name] = RdYlBu5[community_number]\n            fluid_size[name] = community_number * 5\n    nx.set_node_attributes(G, fluid_class, 'fluid_class')\n    nx.set_node_attributes(G, fluid_color, 'fluid_color')\n    nx.set_node_attributes(G, fluid_size, 'fluid_size')\n    degrees = dict([(node, degree) for node, degree in nx.degree(G)])\n    nx.set_node_attributes(G, name='degree', values=degrees)\n    index_rating_size = dict([(node, rating * 20) for node, rating in zip(G.nodes, inc_df_tx_small_sample[\"rating\"])])\n    index_rating = dict([(node, rating) for node, rating in zip(G.nodes, inc_df_tx_small_sample[\"rating\"])])\n    nx.set_node_attributes(G, values = index_rating_size, name = 'index_rating_size')\n    nx.set_node_attributes(G, values = index_rating, name = 'index_rating')\n\n    ## Greedy clustering\n    title = f'Listings Graph by Comments Keyword Edges ({state_name})'\n\n    size_by_this_attribute = \"index_rating_size\"\n    color_by_this_attribute = 'fluid_color'\n\n    HOVER_TOOLTIPS = [\n        (\"Sentiment Index\", \"@index_rating\"),\n        (\"Fluid Class\", \"@fluid_class\"),\n        (\"Fluid Color\", \"$color[swatch]:fluid_color\")\n    ]\n    plot = figure(tooltips = HOVER_TOOLTIPS,\n                tools=\"pan,wheel_zoom,save,reset\", active_scroll='wheel_zoom',\n                x_range=Range1d(-10.1, 10.1), y_range=Range1d(-10.1, 10.1), title=title)\n    network_graph = from_networkx(G, nx.spectral_layout, scale = 10, center=(0, 0), weight = 1)\n    network_graph.node_renderer.glyph = Circle(\n        size=size_by_this_attribute, fill_color=color_by_this_attribute,\n        line_color=\"#ffffff00\",\n        fill_alpha=0.7)\n    network_graph.edge_renderer.glyph = MultiLine(line_alpha=0.5, line_width=0.05)\n    plot.renderers.append(network_graph)\n    save(plot, filename=f\"{title}.html\")\n\n    title = f'Listings Graph by Comments Keyword Edges ({state_name})'\n    size_by_this_attribute = \"degree\"\n    color_by_this_attribute = \"index_rating\"\n\n    HOVER_TOOLTIPS = [\n        (\"Sentiment Index\", \"@index_rating\"),\n        (\"Fluid Class\", \"@fluid_class\"),\n        (\"Fluid Color\", \"$color[swatch]:fluid_color\")\n    ]\n    color_palette = Viridis256\n    network_graph = from_networkx(G, nx.spectral_layout, scale=10, center=(0, 0), weight = 1)\n    minimum_value_color = min(network_graph.node_renderer.data_source.data[color_by_this_attribute])\n    maximum_value_color = max(network_graph.node_renderer.data_source.data[color_by_this_attribute])\n    color_mapper = LinearColorMapper(palette=color_palette, low=0, high=1)\n    color_bar = ColorBar(color_mapper=color_mapper, ticker= BasicTicker(),\n                        location=(0,0))\n    plot = figure(tooltips = HOVER_TOOLTIPS,\n                tools=\"pan,wheel_zoom,save,reset\", active_scroll='wheel_zoom',\n                x_range=Range1d(-10.1, 10.1), y_range=Range1d(-10.1, 10.1), title=title)\n\n    plot.add_layout(color_bar, 'right')\n    network_graph.node_renderer.glyph = Circle(\n        size=size_by_this_attribute, \n        fill_color=linear_cmap(color_by_this_attribute, color_palette, minimum_value_color, maximum_value_color),\n        line_color=\"#ffffff00\",\n        fill_alpha=0.5\n    )\n\n    network_graph.edge_renderer.glyph = MultiLine(line_alpha=0.5, line_width=0.05)\n    plot.renderers.append(network_graph)\n    save(plot, filename=f\"{title} (inverse).html\")\n\n",
   "outputs": [],
   "execution_count": null
  },
  {
   "cell_type": "code",
   "metadata": {
    "cell_id": "00020-291a8a5a-1dbc-4144-ab82-bc5d9d848ed8",
    "deepnote_cell_type": "code"
   },
   "source": "create_spectral_clustering(G_tx, \"Austin\")",
   "outputs": [
    {
     "output_type": "stream",
     "name": "stderr",
     "text": "ERROR:bokeh.core.validation.check:E-1001 (BAD_COLUMN_NAME): Glyph refers to nonexistent column name. This could either be due to a misspelling or typo, or due to an expected column being missing. : key \"line_color\" value \"#ffffff00\" [renderer: GlyphRenderer(id='40699', ...)]\nERROR:bokeh.core.validation.check:E-1001 (BAD_COLUMN_NAME): Glyph refers to nonexistent column name. This could either be due to a misspelling or typo, or due to an expected column being missing. : key \"line_color\" value \"#ffffff00\" [renderer: GlyphRenderer(id='40942', ...)]\n"
    }
   ],
   "execution_count": null
  },
  {
   "cell_type": "code",
   "metadata": {
    "cell_id": "00021-ff8d720b-0e98-4768-8484-f1ae9a091ead",
    "deepnote_cell_type": "code"
   },
   "source": "create_spectral_clustering(G_la, \"New Orleans\")",
   "outputs": [
    {
     "output_type": "stream",
     "name": "stderr",
     "text": "ERROR:bokeh.core.validation.check:E-1001 (BAD_COLUMN_NAME): Glyph refers to nonexistent column name. This could either be due to a misspelling or typo, or due to an expected column being missing. : key \"line_color\" value \"#ffffff00\" [renderer: GlyphRenderer(id='38427', ...)]\nERROR:bokeh.core.validation.check:E-1001 (BAD_COLUMN_NAME): Glyph refers to nonexistent column name. This could either be due to a misspelling or typo, or due to an expected column being missing. : key \"line_color\" value \"#ffffff00\" [renderer: GlyphRenderer(id='38670', ...)]\n"
    }
   ],
   "execution_count": null
  },
  {
   "cell_type": "code",
   "metadata": {
    "cell_id": "00022-78de12b5-0640-48a1-b7b5-201160238a6b",
    "deepnote_cell_type": "code"
   },
   "source": "create_spectral_clustering(G_nc, \"Ashville\")",
   "outputs": [
    {
     "output_type": "stream",
     "name": "stderr",
     "text": "ERROR:bokeh.core.validation.check:E-1001 (BAD_COLUMN_NAME): Glyph refers to nonexistent column name. This could either be due to a misspelling or typo, or due to an expected column being missing. : key \"line_color\" value \"#ffffff00\" [renderer: GlyphRenderer(id='41267', ...)]\nERROR:bokeh.core.validation.check:E-1001 (BAD_COLUMN_NAME): Glyph refers to nonexistent column name. This could either be due to a misspelling or typo, or due to an expected column being missing. : key \"line_color\" value \"#ffffff00\" [renderer: GlyphRenderer(id='41510', ...)]\n"
    }
   ],
   "execution_count": null
  },
  {
   "cell_type": "markdown",
   "source": "<a style='text-decoration:none;line-height:16px;display:flex;color:#5B5B62;padding:10px;justify-content:end;' href='https://deepnote.com?utm_source=created-in-deepnote-cell&projectId=8e6d3dd7-a3ce-422e-8f25-57163d804f84' target=\"_blank\">\n<img alt='Created in deepnote.com' style='display:inline;max-height:16px;margin:0px;margin-right:7.5px;' src='data:image/svg+xml;base64,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' > </img>\nCreated in <span style='font-weight:600;margin-left:4px;'>Deepnote</span></a>",
   "metadata": {
    "tags": [],
    "created_in_deepnote_cell": true,
    "deepnote_cell_type": "markdown"
   }
  }
 ],
 "nbformat": 4,
 "nbformat_minor": 2,
 "metadata": {
  "orig_nbformat": 4,
  "language_info": {
   "name": "python"
  },
  "deepnote_notebook_id": "b9bcb44f-ed60-4aa8-8d67-c50e77347e6e",
  "deepnote": {},
  "deepnote_execution_queue": []
 }
}