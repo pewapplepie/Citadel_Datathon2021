{
 "cells": [
  {
   "cell_type": "code",
   "metadata": {
    "tags": [],
    "cell_id": "00000-9f26ac82-398a-4948-839a-3b5662b188ae",
    "deepnote_to_be_reexecuted": false,
    "source_hash": "34ad2d5b",
    "execution_start": 1627420068794,
    "execution_millis": 1576,
    "deepnote_cell_type": "code"
   },
   "source": "import numpy as np\nimport pandas as pd\nimport seaborn as sns\nimport matplotlib.pyplot as plt",
   "execution_count": null,
   "outputs": []
  },
  {
   "cell_type": "code",
   "metadata": {
    "tags": [],
    "cell_id": "00001-9c17eb46-bef0-4d7d-9da2-0097eb2dd11f",
    "deepnote_to_be_reexecuted": false,
    "source_hash": "4fe2926",
    "execution_start": 1627420073202,
    "execution_millis": 518,
    "deepnote_cell_type": "code"
   },
   "source": "listings = pd.read_csv(\"/work/Datasets/listings.csv\").drop(columns=['has_availability', 'weekly_price'])",
   "execution_count": null,
   "outputs": []
  },
  {
   "cell_type": "code",
   "metadata": {
    "tags": [],
    "cell_id": "00002-1129f79b-6b10-4143-951a-177fd7272598",
    "deepnote_to_be_reexecuted": false,
    "source_hash": "e2fe83a3",
    "execution_start": 1627420076213,
    "execution_millis": 2,
    "deepnote_cell_type": "code"
   },
   "source": "south = [\"OK\", \"TX\", \"LA\", \"AR\", \"TN\", \"MS\", \"AL\", \"GA\", \"WV\", \"NC\", \"SC\", \"FL\", \"KY\", \"VA\"]",
   "execution_count": null,
   "outputs": []
  },
  {
   "cell_type": "code",
   "metadata": {
    "tags": [],
    "cell_id": "00003-41a0d38f-1b19-4e34-804c-8ad0f3ad1771",
    "deepnote_to_be_reexecuted": false,
    "source_hash": "184ae29f",
    "execution_start": 1626628377683,
    "execution_millis": 149,
    "deepnote_cell_type": "code"
   },
   "source": "len(listings[(listings.state.isin(south))].host_id.unique())",
   "execution_count": null,
   "outputs": [
    {
     "output_type": "execute_result",
     "execution_count": 4,
     "data": {
      "text/plain": "13783"
     },
     "metadata": {}
    }
   ]
  },
  {
   "cell_type": "code",
   "metadata": {
    "tags": [],
    "cell_id": "00004-2e259082-888c-4ad6-8824-0d3f5c77ed09",
    "deepnote_to_be_reexecuted": false,
    "source_hash": "acc1320b",
    "execution_start": 1627420211778,
    "execution_millis": 0,
    "deepnote_cell_type": "code"
   },
   "source": "listings = listings[(listings.review_scores_rating.fillna(0) > 0) & (listings.state.isin(south))].reset_index()",
   "execution_count": null,
   "outputs": []
  },
  {
   "cell_type": "code",
   "metadata": {
    "tags": [],
    "cell_id": "00005-7d698f45-61d7-4638-b3be-86e80d0606ef",
    "deepnote_to_be_reexecuted": false,
    "source_hash": "f2b7b283",
    "execution_start": 1627420218436,
    "execution_millis": 206,
    "deepnote_cell_type": "code"
   },
   "source": "listings",
   "execution_count": null,
   "outputs": [
    {
     "output_type": "execute_result",
     "execution_count": 5,
     "data": {
      "application/vnd.deepnote.dataframe.v2+json": {
       "row_count": 13944,
       "column_count": 28,
       "columns": [
        {
         "name": "index",
         "dtype": "int64",
         "stats": {
          "unique_count": 13944,
          "nan_count": 0,
          "min": "0",
          "max": "19109",
          "histogram": [
           {
            "bin_start": 0,
            "bin_end": 1910.9,
            "count": 1361
           },
           {
            "bin_start": 1910.9,
            "bin_end": 3821.8,
            "count": 1141
           },
           {
            "bin_start": 3821.8,
            "bin_end": 5732.700000000001,
            "count": 1243
           },
           {
            "bin_start": 5732.700000000001,
            "bin_end": 7643.6,
            "count": 1258
           },
           {
            "bin_start": 7643.6,
            "bin_end": 9554.5,
            "count": 1102
           },
           {
            "bin_start": 9554.5,
            "bin_end": 11465.400000000001,
            "count": 1417
           },
           {
            "bin_start": 11465.400000000001,
            "bin_end": 13376.300000000001,
            "count": 1575
           },
           {
            "bin_start": 13376.300000000001,
            "bin_end": 15287.2,
            "count": 1540
           },
           {
            "bin_start": 15287.2,
            "bin_end": 17198.100000000002,
            "count": 1632
           },
           {
            "bin_start": 17198.100000000002,
            "bin_end": 19109,
            "count": 1675
           }
          ]
         }
        },
        {
         "name": "accommodates",
         "dtype": "float64",
         "stats": {
          "unique_count": 16,
          "nan_count": 0,
          "min": "1.0",
          "max": "16.0",
          "histogram": [
           {
            "bin_start": 1,
            "bin_end": 2.5,
            "count": 4516
           },
           {
            "bin_start": 2.5,
            "bin_end": 4,
            "count": 1060
           },
           {
            "bin_start": 4,
            "bin_end": 5.5,
            "count": 3935
           },
           {
            "bin_start": 5.5,
            "bin_end": 7,
            "count": 2036
           },
           {
            "bin_start": 7,
            "bin_end": 8.5,
            "count": 1182
           },
           {
            "bin_start": 8.5,
            "bin_end": 10,
            "count": 99
           },
           {
            "bin_start": 10,
            "bin_end": 11.5,
            "count": 598
           },
           {
            "bin_start": 11.5,
            "bin_end": 13,
            "count": 260
           },
           {
            "bin_start": 13,
            "bin_end": 14.5,
            "count": 90
           },
           {
            "bin_start": 14.5,
            "bin_end": 16,
            "count": 168
           }
          ]
         }
        },
        {
         "name": "amenities",
         "dtype": "object",
         "stats": {
          "unique_count": 12367,
          "nan_count": 0,
          "categories": [
           {
            "name": "{}",
            "count": 47
           },
           {
            "name": "{TV,\"Cable TV\",Internet,\"Wireless Internet\",\"Air Conditioning\",Kitchen,\"Free Parking on Premises\",Heating,\"Family/Kid Friendly\",Washer,Dryer,\"Smoke Detector\",\"Carbon Monoxide Detector\",\"Fire Extinguisher\",Essentials,Shampoo,\"24-Hour Check-in\",Hangers,\"Hair Dryer\",Iron,\"Laptop Friendly Workspace\"}",
            "count": 37
           },
           {
            "name": "12365 others",
            "count": 13860
           }
          ]
         }
        },
        {
         "name": "availability_30",
         "dtype": "int64",
         "stats": {
          "unique_count": 31,
          "nan_count": 0,
          "min": "0",
          "max": "30",
          "histogram": [
           {
            "bin_start": 0,
            "bin_end": 3,
            "count": 2931
           },
           {
            "bin_start": 3,
            "bin_end": 6,
            "count": 966
           },
           {
            "bin_start": 6,
            "bin_end": 9,
            "count": 982
           },
           {
            "bin_start": 9,
            "bin_end": 12,
            "count": 1157
           },
           {
            "bin_start": 12,
            "bin_end": 15,
            "count": 1226
           },
           {
            "bin_start": 15,
            "bin_end": 18,
            "count": 1268
           },
           {
            "bin_start": 18,
            "bin_end": 21,
            "count": 1298
           },
           {
            "bin_start": 21,
            "bin_end": 24,
            "count": 1168
           },
           {
            "bin_start": 24,
            "bin_end": 27,
            "count": 943
           },
           {
            "bin_start": 27,
            "bin_end": 30,
            "count": 2005
           }
          ]
         }
        },
        {
         "name": "bathrooms",
         "dtype": "float64",
         "stats": {
          "unique_count": 17,
          "nan_count": 18,
          "min": "0.0",
          "max": "8.0",
          "histogram": [
           {
            "bin_start": 0,
            "bin_end": 0.8,
            "count": 65
           },
           {
            "bin_start": 0.8,
            "bin_end": 1.6,
            "count": 9769
           },
           {
            "bin_start": 1.6,
            "bin_end": 2.4000000000000004,
            "count": 2398
           },
           {
            "bin_start": 2.4000000000000004,
            "bin_end": 3.2,
            "count": 1256
           },
           {
            "bin_start": 3.2,
            "bin_end": 4,
            "count": 210
           },
           {
            "bin_start": 4,
            "bin_end": 4.800000000000001,
            "count": 150
           },
           {
            "bin_start": 4.800000000000001,
            "bin_end": 5.6000000000000005,
            "count": 50
           },
           {
            "bin_start": 5.6000000000000005,
            "bin_end": 6.4,
            "count": 10
           },
           {
            "bin_start": 6.4,
            "bin_end": 7.2,
            "count": 10
           },
           {
            "bin_start": 7.2,
            "bin_end": 8,
            "count": 8
           }
          ]
         }
        },
        {
         "name": "bed_type",
         "dtype": "object",
         "stats": {
          "unique_count": 5,
          "nan_count": 0,
          "categories": [
           {
            "name": "Real Bed",
            "count": 13654
           },
           {
            "name": "Futon",
            "count": 125
           },
           {
            "name": "3 others",
            "count": 165
           }
          ]
         }
        },
        {
         "name": "bedrooms",
         "dtype": "float64",
         "stats": {
          "unique_count": 11,
          "nan_count": 8,
          "min": "0.0",
          "max": "10.0",
          "histogram": [
           {
            "bin_start": 0,
            "bin_end": 1,
            "count": 696
           },
           {
            "bin_start": 1,
            "bin_end": 2,
            "count": 6992
           },
           {
            "bin_start": 2,
            "bin_end": 3,
            "count": 3285
           },
           {
            "bin_start": 3,
            "bin_end": 4,
            "count": 1912
           },
           {
            "bin_start": 4,
            "bin_end": 5,
            "count": 751
           },
           {
            "bin_start": 5,
            "bin_end": 6,
            "count": 198
           },
           {
            "bin_start": 6,
            "bin_end": 7,
            "count": 66
           },
           {
            "bin_start": 7,
            "bin_end": 8,
            "count": 20
           },
           {
            "bin_start": 8,
            "bin_end": 9,
            "count": 6
           },
           {
            "bin_start": 9,
            "bin_end": 10,
            "count": 10
           }
          ]
         }
        },
        {
         "name": "beds",
         "dtype": "float64"
        },
        {
         "name": "cancellation_policy",
         "dtype": "object"
        },
        {
         "name": "city",
         "dtype": "object"
        },
        {
         "name": "host_id",
         "dtype": "int64"
        },
        {
         "name": "id",
         "dtype": "int64"
        },
        {
         "name": "instant_bookable",
         "dtype": "object"
        },
        {
         "name": "latitude",
         "dtype": "float64"
        },
        {
         "name": "longitude",
         "dtype": "float64"
        },
        {
         "name": "metropolitan",
         "dtype": "object"
        },
        {
         "name": "name",
         "dtype": "object"
        },
        {
         "name": "price",
         "dtype": "object"
        },
        {
         "name": "property_type",
         "dtype": "object"
        },
        {
         "name": "review_scores_checkin",
         "dtype": "float64"
        },
        {
         "name": "review_scores_cleanliness",
         "dtype": "float64"
        },
        {
         "name": "review_scores_communication",
         "dtype": "float64"
        },
        {
         "name": "review_scores_location",
         "dtype": "float64"
        },
        {
         "name": "review_scores_rating",
         "dtype": "float64"
        },
        {
         "name": "review_scores_value",
         "dtype": "float64"
        },
        {
         "name": "room_type",
         "dtype": "object"
        },
        {
         "name": "state",
         "dtype": "object"
        },
        {
         "name": "zipcode",
         "dtype": "object"
        },
        {
         "name": "_deepnote_index_column",
         "dtype": "int64"
        }
       ],
       "rows_top": [
        {
         "index": 0,
         "accommodates": 2,
         "amenities": "{\"Wireless Internet\",\"Air Conditioning\",Kitchen,\"Free Parking on Premises\",\"Pets Allowed\",\"Pets liv…",
         "availability_30": 0,
         "bathrooms": 1,
         "bed_type": "Real Bed",
         "bedrooms": 1,
         "beds": 1,
         "cancellation_policy": "moderate",
         "city": "Asheville",
         "host_id": 2600734,
         "id": 665257,
         "instant_bookable": "f",
         "latitude": 35.590783663429114,
         "longitude": -82.59146636997585,
         "metropolitan": "asheville",
         "name": "Lovely cabin, great Asheville spot",
         "price": "$105.00",
         "property_type": "House",
         "review_scores_checkin": 10,
         "review_scores_cleanliness": 9,
         "review_scores_communication": 10,
         "review_scores_location": 9,
         "review_scores_rating": 96,
         "review_scores_value": 10,
         "room_type": "Entire home/apt",
         "state": "NC",
         "zipcode": "28806.0",
         "_deepnote_index_column": 0
        },
        {
         "index": 1,
         "accommodates": 4,
         "amenities": "{TV,\"Cable TV\",Internet,\"Wireless Internet\",\"Air Conditioning\",Kitchen,\"Free Parking on Premises\",D…",
         "availability_30": 17,
         "bathrooms": 1,
         "bed_type": "Real Bed",
         "bedrooms": 1,
         "beds": 2,
         "cancellation_policy": "strict",
         "city": "Asheville",
         "host_id": 4295819,
         "id": 2746729,
         "instant_bookable": "f",
         "latitude": 35.5849679090387,
         "longitude": -82.63219899642931,
         "metropolitan": "asheville",
         "name": "Glamping w HOT TUB + AC!",
         "price": "$125.00",
         "property_type": "Tent",
         "review_scores_checkin": 10,
         "review_scores_cleanliness": 10,
         "review_scores_communication": 10,
         "review_scores_location": 9,
         "review_scores_rating": 96,
         "review_scores_value": 9,
         "room_type": "Entire home/apt",
         "state": "NC",
         "zipcode": "28806.0",
         "_deepnote_index_column": 1
        },
        {
         "index": 4,
         "accommodates": 6,
         "amenities": "{Internet,\"Wireless Internet\",\"Free Parking on Premises\",\"Smoking Allowed\",Heating,\"Family/Kid Frie…",
         "availability_30": 25,
         "bathrooms": 2.5,
         "bed_type": "Real Bed",
         "bedrooms": 1,
         "beds": 6,
         "cancellation_policy": "moderate",
         "city": "Asheville",
         "host_id": 746673,
         "id": 156926,
         "instant_bookable": "f",
         "latitude": 35.57775533585112,
         "longitude": -82.5949955466383,
         "metropolitan": "asheville",
         "name": "Mixed Dorm Bunk at BPS Hostel",
         "price": "$24.00",
         "property_type": "House",
         "review_scores_checkin": 10,
         "review_scores_cleanliness": 9,
         "review_scores_communication": 9,
         "review_scores_location": 9,
         "review_scores_rating": 93,
         "review_scores_value": 10,
         "room_type": "Shared room",
         "state": "NC",
         "zipcode": "28806.0",
         "_deepnote_index_column": 2
        },
        {
         "index": 5,
         "accommodates": 10,
         "amenities": "{TV,\"Cable TV\",Internet,\"Wireless Internet\",\"Air Conditioning\",Kitchen,\"Free Parking on Premises\",\"…",
         "availability_30": 17,
         "bathrooms": 2.5,
         "bed_type": "Real Bed",
         "bedrooms": 4,
         "beds": 5,
         "cancellation_policy": "strict",
         "city": "Asheville",
         "host_id": 9385592,
         "id": 3767793,
         "instant_bookable": "f",
         "latitude": 35.63595306677065,
         "longitude": -82.64939750625399,
         "metropolitan": "asheville",
         "name": "Modern Home - Views - HOT TUB",
         "price": "$105.00",
         "property_type": "House",
         "review_scores_checkin": 9,
         "review_scores_cleanliness": 8,
         "review_scores_communication": 9,
         "review_scores_location": 8,
         "review_scores_rating": 78,
         "review_scores_value": 8,
         "room_type": "Entire home/apt",
         "state": "NC",
         "zipcode": "28806.0",
         "_deepnote_index_column": 3
        },
        {
         "index": 6,
         "accommodates": 2,
         "amenities": "{Internet,\"Wireless Internet\",\"Air Conditioning\",Kitchen,\"Free Parking on Premises\",\"Pets live on t…",
         "availability_30": 16,
         "bathrooms": 1,
         "bed_type": "Real Bed",
         "bedrooms": 1,
         "beds": 1,
         "cancellation_policy": "flexible",
         "city": "Asheville",
         "host_id": 27672030,
         "id": 5927700,
         "instant_bookable": "t",
         "latitude": 35.58987845895936,
         "longitude": -82.58580023698586,
         "metropolitan": "asheville",
         "name": "Bright Suite with Sunroom",
         "price": "$65.00",
         "property_type": "House",
         "review_scores_checkin": 10,
         "review_scores_cleanliness": 10,
         "review_scores_communication": 10,
         "review_scores_location": 9,
         "review_scores_rating": 93,
         "review_scores_value": 9,
         "room_type": "Private room",
         "state": "NC",
         "zipcode": "28806.0",
         "_deepnote_index_column": 4
        },
        {
         "index": 7,
         "accommodates": 2,
         "amenities": "{\"Wireless Internet\",\"Air Conditioning\",Kitchen,\"Free Parking on Premises\",Breakfast,\"Pets live on …",
         "availability_30": 10,
         "bathrooms": 1,
         "bed_type": "Real Bed",
         "bedrooms": 1,
         "beds": 1,
         "cancellation_policy": "moderate",
         "city": "Asheville",
         "host_id": 29622653,
         "id": 6698737,
         "instant_bookable": "t",
         "latitude": 35.57550567356881,
         "longitude": -82.59314187894729,
         "metropolitan": "asheville",
         "name": "Serene, spacious, cozy and clean!",
         "price": "$75.00",
         "property_type": "House",
         "review_scores_checkin": 10,
         "review_scores_cleanliness": 10,
         "review_scores_communication": 10,
         "review_scores_location": 10,
         "review_scores_rating": 98,
         "review_scores_value": 10,
         "room_type": "Private room",
         "state": "NC",
         "zipcode": "28806.0",
         "_deepnote_index_column": 5
        },
        {
         "index": 8,
         "accommodates": 3,
         "amenities": "{\"Wireless Internet\",\"Air Conditioning\",\"Pets live on this property\",Dog(s),Cat(s),Heating,\"Family/…",
         "availability_30": 7,
         "bathrooms": 1,
         "bed_type": "Real Bed",
         "bedrooms": 1,
         "beds": 2,
         "cancellation_policy": "moderate",
         "city": "Asheville",
         "host_id": 14686944,
         "id": 7966916,
         "instant_bookable": "t",
         "latitude": 35.571693460337144,
         "longitude": -82.5884632782837,
         "metropolitan": "asheville",
         "name": "West Asheville top floor sleeps 3",
         "price": "$75.00",
         "property_type": "House",
         "review_scores_checkin": 10,
         "review_scores_cleanliness": 10,
         "review_scores_communication": 10,
         "review_scores_location": 10,
         "review_scores_rating": 99,
         "review_scores_value": 10,
         "room_type": "Private room",
         "state": "NC",
         "zipcode": "28806.0",
         "_deepnote_index_column": 6
        },
        {
         "index": 9,
         "accommodates": 2,
         "amenities": "{Internet,\"Wireless Internet\",Kitchen,\"Free Parking on Premises\",Breakfast,\"Pets live on this prope…",
         "availability_30": 0,
         "bathrooms": 1,
         "bed_type": "Real Bed",
         "bedrooms": 1,
         "beds": 1,
         "cancellation_policy": "strict",
         "city": "Asheville",
         "host_id": 546222,
         "id": 2254521,
         "instant_bookable": "f",
         "latitude": 35.56892841641057,
         "longitude": -82.56834178569086,
         "metropolitan": "asheville",
         "name": "The Mimosa Room",
         "price": "$65.00",
         "property_type": "Bed & Breakfast",
         "review_scores_checkin": 10,
         "review_scores_cleanliness": 9,
         "review_scores_communication": 10,
         "review_scores_location": 10,
         "review_scores_rating": 94,
         "review_scores_value": 9,
         "room_type": "Private room",
         "state": "NC",
         "zipcode": "28806.0",
         "_deepnote_index_column": 7
        },
        {
         "index": 10,
         "accommodates": 1,
         "amenities": "{\"Wireless Internet\",Kitchen,\"Free Parking on Premises\",\"Pets live on this property\",Dog(s),Cat(s),…",
         "availability_30": 27,
         "bathrooms": 1,
         "bed_type": "Real Bed",
         "bedrooms": 1,
         "beds": 1,
         "cancellation_policy": "flexible",
         "city": "Asheville",
         "host_id": 1320865,
         "id": 11392366,
         "instant_bookable": "f",
         "latitude": 35.575915833791704,
         "longitude": -82.57173731775175,
         "metropolitan": "asheville",
         "name": "Eclectic Room with Jacuzzi tub",
         "price": "$45.00",
         "property_type": "House",
         "review_scores_checkin": 10,
         "review_scores_cleanliness": 10,
         "review_scores_communication": 10,
         "review_scores_location": 10,
         "review_scores_rating": 95,
         "review_scores_value": 10,
         "room_type": "Private room",
         "state": "NC",
         "zipcode": "28806.0",
         "_deepnote_index_column": 8
        },
        {
         "index": 11,
         "accommodates": 2,
         "amenities": "{TV,\"Wireless Internet\",\"Air Conditioning\",Kitchen,\"Free Parking on Premises\",Heating,\"Smoke Detect…",
         "availability_30": 30,
         "bathrooms": 1,
         "bed_type": "Real Bed",
         "bedrooms": 1,
         "beds": 1,
         "cancellation_policy": "moderate",
         "city": "Asheville",
         "host_id": 19403133,
         "id": 3781780,
         "instant_bookable": "f",
         "latitude": 35.57588648186341,
         "longitude": -82.58967470239429,
         "metropolitan": "asheville",
         "name": "West Asheville Bound",
         "price": "$45.00",
         "property_type": "House",
         "review_scores_checkin": 10,
         "review_scores_cleanliness": 10,
         "review_scores_communication": 10,
         "review_scores_location": 10,
         "review_scores_rating": 95,
         "review_scores_value": 10,
         "room_type": "Private room",
         "state": "NC",
         "zipcode": "28806.0",
         "_deepnote_index_column": 9
        },
        {
         "index": 12,
         "accommodates": 2,
         "amenities": "{\"Wireless Internet\",\"Air Conditioning\",Kitchen,\"Free Parking on Premises\",Breakfast,\"Pets live on …",
         "availability_30": 28,
         "bathrooms": 1,
         "bed_type": "Real Bed",
         "bedrooms": 1,
         "beds": 1,
         "cancellation_policy": "moderate",
         "city": "Asheville",
         "host_id": 13467372,
         "id": 7132603,
         "instant_bookable": "f",
         "latitude": 35.590795690780666,
         "longitude": -82.58766041489926,
         "metropolitan": "asheville",
         "name": "Squash House",
         "price": "$80.00",
         "property_type": "House",
         "review_scores_checkin": 10,
         "review_scores_cleanliness": 10,
         "review_scores_communication": 10,
         "review_scores_location": 9,
         "review_scores_rating": 95,
         "review_scores_value": 9,
         "room_type": "Private room",
         "state": "NC",
         "zipcode": "28806.0",
         "_deepnote_index_column": 10
        },
        {
         "index": 15,
         "accommodates": 4,
         "amenities": "{TV,Internet,\"Wireless Internet\",\"Air Conditioning\",Kitchen,\"Free Parking on Premises\",Heating,\"Fam…",
         "availability_30": 18,
         "bathrooms": 1,
         "bed_type": "Real Bed",
         "bedrooms": 1,
         "beds": 2,
         "cancellation_policy": "moderate",
         "city": "Asheville",
         "host_id": 8260778,
         "id": 3645277,
         "instant_bookable": "f",
         "latitude": 35.574465782333824,
         "longitude": -82.57383874877281,
         "metropolitan": "asheville",
         "name": "Cozy Cabin Studio Apartment",
         "price": "$85.00",
         "property_type": "House",
         "review_scores_checkin": 10,
         "review_scores_cleanliness": 10,
         "review_scores_communication": 10,
         "review_scores_location": 9,
         "review_scores_rating": 93,
         "review_scores_value": 9,
         "room_type": "Private room",
         "state": "NC",
         "zipcode": "28806.0",
         "_deepnote_index_column": 11
        },
        {
         "index": 17,
         "accommodates": 2,
         "amenities": "{}",
         "availability_30": 0,
         "bathrooms": 1,
         "bed_type": "Real Bed",
         "bedrooms": 1,
         "beds": 1,
         "cancellation_policy": "moderate",
         "city": "Asheville",
         "host_id": 7981022,
         "id": 1493307,
         "instant_bookable": "f",
         "latitude": 35.5733327134815,
         "longitude": -82.57440660089063,
         "metropolitan": "asheville",
         "name": "West Asheville Private Bed and Bath",
         "price": "$58.00",
         "property_type": "House",
         "review_scores_checkin": 10,
         "review_scores_cleanliness": 10,
         "review_scores_communication": 10,
         "review_scores_location": 9,
         "review_scores_rating": 98,
         "review_scores_value": 10,
         "room_type": "Private room",
         "state": "NC",
         "zipcode": "28806.0",
         "_deepnote_index_column": 12
        },
        {
         "index": 18,
         "accommodates": 1,
         "amenities": "{TV,\"Cable TV\",Internet,\"Wireless Internet\",\"Air Conditioning\",Kitchen,\"Pets Allowed\",\"Pets live on…",
         "availability_30": 30,
         "bathrooms": 1.5,
         "bed_type": "Real Bed",
         "bedrooms": 1,
         "beds": 1,
         "cancellation_policy": "moderate",
         "city": "Asheville",
         "host_id": 19133972,
         "id": 4937473,
         "instant_bookable": "f",
         "latitude": 35.586271947583434,
         "longitude": -82.5765590483471,
         "metropolitan": "asheville",
         "name": "Close to everything!!!!!",
         "price": "$110.00",
         "property_type": "House",
         "review_scores_checkin": 10,
         "review_scores_cleanliness": 10,
         "review_scores_communication": 10,
         "review_scores_location": 10,
         "review_scores_rating": 100,
         "review_scores_value": 10,
         "room_type": "Private room",
         "state": "NC",
         "zipcode": "28806.0",
         "_deepnote_index_column": 13
        },
        {
         "index": 19,
         "accommodates": 1,
         "amenities": "{\"Wireless Internet\",\"Air Conditioning\",Kitchen,\"Free Parking on Premises\",Heating,\"Smoke Detector\"…",
         "availability_30": 30,
         "bathrooms": 1,
         "bed_type": "Real Bed",
         "bedrooms": 0,
         "beds": 1,
         "cancellation_policy": "strict",
         "city": "Asheville",
         "host_id": 940569,
         "id": 7712679,
         "instant_bookable": "f",
         "latitude": 35.582880404778706,
         "longitude": -82.59084852615322,
         "metropolitan": "asheville",
         "name": "400+ REVS Apt #7 in Artsy W ASHV!",
         "price": "$65.00",
         "property_type": "Apartment",
         "review_scores_checkin": 10,
         "review_scores_cleanliness": 10,
         "review_scores_communication": 10,
         "review_scores_location": 9,
         "review_scores_rating": 100,
         "review_scores_value": 10,
         "room_type": "Entire home/apt",
         "state": "NC",
         "zipcode": "28806.0",
         "_deepnote_index_column": 14
        },
        {
         "index": 20,
         "accommodates": 2,
         "amenities": "{TV,Internet,\"Wireless Internet\",\"Air Conditioning\",Kitchen,\"Free Parking on Premises\",Heating,\"Fam…",
         "availability_30": 5,
         "bathrooms": 1,
         "bed_type": "Real Bed",
         "bedrooms": 1,
         "beds": 1,
         "cancellation_policy": "strict",
         "city": "Asheville",
         "host_id": 1826173,
         "id": 6054250,
         "instant_bookable": "f",
         "latitude": 35.5751723623533,
         "longitude": -82.57826654426009,
         "metropolitan": "asheville",
         "name": "the rad pad",
         "price": "$111.00",
         "property_type": "Loft",
         "review_scores_checkin": 10,
         "review_scores_cleanliness": 10,
         "review_scores_communication": 10,
         "review_scores_location": 10,
         "review_scores_rating": 99,
         "review_scores_value": 10,
         "room_type": "Entire home/apt",
         "state": "NC",
         "zipcode": "28806.0",
         "_deepnote_index_column": 15
        },
        {
         "index": 21,
         "accommodates": 4,
         "amenities": "{TV,Internet,\"Wireless Internet\",\"Air Conditioning\",Kitchen,\"Free Parking on Premises\",\"Pets Allowe…",
         "availability_30": 10,
         "bathrooms": 1,
         "bed_type": "Real Bed",
         "bedrooms": 2,
         "beds": 2,
         "cancellation_policy": "strict",
         "city": "Asheville",
         "host_id": 32045149,
         "id": 6177422,
         "instant_bookable": "f",
         "latitude": 35.587412485905546,
         "longitude": -82.57695462824034,
         "metropolitan": "asheville",
         "name": "Great location, so cute and cozy",
         "price": "$125.00",
         "property_type": "House",
         "review_scores_checkin": 10,
         "review_scores_cleanliness": 10,
         "review_scores_communication": 10,
         "review_scores_location": 10,
         "review_scores_rating": 99,
         "review_scores_value": 10,
         "room_type": "Entire home/apt",
         "state": "NC",
         "zipcode": "28806.0",
         "_deepnote_index_column": 16
        }
       ],
       "rows_bottom": [
        {
         "index": 19087,
         "accommodates": 4,
         "amenities": "{TV,Internet,\"Wireless Internet\",\"Air conditioning\",Pool,Kitchen,\"Smoking allowed\",\"Pets allowed\",\"…",
         "availability_30": 29,
         "bathrooms": 1,
         "bed_type": "Real Bed",
         "bedrooms": 1,
         "beds": 1,
         "cancellation_policy": "strict",
         "city": "New Orleans",
         "host_id": 96495964,
         "id": 15196410,
         "instant_bookable": "f",
         "latitude": 29.91878109002428,
         "longitude": -90.10914209256433,
         "metropolitan": "new_orleans",
         "name": "Sixth Ward Sanctuary",
         "price": "$150.00",
         "property_type": "Other",
         "review_scores_checkin": 10,
         "review_scores_cleanliness": 10,
         "review_scores_communication": 10,
         "review_scores_location": 10,
         "review_scores_rating": 100,
         "review_scores_value": 10,
         "room_type": "Entire home/apt",
         "state": "LA",
         "zipcode": "70115",
         "_deepnote_index_column": 13926
        },
        {
         "index": 19089,
         "accommodates": 16,
         "amenities": "{TV,\"Wireless Internet\",\"Air conditioning\",Kitchen,Breakfast,Heating,\"Family/kid friendly\",Washer,D…",
         "availability_30": 30,
         "bathrooms": 4,
         "bed_type": "Real Bed",
         "bedrooms": 6,
         "beds": 9,
         "cancellation_policy": "strict",
         "city": "New Orleans",
         "host_id": 74171211,
         "id": 16177259,
         "instant_bookable": "t",
         "latitude": 29.92214966358212,
         "longitude": -90.12169433779086,
         "metropolitan": "new_orleans",
         "name": "Uptown Near Audubon Park - Sleeps 16!",
         "price": "$600.00",
         "property_type": "House",
         "review_scores_checkin": 10,
         "review_scores_cleanliness": 10,
         "review_scores_communication": 10,
         "review_scores_location": 10,
         "review_scores_rating": 100,
         "review_scores_value": 10,
         "room_type": "Entire home/apt",
         "state": "LA",
         "zipcode": "70115",
         "_deepnote_index_column": 13927
        },
        {
         "index": 19091,
         "accommodates": 5,
         "amenities": "{TV,Internet,\"Wireless Internet\",\"Air conditioning\",Kitchen,\"Free parking on premises\",Heating,\"Fam…",
         "availability_30": 29,
         "bathrooms": 1,
         "bed_type": "Real Bed",
         "bedrooms": 2,
         "beds": 3,
         "cancellation_policy": "strict",
         "city": "New Orleans",
         "host_id": 36107764,
         "id": 17667947,
         "instant_bookable": "f",
         "latitude": 29.916016190517396,
         "longitude": -90.1199906264784,
         "metropolitan": "new_orleans",
         "name": "New Orleans Shotgun",
         "price": "$110.00",
         "property_type": "Bungalow",
         "review_scores_checkin": 10,
         "review_scores_cleanliness": 10,
         "review_scores_communication": 10,
         "review_scores_location": 10,
         "review_scores_rating": 100,
         "review_scores_value": 10,
         "room_type": "Entire home/apt",
         "state": "LA",
         "zipcode": "70115",
         "_deepnote_index_column": 13928
        },
        {
         "index": 19092,
         "accommodates": 5,
         "amenities": "{TV,\"Cable TV\",Internet,\"Wireless Internet\",\"Air conditioning\",Kitchen,\"Free parking on premises\",H…",
         "availability_30": 22,
         "bathrooms": 2,
         "bed_type": "Real Bed",
         "bedrooms": 2,
         "beds": 2,
         "cancellation_policy": "strict",
         "city": "New Orleans",
         "host_id": 18775795,
         "id": 15128985,
         "instant_bookable": "f",
         "latitude": 29.918943859542537,
         "longitude": -90.11542885537146,
         "metropolitan": "new_orleans",
         "name": "Uptown Cottage - Walk to the best of New Orleans",
         "price": "$250.00",
         "property_type": "House",
         "review_scores_checkin": 10,
         "review_scores_cleanliness": 10,
         "review_scores_communication": 10,
         "review_scores_location": 10,
         "review_scores_rating": 100,
         "review_scores_value": 10,
         "room_type": "Entire home/apt",
         "state": "LA",
         "zipcode": "70115",
         "_deepnote_index_column": 13929
        },
        {
         "index": 19093,
         "accommodates": 4,
         "amenities": "{TV,Internet,\"Wireless Internet\",\"Air conditioning\",\"Free parking on premises\",Heating,\"Family/kid …",
         "availability_30": 20,
         "bathrooms": 1,
         "bed_type": "Real Bed",
         "bedrooms": 2,
         "beds": 3,
         "cancellation_policy": "moderate",
         "city": "New Orleans",
         "host_id": 115426400,
         "id": 17160443,
         "instant_bookable": "f",
         "latitude": 29.918161764833304,
         "longitude": -90.11512625305276,
         "metropolitan": "new_orleans",
         "name": "Recently Renovated Uptown - Ideal Location",
         "price": "$175.00",
         "property_type": "Apartment",
         "review_scores_checkin": 10,
         "review_scores_cleanliness": 9,
         "review_scores_communication": 10,
         "review_scores_location": 10,
         "review_scores_rating": 100,
         "review_scores_value": 10,
         "room_type": "Entire home/apt",
         "state": "LA",
         "zipcode": "70115",
         "_deepnote_index_column": 13930
        },
        {
         "index": 19094,
         "accommodates": 5,
         "amenities": "{TV,\"Cable TV\",Internet,\"Wireless Internet\",\"Air conditioning\",Kitchen,\"Free parking on premises\",H…",
         "availability_30": 26,
         "bathrooms": 1,
         "bed_type": "Real Bed",
         "bedrooms": 1,
         "beds": 4,
         "cancellation_policy": "flexible",
         "city": "New Orleans",
         "host_id": 5805055,
         "id": 1054165,
         "instant_bookable": "f",
         "latitude": 29.91878033769609,
         "longitude": -90.12968780647496,
         "metropolitan": "new_orleans",
         "name": "Audubon Park Craftsman Cottage",
         "price": "$195.00",
         "property_type": "House",
         "review_scores_checkin": 10,
         "review_scores_cleanliness": 10,
         "review_scores_communication": 10,
         "review_scores_location": 10,
         "review_scores_rating": 98,
         "review_scores_value": 10,
         "room_type": "Entire home/apt",
         "state": "LA",
         "zipcode": "70118",
         "_deepnote_index_column": 13931
        },
        {
         "index": 19095,
         "accommodates": 4,
         "amenities": "{TV,Internet,\"Wireless Internet\",\"Air conditioning\",Kitchen,Heating,Washer,Dryer,\"Smoke detector\",\"…",
         "availability_30": 17,
         "bathrooms": 1,
         "bed_type": "Real Bed",
         "bedrooms": 1,
         "beds": 2,
         "cancellation_policy": "strict",
         "city": "New Orleans",
         "host_id": 25544726,
         "id": 18093143,
         "instant_bookable": "t",
         "latitude": 29.919835815192798,
         "longitude": -90.1035099882608,
         "metropolitan": "new_orleans",
         "name": "NEW! ADORABLE and TOTALLY NOLA home off Magazine!!",
         "price": "$115.00",
         "property_type": "House",
         "review_scores_checkin": 9,
         "review_scores_cleanliness": 10,
         "review_scores_communication": 10,
         "review_scores_location": 10,
         "review_scores_rating": 100,
         "review_scores_value": 10,
         "room_type": "Entire home/apt",
         "state": "LA",
         "zipcode": "70115",
         "_deepnote_index_column": 13932
        },
        {
         "index": 19097,
         "accommodates": 4,
         "amenities": "{TV,\"Cable TV\",Internet,\"Wireless Internet\",\"Air conditioning\",\"Free parking on premises\",Breakfast…",
         "availability_30": 13,
         "bathrooms": 1,
         "bed_type": "Real Bed",
         "bedrooms": 2,
         "beds": 2,
         "cancellation_policy": "strict",
         "city": "New Orleans",
         "host_id": 70196310,
         "id": 12849976,
         "instant_bookable": "f",
         "latitude": 29.92060085553852,
         "longitude": -90.11469382967364,
         "metropolitan": "new_orleans",
         "name": "Sweet Olive Cottage Uptown",
         "price": "$100.00",
         "property_type": "House",
         "review_scores_checkin": 10,
         "review_scores_cleanliness": 10,
         "review_scores_communication": 10,
         "review_scores_location": 10,
         "review_scores_rating": 99,
         "review_scores_value": 10,
         "room_type": "Entire home/apt",
         "state": "LA",
         "zipcode": "70115",
         "_deepnote_index_column": 13933
        },
        {
         "index": 19098,
         "accommodates": 4,
         "amenities": "{Internet,\"Wireless Internet\",\"Air conditioning\",Kitchen,\"Free parking on premises\",Heating,\"Family…",
         "availability_30": 7,
         "bathrooms": 1,
         "bed_type": "Real Bed",
         "bedrooms": 1,
         "beds": 1,
         "cancellation_policy": "moderate",
         "city": "New Orleans",
         "host_id": 45833999,
         "id": 12112674,
         "instant_bookable": "f",
         "latitude": 29.917811867776752,
         "longitude": -90.10401077348038,
         "metropolitan": "new_orleans",
         "name": "Uptown Historic Spot: Location!!!",
         "price": "$70.00",
         "property_type": "Apartment",
         "review_scores_checkin": 10,
         "review_scores_cleanliness": 9,
         "review_scores_communication": 10,
         "review_scores_location": 10,
         "review_scores_rating": 94,
         "review_scores_value": 9,
         "room_type": "Entire home/apt",
         "state": "LA",
         "zipcode": "70115",
         "_deepnote_index_column": 13934
        },
        {
         "index": 19099,
         "accommodates": 4,
         "amenities": "{TV,\"Cable TV\",Internet,\"Wireless Internet\",\"Air conditioning\",\"Free parking on premises\",\"Pets all…",
         "availability_30": 24,
         "bathrooms": 1,
         "bed_type": "Real Bed",
         "bedrooms": 1,
         "beds": 2,
         "cancellation_policy": "strict",
         "city": "New Orleans",
         "host_id": 52864419,
         "id": 12832734,
         "instant_bookable": "f",
         "latitude": 29.917978502958523,
         "longitude": -90.12247015551876,
         "metropolitan": "new_orleans",
         "name": "Uptown & Audubon Park",
         "price": "$115.00",
         "property_type": "House",
         "review_scores_checkin": 10,
         "review_scores_cleanliness": 10,
         "review_scores_communication": 10,
         "review_scores_location": 10,
         "review_scores_rating": 99,
         "review_scores_value": 10,
         "room_type": "Entire home/apt",
         "state": "LA",
         "zipcode": "70115",
         "_deepnote_index_column": 13935
        },
        {
         "index": 19100,
         "accommodates": 8,
         "amenities": "{TV,\"Cable TV\",Internet,\"Wireless Internet\",\"Air conditioning\",Kitchen,\"Indoor fireplace\",Heating,\"…",
         "availability_30": 0,
         "bathrooms": 4,
         "bed_type": "Real Bed",
         "bedrooms": 4,
         "beds": 4,
         "cancellation_policy": "strict",
         "city": "New Orleans",
         "host_id": 26801074,
         "id": 5181902,
         "instant_bookable": "f",
         "latitude": 29.920535895887063,
         "longitude": -90.12083951058298,
         "metropolitan": "new_orleans",
         "name": "Upscale NEW Uptown Home",
         "price": "$1,000.00",
         "property_type": "House",
         "review_scores_checkin": 10,
         "review_scores_cleanliness": 9,
         "review_scores_communication": 10,
         "review_scores_location": 10,
         "review_scores_rating": 90,
         "review_scores_value": 8,
         "room_type": "Entire home/apt",
         "state": "LA",
         "zipcode": "70115",
         "_deepnote_index_column": 13936
        },
        {
         "index": 19101,
         "accommodates": 4,
         "amenities": "{TV,\"Wireless Internet\",\"Air conditioning\",Kitchen,Heating,\"Smoke detector\",\"Carbon monoxide detect…",
         "availability_30": 0,
         "bathrooms": 1,
         "bed_type": "Real Bed",
         "bedrooms": 1,
         "beds": 3,
         "cancellation_policy": "strict",
         "city": "New Orleans",
         "host_id": 76576590,
         "id": 16436630,
         "instant_bookable": "f",
         "latitude": 29.91905896093848,
         "longitude": -90.10388492358686,
         "metropolitan": "new_orleans",
         "name": "Your Mardi Gras spot!",
         "price": "$115.00",
         "property_type": "House",
         "review_scores_checkin": 10,
         "review_scores_cleanliness": 10,
         "review_scores_communication": 10,
         "review_scores_location": 10,
         "review_scores_rating": 97,
         "review_scores_value": 10,
         "room_type": "Entire home/apt",
         "state": "LA",
         "zipcode": "70115",
         "_deepnote_index_column": 13937
        },
        {
         "index": 19102,
         "accommodates": 8,
         "amenities": "{TV,\"Cable TV\",Internet,\"Wireless Internet\",\"Air conditioning\",Kitchen,\"Free parking on premises\",H…",
         "availability_30": 0,
         "bathrooms": 2,
         "bed_type": "Real Bed",
         "bedrooms": 3,
         "beds": 5,
         "cancellation_policy": "strict",
         "city": "New Orleans",
         "host_id": 30382672,
         "id": 8556834,
         "instant_bookable": "f",
         "latitude": 29.917217527925622,
         "longitude": -90.10416157540196,
         "metropolitan": "new_orleans",
         "name": "Creole Cottage Steps to Magazine! Sleeps up to 8!",
         "price": "$160.00",
         "property_type": "House",
         "review_scores_checkin": 10,
         "review_scores_cleanliness": 10,
         "review_scores_communication": 10,
         "review_scores_location": 10,
         "review_scores_rating": 99,
         "review_scores_value": 10,
         "room_type": "Entire home/apt",
         "state": "LA",
         "zipcode": "70115",
         "_deepnote_index_column": 13938
        },
        {
         "index": 19103,
         "accommodates": 6,
         "amenities": "{TV,\"Wireless Internet\",\"Air conditioning\",Kitchen,\"Free parking on premises\",Heating,\"Family/kid f…",
         "availability_30": 1,
         "bathrooms": 2,
         "bed_type": "Real Bed",
         "bedrooms": 2,
         "beds": 2,
         "cancellation_policy": "moderate",
         "city": "New Orleans",
         "host_id": 102916790,
         "id": 15873973,
         "instant_bookable": "t",
         "latitude": 29.920528289239268,
         "longitude": -90.1023250358372,
         "metropolitan": "new_orleans",
         "name": "Spacious House, Perfect Location Near Everything!",
         "price": "$162.00",
         "property_type": "Apartment",
         "review_scores_checkin": 10,
         "review_scores_cleanliness": 10,
         "review_scores_communication": 10,
         "review_scores_location": 10,
         "review_scores_rating": 100,
         "review_scores_value": 9,
         "room_type": "Entire home/apt",
         "state": "LA",
         "zipcode": "70115",
         "_deepnote_index_column": 13939
        },
        {
         "index": 19104,
         "accommodates": 2,
         "amenities": "{TV,\"Cable TV\",\"Air conditioning\",Kitchen,Heating,Washer,Dryer,\"Smoke detector\",Essentials,Shampoo,…",
         "availability_30": 21,
         "bathrooms": 1,
         "bed_type": "Real Bed",
         "bedrooms": 1,
         "beds": 1,
         "cancellation_policy": "flexible",
         "city": "New Orleans",
         "host_id": 122678107,
         "id": 17902750,
         "instant_bookable": "t",
         "latitude": 30.04400428306256,
         "longitude": -89.92851912552736,
         "metropolitan": "new_orleans",
         "name": "Cozy 1 Bedroom With Everything!",
         "price": "$65.00",
         "property_type": "House",
         "review_scores_checkin": 10,
         "review_scores_cleanliness": 9,
         "review_scores_communication": 10,
         "review_scores_location": 7,
         "review_scores_rating": 90,
         "review_scores_value": 9,
         "room_type": "Private room",
         "state": "LA",
         "zipcode": "70129",
         "_deepnote_index_column": 13940
        },
        {
         "index": 19105,
         "accommodates": 6,
         "amenities": "{TV,\"Cable TV\",Internet,\"Wireless Internet\",\"Air conditioning\",Kitchen,\"Free parking on premises\",H…",
         "availability_30": 29,
         "bathrooms": 2,
         "bed_type": "Real Bed",
         "bedrooms": 3,
         "beds": 5,
         "cancellation_policy": "moderate",
         "city": "New Orleans",
         "host_id": 53724682,
         "id": 10430455,
         "instant_bookable": "f",
         "latitude": 30.05656309086359,
         "longitude": -89.92500081939602,
         "metropolitan": "new_orleans",
         "name": "Big EZ Bungalow",
         "price": "$200.00",
         "property_type": "House",
         "review_scores_checkin": 10,
         "review_scores_cleanliness": 10,
         "review_scores_communication": 10,
         "review_scores_location": 8,
         "review_scores_rating": 98,
         "review_scores_value": 9,
         "room_type": "Entire home/apt",
         "state": "LA",
         "zipcode": "70129",
         "_deepnote_index_column": 13941
        },
        {
         "index": 19106,
         "accommodates": 8,
         "amenities": "{TV,\"Air conditioning\",\"Wheelchair accessible\",Kitchen,\"Free parking on premises\",\"Elevator in buil…",
         "availability_30": 23,
         "bathrooms": 2.5,
         "bed_type": "Real Bed",
         "bedrooms": 3,
         "beds": 3,
         "cancellation_policy": "flexible",
         "city": "New Orleans",
         "host_id": 62928713,
         "id": 11816662,
         "instant_bookable": "f",
         "latitude": 30.05433271112252,
         "longitude": -89.8785004785753,
         "metropolitan": "new_orleans",
         "name": "Blessed",
         "price": "$300.00",
         "property_type": "House",
         "review_scores_checkin": 10,
         "review_scores_cleanliness": 10,
         "review_scores_communication": 10,
         "review_scores_location": 10,
         "review_scores_rating": 100,
         "review_scores_value": 10,
         "room_type": "Entire home/apt",
         "state": "LA",
         "zipcode": "70129",
         "_deepnote_index_column": 13942
        },
        {
         "index": 19109,
         "accommodates": 3,
         "amenities": "{TV,\"Wireless Internet\",\"Air conditioning\",\"Free parking on premises\",\"Pets allowed\",Heating,\"Famil…",
         "availability_30": 28,
         "bathrooms": 1,
         "bed_type": "Real Bed",
         "bedrooms": 0,
         "beds": 1,
         "cancellation_policy": "strict",
         "city": "Arabi",
         "host_id": 131027427,
         "id": 18818878,
         "instant_bookable": "t",
         "latitude": 29.96618975317017,
         "longitude": -90.00096057662876,
         "metropolitan": "new_orleans",
         "name": "Arabi Cottage",
         "price": "$99.00",
         "property_type": "Guesthouse",
         "review_scores_checkin": 10,
         "review_scores_cleanliness": 10,
         "review_scores_communication": 10,
         "review_scores_location": 10,
         "review_scores_rating": 100,
         "review_scores_value": 10,
         "room_type": "Entire home/apt",
         "state": "LA",
         "zipcode": "70032",
         "_deepnote_index_column": 13943
        }
       ]
      },
      "text/plain": "       index  accommodates                                          amenities  \\\n0          0           2.0  {\"Wireless Internet\",\"Air Conditioning\",Kitche...   \n1          1           4.0  {TV,\"Cable TV\",Internet,\"Wireless Internet\",\"A...   \n2          4           6.0  {Internet,\"Wireless Internet\",\"Free Parking on...   \n3          5          10.0  {TV,\"Cable TV\",Internet,\"Wireless Internet\",\"A...   \n4          6           2.0  {Internet,\"Wireless Internet\",\"Air Conditionin...   \n...      ...           ...                                                ...   \n13939  19103           6.0  {TV,\"Wireless Internet\",\"Air conditioning\",Kit...   \n13940  19104           2.0  {TV,\"Cable TV\",\"Air conditioning\",Kitchen,Heat...   \n13941  19105           6.0  {TV,\"Cable TV\",Internet,\"Wireless Internet\",\"A...   \n13942  19106           8.0  {TV,\"Air conditioning\",\"Wheelchair accessible\"...   \n13943  19109           3.0  {TV,\"Wireless Internet\",\"Air conditioning\",\"Fr...   \n\n       availability_30  bathrooms  bed_type  bedrooms  beds  \\\n0                    0        1.0  Real Bed       1.0   1.0   \n1                   17        1.0  Real Bed       1.0   2.0   \n2                   25        2.5  Real Bed       1.0   6.0   \n3                   17        2.5  Real Bed       4.0   5.0   \n4                   16        1.0  Real Bed       1.0   1.0   \n...                ...        ...       ...       ...   ...   \n13939                1        2.0  Real Bed       2.0   2.0   \n13940               21        1.0  Real Bed       1.0   1.0   \n13941               29        2.0  Real Bed       3.0   5.0   \n13942               23        2.5  Real Bed       3.0   3.0   \n13943               28        1.0  Real Bed       0.0   1.0   \n\n      cancellation_policy         city  ...  property_type  \\\n0                moderate    Asheville  ...          House   \n1                  strict    Asheville  ...           Tent   \n2                moderate    Asheville  ...          House   \n3                  strict    Asheville  ...          House   \n4                flexible    Asheville  ...          House   \n...                   ...          ...  ...            ...   \n13939            moderate  New Orleans  ...      Apartment   \n13940            flexible  New Orleans  ...          House   \n13941            moderate  New Orleans  ...          House   \n13942            flexible  New Orleans  ...          House   \n13943              strict        Arabi  ...     Guesthouse   \n\n       review_scores_checkin review_scores_cleanliness  \\\n0                       10.0                       9.0   \n1                       10.0                      10.0   \n2                       10.0                       9.0   \n3                        9.0                       8.0   \n4                       10.0                      10.0   \n...                      ...                       ...   \n13939                   10.0                      10.0   \n13940                   10.0                       9.0   \n13941                   10.0                      10.0   \n13942                   10.0                      10.0   \n13943                   10.0                      10.0   \n\n       review_scores_communication  review_scores_location  \\\n0                             10.0                     9.0   \n1                             10.0                     9.0   \n2                              9.0                     9.0   \n3                              9.0                     8.0   \n4                             10.0                     9.0   \n...                            ...                     ...   \n13939                         10.0                    10.0   \n13940                         10.0                     7.0   \n13941                         10.0                     8.0   \n13942                         10.0                    10.0   \n13943                         10.0                    10.0   \n\n      review_scores_rating review_scores_value        room_type state  zipcode  \n0                     96.0                10.0  Entire home/apt    NC  28806.0  \n1                     96.0                 9.0  Entire home/apt    NC  28806.0  \n2                     93.0                10.0      Shared room    NC  28806.0  \n3                     78.0                 8.0  Entire home/apt    NC  28806.0  \n4                     93.0                 9.0     Private room    NC  28806.0  \n...                    ...                 ...              ...   ...      ...  \n13939                100.0                 9.0  Entire home/apt    LA    70115  \n13940                 90.0                 9.0     Private room    LA    70129  \n13941                 98.0                 9.0  Entire home/apt    LA    70129  \n13942                100.0                10.0  Entire home/apt    LA    70129  \n13943                100.0                10.0  Entire home/apt    LA    70032  \n\n[13944 rows x 28 columns]",
      "text/html": "<div>\n<style scoped>\n    .dataframe tbody tr th:only-of-type {\n        vertical-align: middle;\n    }\n\n    .dataframe tbody tr th {\n        vertical-align: top;\n    }\n\n    .dataframe thead th {\n        text-align: right;\n    }\n</style>\n<table border=\"1\" class=\"dataframe\">\n  <thead>\n    <tr style=\"text-align: right;\">\n      <th></th>\n      <th>index</th>\n      <th>accommodates</th>\n      <th>amenities</th>\n      <th>availability_30</th>\n      <th>bathrooms</th>\n      <th>bed_type</th>\n      <th>bedrooms</th>\n      <th>beds</th>\n      <th>cancellation_policy</th>\n      <th>city</th>\n      <th>...</th>\n      <th>property_type</th>\n      <th>review_scores_checkin</th>\n      <th>review_scores_cleanliness</th>\n      <th>review_scores_communication</th>\n      <th>review_scores_location</th>\n      <th>review_scores_rating</th>\n      <th>review_scores_value</th>\n      <th>room_type</th>\n      <th>state</th>\n      <th>zipcode</th>\n    </tr>\n  </thead>\n  <tbody>\n    <tr>\n      <th>0</th>\n      <td>0</td>\n      <td>2.0</td>\n      <td>{\"Wireless Internet\",\"Air Conditioning\",Kitche...</td>\n      <td>0</td>\n      <td>1.0</td>\n      <td>Real Bed</td>\n      <td>1.0</td>\n      <td>1.0</td>\n      <td>moderate</td>\n      <td>Asheville</td>\n      <td>...</td>\n      <td>House</td>\n      <td>10.0</td>\n      <td>9.0</td>\n      <td>10.0</td>\n      <td>9.0</td>\n      <td>96.0</td>\n      <td>10.0</td>\n      <td>Entire home/apt</td>\n      <td>NC</td>\n      <td>28806.0</td>\n    </tr>\n    <tr>\n      <th>1</th>\n      <td>1</td>\n      <td>4.0</td>\n      <td>{TV,\"Cable TV\",Internet,\"Wireless Internet\",\"A...</td>\n      <td>17</td>\n      <td>1.0</td>\n      <td>Real Bed</td>\n      <td>1.0</td>\n      <td>2.0</td>\n      <td>strict</td>\n      <td>Asheville</td>\n      <td>...</td>\n      <td>Tent</td>\n      <td>10.0</td>\n      <td>10.0</td>\n      <td>10.0</td>\n      <td>9.0</td>\n      <td>96.0</td>\n      <td>9.0</td>\n      <td>Entire home/apt</td>\n      <td>NC</td>\n      <td>28806.0</td>\n    </tr>\n    <tr>\n      <th>2</th>\n      <td>4</td>\n      <td>6.0</td>\n      <td>{Internet,\"Wireless Internet\",\"Free Parking on...</td>\n      <td>25</td>\n      <td>2.5</td>\n      <td>Real Bed</td>\n      <td>1.0</td>\n      <td>6.0</td>\n      <td>moderate</td>\n      <td>Asheville</td>\n      <td>...</td>\n      <td>House</td>\n      <td>10.0</td>\n      <td>9.0</td>\n      <td>9.0</td>\n      <td>9.0</td>\n      <td>93.0</td>\n      <td>10.0</td>\n      <td>Shared room</td>\n      <td>NC</td>\n      <td>28806.0</td>\n    </tr>\n    <tr>\n      <th>3</th>\n      <td>5</td>\n      <td>10.0</td>\n      <td>{TV,\"Cable TV\",Internet,\"Wireless Internet\",\"A...</td>\n      <td>17</td>\n      <td>2.5</td>\n      <td>Real Bed</td>\n      <td>4.0</td>\n      <td>5.0</td>\n      <td>strict</td>\n      <td>Asheville</td>\n      <td>...</td>\n      <td>House</td>\n      <td>9.0</td>\n      <td>8.0</td>\n      <td>9.0</td>\n      <td>8.0</td>\n      <td>78.0</td>\n      <td>8.0</td>\n      <td>Entire home/apt</td>\n      <td>NC</td>\n      <td>28806.0</td>\n    </tr>\n    <tr>\n      <th>4</th>\n      <td>6</td>\n      <td>2.0</td>\n      <td>{Internet,\"Wireless Internet\",\"Air Conditionin...</td>\n      <td>16</td>\n      <td>1.0</td>\n      <td>Real Bed</td>\n      <td>1.0</td>\n      <td>1.0</td>\n      <td>flexible</td>\n      <td>Asheville</td>\n      <td>...</td>\n      <td>House</td>\n      <td>10.0</td>\n      <td>10.0</td>\n      <td>10.0</td>\n      <td>9.0</td>\n      <td>93.0</td>\n      <td>9.0</td>\n      <td>Private room</td>\n      <td>NC</td>\n      <td>28806.0</td>\n    </tr>\n    <tr>\n      <th>...</th>\n      <td>...</td>\n      <td>...</td>\n      <td>...</td>\n      <td>...</td>\n      <td>...</td>\n      <td>...</td>\n      <td>...</td>\n      <td>...</td>\n      <td>...</td>\n      <td>...</td>\n      <td>...</td>\n      <td>...</td>\n      <td>...</td>\n      <td>...</td>\n      <td>...</td>\n      <td>...</td>\n      <td>...</td>\n      <td>...</td>\n      <td>...</td>\n      <td>...</td>\n      <td>...</td>\n    </tr>\n    <tr>\n      <th>13939</th>\n      <td>19103</td>\n      <td>6.0</td>\n      <td>{TV,\"Wireless Internet\",\"Air conditioning\",Kit...</td>\n      <td>1</td>\n      <td>2.0</td>\n      <td>Real Bed</td>\n      <td>2.0</td>\n      <td>2.0</td>\n      <td>moderate</td>\n      <td>New Orleans</td>\n      <td>...</td>\n      <td>Apartment</td>\n      <td>10.0</td>\n      <td>10.0</td>\n      <td>10.0</td>\n      <td>10.0</td>\n      <td>100.0</td>\n      <td>9.0</td>\n      <td>Entire home/apt</td>\n      <td>LA</td>\n      <td>70115</td>\n    </tr>\n    <tr>\n      <th>13940</th>\n      <td>19104</td>\n      <td>2.0</td>\n      <td>{TV,\"Cable TV\",\"Air conditioning\",Kitchen,Heat...</td>\n      <td>21</td>\n      <td>1.0</td>\n      <td>Real Bed</td>\n      <td>1.0</td>\n      <td>1.0</td>\n      <td>flexible</td>\n      <td>New Orleans</td>\n      <td>...</td>\n      <td>House</td>\n      <td>10.0</td>\n      <td>9.0</td>\n      <td>10.0</td>\n      <td>7.0</td>\n      <td>90.0</td>\n      <td>9.0</td>\n      <td>Private room</td>\n      <td>LA</td>\n      <td>70129</td>\n    </tr>\n    <tr>\n      <th>13941</th>\n      <td>19105</td>\n      <td>6.0</td>\n      <td>{TV,\"Cable TV\",Internet,\"Wireless Internet\",\"A...</td>\n      <td>29</td>\n      <td>2.0</td>\n      <td>Real Bed</td>\n      <td>3.0</td>\n      <td>5.0</td>\n      <td>moderate</td>\n      <td>New Orleans</td>\n      <td>...</td>\n      <td>House</td>\n      <td>10.0</td>\n      <td>10.0</td>\n      <td>10.0</td>\n      <td>8.0</td>\n      <td>98.0</td>\n      <td>9.0</td>\n      <td>Entire home/apt</td>\n      <td>LA</td>\n      <td>70129</td>\n    </tr>\n    <tr>\n      <th>13942</th>\n      <td>19106</td>\n      <td>8.0</td>\n      <td>{TV,\"Air conditioning\",\"Wheelchair accessible\"...</td>\n      <td>23</td>\n      <td>2.5</td>\n      <td>Real Bed</td>\n      <td>3.0</td>\n      <td>3.0</td>\n      <td>flexible</td>\n      <td>New Orleans</td>\n      <td>...</td>\n      <td>House</td>\n      <td>10.0</td>\n      <td>10.0</td>\n      <td>10.0</td>\n      <td>10.0</td>\n      <td>100.0</td>\n      <td>10.0</td>\n      <td>Entire home/apt</td>\n      <td>LA</td>\n      <td>70129</td>\n    </tr>\n    <tr>\n      <th>13943</th>\n      <td>19109</td>\n      <td>3.0</td>\n      <td>{TV,\"Wireless Internet\",\"Air conditioning\",\"Fr...</td>\n      <td>28</td>\n      <td>1.0</td>\n      <td>Real Bed</td>\n      <td>0.0</td>\n      <td>1.0</td>\n      <td>strict</td>\n      <td>Arabi</td>\n      <td>...</td>\n      <td>Guesthouse</td>\n      <td>10.0</td>\n      <td>10.0</td>\n      <td>10.0</td>\n      <td>10.0</td>\n      <td>100.0</td>\n      <td>10.0</td>\n      <td>Entire home/apt</td>\n      <td>LA</td>\n      <td>70032</td>\n    </tr>\n  </tbody>\n</table>\n<p>13944 rows × 28 columns</p>\n</div>"
     },
     "metadata": {}
    }
   ]
  },
  {
   "cell_type": "code",
   "metadata": {
    "tags": [],
    "cell_id": "00005-97174868-d45c-4653-bf90-e2f095780dbd",
    "deepnote_to_be_reexecuted": false,
    "source_hash": "1c3b79",
    "execution_start": 1627420419373,
    "execution_millis": 20,
    "deepnote_cell_type": "code"
   },
   "source": "id_col = listings[['id']]\nid_col",
   "execution_count": null,
   "outputs": [
    {
     "output_type": "execute_result",
     "execution_count": 6,
     "data": {
      "application/vnd.deepnote.dataframe.v2+json": {
       "row_count": 13944,
       "column_count": 1,
       "columns": [
        {
         "name": "id",
         "dtype": "int64",
         "stats": {
          "unique_count": 13944,
          "nan_count": 0,
          "min": "1078",
          "max": "18825625",
          "histogram": [
           {
            "bin_start": 1078,
            "bin_end": 1883532.7,
            "count": 1661
           },
           {
            "bin_start": 1883532.7,
            "bin_end": 3765987.4,
            "count": 1148
           },
           {
            "bin_start": 3765987.4,
            "bin_end": 5648442.1,
            "count": 1786
           },
           {
            "bin_start": 5648442.1,
            "bin_end": 7530896.8,
            "count": 1247
           },
           {
            "bin_start": 7530896.8,
            "bin_end": 9413351.5,
            "count": 1428
           },
           {
            "bin_start": 9413351.5,
            "bin_end": 11295806.2,
            "count": 1364
           },
           {
            "bin_start": 11295806.2,
            "bin_end": 13178260.9,
            "count": 1522
           },
           {
            "bin_start": 13178260.9,
            "bin_end": 15060715.6,
            "count": 1503
           },
           {
            "bin_start": 15060715.6,
            "bin_end": 16943170.3,
            "count": 1502
           },
           {
            "bin_start": 16943170.3,
            "bin_end": 18825625,
            "count": 783
           }
          ]
         }
        },
        {
         "name": "_deepnote_index_column",
         "dtype": "int64"
        }
       ],
       "rows_top": [
        {
         "id": 665257,
         "_deepnote_index_column": 0
        },
        {
         "id": 2746729,
         "_deepnote_index_column": 1
        },
        {
         "id": 156926,
         "_deepnote_index_column": 2
        },
        {
         "id": 3767793,
         "_deepnote_index_column": 3
        },
        {
         "id": 5927700,
         "_deepnote_index_column": 4
        },
        {
         "id": 6698737,
         "_deepnote_index_column": 5
        },
        {
         "id": 7966916,
         "_deepnote_index_column": 6
        },
        {
         "id": 2254521,
         "_deepnote_index_column": 7
        },
        {
         "id": 11392366,
         "_deepnote_index_column": 8
        },
        {
         "id": 3781780,
         "_deepnote_index_column": 9
        },
        {
         "id": 7132603,
         "_deepnote_index_column": 10
        },
        {
         "id": 3645277,
         "_deepnote_index_column": 11
        },
        {
         "id": 1493307,
         "_deepnote_index_column": 12
        },
        {
         "id": 4937473,
         "_deepnote_index_column": 13
        },
        {
         "id": 7712679,
         "_deepnote_index_column": 14
        },
        {
         "id": 6054250,
         "_deepnote_index_column": 15
        },
        {
         "id": 6177422,
         "_deepnote_index_column": 16
        },
        {
         "id": 612660,
         "_deepnote_index_column": 17
        },
        {
         "id": 4764715,
         "_deepnote_index_column": 18
        },
        {
         "id": 11284356,
         "_deepnote_index_column": 19
        },
        {
         "id": 8282917,
         "_deepnote_index_column": 20
        },
        {
         "id": 1785262,
         "_deepnote_index_column": 21
        },
        {
         "id": 11653712,
         "_deepnote_index_column": 22
        },
        {
         "id": 5131525,
         "_deepnote_index_column": 23
        },
        {
         "id": 5354494,
         "_deepnote_index_column": 24
        },
        {
         "id": 12250733,
         "_deepnote_index_column": 25
        },
        {
         "id": 3741771,
         "_deepnote_index_column": 26
        },
        {
         "id": 9756931,
         "_deepnote_index_column": 27
        },
        {
         "id": 6480745,
         "_deepnote_index_column": 28
        },
        {
         "id": 4662490,
         "_deepnote_index_column": 29
        },
        {
         "id": 4830661,
         "_deepnote_index_column": 30
        },
        {
         "id": 8895397,
         "_deepnote_index_column": 31
        },
        {
         "id": 1332684,
         "_deepnote_index_column": 32
        },
        {
         "id": 2454666,
         "_deepnote_index_column": 33
        },
        {
         "id": 6599654,
         "_deepnote_index_column": 34
        },
        {
         "id": 2761822,
         "_deepnote_index_column": 35
        },
        {
         "id": 8403131,
         "_deepnote_index_column": 36
        },
        {
         "id": 1948744,
         "_deepnote_index_column": 37
        },
        {
         "id": 3984596,
         "_deepnote_index_column": 38
        },
        {
         "id": 3574658,
         "_deepnote_index_column": 39
        },
        {
         "id": 2843256,
         "_deepnote_index_column": 40
        },
        {
         "id": 9344195,
         "_deepnote_index_column": 41
        },
        {
         "id": 6015623,
         "_deepnote_index_column": 42
        },
        {
         "id": 3544255,
         "_deepnote_index_column": 43
        },
        {
         "id": 6234618,
         "_deepnote_index_column": 44
        },
        {
         "id": 7995120,
         "_deepnote_index_column": 45
        },
        {
         "id": 3889212,
         "_deepnote_index_column": 46
        },
        {
         "id": 6741903,
         "_deepnote_index_column": 47
        },
        {
         "id": 597424,
         "_deepnote_index_column": 48
        },
        {
         "id": 10335139,
         "_deepnote_index_column": 49
        },
        {
         "id": 9592262,
         "_deepnote_index_column": 50
        },
        {
         "id": 6214161,
         "_deepnote_index_column": 51
        },
        {
         "id": 8051829,
         "_deepnote_index_column": 52
        },
        {
         "id": 8362668,
         "_deepnote_index_column": 53
        },
        {
         "id": 3455514,
         "_deepnote_index_column": 54
        },
        {
         "id": 6776511,
         "_deepnote_index_column": 55
        },
        {
         "id": 8246075,
         "_deepnote_index_column": 56
        },
        {
         "id": 156805,
         "_deepnote_index_column": 57
        },
        {
         "id": 7045303,
         "_deepnote_index_column": 58
        },
        {
         "id": 2605290,
         "_deepnote_index_column": 59
        },
        {
         "id": 881707,
         "_deepnote_index_column": 60
        },
        {
         "id": 6197585,
         "_deepnote_index_column": 61
        },
        {
         "id": 8265544,
         "_deepnote_index_column": 62
        },
        {
         "id": 266511,
         "_deepnote_index_column": 63
        },
        {
         "id": 3522532,
         "_deepnote_index_column": 64
        },
        {
         "id": 3522134,
         "_deepnote_index_column": 65
        },
        {
         "id": 3569783,
         "_deepnote_index_column": 66
        },
        {
         "id": 1422958,
         "_deepnote_index_column": 67
        },
        {
         "id": 5231708,
         "_deepnote_index_column": 68
        },
        {
         "id": 6071161,
         "_deepnote_index_column": 69
        },
        {
         "id": 9442229,
         "_deepnote_index_column": 70
        },
        {
         "id": 11545230,
         "_deepnote_index_column": 71
        },
        {
         "id": 7361005,
         "_deepnote_index_column": 72
        },
        {
         "id": 353092,
         "_deepnote_index_column": 73
        },
        {
         "id": 4215788,
         "_deepnote_index_column": 74
        },
        {
         "id": 1076053,
         "_deepnote_index_column": 75
        },
        {
         "id": 8426203,
         "_deepnote_index_column": 76
        },
        {
         "id": 9476164,
         "_deepnote_index_column": 77
        },
        {
         "id": 6325103,
         "_deepnote_index_column": 78
        },
        {
         "id": 9967584,
         "_deepnote_index_column": 79
        },
        {
         "id": 4249688,
         "_deepnote_index_column": 80
        },
        {
         "id": 2142139,
         "_deepnote_index_column": 81
        },
        {
         "id": 7387243,
         "_deepnote_index_column": 82
        },
        {
         "id": 10545839,
         "_deepnote_index_column": 83
        },
        {
         "id": 7001873,
         "_deepnote_index_column": 84
        },
        {
         "id": 761414,
         "_deepnote_index_column": 85
        },
        {
         "id": 6332993,
         "_deepnote_index_column": 86
        },
        {
         "id": 6822844,
         "_deepnote_index_column": 87
        },
        {
         "id": 1127777,
         "_deepnote_index_column": 88
        },
        {
         "id": 2176375,
         "_deepnote_index_column": 89
        },
        {
         "id": 8576671,
         "_deepnote_index_column": 90
        },
        {
         "id": 67870,
         "_deepnote_index_column": 91
        },
        {
         "id": 8505396,
         "_deepnote_index_column": 92
        },
        {
         "id": 2500681,
         "_deepnote_index_column": 93
        },
        {
         "id": 8496052,
         "_deepnote_index_column": 94
        },
        {
         "id": 2192480,
         "_deepnote_index_column": 95
        },
        {
         "id": 9532795,
         "_deepnote_index_column": 96
        },
        {
         "id": 197263,
         "_deepnote_index_column": 97
        },
        {
         "id": 3268055,
         "_deepnote_index_column": 98
        },
        {
         "id": 4387472,
         "_deepnote_index_column": 99
        },
        {
         "id": 136547,
         "_deepnote_index_column": 100
        },
        {
         "id": 6419437,
         "_deepnote_index_column": 101
        },
        {
         "id": 8504628,
         "_deepnote_index_column": 102
        },
        {
         "id": 2298596,
         "_deepnote_index_column": 103
        },
        {
         "id": 10647402,
         "_deepnote_index_column": 104
        },
        {
         "id": 726625,
         "_deepnote_index_column": 105
        },
        {
         "id": 4362574,
         "_deepnote_index_column": 106
        },
        {
         "id": 155305,
         "_deepnote_index_column": 107
        },
        {
         "id": 3319125,
         "_deepnote_index_column": 108
        },
        {
         "id": 2283071,
         "_deepnote_index_column": 109
        },
        {
         "id": 7543799,
         "_deepnote_index_column": 110
        },
        {
         "id": 1290287,
         "_deepnote_index_column": 111
        },
        {
         "id": 213006,
         "_deepnote_index_column": 112
        },
        {
         "id": 11730986,
         "_deepnote_index_column": 113
        },
        {
         "id": 284690,
         "_deepnote_index_column": 114
        },
        {
         "id": 7616053,
         "_deepnote_index_column": 115
        },
        {
         "id": 3403609,
         "_deepnote_index_column": 116
        },
        {
         "id": 8656299,
         "_deepnote_index_column": 117
        },
        {
         "id": 6581976,
         "_deepnote_index_column": 118
        },
        {
         "id": 5506704,
         "_deepnote_index_column": 119
        },
        {
         "id": 1343289,
         "_deepnote_index_column": 120
        },
        {
         "id": 11839089,
         "_deepnote_index_column": 121
        },
        {
         "id": 5567613,
         "_deepnote_index_column": 122
        },
        {
         "id": 6869926,
         "_deepnote_index_column": 123
        },
        {
         "id": 7665164,
         "_deepnote_index_column": 124
        },
        {
         "id": 5559498,
         "_deepnote_index_column": 125
        },
        {
         "id": 7665386,
         "_deepnote_index_column": 126
        },
        {
         "id": 3896614,
         "_deepnote_index_column": 127
        },
        {
         "id": 9756504,
         "_deepnote_index_column": 128
        },
        {
         "id": 9757192,
         "_deepnote_index_column": 129
        },
        {
         "id": 1422683,
         "_deepnote_index_column": 130
        },
        {
         "id": 5598622,
         "_deepnote_index_column": 131
        },
        {
         "id": 7674957,
         "_deepnote_index_column": 132
        },
        {
         "id": 7676458,
         "_deepnote_index_column": 133
        },
        {
         "id": 1393437,
         "_deepnote_index_column": 134
        },
        {
         "id": 9826677,
         "_deepnote_index_column": 135
        },
        {
         "id": 11905157,
         "_deepnote_index_column": 136
        },
        {
         "id": 7693393,
         "_deepnote_index_column": 137
        },
        {
         "id": 8794816,
         "_deepnote_index_column": 138
        },
        {
         "id": 942934,
         "_deepnote_index_column": 139
        },
        {
         "id": 6706665,
         "_deepnote_index_column": 140
        },
        {
         "id": 5681510,
         "_deepnote_index_column": 141
        },
        {
         "id": 10901464,
         "_deepnote_index_column": 142
        },
        {
         "id": 5792634,
         "_deepnote_index_column": 143
        },
        {
         "id": 7757846,
         "_deepnote_index_column": 144
        },
        {
         "id": 539020,
         "_deepnote_index_column": 145
        },
        {
         "id": 7895827,
         "_deepnote_index_column": 146
        },
        {
         "id": 7872461,
         "_deepnote_index_column": 147
        },
        {
         "id": 11061388,
         "_deepnote_index_column": 148
        },
        {
         "id": 2691057,
         "_deepnote_index_column": 149
        },
        {
         "id": 3741932,
         "_deepnote_index_column": 150
        },
        {
         "id": 1618610,
         "_deepnote_index_column": 151
        },
        {
         "id": 3771939,
         "_deepnote_index_column": 152
        },
        {
         "id": 5873862,
         "_deepnote_index_column": 153
        },
        {
         "id": 6715120,
         "_deepnote_index_column": 154
        },
        {
         "id": 5885284,
         "_deepnote_index_column": 155
        },
        {
         "id": 3821004,
         "_deepnote_index_column": 156
        },
        {
         "id": 725030,
         "_deepnote_index_column": 157
        },
        {
         "id": 6972023,
         "_deepnote_index_column": 158
        },
        {
         "id": 638349,
         "_deepnote_index_column": 159
        },
        {
         "id": 9903083,
         "_deepnote_index_column": 160
        },
        {
         "id": 718084,
         "_deepnote_index_column": 161
        },
        {
         "id": 3868452,
         "_deepnote_index_column": 162
        },
        {
         "id": 11208688,
         "_deepnote_index_column": 163
        },
        {
         "id": 8064417,
         "_deepnote_index_column": 164
        },
        {
         "id": 4931736,
         "_deepnote_index_column": 165
        },
        {
         "id": 5890497,
         "_deepnote_index_column": 166
        },
        {
         "id": 9131234,
         "_deepnote_index_column": 167
        },
        {
         "id": 5716399,
         "_deepnote_index_column": 168
        },
        {
         "id": 8841337,
         "_deepnote_index_column": 169
        },
        {
         "id": 3095136,
         "_deepnote_index_column": 170
        },
        {
         "id": 768598,
         "_deepnote_index_column": 171
        },
        {
         "id": 7064317,
         "_deepnote_index_column": 172
        },
        {
         "id": 11259371,
         "_deepnote_index_column": 173
        },
        {
         "id": 4984181,
         "_deepnote_index_column": 174
        },
        {
         "id": 6566070,
         "_deepnote_index_column": 175
        },
        {
         "id": 1325364,
         "_deepnote_index_column": 176
        },
        {
         "id": 11291801,
         "_deepnote_index_column": 177
        },
        {
         "id": 2943116,
         "_deepnote_index_column": 178
        },
        {
         "id": 2949571,
         "_deepnote_index_column": 179
        },
        {
         "id": 11343133,
         "_deepnote_index_column": 180
        },
        {
         "id": 10298936,
         "_deepnote_index_column": 181
        },
        {
         "id": 3990524,
         "_deepnote_index_column": 182
        },
        {
         "id": 6813265,
         "_deepnote_index_column": 183
        },
        {
         "id": 1950593,
         "_deepnote_index_column": 184
        },
        {
         "id": 6150459,
         "_deepnote_index_column": 185
        },
        {
         "id": 11396796,
         "_deepnote_index_column": 186
        },
        {
         "id": 5114762,
         "_deepnote_index_column": 187
        },
        {
         "id": 3018908,
         "_deepnote_index_column": 188
        },
        {
         "id": 5464591,
         "_deepnote_index_column": 189
        },
        {
         "id": 7276342,
         "_deepnote_index_column": 190
        },
        {
         "id": 10476149,
         "_deepnote_index_column": 191
        },
        {
         "id": 2014453,
         "_deepnote_index_column": 192
        },
        {
         "id": 817865,
         "_deepnote_index_column": 193
        },
        {
         "id": 5152307,
         "_deepnote_index_column": 194
        },
        {
         "id": 9884274,
         "_deepnote_index_column": 195
        },
        {
         "id": 1497710,
         "_deepnote_index_column": 196
        },
        {
         "id": 3089882,
         "_deepnote_index_column": 197
        },
        {
         "id": 6765734,
         "_deepnote_index_column": 198
        },
        {
         "id": 6765832,
         "_deepnote_index_column": 199
        },
        {
         "id": 4145255,
         "_deepnote_index_column": 200
        },
        {
         "id": 3575037,
         "_deepnote_index_column": 201
        },
        {
         "id": 1004031,
         "_deepnote_index_column": 202
        },
        {
         "id": 7839268,
         "_deepnote_index_column": 203
        },
        {
         "id": 7850593,
         "_deepnote_index_column": 204
        },
        {
         "id": 6805663,
         "_deepnote_index_column": 205
        },
        {
         "id": 6813187,
         "_deepnote_index_column": 206
        },
        {
         "id": 4304361,
         "_deepnote_index_column": 207
        },
        {
         "id": 8310318,
         "_deepnote_index_column": 208
        },
        {
         "id": 634319,
         "_deepnote_index_column": 209
        },
        {
         "id": 4279383,
         "_deepnote_index_column": 210
        },
        {
         "id": 8842798,
         "_deepnote_index_column": 211
        },
        {
         "id": 624166,
         "_deepnote_index_column": 212
        },
        {
         "id": 11195394,
         "_deepnote_index_column": 213
        },
        {
         "id": 6829875,
         "_deepnote_index_column": 214
        },
        {
         "id": 4311472,
         "_deepnote_index_column": 215
        },
        {
         "id": 4304358,
         "_deepnote_index_column": 216
        },
        {
         "id": 4587394,
         "_deepnote_index_column": 217
        },
        {
         "id": 5929486,
         "_deepnote_index_column": 218
        },
        {
         "id": 6227094,
         "_deepnote_index_column": 219
        },
        {
         "id": 1312301,
         "_deepnote_index_column": 220
        },
        {
         "id": 3454237,
         "_deepnote_index_column": 221
        },
        {
         "id": 8523449,
         "_deepnote_index_column": 222
        },
        {
         "id": 674894,
         "_deepnote_index_column": 223
        },
        {
         "id": 5532718,
         "_deepnote_index_column": 224
        },
        {
         "id": 2793430,
         "_deepnote_index_column": 225
        },
        {
         "id": 8533890,
         "_deepnote_index_column": 226
        },
        {
         "id": 8193368,
         "_deepnote_index_column": 227
        },
        {
         "id": 2213748,
         "_deepnote_index_column": 228
        },
        {
         "id": 11573022,
         "_deepnote_index_column": 229
        },
        {
         "id": 180510,
         "_deepnote_index_column": 230
        },
        {
         "id": 4226713,
         "_deepnote_index_column": 231
        },
        {
         "id": 9445588,
         "_deepnote_index_column": 232
        },
        {
         "id": 11618840,
         "_deepnote_index_column": 233
        },
        {
         "id": 11677327,
         "_deepnote_index_column": 234
        },
        {
         "id": 8486613,
         "_deepnote_index_column": 235
        },
        {
         "id": 3867523,
         "_deepnote_index_column": 236
        },
        {
         "id": 5344892,
         "_deepnote_index_column": 237
        },
        {
         "id": 4320996,
         "_deepnote_index_column": 238
        },
        {
         "id": 1151149,
         "_deepnote_index_column": 239
        },
        {
         "id": 8533404,
         "_deepnote_index_column": 240
        },
        {
         "id": 8555124,
         "_deepnote_index_column": 241
        },
        {
         "id": 5696919,
         "_deepnote_index_column": 242
        },
        {
         "id": 6464944,
         "_deepnote_index_column": 243
        },
        {
         "id": 3372382,
         "_deepnote_index_column": 244
        },
        {
         "id": 1275224,
         "_deepnote_index_column": 245
        },
        {
         "id": 246315,
         "_deepnote_index_column": 246
        },
        {
         "id": 4928835,
         "_deepnote_index_column": 247
        },
        {
         "id": 9651170,
         "_deepnote_index_column": 248
        },
        {
         "id": 1297717,
         "_deepnote_index_column": 249
        },
        {
         "id": 10684883,
         "_deepnote_index_column": 250
        },
        {
         "id": 3888845,
         "_deepnote_index_column": 251
        },
        {
         "id": 3402624,
         "_deepnote_index_column": 252
        },
        {
         "id": 259576,
         "_deepnote_index_column": 253
        },
        {
         "id": 4484272,
         "_deepnote_index_column": 254
        },
        {
         "id": 1370539,
         "_deepnote_index_column": 255
        },
        {
         "id": 5143684,
         "_deepnote_index_column": 256
        },
        {
         "id": 6686924,
         "_deepnote_index_column": 257
        },
        {
         "id": 405981,
         "_deepnote_index_column": 258
        },
        {
         "id": 8799413,
         "_deepnote_index_column": 259
        },
        {
         "id": 5772947,
         "_deepnote_index_column": 260
        },
        {
         "id": 4285157,
         "_deepnote_index_column": 261
        },
        {
         "id": 6869894,
         "_deepnote_index_column": 262
        },
        {
         "id": 2790381,
         "_deepnote_index_column": 263
        },
        {
         "id": 5830892,
         "_deepnote_index_column": 264
        },
        {
         "id": 4811980,
         "_deepnote_index_column": 265
        },
        {
         "id": 11477676,
         "_deepnote_index_column": 266
        },
        {
         "id": 2751374,
         "_deepnote_index_column": 267
        },
        {
         "id": 3812545,
         "_deepnote_index_column": 268
        },
        {
         "id": 1684109,
         "_deepnote_index_column": 269
        },
        {
         "id": 8534163,
         "_deepnote_index_column": 270
        },
        {
         "id": 4831087,
         "_deepnote_index_column": 271
        },
        {
         "id": 4874279,
         "_deepnote_index_column": 272
        },
        {
         "id": 3655370,
         "_deepnote_index_column": 273
        },
        {
         "id": 1788770,
         "_deepnote_index_column": 274
        },
        {
         "id": 3935444,
         "_deepnote_index_column": 275
        },
        {
         "id": 7103096,
         "_deepnote_index_column": 276
        },
        {
         "id": 7630648,
         "_deepnote_index_column": 277
        },
        {
         "id": 10785231,
         "_deepnote_index_column": 278
        },
        {
         "id": 8208540,
         "_deepnote_index_column": 279
        },
        {
         "id": 11363447,
         "_deepnote_index_column": 280
        },
        {
         "id": 9062255,
         "_deepnote_index_column": 281
        },
        {
         "id": 4044976,
         "_deepnote_index_column": 282
        },
        {
         "id": 5124601,
         "_deepnote_index_column": 283
        },
        {
         "id": 2605869,
         "_deepnote_index_column": 284
        },
        {
         "id": 5151226,
         "_deepnote_index_column": 285
        },
        {
         "id": 12143952,
         "_deepnote_index_column": 286
        },
        {
         "id": 6258968,
         "_deepnote_index_column": 287
        },
        {
         "id": 7840094,
         "_deepnote_index_column": 288
        },
        {
         "id": 9944111,
         "_deepnote_index_column": 289
        },
        {
         "id": 6290666,
         "_deepnote_index_column": 290
        },
        {
         "id": 7970419,
         "_deepnote_index_column": 291
        },
        {
         "id": 846221,
         "_deepnote_index_column": 292
        },
        {
         "id": 1320834,
         "_deepnote_index_column": 293
        },
        {
         "id": 4448604,
         "_deepnote_index_column": 294
        },
        {
         "id": 8085716,
         "_deepnote_index_column": 295
        },
        {
         "id": 8848367,
         "_deepnote_index_column": 296
        },
        {
         "id": 8030827,
         "_deepnote_index_column": 297
        },
        {
         "id": 6004216,
         "_deepnote_index_column": 298
        },
        {
         "id": 1654188,
         "_deepnote_index_column": 299
        },
        {
         "id": 11862680,
         "_deepnote_index_column": 300
        },
        {
         "id": 7984387,
         "_deepnote_index_column": 301
        },
        {
         "id": 11980345,
         "_deepnote_index_column": 302
        },
        {
         "id": 7956588,
         "_deepnote_index_column": 303
        },
        {
         "id": 4363562,
         "_deepnote_index_column": 304
        },
        {
         "id": 7000847,
         "_deepnote_index_column": 305
        },
        {
         "id": 8848210,
         "_deepnote_index_column": 306
        },
        {
         "id": 4129119,
         "_deepnote_index_column": 307
        },
        {
         "id": 4045013,
         "_deepnote_index_column": 308
        },
        {
         "id": 11356858,
         "_deepnote_index_column": 309
        },
        {
         "id": 854833,
         "_deepnote_index_column": 310
        },
        {
         "id": 10781486,
         "_deepnote_index_column": 311
        },
        {
         "id": 1492077,
         "_deepnote_index_column": 312
        },
        {
         "id": 826076,
         "_deepnote_index_column": 313
        },
        {
         "id": 1282834,
         "_deepnote_index_column": 314
        },
        {
         "id": 1272147,
         "_deepnote_index_column": 315
        },
        {
         "id": 8593311,
         "_deepnote_index_column": 316
        },
        {
         "id": 6601781,
         "_deepnote_index_column": 317
        },
        {
         "id": 1408631,
         "_deepnote_index_column": 318
        },
        {
         "id": 6107573,
         "_deepnote_index_column": 319
        },
        {
         "id": 6915829,
         "_deepnote_index_column": 320
        },
        {
         "id": 3893957,
         "_deepnote_index_column": 321
        },
        {
         "id": 3924937,
         "_deepnote_index_column": 322
        },
        {
         "id": 6184213,
         "_deepnote_index_column": 323
        },
        {
         "id": 4108784,
         "_deepnote_index_column": 324
        },
        {
         "id": 8732095,
         "_deepnote_index_column": 325
        },
        {
         "id": 11320916,
         "_deepnote_index_column": 326
        },
        {
         "id": 3986614,
         "_deepnote_index_column": 327
        },
        {
         "id": 3424947,
         "_deepnote_index_column": 328
        },
        {
         "id": 7340132,
         "_deepnote_index_column": 329
        },
        {
         "id": 7347299,
         "_deepnote_index_column": 330
        },
        {
         "id": 1066156,
         "_deepnote_index_column": 331
        },
        {
         "id": 7366707,
         "_deepnote_index_column": 332
        },
        {
         "id": 38585,
         "_deepnote_index_column": 333
        },
        {
         "id": 10527873,
         "_deepnote_index_column": 334
        },
        {
         "id": 10577264,
         "_deepnote_index_column": 335
        },
        {
         "id": 7090481,
         "_deepnote_index_column": 336
        },
        {
         "id": 8472769,
         "_deepnote_index_column": 337
        },
        {
         "id": 3268390,
         "_deepnote_index_column": 338
        },
        {
         "id": 8513468,
         "_deepnote_index_column": 339
        },
        {
         "id": 7500265,
         "_deepnote_index_column": 340
        },
        {
         "id": 3297865,
         "_deepnote_index_column": 341
        },
        {
         "id": 5395353,
         "_deepnote_index_column": 342
        },
        {
         "id": 1020781,
         "_deepnote_index_column": 343
        },
        {
         "id": 5481195,
         "_deepnote_index_column": 344
        },
        {
         "id": 209068,
         "_deepnote_index_column": 345
        },
        {
         "id": 12094196,
         "_deepnote_index_column": 346
        },
        {
         "id": 6540096,
         "_deepnote_index_column": 347
        },
        {
         "id": 1297625,
         "_deepnote_index_column": 348
        },
        {
         "id": 8588136,
         "_deepnote_index_column": 349
        },
        {
         "id": 4394670,
         "_deepnote_index_column": 350
        },
        {
         "id": 7612231,
         "_deepnote_index_column": 351
        },
        {
         "id": 6574072,
         "_deepnote_index_column": 352
        },
        {
         "id": 8671346,
         "_deepnote_index_column": 353
        },
        {
         "id": 5537769,
         "_deepnote_index_column": 354
        },
        {
         "id": 304379,
         "_deepnote_index_column": 355
        },
        {
         "id": 7662484,
         "_deepnote_index_column": 356
        },
        {
         "id": 3116699,
         "_deepnote_index_column": 357
        },
        {
         "id": 2432326,
         "_deepnote_index_column": 358
        },
        {
         "id": 815068,
         "_deepnote_index_column": 359
        },
        {
         "id": 9773778,
         "_deepnote_index_column": 360
        },
        {
         "id": 11882197,
         "_deepnote_index_column": 361
        },
        {
         "id": 6713809,
         "_deepnote_index_column": 362
        },
        {
         "id": 12093776,
         "_deepnote_index_column": 363
        },
        {
         "id": 5822540,
         "_deepnote_index_column": 364
        },
        {
         "id": 1651509,
         "_deepnote_index_column": 365
        },
        {
         "id": 9022733,
         "_deepnote_index_column": 366
        },
        {
         "id": 642204,
         "_deepnote_index_column": 367
        },
        {
         "id": 7997863,
         "_deepnote_index_column": 368
        },
        {
         "id": 7998973,
         "_deepnote_index_column": 369
        },
        {
         "id": 660702,
         "_deepnote_index_column": 370
        },
        {
         "id": 3852773,
         "_deepnote_index_column": 371
        },
        {
         "id": 11202166,
         "_deepnote_index_column": 372
        },
        {
         "id": 3888565,
         "_deepnote_index_column": 373
        },
        {
         "id": 7035619,
         "_deepnote_index_column": 374
        },
        {
         "id": 2072026,
         "_deepnote_index_column": 375
        },
        {
         "id": 1813448,
         "_deepnote_index_column": 376
        },
        {
         "id": 9243493,
         "_deepnote_index_column": 377
        },
        {
         "id": 6056098,
         "_deepnote_index_column": 378
        },
        {
         "id": 11802559,
         "_deepnote_index_column": 379
        },
        {
         "id": 1843828,
         "_deepnote_index_column": 380
        },
        {
         "id": 1475299,
         "_deepnote_index_column": 381
        },
        {
         "id": 3961524,
         "_deepnote_index_column": 382
        },
        {
         "id": 3968877,
         "_deepnote_index_column": 383
        },
        {
         "id": 2987695,
         "_deepnote_index_column": 384
        },
        {
         "id": 6791922,
         "_deepnote_index_column": 385
        },
        {
         "id": 1956037,
         "_deepnote_index_column": 386
        },
        {
         "id": 4173713,
         "_deepnote_index_column": 387
        },
        {
         "id": 7262543,
         "_deepnote_index_column": 388
        },
        {
         "id": 3084395,
         "_deepnote_index_column": 389
        },
        {
         "id": 5193198,
         "_deepnote_index_column": 390
        },
        {
         "id": 12010137,
         "_deepnote_index_column": 391
        },
        {
         "id": 8209965,
         "_deepnote_index_column": 392
        },
        {
         "id": 1011345,
         "_deepnote_index_column": 393
        },
        {
         "id": 1020827,
         "_deepnote_index_column": 394
        },
        {
         "id": 12041570,
         "_deepnote_index_column": 395
        },
        {
         "id": 6275127,
         "_deepnote_index_column": 396
        },
        {
         "id": 7327245,
         "_deepnote_index_column": 397
        },
        {
         "id": 8114694,
         "_deepnote_index_column": 398
        },
        {
         "id": 7859259,
         "_deepnote_index_column": 399
        },
        {
         "id": 620049,
         "_deepnote_index_column": 400
        },
        {
         "id": 653777,
         "_deepnote_index_column": 401
        },
        {
         "id": 2854224,
         "_deepnote_index_column": 402
        },
        {
         "id": 11510567,
         "_deepnote_index_column": 403
        },
        {
         "id": 9382487,
         "_deepnote_index_column": 404
        },
        {
         "id": 10353058,
         "_deepnote_index_column": 405
        },
        {
         "id": 6413234,
         "_deepnote_index_column": 406
        },
        {
         "id": 1577750,
         "_deepnote_index_column": 407
        },
        {
         "id": 6170347,
         "_deepnote_index_column": 408
        },
        {
         "id": 1608910,
         "_deepnote_index_column": 409
        },
        {
         "id": 12290379,
         "_deepnote_index_column": 410
        },
        {
         "id": 1489492,
         "_deepnote_index_column": 411
        },
        {
         "id": 6613345,
         "_deepnote_index_column": 412
        },
        {
         "id": 8206090,
         "_deepnote_index_column": 413
        },
        {
         "id": 4288329,
         "_deepnote_index_column": 414
        },
        {
         "id": 326772,
         "_deepnote_index_column": 415
        },
        {
         "id": 483384,
         "_deepnote_index_column": 416
        },
        {
         "id": 1421061,
         "_deepnote_index_column": 417
        },
        {
         "id": 1039028,
         "_deepnote_index_column": 418
        },
        {
         "id": 3590634,
         "_deepnote_index_column": 419
        },
        {
         "id": 4124504,
         "_deepnote_index_column": 420
        },
        {
         "id": 8721288,
         "_deepnote_index_column": 421
        },
        {
         "id": 11938223,
         "_deepnote_index_column": 422
        },
        {
         "id": 5480168,
         "_deepnote_index_column": 423
        },
        {
         "id": 11259192,
         "_deepnote_index_column": 424
        },
        {
         "id": 976034,
         "_deepnote_index_column": 425
        },
        {
         "id": 6970329,
         "_deepnote_index_column": 426
        },
        {
         "id": 4593058,
         "_deepnote_index_column": 427
        },
        {
         "id": 5868695,
         "_deepnote_index_column": 428
        },
        {
         "id": 7938930,
         "_deepnote_index_column": 429
        },
        {
         "id": 1283471,
         "_deepnote_index_column": 430
        },
        {
         "id": 6869019,
         "_deepnote_index_column": 431
        },
        {
         "id": 7940019,
         "_deepnote_index_column": 432
        },
        {
         "id": 9959660,
         "_deepnote_index_column": 433
        },
        {
         "id": 295496,
         "_deepnote_index_column": 434
        },
        {
         "id": 1054757,
         "_deepnote_index_column": 435
        },
        {
         "id": 11553531,
         "_deepnote_index_column": 436
        },
        {
         "id": 8408823,
         "_deepnote_index_column": 437
        },
        {
         "id": 7367841,
         "_deepnote_index_column": 438
        },
        {
         "id": 8427121,
         "_deepnote_index_column": 439
        },
        {
         "id": 6335114,
         "_deepnote_index_column": 440
        },
        {
         "id": 5073757,
         "_deepnote_index_column": 441
        },
        {
         "id": 4234376,
         "_deepnote_index_column": 442
        },
        {
         "id": 4895765,
         "_deepnote_index_column": 443
        },
        {
         "id": 1107378,
         "_deepnote_index_column": 444
        },
        {
         "id": 5279661,
         "_deepnote_index_column": 445
        },
        {
         "id": 4241484,
         "_deepnote_index_column": 446
        },
        {
         "id": 7403286,
         "_deepnote_index_column": 447
        },
        {
         "id": 8453951,
         "_deepnote_index_column": 448
        },
        {
         "id": 7001662,
         "_deepnote_index_column": 449
        },
        {
         "id": 8266788,
         "_deepnote_index_column": 450
        },
        {
         "id": 80331,
         "_deepnote_index_column": 451
        },
        {
         "id": 3220474,
         "_deepnote_index_column": 452
        },
        {
         "id": 5333015,
         "_deepnote_index_column": 453
        },
        {
         "id": 6431917,
         "_deepnote_index_column": 454
        },
        {
         "id": 10635789,
         "_deepnote_index_column": 455
        },
        {
         "id": 3314819,
         "_deepnote_index_column": 456
        },
        {
         "id": 11646130,
         "_deepnote_index_column": 457
        },
        {
         "id": 11709950,
         "_deepnote_index_column": 458
        },
        {
         "id": 11728697,
         "_deepnote_index_column": 459
        },
        {
         "id": 6487537,
         "_deepnote_index_column": 460
        },
        {
         "id": 563189,
         "_deepnote_index_column": 461
        },
        {
         "id": 216365,
         "_deepnote_index_column": 462
        },
        {
         "id": 1301155,
         "_deepnote_index_column": 463
        },
        {
         "id": 4429169,
         "_deepnote_index_column": 464
        },
        {
         "id": 11751815,
         "_deepnote_index_column": 465
        },
        {
         "id": 257865,
         "_deepnote_index_column": 466
        },
        {
         "id": 4464909,
         "_deepnote_index_column": 467
        },
        {
         "id": 273534,
         "_deepnote_index_column": 468
        },
        {
         "id": 6567381,
         "_deepnote_index_column": 469
        },
        {
         "id": 11842218,
         "_deepnote_index_column": 470
        },
        {
         "id": 4572330,
         "_deepnote_index_column": 471
        },
        {
         "id": 11078421,
         "_deepnote_index_column": 472
        },
        {
         "id": 2694546,
         "_deepnote_index_column": 473
        },
        {
         "id": 7938548,
         "_deepnote_index_column": 474
        },
        {
         "id": 7939277,
         "_deepnote_index_column": 475
        },
        {
         "id": 6880952,
         "_deepnote_index_column": 476
        },
        {
         "id": 10243227,
         "_deepnote_index_column": 477
        },
        {
         "id": 2761044,
         "_deepnote_index_column": 478
        },
        {
         "id": 667683,
         "_deepnote_index_column": 479
        },
        {
         "id": 3302863,
         "_deepnote_index_column": 480
        },
        {
         "id": 5226605,
         "_deepnote_index_column": 481
        },
        {
         "id": 7116152,
         "_deepnote_index_column": 482
        },
        {
         "id": 2087403,
         "_deepnote_index_column": 483
        },
        {
         "id": 7116063,
         "_deepnote_index_column": 484
        },
        {
         "id": 8303605,
         "_deepnote_index_column": 485
        },
        {
         "id": 4039010,
         "_deepnote_index_column": 486
        },
        {
         "id": 4060879,
         "_deepnote_index_column": 487
        },
        {
         "id": 8192328,
         "_deepnote_index_column": 488
        },
        {
         "id": 8274661,
         "_deepnote_index_column": 489
        },
        {
         "id": 427497,
         "_deepnote_index_column": 490
        },
        {
         "id": 11962915,
         "_deepnote_index_column": 491
        },
        {
         "id": 11440752,
         "_deepnote_index_column": 492
        },
        {
         "id": 6724476,
         "_deepnote_index_column": 493
        },
        {
         "id": 8838165,
         "_deepnote_index_column": 494
        },
        {
         "id": 4182500,
         "_deepnote_index_column": 495
        },
        {
         "id": 7853605,
         "_deepnote_index_column": 496
        },
        {
         "id": 2087894,
         "_deepnote_index_column": 497
        },
        {
         "id": 1852818,
         "_deepnote_index_column": 498
        },
        {
         "id": 632766,
         "_deepnote_index_column": 499
        }
       ],
       "rows_bottom": [
        {
         "id": 54254,
         "_deepnote_index_column": 13444
        },
        {
         "id": 11097091,
         "_deepnote_index_column": 13445
        },
        {
         "id": 3132909,
         "_deepnote_index_column": 13446
        },
        {
         "id": 11571800,
         "_deepnote_index_column": 13447
        },
        {
         "id": 2904492,
         "_deepnote_index_column": 13448
        },
        {
         "id": 12308940,
         "_deepnote_index_column": 13449
        },
        {
         "id": 6704809,
         "_deepnote_index_column": 13450
        },
        {
         "id": 16556662,
         "_deepnote_index_column": 13451
        },
        {
         "id": 9883188,
         "_deepnote_index_column": 13452
        },
        {
         "id": 14502533,
         "_deepnote_index_column": 13453
        },
        {
         "id": 82930,
         "_deepnote_index_column": 13454
        },
        {
         "id": 82922,
         "_deepnote_index_column": 13455
        },
        {
         "id": 1322796,
         "_deepnote_index_column": 13456
        },
        {
         "id": 853954,
         "_deepnote_index_column": 13457
        },
        {
         "id": 14673608,
         "_deepnote_index_column": 13458
        },
        {
         "id": 1396690,
         "_deepnote_index_column": 13459
        },
        {
         "id": 16646171,
         "_deepnote_index_column": 13460
        },
        {
         "id": 16171254,
         "_deepnote_index_column": 13461
        },
        {
         "id": 18273635,
         "_deepnote_index_column": 13462
        },
        {
         "id": 10308937,
         "_deepnote_index_column": 13463
        },
        {
         "id": 13225260,
         "_deepnote_index_column": 13464
        },
        {
         "id": 5884803,
         "_deepnote_index_column": 13465
        },
        {
         "id": 5606025,
         "_deepnote_index_column": 13466
        },
        {
         "id": 6146331,
         "_deepnote_index_column": 13467
        },
        {
         "id": 14385509,
         "_deepnote_index_column": 13468
        },
        {
         "id": 16976348,
         "_deepnote_index_column": 13469
        },
        {
         "id": 16614865,
         "_deepnote_index_column": 13470
        },
        {
         "id": 6374026,
         "_deepnote_index_column": 13471
        },
        {
         "id": 18464223,
         "_deepnote_index_column": 13472
        },
        {
         "id": 5486993,
         "_deepnote_index_column": 13473
        },
        {
         "id": 8255513,
         "_deepnote_index_column": 13474
        },
        {
         "id": 17364953,
         "_deepnote_index_column": 13475
        },
        {
         "id": 9139220,
         "_deepnote_index_column": 13476
        },
        {
         "id": 17071032,
         "_deepnote_index_column": 13477
        },
        {
         "id": 4879130,
         "_deepnote_index_column": 13478
        },
        {
         "id": 9909559,
         "_deepnote_index_column": 13479
        },
        {
         "id": 2762807,
         "_deepnote_index_column": 13480
        },
        {
         "id": 5681448,
         "_deepnote_index_column": 13481
        },
        {
         "id": 14053633,
         "_deepnote_index_column": 13482
        },
        {
         "id": 15298727,
         "_deepnote_index_column": 13483
        },
        {
         "id": 10266773,
         "_deepnote_index_column": 13484
        },
        {
         "id": 17150015,
         "_deepnote_index_column": 13485
        },
        {
         "id": 5058414,
         "_deepnote_index_column": 13486
        },
        {
         "id": 9594752,
         "_deepnote_index_column": 13487
        },
        {
         "id": 6121281,
         "_deepnote_index_column": 13488
        },
        {
         "id": 17295146,
         "_deepnote_index_column": 13489
        },
        {
         "id": 8758731,
         "_deepnote_index_column": 13490
        },
        {
         "id": 2107965,
         "_deepnote_index_column": 13491
        },
        {
         "id": 11493482,
         "_deepnote_index_column": 13492
        },
        {
         "id": 16146405,
         "_deepnote_index_column": 13493
        },
        {
         "id": 10494439,
         "_deepnote_index_column": 13494
        },
        {
         "id": 9232747,
         "_deepnote_index_column": 13495
        },
        {
         "id": 16015720,
         "_deepnote_index_column": 13496
        },
        {
         "id": 10591715,
         "_deepnote_index_column": 13497
        },
        {
         "id": 10247337,
         "_deepnote_index_column": 13498
        },
        {
         "id": 9067071,
         "_deepnote_index_column": 13499
        },
        {
         "id": 11573570,
         "_deepnote_index_column": 13500
        },
        {
         "id": 17403458,
         "_deepnote_index_column": 13501
        },
        {
         "id": 873676,
         "_deepnote_index_column": 13502
        },
        {
         "id": 14603160,
         "_deepnote_index_column": 13503
        },
        {
         "id": 5919429,
         "_deepnote_index_column": 13504
        },
        {
         "id": 8491645,
         "_deepnote_index_column": 13505
        },
        {
         "id": 3542387,
         "_deepnote_index_column": 13506
        },
        {
         "id": 16812394,
         "_deepnote_index_column": 13507
        },
        {
         "id": 17041563,
         "_deepnote_index_column": 13508
        },
        {
         "id": 17582705,
         "_deepnote_index_column": 13509
        },
        {
         "id": 18450172,
         "_deepnote_index_column": 13510
        },
        {
         "id": 5146156,
         "_deepnote_index_column": 13511
        },
        {
         "id": 16942583,
         "_deepnote_index_column": 13512
        },
        {
         "id": 18449758,
         "_deepnote_index_column": 13513
        },
        {
         "id": 18039866,
         "_deepnote_index_column": 13514
        },
        {
         "id": 5145415,
         "_deepnote_index_column": 13515
        },
        {
         "id": 2226543,
         "_deepnote_index_column": 13516
        },
        {
         "id": 17254767,
         "_deepnote_index_column": 13517
        },
        {
         "id": 14729175,
         "_deepnote_index_column": 13518
        },
        {
         "id": 15801847,
         "_deepnote_index_column": 13519
        },
        {
         "id": 4847704,
         "_deepnote_index_column": 13520
        },
        {
         "id": 13316977,
         "_deepnote_index_column": 13521
        },
        {
         "id": 17396486,
         "_deepnote_index_column": 13522
        },
        {
         "id": 16739443,
         "_deepnote_index_column": 13523
        },
        {
         "id": 16082963,
         "_deepnote_index_column": 13524
        },
        {
         "id": 18755643,
         "_deepnote_index_column": 13525
        },
        {
         "id": 18450393,
         "_deepnote_index_column": 13526
        },
        {
         "id": 18311112,
         "_deepnote_index_column": 13527
        },
        {
         "id": 5416828,
         "_deepnote_index_column": 13528
        },
        {
         "id": 15018533,
         "_deepnote_index_column": 13529
        },
        {
         "id": 2255065,
         "_deepnote_index_column": 13530
        },
        {
         "id": 14674117,
         "_deepnote_index_column": 13531
        },
        {
         "id": 14181863,
         "_deepnote_index_column": 13532
        },
        {
         "id": 16704280,
         "_deepnote_index_column": 13533
        },
        {
         "id": 6446680,
         "_deepnote_index_column": 13534
        },
        {
         "id": 18079217,
         "_deepnote_index_column": 13535
        },
        {
         "id": 13753621,
         "_deepnote_index_column": 13536
        },
        {
         "id": 3988545,
         "_deepnote_index_column": 13537
        },
        {
         "id": 18078312,
         "_deepnote_index_column": 13538
        },
        {
         "id": 13916751,
         "_deepnote_index_column": 13539
        },
        {
         "id": 18270632,
         "_deepnote_index_column": 13540
        },
        {
         "id": 14162220,
         "_deepnote_index_column": 13541
        },
        {
         "id": 17388692,
         "_deepnote_index_column": 13542
        },
        {
         "id": 6493058,
         "_deepnote_index_column": 13543
        },
        {
         "id": 17993838,
         "_deepnote_index_column": 13544
        },
        {
         "id": 18075413,
         "_deepnote_index_column": 13545
        },
        {
         "id": 5672442,
         "_deepnote_index_column": 13546
        },
        {
         "id": 10338344,
         "_deepnote_index_column": 13547
        },
        {
         "id": 15373688,
         "_deepnote_index_column": 13548
        },
        {
         "id": 7979249,
         "_deepnote_index_column": 13549
        },
        {
         "id": 10811048,
         "_deepnote_index_column": 13550
        },
        {
         "id": 17157448,
         "_deepnote_index_column": 13551
        },
        {
         "id": 9259806,
         "_deepnote_index_column": 13552
        },
        {
         "id": 919919,
         "_deepnote_index_column": 13553
        },
        {
         "id": 16942931,
         "_deepnote_index_column": 13554
        },
        {
         "id": 4966135,
         "_deepnote_index_column": 13555
        },
        {
         "id": 3458408,
         "_deepnote_index_column": 13556
        },
        {
         "id": 17237270,
         "_deepnote_index_column": 13557
        },
        {
         "id": 2262272,
         "_deepnote_index_column": 13558
        },
        {
         "id": 16942186,
         "_deepnote_index_column": 13559
        },
        {
         "id": 10486779,
         "_deepnote_index_column": 13560
        },
        {
         "id": 16615757,
         "_deepnote_index_column": 13561
        },
        {
         "id": 5145055,
         "_deepnote_index_column": 13562
        },
        {
         "id": 5862042,
         "_deepnote_index_column": 13563
        },
        {
         "id": 4847836,
         "_deepnote_index_column": 13564
        },
        {
         "id": 964640,
         "_deepnote_index_column": 13565
        },
        {
         "id": 3817447,
         "_deepnote_index_column": 13566
        },
        {
         "id": 18169816,
         "_deepnote_index_column": 13567
        },
        {
         "id": 12697477,
         "_deepnote_index_column": 13568
        },
        {
         "id": 10730074,
         "_deepnote_index_column": 13569
        },
        {
         "id": 8354356,
         "_deepnote_index_column": 13570
        },
        {
         "id": 16381799,
         "_deepnote_index_column": 13571
        },
        {
         "id": 4683512,
         "_deepnote_index_column": 13572
        },
        {
         "id": 16048810,
         "_deepnote_index_column": 13573
        },
        {
         "id": 12530673,
         "_deepnote_index_column": 13574
        },
        {
         "id": 5372867,
         "_deepnote_index_column": 13575
        },
        {
         "id": 2242621,
         "_deepnote_index_column": 13576
        },
        {
         "id": 10881170,
         "_deepnote_index_column": 13577
        },
        {
         "id": 18330320,
         "_deepnote_index_column": 13578
        },
        {
         "id": 16348459,
         "_deepnote_index_column": 13579
        },
        {
         "id": 16741664,
         "_deepnote_index_column": 13580
        },
        {
         "id": 15774969,
         "_deepnote_index_column": 13581
        },
        {
         "id": 2986299,
         "_deepnote_index_column": 13582
        },
        {
         "id": 16671250,
         "_deepnote_index_column": 13583
        },
        {
         "id": 17528323,
         "_deepnote_index_column": 13584
        },
        {
         "id": 14595557,
         "_deepnote_index_column": 13585
        },
        {
         "id": 5862041,
         "_deepnote_index_column": 13586
        },
        {
         "id": 4728671,
         "_deepnote_index_column": 13587
        },
        {
         "id": 15108159,
         "_deepnote_index_column": 13588
        },
        {
         "id": 17592432,
         "_deepnote_index_column": 13589
        },
        {
         "id": 9154617,
         "_deepnote_index_column": 13590
        },
        {
         "id": 10793000,
         "_deepnote_index_column": 13591
        },
        {
         "id": 15953833,
         "_deepnote_index_column": 13592
        },
        {
         "id": 11513252,
         "_deepnote_index_column": 13593
        },
        {
         "id": 5762446,
         "_deepnote_index_column": 13594
        },
        {
         "id": 452436,
         "_deepnote_index_column": 13595
        },
        {
         "id": 9135938,
         "_deepnote_index_column": 13596
        },
        {
         "id": 11675374,
         "_deepnote_index_column": 13597
        },
        {
         "id": 470613,
         "_deepnote_index_column": 13598
        },
        {
         "id": 14035761,
         "_deepnote_index_column": 13599
        },
        {
         "id": 18197123,
         "_deepnote_index_column": 13600
        },
        {
         "id": 2189630,
         "_deepnote_index_column": 13601
        },
        {
         "id": 10594481,
         "_deepnote_index_column": 13602
        },
        {
         "id": 4924985,
         "_deepnote_index_column": 13603
        },
        {
         "id": 10036002,
         "_deepnote_index_column": 13604
        },
        {
         "id": 4759718,
         "_deepnote_index_column": 13605
        },
        {
         "id": 9150577,
         "_deepnote_index_column": 13606
        },
        {
         "id": 9725239,
         "_deepnote_index_column": 13607
        },
        {
         "id": 2417752,
         "_deepnote_index_column": 13608
        },
        {
         "id": 1466244,
         "_deepnote_index_column": 13609
        },
        {
         "id": 7984624,
         "_deepnote_index_column": 13610
        },
        {
         "id": 16654739,
         "_deepnote_index_column": 13611
        },
        {
         "id": 3219765,
         "_deepnote_index_column": 13612
        },
        {
         "id": 12247289,
         "_deepnote_index_column": 13613
        },
        {
         "id": 5774920,
         "_deepnote_index_column": 13614
        },
        {
         "id": 10886691,
         "_deepnote_index_column": 13615
        },
        {
         "id": 18275620,
         "_deepnote_index_column": 13616
        },
        {
         "id": 15506485,
         "_deepnote_index_column": 13617
        },
        {
         "id": 13572976,
         "_deepnote_index_column": 13618
        },
        {
         "id": 16194273,
         "_deepnote_index_column": 13619
        },
        {
         "id": 7821955,
         "_deepnote_index_column": 13620
        },
        {
         "id": 595885,
         "_deepnote_index_column": 13621
        },
        {
         "id": 907168,
         "_deepnote_index_column": 13622
        },
        {
         "id": 1349320,
         "_deepnote_index_column": 13623
        },
        {
         "id": 890508,
         "_deepnote_index_column": 13624
        },
        {
         "id": 11649878,
         "_deepnote_index_column": 13625
        },
        {
         "id": 6767380,
         "_deepnote_index_column": 13626
        },
        {
         "id": 8016120,
         "_deepnote_index_column": 13627
        },
        {
         "id": 4706221,
         "_deepnote_index_column": 13628
        },
        {
         "id": 2642462,
         "_deepnote_index_column": 13629
        },
        {
         "id": 8622619,
         "_deepnote_index_column": 13630
        },
        {
         "id": 16275450,
         "_deepnote_index_column": 13631
        },
        {
         "id": 14782813,
         "_deepnote_index_column": 13632
        },
        {
         "id": 2379189,
         "_deepnote_index_column": 13633
        },
        {
         "id": 16911741,
         "_deepnote_index_column": 13634
        },
        {
         "id": 4476787,
         "_deepnote_index_column": 13635
        },
        {
         "id": 8290316,
         "_deepnote_index_column": 13636
        },
        {
         "id": 2670634,
         "_deepnote_index_column": 13637
        },
        {
         "id": 311317,
         "_deepnote_index_column": 13638
        },
        {
         "id": 16629869,
         "_deepnote_index_column": 13639
        },
        {
         "id": 14090381,
         "_deepnote_index_column": 13640
        },
        {
         "id": 17318038,
         "_deepnote_index_column": 13641
        },
        {
         "id": 12763303,
         "_deepnote_index_column": 13642
        },
        {
         "id": 17383453,
         "_deepnote_index_column": 13643
        },
        {
         "id": 3775374,
         "_deepnote_index_column": 13644
        },
        {
         "id": 3775413,
         "_deepnote_index_column": 13645
        },
        {
         "id": 2628876,
         "_deepnote_index_column": 13646
        },
        {
         "id": 16756043,
         "_deepnote_index_column": 13647
        },
        {
         "id": 2510039,
         "_deepnote_index_column": 13648
        },
        {
         "id": 16337933,
         "_deepnote_index_column": 13649
        },
        {
         "id": 15240665,
         "_deepnote_index_column": 13650
        },
        {
         "id": 13028248,
         "_deepnote_index_column": 13651
        },
        {
         "id": 13896506,
         "_deepnote_index_column": 13652
        },
        {
         "id": 17894166,
         "_deepnote_index_column": 13653
        },
        {
         "id": 17713910,
         "_deepnote_index_column": 13654
        },
        {
         "id": 13891368,
         "_deepnote_index_column": 13655
        },
        {
         "id": 17369501,
         "_deepnote_index_column": 13656
        },
        {
         "id": 9275653,
         "_deepnote_index_column": 13657
        },
        {
         "id": 4164638,
         "_deepnote_index_column": 13658
        },
        {
         "id": 7899272,
         "_deepnote_index_column": 13659
        },
        {
         "id": 5556294,
         "_deepnote_index_column": 13660
        },
        {
         "id": 4933494,
         "_deepnote_index_column": 13661
        },
        {
         "id": 16272491,
         "_deepnote_index_column": 13662
        },
        {
         "id": 16517702,
         "_deepnote_index_column": 13663
        },
        {
         "id": 11307524,
         "_deepnote_index_column": 13664
        },
        {
         "id": 7292766,
         "_deepnote_index_column": 13665
        },
        {
         "id": 13600572,
         "_deepnote_index_column": 13666
        },
        {
         "id": 15501095,
         "_deepnote_index_column": 13667
        },
        {
         "id": 7733528,
         "_deepnote_index_column": 13668
        },
        {
         "id": 17319525,
         "_deepnote_index_column": 13669
        },
        {
         "id": 10176076,
         "_deepnote_index_column": 13670
        },
        {
         "id": 17761794,
         "_deepnote_index_column": 13671
        },
        {
         "id": 6063537,
         "_deepnote_index_column": 13672
        },
        {
         "id": 6227383,
         "_deepnote_index_column": 13673
        },
        {
         "id": 7604229,
         "_deepnote_index_column": 13674
        },
        {
         "id": 10176510,
         "_deepnote_index_column": 13675
        },
        {
         "id": 17713147,
         "_deepnote_index_column": 13676
        },
        {
         "id": 1726001,
         "_deepnote_index_column": 13677
        },
        {
         "id": 5084695,
         "_deepnote_index_column": 13678
        },
        {
         "id": 13650799,
         "_deepnote_index_column": 13679
        },
        {
         "id": 1147835,
         "_deepnote_index_column": 13680
        },
        {
         "id": 8784710,
         "_deepnote_index_column": 13681
        },
        {
         "id": 18383770,
         "_deepnote_index_column": 13682
        },
        {
         "id": 10552116,
         "_deepnote_index_column": 13683
        },
        {
         "id": 18189166,
         "_deepnote_index_column": 13684
        },
        {
         "id": 18383644,
         "_deepnote_index_column": 13685
        },
        {
         "id": 836301,
         "_deepnote_index_column": 13686
        },
        {
         "id": 5112558,
         "_deepnote_index_column": 13687
        },
        {
         "id": 18383389,
         "_deepnote_index_column": 13688
        },
        {
         "id": 15958454,
         "_deepnote_index_column": 13689
        },
        {
         "id": 18383264,
         "_deepnote_index_column": 13690
        },
        {
         "id": 900608,
         "_deepnote_index_column": 13691
        },
        {
         "id": 17716429,
         "_deepnote_index_column": 13692
        },
        {
         "id": 16366094,
         "_deepnote_index_column": 13693
        },
        {
         "id": 7585782,
         "_deepnote_index_column": 13694
        },
        {
         "id": 14450465,
         "_deepnote_index_column": 13695
        },
        {
         "id": 2276965,
         "_deepnote_index_column": 13696
        },
        {
         "id": 14089834,
         "_deepnote_index_column": 13697
        },
        {
         "id": 15191202,
         "_deepnote_index_column": 13698
        },
        {
         "id": 2678481,
         "_deepnote_index_column": 13699
        },
        {
         "id": 14874808,
         "_deepnote_index_column": 13700
        },
        {
         "id": 8730608,
         "_deepnote_index_column": 13701
        },
        {
         "id": 13696998,
         "_deepnote_index_column": 13702
        },
        {
         "id": 2653283,
         "_deepnote_index_column": 13703
        },
        {
         "id": 7899612,
         "_deepnote_index_column": 13704
        },
        {
         "id": 5323575,
         "_deepnote_index_column": 13705
        },
        {
         "id": 16661208,
         "_deepnote_index_column": 13706
        },
        {
         "id": 14301872,
         "_deepnote_index_column": 13707
        },
        {
         "id": 5126743,
         "_deepnote_index_column": 13708
        },
        {
         "id": 15499999,
         "_deepnote_index_column": 13709
        },
        {
         "id": 2586531,
         "_deepnote_index_column": 13710
        },
        {
         "id": 12154772,
         "_deepnote_index_column": 13711
        },
        {
         "id": 15300457,
         "_deepnote_index_column": 13712
        },
        {
         "id": 13924131,
         "_deepnote_index_column": 13713
        },
        {
         "id": 4765455,
         "_deepnote_index_column": 13714
        },
        {
         "id": 13137674,
         "_deepnote_index_column": 13715
        },
        {
         "id": 10823363,
         "_deepnote_index_column": 13716
        },
        {
         "id": 12221361,
         "_deepnote_index_column": 13717
        },
        {
         "id": 15938470,
         "_deepnote_index_column": 13718
        },
        {
         "id": 18002815,
         "_deepnote_index_column": 13719
        },
        {
         "id": 10728324,
         "_deepnote_index_column": 13720
        },
        {
         "id": 2159266,
         "_deepnote_index_column": 13721
        },
        {
         "id": 13513425,
         "_deepnote_index_column": 13722
        },
        {
         "id": 12874458,
         "_deepnote_index_column": 13723
        },
        {
         "id": 12382931,
         "_deepnote_index_column": 13724
        },
        {
         "id": 3617183,
         "_deepnote_index_column": 13725
        },
        {
         "id": 9695736,
         "_deepnote_index_column": 13726
        },
        {
         "id": 10745043,
         "_deepnote_index_column": 13727
        },
        {
         "id": 13743235,
         "_deepnote_index_column": 13728
        },
        {
         "id": 16331886,
         "_deepnote_index_column": 13729
        },
        {
         "id": 16856148,
         "_deepnote_index_column": 13730
        },
        {
         "id": 6762907,
         "_deepnote_index_column": 13731
        },
        {
         "id": 6762847,
         "_deepnote_index_column": 13732
        },
        {
         "id": 15610142,
         "_deepnote_index_column": 13733
        },
        {
         "id": 13332740,
         "_deepnote_index_column": 13734
        },
        {
         "id": 13623720,
         "_deepnote_index_column": 13735
        },
        {
         "id": 4190386,
         "_deepnote_index_column": 13736
        },
        {
         "id": 15301837,
         "_deepnote_index_column": 13737
        },
        {
         "id": 1897973,
         "_deepnote_index_column": 13738
        },
        {
         "id": 16545351,
         "_deepnote_index_column": 13739
        },
        {
         "id": 13891062,
         "_deepnote_index_column": 13740
        },
        {
         "id": 14199814,
         "_deepnote_index_column": 13741
        },
        {
         "id": 15232035,
         "_deepnote_index_column": 13742
        },
        {
         "id": 15100800,
         "_deepnote_index_column": 13743
        },
        {
         "id": 8383343,
         "_deepnote_index_column": 13744
        },
        {
         "id": 16529045,
         "_deepnote_index_column": 13745
        },
        {
         "id": 15609914,
         "_deepnote_index_column": 13746
        },
        {
         "id": 13676509,
         "_deepnote_index_column": 13747
        },
        {
         "id": 6729158,
         "_deepnote_index_column": 13748
        },
        {
         "id": 11731129,
         "_deepnote_index_column": 13749
        },
        {
         "id": 17771919,
         "_deepnote_index_column": 13750
        },
        {
         "id": 12512582,
         "_deepnote_index_column": 13751
        },
        {
         "id": 10565821,
         "_deepnote_index_column": 13752
        },
        {
         "id": 15968219,
         "_deepnote_index_column": 13753
        },
        {
         "id": 5091647,
         "_deepnote_index_column": 13754
        },
        {
         "id": 18523892,
         "_deepnote_index_column": 13755
        },
        {
         "id": 13676140,
         "_deepnote_index_column": 13756
        },
        {
         "id": 6073958,
         "_deepnote_index_column": 13757
        },
        {
         "id": 12544795,
         "_deepnote_index_column": 13758
        },
        {
         "id": 14084906,
         "_deepnote_index_column": 13759
        },
        {
         "id": 13331137,
         "_deepnote_index_column": 13760
        },
        {
         "id": 2304592,
         "_deepnote_index_column": 13761
        },
        {
         "id": 16855481,
         "_deepnote_index_column": 13762
        },
        {
         "id": 14608842,
         "_deepnote_index_column": 13763
        },
        {
         "id": 18049249,
         "_deepnote_index_column": 13764
        },
        {
         "id": 18376915,
         "_deepnote_index_column": 13765
        },
        {
         "id": 1828361,
         "_deepnote_index_column": 13766
        },
        {
         "id": 15771171,
         "_deepnote_index_column": 13767
        },
        {
         "id": 12723683,
         "_deepnote_index_column": 13768
        },
        {
         "id": 14050762,
         "_deepnote_index_column": 13769
        },
        {
         "id": 10924275,
         "_deepnote_index_column": 13770
        },
        {
         "id": 12723580,
         "_deepnote_index_column": 13771
        },
        {
         "id": 14869529,
         "_deepnote_index_column": 13772
        },
        {
         "id": 1028149,
         "_deepnote_index_column": 13773
        },
        {
         "id": 14154564,
         "_deepnote_index_column": 13774
        },
        {
         "id": 4039538,
         "_deepnote_index_column": 13775
        },
        {
         "id": 14263047,
         "_deepnote_index_column": 13776
        },
        {
         "id": 7496422,
         "_deepnote_index_column": 13777
        },
        {
         "id": 5005444,
         "_deepnote_index_column": 13778
        },
        {
         "id": 11280524,
         "_deepnote_index_column": 13779
        },
        {
         "id": 12622737,
         "_deepnote_index_column": 13780
        },
        {
         "id": 11740507,
         "_deepnote_index_column": 13781
        },
        {
         "id": 910493,
         "_deepnote_index_column": 13782
        },
        {
         "id": 18063355,
         "_deepnote_index_column": 13783
        },
        {
         "id": 15478764,
         "_deepnote_index_column": 13784
        },
        {
         "id": 15343295,
         "_deepnote_index_column": 13785
        },
        {
         "id": 18194933,
         "_deepnote_index_column": 13786
        },
        {
         "id": 16310708,
         "_deepnote_index_column": 13787
        },
        {
         "id": 13754707,
         "_deepnote_index_column": 13788
        },
        {
         "id": 3858760,
         "_deepnote_index_column": 13789
        },
        {
         "id": 11985212,
         "_deepnote_index_column": 13790
        },
        {
         "id": 9822549,
         "_deepnote_index_column": 13791
        },
        {
         "id": 10122150,
         "_deepnote_index_column": 13792
        },
        {
         "id": 16933161,
         "_deepnote_index_column": 13793
        },
        {
         "id": 13612674,
         "_deepnote_index_column": 13794
        },
        {
         "id": 10608896,
         "_deepnote_index_column": 13795
        },
        {
         "id": 7380455,
         "_deepnote_index_column": 13796
        },
        {
         "id": 859513,
         "_deepnote_index_column": 13797
        },
        {
         "id": 3857816,
         "_deepnote_index_column": 13798
        },
        {
         "id": 13296271,
         "_deepnote_index_column": 13799
        },
        {
         "id": 2986073,
         "_deepnote_index_column": 13800
        },
        {
         "id": 875626,
         "_deepnote_index_column": 13801
        },
        {
         "id": 8196782,
         "_deepnote_index_column": 13802
        },
        {
         "id": 4839897,
         "_deepnote_index_column": 13803
        },
        {
         "id": 4823798,
         "_deepnote_index_column": 13804
        },
        {
         "id": 4823757,
         "_deepnote_index_column": 13805
        },
        {
         "id": 4823714,
         "_deepnote_index_column": 13806
        },
        {
         "id": 2661004,
         "_deepnote_index_column": 13807
        },
        {
         "id": 4823675,
         "_deepnote_index_column": 13808
        },
        {
         "id": 4823606,
         "_deepnote_index_column": 13809
        },
        {
         "id": 11999828,
         "_deepnote_index_column": 13810
        },
        {
         "id": 3103292,
         "_deepnote_index_column": 13811
        },
        {
         "id": 10770579,
         "_deepnote_index_column": 13812
        },
        {
         "id": 5068870,
         "_deepnote_index_column": 13813
        },
        {
         "id": 18684927,
         "_deepnote_index_column": 13814
        },
        {
         "id": 5918546,
         "_deepnote_index_column": 13815
        },
        {
         "id": 9149376,
         "_deepnote_index_column": 13816
        },
        {
         "id": 17035084,
         "_deepnote_index_column": 13817
        },
        {
         "id": 16756721,
         "_deepnote_index_column": 13818
        },
        {
         "id": 15800396,
         "_deepnote_index_column": 13819
        },
        {
         "id": 10459133,
         "_deepnote_index_column": 13820
        },
        {
         "id": 15569383,
         "_deepnote_index_column": 13821
        },
        {
         "id": 18044785,
         "_deepnote_index_column": 13822
        },
        {
         "id": 4823514,
         "_deepnote_index_column": 13823
        },
        {
         "id": 18271994,
         "_deepnote_index_column": 13824
        },
        {
         "id": 17684887,
         "_deepnote_index_column": 13825
        },
        {
         "id": 8444165,
         "_deepnote_index_column": 13826
        },
        {
         "id": 10655936,
         "_deepnote_index_column": 13827
        },
        {
         "id": 2545032,
         "_deepnote_index_column": 13828
        },
        {
         "id": 13965758,
         "_deepnote_index_column": 13829
        },
        {
         "id": 15357044,
         "_deepnote_index_column": 13830
        },
        {
         "id": 8213532,
         "_deepnote_index_column": 13831
        },
        {
         "id": 9655270,
         "_deepnote_index_column": 13832
        },
        {
         "id": 12260298,
         "_deepnote_index_column": 13833
        },
        {
         "id": 15930277,
         "_deepnote_index_column": 13834
        },
        {
         "id": 16733082,
         "_deepnote_index_column": 13835
        },
        {
         "id": 9864527,
         "_deepnote_index_column": 13836
        },
        {
         "id": 9951379,
         "_deepnote_index_column": 13837
        },
        {
         "id": 10753347,
         "_deepnote_index_column": 13838
        },
        {
         "id": 9868022,
         "_deepnote_index_column": 13839
        },
        {
         "id": 17011500,
         "_deepnote_index_column": 13840
        },
        {
         "id": 14357191,
         "_deepnote_index_column": 13841
        },
        {
         "id": 12567323,
         "_deepnote_index_column": 13842
        },
        {
         "id": 2708004,
         "_deepnote_index_column": 13843
        },
        {
         "id": 16109748,
         "_deepnote_index_column": 13844
        },
        {
         "id": 905409,
         "_deepnote_index_column": 13845
        },
        {
         "id": 8655046,
         "_deepnote_index_column": 13846
        },
        {
         "id": 15028319,
         "_deepnote_index_column": 13847
        },
        {
         "id": 17174602,
         "_deepnote_index_column": 13848
        },
        {
         "id": 17190982,
         "_deepnote_index_column": 13849
        },
        {
         "id": 3985434,
         "_deepnote_index_column": 13850
        },
        {
         "id": 10866683,
         "_deepnote_index_column": 13851
        },
        {
         "id": 15388577,
         "_deepnote_index_column": 13852
        },
        {
         "id": 7163799,
         "_deepnote_index_column": 13853
        },
        {
         "id": 12570429,
         "_deepnote_index_column": 13854
        },
        {
         "id": 14028558,
         "_deepnote_index_column": 13855
        },
        {
         "id": 16224747,
         "_deepnote_index_column": 13856
        },
        {
         "id": 16765309,
         "_deepnote_index_column": 13857
        },
        {
         "id": 1412804,
         "_deepnote_index_column": 13858
        },
        {
         "id": 4623839,
         "_deepnote_index_column": 13859
        },
        {
         "id": 907167,
         "_deepnote_index_column": 13860
        },
        {
         "id": 12914039,
         "_deepnote_index_column": 13861
        },
        {
         "id": 16321900,
         "_deepnote_index_column": 13862
        },
        {
         "id": 4685932,
         "_deepnote_index_column": 13863
        },
        {
         "id": 14089805,
         "_deepnote_index_column": 13864
        },
        {
         "id": 11439055,
         "_deepnote_index_column": 13865
        },
        {
         "id": 12880791,
         "_deepnote_index_column": 13866
        },
        {
         "id": 7916386,
         "_deepnote_index_column": 13867
        },
        {
         "id": 1116870,
         "_deepnote_index_column": 13868
        },
        {
         "id": 893458,
         "_deepnote_index_column": 13869
        },
        {
         "id": 7948524,
         "_deepnote_index_column": 13870
        },
        {
         "id": 17317935,
         "_deepnote_index_column": 13871
        },
        {
         "id": 16648670,
         "_deepnote_index_column": 13872
        },
        {
         "id": 16811703,
         "_deepnote_index_column": 13873
        },
        {
         "id": 1738168,
         "_deepnote_index_column": 13874
        },
        {
         "id": 17237721,
         "_deepnote_index_column": 13875
        },
        {
         "id": 17122694,
         "_deepnote_index_column": 13876
        },
        {
         "id": 16106449,
         "_deepnote_index_column": 13877
        },
        {
         "id": 6335299,
         "_deepnote_index_column": 13878
        },
        {
         "id": 15745100,
         "_deepnote_index_column": 13879
        },
        {
         "id": 17466000,
         "_deepnote_index_column": 13880
        },
        {
         "id": 8506134,
         "_deepnote_index_column": 13881
        },
        {
         "id": 16793037,
         "_deepnote_index_column": 13882
        },
        {
         "id": 9108899,
         "_deepnote_index_column": 13883
        },
        {
         "id": 17038694,
         "_deepnote_index_column": 13884
        },
        {
         "id": 15471654,
         "_deepnote_index_column": 13885
        },
        {
         "id": 3074691,
         "_deepnote_index_column": 13886
        },
        {
         "id": 14220842,
         "_deepnote_index_column": 13887
        },
        {
         "id": 1866056,
         "_deepnote_index_column": 13888
        },
        {
         "id": 4700467,
         "_deepnote_index_column": 13889
        },
        {
         "id": 3078371,
         "_deepnote_index_column": 13890
        },
        {
         "id": 10090539,
         "_deepnote_index_column": 13891
        },
        {
         "id": 7470940,
         "_deepnote_index_column": 13892
        },
        {
         "id": 8828795,
         "_deepnote_index_column": 13893
        },
        {
         "id": 831722,
         "_deepnote_index_column": 13894
        },
        {
         "id": 15150308,
         "_deepnote_index_column": 13895
        },
        {
         "id": 16135792,
         "_deepnote_index_column": 13896
        },
        {
         "id": 11712083,
         "_deepnote_index_column": 13897
        },
        {
         "id": 9187941,
         "_deepnote_index_column": 13898
        },
        {
         "id": 9170014,
         "_deepnote_index_column": 13899
        },
        {
         "id": 16983907,
         "_deepnote_index_column": 13900
        },
        {
         "id": 15110643,
         "_deepnote_index_column": 13901
        },
        {
         "id": 6731415,
         "_deepnote_index_column": 13902
        },
        {
         "id": 17297308,
         "_deepnote_index_column": 13903
        },
        {
         "id": 15969995,
         "_deepnote_index_column": 13904
        },
        {
         "id": 7679571,
         "_deepnote_index_column": 13905
        },
        {
         "id": 896343,
         "_deepnote_index_column": 13906
        },
        {
         "id": 15722190,
         "_deepnote_index_column": 13907
        },
        {
         "id": 9954953,
         "_deepnote_index_column": 13908
        },
        {
         "id": 14936664,
         "_deepnote_index_column": 13909
        },
        {
         "id": 10332679,
         "_deepnote_index_column": 13910
        },
        {
         "id": 11710905,
         "_deepnote_index_column": 13911
        },
        {
         "id": 13969641,
         "_deepnote_index_column": 13912
        },
        {
         "id": 5482001,
         "_deepnote_index_column": 13913
        },
        {
         "id": 13018613,
         "_deepnote_index_column": 13914
        },
        {
         "id": 17785739,
         "_deepnote_index_column": 13915
        },
        {
         "id": 17899693,
         "_deepnote_index_column": 13916
        },
        {
         "id": 11986069,
         "_deepnote_index_column": 13917
        },
        {
         "id": 5178904,
         "_deepnote_index_column": 13918
        },
        {
         "id": 10822746,
         "_deepnote_index_column": 13919
        },
        {
         "id": 9691054,
         "_deepnote_index_column": 13920
        },
        {
         "id": 11813388,
         "_deepnote_index_column": 13921
        },
        {
         "id": 7069992,
         "_deepnote_index_column": 13922
        },
        {
         "id": 424500,
         "_deepnote_index_column": 13923
        },
        {
         "id": 5268078,
         "_deepnote_index_column": 13924
        },
        {
         "id": 12855551,
         "_deepnote_index_column": 13925
        },
        {
         "id": 15196410,
         "_deepnote_index_column": 13926
        },
        {
         "id": 16177259,
         "_deepnote_index_column": 13927
        },
        {
         "id": 17667947,
         "_deepnote_index_column": 13928
        },
        {
         "id": 15128985,
         "_deepnote_index_column": 13929
        },
        {
         "id": 17160443,
         "_deepnote_index_column": 13930
        },
        {
         "id": 1054165,
         "_deepnote_index_column": 13931
        },
        {
         "id": 18093143,
         "_deepnote_index_column": 13932
        },
        {
         "id": 12849976,
         "_deepnote_index_column": 13933
        },
        {
         "id": 12112674,
         "_deepnote_index_column": 13934
        },
        {
         "id": 12832734,
         "_deepnote_index_column": 13935
        },
        {
         "id": 5181902,
         "_deepnote_index_column": 13936
        },
        {
         "id": 16436630,
         "_deepnote_index_column": 13937
        },
        {
         "id": 8556834,
         "_deepnote_index_column": 13938
        },
        {
         "id": 15873973,
         "_deepnote_index_column": 13939
        },
        {
         "id": 17902750,
         "_deepnote_index_column": 13940
        },
        {
         "id": 10430455,
         "_deepnote_index_column": 13941
        },
        {
         "id": 11816662,
         "_deepnote_index_column": 13942
        },
        {
         "id": 18818878,
         "_deepnote_index_column": 13943
        }
       ]
      },
      "text/plain": "             id\n0        665257\n1       2746729\n2        156926\n3       3767793\n4       5927700\n...         ...\n13939  15873973\n13940  17902750\n13941  10430455\n13942  11816662\n13943  18818878\n\n[13944 rows x 1 columns]",
      "text/html": "<div>\n<style scoped>\n    .dataframe tbody tr th:only-of-type {\n        vertical-align: middle;\n    }\n\n    .dataframe tbody tr th {\n        vertical-align: top;\n    }\n\n    .dataframe thead th {\n        text-align: right;\n    }\n</style>\n<table border=\"1\" class=\"dataframe\">\n  <thead>\n    <tr style=\"text-align: right;\">\n      <th></th>\n      <th>id</th>\n    </tr>\n  </thead>\n  <tbody>\n    <tr>\n      <th>0</th>\n      <td>665257</td>\n    </tr>\n    <tr>\n      <th>1</th>\n      <td>2746729</td>\n    </tr>\n    <tr>\n      <th>2</th>\n      <td>156926</td>\n    </tr>\n    <tr>\n      <th>3</th>\n      <td>3767793</td>\n    </tr>\n    <tr>\n      <th>4</th>\n      <td>5927700</td>\n    </tr>\n    <tr>\n      <th>...</th>\n      <td>...</td>\n    </tr>\n    <tr>\n      <th>13939</th>\n      <td>15873973</td>\n    </tr>\n    <tr>\n      <th>13940</th>\n      <td>17902750</td>\n    </tr>\n    <tr>\n      <th>13941</th>\n      <td>10430455</td>\n    </tr>\n    <tr>\n      <th>13942</th>\n      <td>11816662</td>\n    </tr>\n    <tr>\n      <th>13943</th>\n      <td>18818878</td>\n    </tr>\n  </tbody>\n</table>\n<p>13944 rows × 1 columns</p>\n</div>"
     },
     "metadata": {}
    }
   ]
  },
  {
   "cell_type": "code",
   "metadata": {
    "tags": [],
    "cell_id": "00005-6ecc6f82-cbe3-4488-a6fe-56cb76bb1dde",
    "deepnote_to_be_reexecuted": false,
    "source_hash": "5d6d2961",
    "execution_start": 1627420429870,
    "execution_millis": 3,
    "deepnote_cell_type": "code"
   },
   "source": "listings = listings.drop(columns = [\"index\"])",
   "execution_count": null,
   "outputs": []
  },
  {
   "cell_type": "code",
   "metadata": {
    "tags": [],
    "cell_id": "00006-d713a9c8-9853-4e95-acdf-13f26bafc07d",
    "deepnote_to_be_reexecuted": false,
    "source_hash": "aedeb841",
    "execution_start": 1627420454950,
    "execution_millis": 7,
    "deepnote_cell_type": "code"
   },
   "source": "listings['price'] = listings['price'].str.replace(',', '').str.replace('$', '').astype(float)",
   "execution_count": null,
   "outputs": [
    {
     "name": "stderr",
     "text": "/shared-libs/python3.7/py-core/lib/python3.7/site-packages/ipykernel_launcher.py:1: FutureWarning: The default value of regex will change from True to False in a future version. In addition, single character regular expressions will*not* be treated as literal strings when regex=True.\n  \"\"\"Entry point for launching an IPython kernel.\n",
     "output_type": "stream"
    }
   ]
  },
  {
   "cell_type": "code",
   "metadata": {
    "tags": [],
    "cell_id": "00006-590c318c-9dbb-453f-9265-8057d6c02bdc",
    "deepnote_to_be_reexecuted": false,
    "source_hash": "bb8eca32",
    "execution_start": 1627420456879,
    "execution_millis": 15,
    "deepnote_cell_type": "code"
   },
   "source": "listings.head()",
   "execution_count": null,
   "outputs": [
    {
     "output_type": "execute_result",
     "execution_count": 9,
     "data": {
      "application/vnd.deepnote.dataframe.v2+json": {
       "row_count": 5,
       "column_count": 27,
       "columns": [
        {
         "name": "accommodates",
         "dtype": "float64",
         "stats": {
          "unique_count": 4,
          "nan_count": 0,
          "min": "2.0",
          "max": "10.0",
          "histogram": [
           {
            "bin_start": 2,
            "bin_end": 2.8,
            "count": 2
           },
           {
            "bin_start": 2.8,
            "bin_end": 3.6,
            "count": 0
           },
           {
            "bin_start": 3.6,
            "bin_end": 4.4,
            "count": 1
           },
           {
            "bin_start": 4.4,
            "bin_end": 5.2,
            "count": 0
           },
           {
            "bin_start": 5.2,
            "bin_end": 6,
            "count": 0
           },
           {
            "bin_start": 6,
            "bin_end": 6.800000000000001,
            "count": 1
           },
           {
            "bin_start": 6.800000000000001,
            "bin_end": 7.6000000000000005,
            "count": 0
           },
           {
            "bin_start": 7.6000000000000005,
            "bin_end": 8.4,
            "count": 0
           },
           {
            "bin_start": 8.4,
            "bin_end": 9.2,
            "count": 0
           },
           {
            "bin_start": 9.2,
            "bin_end": 10,
            "count": 1
           }
          ]
         }
        },
        {
         "name": "amenities",
         "dtype": "object",
         "stats": {
          "unique_count": 5,
          "nan_count": 0,
          "categories": [
           {
            "name": "{\"Wireless Internet\",\"Air Conditioning\",Kitchen,\"Free Parking on Premises\",\"Pets Allowed\",\"Pets live on this property\",\"Other pet(s)\",\"Indoor Fireplace\",Heating}",
            "count": 1
           },
           {
            "name": "{TV,\"Cable TV\",Internet,\"Wireless Internet\",\"Air Conditioning\",Kitchen,\"Free Parking on Premises\",Dog(s),\"Hot Tub\",Heating,\"Family/Kid Friendly\"}",
            "count": 1
           },
           {
            "name": "3 others",
            "count": 3
           }
          ]
         }
        },
        {
         "name": "availability_30",
         "dtype": "int64",
         "stats": {
          "unique_count": 4,
          "nan_count": 0,
          "min": "0",
          "max": "25",
          "histogram": [
           {
            "bin_start": 0,
            "bin_end": 2.5,
            "count": 1
           },
           {
            "bin_start": 2.5,
            "bin_end": 5,
            "count": 0
           },
           {
            "bin_start": 5,
            "bin_end": 7.5,
            "count": 0
           },
           {
            "bin_start": 7.5,
            "bin_end": 10,
            "count": 0
           },
           {
            "bin_start": 10,
            "bin_end": 12.5,
            "count": 0
           },
           {
            "bin_start": 12.5,
            "bin_end": 15,
            "count": 0
           },
           {
            "bin_start": 15,
            "bin_end": 17.5,
            "count": 3
           },
           {
            "bin_start": 17.5,
            "bin_end": 20,
            "count": 0
           },
           {
            "bin_start": 20,
            "bin_end": 22.5,
            "count": 0
           },
           {
            "bin_start": 22.5,
            "bin_end": 25,
            "count": 1
           }
          ]
         }
        },
        {
         "name": "bathrooms",
         "dtype": "float64",
         "stats": {
          "unique_count": 2,
          "nan_count": 0,
          "min": "1.0",
          "max": "2.5",
          "histogram": [
           {
            "bin_start": 1,
            "bin_end": 1.15,
            "count": 3
           },
           {
            "bin_start": 1.15,
            "bin_end": 1.3,
            "count": 0
           },
           {
            "bin_start": 1.3,
            "bin_end": 1.45,
            "count": 0
           },
           {
            "bin_start": 1.45,
            "bin_end": 1.6,
            "count": 0
           },
           {
            "bin_start": 1.6,
            "bin_end": 1.75,
            "count": 0
           },
           {
            "bin_start": 1.75,
            "bin_end": 1.9,
            "count": 0
           },
           {
            "bin_start": 1.9,
            "bin_end": 2.05,
            "count": 0
           },
           {
            "bin_start": 2.05,
            "bin_end": 2.2,
            "count": 0
           },
           {
            "bin_start": 2.2,
            "bin_end": 2.3499999999999996,
            "count": 0
           },
           {
            "bin_start": 2.3499999999999996,
            "bin_end": 2.5,
            "count": 2
           }
          ]
         }
        },
        {
         "name": "bed_type",
         "dtype": "object",
         "stats": {
          "unique_count": 1,
          "nan_count": 0,
          "categories": [
           {
            "name": "Real Bed",
            "count": 5
           }
          ]
         }
        },
        {
         "name": "bedrooms",
         "dtype": "float64",
         "stats": {
          "unique_count": 2,
          "nan_count": 0,
          "min": "1.0",
          "max": "4.0",
          "histogram": [
           {
            "bin_start": 1,
            "bin_end": 1.3,
            "count": 4
           },
           {
            "bin_start": 1.3,
            "bin_end": 1.6,
            "count": 0
           },
           {
            "bin_start": 1.6,
            "bin_end": 1.9,
            "count": 0
           },
           {
            "bin_start": 1.9,
            "bin_end": 2.2,
            "count": 0
           },
           {
            "bin_start": 2.2,
            "bin_end": 2.5,
            "count": 0
           },
           {
            "bin_start": 2.5,
            "bin_end": 2.8,
            "count": 0
           },
           {
            "bin_start": 2.8,
            "bin_end": 3.1,
            "count": 0
           },
           {
            "bin_start": 3.1,
            "bin_end": 3.4,
            "count": 0
           },
           {
            "bin_start": 3.4,
            "bin_end": 3.6999999999999997,
            "count": 0
           },
           {
            "bin_start": 3.6999999999999997,
            "bin_end": 4,
            "count": 1
           }
          ]
         }
        },
        {
         "name": "beds",
         "dtype": "float64",
         "stats": {
          "unique_count": 4,
          "nan_count": 0,
          "min": "1.0",
          "max": "6.0",
          "histogram": [
           {
            "bin_start": 1,
            "bin_end": 1.5,
            "count": 2
           },
           {
            "bin_start": 1.5,
            "bin_end": 2,
            "count": 0
           },
           {
            "bin_start": 2,
            "bin_end": 2.5,
            "count": 1
           },
           {
            "bin_start": 2.5,
            "bin_end": 3,
            "count": 0
           },
           {
            "bin_start": 3,
            "bin_end": 3.5,
            "count": 0
           },
           {
            "bin_start": 3.5,
            "bin_end": 4,
            "count": 0
           },
           {
            "bin_start": 4,
            "bin_end": 4.5,
            "count": 0
           },
           {
            "bin_start": 4.5,
            "bin_end": 5,
            "count": 0
           },
           {
            "bin_start": 5,
            "bin_end": 5.5,
            "count": 1
           },
           {
            "bin_start": 5.5,
            "bin_end": 6,
            "count": 1
           }
          ]
         }
        },
        {
         "name": "cancellation_policy",
         "dtype": "object",
         "stats": {
          "unique_count": 3,
          "nan_count": 0,
          "categories": [
           {
            "name": "moderate",
            "count": 2
           },
           {
            "name": "strict",
            "count": 2
           },
           {
            "name": "flexible",
            "count": 1
           }
          ]
         }
        },
        {
         "name": "city",
         "dtype": "object",
         "stats": {
          "unique_count": 1,
          "nan_count": 0,
          "categories": [
           {
            "name": "Asheville",
            "count": 5
           }
          ]
         }
        },
        {
         "name": "host_id",
         "dtype": "int64",
         "stats": {
          "unique_count": 5,
          "nan_count": 0,
          "min": "746673",
          "max": "27672030",
          "histogram": [
           {
            "bin_start": 746673,
            "bin_end": 3439208.7,
            "count": 2
           },
           {
            "bin_start": 3439208.7,
            "bin_end": 6131744.4,
            "count": 1
           },
           {
            "bin_start": 6131744.4,
            "bin_end": 8824280.100000001,
            "count": 0
           },
           {
            "bin_start": 8824280.100000001,
            "bin_end": 11516815.8,
            "count": 1
           },
           {
            "bin_start": 11516815.8,
            "bin_end": 14209351.5,
            "count": 0
           },
           {
            "bin_start": 14209351.5,
            "bin_end": 16901887.200000003,
            "count": 0
           },
           {
            "bin_start": 16901887.200000003,
            "bin_end": 19594422.900000002,
            "count": 0
           },
           {
            "bin_start": 19594422.900000002,
            "bin_end": 22286958.6,
            "count": 0
           },
           {
            "bin_start": 22286958.6,
            "bin_end": 24979494.3,
            "count": 0
           },
           {
            "bin_start": 24979494.3,
            "bin_end": 27672030,
            "count": 1
           }
          ]
         }
        },
        {
         "name": "id",
         "dtype": "int64",
         "stats": {
          "unique_count": 5,
          "nan_count": 0,
          "min": "156926",
          "max": "5927700",
          "histogram": [
           {
            "bin_start": 156926,
            "bin_end": 734003.4,
            "count": 2
           },
           {
            "bin_start": 734003.4,
            "bin_end": 1311080.8,
            "count": 0
           },
           {
            "bin_start": 1311080.8,
            "bin_end": 1888158.2000000002,
            "count": 0
           },
           {
            "bin_start": 1888158.2000000002,
            "bin_end": 2465235.6,
            "count": 0
           },
           {
            "bin_start": 2465235.6,
            "bin_end": 3042313,
            "count": 1
           },
           {
            "bin_start": 3042313,
            "bin_end": 3619390.4000000004,
            "count": 0
           },
           {
            "bin_start": 3619390.4000000004,
            "bin_end": 4196467.800000001,
            "count": 1
           },
           {
            "bin_start": 4196467.800000001,
            "bin_end": 4773545.2,
            "count": 0
           },
           {
            "bin_start": 4773545.2,
            "bin_end": 5350622.600000001,
            "count": 0
           },
           {
            "bin_start": 5350622.600000001,
            "bin_end": 5927700,
            "count": 1
           }
          ]
         }
        },
        {
         "name": "instant_bookable",
         "dtype": "object",
         "stats": {
          "unique_count": 2,
          "nan_count": 0,
          "categories": [
           {
            "name": "f",
            "count": 4
           },
           {
            "name": "t",
            "count": 1
           }
          ]
         }
        },
        {
         "name": "latitude",
         "dtype": "float64",
         "stats": {
          "unique_count": 5,
          "nan_count": 0,
          "min": "35.57775533585112",
          "max": "35.63595306677065",
          "histogram": [
           {
            "bin_start": 35.57775533585112,
            "bin_end": 35.58357510894307,
            "count": 1
           },
           {
            "bin_start": 35.58357510894307,
            "bin_end": 35.58939488203503,
            "count": 1
           },
           {
            "bin_start": 35.58939488203503,
            "bin_end": 35.59521465512698,
            "count": 2
           },
           {
            "bin_start": 35.59521465512698,
            "bin_end": 35.60103442821893,
            "count": 0
           },
           {
            "bin_start": 35.60103442821893,
            "bin_end": 35.60685420131088,
            "count": 0
           },
           {
            "bin_start": 35.60685420131088,
            "bin_end": 35.61267397440284,
            "count": 0
           },
           {
            "bin_start": 35.61267397440284,
            "bin_end": 35.61849374749479,
            "count": 0
           },
           {
            "bin_start": 35.61849374749479,
            "bin_end": 35.62431352058674,
            "count": 0
           },
           {
            "bin_start": 35.62431352058674,
            "bin_end": 35.630133293678696,
            "count": 0
           },
           {
            "bin_start": 35.630133293678696,
            "bin_end": 35.63595306677065,
            "count": 1
           }
          ]
         }
        },
        {
         "name": "longitude",
         "dtype": "float64",
         "stats": {
          "unique_count": 5,
          "nan_count": 0,
          "min": "-82.64939750625399",
          "max": "-82.58580023698586",
          "histogram": [
           {
            "bin_start": -82.64939750625399,
            "bin_end": -82.64303777932717,
            "count": 1
           },
           {
            "bin_start": -82.64303777932717,
            "bin_end": -82.63667805240037,
            "count": 0
           },
           {
            "bin_start": -82.63667805240037,
            "bin_end": -82.63031832547355,
            "count": 1
           },
           {
            "bin_start": -82.63031832547355,
            "bin_end": -82.62395859854674,
            "count": 0
           },
           {
            "bin_start": -82.62395859854674,
            "bin_end": -82.61759887161992,
            "count": 0
           },
           {
            "bin_start": -82.61759887161992,
            "bin_end": -82.61123914469312,
            "count": 0
           },
           {
            "bin_start": -82.61123914469312,
            "bin_end": -82.6048794177663,
            "count": 0
           },
           {
            "bin_start": -82.6048794177663,
            "bin_end": -82.59851969083948,
            "count": 0
           },
           {
            "bin_start": -82.59851969083948,
            "bin_end": -82.59215996391268,
            "count": 1
           },
           {
            "bin_start": -82.59215996391268,
            "bin_end": -82.58580023698586,
            "count": 2
           }
          ]
         }
        },
        {
         "name": "metropolitan",
         "dtype": "object",
         "stats": {
          "unique_count": 1,
          "nan_count": 0,
          "categories": [
           {
            "name": "asheville",
            "count": 5
           }
          ]
         }
        },
        {
         "name": "name",
         "dtype": "object",
         "stats": {
          "unique_count": 5,
          "nan_count": 0,
          "categories": [
           {
            "name": "Lovely cabin, great Asheville spot",
            "count": 1
           },
           {
            "name": "Glamping w HOT TUB + AC!",
            "count": 1
           },
           {
            "name": "3 others",
            "count": 3
           }
          ]
         }
        },
        {
         "name": "price",
         "dtype": "float64",
         "stats": {
          "unique_count": 4,
          "nan_count": 0,
          "min": "24.0",
          "max": "125.0",
          "histogram": [
           {
            "bin_start": 24,
            "bin_end": 34.1,
            "count": 1
           },
           {
            "bin_start": 34.1,
            "bin_end": 44.2,
            "count": 0
           },
           {
            "bin_start": 44.2,
            "bin_end": 54.3,
            "count": 0
           },
           {
            "bin_start": 54.3,
            "bin_end": 64.4,
            "count": 0
           },
           {
            "bin_start": 64.4,
            "bin_end": 74.5,
            "count": 1
           },
           {
            "bin_start": 74.5,
            "bin_end": 84.6,
            "count": 0
           },
           {
            "bin_start": 84.6,
            "bin_end": 94.7,
            "count": 0
           },
           {
            "bin_start": 94.7,
            "bin_end": 104.8,
            "count": 0
           },
           {
            "bin_start": 104.8,
            "bin_end": 114.89999999999999,
            "count": 2
           },
           {
            "bin_start": 114.89999999999999,
            "bin_end": 125,
            "count": 1
           }
          ]
         }
        },
        {
         "name": "property_type",
         "dtype": "object",
         "stats": {
          "unique_count": 2,
          "nan_count": 0,
          "categories": [
           {
            "name": "House",
            "count": 4
           },
           {
            "name": "Tent",
            "count": 1
           }
          ]
         }
        },
        {
         "name": "review_scores_checkin",
         "dtype": "float64",
         "stats": {
          "unique_count": 2,
          "nan_count": 0,
          "min": "9.0",
          "max": "10.0",
          "histogram": [
           {
            "bin_start": 9,
            "bin_end": 9.1,
            "count": 1
           },
           {
            "bin_start": 9.1,
            "bin_end": 9.2,
            "count": 0
           },
           {
            "bin_start": 9.2,
            "bin_end": 9.3,
            "count": 0
           },
           {
            "bin_start": 9.3,
            "bin_end": 9.4,
            "count": 0
           },
           {
            "bin_start": 9.4,
            "bin_end": 9.5,
            "count": 0
           },
           {
            "bin_start": 9.5,
            "bin_end": 9.6,
            "count": 0
           },
           {
            "bin_start": 9.6,
            "bin_end": 9.7,
            "count": 0
           },
           {
            "bin_start": 9.7,
            "bin_end": 9.8,
            "count": 0
           },
           {
            "bin_start": 9.8,
            "bin_end": 9.9,
            "count": 0
           },
           {
            "bin_start": 9.9,
            "bin_end": 10,
            "count": 4
           }
          ]
         }
        },
        {
         "name": "review_scores_cleanliness",
         "dtype": "float64",
         "stats": {
          "unique_count": 3,
          "nan_count": 0,
          "min": "8.0",
          "max": "10.0",
          "histogram": [
           {
            "bin_start": 8,
            "bin_end": 8.2,
            "count": 1
           },
           {
            "bin_start": 8.2,
            "bin_end": 8.4,
            "count": 0
           },
           {
            "bin_start": 8.4,
            "bin_end": 8.6,
            "count": 0
           },
           {
            "bin_start": 8.6,
            "bin_end": 8.8,
            "count": 0
           },
           {
            "bin_start": 8.8,
            "bin_end": 9,
            "count": 0
           },
           {
            "bin_start": 9,
            "bin_end": 9.2,
            "count": 2
           },
           {
            "bin_start": 9.2,
            "bin_end": 9.4,
            "count": 0
           },
           {
            "bin_start": 9.4,
            "bin_end": 9.6,
            "count": 0
           },
           {
            "bin_start": 9.6,
            "bin_end": 9.8,
            "count": 0
           },
           {
            "bin_start": 9.8,
            "bin_end": 10,
            "count": 2
           }
          ]
         }
        },
        {
         "name": "review_scores_communication",
         "dtype": "float64",
         "stats": {
          "unique_count": 2,
          "nan_count": 0,
          "min": "9.0",
          "max": "10.0",
          "histogram": [
           {
            "bin_start": 9,
            "bin_end": 9.1,
            "count": 2
           },
           {
            "bin_start": 9.1,
            "bin_end": 9.2,
            "count": 0
           },
           {
            "bin_start": 9.2,
            "bin_end": 9.3,
            "count": 0
           },
           {
            "bin_start": 9.3,
            "bin_end": 9.4,
            "count": 0
           },
           {
            "bin_start": 9.4,
            "bin_end": 9.5,
            "count": 0
           },
           {
            "bin_start": 9.5,
            "bin_end": 9.6,
            "count": 0
           },
           {
            "bin_start": 9.6,
            "bin_end": 9.7,
            "count": 0
           },
           {
            "bin_start": 9.7,
            "bin_end": 9.8,
            "count": 0
           },
           {
            "bin_start": 9.8,
            "bin_end": 9.9,
            "count": 0
           },
           {
            "bin_start": 9.9,
            "bin_end": 10,
            "count": 3
           }
          ]
         }
        },
        {
         "name": "review_scores_location",
         "dtype": "float64",
         "stats": {
          "unique_count": 2,
          "nan_count": 0,
          "min": "8.0",
          "max": "9.0",
          "histogram": [
           {
            "bin_start": 8,
            "bin_end": 8.1,
            "count": 1
           },
           {
            "bin_start": 8.1,
            "bin_end": 8.2,
            "count": 0
           },
           {
            "bin_start": 8.2,
            "bin_end": 8.3,
            "count": 0
           },
           {
            "bin_start": 8.3,
            "bin_end": 8.4,
            "count": 0
           },
           {
            "bin_start": 8.4,
            "bin_end": 8.5,
            "count": 0
           },
           {
            "bin_start": 8.5,
            "bin_end": 8.6,
            "count": 0
           },
           {
            "bin_start": 8.6,
            "bin_end": 8.7,
            "count": 0
           },
           {
            "bin_start": 8.7,
            "bin_end": 8.8,
            "count": 0
           },
           {
            "bin_start": 8.8,
            "bin_end": 8.9,
            "count": 0
           },
           {
            "bin_start": 8.9,
            "bin_end": 9,
            "count": 4
           }
          ]
         }
        },
        {
         "name": "review_scores_rating",
         "dtype": "float64",
         "stats": {
          "unique_count": 3,
          "nan_count": 0,
          "min": "78.0",
          "max": "96.0",
          "histogram": [
           {
            "bin_start": 78,
            "bin_end": 79.8,
            "count": 1
           },
           {
            "bin_start": 79.8,
            "bin_end": 81.6,
            "count": 0
           },
           {
            "bin_start": 81.6,
            "bin_end": 83.4,
            "count": 0
           },
           {
            "bin_start": 83.4,
            "bin_end": 85.2,
            "count": 0
           },
           {
            "bin_start": 85.2,
            "bin_end": 87,
            "count": 0
           },
           {
            "bin_start": 87,
            "bin_end": 88.8,
            "count": 0
           },
           {
            "bin_start": 88.8,
            "bin_end": 90.6,
            "count": 0
           },
           {
            "bin_start": 90.6,
            "bin_end": 92.4,
            "count": 0
           },
           {
            "bin_start": 92.4,
            "bin_end": 94.2,
            "count": 2
           },
           {
            "bin_start": 94.2,
            "bin_end": 96,
            "count": 2
           }
          ]
         }
        },
        {
         "name": "review_scores_value",
         "dtype": "float64",
         "stats": {
          "unique_count": 3,
          "nan_count": 0,
          "min": "8.0",
          "max": "10.0",
          "histogram": [
           {
            "bin_start": 8,
            "bin_end": 8.2,
            "count": 1
           },
           {
            "bin_start": 8.2,
            "bin_end": 8.4,
            "count": 0
           },
           {
            "bin_start": 8.4,
            "bin_end": 8.6,
            "count": 0
           },
           {
            "bin_start": 8.6,
            "bin_end": 8.8,
            "count": 0
           },
           {
            "bin_start": 8.8,
            "bin_end": 9,
            "count": 0
           },
           {
            "bin_start": 9,
            "bin_end": 9.2,
            "count": 2
           },
           {
            "bin_start": 9.2,
            "bin_end": 9.4,
            "count": 0
           },
           {
            "bin_start": 9.4,
            "bin_end": 9.6,
            "count": 0
           },
           {
            "bin_start": 9.6,
            "bin_end": 9.8,
            "count": 0
           },
           {
            "bin_start": 9.8,
            "bin_end": 10,
            "count": 2
           }
          ]
         }
        },
        {
         "name": "room_type",
         "dtype": "object",
         "stats": {
          "unique_count": 3,
          "nan_count": 0,
          "categories": [
           {
            "name": "Entire home/apt",
            "count": 3
           },
           {
            "name": "Shared room",
            "count": 1
           },
           {
            "name": "Private room",
            "count": 1
           }
          ]
         }
        },
        {
         "name": "state",
         "dtype": "object",
         "stats": {
          "unique_count": 1,
          "nan_count": 0,
          "categories": [
           {
            "name": "NC",
            "count": 5
           }
          ]
         }
        },
        {
         "name": "zipcode",
         "dtype": "object",
         "stats": {
          "unique_count": 1,
          "nan_count": 0,
          "categories": [
           {
            "name": "28806.0",
            "count": 5
           }
          ]
         }
        },
        {
         "name": "_deepnote_index_column",
         "dtype": "int64"
        }
       ],
       "rows_top": [
        {
         "accommodates": 2,
         "amenities": "{\"Wireless Internet\",\"Air Conditioning\",Kitchen,\"Free Parking on Premises\",\"Pets Allowed\",\"Pets liv…",
         "availability_30": 0,
         "bathrooms": 1,
         "bed_type": "Real Bed",
         "bedrooms": 1,
         "beds": 1,
         "cancellation_policy": "moderate",
         "city": "Asheville",
         "host_id": 2600734,
         "id": 665257,
         "instant_bookable": "f",
         "latitude": 35.590783663429114,
         "longitude": -82.59146636997585,
         "metropolitan": "asheville",
         "name": "Lovely cabin, great Asheville spot",
         "price": 105,
         "property_type": "House",
         "review_scores_checkin": 10,
         "review_scores_cleanliness": 9,
         "review_scores_communication": 10,
         "review_scores_location": 9,
         "review_scores_rating": 96,
         "review_scores_value": 10,
         "room_type": "Entire home/apt",
         "state": "NC",
         "zipcode": "28806.0",
         "_deepnote_index_column": 0
        },
        {
         "accommodates": 4,
         "amenities": "{TV,\"Cable TV\",Internet,\"Wireless Internet\",\"Air Conditioning\",Kitchen,\"Free Parking on Premises\",D…",
         "availability_30": 17,
         "bathrooms": 1,
         "bed_type": "Real Bed",
         "bedrooms": 1,
         "beds": 2,
         "cancellation_policy": "strict",
         "city": "Asheville",
         "host_id": 4295819,
         "id": 2746729,
         "instant_bookable": "f",
         "latitude": 35.5849679090387,
         "longitude": -82.63219899642931,
         "metropolitan": "asheville",
         "name": "Glamping w HOT TUB + AC!",
         "price": 125,
         "property_type": "Tent",
         "review_scores_checkin": 10,
         "review_scores_cleanliness": 10,
         "review_scores_communication": 10,
         "review_scores_location": 9,
         "review_scores_rating": 96,
         "review_scores_value": 9,
         "room_type": "Entire home/apt",
         "state": "NC",
         "zipcode": "28806.0",
         "_deepnote_index_column": 1
        },
        {
         "accommodates": 6,
         "amenities": "{Internet,\"Wireless Internet\",\"Free Parking on Premises\",\"Smoking Allowed\",Heating,\"Family/Kid Frie…",
         "availability_30": 25,
         "bathrooms": 2.5,
         "bed_type": "Real Bed",
         "bedrooms": 1,
         "beds": 6,
         "cancellation_policy": "moderate",
         "city": "Asheville",
         "host_id": 746673,
         "id": 156926,
         "instant_bookable": "f",
         "latitude": 35.57775533585112,
         "longitude": -82.5949955466383,
         "metropolitan": "asheville",
         "name": "Mixed Dorm Bunk at BPS Hostel",
         "price": 24,
         "property_type": "House",
         "review_scores_checkin": 10,
         "review_scores_cleanliness": 9,
         "review_scores_communication": 9,
         "review_scores_location": 9,
         "review_scores_rating": 93,
         "review_scores_value": 10,
         "room_type": "Shared room",
         "state": "NC",
         "zipcode": "28806.0",
         "_deepnote_index_column": 2
        },
        {
         "accommodates": 10,
         "amenities": "{TV,\"Cable TV\",Internet,\"Wireless Internet\",\"Air Conditioning\",Kitchen,\"Free Parking on Premises\",\"…",
         "availability_30": 17,
         "bathrooms": 2.5,
         "bed_type": "Real Bed",
         "bedrooms": 4,
         "beds": 5,
         "cancellation_policy": "strict",
         "city": "Asheville",
         "host_id": 9385592,
         "id": 3767793,
         "instant_bookable": "f",
         "latitude": 35.63595306677065,
         "longitude": -82.64939750625399,
         "metropolitan": "asheville",
         "name": "Modern Home - Views - HOT TUB",
         "price": 105,
         "property_type": "House",
         "review_scores_checkin": 9,
         "review_scores_cleanliness": 8,
         "review_scores_communication": 9,
         "review_scores_location": 8,
         "review_scores_rating": 78,
         "review_scores_value": 8,
         "room_type": "Entire home/apt",
         "state": "NC",
         "zipcode": "28806.0",
         "_deepnote_index_column": 3
        },
        {
         "accommodates": 2,
         "amenities": "{Internet,\"Wireless Internet\",\"Air Conditioning\",Kitchen,\"Free Parking on Premises\",\"Pets live on t…",
         "availability_30": 16,
         "bathrooms": 1,
         "bed_type": "Real Bed",
         "bedrooms": 1,
         "beds": 1,
         "cancellation_policy": "flexible",
         "city": "Asheville",
         "host_id": 27672030,
         "id": 5927700,
         "instant_bookable": "t",
         "latitude": 35.58987845895936,
         "longitude": -82.58580023698586,
         "metropolitan": "asheville",
         "name": "Bright Suite with Sunroom",
         "price": 65,
         "property_type": "House",
         "review_scores_checkin": 10,
         "review_scores_cleanliness": 10,
         "review_scores_communication": 10,
         "review_scores_location": 9,
         "review_scores_rating": 93,
         "review_scores_value": 9,
         "room_type": "Private room",
         "state": "NC",
         "zipcode": "28806.0",
         "_deepnote_index_column": 4
        }
       ],
       "rows_bottom": null
      },
      "text/plain": "   accommodates                                          amenities  \\\n0           2.0  {\"Wireless Internet\",\"Air Conditioning\",Kitche...   \n1           4.0  {TV,\"Cable TV\",Internet,\"Wireless Internet\",\"A...   \n2           6.0  {Internet,\"Wireless Internet\",\"Free Parking on...   \n3          10.0  {TV,\"Cable TV\",Internet,\"Wireless Internet\",\"A...   \n4           2.0  {Internet,\"Wireless Internet\",\"Air Conditionin...   \n\n   availability_30  bathrooms  bed_type  bedrooms  beds cancellation_policy  \\\n0                0        1.0  Real Bed       1.0   1.0            moderate   \n1               17        1.0  Real Bed       1.0   2.0              strict   \n2               25        2.5  Real Bed       1.0   6.0            moderate   \n3               17        2.5  Real Bed       4.0   5.0              strict   \n4               16        1.0  Real Bed       1.0   1.0            flexible   \n\n        city   host_id  ...  property_type review_scores_checkin  \\\n0  Asheville   2600734  ...          House                  10.0   \n1  Asheville   4295819  ...           Tent                  10.0   \n2  Asheville    746673  ...          House                  10.0   \n3  Asheville   9385592  ...          House                   9.0   \n4  Asheville  27672030  ...          House                  10.0   \n\n   review_scores_cleanliness  review_scores_communication  \\\n0                        9.0                         10.0   \n1                       10.0                         10.0   \n2                        9.0                          9.0   \n3                        8.0                          9.0   \n4                       10.0                         10.0   \n\n  review_scores_location review_scores_rating  review_scores_value  \\\n0                    9.0                 96.0                 10.0   \n1                    9.0                 96.0                  9.0   \n2                    9.0                 93.0                 10.0   \n3                    8.0                 78.0                  8.0   \n4                    9.0                 93.0                  9.0   \n\n         room_type  state  zipcode  \n0  Entire home/apt     NC  28806.0  \n1  Entire home/apt     NC  28806.0  \n2      Shared room     NC  28806.0  \n3  Entire home/apt     NC  28806.0  \n4     Private room     NC  28806.0  \n\n[5 rows x 27 columns]",
      "text/html": "<div>\n<style scoped>\n    .dataframe tbody tr th:only-of-type {\n        vertical-align: middle;\n    }\n\n    .dataframe tbody tr th {\n        vertical-align: top;\n    }\n\n    .dataframe thead th {\n        text-align: right;\n    }\n</style>\n<table border=\"1\" class=\"dataframe\">\n  <thead>\n    <tr style=\"text-align: right;\">\n      <th></th>\n      <th>accommodates</th>\n      <th>amenities</th>\n      <th>availability_30</th>\n      <th>bathrooms</th>\n      <th>bed_type</th>\n      <th>bedrooms</th>\n      <th>beds</th>\n      <th>cancellation_policy</th>\n      <th>city</th>\n      <th>host_id</th>\n      <th>...</th>\n      <th>property_type</th>\n      <th>review_scores_checkin</th>\n      <th>review_scores_cleanliness</th>\n      <th>review_scores_communication</th>\n      <th>review_scores_location</th>\n      <th>review_scores_rating</th>\n      <th>review_scores_value</th>\n      <th>room_type</th>\n      <th>state</th>\n      <th>zipcode</th>\n    </tr>\n  </thead>\n  <tbody>\n    <tr>\n      <th>0</th>\n      <td>2.0</td>\n      <td>{\"Wireless Internet\",\"Air Conditioning\",Kitche...</td>\n      <td>0</td>\n      <td>1.0</td>\n      <td>Real Bed</td>\n      <td>1.0</td>\n      <td>1.0</td>\n      <td>moderate</td>\n      <td>Asheville</td>\n      <td>2600734</td>\n      <td>...</td>\n      <td>House</td>\n      <td>10.0</td>\n      <td>9.0</td>\n      <td>10.0</td>\n      <td>9.0</td>\n      <td>96.0</td>\n      <td>10.0</td>\n      <td>Entire home/apt</td>\n      <td>NC</td>\n      <td>28806.0</td>\n    </tr>\n    <tr>\n      <th>1</th>\n      <td>4.0</td>\n      <td>{TV,\"Cable TV\",Internet,\"Wireless Internet\",\"A...</td>\n      <td>17</td>\n      <td>1.0</td>\n      <td>Real Bed</td>\n      <td>1.0</td>\n      <td>2.0</td>\n      <td>strict</td>\n      <td>Asheville</td>\n      <td>4295819</td>\n      <td>...</td>\n      <td>Tent</td>\n      <td>10.0</td>\n      <td>10.0</td>\n      <td>10.0</td>\n      <td>9.0</td>\n      <td>96.0</td>\n      <td>9.0</td>\n      <td>Entire home/apt</td>\n      <td>NC</td>\n      <td>28806.0</td>\n    </tr>\n    <tr>\n      <th>2</th>\n      <td>6.0</td>\n      <td>{Internet,\"Wireless Internet\",\"Free Parking on...</td>\n      <td>25</td>\n      <td>2.5</td>\n      <td>Real Bed</td>\n      <td>1.0</td>\n      <td>6.0</td>\n      <td>moderate</td>\n      <td>Asheville</td>\n      <td>746673</td>\n      <td>...</td>\n      <td>House</td>\n      <td>10.0</td>\n      <td>9.0</td>\n      <td>9.0</td>\n      <td>9.0</td>\n      <td>93.0</td>\n      <td>10.0</td>\n      <td>Shared room</td>\n      <td>NC</td>\n      <td>28806.0</td>\n    </tr>\n    <tr>\n      <th>3</th>\n      <td>10.0</td>\n      <td>{TV,\"Cable TV\",Internet,\"Wireless Internet\",\"A...</td>\n      <td>17</td>\n      <td>2.5</td>\n      <td>Real Bed</td>\n      <td>4.0</td>\n      <td>5.0</td>\n      <td>strict</td>\n      <td>Asheville</td>\n      <td>9385592</td>\n      <td>...</td>\n      <td>House</td>\n      <td>9.0</td>\n      <td>8.0</td>\n      <td>9.0</td>\n      <td>8.0</td>\n      <td>78.0</td>\n      <td>8.0</td>\n      <td>Entire home/apt</td>\n      <td>NC</td>\n      <td>28806.0</td>\n    </tr>\n    <tr>\n      <th>4</th>\n      <td>2.0</td>\n      <td>{Internet,\"Wireless Internet\",\"Air Conditionin...</td>\n      <td>16</td>\n      <td>1.0</td>\n      <td>Real Bed</td>\n      <td>1.0</td>\n      <td>1.0</td>\n      <td>flexible</td>\n      <td>Asheville</td>\n      <td>27672030</td>\n      <td>...</td>\n      <td>House</td>\n      <td>10.0</td>\n      <td>10.0</td>\n      <td>10.0</td>\n      <td>9.0</td>\n      <td>93.0</td>\n      <td>9.0</td>\n      <td>Private room</td>\n      <td>NC</td>\n      <td>28806.0</td>\n    </tr>\n  </tbody>\n</table>\n<p>5 rows × 27 columns</p>\n</div>"
     },
     "metadata": {}
    }
   ]
  },
  {
   "cell_type": "code",
   "metadata": {
    "tags": [],
    "cell_id": "00007-77c62d0a-d598-49a3-a510-14950d68eba0",
    "deepnote_to_be_reexecuted": false,
    "source_hash": "36a0503a",
    "execution_start": 1626628378155,
    "execution_millis": 41,
    "deepnote_cell_type": "code"
   },
   "source": "listings['instant_bookable'].value_counts()",
   "execution_count": null,
   "outputs": [
    {
     "output_type": "execute_result",
     "execution_count": 10,
     "data": {
      "text/plain": "f    10171\nt     3773\nName: instant_bookable, dtype: int64"
     },
     "metadata": {}
    }
   ]
  },
  {
   "cell_type": "code",
   "metadata": {
    "tags": [],
    "cell_id": "00008-215f283d-3bce-4373-82c9-a9dd9e0be774",
    "deepnote_to_be_reexecuted": false,
    "source_hash": "49187490",
    "execution_start": 1627420488557,
    "execution_millis": 2101,
    "deepnote_cell_type": "code"
   },
   "source": "corrmat = listings.corr()\nmask = np.zeros_like(corrmat)\nmask[np.triu_indices_from(mask)] = True\nwith sns.axes_style('white'):\n    f, ax = plt.subplots(figsize=(20,20))\n    ax = sns.heatmap(corrmat, mask = mask, vmax=.3, square=True, annot=True, fmt='.2f')",
   "execution_count": null,
   "outputs": [
    {
     "data": {
      "text/plain": "<Figure size 1440x1440 with 2 Axes>",
      "image/png": "[encoded data removed]"
     },
     "metadata": {
      "image/png": {
       "width": 1213,
       "height": 1167
      }
     },
     "output_type": "display_data"
    }
   ]
  },
  {
   "cell_type": "code",
   "metadata": {
    "tags": [],
    "cell_id": "00010-2191a38f-5c99-4195-89e0-5f18130cad65",
    "deepnote_to_be_reexecuted": false,
    "source_hash": "58806651",
    "execution_start": 1627420548530,
    "execution_millis": 6,
    "deepnote_cell_type": "code"
   },
   "source": "review_scores_rating_corr = listings.corr()['review_scores_rating'].sort_values(ascending = False)[1:]\nreview_scores_rating_corr",
   "execution_count": null,
   "outputs": [
    {
     "output_type": "execute_result",
     "execution_count": 11,
     "data": {
      "text/plain": "review_scores_cleanliness      0.683090\nreview_scores_value            0.680812\nreview_scores_communication    0.557955\nreview_scores_checkin          0.522130\nreview_scores_location         0.432526\nbathrooms                      0.051625\nprice                          0.049544\nbedrooms                       0.045491\nbeds                           0.021305\nlatitude                       0.019664\nid                             0.017529\naccommodates                   0.005918\nlongitude                     -0.008930\nhost_id                       -0.020412\navailability_30               -0.074726\nName: review_scores_rating, dtype: float64"
     },
     "metadata": {}
    }
   ]
  },
  {
   "cell_type": "code",
   "metadata": {
    "tags": [],
    "cell_id": "00011-3c83f034-cbfc-464d-ad48-b9f09fc17ce2",
    "deepnote_to_be_reexecuted": false,
    "source_hash": "ede39b87",
    "execution_start": 1627421630715,
    "execution_millis": 4,
    "deepnote_cell_type": "code"
   },
   "source": "#for now\nunnec_cols = ['latitude', 'longitude', 'zipcode', 'id', 'host_id']\nlistings = listings.drop(columns = unnec_cols)",
   "execution_count": null,
   "outputs": []
  },
  {
   "cell_type": "code",
   "metadata": {
    "tags": [],
    "cell_id": "00012-f10c466b-356d-4980-852e-c4667e986e0a",
    "deepnote_to_be_reexecuted": false,
    "source_hash": "bb8eca32",
    "execution_start": 1627421633359,
    "execution_millis": 105,
    "deepnote_cell_type": "code"
   },
   "source": "listings.head()",
   "execution_count": null,
   "outputs": [
    {
     "output_type": "execute_result",
     "execution_count": 13,
     "data": {
      "application/vnd.deepnote.dataframe.v2+json": {
       "row_count": 5,
       "column_count": 22,
       "columns": [
        {
         "name": "accommodates",
         "dtype": "float64",
         "stats": {
          "unique_count": 4,
          "nan_count": 0,
          "min": "2.0",
          "max": "10.0",
          "histogram": [
           {
            "bin_start": 2,
            "bin_end": 2.8,
            "count": 2
           },
           {
            "bin_start": 2.8,
            "bin_end": 3.6,
            "count": 0
           },
           {
            "bin_start": 3.6,
            "bin_end": 4.4,
            "count": 1
           },
           {
            "bin_start": 4.4,
            "bin_end": 5.2,
            "count": 0
           },
           {
            "bin_start": 5.2,
            "bin_end": 6,
            "count": 0
           },
           {
            "bin_start": 6,
            "bin_end": 6.800000000000001,
            "count": 1
           },
           {
            "bin_start": 6.800000000000001,
            "bin_end": 7.6000000000000005,
            "count": 0
           },
           {
            "bin_start": 7.6000000000000005,
            "bin_end": 8.4,
            "count": 0
           },
           {
            "bin_start": 8.4,
            "bin_end": 9.2,
            "count": 0
           },
           {
            "bin_start": 9.2,
            "bin_end": 10,
            "count": 1
           }
          ]
         }
        },
        {
         "name": "amenities",
         "dtype": "object",
         "stats": {
          "unique_count": 5,
          "nan_count": 0,
          "categories": [
           {
            "name": "{\"Wireless Internet\",\"Air Conditioning\",Kitchen,\"Free Parking on Premises\",\"Pets Allowed\",\"Pets live on this property\",\"Other pet(s)\",\"Indoor Fireplace\",Heating}",
            "count": 1
           },
           {
            "name": "{TV,\"Cable TV\",Internet,\"Wireless Internet\",\"Air Conditioning\",Kitchen,\"Free Parking on Premises\",Dog(s),\"Hot Tub\",Heating,\"Family/Kid Friendly\"}",
            "count": 1
           },
           {
            "name": "3 others",
            "count": 3
           }
          ]
         }
        },
        {
         "name": "availability_30",
         "dtype": "int64",
         "stats": {
          "unique_count": 4,
          "nan_count": 0,
          "min": "0",
          "max": "25",
          "histogram": [
           {
            "bin_start": 0,
            "bin_end": 2.5,
            "count": 1
           },
           {
            "bin_start": 2.5,
            "bin_end": 5,
            "count": 0
           },
           {
            "bin_start": 5,
            "bin_end": 7.5,
            "count": 0
           },
           {
            "bin_start": 7.5,
            "bin_end": 10,
            "count": 0
           },
           {
            "bin_start": 10,
            "bin_end": 12.5,
            "count": 0
           },
           {
            "bin_start": 12.5,
            "bin_end": 15,
            "count": 0
           },
           {
            "bin_start": 15,
            "bin_end": 17.5,
            "count": 3
           },
           {
            "bin_start": 17.5,
            "bin_end": 20,
            "count": 0
           },
           {
            "bin_start": 20,
            "bin_end": 22.5,
            "count": 0
           },
           {
            "bin_start": 22.5,
            "bin_end": 25,
            "count": 1
           }
          ]
         }
        },
        {
         "name": "bathrooms",
         "dtype": "float64",
         "stats": {
          "unique_count": 2,
          "nan_count": 0,
          "min": "1.0",
          "max": "2.5",
          "histogram": [
           {
            "bin_start": 1,
            "bin_end": 1.15,
            "count": 3
           },
           {
            "bin_start": 1.15,
            "bin_end": 1.3,
            "count": 0
           },
           {
            "bin_start": 1.3,
            "bin_end": 1.45,
            "count": 0
           },
           {
            "bin_start": 1.45,
            "bin_end": 1.6,
            "count": 0
           },
           {
            "bin_start": 1.6,
            "bin_end": 1.75,
            "count": 0
           },
           {
            "bin_start": 1.75,
            "bin_end": 1.9,
            "count": 0
           },
           {
            "bin_start": 1.9,
            "bin_end": 2.05,
            "count": 0
           },
           {
            "bin_start": 2.05,
            "bin_end": 2.2,
            "count": 0
           },
           {
            "bin_start": 2.2,
            "bin_end": 2.3499999999999996,
            "count": 0
           },
           {
            "bin_start": 2.3499999999999996,
            "bin_end": 2.5,
            "count": 2
           }
          ]
         }
        },
        {
         "name": "bed_type",
         "dtype": "object",
         "stats": {
          "unique_count": 1,
          "nan_count": 0,
          "categories": [
           {
            "name": "Real Bed",
            "count": 5
           }
          ]
         }
        },
        {
         "name": "bedrooms",
         "dtype": "float64",
         "stats": {
          "unique_count": 2,
          "nan_count": 0,
          "min": "1.0",
          "max": "4.0",
          "histogram": [
           {
            "bin_start": 1,
            "bin_end": 1.3,
            "count": 4
           },
           {
            "bin_start": 1.3,
            "bin_end": 1.6,
            "count": 0
           },
           {
            "bin_start": 1.6,
            "bin_end": 1.9,
            "count": 0
           },
           {
            "bin_start": 1.9,
            "bin_end": 2.2,
            "count": 0
           },
           {
            "bin_start": 2.2,
            "bin_end": 2.5,
            "count": 0
           },
           {
            "bin_start": 2.5,
            "bin_end": 2.8,
            "count": 0
           },
           {
            "bin_start": 2.8,
            "bin_end": 3.1,
            "count": 0
           },
           {
            "bin_start": 3.1,
            "bin_end": 3.4,
            "count": 0
           },
           {
            "bin_start": 3.4,
            "bin_end": 3.6999999999999997,
            "count": 0
           },
           {
            "bin_start": 3.6999999999999997,
            "bin_end": 4,
            "count": 1
           }
          ]
         }
        },
        {
         "name": "beds",
         "dtype": "float64",
         "stats": {
          "unique_count": 4,
          "nan_count": 0,
          "min": "1.0",
          "max": "6.0",
          "histogram": [
           {
            "bin_start": 1,
            "bin_end": 1.5,
            "count": 2
           },
           {
            "bin_start": 1.5,
            "bin_end": 2,
            "count": 0
           },
           {
            "bin_start": 2,
            "bin_end": 2.5,
            "count": 1
           },
           {
            "bin_start": 2.5,
            "bin_end": 3,
            "count": 0
           },
           {
            "bin_start": 3,
            "bin_end": 3.5,
            "count": 0
           },
           {
            "bin_start": 3.5,
            "bin_end": 4,
            "count": 0
           },
           {
            "bin_start": 4,
            "bin_end": 4.5,
            "count": 0
           },
           {
            "bin_start": 4.5,
            "bin_end": 5,
            "count": 0
           },
           {
            "bin_start": 5,
            "bin_end": 5.5,
            "count": 1
           },
           {
            "bin_start": 5.5,
            "bin_end": 6,
            "count": 1
           }
          ]
         }
        },
        {
         "name": "cancellation_policy",
         "dtype": "object",
         "stats": {
          "unique_count": 3,
          "nan_count": 0,
          "categories": [
           {
            "name": "moderate",
            "count": 2
           },
           {
            "name": "strict",
            "count": 2
           },
           {
            "name": "flexible",
            "count": 1
           }
          ]
         }
        },
        {
         "name": "city",
         "dtype": "object",
         "stats": {
          "unique_count": 1,
          "nan_count": 0,
          "categories": [
           {
            "name": "Asheville",
            "count": 5
           }
          ]
         }
        },
        {
         "name": "instant_bookable",
         "dtype": "object",
         "stats": {
          "unique_count": 2,
          "nan_count": 0,
          "categories": [
           {
            "name": "f",
            "count": 4
           },
           {
            "name": "t",
            "count": 1
           }
          ]
         }
        },
        {
         "name": "metropolitan",
         "dtype": "object",
         "stats": {
          "unique_count": 1,
          "nan_count": 0,
          "categories": [
           {
            "name": "asheville",
            "count": 5
           }
          ]
         }
        },
        {
         "name": "name",
         "dtype": "object",
         "stats": {
          "unique_count": 5,
          "nan_count": 0,
          "categories": [
           {
            "name": "Lovely cabin, great Asheville spot",
            "count": 1
           },
           {
            "name": "Glamping w HOT TUB + AC!",
            "count": 1
           },
           {
            "name": "3 others",
            "count": 3
           }
          ]
         }
        },
        {
         "name": "price",
         "dtype": "float64",
         "stats": {
          "unique_count": 4,
          "nan_count": 0,
          "min": "24.0",
          "max": "125.0",
          "histogram": [
           {
            "bin_start": 24,
            "bin_end": 34.1,
            "count": 1
           },
           {
            "bin_start": 34.1,
            "bin_end": 44.2,
            "count": 0
           },
           {
            "bin_start": 44.2,
            "bin_end": 54.3,
            "count": 0
           },
           {
            "bin_start": 54.3,
            "bin_end": 64.4,
            "count": 0
           },
           {
            "bin_start": 64.4,
            "bin_end": 74.5,
            "count": 1
           },
           {
            "bin_start": 74.5,
            "bin_end": 84.6,
            "count": 0
           },
           {
            "bin_start": 84.6,
            "bin_end": 94.7,
            "count": 0
           },
           {
            "bin_start": 94.7,
            "bin_end": 104.8,
            "count": 0
           },
           {
            "bin_start": 104.8,
            "bin_end": 114.89999999999999,
            "count": 2
           },
           {
            "bin_start": 114.89999999999999,
            "bin_end": 125,
            "count": 1
           }
          ]
         }
        },
        {
         "name": "property_type",
         "dtype": "object",
         "stats": {
          "unique_count": 2,
          "nan_count": 0,
          "categories": [
           {
            "name": "House",
            "count": 4
           },
           {
            "name": "Tent",
            "count": 1
           }
          ]
         }
        },
        {
         "name": "review_scores_checkin",
         "dtype": "float64",
         "stats": {
          "unique_count": 2,
          "nan_count": 0,
          "min": "9.0",
          "max": "10.0",
          "histogram": [
           {
            "bin_start": 9,
            "bin_end": 9.1,
            "count": 1
           },
           {
            "bin_start": 9.1,
            "bin_end": 9.2,
            "count": 0
           },
           {
            "bin_start": 9.2,
            "bin_end": 9.3,
            "count": 0
           },
           {
            "bin_start": 9.3,
            "bin_end": 9.4,
            "count": 0
           },
           {
            "bin_start": 9.4,
            "bin_end": 9.5,
            "count": 0
           },
           {
            "bin_start": 9.5,
            "bin_end": 9.6,
            "count": 0
           },
           {
            "bin_start": 9.6,
            "bin_end": 9.7,
            "count": 0
           },
           {
            "bin_start": 9.7,
            "bin_end": 9.8,
            "count": 0
           },
           {
            "bin_start": 9.8,
            "bin_end": 9.9,
            "count": 0
           },
           {
            "bin_start": 9.9,
            "bin_end": 10,
            "count": 4
           }
          ]
         }
        },
        {
         "name": "review_scores_cleanliness",
         "dtype": "float64",
         "stats": {
          "unique_count": 3,
          "nan_count": 0,
          "min": "8.0",
          "max": "10.0",
          "histogram": [
           {
            "bin_start": 8,
            "bin_end": 8.2,
            "count": 1
           },
           {
            "bin_start": 8.2,
            "bin_end": 8.4,
            "count": 0
           },
           {
            "bin_start": 8.4,
            "bin_end": 8.6,
            "count": 0
           },
           {
            "bin_start": 8.6,
            "bin_end": 8.8,
            "count": 0
           },
           {
            "bin_start": 8.8,
            "bin_end": 9,
            "count": 0
           },
           {
            "bin_start": 9,
            "bin_end": 9.2,
            "count": 2
           },
           {
            "bin_start": 9.2,
            "bin_end": 9.4,
            "count": 0
           },
           {
            "bin_start": 9.4,
            "bin_end": 9.6,
            "count": 0
           },
           {
            "bin_start": 9.6,
            "bin_end": 9.8,
            "count": 0
           },
           {
            "bin_start": 9.8,
            "bin_end": 10,
            "count": 2
           }
          ]
         }
        },
        {
         "name": "review_scores_communication",
         "dtype": "float64",
         "stats": {
          "unique_count": 2,
          "nan_count": 0,
          "min": "9.0",
          "max": "10.0",
          "histogram": [
           {
            "bin_start": 9,
            "bin_end": 9.1,
            "count": 2
           },
           {
            "bin_start": 9.1,
            "bin_end": 9.2,
            "count": 0
           },
           {
            "bin_start": 9.2,
            "bin_end": 9.3,
            "count": 0
           },
           {
            "bin_start": 9.3,
            "bin_end": 9.4,
            "count": 0
           },
           {
            "bin_start": 9.4,
            "bin_end": 9.5,
            "count": 0
           },
           {
            "bin_start": 9.5,
            "bin_end": 9.6,
            "count": 0
           },
           {
            "bin_start": 9.6,
            "bin_end": 9.7,
            "count": 0
           },
           {
            "bin_start": 9.7,
            "bin_end": 9.8,
            "count": 0
           },
           {
            "bin_start": 9.8,
            "bin_end": 9.9,
            "count": 0
           },
           {
            "bin_start": 9.9,
            "bin_end": 10,
            "count": 3
           }
          ]
         }
        },
        {
         "name": "review_scores_location",
         "dtype": "float64",
         "stats": {
          "unique_count": 2,
          "nan_count": 0,
          "min": "8.0",
          "max": "9.0",
          "histogram": [
           {
            "bin_start": 8,
            "bin_end": 8.1,
            "count": 1
           },
           {
            "bin_start": 8.1,
            "bin_end": 8.2,
            "count": 0
           },
           {
            "bin_start": 8.2,
            "bin_end": 8.3,
            "count": 0
           },
           {
            "bin_start": 8.3,
            "bin_end": 8.4,
            "count": 0
           },
           {
            "bin_start": 8.4,
            "bin_end": 8.5,
            "count": 0
           },
           {
            "bin_start": 8.5,
            "bin_end": 8.6,
            "count": 0
           },
           {
            "bin_start": 8.6,
            "bin_end": 8.7,
            "count": 0
           },
           {
            "bin_start": 8.7,
            "bin_end": 8.8,
            "count": 0
           },
           {
            "bin_start": 8.8,
            "bin_end": 8.9,
            "count": 0
           },
           {
            "bin_start": 8.9,
            "bin_end": 9,
            "count": 4
           }
          ]
         }
        },
        {
         "name": "review_scores_rating",
         "dtype": "float64",
         "stats": {
          "unique_count": 3,
          "nan_count": 0,
          "min": "78.0",
          "max": "96.0",
          "histogram": [
           {
            "bin_start": 78,
            "bin_end": 79.8,
            "count": 1
           },
           {
            "bin_start": 79.8,
            "bin_end": 81.6,
            "count": 0
           },
           {
            "bin_start": 81.6,
            "bin_end": 83.4,
            "count": 0
           },
           {
            "bin_start": 83.4,
            "bin_end": 85.2,
            "count": 0
           },
           {
            "bin_start": 85.2,
            "bin_end": 87,
            "count": 0
           },
           {
            "bin_start": 87,
            "bin_end": 88.8,
            "count": 0
           },
           {
            "bin_start": 88.8,
            "bin_end": 90.6,
            "count": 0
           },
           {
            "bin_start": 90.6,
            "bin_end": 92.4,
            "count": 0
           },
           {
            "bin_start": 92.4,
            "bin_end": 94.2,
            "count": 2
           },
           {
            "bin_start": 94.2,
            "bin_end": 96,
            "count": 2
           }
          ]
         }
        },
        {
         "name": "review_scores_value",
         "dtype": "float64",
         "stats": {
          "unique_count": 3,
          "nan_count": 0,
          "min": "8.0",
          "max": "10.0",
          "histogram": [
           {
            "bin_start": 8,
            "bin_end": 8.2,
            "count": 1
           },
           {
            "bin_start": 8.2,
            "bin_end": 8.4,
            "count": 0
           },
           {
            "bin_start": 8.4,
            "bin_end": 8.6,
            "count": 0
           },
           {
            "bin_start": 8.6,
            "bin_end": 8.8,
            "count": 0
           },
           {
            "bin_start": 8.8,
            "bin_end": 9,
            "count": 0
           },
           {
            "bin_start": 9,
            "bin_end": 9.2,
            "count": 2
           },
           {
            "bin_start": 9.2,
            "bin_end": 9.4,
            "count": 0
           },
           {
            "bin_start": 9.4,
            "bin_end": 9.6,
            "count": 0
           },
           {
            "bin_start": 9.6,
            "bin_end": 9.8,
            "count": 0
           },
           {
            "bin_start": 9.8,
            "bin_end": 10,
            "count": 2
           }
          ]
         }
        },
        {
         "name": "room_type",
         "dtype": "object",
         "stats": {
          "unique_count": 3,
          "nan_count": 0,
          "categories": [
           {
            "name": "Entire home/apt",
            "count": 3
           },
           {
            "name": "Shared room",
            "count": 1
           },
           {
            "name": "Private room",
            "count": 1
           }
          ]
         }
        },
        {
         "name": "state",
         "dtype": "object",
         "stats": {
          "unique_count": 1,
          "nan_count": 0,
          "categories": [
           {
            "name": "NC",
            "count": 5
           }
          ]
         }
        },
        {
         "name": "_deepnote_index_column",
         "dtype": "int64"
        }
       ],
       "rows_top": [
        {
         "accommodates": 2,
         "amenities": "{\"Wireless Internet\",\"Air Conditioning\",Kitchen,\"Free Parking on Premises\",\"Pets Allowed\",\"Pets liv…",
         "availability_30": 0,
         "bathrooms": 1,
         "bed_type": "Real Bed",
         "bedrooms": 1,
         "beds": 1,
         "cancellation_policy": "moderate",
         "city": "Asheville",
         "instant_bookable": "f",
         "metropolitan": "asheville",
         "name": "Lovely cabin, great Asheville spot",
         "price": 105,
         "property_type": "House",
         "review_scores_checkin": 10,
         "review_scores_cleanliness": 9,
         "review_scores_communication": 10,
         "review_scores_location": 9,
         "review_scores_rating": 96,
         "review_scores_value": 10,
         "room_type": "Entire home/apt",
         "state": "NC",
         "_deepnote_index_column": 0
        },
        {
         "accommodates": 4,
         "amenities": "{TV,\"Cable TV\",Internet,\"Wireless Internet\",\"Air Conditioning\",Kitchen,\"Free Parking on Premises\",D…",
         "availability_30": 17,
         "bathrooms": 1,
         "bed_type": "Real Bed",
         "bedrooms": 1,
         "beds": 2,
         "cancellation_policy": "strict",
         "city": "Asheville",
         "instant_bookable": "f",
         "metropolitan": "asheville",
         "name": "Glamping w HOT TUB + AC!",
         "price": 125,
         "property_type": "Tent",
         "review_scores_checkin": 10,
         "review_scores_cleanliness": 10,
         "review_scores_communication": 10,
         "review_scores_location": 9,
         "review_scores_rating": 96,
         "review_scores_value": 9,
         "room_type": "Entire home/apt",
         "state": "NC",
         "_deepnote_index_column": 1
        },
        {
         "accommodates": 6,
         "amenities": "{Internet,\"Wireless Internet\",\"Free Parking on Premises\",\"Smoking Allowed\",Heating,\"Family/Kid Frie…",
         "availability_30": 25,
         "bathrooms": 2.5,
         "bed_type": "Real Bed",
         "bedrooms": 1,
         "beds": 6,
         "cancellation_policy": "moderate",
         "city": "Asheville",
         "instant_bookable": "f",
         "metropolitan": "asheville",
         "name": "Mixed Dorm Bunk at BPS Hostel",
         "price": 24,
         "property_type": "House",
         "review_scores_checkin": 10,
         "review_scores_cleanliness": 9,
         "review_scores_communication": 9,
         "review_scores_location": 9,
         "review_scores_rating": 93,
         "review_scores_value": 10,
         "room_type": "Shared room",
         "state": "NC",
         "_deepnote_index_column": 2
        },
        {
         "accommodates": 10,
         "amenities": "{TV,\"Cable TV\",Internet,\"Wireless Internet\",\"Air Conditioning\",Kitchen,\"Free Parking on Premises\",\"…",
         "availability_30": 17,
         "bathrooms": 2.5,
         "bed_type": "Real Bed",
         "bedrooms": 4,
         "beds": 5,
         "cancellation_policy": "strict",
         "city": "Asheville",
         "instant_bookable": "f",
         "metropolitan": "asheville",
         "name": "Modern Home - Views - HOT TUB",
         "price": 105,
         "property_type": "House",
         "review_scores_checkin": 9,
         "review_scores_cleanliness": 8,
         "review_scores_communication": 9,
         "review_scores_location": 8,
         "review_scores_rating": 78,
         "review_scores_value": 8,
         "room_type": "Entire home/apt",
         "state": "NC",
         "_deepnote_index_column": 3
        },
        {
         "accommodates": 2,
         "amenities": "{Internet,\"Wireless Internet\",\"Air Conditioning\",Kitchen,\"Free Parking on Premises\",\"Pets live on t…",
         "availability_30": 16,
         "bathrooms": 1,
         "bed_type": "Real Bed",
         "bedrooms": 1,
         "beds": 1,
         "cancellation_policy": "flexible",
         "city": "Asheville",
         "instant_bookable": "t",
         "metropolitan": "asheville",
         "name": "Bright Suite with Sunroom",
         "price": 65,
         "property_type": "House",
         "review_scores_checkin": 10,
         "review_scores_cleanliness": 10,
         "review_scores_communication": 10,
         "review_scores_location": 9,
         "review_scores_rating": 93,
         "review_scores_value": 9,
         "room_type": "Private room",
         "state": "NC",
         "_deepnote_index_column": 4
        }
       ],
       "rows_bottom": null
      },
      "text/plain": "   accommodates                                          amenities  \\\n0           2.0  {\"Wireless Internet\",\"Air Conditioning\",Kitche...   \n1           4.0  {TV,\"Cable TV\",Internet,\"Wireless Internet\",\"A...   \n2           6.0  {Internet,\"Wireless Internet\",\"Free Parking on...   \n3          10.0  {TV,\"Cable TV\",Internet,\"Wireless Internet\",\"A...   \n4           2.0  {Internet,\"Wireless Internet\",\"Air Conditionin...   \n\n   availability_30  bathrooms  bed_type  bedrooms  beds cancellation_policy  \\\n0                0        1.0  Real Bed       1.0   1.0            moderate   \n1               17        1.0  Real Bed       1.0   2.0              strict   \n2               25        2.5  Real Bed       1.0   6.0            moderate   \n3               17        2.5  Real Bed       4.0   5.0              strict   \n4               16        1.0  Real Bed       1.0   1.0            flexible   \n\n        city instant_bookable  ...  price property_type  \\\n0  Asheville                f  ...  105.0         House   \n1  Asheville                f  ...  125.0          Tent   \n2  Asheville                f  ...   24.0         House   \n3  Asheville                f  ...  105.0         House   \n4  Asheville                t  ...   65.0         House   \n\n   review_scores_checkin review_scores_cleanliness  \\\n0                   10.0                       9.0   \n1                   10.0                      10.0   \n2                   10.0                       9.0   \n3                    9.0                       8.0   \n4                   10.0                      10.0   \n\n   review_scores_communication  review_scores_location  review_scores_rating  \\\n0                         10.0                     9.0                  96.0   \n1                         10.0                     9.0                  96.0   \n2                          9.0                     9.0                  93.0   \n3                          9.0                     8.0                  78.0   \n4                         10.0                     9.0                  93.0   \n\n   review_scores_value        room_type  state  \n0                 10.0  Entire home/apt     NC  \n1                  9.0  Entire home/apt     NC  \n2                 10.0      Shared room     NC  \n3                  8.0  Entire home/apt     NC  \n4                  9.0     Private room     NC  \n\n[5 rows x 22 columns]",
      "text/html": "<div>\n<style scoped>\n    .dataframe tbody tr th:only-of-type {\n        vertical-align: middle;\n    }\n\n    .dataframe tbody tr th {\n        vertical-align: top;\n    }\n\n    .dataframe thead th {\n        text-align: right;\n    }\n</style>\n<table border=\"1\" class=\"dataframe\">\n  <thead>\n    <tr style=\"text-align: right;\">\n      <th></th>\n      <th>accommodates</th>\n      <th>amenities</th>\n      <th>availability_30</th>\n      <th>bathrooms</th>\n      <th>bed_type</th>\n      <th>bedrooms</th>\n      <th>beds</th>\n      <th>cancellation_policy</th>\n      <th>city</th>\n      <th>instant_bookable</th>\n      <th>...</th>\n      <th>price</th>\n      <th>property_type</th>\n      <th>review_scores_checkin</th>\n      <th>review_scores_cleanliness</th>\n      <th>review_scores_communication</th>\n      <th>review_scores_location</th>\n      <th>review_scores_rating</th>\n      <th>review_scores_value</th>\n      <th>room_type</th>\n      <th>state</th>\n    </tr>\n  </thead>\n  <tbody>\n    <tr>\n      <th>0</th>\n      <td>2.0</td>\n      <td>{\"Wireless Internet\",\"Air Conditioning\",Kitche...</td>\n      <td>0</td>\n      <td>1.0</td>\n      <td>Real Bed</td>\n      <td>1.0</td>\n      <td>1.0</td>\n      <td>moderate</td>\n      <td>Asheville</td>\n      <td>f</td>\n      <td>...</td>\n      <td>105.0</td>\n      <td>House</td>\n      <td>10.0</td>\n      <td>9.0</td>\n      <td>10.0</td>\n      <td>9.0</td>\n      <td>96.0</td>\n      <td>10.0</td>\n      <td>Entire home/apt</td>\n      <td>NC</td>\n    </tr>\n    <tr>\n      <th>1</th>\n      <td>4.0</td>\n      <td>{TV,\"Cable TV\",Internet,\"Wireless Internet\",\"A...</td>\n      <td>17</td>\n      <td>1.0</td>\n      <td>Real Bed</td>\n      <td>1.0</td>\n      <td>2.0</td>\n      <td>strict</td>\n      <td>Asheville</td>\n      <td>f</td>\n      <td>...</td>\n      <td>125.0</td>\n      <td>Tent</td>\n      <td>10.0</td>\n      <td>10.0</td>\n      <td>10.0</td>\n      <td>9.0</td>\n      <td>96.0</td>\n      <td>9.0</td>\n      <td>Entire home/apt</td>\n      <td>NC</td>\n    </tr>\n    <tr>\n      <th>2</th>\n      <td>6.0</td>\n      <td>{Internet,\"Wireless Internet\",\"Free Parking on...</td>\n      <td>25</td>\n      <td>2.5</td>\n      <td>Real Bed</td>\n      <td>1.0</td>\n      <td>6.0</td>\n      <td>moderate</td>\n      <td>Asheville</td>\n      <td>f</td>\n      <td>...</td>\n      <td>24.0</td>\n      <td>House</td>\n      <td>10.0</td>\n      <td>9.0</td>\n      <td>9.0</td>\n      <td>9.0</td>\n      <td>93.0</td>\n      <td>10.0</td>\n      <td>Shared room</td>\n      <td>NC</td>\n    </tr>\n    <tr>\n      <th>3</th>\n      <td>10.0</td>\n      <td>{TV,\"Cable TV\",Internet,\"Wireless Internet\",\"A...</td>\n      <td>17</td>\n      <td>2.5</td>\n      <td>Real Bed</td>\n      <td>4.0</td>\n      <td>5.0</td>\n      <td>strict</td>\n      <td>Asheville</td>\n      <td>f</td>\n      <td>...</td>\n      <td>105.0</td>\n      <td>House</td>\n      <td>9.0</td>\n      <td>8.0</td>\n      <td>9.0</td>\n      <td>8.0</td>\n      <td>78.0</td>\n      <td>8.0</td>\n      <td>Entire home/apt</td>\n      <td>NC</td>\n    </tr>\n    <tr>\n      <th>4</th>\n      <td>2.0</td>\n      <td>{Internet,\"Wireless Internet\",\"Air Conditionin...</td>\n      <td>16</td>\n      <td>1.0</td>\n      <td>Real Bed</td>\n      <td>1.0</td>\n      <td>1.0</td>\n      <td>flexible</td>\n      <td>Asheville</td>\n      <td>t</td>\n      <td>...</td>\n      <td>65.0</td>\n      <td>House</td>\n      <td>10.0</td>\n      <td>10.0</td>\n      <td>10.0</td>\n      <td>9.0</td>\n      <td>93.0</td>\n      <td>9.0</td>\n      <td>Private room</td>\n      <td>NC</td>\n    </tr>\n  </tbody>\n</table>\n<p>5 rows × 22 columns</p>\n</div>"
     },
     "metadata": {}
    }
   ]
  },
  {
   "cell_type": "code",
   "metadata": {
    "tags": [],
    "cell_id": "00013-9af79843-db0d-496a-a763-05e581edf727",
    "deepnote_to_be_reexecuted": false,
    "source_hash": "8ca7bc60",
    "execution_start": 1627421635857,
    "execution_millis": 15,
    "deepnote_cell_type": "code"
   },
   "source": "listings.isna().mean()",
   "execution_count": null,
   "outputs": [
    {
     "output_type": "execute_result",
     "execution_count": 14,
     "data": {
      "text/plain": "accommodates                   0.000000\namenities                      0.000000\navailability_30                0.000000\nbathrooms                      0.001291\nbed_type                       0.000000\nbedrooms                       0.000574\nbeds                           0.000717\ncancellation_policy            0.000000\ncity                           0.000000\ninstant_bookable               0.000000\nmetropolitan                   0.000000\nname                           0.000072\nprice                          0.000000\nproperty_type                  0.000000\nreview_scores_checkin          0.002940\nreview_scores_cleanliness      0.001291\nreview_scores_communication    0.001506\nreview_scores_location         0.003084\nreview_scores_rating           0.000000\nreview_scores_value            0.003299\nroom_type                      0.000000\nstate                          0.000000\ndtype: float64"
     },
     "metadata": {}
    }
   ]
  },
  {
   "cell_type": "code",
   "metadata": {
    "tags": [],
    "cell_id": "00014-d30ebe35-d475-4e67-b00c-fe9ff6027f7b",
    "deepnote_to_be_reexecuted": false,
    "source_hash": "73155295",
    "execution_start": 1627421639890,
    "execution_millis": 27,
    "deepnote_cell_type": "code"
   },
   "source": "#cols left with nans (that are not objects): bathrooms, bedrooms, beds, review scores stuff\n(listings['bedrooms'] == 0).value_counts()",
   "execution_count": null,
   "outputs": [
    {
     "output_type": "execute_result",
     "execution_count": 15,
     "data": {
      "text/plain": "False    13248\nTrue       696\nName: bedrooms, dtype: int64"
     },
     "metadata": {}
    }
   ]
  },
  {
   "cell_type": "code",
   "metadata": {
    "tags": [],
    "cell_id": "00015-7a49b0e4-50d6-4ad0-bdf4-4fd2168bf3eb",
    "deepnote_to_be_reexecuted": false,
    "source_hash": "1bb99e4b",
    "execution_start": 1627421642767,
    "execution_millis": 16,
    "deepnote_cell_type": "code"
   },
   "source": "(listings['beds'] == 0).value_counts()",
   "execution_count": null,
   "outputs": [
    {
     "output_type": "execute_result",
     "execution_count": 16,
     "data": {
      "text/plain": "False    13944\nName: beds, dtype: int64"
     },
     "metadata": {}
    }
   ]
  },
  {
   "cell_type": "code",
   "metadata": {
    "tags": [],
    "cell_id": "00016-3988976d-7601-4ee0-965b-784f40ad859e",
    "deepnote_to_be_reexecuted": false,
    "source_hash": "cb199cd5",
    "execution_start": 1627421645506,
    "execution_millis": 21,
    "deepnote_cell_type": "code"
   },
   "source": "(listings['bathrooms'] == 0).value_counts()",
   "execution_count": null,
   "outputs": [
    {
     "output_type": "execute_result",
     "execution_count": 17,
     "data": {
      "text/plain": "False    13896\nTrue        48\nName: bathrooms, dtype: int64"
     },
     "metadata": {}
    }
   ]
  },
  {
   "cell_type": "code",
   "metadata": {
    "tags": [],
    "cell_id": "00017-0da21cbf-bc1d-45e1-9454-b117bb2613fb",
    "deepnote_to_be_reexecuted": false,
    "source_hash": "1740d031",
    "execution_start": 1627421659020,
    "execution_millis": 101,
    "deepnote_cell_type": "code"
   },
   "source": "#For beds, bedrooms and bathrooms, we are going to put 0 since it is very likely that the listings without information about those features are those that do not have those features.\n#For review scores cols, if there isn't a rating, it is likely that the host is new - we can put 0 as well\nnull_cols = ['bedrooms', 'bathrooms', 'beds', 'review_scores_checkin', 'review_scores_cleanliness', 'review_scores_communication', 'review_scores_location', 'review_scores_value']\nfor col in null_cols:\n    listings[col].fillna(0, inplace = True)\nlistings.head()",
   "execution_count": null,
   "outputs": [
    {
     "output_type": "execute_result",
     "execution_count": 18,
     "data": {
      "application/vnd.deepnote.dataframe.v2+json": {
       "row_count": 5,
       "column_count": 22,
       "columns": [
        {
         "name": "accommodates",
         "dtype": "float64",
         "stats": {
          "unique_count": 4,
          "nan_count": 0,
          "min": "2.0",
          "max": "10.0",
          "histogram": [
           {
            "bin_start": 2,
            "bin_end": 2.8,
            "count": 2
           },
           {
            "bin_start": 2.8,
            "bin_end": 3.6,
            "count": 0
           },
           {
            "bin_start": 3.6,
            "bin_end": 4.4,
            "count": 1
           },
           {
            "bin_start": 4.4,
            "bin_end": 5.2,
            "count": 0
           },
           {
            "bin_start": 5.2,
            "bin_end": 6,
            "count": 0
           },
           {
            "bin_start": 6,
            "bin_end": 6.800000000000001,
            "count": 1
           },
           {
            "bin_start": 6.800000000000001,
            "bin_end": 7.6000000000000005,
            "count": 0
           },
           {
            "bin_start": 7.6000000000000005,
            "bin_end": 8.4,
            "count": 0
           },
           {
            "bin_start": 8.4,
            "bin_end": 9.2,
            "count": 0
           },
           {
            "bin_start": 9.2,
            "bin_end": 10,
            "count": 1
           }
          ]
         }
        },
        {
         "name": "amenities",
         "dtype": "object",
         "stats": {
          "unique_count": 5,
          "nan_count": 0,
          "categories": [
           {
            "name": "{\"Wireless Internet\",\"Air Conditioning\",Kitchen,\"Free Parking on Premises\",\"Pets Allowed\",\"Pets live on this property\",\"Other pet(s)\",\"Indoor Fireplace\",Heating}",
            "count": 1
           },
           {
            "name": "{TV,\"Cable TV\",Internet,\"Wireless Internet\",\"Air Conditioning\",Kitchen,\"Free Parking on Premises\",Dog(s),\"Hot Tub\",Heating,\"Family/Kid Friendly\"}",
            "count": 1
           },
           {
            "name": "3 others",
            "count": 3
           }
          ]
         }
        },
        {
         "name": "availability_30",
         "dtype": "int64",
         "stats": {
          "unique_count": 4,
          "nan_count": 0,
          "min": "0",
          "max": "25",
          "histogram": [
           {
            "bin_start": 0,
            "bin_end": 2.5,
            "count": 1
           },
           {
            "bin_start": 2.5,
            "bin_end": 5,
            "count": 0
           },
           {
            "bin_start": 5,
            "bin_end": 7.5,
            "count": 0
           },
           {
            "bin_start": 7.5,
            "bin_end": 10,
            "count": 0
           },
           {
            "bin_start": 10,
            "bin_end": 12.5,
            "count": 0
           },
           {
            "bin_start": 12.5,
            "bin_end": 15,
            "count": 0
           },
           {
            "bin_start": 15,
            "bin_end": 17.5,
            "count": 3
           },
           {
            "bin_start": 17.5,
            "bin_end": 20,
            "count": 0
           },
           {
            "bin_start": 20,
            "bin_end": 22.5,
            "count": 0
           },
           {
            "bin_start": 22.5,
            "bin_end": 25,
            "count": 1
           }
          ]
         }
        },
        {
         "name": "bathrooms",
         "dtype": "float64",
         "stats": {
          "unique_count": 2,
          "nan_count": 0,
          "min": "1.0",
          "max": "2.5",
          "histogram": [
           {
            "bin_start": 1,
            "bin_end": 1.15,
            "count": 3
           },
           {
            "bin_start": 1.15,
            "bin_end": 1.3,
            "count": 0
           },
           {
            "bin_start": 1.3,
            "bin_end": 1.45,
            "count": 0
           },
           {
            "bin_start": 1.45,
            "bin_end": 1.6,
            "count": 0
           },
           {
            "bin_start": 1.6,
            "bin_end": 1.75,
            "count": 0
           },
           {
            "bin_start": 1.75,
            "bin_end": 1.9,
            "count": 0
           },
           {
            "bin_start": 1.9,
            "bin_end": 2.05,
            "count": 0
           },
           {
            "bin_start": 2.05,
            "bin_end": 2.2,
            "count": 0
           },
           {
            "bin_start": 2.2,
            "bin_end": 2.3499999999999996,
            "count": 0
           },
           {
            "bin_start": 2.3499999999999996,
            "bin_end": 2.5,
            "count": 2
           }
          ]
         }
        },
        {
         "name": "bed_type",
         "dtype": "object",
         "stats": {
          "unique_count": 1,
          "nan_count": 0,
          "categories": [
           {
            "name": "Real Bed",
            "count": 5
           }
          ]
         }
        },
        {
         "name": "bedrooms",
         "dtype": "float64",
         "stats": {
          "unique_count": 2,
          "nan_count": 0,
          "min": "1.0",
          "max": "4.0",
          "histogram": [
           {
            "bin_start": 1,
            "bin_end": 1.3,
            "count": 4
           },
           {
            "bin_start": 1.3,
            "bin_end": 1.6,
            "count": 0
           },
           {
            "bin_start": 1.6,
            "bin_end": 1.9,
            "count": 0
           },
           {
            "bin_start": 1.9,
            "bin_end": 2.2,
            "count": 0
           },
           {
            "bin_start": 2.2,
            "bin_end": 2.5,
            "count": 0
           },
           {
            "bin_start": 2.5,
            "bin_end": 2.8,
            "count": 0
           },
           {
            "bin_start": 2.8,
            "bin_end": 3.1,
            "count": 0
           },
           {
            "bin_start": 3.1,
            "bin_end": 3.4,
            "count": 0
           },
           {
            "bin_start": 3.4,
            "bin_end": 3.6999999999999997,
            "count": 0
           },
           {
            "bin_start": 3.6999999999999997,
            "bin_end": 4,
            "count": 1
           }
          ]
         }
        },
        {
         "name": "beds",
         "dtype": "float64",
         "stats": {
          "unique_count": 4,
          "nan_count": 0,
          "min": "1.0",
          "max": "6.0",
          "histogram": [
           {
            "bin_start": 1,
            "bin_end": 1.5,
            "count": 2
           },
           {
            "bin_start": 1.5,
            "bin_end": 2,
            "count": 0
           },
           {
            "bin_start": 2,
            "bin_end": 2.5,
            "count": 1
           },
           {
            "bin_start": 2.5,
            "bin_end": 3,
            "count": 0
           },
           {
            "bin_start": 3,
            "bin_end": 3.5,
            "count": 0
           },
           {
            "bin_start": 3.5,
            "bin_end": 4,
            "count": 0
           },
           {
            "bin_start": 4,
            "bin_end": 4.5,
            "count": 0
           },
           {
            "bin_start": 4.5,
            "bin_end": 5,
            "count": 0
           },
           {
            "bin_start": 5,
            "bin_end": 5.5,
            "count": 1
           },
           {
            "bin_start": 5.5,
            "bin_end": 6,
            "count": 1
           }
          ]
         }
        },
        {
         "name": "cancellation_policy",
         "dtype": "object",
         "stats": {
          "unique_count": 3,
          "nan_count": 0,
          "categories": [
           {
            "name": "moderate",
            "count": 2
           },
           {
            "name": "strict",
            "count": 2
           },
           {
            "name": "flexible",
            "count": 1
           }
          ]
         }
        },
        {
         "name": "city",
         "dtype": "object",
         "stats": {
          "unique_count": 1,
          "nan_count": 0,
          "categories": [
           {
            "name": "Asheville",
            "count": 5
           }
          ]
         }
        },
        {
         "name": "instant_bookable",
         "dtype": "object",
         "stats": {
          "unique_count": 2,
          "nan_count": 0,
          "categories": [
           {
            "name": "f",
            "count": 4
           },
           {
            "name": "t",
            "count": 1
           }
          ]
         }
        },
        {
         "name": "metropolitan",
         "dtype": "object",
         "stats": {
          "unique_count": 1,
          "nan_count": 0,
          "categories": [
           {
            "name": "asheville",
            "count": 5
           }
          ]
         }
        },
        {
         "name": "name",
         "dtype": "object",
         "stats": {
          "unique_count": 5,
          "nan_count": 0,
          "categories": [
           {
            "name": "Lovely cabin, great Asheville spot",
            "count": 1
           },
           {
            "name": "Glamping w HOT TUB + AC!",
            "count": 1
           },
           {
            "name": "3 others",
            "count": 3
           }
          ]
         }
        },
        {
         "name": "price",
         "dtype": "float64",
         "stats": {
          "unique_count": 4,
          "nan_count": 0,
          "min": "24.0",
          "max": "125.0",
          "histogram": [
           {
            "bin_start": 24,
            "bin_end": 34.1,
            "count": 1
           },
           {
            "bin_start": 34.1,
            "bin_end": 44.2,
            "count": 0
           },
           {
            "bin_start": 44.2,
            "bin_end": 54.3,
            "count": 0
           },
           {
            "bin_start": 54.3,
            "bin_end": 64.4,
            "count": 0
           },
           {
            "bin_start": 64.4,
            "bin_end": 74.5,
            "count": 1
           },
           {
            "bin_start": 74.5,
            "bin_end": 84.6,
            "count": 0
           },
           {
            "bin_start": 84.6,
            "bin_end": 94.7,
            "count": 0
           },
           {
            "bin_start": 94.7,
            "bin_end": 104.8,
            "count": 0
           },
           {
            "bin_start": 104.8,
            "bin_end": 114.89999999999999,
            "count": 2
           },
           {
            "bin_start": 114.89999999999999,
            "bin_end": 125,
            "count": 1
           }
          ]
         }
        },
        {
         "name": "property_type",
         "dtype": "object",
         "stats": {
          "unique_count": 2,
          "nan_count": 0,
          "categories": [
           {
            "name": "House",
            "count": 4
           },
           {
            "name": "Tent",
            "count": 1
           }
          ]
         }
        },
        {
         "name": "review_scores_checkin",
         "dtype": "float64",
         "stats": {
          "unique_count": 2,
          "nan_count": 0,
          "min": "9.0",
          "max": "10.0",
          "histogram": [
           {
            "bin_start": 9,
            "bin_end": 9.1,
            "count": 1
           },
           {
            "bin_start": 9.1,
            "bin_end": 9.2,
            "count": 0
           },
           {
            "bin_start": 9.2,
            "bin_end": 9.3,
            "count": 0
           },
           {
            "bin_start": 9.3,
            "bin_end": 9.4,
            "count": 0
           },
           {
            "bin_start": 9.4,
            "bin_end": 9.5,
            "count": 0
           },
           {
            "bin_start": 9.5,
            "bin_end": 9.6,
            "count": 0
           },
           {
            "bin_start": 9.6,
            "bin_end": 9.7,
            "count": 0
           },
           {
            "bin_start": 9.7,
            "bin_end": 9.8,
            "count": 0
           },
           {
            "bin_start": 9.8,
            "bin_end": 9.9,
            "count": 0
           },
           {
            "bin_start": 9.9,
            "bin_end": 10,
            "count": 4
           }
          ]
         }
        },
        {
         "name": "review_scores_cleanliness",
         "dtype": "float64",
         "stats": {
          "unique_count": 3,
          "nan_count": 0,
          "min": "8.0",
          "max": "10.0",
          "histogram": [
           {
            "bin_start": 8,
            "bin_end": 8.2,
            "count": 1
           },
           {
            "bin_start": 8.2,
            "bin_end": 8.4,
            "count": 0
           },
           {
            "bin_start": 8.4,
            "bin_end": 8.6,
            "count": 0
           },
           {
            "bin_start": 8.6,
            "bin_end": 8.8,
            "count": 0
           },
           {
            "bin_start": 8.8,
            "bin_end": 9,
            "count": 0
           },
           {
            "bin_start": 9,
            "bin_end": 9.2,
            "count": 2
           },
           {
            "bin_start": 9.2,
            "bin_end": 9.4,
            "count": 0
           },
           {
            "bin_start": 9.4,
            "bin_end": 9.6,
            "count": 0
           },
           {
            "bin_start": 9.6,
            "bin_end": 9.8,
            "count": 0
           },
           {
            "bin_start": 9.8,
            "bin_end": 10,
            "count": 2
           }
          ]
         }
        },
        {
         "name": "review_scores_communication",
         "dtype": "float64",
         "stats": {
          "unique_count": 2,
          "nan_count": 0,
          "min": "9.0",
          "max": "10.0",
          "histogram": [
           {
            "bin_start": 9,
            "bin_end": 9.1,
            "count": 2
           },
           {
            "bin_start": 9.1,
            "bin_end": 9.2,
            "count": 0
           },
           {
            "bin_start": 9.2,
            "bin_end": 9.3,
            "count": 0
           },
           {
            "bin_start": 9.3,
            "bin_end": 9.4,
            "count": 0
           },
           {
            "bin_start": 9.4,
            "bin_end": 9.5,
            "count": 0
           },
           {
            "bin_start": 9.5,
            "bin_end": 9.6,
            "count": 0
           },
           {
            "bin_start": 9.6,
            "bin_end": 9.7,
            "count": 0
           },
           {
            "bin_start": 9.7,
            "bin_end": 9.8,
            "count": 0
           },
           {
            "bin_start": 9.8,
            "bin_end": 9.9,
            "count": 0
           },
           {
            "bin_start": 9.9,
            "bin_end": 10,
            "count": 3
           }
          ]
         }
        },
        {
         "name": "review_scores_location",
         "dtype": "float64",
         "stats": {
          "unique_count": 2,
          "nan_count": 0,
          "min": "8.0",
          "max": "9.0",
          "histogram": [
           {
            "bin_start": 8,
            "bin_end": 8.1,
            "count": 1
           },
           {
            "bin_start": 8.1,
            "bin_end": 8.2,
            "count": 0
           },
           {
            "bin_start": 8.2,
            "bin_end": 8.3,
            "count": 0
           },
           {
            "bin_start": 8.3,
            "bin_end": 8.4,
            "count": 0
           },
           {
            "bin_start": 8.4,
            "bin_end": 8.5,
            "count": 0
           },
           {
            "bin_start": 8.5,
            "bin_end": 8.6,
            "count": 0
           },
           {
            "bin_start": 8.6,
            "bin_end": 8.7,
            "count": 0
           },
           {
            "bin_start": 8.7,
            "bin_end": 8.8,
            "count": 0
           },
           {
            "bin_start": 8.8,
            "bin_end": 8.9,
            "count": 0
           },
           {
            "bin_start": 8.9,
            "bin_end": 9,
            "count": 4
           }
          ]
         }
        },
        {
         "name": "review_scores_rating",
         "dtype": "float64",
         "stats": {
          "unique_count": 3,
          "nan_count": 0,
          "min": "78.0",
          "max": "96.0",
          "histogram": [
           {
            "bin_start": 78,
            "bin_end": 79.8,
            "count": 1
           },
           {
            "bin_start": 79.8,
            "bin_end": 81.6,
            "count": 0
           },
           {
            "bin_start": 81.6,
            "bin_end": 83.4,
            "count": 0
           },
           {
            "bin_start": 83.4,
            "bin_end": 85.2,
            "count": 0
           },
           {
            "bin_start": 85.2,
            "bin_end": 87,
            "count": 0
           },
           {
            "bin_start": 87,
            "bin_end": 88.8,
            "count": 0
           },
           {
            "bin_start": 88.8,
            "bin_end": 90.6,
            "count": 0
           },
           {
            "bin_start": 90.6,
            "bin_end": 92.4,
            "count": 0
           },
           {
            "bin_start": 92.4,
            "bin_end": 94.2,
            "count": 2
           },
           {
            "bin_start": 94.2,
            "bin_end": 96,
            "count": 2
           }
          ]
         }
        },
        {
         "name": "review_scores_value",
         "dtype": "float64",
         "stats": {
          "unique_count": 3,
          "nan_count": 0,
          "min": "8.0",
          "max": "10.0",
          "histogram": [
           {
            "bin_start": 8,
            "bin_end": 8.2,
            "count": 1
           },
           {
            "bin_start": 8.2,
            "bin_end": 8.4,
            "count": 0
           },
           {
            "bin_start": 8.4,
            "bin_end": 8.6,
            "count": 0
           },
           {
            "bin_start": 8.6,
            "bin_end": 8.8,
            "count": 0
           },
           {
            "bin_start": 8.8,
            "bin_end": 9,
            "count": 0
           },
           {
            "bin_start": 9,
            "bin_end": 9.2,
            "count": 2
           },
           {
            "bin_start": 9.2,
            "bin_end": 9.4,
            "count": 0
           },
           {
            "bin_start": 9.4,
            "bin_end": 9.6,
            "count": 0
           },
           {
            "bin_start": 9.6,
            "bin_end": 9.8,
            "count": 0
           },
           {
            "bin_start": 9.8,
            "bin_end": 10,
            "count": 2
           }
          ]
         }
        },
        {
         "name": "room_type",
         "dtype": "object",
         "stats": {
          "unique_count": 3,
          "nan_count": 0,
          "categories": [
           {
            "name": "Entire home/apt",
            "count": 3
           },
           {
            "name": "Shared room",
            "count": 1
           },
           {
            "name": "Private room",
            "count": 1
           }
          ]
         }
        },
        {
         "name": "state",
         "dtype": "object",
         "stats": {
          "unique_count": 1,
          "nan_count": 0,
          "categories": [
           {
            "name": "NC",
            "count": 5
           }
          ]
         }
        },
        {
         "name": "_deepnote_index_column",
         "dtype": "int64"
        }
       ],
       "rows_top": [
        {
         "accommodates": 2,
         "amenities": "{\"Wireless Internet\",\"Air Conditioning\",Kitchen,\"Free Parking on Premises\",\"Pets Allowed\",\"Pets liv…",
         "availability_30": 0,
         "bathrooms": 1,
         "bed_type": "Real Bed",
         "bedrooms": 1,
         "beds": 1,
         "cancellation_policy": "moderate",
         "city": "Asheville",
         "instant_bookable": "f",
         "metropolitan": "asheville",
         "name": "Lovely cabin, great Asheville spot",
         "price": 105,
         "property_type": "House",
         "review_scores_checkin": 10,
         "review_scores_cleanliness": 9,
         "review_scores_communication": 10,
         "review_scores_location": 9,
         "review_scores_rating": 96,
         "review_scores_value": 10,
         "room_type": "Entire home/apt",
         "state": "NC",
         "_deepnote_index_column": 0
        },
        {
         "accommodates": 4,
         "amenities": "{TV,\"Cable TV\",Internet,\"Wireless Internet\",\"Air Conditioning\",Kitchen,\"Free Parking on Premises\",D…",
         "availability_30": 17,
         "bathrooms": 1,
         "bed_type": "Real Bed",
         "bedrooms": 1,
         "beds": 2,
         "cancellation_policy": "strict",
         "city": "Asheville",
         "instant_bookable": "f",
         "metropolitan": "asheville",
         "name": "Glamping w HOT TUB + AC!",
         "price": 125,
         "property_type": "Tent",
         "review_scores_checkin": 10,
         "review_scores_cleanliness": 10,
         "review_scores_communication": 10,
         "review_scores_location": 9,
         "review_scores_rating": 96,
         "review_scores_value": 9,
         "room_type": "Entire home/apt",
         "state": "NC",
         "_deepnote_index_column": 1
        },
        {
         "accommodates": 6,
         "amenities": "{Internet,\"Wireless Internet\",\"Free Parking on Premises\",\"Smoking Allowed\",Heating,\"Family/Kid Frie…",
         "availability_30": 25,
         "bathrooms": 2.5,
         "bed_type": "Real Bed",
         "bedrooms": 1,
         "beds": 6,
         "cancellation_policy": "moderate",
         "city": "Asheville",
         "instant_bookable": "f",
         "metropolitan": "asheville",
         "name": "Mixed Dorm Bunk at BPS Hostel",
         "price": 24,
         "property_type": "House",
         "review_scores_checkin": 10,
         "review_scores_cleanliness": 9,
         "review_scores_communication": 9,
         "review_scores_location": 9,
         "review_scores_rating": 93,
         "review_scores_value": 10,
         "room_type": "Shared room",
         "state": "NC",
         "_deepnote_index_column": 2
        },
        {
         "accommodates": 10,
         "amenities": "{TV,\"Cable TV\",Internet,\"Wireless Internet\",\"Air Conditioning\",Kitchen,\"Free Parking on Premises\",\"…",
         "availability_30": 17,
         "bathrooms": 2.5,
         "bed_type": "Real Bed",
         "bedrooms": 4,
         "beds": 5,
         "cancellation_policy": "strict",
         "city": "Asheville",
         "instant_bookable": "f",
         "metropolitan": "asheville",
         "name": "Modern Home - Views - HOT TUB",
         "price": 105,
         "property_type": "House",
         "review_scores_checkin": 9,
         "review_scores_cleanliness": 8,
         "review_scores_communication": 9,
         "review_scores_location": 8,
         "review_scores_rating": 78,
         "review_scores_value": 8,
         "room_type": "Entire home/apt",
         "state": "NC",
         "_deepnote_index_column": 3
        },
        {
         "accommodates": 2,
         "amenities": "{Internet,\"Wireless Internet\",\"Air Conditioning\",Kitchen,\"Free Parking on Premises\",\"Pets live on t…",
         "availability_30": 16,
         "bathrooms": 1,
         "bed_type": "Real Bed",
         "bedrooms": 1,
         "beds": 1,
         "cancellation_policy": "flexible",
         "city": "Asheville",
         "instant_bookable": "t",
         "metropolitan": "asheville",
         "name": "Bright Suite with Sunroom",
         "price": 65,
         "property_type": "House",
         "review_scores_checkin": 10,
         "review_scores_cleanliness": 10,
         "review_scores_communication": 10,
         "review_scores_location": 9,
         "review_scores_rating": 93,
         "review_scores_value": 9,
         "room_type": "Private room",
         "state": "NC",
         "_deepnote_index_column": 4
        }
       ],
       "rows_bottom": null
      },
      "text/plain": "   accommodates                                          amenities  \\\n0           2.0  {\"Wireless Internet\",\"Air Conditioning\",Kitche...   \n1           4.0  {TV,\"Cable TV\",Internet,\"Wireless Internet\",\"A...   \n2           6.0  {Internet,\"Wireless Internet\",\"Free Parking on...   \n3          10.0  {TV,\"Cable TV\",Internet,\"Wireless Internet\",\"A...   \n4           2.0  {Internet,\"Wireless Internet\",\"Air Conditionin...   \n\n   availability_30  bathrooms  bed_type  bedrooms  beds cancellation_policy  \\\n0                0        1.0  Real Bed       1.0   1.0            moderate   \n1               17        1.0  Real Bed       1.0   2.0              strict   \n2               25        2.5  Real Bed       1.0   6.0            moderate   \n3               17        2.5  Real Bed       4.0   5.0              strict   \n4               16        1.0  Real Bed       1.0   1.0            flexible   \n\n        city instant_bookable  ...  price property_type  \\\n0  Asheville                f  ...  105.0         House   \n1  Asheville                f  ...  125.0          Tent   \n2  Asheville                f  ...   24.0         House   \n3  Asheville                f  ...  105.0         House   \n4  Asheville                t  ...   65.0         House   \n\n   review_scores_checkin review_scores_cleanliness  \\\n0                   10.0                       9.0   \n1                   10.0                      10.0   \n2                   10.0                       9.0   \n3                    9.0                       8.0   \n4                   10.0                      10.0   \n\n   review_scores_communication  review_scores_location  review_scores_rating  \\\n0                         10.0                     9.0                  96.0   \n1                         10.0                     9.0                  96.0   \n2                          9.0                     9.0                  93.0   \n3                          9.0                     8.0                  78.0   \n4                         10.0                     9.0                  93.0   \n\n   review_scores_value        room_type  state  \n0                 10.0  Entire home/apt     NC  \n1                  9.0  Entire home/apt     NC  \n2                 10.0      Shared room     NC  \n3                  8.0  Entire home/apt     NC  \n4                  9.0     Private room     NC  \n\n[5 rows x 22 columns]",
      "text/html": "<div>\n<style scoped>\n    .dataframe tbody tr th:only-of-type {\n        vertical-align: middle;\n    }\n\n    .dataframe tbody tr th {\n        vertical-align: top;\n    }\n\n    .dataframe thead th {\n        text-align: right;\n    }\n</style>\n<table border=\"1\" class=\"dataframe\">\n  <thead>\n    <tr style=\"text-align: right;\">\n      <th></th>\n      <th>accommodates</th>\n      <th>amenities</th>\n      <th>availability_30</th>\n      <th>bathrooms</th>\n      <th>bed_type</th>\n      <th>bedrooms</th>\n      <th>beds</th>\n      <th>cancellation_policy</th>\n      <th>city</th>\n      <th>instant_bookable</th>\n      <th>...</th>\n      <th>price</th>\n      <th>property_type</th>\n      <th>review_scores_checkin</th>\n      <th>review_scores_cleanliness</th>\n      <th>review_scores_communication</th>\n      <th>review_scores_location</th>\n      <th>review_scores_rating</th>\n      <th>review_scores_value</th>\n      <th>room_type</th>\n      <th>state</th>\n    </tr>\n  </thead>\n  <tbody>\n    <tr>\n      <th>0</th>\n      <td>2.0</td>\n      <td>{\"Wireless Internet\",\"Air Conditioning\",Kitche...</td>\n      <td>0</td>\n      <td>1.0</td>\n      <td>Real Bed</td>\n      <td>1.0</td>\n      <td>1.0</td>\n      <td>moderate</td>\n      <td>Asheville</td>\n      <td>f</td>\n      <td>...</td>\n      <td>105.0</td>\n      <td>House</td>\n      <td>10.0</td>\n      <td>9.0</td>\n      <td>10.0</td>\n      <td>9.0</td>\n      <td>96.0</td>\n      <td>10.0</td>\n      <td>Entire home/apt</td>\n      <td>NC</td>\n    </tr>\n    <tr>\n      <th>1</th>\n      <td>4.0</td>\n      <td>{TV,\"Cable TV\",Internet,\"Wireless Internet\",\"A...</td>\n      <td>17</td>\n      <td>1.0</td>\n      <td>Real Bed</td>\n      <td>1.0</td>\n      <td>2.0</td>\n      <td>strict</td>\n      <td>Asheville</td>\n      <td>f</td>\n      <td>...</td>\n      <td>125.0</td>\n      <td>Tent</td>\n      <td>10.0</td>\n      <td>10.0</td>\n      <td>10.0</td>\n      <td>9.0</td>\n      <td>96.0</td>\n      <td>9.0</td>\n      <td>Entire home/apt</td>\n      <td>NC</td>\n    </tr>\n    <tr>\n      <th>2</th>\n      <td>6.0</td>\n      <td>{Internet,\"Wireless Internet\",\"Free Parking on...</td>\n      <td>25</td>\n      <td>2.5</td>\n      <td>Real Bed</td>\n      <td>1.0</td>\n      <td>6.0</td>\n      <td>moderate</td>\n      <td>Asheville</td>\n      <td>f</td>\n      <td>...</td>\n      <td>24.0</td>\n      <td>House</td>\n      <td>10.0</td>\n      <td>9.0</td>\n      <td>9.0</td>\n      <td>9.0</td>\n      <td>93.0</td>\n      <td>10.0</td>\n      <td>Shared room</td>\n      <td>NC</td>\n    </tr>\n    <tr>\n      <th>3</th>\n      <td>10.0</td>\n      <td>{TV,\"Cable TV\",Internet,\"Wireless Internet\",\"A...</td>\n      <td>17</td>\n      <td>2.5</td>\n      <td>Real Bed</td>\n      <td>4.0</td>\n      <td>5.0</td>\n      <td>strict</td>\n      <td>Asheville</td>\n      <td>f</td>\n      <td>...</td>\n      <td>105.0</td>\n      <td>House</td>\n      <td>9.0</td>\n      <td>8.0</td>\n      <td>9.0</td>\n      <td>8.0</td>\n      <td>78.0</td>\n      <td>8.0</td>\n      <td>Entire home/apt</td>\n      <td>NC</td>\n    </tr>\n    <tr>\n      <th>4</th>\n      <td>2.0</td>\n      <td>{Internet,\"Wireless Internet\",\"Air Conditionin...</td>\n      <td>16</td>\n      <td>1.0</td>\n      <td>Real Bed</td>\n      <td>1.0</td>\n      <td>1.0</td>\n      <td>flexible</td>\n      <td>Asheville</td>\n      <td>t</td>\n      <td>...</td>\n      <td>65.0</td>\n      <td>House</td>\n      <td>10.0</td>\n      <td>10.0</td>\n      <td>10.0</td>\n      <td>9.0</td>\n      <td>93.0</td>\n      <td>9.0</td>\n      <td>Private room</td>\n      <td>NC</td>\n    </tr>\n  </tbody>\n</table>\n<p>5 rows × 22 columns</p>\n</div>"
     },
     "metadata": {}
    }
   ]
  },
  {
   "cell_type": "code",
   "metadata": {
    "tags": [],
    "cell_id": "00018-ffc4cceb-8f9f-422b-b29b-59ced7c72d30",
    "deepnote_to_be_reexecuted": false,
    "source_hash": "8ca7bc60",
    "execution_start": 1627421664679,
    "execution_millis": 20,
    "deepnote_cell_type": "code"
   },
   "source": "listings.isna().mean()",
   "execution_count": null,
   "outputs": [
    {
     "output_type": "execute_result",
     "execution_count": 19,
     "data": {
      "text/plain": "accommodates                   0.000000\namenities                      0.000000\navailability_30                0.000000\nbathrooms                      0.000000\nbed_type                       0.000000\nbedrooms                       0.000000\nbeds                           0.000000\ncancellation_policy            0.000000\ncity                           0.000000\ninstant_bookable               0.000000\nmetropolitan                   0.000000\nname                           0.000072\nprice                          0.000000\nproperty_type                  0.000000\nreview_scores_checkin          0.000000\nreview_scores_cleanliness      0.000000\nreview_scores_communication    0.000000\nreview_scores_location         0.000000\nreview_scores_rating           0.000000\nreview_scores_value            0.000000\nroom_type                      0.000000\nstate                          0.000000\ndtype: float64"
     },
     "metadata": {}
    }
   ]
  },
  {
   "cell_type": "code",
   "metadata": {
    "tags": [],
    "cell_id": "00019-7c71f5c3-84ea-4c0d-abb1-8fc050a3573b",
    "deepnote_to_be_reexecuted": false,
    "source_hash": "abb59c65",
    "execution_start": 1627421668734,
    "execution_millis": 8,
    "deepnote_cell_type": "code"
   },
   "source": "#There are still categorical cols not ready for analysis yet\nlistings.select_dtypes(['object']).head()",
   "execution_count": null,
   "outputs": [
    {
     "output_type": "execute_result",
     "execution_count": 20,
     "data": {
      "application/vnd.deepnote.dataframe.v2+json": {
       "row_count": 5,
       "column_count": 10,
       "columns": [
        {
         "name": "amenities",
         "dtype": "object",
         "stats": {
          "unique_count": 5,
          "nan_count": 0,
          "categories": [
           {
            "name": "{\"Wireless Internet\",\"Air Conditioning\",Kitchen,\"Free Parking on Premises\",\"Pets Allowed\",\"Pets live on this property\",\"Other pet(s)\",\"Indoor Fireplace\",Heating}",
            "count": 1
           },
           {
            "name": "{TV,\"Cable TV\",Internet,\"Wireless Internet\",\"Air Conditioning\",Kitchen,\"Free Parking on Premises\",Dog(s),\"Hot Tub\",Heating,\"Family/Kid Friendly\"}",
            "count": 1
           },
           {
            "name": "3 others",
            "count": 3
           }
          ]
         }
        },
        {
         "name": "bed_type",
         "dtype": "object",
         "stats": {
          "unique_count": 1,
          "nan_count": 0,
          "categories": [
           {
            "name": "Real Bed",
            "count": 5
           }
          ]
         }
        },
        {
         "name": "cancellation_policy",
         "dtype": "object",
         "stats": {
          "unique_count": 3,
          "nan_count": 0,
          "categories": [
           {
            "name": "moderate",
            "count": 2
           },
           {
            "name": "strict",
            "count": 2
           },
           {
            "name": "flexible",
            "count": 1
           }
          ]
         }
        },
        {
         "name": "city",
         "dtype": "object",
         "stats": {
          "unique_count": 1,
          "nan_count": 0,
          "categories": [
           {
            "name": "Asheville",
            "count": 5
           }
          ]
         }
        },
        {
         "name": "instant_bookable",
         "dtype": "object",
         "stats": {
          "unique_count": 2,
          "nan_count": 0,
          "categories": [
           {
            "name": "f",
            "count": 4
           },
           {
            "name": "t",
            "count": 1
           }
          ]
         }
        },
        {
         "name": "metropolitan",
         "dtype": "object",
         "stats": {
          "unique_count": 1,
          "nan_count": 0,
          "categories": [
           {
            "name": "asheville",
            "count": 5
           }
          ]
         }
        },
        {
         "name": "name",
         "dtype": "object",
         "stats": {
          "unique_count": 5,
          "nan_count": 0,
          "categories": [
           {
            "name": "Lovely cabin, great Asheville spot",
            "count": 1
           },
           {
            "name": "Glamping w HOT TUB + AC!",
            "count": 1
           },
           {
            "name": "3 others",
            "count": 3
           }
          ]
         }
        },
        {
         "name": "property_type",
         "dtype": "object",
         "stats": {
          "unique_count": 2,
          "nan_count": 0,
          "categories": [
           {
            "name": "House",
            "count": 4
           },
           {
            "name": "Tent",
            "count": 1
           }
          ]
         }
        },
        {
         "name": "room_type",
         "dtype": "object",
         "stats": {
          "unique_count": 3,
          "nan_count": 0,
          "categories": [
           {
            "name": "Entire home/apt",
            "count": 3
           },
           {
            "name": "Shared room",
            "count": 1
           },
           {
            "name": "Private room",
            "count": 1
           }
          ]
         }
        },
        {
         "name": "state",
         "dtype": "object",
         "stats": {
          "unique_count": 1,
          "nan_count": 0,
          "categories": [
           {
            "name": "NC",
            "count": 5
           }
          ]
         }
        },
        {
         "name": "_deepnote_index_column",
         "dtype": "int64"
        }
       ],
       "rows_top": [
        {
         "amenities": "{\"Wireless Internet\",\"Air Conditioning\",Kitchen,\"Free Parking on Premises\",\"Pets Allowed\",\"Pets liv…",
         "bed_type": "Real Bed",
         "cancellation_policy": "moderate",
         "city": "Asheville",
         "instant_bookable": "f",
         "metropolitan": "asheville",
         "name": "Lovely cabin, great Asheville spot",
         "property_type": "House",
         "room_type": "Entire home/apt",
         "state": "NC",
         "_deepnote_index_column": 0
        },
        {
         "amenities": "{TV,\"Cable TV\",Internet,\"Wireless Internet\",\"Air Conditioning\",Kitchen,\"Free Parking on Premises\",D…",
         "bed_type": "Real Bed",
         "cancellation_policy": "strict",
         "city": "Asheville",
         "instant_bookable": "f",
         "metropolitan": "asheville",
         "name": "Glamping w HOT TUB + AC!",
         "property_type": "Tent",
         "room_type": "Entire home/apt",
         "state": "NC",
         "_deepnote_index_column": 1
        },
        {
         "amenities": "{Internet,\"Wireless Internet\",\"Free Parking on Premises\",\"Smoking Allowed\",Heating,\"Family/Kid Frie…",
         "bed_type": "Real Bed",
         "cancellation_policy": "moderate",
         "city": "Asheville",
         "instant_bookable": "f",
         "metropolitan": "asheville",
         "name": "Mixed Dorm Bunk at BPS Hostel",
         "property_type": "House",
         "room_type": "Shared room",
         "state": "NC",
         "_deepnote_index_column": 2
        },
        {
         "amenities": "{TV,\"Cable TV\",Internet,\"Wireless Internet\",\"Air Conditioning\",Kitchen,\"Free Parking on Premises\",\"…",
         "bed_type": "Real Bed",
         "cancellation_policy": "strict",
         "city": "Asheville",
         "instant_bookable": "f",
         "metropolitan": "asheville",
         "name": "Modern Home - Views - HOT TUB",
         "property_type": "House",
         "room_type": "Entire home/apt",
         "state": "NC",
         "_deepnote_index_column": 3
        },
        {
         "amenities": "{Internet,\"Wireless Internet\",\"Air Conditioning\",Kitchen,\"Free Parking on Premises\",\"Pets live on t…",
         "bed_type": "Real Bed",
         "cancellation_policy": "flexible",
         "city": "Asheville",
         "instant_bookable": "t",
         "metropolitan": "asheville",
         "name": "Bright Suite with Sunroom",
         "property_type": "House",
         "room_type": "Private room",
         "state": "NC",
         "_deepnote_index_column": 4
        }
       ],
       "rows_bottom": null
      },
      "text/plain": "                                           amenities  bed_type  \\\n0  {\"Wireless Internet\",\"Air Conditioning\",Kitche...  Real Bed   \n1  {TV,\"Cable TV\",Internet,\"Wireless Internet\",\"A...  Real Bed   \n2  {Internet,\"Wireless Internet\",\"Free Parking on...  Real Bed   \n3  {TV,\"Cable TV\",Internet,\"Wireless Internet\",\"A...  Real Bed   \n4  {Internet,\"Wireless Internet\",\"Air Conditionin...  Real Bed   \n\n  cancellation_policy       city instant_bookable metropolitan  \\\n0            moderate  Asheville                f    asheville   \n1              strict  Asheville                f    asheville   \n2            moderate  Asheville                f    asheville   \n3              strict  Asheville                f    asheville   \n4            flexible  Asheville                t    asheville   \n\n                                 name property_type        room_type state  \n0  Lovely cabin, great Asheville spot         House  Entire home/apt    NC  \n1            Glamping w HOT TUB + AC!          Tent  Entire home/apt    NC  \n2       Mixed Dorm Bunk at BPS Hostel         House      Shared room    NC  \n3       Modern Home - Views - HOT TUB         House  Entire home/apt    NC  \n4           Bright Suite with Sunroom         House     Private room    NC  ",
      "text/html": "<div>\n<style scoped>\n    .dataframe tbody tr th:only-of-type {\n        vertical-align: middle;\n    }\n\n    .dataframe tbody tr th {\n        vertical-align: top;\n    }\n\n    .dataframe thead th {\n        text-align: right;\n    }\n</style>\n<table border=\"1\" class=\"dataframe\">\n  <thead>\n    <tr style=\"text-align: right;\">\n      <th></th>\n      <th>amenities</th>\n      <th>bed_type</th>\n      <th>cancellation_policy</th>\n      <th>city</th>\n      <th>instant_bookable</th>\n      <th>metropolitan</th>\n      <th>name</th>\n      <th>property_type</th>\n      <th>room_type</th>\n      <th>state</th>\n    </tr>\n  </thead>\n  <tbody>\n    <tr>\n      <th>0</th>\n      <td>{\"Wireless Internet\",\"Air Conditioning\",Kitche...</td>\n      <td>Real Bed</td>\n      <td>moderate</td>\n      <td>Asheville</td>\n      <td>f</td>\n      <td>asheville</td>\n      <td>Lovely cabin, great Asheville spot</td>\n      <td>House</td>\n      <td>Entire home/apt</td>\n      <td>NC</td>\n    </tr>\n    <tr>\n      <th>1</th>\n      <td>{TV,\"Cable TV\",Internet,\"Wireless Internet\",\"A...</td>\n      <td>Real Bed</td>\n      <td>strict</td>\n      <td>Asheville</td>\n      <td>f</td>\n      <td>asheville</td>\n      <td>Glamping w HOT TUB + AC!</td>\n      <td>Tent</td>\n      <td>Entire home/apt</td>\n      <td>NC</td>\n    </tr>\n    <tr>\n      <th>2</th>\n      <td>{Internet,\"Wireless Internet\",\"Free Parking on...</td>\n      <td>Real Bed</td>\n      <td>moderate</td>\n      <td>Asheville</td>\n      <td>f</td>\n      <td>asheville</td>\n      <td>Mixed Dorm Bunk at BPS Hostel</td>\n      <td>House</td>\n      <td>Shared room</td>\n      <td>NC</td>\n    </tr>\n    <tr>\n      <th>3</th>\n      <td>{TV,\"Cable TV\",Internet,\"Wireless Internet\",\"A...</td>\n      <td>Real Bed</td>\n      <td>strict</td>\n      <td>Asheville</td>\n      <td>f</td>\n      <td>asheville</td>\n      <td>Modern Home - Views - HOT TUB</td>\n      <td>House</td>\n      <td>Entire home/apt</td>\n      <td>NC</td>\n    </tr>\n    <tr>\n      <th>4</th>\n      <td>{Internet,\"Wireless Internet\",\"Air Conditionin...</td>\n      <td>Real Bed</td>\n      <td>flexible</td>\n      <td>Asheville</td>\n      <td>t</td>\n      <td>asheville</td>\n      <td>Bright Suite with Sunroom</td>\n      <td>House</td>\n      <td>Private room</td>\n      <td>NC</td>\n    </tr>\n  </tbody>\n</table>\n</div>"
     },
     "metadata": {}
    }
   ]
  },
  {
   "cell_type": "code",
   "metadata": {
    "tags": [],
    "cell_id": "00020-68c2e59b-7c50-43b9-941e-a078eaa5a228",
    "deepnote_to_be_reexecuted": false,
    "source_hash": "e25481d6",
    "execution_start": 1627421671781,
    "execution_millis": 34,
    "deepnote_cell_type": "code"
   },
   "source": "categorical_types = ['bed_type', 'cancellation_policy', 'instant_bookable', 'property_type', 'room_type']\nlistings[categorical_types] = listings[categorical_types].apply(lambda x: x.astype('category'), axis='rows')\nlistings[categorical_types].dtypes",
   "execution_count": null,
   "outputs": [
    {
     "output_type": "execute_result",
     "execution_count": 21,
     "data": {
      "text/plain": "bed_type               category\ncancellation_policy    category\ninstant_bookable       category\nproperty_type          category\nroom_type              category\ndtype: object"
     },
     "metadata": {}
    }
   ]
  },
  {
   "cell_type": "code",
   "metadata": {
    "tags": [],
    "cell_id": "00021-16680699-5b57-4e60-9394-93f19b33bba9",
    "deepnote_to_be_reexecuted": false,
    "source_hash": "6fd98521",
    "execution_start": 1627421691263,
    "execution_millis": 142,
    "deepnote_cell_type": "code"
   },
   "source": "category_onehot_encoding = pd.get_dummies(listings[categorical_types])\ncategory_onehot_encoding.head()",
   "execution_count": null,
   "outputs": [
    {
     "output_type": "execute_result",
     "execution_count": 22,
     "data": {
      "application/vnd.deepnote.dataframe.v2+json": {
       "row_count": 5,
       "column_count": 46,
       "columns": [
        {
         "name": "bed_type_Airbed",
         "dtype": "uint8",
         "stats": {
          "unique_count": 1,
          "nan_count": 0,
          "min": "0",
          "max": "0",
          "histogram": [
           {
            "bin_start": -0.5,
            "bin_end": -0.4,
            "count": 0
           },
           {
            "bin_start": -0.4,
            "bin_end": -0.3,
            "count": 0
           },
           {
            "bin_start": -0.3,
            "bin_end": -0.19999999999999996,
            "count": 0
           },
           {
            "bin_start": -0.19999999999999996,
            "bin_end": -0.09999999999999998,
            "count": 0
           },
           {
            "bin_start": -0.09999999999999998,
            "bin_end": 0,
            "count": 0
           },
           {
            "bin_start": 0,
            "bin_end": 0.10000000000000009,
            "count": 5
           },
           {
            "bin_start": 0.10000000000000009,
            "bin_end": 0.20000000000000007,
            "count": 0
           },
           {
            "bin_start": 0.20000000000000007,
            "bin_end": 0.30000000000000004,
            "count": 0
           },
           {
            "bin_start": 0.30000000000000004,
            "bin_end": 0.4,
            "count": 0
           },
           {
            "bin_start": 0.4,
            "bin_end": 0.5,
            "count": 0
           }
          ]
         }
        },
        {
         "name": "bed_type_Couch",
         "dtype": "uint8",
         "stats": {
          "unique_count": 1,
          "nan_count": 0,
          "min": "0",
          "max": "0",
          "histogram": [
           {
            "bin_start": -0.5,
            "bin_end": -0.4,
            "count": 0
           },
           {
            "bin_start": -0.4,
            "bin_end": -0.3,
            "count": 0
           },
           {
            "bin_start": -0.3,
            "bin_end": -0.19999999999999996,
            "count": 0
           },
           {
            "bin_start": -0.19999999999999996,
            "bin_end": -0.09999999999999998,
            "count": 0
           },
           {
            "bin_start": -0.09999999999999998,
            "bin_end": 0,
            "count": 0
           },
           {
            "bin_start": 0,
            "bin_end": 0.10000000000000009,
            "count": 5
           },
           {
            "bin_start": 0.10000000000000009,
            "bin_end": 0.20000000000000007,
            "count": 0
           },
           {
            "bin_start": 0.20000000000000007,
            "bin_end": 0.30000000000000004,
            "count": 0
           },
           {
            "bin_start": 0.30000000000000004,
            "bin_end": 0.4,
            "count": 0
           },
           {
            "bin_start": 0.4,
            "bin_end": 0.5,
            "count": 0
           }
          ]
         }
        },
        {
         "name": "bed_type_Futon",
         "dtype": "uint8",
         "stats": {
          "unique_count": 1,
          "nan_count": 0,
          "min": "0",
          "max": "0",
          "histogram": [
           {
            "bin_start": -0.5,
            "bin_end": -0.4,
            "count": 0
           },
           {
            "bin_start": -0.4,
            "bin_end": -0.3,
            "count": 0
           },
           {
            "bin_start": -0.3,
            "bin_end": -0.19999999999999996,
            "count": 0
           },
           {
            "bin_start": -0.19999999999999996,
            "bin_end": -0.09999999999999998,
            "count": 0
           },
           {
            "bin_start": -0.09999999999999998,
            "bin_end": 0,
            "count": 0
           },
           {
            "bin_start": 0,
            "bin_end": 0.10000000000000009,
            "count": 5
           },
           {
            "bin_start": 0.10000000000000009,
            "bin_end": 0.20000000000000007,
            "count": 0
           },
           {
            "bin_start": 0.20000000000000007,
            "bin_end": 0.30000000000000004,
            "count": 0
           },
           {
            "bin_start": 0.30000000000000004,
            "bin_end": 0.4,
            "count": 0
           },
           {
            "bin_start": 0.4,
            "bin_end": 0.5,
            "count": 0
           }
          ]
         }
        },
        {
         "name": "bed_type_Pull-out Sofa",
         "dtype": "uint8",
         "stats": {
          "unique_count": 1,
          "nan_count": 0,
          "min": "0",
          "max": "0",
          "histogram": [
           {
            "bin_start": -0.5,
            "bin_end": -0.4,
            "count": 0
           },
           {
            "bin_start": -0.4,
            "bin_end": -0.3,
            "count": 0
           },
           {
            "bin_start": -0.3,
            "bin_end": -0.19999999999999996,
            "count": 0
           },
           {
            "bin_start": -0.19999999999999996,
            "bin_end": -0.09999999999999998,
            "count": 0
           },
           {
            "bin_start": -0.09999999999999998,
            "bin_end": 0,
            "count": 0
           },
           {
            "bin_start": 0,
            "bin_end": 0.10000000000000009,
            "count": 5
           },
           {
            "bin_start": 0.10000000000000009,
            "bin_end": 0.20000000000000007,
            "count": 0
           },
           {
            "bin_start": 0.20000000000000007,
            "bin_end": 0.30000000000000004,
            "count": 0
           },
           {
            "bin_start": 0.30000000000000004,
            "bin_end": 0.4,
            "count": 0
           },
           {
            "bin_start": 0.4,
            "bin_end": 0.5,
            "count": 0
           }
          ]
         }
        },
        {
         "name": "bed_type_Real Bed",
         "dtype": "uint8",
         "stats": {
          "unique_count": 1,
          "nan_count": 0,
          "min": "1",
          "max": "1",
          "histogram": [
           {
            "bin_start": 0.5,
            "bin_end": 0.6,
            "count": 0
           },
           {
            "bin_start": 0.6,
            "bin_end": 0.7,
            "count": 0
           },
           {
            "bin_start": 0.7,
            "bin_end": 0.8,
            "count": 0
           },
           {
            "bin_start": 0.8,
            "bin_end": 0.9,
            "count": 0
           },
           {
            "bin_start": 0.9,
            "bin_end": 1,
            "count": 0
           },
           {
            "bin_start": 1,
            "bin_end": 1.1,
            "count": 5
           },
           {
            "bin_start": 1.1,
            "bin_end": 1.2000000000000002,
            "count": 0
           },
           {
            "bin_start": 1.2000000000000002,
            "bin_end": 1.3,
            "count": 0
           },
           {
            "bin_start": 1.3,
            "bin_end": 1.4,
            "count": 0
           },
           {
            "bin_start": 1.4,
            "bin_end": 1.5,
            "count": 0
           }
          ]
         }
        },
        {
         "name": "cancellation_policy_flexible",
         "dtype": "uint8",
         "stats": {
          "unique_count": 2,
          "nan_count": 0,
          "min": "0",
          "max": "1",
          "histogram": [
           {
            "bin_start": 0,
            "bin_end": 0.1,
            "count": 4
           },
           {
            "bin_start": 0.1,
            "bin_end": 0.2,
            "count": 0
           },
           {
            "bin_start": 0.2,
            "bin_end": 0.30000000000000004,
            "count": 0
           },
           {
            "bin_start": 0.30000000000000004,
            "bin_end": 0.4,
            "count": 0
           },
           {
            "bin_start": 0.4,
            "bin_end": 0.5,
            "count": 0
           },
           {
            "bin_start": 0.5,
            "bin_end": 0.6000000000000001,
            "count": 0
           },
           {
            "bin_start": 0.6000000000000001,
            "bin_end": 0.7000000000000001,
            "count": 0
           },
           {
            "bin_start": 0.7000000000000001,
            "bin_end": 0.8,
            "count": 0
           },
           {
            "bin_start": 0.8,
            "bin_end": 0.9,
            "count": 0
           },
           {
            "bin_start": 0.9,
            "bin_end": 1,
            "count": 1
           }
          ]
         }
        },
        {
         "name": "cancellation_policy_moderate",
         "dtype": "uint8",
         "stats": {
          "unique_count": 2,
          "nan_count": 0,
          "min": "0",
          "max": "1",
          "histogram": [
           {
            "bin_start": 0,
            "bin_end": 0.1,
            "count": 3
           },
           {
            "bin_start": 0.1,
            "bin_end": 0.2,
            "count": 0
           },
           {
            "bin_start": 0.2,
            "bin_end": 0.30000000000000004,
            "count": 0
           },
           {
            "bin_start": 0.30000000000000004,
            "bin_end": 0.4,
            "count": 0
           },
           {
            "bin_start": 0.4,
            "bin_end": 0.5,
            "count": 0
           },
           {
            "bin_start": 0.5,
            "bin_end": 0.6000000000000001,
            "count": 0
           },
           {
            "bin_start": 0.6000000000000001,
            "bin_end": 0.7000000000000001,
            "count": 0
           },
           {
            "bin_start": 0.7000000000000001,
            "bin_end": 0.8,
            "count": 0
           },
           {
            "bin_start": 0.8,
            "bin_end": 0.9,
            "count": 0
           },
           {
            "bin_start": 0.9,
            "bin_end": 1,
            "count": 2
           }
          ]
         }
        },
        {
         "name": "cancellation_policy_no_refunds",
         "dtype": "uint8",
         "stats": {
          "unique_count": 1,
          "nan_count": 0,
          "min": "0",
          "max": "0",
          "histogram": [
           {
            "bin_start": -0.5,
            "bin_end": -0.4,
            "count": 0
           },
           {
            "bin_start": -0.4,
            "bin_end": -0.3,
            "count": 0
           },
           {
            "bin_start": -0.3,
            "bin_end": -0.19999999999999996,
            "count": 0
           },
           {
            "bin_start": -0.19999999999999996,
            "bin_end": -0.09999999999999998,
            "count": 0
           },
           {
            "bin_start": -0.09999999999999998,
            "bin_end": 0,
            "count": 0
           },
           {
            "bin_start": 0,
            "bin_end": 0.10000000000000009,
            "count": 5
           },
           {
            "bin_start": 0.10000000000000009,
            "bin_end": 0.20000000000000007,
            "count": 0
           },
           {
            "bin_start": 0.20000000000000007,
            "bin_end": 0.30000000000000004,
            "count": 0
           },
           {
            "bin_start": 0.30000000000000004,
            "bin_end": 0.4,
            "count": 0
           },
           {
            "bin_start": 0.4,
            "bin_end": 0.5,
            "count": 0
           }
          ]
         }
        },
        {
         "name": "cancellation_policy_strict",
         "dtype": "uint8",
         "stats": {
          "unique_count": 2,
          "nan_count": 0,
          "min": "0",
          "max": "1",
          "histogram": [
           {
            "bin_start": 0,
            "bin_end": 0.1,
            "count": 3
           },
           {
            "bin_start": 0.1,
            "bin_end": 0.2,
            "count": 0
           },
           {
            "bin_start": 0.2,
            "bin_end": 0.30000000000000004,
            "count": 0
           },
           {
            "bin_start": 0.30000000000000004,
            "bin_end": 0.4,
            "count": 0
           },
           {
            "bin_start": 0.4,
            "bin_end": 0.5,
            "count": 0
           },
           {
            "bin_start": 0.5,
            "bin_end": 0.6000000000000001,
            "count": 0
           },
           {
            "bin_start": 0.6000000000000001,
            "bin_end": 0.7000000000000001,
            "count": 0
           },
           {
            "bin_start": 0.7000000000000001,
            "bin_end": 0.8,
            "count": 0
           },
           {
            "bin_start": 0.8,
            "bin_end": 0.9,
            "count": 0
           },
           {
            "bin_start": 0.9,
            "bin_end": 1,
            "count": 2
           }
          ]
         }
        },
        {
         "name": "cancellation_policy_super_strict_30",
         "dtype": "uint8",
         "stats": {
          "unique_count": 1,
          "nan_count": 0,
          "min": "0",
          "max": "0",
          "histogram": [
           {
            "bin_start": -0.5,
            "bin_end": -0.4,
            "count": 0
           },
           {
            "bin_start": -0.4,
            "bin_end": -0.3,
            "count": 0
           },
           {
            "bin_start": -0.3,
            "bin_end": -0.19999999999999996,
            "count": 0
           },
           {
            "bin_start": -0.19999999999999996,
            "bin_end": -0.09999999999999998,
            "count": 0
           },
           {
            "bin_start": -0.09999999999999998,
            "bin_end": 0,
            "count": 0
           },
           {
            "bin_start": 0,
            "bin_end": 0.10000000000000009,
            "count": 5
           },
           {
            "bin_start": 0.10000000000000009,
            "bin_end": 0.20000000000000007,
            "count": 0
           },
           {
            "bin_start": 0.20000000000000007,
            "bin_end": 0.30000000000000004,
            "count": 0
           },
           {
            "bin_start": 0.30000000000000004,
            "bin_end": 0.4,
            "count": 0
           },
           {
            "bin_start": 0.4,
            "bin_end": 0.5,
            "count": 0
           }
          ]
         }
        },
        {
         "name": "cancellation_policy_super_strict_60",
         "dtype": "uint8",
         "stats": {
          "unique_count": 1,
          "nan_count": 0,
          "min": "0",
          "max": "0",
          "histogram": [
           {
            "bin_start": -0.5,
            "bin_end": -0.4,
            "count": 0
           },
           {
            "bin_start": -0.4,
            "bin_end": -0.3,
            "count": 0
           },
           {
            "bin_start": -0.3,
            "bin_end": -0.19999999999999996,
            "count": 0
           },
           {
            "bin_start": -0.19999999999999996,
            "bin_end": -0.09999999999999998,
            "count": 0
           },
           {
            "bin_start": -0.09999999999999998,
            "bin_end": 0,
            "count": 0
           },
           {
            "bin_start": 0,
            "bin_end": 0.10000000000000009,
            "count": 5
           },
           {
            "bin_start": 0.10000000000000009,
            "bin_end": 0.20000000000000007,
            "count": 0
           },
           {
            "bin_start": 0.20000000000000007,
            "bin_end": 0.30000000000000004,
            "count": 0
           },
           {
            "bin_start": 0.30000000000000004,
            "bin_end": 0.4,
            "count": 0
           },
           {
            "bin_start": 0.4,
            "bin_end": 0.5,
            "count": 0
           }
          ]
         }
        },
        {
         "name": "instant_bookable_f",
         "dtype": "uint8",
         "stats": {
          "unique_count": 2,
          "nan_count": 0,
          "min": "0",
          "max": "1",
          "histogram": [
           {
            "bin_start": 0,
            "bin_end": 0.1,
            "count": 1
           },
           {
            "bin_start": 0.1,
            "bin_end": 0.2,
            "count": 0
           },
           {
            "bin_start": 0.2,
            "bin_end": 0.30000000000000004,
            "count": 0
           },
           {
            "bin_start": 0.30000000000000004,
            "bin_end": 0.4,
            "count": 0
           },
           {
            "bin_start": 0.4,
            "bin_end": 0.5,
            "count": 0
           },
           {
            "bin_start": 0.5,
            "bin_end": 0.6000000000000001,
            "count": 0
           },
           {
            "bin_start": 0.6000000000000001,
            "bin_end": 0.7000000000000001,
            "count": 0
           },
           {
            "bin_start": 0.7000000000000001,
            "bin_end": 0.8,
            "count": 0
           },
           {
            "bin_start": 0.8,
            "bin_end": 0.9,
            "count": 0
           },
           {
            "bin_start": 0.9,
            "bin_end": 1,
            "count": 4
           }
          ]
         }
        },
        {
         "name": "instant_bookable_t",
         "dtype": "uint8",
         "stats": {
          "unique_count": 2,
          "nan_count": 0,
          "min": "0",
          "max": "1",
          "histogram": [
           {
            "bin_start": 0,
            "bin_end": 0.1,
            "count": 4
           },
           {
            "bin_start": 0.1,
            "bin_end": 0.2,
            "count": 0
           },
           {
            "bin_start": 0.2,
            "bin_end": 0.30000000000000004,
            "count": 0
           },
           {
            "bin_start": 0.30000000000000004,
            "bin_end": 0.4,
            "count": 0
           },
           {
            "bin_start": 0.4,
            "bin_end": 0.5,
            "count": 0
           },
           {
            "bin_start": 0.5,
            "bin_end": 0.6000000000000001,
            "count": 0
           },
           {
            "bin_start": 0.6000000000000001,
            "bin_end": 0.7000000000000001,
            "count": 0
           },
           {
            "bin_start": 0.7000000000000001,
            "bin_end": 0.8,
            "count": 0
           },
           {
            "bin_start": 0.8,
            "bin_end": 0.9,
            "count": 0
           },
           {
            "bin_start": 0.9,
            "bin_end": 1,
            "count": 1
           }
          ]
         }
        },
        {
         "name": "property_type_Apartment",
         "dtype": "uint8",
         "stats": {
          "unique_count": 1,
          "nan_count": 0,
          "min": "0",
          "max": "0",
          "histogram": [
           {
            "bin_start": -0.5,
            "bin_end": -0.4,
            "count": 0
           },
           {
            "bin_start": -0.4,
            "bin_end": -0.3,
            "count": 0
           },
           {
            "bin_start": -0.3,
            "bin_end": -0.19999999999999996,
            "count": 0
           },
           {
            "bin_start": -0.19999999999999996,
            "bin_end": -0.09999999999999998,
            "count": 0
           },
           {
            "bin_start": -0.09999999999999998,
            "bin_end": 0,
            "count": 0
           },
           {
            "bin_start": 0,
            "bin_end": 0.10000000000000009,
            "count": 5
           },
           {
            "bin_start": 0.10000000000000009,
            "bin_end": 0.20000000000000007,
            "count": 0
           },
           {
            "bin_start": 0.20000000000000007,
            "bin_end": 0.30000000000000004,
            "count": 0
           },
           {
            "bin_start": 0.30000000000000004,
            "bin_end": 0.4,
            "count": 0
           },
           {
            "bin_start": 0.4,
            "bin_end": 0.5,
            "count": 0
           }
          ]
         }
        },
        {
         "name": "property_type_Bed & Breakfast",
         "dtype": "uint8",
         "stats": {
          "unique_count": 1,
          "nan_count": 0,
          "min": "0",
          "max": "0",
          "histogram": [
           {
            "bin_start": -0.5,
            "bin_end": -0.4,
            "count": 0
           },
           {
            "bin_start": -0.4,
            "bin_end": -0.3,
            "count": 0
           },
           {
            "bin_start": -0.3,
            "bin_end": -0.19999999999999996,
            "count": 0
           },
           {
            "bin_start": -0.19999999999999996,
            "bin_end": -0.09999999999999998,
            "count": 0
           },
           {
            "bin_start": -0.09999999999999998,
            "bin_end": 0,
            "count": 0
           },
           {
            "bin_start": 0,
            "bin_end": 0.10000000000000009,
            "count": 5
           },
           {
            "bin_start": 0.10000000000000009,
            "bin_end": 0.20000000000000007,
            "count": 0
           },
           {
            "bin_start": 0.20000000000000007,
            "bin_end": 0.30000000000000004,
            "count": 0
           },
           {
            "bin_start": 0.30000000000000004,
            "bin_end": 0.4,
            "count": 0
           },
           {
            "bin_start": 0.4,
            "bin_end": 0.5,
            "count": 0
           }
          ]
         }
        },
        {
         "name": "property_type_Boat",
         "dtype": "uint8",
         "stats": {
          "unique_count": 1,
          "nan_count": 0,
          "min": "0",
          "max": "0",
          "histogram": [
           {
            "bin_start": -0.5,
            "bin_end": -0.4,
            "count": 0
           },
           {
            "bin_start": -0.4,
            "bin_end": -0.3,
            "count": 0
           },
           {
            "bin_start": -0.3,
            "bin_end": -0.19999999999999996,
            "count": 0
           },
           {
            "bin_start": -0.19999999999999996,
            "bin_end": -0.09999999999999998,
            "count": 0
           },
           {
            "bin_start": -0.09999999999999998,
            "bin_end": 0,
            "count": 0
           },
           {
            "bin_start": 0,
            "bin_end": 0.10000000000000009,
            "count": 5
           },
           {
            "bin_start": 0.10000000000000009,
            "bin_end": 0.20000000000000007,
            "count": 0
           },
           {
            "bin_start": 0.20000000000000007,
            "bin_end": 0.30000000000000004,
            "count": 0
           },
           {
            "bin_start": 0.30000000000000004,
            "bin_end": 0.4,
            "count": 0
           },
           {
            "bin_start": 0.4,
            "bin_end": 0.5,
            "count": 0
           }
          ]
         }
        },
        {
         "name": "property_type_Boutique hotel",
         "dtype": "uint8",
         "stats": {
          "unique_count": 1,
          "nan_count": 0,
          "min": "0",
          "max": "0",
          "histogram": [
           {
            "bin_start": -0.5,
            "bin_end": -0.4,
            "count": 0
           },
           {
            "bin_start": -0.4,
            "bin_end": -0.3,
            "count": 0
           },
           {
            "bin_start": -0.3,
            "bin_end": -0.19999999999999996,
            "count": 0
           },
           {
            "bin_start": -0.19999999999999996,
            "bin_end": -0.09999999999999998,
            "count": 0
           },
           {
            "bin_start": -0.09999999999999998,
            "bin_end": 0,
            "count": 0
           },
           {
            "bin_start": 0,
            "bin_end": 0.10000000000000009,
            "count": 5
           },
           {
            "bin_start": 0.10000000000000009,
            "bin_end": 0.20000000000000007,
            "count": 0
           },
           {
            "bin_start": 0.20000000000000007,
            "bin_end": 0.30000000000000004,
            "count": 0
           },
           {
            "bin_start": 0.30000000000000004,
            "bin_end": 0.4,
            "count": 0
           },
           {
            "bin_start": 0.4,
            "bin_end": 0.5,
            "count": 0
           }
          ]
         }
        },
        {
         "name": "property_type_Bungalow",
         "dtype": "uint8",
         "stats": {
          "unique_count": 1,
          "nan_count": 0,
          "min": "0",
          "max": "0",
          "histogram": [
           {
            "bin_start": -0.5,
            "bin_end": -0.4,
            "count": 0
           },
           {
            "bin_start": -0.4,
            "bin_end": -0.3,
            "count": 0
           },
           {
            "bin_start": -0.3,
            "bin_end": -0.19999999999999996,
            "count": 0
           },
           {
            "bin_start": -0.19999999999999996,
            "bin_end": -0.09999999999999998,
            "count": 0
           },
           {
            "bin_start": -0.09999999999999998,
            "bin_end": 0,
            "count": 0
           },
           {
            "bin_start": 0,
            "bin_end": 0.10000000000000009,
            "count": 5
           },
           {
            "bin_start": 0.10000000000000009,
            "bin_end": 0.20000000000000007,
            "count": 0
           },
           {
            "bin_start": 0.20000000000000007,
            "bin_end": 0.30000000000000004,
            "count": 0
           },
           {
            "bin_start": 0.30000000000000004,
            "bin_end": 0.4,
            "count": 0
           },
           {
            "bin_start": 0.4,
            "bin_end": 0.5,
            "count": 0
           }
          ]
         }
        },
        {
         "name": "property_type_Cabin",
         "dtype": "uint8",
         "stats": {
          "unique_count": 1,
          "nan_count": 0,
          "min": "0",
          "max": "0",
          "histogram": [
           {
            "bin_start": -0.5,
            "bin_end": -0.4,
            "count": 0
           },
           {
            "bin_start": -0.4,
            "bin_end": -0.3,
            "count": 0
           },
           {
            "bin_start": -0.3,
            "bin_end": -0.19999999999999996,
            "count": 0
           },
           {
            "bin_start": -0.19999999999999996,
            "bin_end": -0.09999999999999998,
            "count": 0
           },
           {
            "bin_start": -0.09999999999999998,
            "bin_end": 0,
            "count": 0
           },
           {
            "bin_start": 0,
            "bin_end": 0.10000000000000009,
            "count": 5
           },
           {
            "bin_start": 0.10000000000000009,
            "bin_end": 0.20000000000000007,
            "count": 0
           },
           {
            "bin_start": 0.20000000000000007,
            "bin_end": 0.30000000000000004,
            "count": 0
           },
           {
            "bin_start": 0.30000000000000004,
            "bin_end": 0.4,
            "count": 0
           },
           {
            "bin_start": 0.4,
            "bin_end": 0.5,
            "count": 0
           }
          ]
         }
        },
        {
         "name": "property_type_Camper/RV",
         "dtype": "uint8",
         "stats": {
          "unique_count": 1,
          "nan_count": 0,
          "min": "0",
          "max": "0",
          "histogram": [
           {
            "bin_start": -0.5,
            "bin_end": -0.4,
            "count": 0
           },
           {
            "bin_start": -0.4,
            "bin_end": -0.3,
            "count": 0
           },
           {
            "bin_start": -0.3,
            "bin_end": -0.19999999999999996,
            "count": 0
           },
           {
            "bin_start": -0.19999999999999996,
            "bin_end": -0.09999999999999998,
            "count": 0
           },
           {
            "bin_start": -0.09999999999999998,
            "bin_end": 0,
            "count": 0
           },
           {
            "bin_start": 0,
            "bin_end": 0.10000000000000009,
            "count": 5
           },
           {
            "bin_start": 0.10000000000000009,
            "bin_end": 0.20000000000000007,
            "count": 0
           },
           {
            "bin_start": 0.20000000000000007,
            "bin_end": 0.30000000000000004,
            "count": 0
           },
           {
            "bin_start": 0.30000000000000004,
            "bin_end": 0.4,
            "count": 0
           },
           {
            "bin_start": 0.4,
            "bin_end": 0.5,
            "count": 0
           }
          ]
         }
        },
        {
         "name": "property_type_Chalet",
         "dtype": "uint8",
         "stats": {
          "unique_count": 1,
          "nan_count": 0,
          "min": "0",
          "max": "0",
          "histogram": [
           {
            "bin_start": -0.5,
            "bin_end": -0.4,
            "count": 0
           },
           {
            "bin_start": -0.4,
            "bin_end": -0.3,
            "count": 0
           },
           {
            "bin_start": -0.3,
            "bin_end": -0.19999999999999996,
            "count": 0
           },
           {
            "bin_start": -0.19999999999999996,
            "bin_end": -0.09999999999999998,
            "count": 0
           },
           {
            "bin_start": -0.09999999999999998,
            "bin_end": 0,
            "count": 0
           },
           {
            "bin_start": 0,
            "bin_end": 0.10000000000000009,
            "count": 5
           },
           {
            "bin_start": 0.10000000000000009,
            "bin_end": 0.20000000000000007,
            "count": 0
           },
           {
            "bin_start": 0.20000000000000007,
            "bin_end": 0.30000000000000004,
            "count": 0
           },
           {
            "bin_start": 0.30000000000000004,
            "bin_end": 0.4,
            "count": 0
           },
           {
            "bin_start": 0.4,
            "bin_end": 0.5,
            "count": 0
           }
          ]
         }
        },
        {
         "name": "property_type_Condominium",
         "dtype": "uint8",
         "stats": {
          "unique_count": 1,
          "nan_count": 0,
          "min": "0",
          "max": "0",
          "histogram": [
           {
            "bin_start": -0.5,
            "bin_end": -0.4,
            "count": 0
           },
           {
            "bin_start": -0.4,
            "bin_end": -0.3,
            "count": 0
           },
           {
            "bin_start": -0.3,
            "bin_end": -0.19999999999999996,
            "count": 0
           },
           {
            "bin_start": -0.19999999999999996,
            "bin_end": -0.09999999999999998,
            "count": 0
           },
           {
            "bin_start": -0.09999999999999998,
            "bin_end": 0,
            "count": 0
           },
           {
            "bin_start": 0,
            "bin_end": 0.10000000000000009,
            "count": 5
           },
           {
            "bin_start": 0.10000000000000009,
            "bin_end": 0.20000000000000007,
            "count": 0
           },
           {
            "bin_start": 0.20000000000000007,
            "bin_end": 0.30000000000000004,
            "count": 0
           },
           {
            "bin_start": 0.30000000000000004,
            "bin_end": 0.4,
            "count": 0
           },
           {
            "bin_start": 0.4,
            "bin_end": 0.5,
            "count": 0
           }
          ]
         }
        },
        {
         "name": "property_type_Dorm",
         "dtype": "uint8",
         "stats": {
          "unique_count": 1,
          "nan_count": 0,
          "min": "0",
          "max": "0",
          "histogram": [
           {
            "bin_start": -0.5,
            "bin_end": -0.4,
            "count": 0
           },
           {
            "bin_start": -0.4,
            "bin_end": -0.3,
            "count": 0
           },
           {
            "bin_start": -0.3,
            "bin_end": -0.19999999999999996,
            "count": 0
           },
           {
            "bin_start": -0.19999999999999996,
            "bin_end": -0.09999999999999998,
            "count": 0
           },
           {
            "bin_start": -0.09999999999999998,
            "bin_end": 0,
            "count": 0
           },
           {
            "bin_start": 0,
            "bin_end": 0.10000000000000009,
            "count": 5
           },
           {
            "bin_start": 0.10000000000000009,
            "bin_end": 0.20000000000000007,
            "count": 0
           },
           {
            "bin_start": 0.20000000000000007,
            "bin_end": 0.30000000000000004,
            "count": 0
           },
           {
            "bin_start": 0.30000000000000004,
            "bin_end": 0.4,
            "count": 0
           },
           {
            "bin_start": 0.4,
            "bin_end": 0.5,
            "count": 0
           }
          ]
         }
        },
        {
         "name": "property_type_Earth House",
         "dtype": "uint8",
         "stats": {
          "unique_count": 1,
          "nan_count": 0,
          "min": "0",
          "max": "0",
          "histogram": [
           {
            "bin_start": -0.5,
            "bin_end": -0.4,
            "count": 0
           },
           {
            "bin_start": -0.4,
            "bin_end": -0.3,
            "count": 0
           },
           {
            "bin_start": -0.3,
            "bin_end": -0.19999999999999996,
            "count": 0
           },
           {
            "bin_start": -0.19999999999999996,
            "bin_end": -0.09999999999999998,
            "count": 0
           },
           {
            "bin_start": -0.09999999999999998,
            "bin_end": 0,
            "count": 0
           },
           {
            "bin_start": 0,
            "bin_end": 0.10000000000000009,
            "count": 5
           },
           {
            "bin_start": 0.10000000000000009,
            "bin_end": 0.20000000000000007,
            "count": 0
           },
           {
            "bin_start": 0.20000000000000007,
            "bin_end": 0.30000000000000004,
            "count": 0
           },
           {
            "bin_start": 0.30000000000000004,
            "bin_end": 0.4,
            "count": 0
           },
           {
            "bin_start": 0.4,
            "bin_end": 0.5,
            "count": 0
           }
          ]
         }
        },
        {
         "name": "property_type_Entire Floor",
         "dtype": "uint8",
         "stats": {
          "unique_count": 1,
          "nan_count": 0,
          "min": "0",
          "max": "0",
          "histogram": [
           {
            "bin_start": -0.5,
            "bin_end": -0.4,
            "count": 0
           },
           {
            "bin_start": -0.4,
            "bin_end": -0.3,
            "count": 0
           },
           {
            "bin_start": -0.3,
            "bin_end": -0.19999999999999996,
            "count": 0
           },
           {
            "bin_start": -0.19999999999999996,
            "bin_end": -0.09999999999999998,
            "count": 0
           },
           {
            "bin_start": -0.09999999999999998,
            "bin_end": 0,
            "count": 0
           },
           {
            "bin_start": 0,
            "bin_end": 0.10000000000000009,
            "count": 5
           },
           {
            "bin_start": 0.10000000000000009,
            "bin_end": 0.20000000000000007,
            "count": 0
           },
           {
            "bin_start": 0.20000000000000007,
            "bin_end": 0.30000000000000004,
            "count": 0
           },
           {
            "bin_start": 0.30000000000000004,
            "bin_end": 0.4,
            "count": 0
           },
           {
            "bin_start": 0.4,
            "bin_end": 0.5,
            "count": 0
           }
          ]
         }
        },
        {
         "name": "property_type_Guest suite",
         "dtype": "uint8",
         "stats": {
          "unique_count": 1,
          "nan_count": 0,
          "min": "0",
          "max": "0",
          "histogram": [
           {
            "bin_start": -0.5,
            "bin_end": -0.4,
            "count": 0
           },
           {
            "bin_start": -0.4,
            "bin_end": -0.3,
            "count": 0
           },
           {
            "bin_start": -0.3,
            "bin_end": -0.19999999999999996,
            "count": 0
           },
           {
            "bin_start": -0.19999999999999996,
            "bin_end": -0.09999999999999998,
            "count": 0
           },
           {
            "bin_start": -0.09999999999999998,
            "bin_end": 0,
            "count": 0
           },
           {
            "bin_start": 0,
            "bin_end": 0.10000000000000009,
            "count": 5
           },
           {
            "bin_start": 0.10000000000000009,
            "bin_end": 0.20000000000000007,
            "count": 0
           },
           {
            "bin_start": 0.20000000000000007,
            "bin_end": 0.30000000000000004,
            "count": 0
           },
           {
            "bin_start": 0.30000000000000004,
            "bin_end": 0.4,
            "count": 0
           },
           {
            "bin_start": 0.4,
            "bin_end": 0.5,
            "count": 0
           }
          ]
         }
        },
        {
         "name": "property_type_Guesthouse",
         "dtype": "uint8",
         "stats": {
          "unique_count": 1,
          "nan_count": 0,
          "min": "0",
          "max": "0",
          "histogram": [
           {
            "bin_start": -0.5,
            "bin_end": -0.4,
            "count": 0
           },
           {
            "bin_start": -0.4,
            "bin_end": -0.3,
            "count": 0
           },
           {
            "bin_start": -0.3,
            "bin_end": -0.19999999999999996,
            "count": 0
           },
           {
            "bin_start": -0.19999999999999996,
            "bin_end": -0.09999999999999998,
            "count": 0
           },
           {
            "bin_start": -0.09999999999999998,
            "bin_end": 0,
            "count": 0
           },
           {
            "bin_start": 0,
            "bin_end": 0.10000000000000009,
            "count": 5
           },
           {
            "bin_start": 0.10000000000000009,
            "bin_end": 0.20000000000000007,
            "count": 0
           },
           {
            "bin_start": 0.20000000000000007,
            "bin_end": 0.30000000000000004,
            "count": 0
           },
           {
            "bin_start": 0.30000000000000004,
            "bin_end": 0.4,
            "count": 0
           },
           {
            "bin_start": 0.4,
            "bin_end": 0.5,
            "count": 0
           }
          ]
         }
        },
        {
         "name": "property_type_Hostel",
         "dtype": "uint8",
         "stats": {
          "unique_count": 1,
          "nan_count": 0,
          "min": "0",
          "max": "0",
          "histogram": [
           {
            "bin_start": -0.5,
            "bin_end": -0.4,
            "count": 0
           },
           {
            "bin_start": -0.4,
            "bin_end": -0.3,
            "count": 0
           },
           {
            "bin_start": -0.3,
            "bin_end": -0.19999999999999996,
            "count": 0
           },
           {
            "bin_start": -0.19999999999999996,
            "bin_end": -0.09999999999999998,
            "count": 0
           },
           {
            "bin_start": -0.09999999999999998,
            "bin_end": 0,
            "count": 0
           },
           {
            "bin_start": 0,
            "bin_end": 0.10000000000000009,
            "count": 5
           },
           {
            "bin_start": 0.10000000000000009,
            "bin_end": 0.20000000000000007,
            "count": 0
           },
           {
            "bin_start": 0.20000000000000007,
            "bin_end": 0.30000000000000004,
            "count": 0
           },
           {
            "bin_start": 0.30000000000000004,
            "bin_end": 0.4,
            "count": 0
           },
           {
            "bin_start": 0.4,
            "bin_end": 0.5,
            "count": 0
           }
          ]
         }
        },
        {
         "name": "property_type_House",
         "dtype": "uint8",
         "stats": {
          "unique_count": 2,
          "nan_count": 0,
          "min": "0",
          "max": "1",
          "histogram": [
           {
            "bin_start": 0,
            "bin_end": 0.1,
            "count": 1
           },
           {
            "bin_start": 0.1,
            "bin_end": 0.2,
            "count": 0
           },
           {
            "bin_start": 0.2,
            "bin_end": 0.30000000000000004,
            "count": 0
           },
           {
            "bin_start": 0.30000000000000004,
            "bin_end": 0.4,
            "count": 0
           },
           {
            "bin_start": 0.4,
            "bin_end": 0.5,
            "count": 0
           },
           {
            "bin_start": 0.5,
            "bin_end": 0.6000000000000001,
            "count": 0
           },
           {
            "bin_start": 0.6000000000000001,
            "bin_end": 0.7000000000000001,
            "count": 0
           },
           {
            "bin_start": 0.7000000000000001,
            "bin_end": 0.8,
            "count": 0
           },
           {
            "bin_start": 0.8,
            "bin_end": 0.9,
            "count": 0
           },
           {
            "bin_start": 0.9,
            "bin_end": 1,
            "count": 4
           }
          ]
         }
        },
        {
         "name": "property_type_In-law",
         "dtype": "uint8",
         "stats": {
          "unique_count": 1,
          "nan_count": 0,
          "min": "0",
          "max": "0",
          "histogram": [
           {
            "bin_start": -0.5,
            "bin_end": -0.4,
            "count": 0
           },
           {
            "bin_start": -0.4,
            "bin_end": -0.3,
            "count": 0
           },
           {
            "bin_start": -0.3,
            "bin_end": -0.19999999999999996,
            "count": 0
           },
           {
            "bin_start": -0.19999999999999996,
            "bin_end": -0.09999999999999998,
            "count": 0
           },
           {
            "bin_start": -0.09999999999999998,
            "bin_end": 0,
            "count": 0
           },
           {
            "bin_start": 0,
            "bin_end": 0.10000000000000009,
            "count": 5
           },
           {
            "bin_start": 0.10000000000000009,
            "bin_end": 0.20000000000000007,
            "count": 0
           },
           {
            "bin_start": 0.20000000000000007,
            "bin_end": 0.30000000000000004,
            "count": 0
           },
           {
            "bin_start": 0.30000000000000004,
            "bin_end": 0.4,
            "count": 0
           },
           {
            "bin_start": 0.4,
            "bin_end": 0.5,
            "count": 0
           }
          ]
         }
        },
        {
         "name": "property_type_Island",
         "dtype": "uint8",
         "stats": {
          "unique_count": 1,
          "nan_count": 0,
          "min": "0",
          "max": "0",
          "histogram": [
           {
            "bin_start": -0.5,
            "bin_end": -0.4,
            "count": 0
           },
           {
            "bin_start": -0.4,
            "bin_end": -0.3,
            "count": 0
           },
           {
            "bin_start": -0.3,
            "bin_end": -0.19999999999999996,
            "count": 0
           },
           {
            "bin_start": -0.19999999999999996,
            "bin_end": -0.09999999999999998,
            "count": 0
           },
           {
            "bin_start": -0.09999999999999998,
            "bin_end": 0,
            "count": 0
           },
           {
            "bin_start": 0,
            "bin_end": 0.10000000000000009,
            "count": 5
           },
           {
            "bin_start": 0.10000000000000009,
            "bin_end": 0.20000000000000007,
            "count": 0
           },
           {
            "bin_start": 0.20000000000000007,
            "bin_end": 0.30000000000000004,
            "count": 0
           },
           {
            "bin_start": 0.30000000000000004,
            "bin_end": 0.4,
            "count": 0
           },
           {
            "bin_start": 0.4,
            "bin_end": 0.5,
            "count": 0
           }
          ]
         }
        },
        {
         "name": "property_type_Lighthouse",
         "dtype": "uint8",
         "stats": {
          "unique_count": 1,
          "nan_count": 0,
          "min": "0",
          "max": "0",
          "histogram": [
           {
            "bin_start": -0.5,
            "bin_end": -0.4,
            "count": 0
           },
           {
            "bin_start": -0.4,
            "bin_end": -0.3,
            "count": 0
           },
           {
            "bin_start": -0.3,
            "bin_end": -0.19999999999999996,
            "count": 0
           },
           {
            "bin_start": -0.19999999999999996,
            "bin_end": -0.09999999999999998,
            "count": 0
           },
           {
            "bin_start": -0.09999999999999998,
            "bin_end": 0,
            "count": 0
           },
           {
            "bin_start": 0,
            "bin_end": 0.10000000000000009,
            "count": 5
           },
           {
            "bin_start": 0.10000000000000009,
            "bin_end": 0.20000000000000007,
            "count": 0
           },
           {
            "bin_start": 0.20000000000000007,
            "bin_end": 0.30000000000000004,
            "count": 0
           },
           {
            "bin_start": 0.30000000000000004,
            "bin_end": 0.4,
            "count": 0
           },
           {
            "bin_start": 0.4,
            "bin_end": 0.5,
            "count": 0
           }
          ]
         }
        },
        {
         "name": "property_type_Loft",
         "dtype": "uint8",
         "stats": {
          "unique_count": 1,
          "nan_count": 0,
          "min": "0",
          "max": "0",
          "histogram": [
           {
            "bin_start": -0.5,
            "bin_end": -0.4,
            "count": 0
           },
           {
            "bin_start": -0.4,
            "bin_end": -0.3,
            "count": 0
           },
           {
            "bin_start": -0.3,
            "bin_end": -0.19999999999999996,
            "count": 0
           },
           {
            "bin_start": -0.19999999999999996,
            "bin_end": -0.09999999999999998,
            "count": 0
           },
           {
            "bin_start": -0.09999999999999998,
            "bin_end": 0,
            "count": 0
           },
           {
            "bin_start": 0,
            "bin_end": 0.10000000000000009,
            "count": 5
           },
           {
            "bin_start": 0.10000000000000009,
            "bin_end": 0.20000000000000007,
            "count": 0
           },
           {
            "bin_start": 0.20000000000000007,
            "bin_end": 0.30000000000000004,
            "count": 0
           },
           {
            "bin_start": 0.30000000000000004,
            "bin_end": 0.4,
            "count": 0
           },
           {
            "bin_start": 0.4,
            "bin_end": 0.5,
            "count": 0
           }
          ]
         }
        },
        {
         "name": "property_type_Other",
         "dtype": "uint8",
         "stats": {
          "unique_count": 1,
          "nan_count": 0,
          "min": "0",
          "max": "0",
          "histogram": [
           {
            "bin_start": -0.5,
            "bin_end": -0.4,
            "count": 0
           },
           {
            "bin_start": -0.4,
            "bin_end": -0.3,
            "count": 0
           },
           {
            "bin_start": -0.3,
            "bin_end": -0.19999999999999996,
            "count": 0
           },
           {
            "bin_start": -0.19999999999999996,
            "bin_end": -0.09999999999999998,
            "count": 0
           },
           {
            "bin_start": -0.09999999999999998,
            "bin_end": 0,
            "count": 0
           },
           {
            "bin_start": 0,
            "bin_end": 0.10000000000000009,
            "count": 5
           },
           {
            "bin_start": 0.10000000000000009,
            "bin_end": 0.20000000000000007,
            "count": 0
           },
           {
            "bin_start": 0.20000000000000007,
            "bin_end": 0.30000000000000004,
            "count": 0
           },
           {
            "bin_start": 0.30000000000000004,
            "bin_end": 0.4,
            "count": 0
           },
           {
            "bin_start": 0.4,
            "bin_end": 0.5,
            "count": 0
           }
          ]
         }
        },
        {
         "name": "property_type_Serviced apartment",
         "dtype": "uint8",
         "stats": {
          "unique_count": 1,
          "nan_count": 0,
          "min": "0",
          "max": "0",
          "histogram": [
           {
            "bin_start": -0.5,
            "bin_end": -0.4,
            "count": 0
           },
           {
            "bin_start": -0.4,
            "bin_end": -0.3,
            "count": 0
           },
           {
            "bin_start": -0.3,
            "bin_end": -0.19999999999999996,
            "count": 0
           },
           {
            "bin_start": -0.19999999999999996,
            "bin_end": -0.09999999999999998,
            "count": 0
           },
           {
            "bin_start": -0.09999999999999998,
            "bin_end": 0,
            "count": 0
           },
           {
            "bin_start": 0,
            "bin_end": 0.10000000000000009,
            "count": 5
           },
           {
            "bin_start": 0.10000000000000009,
            "bin_end": 0.20000000000000007,
            "count": 0
           },
           {
            "bin_start": 0.20000000000000007,
            "bin_end": 0.30000000000000004,
            "count": 0
           },
           {
            "bin_start": 0.30000000000000004,
            "bin_end": 0.4,
            "count": 0
           },
           {
            "bin_start": 0.4,
            "bin_end": 0.5,
            "count": 0
           }
          ]
         }
        },
        {
         "name": "property_type_Tent",
         "dtype": "uint8",
         "stats": {
          "unique_count": 2,
          "nan_count": 0,
          "min": "0",
          "max": "1",
          "histogram": [
           {
            "bin_start": 0,
            "bin_end": 0.1,
            "count": 4
           },
           {
            "bin_start": 0.1,
            "bin_end": 0.2,
            "count": 0
           },
           {
            "bin_start": 0.2,
            "bin_end": 0.30000000000000004,
            "count": 0
           },
           {
            "bin_start": 0.30000000000000004,
            "bin_end": 0.4,
            "count": 0
           },
           {
            "bin_start": 0.4,
            "bin_end": 0.5,
            "count": 0
           },
           {
            "bin_start": 0.5,
            "bin_end": 0.6000000000000001,
            "count": 0
           },
           {
            "bin_start": 0.6000000000000001,
            "bin_end": 0.7000000000000001,
            "count": 0
           },
           {
            "bin_start": 0.7000000000000001,
            "bin_end": 0.8,
            "count": 0
           },
           {
            "bin_start": 0.8,
            "bin_end": 0.9,
            "count": 0
           },
           {
            "bin_start": 0.9,
            "bin_end": 1,
            "count": 1
           }
          ]
         }
        },
        {
         "name": "property_type_Timeshare",
         "dtype": "uint8",
         "stats": {
          "unique_count": 1,
          "nan_count": 0,
          "min": "0",
          "max": "0",
          "histogram": [
           {
            "bin_start": -0.5,
            "bin_end": -0.4,
            "count": 0
           },
           {
            "bin_start": -0.4,
            "bin_end": -0.3,
            "count": 0
           },
           {
            "bin_start": -0.3,
            "bin_end": -0.19999999999999996,
            "count": 0
           },
           {
            "bin_start": -0.19999999999999996,
            "bin_end": -0.09999999999999998,
            "count": 0
           },
           {
            "bin_start": -0.09999999999999998,
            "bin_end": 0,
            "count": 0
           },
           {
            "bin_start": 0,
            "bin_end": 0.10000000000000009,
            "count": 5
           },
           {
            "bin_start": 0.10000000000000009,
            "bin_end": 0.20000000000000007,
            "count": 0
           },
           {
            "bin_start": 0.20000000000000007,
            "bin_end": 0.30000000000000004,
            "count": 0
           },
           {
            "bin_start": 0.30000000000000004,
            "bin_end": 0.4,
            "count": 0
           },
           {
            "bin_start": 0.4,
            "bin_end": 0.5,
            "count": 0
           }
          ]
         }
        },
        {
         "name": "property_type_Tipi",
         "dtype": "uint8",
         "stats": {
          "unique_count": 1,
          "nan_count": 0,
          "min": "0",
          "max": "0",
          "histogram": [
           {
            "bin_start": -0.5,
            "bin_end": -0.4,
            "count": 0
           },
           {
            "bin_start": -0.4,
            "bin_end": -0.3,
            "count": 0
           },
           {
            "bin_start": -0.3,
            "bin_end": -0.19999999999999996,
            "count": 0
           },
           {
            "bin_start": -0.19999999999999996,
            "bin_end": -0.09999999999999998,
            "count": 0
           },
           {
            "bin_start": -0.09999999999999998,
            "bin_end": 0,
            "count": 0
           },
           {
            "bin_start": 0,
            "bin_end": 0.10000000000000009,
            "count": 5
           },
           {
            "bin_start": 0.10000000000000009,
            "bin_end": 0.20000000000000007,
            "count": 0
           },
           {
            "bin_start": 0.20000000000000007,
            "bin_end": 0.30000000000000004,
            "count": 0
           },
           {
            "bin_start": 0.30000000000000004,
            "bin_end": 0.4,
            "count": 0
           },
           {
            "bin_start": 0.4,
            "bin_end": 0.5,
            "count": 0
           }
          ]
         }
        },
        {
         "name": "property_type_Townhouse",
         "dtype": "uint8",
         "stats": {
          "unique_count": 1,
          "nan_count": 0,
          "min": "0",
          "max": "0",
          "histogram": [
           {
            "bin_start": -0.5,
            "bin_end": -0.4,
            "count": 0
           },
           {
            "bin_start": -0.4,
            "bin_end": -0.3,
            "count": 0
           },
           {
            "bin_start": -0.3,
            "bin_end": -0.19999999999999996,
            "count": 0
           },
           {
            "bin_start": -0.19999999999999996,
            "bin_end": -0.09999999999999998,
            "count": 0
           },
           {
            "bin_start": -0.09999999999999998,
            "bin_end": 0,
            "count": 0
           },
           {
            "bin_start": 0,
            "bin_end": 0.10000000000000009,
            "count": 5
           },
           {
            "bin_start": 0.10000000000000009,
            "bin_end": 0.20000000000000007,
            "count": 0
           },
           {
            "bin_start": 0.20000000000000007,
            "bin_end": 0.30000000000000004,
            "count": 0
           },
           {
            "bin_start": 0.30000000000000004,
            "bin_end": 0.4,
            "count": 0
           },
           {
            "bin_start": 0.4,
            "bin_end": 0.5,
            "count": 0
           }
          ]
         }
        },
        {
         "name": "property_type_Treehouse",
         "dtype": "uint8",
         "stats": {
          "unique_count": 1,
          "nan_count": 0,
          "min": "0",
          "max": "0",
          "histogram": [
           {
            "bin_start": -0.5,
            "bin_end": -0.4,
            "count": 0
           },
           {
            "bin_start": -0.4,
            "bin_end": -0.3,
            "count": 0
           },
           {
            "bin_start": -0.3,
            "bin_end": -0.19999999999999996,
            "count": 0
           },
           {
            "bin_start": -0.19999999999999996,
            "bin_end": -0.09999999999999998,
            "count": 0
           },
           {
            "bin_start": -0.09999999999999998,
            "bin_end": 0,
            "count": 0
           },
           {
            "bin_start": 0,
            "bin_end": 0.10000000000000009,
            "count": 5
           },
           {
            "bin_start": 0.10000000000000009,
            "bin_end": 0.20000000000000007,
            "count": 0
           },
           {
            "bin_start": 0.20000000000000007,
            "bin_end": 0.30000000000000004,
            "count": 0
           },
           {
            "bin_start": 0.30000000000000004,
            "bin_end": 0.4,
            "count": 0
           },
           {
            "bin_start": 0.4,
            "bin_end": 0.5,
            "count": 0
           }
          ]
         }
        },
        {
         "name": "property_type_Vacation home",
         "dtype": "uint8",
         "stats": {
          "unique_count": 1,
          "nan_count": 0,
          "min": "0",
          "max": "0",
          "histogram": [
           {
            "bin_start": -0.5,
            "bin_end": -0.4,
            "count": 0
           },
           {
            "bin_start": -0.4,
            "bin_end": -0.3,
            "count": 0
           },
           {
            "bin_start": -0.3,
            "bin_end": -0.19999999999999996,
            "count": 0
           },
           {
            "bin_start": -0.19999999999999996,
            "bin_end": -0.09999999999999998,
            "count": 0
           },
           {
            "bin_start": -0.09999999999999998,
            "bin_end": 0,
            "count": 0
           },
           {
            "bin_start": 0,
            "bin_end": 0.10000000000000009,
            "count": 5
           },
           {
            "bin_start": 0.10000000000000009,
            "bin_end": 0.20000000000000007,
            "count": 0
           },
           {
            "bin_start": 0.20000000000000007,
            "bin_end": 0.30000000000000004,
            "count": 0
           },
           {
            "bin_start": 0.30000000000000004,
            "bin_end": 0.4,
            "count": 0
           },
           {
            "bin_start": 0.4,
            "bin_end": 0.5,
            "count": 0
           }
          ]
         }
        },
        {
         "name": "property_type_Villa",
         "dtype": "uint8",
         "stats": {
          "unique_count": 1,
          "nan_count": 0,
          "min": "0",
          "max": "0",
          "histogram": [
           {
            "bin_start": -0.5,
            "bin_end": -0.4,
            "count": 0
           },
           {
            "bin_start": -0.4,
            "bin_end": -0.3,
            "count": 0
           },
           {
            "bin_start": -0.3,
            "bin_end": -0.19999999999999996,
            "count": 0
           },
           {
            "bin_start": -0.19999999999999996,
            "bin_end": -0.09999999999999998,
            "count": 0
           },
           {
            "bin_start": -0.09999999999999998,
            "bin_end": 0,
            "count": 0
           },
           {
            "bin_start": 0,
            "bin_end": 0.10000000000000009,
            "count": 5
           },
           {
            "bin_start": 0.10000000000000009,
            "bin_end": 0.20000000000000007,
            "count": 0
           },
           {
            "bin_start": 0.20000000000000007,
            "bin_end": 0.30000000000000004,
            "count": 0
           },
           {
            "bin_start": 0.30000000000000004,
            "bin_end": 0.4,
            "count": 0
           },
           {
            "bin_start": 0.4,
            "bin_end": 0.5,
            "count": 0
           }
          ]
         }
        },
        {
         "name": "property_type_Yurt",
         "dtype": "uint8",
         "stats": {
          "unique_count": 1,
          "nan_count": 0,
          "min": "0",
          "max": "0",
          "histogram": [
           {
            "bin_start": -0.5,
            "bin_end": -0.4,
            "count": 0
           },
           {
            "bin_start": -0.4,
            "bin_end": -0.3,
            "count": 0
           },
           {
            "bin_start": -0.3,
            "bin_end": -0.19999999999999996,
            "count": 0
           },
           {
            "bin_start": -0.19999999999999996,
            "bin_end": -0.09999999999999998,
            "count": 0
           },
           {
            "bin_start": -0.09999999999999998,
            "bin_end": 0,
            "count": 0
           },
           {
            "bin_start": 0,
            "bin_end": 0.10000000000000009,
            "count": 5
           },
           {
            "bin_start": 0.10000000000000009,
            "bin_end": 0.20000000000000007,
            "count": 0
           },
           {
            "bin_start": 0.20000000000000007,
            "bin_end": 0.30000000000000004,
            "count": 0
           },
           {
            "bin_start": 0.30000000000000004,
            "bin_end": 0.4,
            "count": 0
           },
           {
            "bin_start": 0.4,
            "bin_end": 0.5,
            "count": 0
           }
          ]
         }
        },
        {
         "name": "room_type_Entire home/apt",
         "dtype": "uint8",
         "stats": {
          "unique_count": 2,
          "nan_count": 0,
          "min": "0",
          "max": "1",
          "histogram": [
           {
            "bin_start": 0,
            "bin_end": 0.1,
            "count": 2
           },
           {
            "bin_start": 0.1,
            "bin_end": 0.2,
            "count": 0
           },
           {
            "bin_start": 0.2,
            "bin_end": 0.30000000000000004,
            "count": 0
           },
           {
            "bin_start": 0.30000000000000004,
            "bin_end": 0.4,
            "count": 0
           },
           {
            "bin_start": 0.4,
            "bin_end": 0.5,
            "count": 0
           },
           {
            "bin_start": 0.5,
            "bin_end": 0.6000000000000001,
            "count": 0
           },
           {
            "bin_start": 0.6000000000000001,
            "bin_end": 0.7000000000000001,
            "count": 0
           },
           {
            "bin_start": 0.7000000000000001,
            "bin_end": 0.8,
            "count": 0
           },
           {
            "bin_start": 0.8,
            "bin_end": 0.9,
            "count": 0
           },
           {
            "bin_start": 0.9,
            "bin_end": 1,
            "count": 3
           }
          ]
         }
        },
        {
         "name": "room_type_Private room",
         "dtype": "uint8",
         "stats": {
          "unique_count": 2,
          "nan_count": 0,
          "min": "0",
          "max": "1",
          "histogram": [
           {
            "bin_start": 0,
            "bin_end": 0.1,
            "count": 4
           },
           {
            "bin_start": 0.1,
            "bin_end": 0.2,
            "count": 0
           },
           {
            "bin_start": 0.2,
            "bin_end": 0.30000000000000004,
            "count": 0
           },
           {
            "bin_start": 0.30000000000000004,
            "bin_end": 0.4,
            "count": 0
           },
           {
            "bin_start": 0.4,
            "bin_end": 0.5,
            "count": 0
           },
           {
            "bin_start": 0.5,
            "bin_end": 0.6000000000000001,
            "count": 0
           },
           {
            "bin_start": 0.6000000000000001,
            "bin_end": 0.7000000000000001,
            "count": 0
           },
           {
            "bin_start": 0.7000000000000001,
            "bin_end": 0.8,
            "count": 0
           },
           {
            "bin_start": 0.8,
            "bin_end": 0.9,
            "count": 0
           },
           {
            "bin_start": 0.9,
            "bin_end": 1,
            "count": 1
           }
          ]
         }
        },
        {
         "name": "room_type_Shared room",
         "dtype": "uint8",
         "stats": {
          "unique_count": 2,
          "nan_count": 0,
          "min": "0",
          "max": "1",
          "histogram": [
           {
            "bin_start": 0,
            "bin_end": 0.1,
            "count": 4
           },
           {
            "bin_start": 0.1,
            "bin_end": 0.2,
            "count": 0
           },
           {
            "bin_start": 0.2,
            "bin_end": 0.30000000000000004,
            "count": 0
           },
           {
            "bin_start": 0.30000000000000004,
            "bin_end": 0.4,
            "count": 0
           },
           {
            "bin_start": 0.4,
            "bin_end": 0.5,
            "count": 0
           },
           {
            "bin_start": 0.5,
            "bin_end": 0.6000000000000001,
            "count": 0
           },
           {
            "bin_start": 0.6000000000000001,
            "bin_end": 0.7000000000000001,
            "count": 0
           },
           {
            "bin_start": 0.7000000000000001,
            "bin_end": 0.8,
            "count": 0
           },
           {
            "bin_start": 0.8,
            "bin_end": 0.9,
            "count": 0
           },
           {
            "bin_start": 0.9,
            "bin_end": 1,
            "count": 1
           }
          ]
         }
        },
        {
         "name": "_deepnote_index_column",
         "dtype": "int64"
        }
       ],
       "rows_top": [
        {
         "bed_type_Airbed": 0,
         "bed_type_Couch": 0,
         "bed_type_Futon": 0,
         "bed_type_Pull-out Sofa": 0,
         "bed_type_Real Bed": 1,
         "cancellation_policy_flexible": 0,
         "cancellation_policy_moderate": 1,
         "cancellation_policy_no_refunds": 0,
         "cancellation_policy_strict": 0,
         "cancellation_policy_super_strict_30": 0,
         "cancellation_policy_super_strict_60": 0,
         "instant_bookable_f": 1,
         "instant_bookable_t": 0,
         "property_type_Apartment": 0,
         "property_type_Bed & Breakfast": 0,
         "property_type_Boat": 0,
         "property_type_Boutique hotel": 0,
         "property_type_Bungalow": 0,
         "property_type_Cabin": 0,
         "property_type_Camper/RV": 0,
         "property_type_Chalet": 0,
         "property_type_Condominium": 0,
         "property_type_Dorm": 0,
         "property_type_Earth House": 0,
         "property_type_Entire Floor": 0,
         "property_type_Guest suite": 0,
         "property_type_Guesthouse": 0,
         "property_type_Hostel": 0,
         "property_type_House": 1,
         "property_type_In-law": 0,
         "property_type_Island": 0,
         "property_type_Lighthouse": 0,
         "property_type_Loft": 0,
         "property_type_Other": 0,
         "property_type_Serviced apartment": 0,
         "property_type_Tent": 0,
         "property_type_Timeshare": 0,
         "property_type_Tipi": 0,
         "property_type_Townhouse": 0,
         "property_type_Treehouse": 0,
         "property_type_Vacation home": 0,
         "property_type_Villa": 0,
         "property_type_Yurt": 0,
         "room_type_Entire home/apt": 1,
         "room_type_Private room": 0,
         "room_type_Shared room": 0,
         "_deepnote_index_column": 0
        },
        {
         "bed_type_Airbed": 0,
         "bed_type_Couch": 0,
         "bed_type_Futon": 0,
         "bed_type_Pull-out Sofa": 0,
         "bed_type_Real Bed": 1,
         "cancellation_policy_flexible": 0,
         "cancellation_policy_moderate": 0,
         "cancellation_policy_no_refunds": 0,
         "cancellation_policy_strict": 1,
         "cancellation_policy_super_strict_30": 0,
         "cancellation_policy_super_strict_60": 0,
         "instant_bookable_f": 1,
         "instant_bookable_t": 0,
         "property_type_Apartment": 0,
         "property_type_Bed & Breakfast": 0,
         "property_type_Boat": 0,
         "property_type_Boutique hotel": 0,
         "property_type_Bungalow": 0,
         "property_type_Cabin": 0,
         "property_type_Camper/RV": 0,
         "property_type_Chalet": 0,
         "property_type_Condominium": 0,
         "property_type_Dorm": 0,
         "property_type_Earth House": 0,
         "property_type_Entire Floor": 0,
         "property_type_Guest suite": 0,
         "property_type_Guesthouse": 0,
         "property_type_Hostel": 0,
         "property_type_House": 0,
         "property_type_In-law": 0,
         "property_type_Island": 0,
         "property_type_Lighthouse": 0,
         "property_type_Loft": 0,
         "property_type_Other": 0,
         "property_type_Serviced apartment": 0,
         "property_type_Tent": 1,
         "property_type_Timeshare": 0,
         "property_type_Tipi": 0,
         "property_type_Townhouse": 0,
         "property_type_Treehouse": 0,
         "property_type_Vacation home": 0,
         "property_type_Villa": 0,
         "property_type_Yurt": 0,
         "room_type_Entire home/apt": 1,
         "room_type_Private room": 0,
         "room_type_Shared room": 0,
         "_deepnote_index_column": 1
        },
        {
         "bed_type_Airbed": 0,
         "bed_type_Couch": 0,
         "bed_type_Futon": 0,
         "bed_type_Pull-out Sofa": 0,
         "bed_type_Real Bed": 1,
         "cancellation_policy_flexible": 0,
         "cancellation_policy_moderate": 1,
         "cancellation_policy_no_refunds": 0,
         "cancellation_policy_strict": 0,
         "cancellation_policy_super_strict_30": 0,
         "cancellation_policy_super_strict_60": 0,
         "instant_bookable_f": 1,
         "instant_bookable_t": 0,
         "property_type_Apartment": 0,
         "property_type_Bed & Breakfast": 0,
         "property_type_Boat": 0,
         "property_type_Boutique hotel": 0,
         "property_type_Bungalow": 0,
         "property_type_Cabin": 0,
         "property_type_Camper/RV": 0,
         "property_type_Chalet": 0,
         "property_type_Condominium": 0,
         "property_type_Dorm": 0,
         "property_type_Earth House": 0,
         "property_type_Entire Floor": 0,
         "property_type_Guest suite": 0,
         "property_type_Guesthouse": 0,
         "property_type_Hostel": 0,
         "property_type_House": 1,
         "property_type_In-law": 0,
         "property_type_Island": 0,
         "property_type_Lighthouse": 0,
         "property_type_Loft": 0,
         "property_type_Other": 0,
         "property_type_Serviced apartment": 0,
         "property_type_Tent": 0,
         "property_type_Timeshare": 0,
         "property_type_Tipi": 0,
         "property_type_Townhouse": 0,
         "property_type_Treehouse": 0,
         "property_type_Vacation home": 0,
         "property_type_Villa": 0,
         "property_type_Yurt": 0,
         "room_type_Entire home/apt": 0,
         "room_type_Private room": 0,
         "room_type_Shared room": 1,
         "_deepnote_index_column": 2
        },
        {
         "bed_type_Airbed": 0,
         "bed_type_Couch": 0,
         "bed_type_Futon": 0,
         "bed_type_Pull-out Sofa": 0,
         "bed_type_Real Bed": 1,
         "cancellation_policy_flexible": 0,
         "cancellation_policy_moderate": 0,
         "cancellation_policy_no_refunds": 0,
         "cancellation_policy_strict": 1,
         "cancellation_policy_super_strict_30": 0,
         "cancellation_policy_super_strict_60": 0,
         "instant_bookable_f": 1,
         "instant_bookable_t": 0,
         "property_type_Apartment": 0,
         "property_type_Bed & Breakfast": 0,
         "property_type_Boat": 0,
         "property_type_Boutique hotel": 0,
         "property_type_Bungalow": 0,
         "property_type_Cabin": 0,
         "property_type_Camper/RV": 0,
         "property_type_Chalet": 0,
         "property_type_Condominium": 0,
         "property_type_Dorm": 0,
         "property_type_Earth House": 0,
         "property_type_Entire Floor": 0,
         "property_type_Guest suite": 0,
         "property_type_Guesthouse": 0,
         "property_type_Hostel": 0,
         "property_type_House": 1,
         "property_type_In-law": 0,
         "property_type_Island": 0,
         "property_type_Lighthouse": 0,
         "property_type_Loft": 0,
         "property_type_Other": 0,
         "property_type_Serviced apartment": 0,
         "property_type_Tent": 0,
         "property_type_Timeshare": 0,
         "property_type_Tipi": 0,
         "property_type_Townhouse": 0,
         "property_type_Treehouse": 0,
         "property_type_Vacation home": 0,
         "property_type_Villa": 0,
         "property_type_Yurt": 0,
         "room_type_Entire home/apt": 1,
         "room_type_Private room": 0,
         "room_type_Shared room": 0,
         "_deepnote_index_column": 3
        },
        {
         "bed_type_Airbed": 0,
         "bed_type_Couch": 0,
         "bed_type_Futon": 0,
         "bed_type_Pull-out Sofa": 0,
         "bed_type_Real Bed": 1,
         "cancellation_policy_flexible": 1,
         "cancellation_policy_moderate": 0,
         "cancellation_policy_no_refunds": 0,
         "cancellation_policy_strict": 0,
         "cancellation_policy_super_strict_30": 0,
         "cancellation_policy_super_strict_60": 0,
         "instant_bookable_f": 0,
         "instant_bookable_t": 1,
         "property_type_Apartment": 0,
         "property_type_Bed & Breakfast": 0,
         "property_type_Boat": 0,
         "property_type_Boutique hotel": 0,
         "property_type_Bungalow": 0,
         "property_type_Cabin": 0,
         "property_type_Camper/RV": 0,
         "property_type_Chalet": 0,
         "property_type_Condominium": 0,
         "property_type_Dorm": 0,
         "property_type_Earth House": 0,
         "property_type_Entire Floor": 0,
         "property_type_Guest suite": 0,
         "property_type_Guesthouse": 0,
         "property_type_Hostel": 0,
         "property_type_House": 1,
         "property_type_In-law": 0,
         "property_type_Island": 0,
         "property_type_Lighthouse": 0,
         "property_type_Loft": 0,
         "property_type_Other": 0,
         "property_type_Serviced apartment": 0,
         "property_type_Tent": 0,
         "property_type_Timeshare": 0,
         "property_type_Tipi": 0,
         "property_type_Townhouse": 0,
         "property_type_Treehouse": 0,
         "property_type_Vacation home": 0,
         "property_type_Villa": 0,
         "property_type_Yurt": 0,
         "room_type_Entire home/apt": 0,
         "room_type_Private room": 1,
         "room_type_Shared room": 0,
         "_deepnote_index_column": 4
        }
       ],
       "rows_bottom": null
      },
      "text/plain": "   bed_type_Airbed  bed_type_Couch  bed_type_Futon  bed_type_Pull-out Sofa  \\\n0                0               0               0                       0   \n1                0               0               0                       0   \n2                0               0               0                       0   \n3                0               0               0                       0   \n4                0               0               0                       0   \n\n   bed_type_Real Bed  cancellation_policy_flexible  \\\n0                  1                             0   \n1                  1                             0   \n2                  1                             0   \n3                  1                             0   \n4                  1                             1   \n\n   cancellation_policy_moderate  cancellation_policy_no_refunds  \\\n0                             1                               0   \n1                             0                               0   \n2                             1                               0   \n3                             0                               0   \n4                             0                               0   \n\n   cancellation_policy_strict  cancellation_policy_super_strict_30  ...  \\\n0                           0                                    0  ...   \n1                           1                                    0  ...   \n2                           0                                    0  ...   \n3                           1                                    0  ...   \n4                           0                                    0  ...   \n\n   property_type_Timeshare  property_type_Tipi  property_type_Townhouse  \\\n0                        0                   0                        0   \n1                        0                   0                        0   \n2                        0                   0                        0   \n3                        0                   0                        0   \n4                        0                   0                        0   \n\n   property_type_Treehouse  property_type_Vacation home  property_type_Villa  \\\n0                        0                            0                    0   \n1                        0                            0                    0   \n2                        0                            0                    0   \n3                        0                            0                    0   \n4                        0                            0                    0   \n\n   property_type_Yurt  room_type_Entire home/apt  room_type_Private room  \\\n0                   0                          1                       0   \n1                   0                          1                       0   \n2                   0                          0                       0   \n3                   0                          1                       0   \n4                   0                          0                       1   \n\n   room_type_Shared room  \n0                      0  \n1                      0  \n2                      1  \n3                      0  \n4                      0  \n\n[5 rows x 46 columns]",
      "text/html": "<div>\n<style scoped>\n    .dataframe tbody tr th:only-of-type {\n        vertical-align: middle;\n    }\n\n    .dataframe tbody tr th {\n        vertical-align: top;\n    }\n\n    .dataframe thead th {\n        text-align: right;\n    }\n</style>\n<table border=\"1\" class=\"dataframe\">\n  <thead>\n    <tr style=\"text-align: right;\">\n      <th></th>\n      <th>bed_type_Airbed</th>\n      <th>bed_type_Couch</th>\n      <th>bed_type_Futon</th>\n      <th>bed_type_Pull-out Sofa</th>\n      <th>bed_type_Real Bed</th>\n      <th>cancellation_policy_flexible</th>\n      <th>cancellation_policy_moderate</th>\n      <th>cancellation_policy_no_refunds</th>\n      <th>cancellation_policy_strict</th>\n      <th>cancellation_policy_super_strict_30</th>\n      <th>...</th>\n      <th>property_type_Timeshare</th>\n      <th>property_type_Tipi</th>\n      <th>property_type_Townhouse</th>\n      <th>property_type_Treehouse</th>\n      <th>property_type_Vacation home</th>\n      <th>property_type_Villa</th>\n      <th>property_type_Yurt</th>\n      <th>room_type_Entire home/apt</th>\n      <th>room_type_Private room</th>\n      <th>room_type_Shared room</th>\n    </tr>\n  </thead>\n  <tbody>\n    <tr>\n      <th>0</th>\n      <td>0</td>\n      <td>0</td>\n      <td>0</td>\n      <td>0</td>\n      <td>1</td>\n      <td>0</td>\n      <td>1</td>\n      <td>0</td>\n      <td>0</td>\n      <td>0</td>\n      <td>...</td>\n      <td>0</td>\n      <td>0</td>\n      <td>0</td>\n      <td>0</td>\n      <td>0</td>\n      <td>0</td>\n      <td>0</td>\n      <td>1</td>\n      <td>0</td>\n      <td>0</td>\n    </tr>\n    <tr>\n      <th>1</th>\n      <td>0</td>\n      <td>0</td>\n      <td>0</td>\n      <td>0</td>\n      <td>1</td>\n      <td>0</td>\n      <td>0</td>\n      <td>0</td>\n      <td>1</td>\n      <td>0</td>\n      <td>...</td>\n      <td>0</td>\n      <td>0</td>\n      <td>0</td>\n      <td>0</td>\n      <td>0</td>\n      <td>0</td>\n      <td>0</td>\n      <td>1</td>\n      <td>0</td>\n      <td>0</td>\n    </tr>\n    <tr>\n      <th>2</th>\n      <td>0</td>\n      <td>0</td>\n      <td>0</td>\n      <td>0</td>\n      <td>1</td>\n      <td>0</td>\n      <td>1</td>\n      <td>0</td>\n      <td>0</td>\n      <td>0</td>\n      <td>...</td>\n      <td>0</td>\n      <td>0</td>\n      <td>0</td>\n      <td>0</td>\n      <td>0</td>\n      <td>0</td>\n      <td>0</td>\n      <td>0</td>\n      <td>0</td>\n      <td>1</td>\n    </tr>\n    <tr>\n      <th>3</th>\n      <td>0</td>\n      <td>0</td>\n      <td>0</td>\n      <td>0</td>\n      <td>1</td>\n      <td>0</td>\n      <td>0</td>\n      <td>0</td>\n      <td>1</td>\n      <td>0</td>\n      <td>...</td>\n      <td>0</td>\n      <td>0</td>\n      <td>0</td>\n      <td>0</td>\n      <td>0</td>\n      <td>0</td>\n      <td>0</td>\n      <td>1</td>\n      <td>0</td>\n      <td>0</td>\n    </tr>\n    <tr>\n      <th>4</th>\n      <td>0</td>\n      <td>0</td>\n      <td>0</td>\n      <td>0</td>\n      <td>1</td>\n      <td>1</td>\n      <td>0</td>\n      <td>0</td>\n      <td>0</td>\n      <td>0</td>\n      <td>...</td>\n      <td>0</td>\n      <td>0</td>\n      <td>0</td>\n      <td>0</td>\n      <td>0</td>\n      <td>0</td>\n      <td>0</td>\n      <td>0</td>\n      <td>1</td>\n      <td>0</td>\n    </tr>\n  </tbody>\n</table>\n<p>5 rows × 46 columns</p>\n</div>"
     },
     "metadata": {}
    }
   ]
  },
  {
   "cell_type": "code",
   "metadata": {
    "tags": [],
    "cell_id": "00022-8012bc72-3ee2-413d-b15b-3afcf7d1b00f",
    "deepnote_to_be_reexecuted": false,
    "source_hash": "e479d894",
    "execution_start": 1626628382359,
    "execution_millis": 69755505,
    "deepnote_cell_type": "code"
   },
   "source": "category_onehot_encoding.shape",
   "execution_count": null,
   "outputs": [
    {
     "output_type": "execute_result",
     "execution_count": 24,
     "data": {
      "text/plain": "(13944, 46)"
     },
     "metadata": {}
    }
   ]
  },
  {
   "cell_type": "code",
   "metadata": {
    "tags": [],
    "cell_id": "00023-bfa62ee8-217b-4ed2-af73-5d8f64dc546a",
    "deepnote_to_be_reexecuted": false,
    "source_hash": "fb46c65",
    "execution_start": 1627421695034,
    "execution_millis": 209,
    "deepnote_cell_type": "code"
   },
   "source": "listings = pd.concat([listings, category_onehot_encoding], axis ='columns').drop(categorical_types, axis='columns')\nlistings.head()",
   "execution_count": null,
   "outputs": [
    {
     "output_type": "execute_result",
     "execution_count": 23,
     "data": {
      "application/vnd.deepnote.dataframe.v2+json": {
       "row_count": 5,
       "column_count": 63,
       "columns": [
        {
         "name": "accommodates",
         "dtype": "float64",
         "stats": {
          "unique_count": 4,
          "nan_count": 0,
          "min": "2.0",
          "max": "10.0",
          "histogram": [
           {
            "bin_start": 2,
            "bin_end": 2.8,
            "count": 2
           },
           {
            "bin_start": 2.8,
            "bin_end": 3.6,
            "count": 0
           },
           {
            "bin_start": 3.6,
            "bin_end": 4.4,
            "count": 1
           },
           {
            "bin_start": 4.4,
            "bin_end": 5.2,
            "count": 0
           },
           {
            "bin_start": 5.2,
            "bin_end": 6,
            "count": 0
           },
           {
            "bin_start": 6,
            "bin_end": 6.800000000000001,
            "count": 1
           },
           {
            "bin_start": 6.800000000000001,
            "bin_end": 7.6000000000000005,
            "count": 0
           },
           {
            "bin_start": 7.6000000000000005,
            "bin_end": 8.4,
            "count": 0
           },
           {
            "bin_start": 8.4,
            "bin_end": 9.2,
            "count": 0
           },
           {
            "bin_start": 9.2,
            "bin_end": 10,
            "count": 1
           }
          ]
         }
        },
        {
         "name": "amenities",
         "dtype": "object",
         "stats": {
          "unique_count": 5,
          "nan_count": 0,
          "categories": [
           {
            "name": "{\"Wireless Internet\",\"Air Conditioning\",Kitchen,\"Free Parking on Premises\",\"Pets Allowed\",\"Pets live on this property\",\"Other pet(s)\",\"Indoor Fireplace\",Heating}",
            "count": 1
           },
           {
            "name": "{TV,\"Cable TV\",Internet,\"Wireless Internet\",\"Air Conditioning\",Kitchen,\"Free Parking on Premises\",Dog(s),\"Hot Tub\",Heating,\"Family/Kid Friendly\"}",
            "count": 1
           },
           {
            "name": "3 others",
            "count": 3
           }
          ]
         }
        },
        {
         "name": "availability_30",
         "dtype": "int64",
         "stats": {
          "unique_count": 4,
          "nan_count": 0,
          "min": "0",
          "max": "25",
          "histogram": [
           {
            "bin_start": 0,
            "bin_end": 2.5,
            "count": 1
           },
           {
            "bin_start": 2.5,
            "bin_end": 5,
            "count": 0
           },
           {
            "bin_start": 5,
            "bin_end": 7.5,
            "count": 0
           },
           {
            "bin_start": 7.5,
            "bin_end": 10,
            "count": 0
           },
           {
            "bin_start": 10,
            "bin_end": 12.5,
            "count": 0
           },
           {
            "bin_start": 12.5,
            "bin_end": 15,
            "count": 0
           },
           {
            "bin_start": 15,
            "bin_end": 17.5,
            "count": 3
           },
           {
            "bin_start": 17.5,
            "bin_end": 20,
            "count": 0
           },
           {
            "bin_start": 20,
            "bin_end": 22.5,
            "count": 0
           },
           {
            "bin_start": 22.5,
            "bin_end": 25,
            "count": 1
           }
          ]
         }
        },
        {
         "name": "bathrooms",
         "dtype": "float64",
         "stats": {
          "unique_count": 2,
          "nan_count": 0,
          "min": "1.0",
          "max": "2.5",
          "histogram": [
           {
            "bin_start": 1,
            "bin_end": 1.15,
            "count": 3
           },
           {
            "bin_start": 1.15,
            "bin_end": 1.3,
            "count": 0
           },
           {
            "bin_start": 1.3,
            "bin_end": 1.45,
            "count": 0
           },
           {
            "bin_start": 1.45,
            "bin_end": 1.6,
            "count": 0
           },
           {
            "bin_start": 1.6,
            "bin_end": 1.75,
            "count": 0
           },
           {
            "bin_start": 1.75,
            "bin_end": 1.9,
            "count": 0
           },
           {
            "bin_start": 1.9,
            "bin_end": 2.05,
            "count": 0
           },
           {
            "bin_start": 2.05,
            "bin_end": 2.2,
            "count": 0
           },
           {
            "bin_start": 2.2,
            "bin_end": 2.3499999999999996,
            "count": 0
           },
           {
            "bin_start": 2.3499999999999996,
            "bin_end": 2.5,
            "count": 2
           }
          ]
         }
        },
        {
         "name": "bedrooms",
         "dtype": "float64",
         "stats": {
          "unique_count": 2,
          "nan_count": 0,
          "min": "1.0",
          "max": "4.0",
          "histogram": [
           {
            "bin_start": 1,
            "bin_end": 1.3,
            "count": 4
           },
           {
            "bin_start": 1.3,
            "bin_end": 1.6,
            "count": 0
           },
           {
            "bin_start": 1.6,
            "bin_end": 1.9,
            "count": 0
           },
           {
            "bin_start": 1.9,
            "bin_end": 2.2,
            "count": 0
           },
           {
            "bin_start": 2.2,
            "bin_end": 2.5,
            "count": 0
           },
           {
            "bin_start": 2.5,
            "bin_end": 2.8,
            "count": 0
           },
           {
            "bin_start": 2.8,
            "bin_end": 3.1,
            "count": 0
           },
           {
            "bin_start": 3.1,
            "bin_end": 3.4,
            "count": 0
           },
           {
            "bin_start": 3.4,
            "bin_end": 3.6999999999999997,
            "count": 0
           },
           {
            "bin_start": 3.6999999999999997,
            "bin_end": 4,
            "count": 1
           }
          ]
         }
        },
        {
         "name": "beds",
         "dtype": "float64",
         "stats": {
          "unique_count": 4,
          "nan_count": 0,
          "min": "1.0",
          "max": "6.0",
          "histogram": [
           {
            "bin_start": 1,
            "bin_end": 1.5,
            "count": 2
           },
           {
            "bin_start": 1.5,
            "bin_end": 2,
            "count": 0
           },
           {
            "bin_start": 2,
            "bin_end": 2.5,
            "count": 1
           },
           {
            "bin_start": 2.5,
            "bin_end": 3,
            "count": 0
           },
           {
            "bin_start": 3,
            "bin_end": 3.5,
            "count": 0
           },
           {
            "bin_start": 3.5,
            "bin_end": 4,
            "count": 0
           },
           {
            "bin_start": 4,
            "bin_end": 4.5,
            "count": 0
           },
           {
            "bin_start": 4.5,
            "bin_end": 5,
            "count": 0
           },
           {
            "bin_start": 5,
            "bin_end": 5.5,
            "count": 1
           },
           {
            "bin_start": 5.5,
            "bin_end": 6,
            "count": 1
           }
          ]
         }
        },
        {
         "name": "city",
         "dtype": "object",
         "stats": {
          "unique_count": 1,
          "nan_count": 0,
          "categories": [
           {
            "name": "Asheville",
            "count": 5
           }
          ]
         }
        },
        {
         "name": "metropolitan",
         "dtype": "object",
         "stats": {
          "unique_count": 1,
          "nan_count": 0,
          "categories": [
           {
            "name": "asheville",
            "count": 5
           }
          ]
         }
        },
        {
         "name": "name",
         "dtype": "object",
         "stats": {
          "unique_count": 5,
          "nan_count": 0,
          "categories": [
           {
            "name": "Lovely cabin, great Asheville spot",
            "count": 1
           },
           {
            "name": "Glamping w HOT TUB + AC!",
            "count": 1
           },
           {
            "name": "3 others",
            "count": 3
           }
          ]
         }
        },
        {
         "name": "price",
         "dtype": "float64",
         "stats": {
          "unique_count": 4,
          "nan_count": 0,
          "min": "24.0",
          "max": "125.0",
          "histogram": [
           {
            "bin_start": 24,
            "bin_end": 34.1,
            "count": 1
           },
           {
            "bin_start": 34.1,
            "bin_end": 44.2,
            "count": 0
           },
           {
            "bin_start": 44.2,
            "bin_end": 54.3,
            "count": 0
           },
           {
            "bin_start": 54.3,
            "bin_end": 64.4,
            "count": 0
           },
           {
            "bin_start": 64.4,
            "bin_end": 74.5,
            "count": 1
           },
           {
            "bin_start": 74.5,
            "bin_end": 84.6,
            "count": 0
           },
           {
            "bin_start": 84.6,
            "bin_end": 94.7,
            "count": 0
           },
           {
            "bin_start": 94.7,
            "bin_end": 104.8,
            "count": 0
           },
           {
            "bin_start": 104.8,
            "bin_end": 114.89999999999999,
            "count": 2
           },
           {
            "bin_start": 114.89999999999999,
            "bin_end": 125,
            "count": 1
           }
          ]
         }
        },
        {
         "name": "review_scores_checkin",
         "dtype": "float64",
         "stats": {
          "unique_count": 2,
          "nan_count": 0,
          "min": "9.0",
          "max": "10.0",
          "histogram": [
           {
            "bin_start": 9,
            "bin_end": 9.1,
            "count": 1
           },
           {
            "bin_start": 9.1,
            "bin_end": 9.2,
            "count": 0
           },
           {
            "bin_start": 9.2,
            "bin_end": 9.3,
            "count": 0
           },
           {
            "bin_start": 9.3,
            "bin_end": 9.4,
            "count": 0
           },
           {
            "bin_start": 9.4,
            "bin_end": 9.5,
            "count": 0
           },
           {
            "bin_start": 9.5,
            "bin_end": 9.6,
            "count": 0
           },
           {
            "bin_start": 9.6,
            "bin_end": 9.7,
            "count": 0
           },
           {
            "bin_start": 9.7,
            "bin_end": 9.8,
            "count": 0
           },
           {
            "bin_start": 9.8,
            "bin_end": 9.9,
            "count": 0
           },
           {
            "bin_start": 9.9,
            "bin_end": 10,
            "count": 4
           }
          ]
         }
        },
        {
         "name": "review_scores_cleanliness",
         "dtype": "float64",
         "stats": {
          "unique_count": 3,
          "nan_count": 0,
          "min": "8.0",
          "max": "10.0",
          "histogram": [
           {
            "bin_start": 8,
            "bin_end": 8.2,
            "count": 1
           },
           {
            "bin_start": 8.2,
            "bin_end": 8.4,
            "count": 0
           },
           {
            "bin_start": 8.4,
            "bin_end": 8.6,
            "count": 0
           },
           {
            "bin_start": 8.6,
            "bin_end": 8.8,
            "count": 0
           },
           {
            "bin_start": 8.8,
            "bin_end": 9,
            "count": 0
           },
           {
            "bin_start": 9,
            "bin_end": 9.2,
            "count": 2
           },
           {
            "bin_start": 9.2,
            "bin_end": 9.4,
            "count": 0
           },
           {
            "bin_start": 9.4,
            "bin_end": 9.6,
            "count": 0
           },
           {
            "bin_start": 9.6,
            "bin_end": 9.8,
            "count": 0
           },
           {
            "bin_start": 9.8,
            "bin_end": 10,
            "count": 2
           }
          ]
         }
        },
        {
         "name": "review_scores_communication",
         "dtype": "float64",
         "stats": {
          "unique_count": 2,
          "nan_count": 0,
          "min": "9.0",
          "max": "10.0",
          "histogram": [
           {
            "bin_start": 9,
            "bin_end": 9.1,
            "count": 2
           },
           {
            "bin_start": 9.1,
            "bin_end": 9.2,
            "count": 0
           },
           {
            "bin_start": 9.2,
            "bin_end": 9.3,
            "count": 0
           },
           {
            "bin_start": 9.3,
            "bin_end": 9.4,
            "count": 0
           },
           {
            "bin_start": 9.4,
            "bin_end": 9.5,
            "count": 0
           },
           {
            "bin_start": 9.5,
            "bin_end": 9.6,
            "count": 0
           },
           {
            "bin_start": 9.6,
            "bin_end": 9.7,
            "count": 0
           },
           {
            "bin_start": 9.7,
            "bin_end": 9.8,
            "count": 0
           },
           {
            "bin_start": 9.8,
            "bin_end": 9.9,
            "count": 0
           },
           {
            "bin_start": 9.9,
            "bin_end": 10,
            "count": 3
           }
          ]
         }
        },
        {
         "name": "review_scores_location",
         "dtype": "float64",
         "stats": {
          "unique_count": 2,
          "nan_count": 0,
          "min": "8.0",
          "max": "9.0",
          "histogram": [
           {
            "bin_start": 8,
            "bin_end": 8.1,
            "count": 1
           },
           {
            "bin_start": 8.1,
            "bin_end": 8.2,
            "count": 0
           },
           {
            "bin_start": 8.2,
            "bin_end": 8.3,
            "count": 0
           },
           {
            "bin_start": 8.3,
            "bin_end": 8.4,
            "count": 0
           },
           {
            "bin_start": 8.4,
            "bin_end": 8.5,
            "count": 0
           },
           {
            "bin_start": 8.5,
            "bin_end": 8.6,
            "count": 0
           },
           {
            "bin_start": 8.6,
            "bin_end": 8.7,
            "count": 0
           },
           {
            "bin_start": 8.7,
            "bin_end": 8.8,
            "count": 0
           },
           {
            "bin_start": 8.8,
            "bin_end": 8.9,
            "count": 0
           },
           {
            "bin_start": 8.9,
            "bin_end": 9,
            "count": 4
           }
          ]
         }
        },
        {
         "name": "review_scores_rating",
         "dtype": "float64",
         "stats": {
          "unique_count": 3,
          "nan_count": 0,
          "min": "78.0",
          "max": "96.0",
          "histogram": [
           {
            "bin_start": 78,
            "bin_end": 79.8,
            "count": 1
           },
           {
            "bin_start": 79.8,
            "bin_end": 81.6,
            "count": 0
           },
           {
            "bin_start": 81.6,
            "bin_end": 83.4,
            "count": 0
           },
           {
            "bin_start": 83.4,
            "bin_end": 85.2,
            "count": 0
           },
           {
            "bin_start": 85.2,
            "bin_end": 87,
            "count": 0
           },
           {
            "bin_start": 87,
            "bin_end": 88.8,
            "count": 0
           },
           {
            "bin_start": 88.8,
            "bin_end": 90.6,
            "count": 0
           },
           {
            "bin_start": 90.6,
            "bin_end": 92.4,
            "count": 0
           },
           {
            "bin_start": 92.4,
            "bin_end": 94.2,
            "count": 2
           },
           {
            "bin_start": 94.2,
            "bin_end": 96,
            "count": 2
           }
          ]
         }
        },
        {
         "name": "review_scores_value",
         "dtype": "float64",
         "stats": {
          "unique_count": 3,
          "nan_count": 0,
          "min": "8.0",
          "max": "10.0",
          "histogram": [
           {
            "bin_start": 8,
            "bin_end": 8.2,
            "count": 1
           },
           {
            "bin_start": 8.2,
            "bin_end": 8.4,
            "count": 0
           },
           {
            "bin_start": 8.4,
            "bin_end": 8.6,
            "count": 0
           },
           {
            "bin_start": 8.6,
            "bin_end": 8.8,
            "count": 0
           },
           {
            "bin_start": 8.8,
            "bin_end": 9,
            "count": 0
           },
           {
            "bin_start": 9,
            "bin_end": 9.2,
            "count": 2
           },
           {
            "bin_start": 9.2,
            "bin_end": 9.4,
            "count": 0
           },
           {
            "bin_start": 9.4,
            "bin_end": 9.6,
            "count": 0
           },
           {
            "bin_start": 9.6,
            "bin_end": 9.8,
            "count": 0
           },
           {
            "bin_start": 9.8,
            "bin_end": 10,
            "count": 2
           }
          ]
         }
        },
        {
         "name": "state",
         "dtype": "object",
         "stats": {
          "unique_count": 1,
          "nan_count": 0,
          "categories": [
           {
            "name": "NC",
            "count": 5
           }
          ]
         }
        },
        {
         "name": "bed_type_Airbed",
         "dtype": "uint8",
         "stats": {
          "unique_count": 1,
          "nan_count": 0,
          "min": "0",
          "max": "0",
          "histogram": [
           {
            "bin_start": -0.5,
            "bin_end": -0.4,
            "count": 0
           },
           {
            "bin_start": -0.4,
            "bin_end": -0.3,
            "count": 0
           },
           {
            "bin_start": -0.3,
            "bin_end": -0.19999999999999996,
            "count": 0
           },
           {
            "bin_start": -0.19999999999999996,
            "bin_end": -0.09999999999999998,
            "count": 0
           },
           {
            "bin_start": -0.09999999999999998,
            "bin_end": 0,
            "count": 0
           },
           {
            "bin_start": 0,
            "bin_end": 0.10000000000000009,
            "count": 5
           },
           {
            "bin_start": 0.10000000000000009,
            "bin_end": 0.20000000000000007,
            "count": 0
           },
           {
            "bin_start": 0.20000000000000007,
            "bin_end": 0.30000000000000004,
            "count": 0
           },
           {
            "bin_start": 0.30000000000000004,
            "bin_end": 0.4,
            "count": 0
           },
           {
            "bin_start": 0.4,
            "bin_end": 0.5,
            "count": 0
           }
          ]
         }
        },
        {
         "name": "bed_type_Couch",
         "dtype": "uint8",
         "stats": {
          "unique_count": 1,
          "nan_count": 0,
          "min": "0",
          "max": "0",
          "histogram": [
           {
            "bin_start": -0.5,
            "bin_end": -0.4,
            "count": 0
           },
           {
            "bin_start": -0.4,
            "bin_end": -0.3,
            "count": 0
           },
           {
            "bin_start": -0.3,
            "bin_end": -0.19999999999999996,
            "count": 0
           },
           {
            "bin_start": -0.19999999999999996,
            "bin_end": -0.09999999999999998,
            "count": 0
           },
           {
            "bin_start": -0.09999999999999998,
            "bin_end": 0,
            "count": 0
           },
           {
            "bin_start": 0,
            "bin_end": 0.10000000000000009,
            "count": 5
           },
           {
            "bin_start": 0.10000000000000009,
            "bin_end": 0.20000000000000007,
            "count": 0
           },
           {
            "bin_start": 0.20000000000000007,
            "bin_end": 0.30000000000000004,
            "count": 0
           },
           {
            "bin_start": 0.30000000000000004,
            "bin_end": 0.4,
            "count": 0
           },
           {
            "bin_start": 0.4,
            "bin_end": 0.5,
            "count": 0
           }
          ]
         }
        },
        {
         "name": "bed_type_Futon",
         "dtype": "uint8",
         "stats": {
          "unique_count": 1,
          "nan_count": 0,
          "min": "0",
          "max": "0",
          "histogram": [
           {
            "bin_start": -0.5,
            "bin_end": -0.4,
            "count": 0
           },
           {
            "bin_start": -0.4,
            "bin_end": -0.3,
            "count": 0
           },
           {
            "bin_start": -0.3,
            "bin_end": -0.19999999999999996,
            "count": 0
           },
           {
            "bin_start": -0.19999999999999996,
            "bin_end": -0.09999999999999998,
            "count": 0
           },
           {
            "bin_start": -0.09999999999999998,
            "bin_end": 0,
            "count": 0
           },
           {
            "bin_start": 0,
            "bin_end": 0.10000000000000009,
            "count": 5
           },
           {
            "bin_start": 0.10000000000000009,
            "bin_end": 0.20000000000000007,
            "count": 0
           },
           {
            "bin_start": 0.20000000000000007,
            "bin_end": 0.30000000000000004,
            "count": 0
           },
           {
            "bin_start": 0.30000000000000004,
            "bin_end": 0.4,
            "count": 0
           },
           {
            "bin_start": 0.4,
            "bin_end": 0.5,
            "count": 0
           }
          ]
         }
        },
        {
         "name": "bed_type_Pull-out Sofa",
         "dtype": "uint8",
         "stats": {
          "unique_count": 1,
          "nan_count": 0,
          "min": "0",
          "max": "0",
          "histogram": [
           {
            "bin_start": -0.5,
            "bin_end": -0.4,
            "count": 0
           },
           {
            "bin_start": -0.4,
            "bin_end": -0.3,
            "count": 0
           },
           {
            "bin_start": -0.3,
            "bin_end": -0.19999999999999996,
            "count": 0
           },
           {
            "bin_start": -0.19999999999999996,
            "bin_end": -0.09999999999999998,
            "count": 0
           },
           {
            "bin_start": -0.09999999999999998,
            "bin_end": 0,
            "count": 0
           },
           {
            "bin_start": 0,
            "bin_end": 0.10000000000000009,
            "count": 5
           },
           {
            "bin_start": 0.10000000000000009,
            "bin_end": 0.20000000000000007,
            "count": 0
           },
           {
            "bin_start": 0.20000000000000007,
            "bin_end": 0.30000000000000004,
            "count": 0
           },
           {
            "bin_start": 0.30000000000000004,
            "bin_end": 0.4,
            "count": 0
           },
           {
            "bin_start": 0.4,
            "bin_end": 0.5,
            "count": 0
           }
          ]
         }
        },
        {
         "name": "bed_type_Real Bed",
         "dtype": "uint8",
         "stats": {
          "unique_count": 1,
          "nan_count": 0,
          "min": "1",
          "max": "1",
          "histogram": [
           {
            "bin_start": 0.5,
            "bin_end": 0.6,
            "count": 0
           },
           {
            "bin_start": 0.6,
            "bin_end": 0.7,
            "count": 0
           },
           {
            "bin_start": 0.7,
            "bin_end": 0.8,
            "count": 0
           },
           {
            "bin_start": 0.8,
            "bin_end": 0.9,
            "count": 0
           },
           {
            "bin_start": 0.9,
            "bin_end": 1,
            "count": 0
           },
           {
            "bin_start": 1,
            "bin_end": 1.1,
            "count": 5
           },
           {
            "bin_start": 1.1,
            "bin_end": 1.2000000000000002,
            "count": 0
           },
           {
            "bin_start": 1.2000000000000002,
            "bin_end": 1.3,
            "count": 0
           },
           {
            "bin_start": 1.3,
            "bin_end": 1.4,
            "count": 0
           },
           {
            "bin_start": 1.4,
            "bin_end": 1.5,
            "count": 0
           }
          ]
         }
        },
        {
         "name": "cancellation_policy_flexible",
         "dtype": "uint8",
         "stats": {
          "unique_count": 2,
          "nan_count": 0,
          "min": "0",
          "max": "1",
          "histogram": [
           {
            "bin_start": 0,
            "bin_end": 0.1,
            "count": 4
           },
           {
            "bin_start": 0.1,
            "bin_end": 0.2,
            "count": 0
           },
           {
            "bin_start": 0.2,
            "bin_end": 0.30000000000000004,
            "count": 0
           },
           {
            "bin_start": 0.30000000000000004,
            "bin_end": 0.4,
            "count": 0
           },
           {
            "bin_start": 0.4,
            "bin_end": 0.5,
            "count": 0
           },
           {
            "bin_start": 0.5,
            "bin_end": 0.6000000000000001,
            "count": 0
           },
           {
            "bin_start": 0.6000000000000001,
            "bin_end": 0.7000000000000001,
            "count": 0
           },
           {
            "bin_start": 0.7000000000000001,
            "bin_end": 0.8,
            "count": 0
           },
           {
            "bin_start": 0.8,
            "bin_end": 0.9,
            "count": 0
           },
           {
            "bin_start": 0.9,
            "bin_end": 1,
            "count": 1
           }
          ]
         }
        },
        {
         "name": "cancellation_policy_moderate",
         "dtype": "uint8",
         "stats": {
          "unique_count": 2,
          "nan_count": 0,
          "min": "0",
          "max": "1",
          "histogram": [
           {
            "bin_start": 0,
            "bin_end": 0.1,
            "count": 3
           },
           {
            "bin_start": 0.1,
            "bin_end": 0.2,
            "count": 0
           },
           {
            "bin_start": 0.2,
            "bin_end": 0.30000000000000004,
            "count": 0
           },
           {
            "bin_start": 0.30000000000000004,
            "bin_end": 0.4,
            "count": 0
           },
           {
            "bin_start": 0.4,
            "bin_end": 0.5,
            "count": 0
           },
           {
            "bin_start": 0.5,
            "bin_end": 0.6000000000000001,
            "count": 0
           },
           {
            "bin_start": 0.6000000000000001,
            "bin_end": 0.7000000000000001,
            "count": 0
           },
           {
            "bin_start": 0.7000000000000001,
            "bin_end": 0.8,
            "count": 0
           },
           {
            "bin_start": 0.8,
            "bin_end": 0.9,
            "count": 0
           },
           {
            "bin_start": 0.9,
            "bin_end": 1,
            "count": 2
           }
          ]
         }
        },
        {
         "name": "cancellation_policy_no_refunds",
         "dtype": "uint8",
         "stats": {
          "unique_count": 1,
          "nan_count": 0,
          "min": "0",
          "max": "0",
          "histogram": [
           {
            "bin_start": -0.5,
            "bin_end": -0.4,
            "count": 0
           },
           {
            "bin_start": -0.4,
            "bin_end": -0.3,
            "count": 0
           },
           {
            "bin_start": -0.3,
            "bin_end": -0.19999999999999996,
            "count": 0
           },
           {
            "bin_start": -0.19999999999999996,
            "bin_end": -0.09999999999999998,
            "count": 0
           },
           {
            "bin_start": -0.09999999999999998,
            "bin_end": 0,
            "count": 0
           },
           {
            "bin_start": 0,
            "bin_end": 0.10000000000000009,
            "count": 5
           },
           {
            "bin_start": 0.10000000000000009,
            "bin_end": 0.20000000000000007,
            "count": 0
           },
           {
            "bin_start": 0.20000000000000007,
            "bin_end": 0.30000000000000004,
            "count": 0
           },
           {
            "bin_start": 0.30000000000000004,
            "bin_end": 0.4,
            "count": 0
           },
           {
            "bin_start": 0.4,
            "bin_end": 0.5,
            "count": 0
           }
          ]
         }
        },
        {
         "name": "cancellation_policy_strict",
         "dtype": "uint8",
         "stats": {
          "unique_count": 2,
          "nan_count": 0,
          "min": "0",
          "max": "1",
          "histogram": [
           {
            "bin_start": 0,
            "bin_end": 0.1,
            "count": 3
           },
           {
            "bin_start": 0.1,
            "bin_end": 0.2,
            "count": 0
           },
           {
            "bin_start": 0.2,
            "bin_end": 0.30000000000000004,
            "count": 0
           },
           {
            "bin_start": 0.30000000000000004,
            "bin_end": 0.4,
            "count": 0
           },
           {
            "bin_start": 0.4,
            "bin_end": 0.5,
            "count": 0
           },
           {
            "bin_start": 0.5,
            "bin_end": 0.6000000000000001,
            "count": 0
           },
           {
            "bin_start": 0.6000000000000001,
            "bin_end": 0.7000000000000001,
            "count": 0
           },
           {
            "bin_start": 0.7000000000000001,
            "bin_end": 0.8,
            "count": 0
           },
           {
            "bin_start": 0.8,
            "bin_end": 0.9,
            "count": 0
           },
           {
            "bin_start": 0.9,
            "bin_end": 1,
            "count": 2
           }
          ]
         }
        },
        {
         "name": "cancellation_policy_super_strict_30",
         "dtype": "uint8",
         "stats": {
          "unique_count": 1,
          "nan_count": 0,
          "min": "0",
          "max": "0",
          "histogram": [
           {
            "bin_start": -0.5,
            "bin_end": -0.4,
            "count": 0
           },
           {
            "bin_start": -0.4,
            "bin_end": -0.3,
            "count": 0
           },
           {
            "bin_start": -0.3,
            "bin_end": -0.19999999999999996,
            "count": 0
           },
           {
            "bin_start": -0.19999999999999996,
            "bin_end": -0.09999999999999998,
            "count": 0
           },
           {
            "bin_start": -0.09999999999999998,
            "bin_end": 0,
            "count": 0
           },
           {
            "bin_start": 0,
            "bin_end": 0.10000000000000009,
            "count": 5
           },
           {
            "bin_start": 0.10000000000000009,
            "bin_end": 0.20000000000000007,
            "count": 0
           },
           {
            "bin_start": 0.20000000000000007,
            "bin_end": 0.30000000000000004,
            "count": 0
           },
           {
            "bin_start": 0.30000000000000004,
            "bin_end": 0.4,
            "count": 0
           },
           {
            "bin_start": 0.4,
            "bin_end": 0.5,
            "count": 0
           }
          ]
         }
        },
        {
         "name": "cancellation_policy_super_strict_60",
         "dtype": "uint8",
         "stats": {
          "unique_count": 1,
          "nan_count": 0,
          "min": "0",
          "max": "0",
          "histogram": [
           {
            "bin_start": -0.5,
            "bin_end": -0.4,
            "count": 0
           },
           {
            "bin_start": -0.4,
            "bin_end": -0.3,
            "count": 0
           },
           {
            "bin_start": -0.3,
            "bin_end": -0.19999999999999996,
            "count": 0
           },
           {
            "bin_start": -0.19999999999999996,
            "bin_end": -0.09999999999999998,
            "count": 0
           },
           {
            "bin_start": -0.09999999999999998,
            "bin_end": 0,
            "count": 0
           },
           {
            "bin_start": 0,
            "bin_end": 0.10000000000000009,
            "count": 5
           },
           {
            "bin_start": 0.10000000000000009,
            "bin_end": 0.20000000000000007,
            "count": 0
           },
           {
            "bin_start": 0.20000000000000007,
            "bin_end": 0.30000000000000004,
            "count": 0
           },
           {
            "bin_start": 0.30000000000000004,
            "bin_end": 0.4,
            "count": 0
           },
           {
            "bin_start": 0.4,
            "bin_end": 0.5,
            "count": 0
           }
          ]
         }
        },
        {
         "name": "instant_bookable_f",
         "dtype": "uint8",
         "stats": {
          "unique_count": 2,
          "nan_count": 0,
          "min": "0",
          "max": "1",
          "histogram": [
           {
            "bin_start": 0,
            "bin_end": 0.1,
            "count": 1
           },
           {
            "bin_start": 0.1,
            "bin_end": 0.2,
            "count": 0
           },
           {
            "bin_start": 0.2,
            "bin_end": 0.30000000000000004,
            "count": 0
           },
           {
            "bin_start": 0.30000000000000004,
            "bin_end": 0.4,
            "count": 0
           },
           {
            "bin_start": 0.4,
            "bin_end": 0.5,
            "count": 0
           },
           {
            "bin_start": 0.5,
            "bin_end": 0.6000000000000001,
            "count": 0
           },
           {
            "bin_start": 0.6000000000000001,
            "bin_end": 0.7000000000000001,
            "count": 0
           },
           {
            "bin_start": 0.7000000000000001,
            "bin_end": 0.8,
            "count": 0
           },
           {
            "bin_start": 0.8,
            "bin_end": 0.9,
            "count": 0
           },
           {
            "bin_start": 0.9,
            "bin_end": 1,
            "count": 4
           }
          ]
         }
        },
        {
         "name": "instant_bookable_t",
         "dtype": "uint8",
         "stats": {
          "unique_count": 2,
          "nan_count": 0,
          "min": "0",
          "max": "1",
          "histogram": [
           {
            "bin_start": 0,
            "bin_end": 0.1,
            "count": 4
           },
           {
            "bin_start": 0.1,
            "bin_end": 0.2,
            "count": 0
           },
           {
            "bin_start": 0.2,
            "bin_end": 0.30000000000000004,
            "count": 0
           },
           {
            "bin_start": 0.30000000000000004,
            "bin_end": 0.4,
            "count": 0
           },
           {
            "bin_start": 0.4,
            "bin_end": 0.5,
            "count": 0
           },
           {
            "bin_start": 0.5,
            "bin_end": 0.6000000000000001,
            "count": 0
           },
           {
            "bin_start": 0.6000000000000001,
            "bin_end": 0.7000000000000001,
            "count": 0
           },
           {
            "bin_start": 0.7000000000000001,
            "bin_end": 0.8,
            "count": 0
           },
           {
            "bin_start": 0.8,
            "bin_end": 0.9,
            "count": 0
           },
           {
            "bin_start": 0.9,
            "bin_end": 1,
            "count": 1
           }
          ]
         }
        },
        {
         "name": "property_type_Apartment",
         "dtype": "uint8",
         "stats": {
          "unique_count": 1,
          "nan_count": 0,
          "min": "0",
          "max": "0",
          "histogram": [
           {
            "bin_start": -0.5,
            "bin_end": -0.4,
            "count": 0
           },
           {
            "bin_start": -0.4,
            "bin_end": -0.3,
            "count": 0
           },
           {
            "bin_start": -0.3,
            "bin_end": -0.19999999999999996,
            "count": 0
           },
           {
            "bin_start": -0.19999999999999996,
            "bin_end": -0.09999999999999998,
            "count": 0
           },
           {
            "bin_start": -0.09999999999999998,
            "bin_end": 0,
            "count": 0
           },
           {
            "bin_start": 0,
            "bin_end": 0.10000000000000009,
            "count": 5
           },
           {
            "bin_start": 0.10000000000000009,
            "bin_end": 0.20000000000000007,
            "count": 0
           },
           {
            "bin_start": 0.20000000000000007,
            "bin_end": 0.30000000000000004,
            "count": 0
           },
           {
            "bin_start": 0.30000000000000004,
            "bin_end": 0.4,
            "count": 0
           },
           {
            "bin_start": 0.4,
            "bin_end": 0.5,
            "count": 0
           }
          ]
         }
        },
        {
         "name": "property_type_Bed & Breakfast",
         "dtype": "uint8",
         "stats": {
          "unique_count": 1,
          "nan_count": 0,
          "min": "0",
          "max": "0",
          "histogram": [
           {
            "bin_start": -0.5,
            "bin_end": -0.4,
            "count": 0
           },
           {
            "bin_start": -0.4,
            "bin_end": -0.3,
            "count": 0
           },
           {
            "bin_start": -0.3,
            "bin_end": -0.19999999999999996,
            "count": 0
           },
           {
            "bin_start": -0.19999999999999996,
            "bin_end": -0.09999999999999998,
            "count": 0
           },
           {
            "bin_start": -0.09999999999999998,
            "bin_end": 0,
            "count": 0
           },
           {
            "bin_start": 0,
            "bin_end": 0.10000000000000009,
            "count": 5
           },
           {
            "bin_start": 0.10000000000000009,
            "bin_end": 0.20000000000000007,
            "count": 0
           },
           {
            "bin_start": 0.20000000000000007,
            "bin_end": 0.30000000000000004,
            "count": 0
           },
           {
            "bin_start": 0.30000000000000004,
            "bin_end": 0.4,
            "count": 0
           },
           {
            "bin_start": 0.4,
            "bin_end": 0.5,
            "count": 0
           }
          ]
         }
        },
        {
         "name": "property_type_Boat",
         "dtype": "uint8",
         "stats": {
          "unique_count": 1,
          "nan_count": 0,
          "min": "0",
          "max": "0",
          "histogram": [
           {
            "bin_start": -0.5,
            "bin_end": -0.4,
            "count": 0
           },
           {
            "bin_start": -0.4,
            "bin_end": -0.3,
            "count": 0
           },
           {
            "bin_start": -0.3,
            "bin_end": -0.19999999999999996,
            "count": 0
           },
           {
            "bin_start": -0.19999999999999996,
            "bin_end": -0.09999999999999998,
            "count": 0
           },
           {
            "bin_start": -0.09999999999999998,
            "bin_end": 0,
            "count": 0
           },
           {
            "bin_start": 0,
            "bin_end": 0.10000000000000009,
            "count": 5
           },
           {
            "bin_start": 0.10000000000000009,
            "bin_end": 0.20000000000000007,
            "count": 0
           },
           {
            "bin_start": 0.20000000000000007,
            "bin_end": 0.30000000000000004,
            "count": 0
           },
           {
            "bin_start": 0.30000000000000004,
            "bin_end": 0.4,
            "count": 0
           },
           {
            "bin_start": 0.4,
            "bin_end": 0.5,
            "count": 0
           }
          ]
         }
        },
        {
         "name": "property_type_Boutique hotel",
         "dtype": "uint8",
         "stats": {
          "unique_count": 1,
          "nan_count": 0,
          "min": "0",
          "max": "0",
          "histogram": [
           {
            "bin_start": -0.5,
            "bin_end": -0.4,
            "count": 0
           },
           {
            "bin_start": -0.4,
            "bin_end": -0.3,
            "count": 0
           },
           {
            "bin_start": -0.3,
            "bin_end": -0.19999999999999996,
            "count": 0
           },
           {
            "bin_start": -0.19999999999999996,
            "bin_end": -0.09999999999999998,
            "count": 0
           },
           {
            "bin_start": -0.09999999999999998,
            "bin_end": 0,
            "count": 0
           },
           {
            "bin_start": 0,
            "bin_end": 0.10000000000000009,
            "count": 5
           },
           {
            "bin_start": 0.10000000000000009,
            "bin_end": 0.20000000000000007,
            "count": 0
           },
           {
            "bin_start": 0.20000000000000007,
            "bin_end": 0.30000000000000004,
            "count": 0
           },
           {
            "bin_start": 0.30000000000000004,
            "bin_end": 0.4,
            "count": 0
           },
           {
            "bin_start": 0.4,
            "bin_end": 0.5,
            "count": 0
           }
          ]
         }
        },
        {
         "name": "property_type_Bungalow",
         "dtype": "uint8",
         "stats": {
          "unique_count": 1,
          "nan_count": 0,
          "min": "0",
          "max": "0",
          "histogram": [
           {
            "bin_start": -0.5,
            "bin_end": -0.4,
            "count": 0
           },
           {
            "bin_start": -0.4,
            "bin_end": -0.3,
            "count": 0
           },
           {
            "bin_start": -0.3,
            "bin_end": -0.19999999999999996,
            "count": 0
           },
           {
            "bin_start": -0.19999999999999996,
            "bin_end": -0.09999999999999998,
            "count": 0
           },
           {
            "bin_start": -0.09999999999999998,
            "bin_end": 0,
            "count": 0
           },
           {
            "bin_start": 0,
            "bin_end": 0.10000000000000009,
            "count": 5
           },
           {
            "bin_start": 0.10000000000000009,
            "bin_end": 0.20000000000000007,
            "count": 0
           },
           {
            "bin_start": 0.20000000000000007,
            "bin_end": 0.30000000000000004,
            "count": 0
           },
           {
            "bin_start": 0.30000000000000004,
            "bin_end": 0.4,
            "count": 0
           },
           {
            "bin_start": 0.4,
            "bin_end": 0.5,
            "count": 0
           }
          ]
         }
        },
        {
         "name": "property_type_Cabin",
         "dtype": "uint8",
         "stats": {
          "unique_count": 1,
          "nan_count": 0,
          "min": "0",
          "max": "0",
          "histogram": [
           {
            "bin_start": -0.5,
            "bin_end": -0.4,
            "count": 0
           },
           {
            "bin_start": -0.4,
            "bin_end": -0.3,
            "count": 0
           },
           {
            "bin_start": -0.3,
            "bin_end": -0.19999999999999996,
            "count": 0
           },
           {
            "bin_start": -0.19999999999999996,
            "bin_end": -0.09999999999999998,
            "count": 0
           },
           {
            "bin_start": -0.09999999999999998,
            "bin_end": 0,
            "count": 0
           },
           {
            "bin_start": 0,
            "bin_end": 0.10000000000000009,
            "count": 5
           },
           {
            "bin_start": 0.10000000000000009,
            "bin_end": 0.20000000000000007,
            "count": 0
           },
           {
            "bin_start": 0.20000000000000007,
            "bin_end": 0.30000000000000004,
            "count": 0
           },
           {
            "bin_start": 0.30000000000000004,
            "bin_end": 0.4,
            "count": 0
           },
           {
            "bin_start": 0.4,
            "bin_end": 0.5,
            "count": 0
           }
          ]
         }
        },
        {
         "name": "property_type_Camper/RV",
         "dtype": "uint8",
         "stats": {
          "unique_count": 1,
          "nan_count": 0,
          "min": "0",
          "max": "0",
          "histogram": [
           {
            "bin_start": -0.5,
            "bin_end": -0.4,
            "count": 0
           },
           {
            "bin_start": -0.4,
            "bin_end": -0.3,
            "count": 0
           },
           {
            "bin_start": -0.3,
            "bin_end": -0.19999999999999996,
            "count": 0
           },
           {
            "bin_start": -0.19999999999999996,
            "bin_end": -0.09999999999999998,
            "count": 0
           },
           {
            "bin_start": -0.09999999999999998,
            "bin_end": 0,
            "count": 0
           },
           {
            "bin_start": 0,
            "bin_end": 0.10000000000000009,
            "count": 5
           },
           {
            "bin_start": 0.10000000000000009,
            "bin_end": 0.20000000000000007,
            "count": 0
           },
           {
            "bin_start": 0.20000000000000007,
            "bin_end": 0.30000000000000004,
            "count": 0
           },
           {
            "bin_start": 0.30000000000000004,
            "bin_end": 0.4,
            "count": 0
           },
           {
            "bin_start": 0.4,
            "bin_end": 0.5,
            "count": 0
           }
          ]
         }
        },
        {
         "name": "property_type_Chalet",
         "dtype": "uint8",
         "stats": {
          "unique_count": 1,
          "nan_count": 0,
          "min": "0",
          "max": "0",
          "histogram": [
           {
            "bin_start": -0.5,
            "bin_end": -0.4,
            "count": 0
           },
           {
            "bin_start": -0.4,
            "bin_end": -0.3,
            "count": 0
           },
           {
            "bin_start": -0.3,
            "bin_end": -0.19999999999999996,
            "count": 0
           },
           {
            "bin_start": -0.19999999999999996,
            "bin_end": -0.09999999999999998,
            "count": 0
           },
           {
            "bin_start": -0.09999999999999998,
            "bin_end": 0,
            "count": 0
           },
           {
            "bin_start": 0,
            "bin_end": 0.10000000000000009,
            "count": 5
           },
           {
            "bin_start": 0.10000000000000009,
            "bin_end": 0.20000000000000007,
            "count": 0
           },
           {
            "bin_start": 0.20000000000000007,
            "bin_end": 0.30000000000000004,
            "count": 0
           },
           {
            "bin_start": 0.30000000000000004,
            "bin_end": 0.4,
            "count": 0
           },
           {
            "bin_start": 0.4,
            "bin_end": 0.5,
            "count": 0
           }
          ]
         }
        },
        {
         "name": "property_type_Condominium",
         "dtype": "uint8",
         "stats": {
          "unique_count": 1,
          "nan_count": 0,
          "min": "0",
          "max": "0",
          "histogram": [
           {
            "bin_start": -0.5,
            "bin_end": -0.4,
            "count": 0
           },
           {
            "bin_start": -0.4,
            "bin_end": -0.3,
            "count": 0
           },
           {
            "bin_start": -0.3,
            "bin_end": -0.19999999999999996,
            "count": 0
           },
           {
            "bin_start": -0.19999999999999996,
            "bin_end": -0.09999999999999998,
            "count": 0
           },
           {
            "bin_start": -0.09999999999999998,
            "bin_end": 0,
            "count": 0
           },
           {
            "bin_start": 0,
            "bin_end": 0.10000000000000009,
            "count": 5
           },
           {
            "bin_start": 0.10000000000000009,
            "bin_end": 0.20000000000000007,
            "count": 0
           },
           {
            "bin_start": 0.20000000000000007,
            "bin_end": 0.30000000000000004,
            "count": 0
           },
           {
            "bin_start": 0.30000000000000004,
            "bin_end": 0.4,
            "count": 0
           },
           {
            "bin_start": 0.4,
            "bin_end": 0.5,
            "count": 0
           }
          ]
         }
        },
        {
         "name": "property_type_Dorm",
         "dtype": "uint8",
         "stats": {
          "unique_count": 1,
          "nan_count": 0,
          "min": "0",
          "max": "0",
          "histogram": [
           {
            "bin_start": -0.5,
            "bin_end": -0.4,
            "count": 0
           },
           {
            "bin_start": -0.4,
            "bin_end": -0.3,
            "count": 0
           },
           {
            "bin_start": -0.3,
            "bin_end": -0.19999999999999996,
            "count": 0
           },
           {
            "bin_start": -0.19999999999999996,
            "bin_end": -0.09999999999999998,
            "count": 0
           },
           {
            "bin_start": -0.09999999999999998,
            "bin_end": 0,
            "count": 0
           },
           {
            "bin_start": 0,
            "bin_end": 0.10000000000000009,
            "count": 5
           },
           {
            "bin_start": 0.10000000000000009,
            "bin_end": 0.20000000000000007,
            "count": 0
           },
           {
            "bin_start": 0.20000000000000007,
            "bin_end": 0.30000000000000004,
            "count": 0
           },
           {
            "bin_start": 0.30000000000000004,
            "bin_end": 0.4,
            "count": 0
           },
           {
            "bin_start": 0.4,
            "bin_end": 0.5,
            "count": 0
           }
          ]
         }
        },
        {
         "name": "property_type_Earth House",
         "dtype": "uint8",
         "stats": {
          "unique_count": 1,
          "nan_count": 0,
          "min": "0",
          "max": "0",
          "histogram": [
           {
            "bin_start": -0.5,
            "bin_end": -0.4,
            "count": 0
           },
           {
            "bin_start": -0.4,
            "bin_end": -0.3,
            "count": 0
           },
           {
            "bin_start": -0.3,
            "bin_end": -0.19999999999999996,
            "count": 0
           },
           {
            "bin_start": -0.19999999999999996,
            "bin_end": -0.09999999999999998,
            "count": 0
           },
           {
            "bin_start": -0.09999999999999998,
            "bin_end": 0,
            "count": 0
           },
           {
            "bin_start": 0,
            "bin_end": 0.10000000000000009,
            "count": 5
           },
           {
            "bin_start": 0.10000000000000009,
            "bin_end": 0.20000000000000007,
            "count": 0
           },
           {
            "bin_start": 0.20000000000000007,
            "bin_end": 0.30000000000000004,
            "count": 0
           },
           {
            "bin_start": 0.30000000000000004,
            "bin_end": 0.4,
            "count": 0
           },
           {
            "bin_start": 0.4,
            "bin_end": 0.5,
            "count": 0
           }
          ]
         }
        },
        {
         "name": "property_type_Entire Floor",
         "dtype": "uint8",
         "stats": {
          "unique_count": 1,
          "nan_count": 0,
          "min": "0",
          "max": "0",
          "histogram": [
           {
            "bin_start": -0.5,
            "bin_end": -0.4,
            "count": 0
           },
           {
            "bin_start": -0.4,
            "bin_end": -0.3,
            "count": 0
           },
           {
            "bin_start": -0.3,
            "bin_end": -0.19999999999999996,
            "count": 0
           },
           {
            "bin_start": -0.19999999999999996,
            "bin_end": -0.09999999999999998,
            "count": 0
           },
           {
            "bin_start": -0.09999999999999998,
            "bin_end": 0,
            "count": 0
           },
           {
            "bin_start": 0,
            "bin_end": 0.10000000000000009,
            "count": 5
           },
           {
            "bin_start": 0.10000000000000009,
            "bin_end": 0.20000000000000007,
            "count": 0
           },
           {
            "bin_start": 0.20000000000000007,
            "bin_end": 0.30000000000000004,
            "count": 0
           },
           {
            "bin_start": 0.30000000000000004,
            "bin_end": 0.4,
            "count": 0
           },
           {
            "bin_start": 0.4,
            "bin_end": 0.5,
            "count": 0
           }
          ]
         }
        },
        {
         "name": "property_type_Guest suite",
         "dtype": "uint8",
         "stats": {
          "unique_count": 1,
          "nan_count": 0,
          "min": "0",
          "max": "0",
          "histogram": [
           {
            "bin_start": -0.5,
            "bin_end": -0.4,
            "count": 0
           },
           {
            "bin_start": -0.4,
            "bin_end": -0.3,
            "count": 0
           },
           {
            "bin_start": -0.3,
            "bin_end": -0.19999999999999996,
            "count": 0
           },
           {
            "bin_start": -0.19999999999999996,
            "bin_end": -0.09999999999999998,
            "count": 0
           },
           {
            "bin_start": -0.09999999999999998,
            "bin_end": 0,
            "count": 0
           },
           {
            "bin_start": 0,
            "bin_end": 0.10000000000000009,
            "count": 5
           },
           {
            "bin_start": 0.10000000000000009,
            "bin_end": 0.20000000000000007,
            "count": 0
           },
           {
            "bin_start": 0.20000000000000007,
            "bin_end": 0.30000000000000004,
            "count": 0
           },
           {
            "bin_start": 0.30000000000000004,
            "bin_end": 0.4,
            "count": 0
           },
           {
            "bin_start": 0.4,
            "bin_end": 0.5,
            "count": 0
           }
          ]
         }
        },
        {
         "name": "property_type_Guesthouse",
         "dtype": "uint8",
         "stats": {
          "unique_count": 1,
          "nan_count": 0,
          "min": "0",
          "max": "0",
          "histogram": [
           {
            "bin_start": -0.5,
            "bin_end": -0.4,
            "count": 0
           },
           {
            "bin_start": -0.4,
            "bin_end": -0.3,
            "count": 0
           },
           {
            "bin_start": -0.3,
            "bin_end": -0.19999999999999996,
            "count": 0
           },
           {
            "bin_start": -0.19999999999999996,
            "bin_end": -0.09999999999999998,
            "count": 0
           },
           {
            "bin_start": -0.09999999999999998,
            "bin_end": 0,
            "count": 0
           },
           {
            "bin_start": 0,
            "bin_end": 0.10000000000000009,
            "count": 5
           },
           {
            "bin_start": 0.10000000000000009,
            "bin_end": 0.20000000000000007,
            "count": 0
           },
           {
            "bin_start": 0.20000000000000007,
            "bin_end": 0.30000000000000004,
            "count": 0
           },
           {
            "bin_start": 0.30000000000000004,
            "bin_end": 0.4,
            "count": 0
           },
           {
            "bin_start": 0.4,
            "bin_end": 0.5,
            "count": 0
           }
          ]
         }
        },
        {
         "name": "property_type_Hostel",
         "dtype": "uint8",
         "stats": {
          "unique_count": 1,
          "nan_count": 0,
          "min": "0",
          "max": "0",
          "histogram": [
           {
            "bin_start": -0.5,
            "bin_end": -0.4,
            "count": 0
           },
           {
            "bin_start": -0.4,
            "bin_end": -0.3,
            "count": 0
           },
           {
            "bin_start": -0.3,
            "bin_end": -0.19999999999999996,
            "count": 0
           },
           {
            "bin_start": -0.19999999999999996,
            "bin_end": -0.09999999999999998,
            "count": 0
           },
           {
            "bin_start": -0.09999999999999998,
            "bin_end": 0,
            "count": 0
           },
           {
            "bin_start": 0,
            "bin_end": 0.10000000000000009,
            "count": 5
           },
           {
            "bin_start": 0.10000000000000009,
            "bin_end": 0.20000000000000007,
            "count": 0
           },
           {
            "bin_start": 0.20000000000000007,
            "bin_end": 0.30000000000000004,
            "count": 0
           },
           {
            "bin_start": 0.30000000000000004,
            "bin_end": 0.4,
            "count": 0
           },
           {
            "bin_start": 0.4,
            "bin_end": 0.5,
            "count": 0
           }
          ]
         }
        },
        {
         "name": "property_type_House",
         "dtype": "uint8",
         "stats": {
          "unique_count": 2,
          "nan_count": 0,
          "min": "0",
          "max": "1",
          "histogram": [
           {
            "bin_start": 0,
            "bin_end": 0.1,
            "count": 1
           },
           {
            "bin_start": 0.1,
            "bin_end": 0.2,
            "count": 0
           },
           {
            "bin_start": 0.2,
            "bin_end": 0.30000000000000004,
            "count": 0
           },
           {
            "bin_start": 0.30000000000000004,
            "bin_end": 0.4,
            "count": 0
           },
           {
            "bin_start": 0.4,
            "bin_end": 0.5,
            "count": 0
           },
           {
            "bin_start": 0.5,
            "bin_end": 0.6000000000000001,
            "count": 0
           },
           {
            "bin_start": 0.6000000000000001,
            "bin_end": 0.7000000000000001,
            "count": 0
           },
           {
            "bin_start": 0.7000000000000001,
            "bin_end": 0.8,
            "count": 0
           },
           {
            "bin_start": 0.8,
            "bin_end": 0.9,
            "count": 0
           },
           {
            "bin_start": 0.9,
            "bin_end": 1,
            "count": 4
           }
          ]
         }
        },
        {
         "name": "property_type_In-law",
         "dtype": "uint8",
         "stats": {
          "unique_count": 1,
          "nan_count": 0,
          "min": "0",
          "max": "0",
          "histogram": [
           {
            "bin_start": -0.5,
            "bin_end": -0.4,
            "count": 0
           },
           {
            "bin_start": -0.4,
            "bin_end": -0.3,
            "count": 0
           },
           {
            "bin_start": -0.3,
            "bin_end": -0.19999999999999996,
            "count": 0
           },
           {
            "bin_start": -0.19999999999999996,
            "bin_end": -0.09999999999999998,
            "count": 0
           },
           {
            "bin_start": -0.09999999999999998,
            "bin_end": 0,
            "count": 0
           },
           {
            "bin_start": 0,
            "bin_end": 0.10000000000000009,
            "count": 5
           },
           {
            "bin_start": 0.10000000000000009,
            "bin_end": 0.20000000000000007,
            "count": 0
           },
           {
            "bin_start": 0.20000000000000007,
            "bin_end": 0.30000000000000004,
            "count": 0
           },
           {
            "bin_start": 0.30000000000000004,
            "bin_end": 0.4,
            "count": 0
           },
           {
            "bin_start": 0.4,
            "bin_end": 0.5,
            "count": 0
           }
          ]
         }
        },
        {
         "name": "property_type_Island",
         "dtype": "uint8",
         "stats": {
          "unique_count": 1,
          "nan_count": 0,
          "min": "0",
          "max": "0",
          "histogram": [
           {
            "bin_start": -0.5,
            "bin_end": -0.4,
            "count": 0
           },
           {
            "bin_start": -0.4,
            "bin_end": -0.3,
            "count": 0
           },
           {
            "bin_start": -0.3,
            "bin_end": -0.19999999999999996,
            "count": 0
           },
           {
            "bin_start": -0.19999999999999996,
            "bin_end": -0.09999999999999998,
            "count": 0
           },
           {
            "bin_start": -0.09999999999999998,
            "bin_end": 0,
            "count": 0
           },
           {
            "bin_start": 0,
            "bin_end": 0.10000000000000009,
            "count": 5
           },
           {
            "bin_start": 0.10000000000000009,
            "bin_end": 0.20000000000000007,
            "count": 0
           },
           {
            "bin_start": 0.20000000000000007,
            "bin_end": 0.30000000000000004,
            "count": 0
           },
           {
            "bin_start": 0.30000000000000004,
            "bin_end": 0.4,
            "count": 0
           },
           {
            "bin_start": 0.4,
            "bin_end": 0.5,
            "count": 0
           }
          ]
         }
        },
        {
         "name": "property_type_Lighthouse",
         "dtype": "uint8",
         "stats": {
          "unique_count": 1,
          "nan_count": 0,
          "min": "0",
          "max": "0",
          "histogram": [
           {
            "bin_start": -0.5,
            "bin_end": -0.4,
            "count": 0
           },
           {
            "bin_start": -0.4,
            "bin_end": -0.3,
            "count": 0
           },
           {
            "bin_start": -0.3,
            "bin_end": -0.19999999999999996,
            "count": 0
           },
           {
            "bin_start": -0.19999999999999996,
            "bin_end": -0.09999999999999998,
            "count": 0
           },
           {
            "bin_start": -0.09999999999999998,
            "bin_end": 0,
            "count": 0
           },
           {
            "bin_start": 0,
            "bin_end": 0.10000000000000009,
            "count": 5
           },
           {
            "bin_start": 0.10000000000000009,
            "bin_end": 0.20000000000000007,
            "count": 0
           },
           {
            "bin_start": 0.20000000000000007,
            "bin_end": 0.30000000000000004,
            "count": 0
           },
           {
            "bin_start": 0.30000000000000004,
            "bin_end": 0.4,
            "count": 0
           },
           {
            "bin_start": 0.4,
            "bin_end": 0.5,
            "count": 0
           }
          ]
         }
        },
        {
         "name": "property_type_Loft",
         "dtype": "uint8",
         "stats": {
          "unique_count": 1,
          "nan_count": 0,
          "min": "0",
          "max": "0",
          "histogram": [
           {
            "bin_start": -0.5,
            "bin_end": -0.4,
            "count": 0
           },
           {
            "bin_start": -0.4,
            "bin_end": -0.3,
            "count": 0
           },
           {
            "bin_start": -0.3,
            "bin_end": -0.19999999999999996,
            "count": 0
           },
           {
            "bin_start": -0.19999999999999996,
            "bin_end": -0.09999999999999998,
            "count": 0
           },
           {
            "bin_start": -0.09999999999999998,
            "bin_end": 0,
            "count": 0
           },
           {
            "bin_start": 0,
            "bin_end": 0.10000000000000009,
            "count": 5
           },
           {
            "bin_start": 0.10000000000000009,
            "bin_end": 0.20000000000000007,
            "count": 0
           },
           {
            "bin_start": 0.20000000000000007,
            "bin_end": 0.30000000000000004,
            "count": 0
           },
           {
            "bin_start": 0.30000000000000004,
            "bin_end": 0.4,
            "count": 0
           },
           {
            "bin_start": 0.4,
            "bin_end": 0.5,
            "count": 0
           }
          ]
         }
        },
        {
         "name": "property_type_Other",
         "dtype": "uint8",
         "stats": {
          "unique_count": 1,
          "nan_count": 0,
          "min": "0",
          "max": "0",
          "histogram": [
           {
            "bin_start": -0.5,
            "bin_end": -0.4,
            "count": 0
           },
           {
            "bin_start": -0.4,
            "bin_end": -0.3,
            "count": 0
           },
           {
            "bin_start": -0.3,
            "bin_end": -0.19999999999999996,
            "count": 0
           },
           {
            "bin_start": -0.19999999999999996,
            "bin_end": -0.09999999999999998,
            "count": 0
           },
           {
            "bin_start": -0.09999999999999998,
            "bin_end": 0,
            "count": 0
           },
           {
            "bin_start": 0,
            "bin_end": 0.10000000000000009,
            "count": 5
           },
           {
            "bin_start": 0.10000000000000009,
            "bin_end": 0.20000000000000007,
            "count": 0
           },
           {
            "bin_start": 0.20000000000000007,
            "bin_end": 0.30000000000000004,
            "count": 0
           },
           {
            "bin_start": 0.30000000000000004,
            "bin_end": 0.4,
            "count": 0
           },
           {
            "bin_start": 0.4,
            "bin_end": 0.5,
            "count": 0
           }
          ]
         }
        },
        {
         "name": "property_type_Serviced apartment",
         "dtype": "uint8",
         "stats": {
          "unique_count": 1,
          "nan_count": 0,
          "min": "0",
          "max": "0",
          "histogram": [
           {
            "bin_start": -0.5,
            "bin_end": -0.4,
            "count": 0
           },
           {
            "bin_start": -0.4,
            "bin_end": -0.3,
            "count": 0
           },
           {
            "bin_start": -0.3,
            "bin_end": -0.19999999999999996,
            "count": 0
           },
           {
            "bin_start": -0.19999999999999996,
            "bin_end": -0.09999999999999998,
            "count": 0
           },
           {
            "bin_start": -0.09999999999999998,
            "bin_end": 0,
            "count": 0
           },
           {
            "bin_start": 0,
            "bin_end": 0.10000000000000009,
            "count": 5
           },
           {
            "bin_start": 0.10000000000000009,
            "bin_end": 0.20000000000000007,
            "count": 0
           },
           {
            "bin_start": 0.20000000000000007,
            "bin_end": 0.30000000000000004,
            "count": 0
           },
           {
            "bin_start": 0.30000000000000004,
            "bin_end": 0.4,
            "count": 0
           },
           {
            "bin_start": 0.4,
            "bin_end": 0.5,
            "count": 0
           }
          ]
         }
        },
        {
         "name": "property_type_Tent",
         "dtype": "uint8",
         "stats": {
          "unique_count": 2,
          "nan_count": 0,
          "min": "0",
          "max": "1",
          "histogram": [
           {
            "bin_start": 0,
            "bin_end": 0.1,
            "count": 4
           },
           {
            "bin_start": 0.1,
            "bin_end": 0.2,
            "count": 0
           },
           {
            "bin_start": 0.2,
            "bin_end": 0.30000000000000004,
            "count": 0
           },
           {
            "bin_start": 0.30000000000000004,
            "bin_end": 0.4,
            "count": 0
           },
           {
            "bin_start": 0.4,
            "bin_end": 0.5,
            "count": 0
           },
           {
            "bin_start": 0.5,
            "bin_end": 0.6000000000000001,
            "count": 0
           },
           {
            "bin_start": 0.6000000000000001,
            "bin_end": 0.7000000000000001,
            "count": 0
           },
           {
            "bin_start": 0.7000000000000001,
            "bin_end": 0.8,
            "count": 0
           },
           {
            "bin_start": 0.8,
            "bin_end": 0.9,
            "count": 0
           },
           {
            "bin_start": 0.9,
            "bin_end": 1,
            "count": 1
           }
          ]
         }
        },
        {
         "name": "property_type_Timeshare",
         "dtype": "uint8",
         "stats": {
          "unique_count": 1,
          "nan_count": 0,
          "min": "0",
          "max": "0",
          "histogram": [
           {
            "bin_start": -0.5,
            "bin_end": -0.4,
            "count": 0
           },
           {
            "bin_start": -0.4,
            "bin_end": -0.3,
            "count": 0
           },
           {
            "bin_start": -0.3,
            "bin_end": -0.19999999999999996,
            "count": 0
           },
           {
            "bin_start": -0.19999999999999996,
            "bin_end": -0.09999999999999998,
            "count": 0
           },
           {
            "bin_start": -0.09999999999999998,
            "bin_end": 0,
            "count": 0
           },
           {
            "bin_start": 0,
            "bin_end": 0.10000000000000009,
            "count": 5
           },
           {
            "bin_start": 0.10000000000000009,
            "bin_end": 0.20000000000000007,
            "count": 0
           },
           {
            "bin_start": 0.20000000000000007,
            "bin_end": 0.30000000000000004,
            "count": 0
           },
           {
            "bin_start": 0.30000000000000004,
            "bin_end": 0.4,
            "count": 0
           },
           {
            "bin_start": 0.4,
            "bin_end": 0.5,
            "count": 0
           }
          ]
         }
        },
        {
         "name": "property_type_Tipi",
         "dtype": "uint8",
         "stats": {
          "unique_count": 1,
          "nan_count": 0,
          "min": "0",
          "max": "0",
          "histogram": [
           {
            "bin_start": -0.5,
            "bin_end": -0.4,
            "count": 0
           },
           {
            "bin_start": -0.4,
            "bin_end": -0.3,
            "count": 0
           },
           {
            "bin_start": -0.3,
            "bin_end": -0.19999999999999996,
            "count": 0
           },
           {
            "bin_start": -0.19999999999999996,
            "bin_end": -0.09999999999999998,
            "count": 0
           },
           {
            "bin_start": -0.09999999999999998,
            "bin_end": 0,
            "count": 0
           },
           {
            "bin_start": 0,
            "bin_end": 0.10000000000000009,
            "count": 5
           },
           {
            "bin_start": 0.10000000000000009,
            "bin_end": 0.20000000000000007,
            "count": 0
           },
           {
            "bin_start": 0.20000000000000007,
            "bin_end": 0.30000000000000004,
            "count": 0
           },
           {
            "bin_start": 0.30000000000000004,
            "bin_end": 0.4,
            "count": 0
           },
           {
            "bin_start": 0.4,
            "bin_end": 0.5,
            "count": 0
           }
          ]
         }
        },
        {
         "name": "property_type_Townhouse",
         "dtype": "uint8",
         "stats": {
          "unique_count": 1,
          "nan_count": 0,
          "min": "0",
          "max": "0",
          "histogram": [
           {
            "bin_start": -0.5,
            "bin_end": -0.4,
            "count": 0
           },
           {
            "bin_start": -0.4,
            "bin_end": -0.3,
            "count": 0
           },
           {
            "bin_start": -0.3,
            "bin_end": -0.19999999999999996,
            "count": 0
           },
           {
            "bin_start": -0.19999999999999996,
            "bin_end": -0.09999999999999998,
            "count": 0
           },
           {
            "bin_start": -0.09999999999999998,
            "bin_end": 0,
            "count": 0
           },
           {
            "bin_start": 0,
            "bin_end": 0.10000000000000009,
            "count": 5
           },
           {
            "bin_start": 0.10000000000000009,
            "bin_end": 0.20000000000000007,
            "count": 0
           },
           {
            "bin_start": 0.20000000000000007,
            "bin_end": 0.30000000000000004,
            "count": 0
           },
           {
            "bin_start": 0.30000000000000004,
            "bin_end": 0.4,
            "count": 0
           },
           {
            "bin_start": 0.4,
            "bin_end": 0.5,
            "count": 0
           }
          ]
         }
        },
        {
         "name": "property_type_Treehouse",
         "dtype": "uint8",
         "stats": {
          "unique_count": 1,
          "nan_count": 0,
          "min": "0",
          "max": "0",
          "histogram": [
           {
            "bin_start": -0.5,
            "bin_end": -0.4,
            "count": 0
           },
           {
            "bin_start": -0.4,
            "bin_end": -0.3,
            "count": 0
           },
           {
            "bin_start": -0.3,
            "bin_end": -0.19999999999999996,
            "count": 0
           },
           {
            "bin_start": -0.19999999999999996,
            "bin_end": -0.09999999999999998,
            "count": 0
           },
           {
            "bin_start": -0.09999999999999998,
            "bin_end": 0,
            "count": 0
           },
           {
            "bin_start": 0,
            "bin_end": 0.10000000000000009,
            "count": 5
           },
           {
            "bin_start": 0.10000000000000009,
            "bin_end": 0.20000000000000007,
            "count": 0
           },
           {
            "bin_start": 0.20000000000000007,
            "bin_end": 0.30000000000000004,
            "count": 0
           },
           {
            "bin_start": 0.30000000000000004,
            "bin_end": 0.4,
            "count": 0
           },
           {
            "bin_start": 0.4,
            "bin_end": 0.5,
            "count": 0
           }
          ]
         }
        },
        {
         "name": "property_type_Vacation home",
         "dtype": "uint8",
         "stats": {
          "unique_count": 1,
          "nan_count": 0,
          "min": "0",
          "max": "0",
          "histogram": [
           {
            "bin_start": -0.5,
            "bin_end": -0.4,
            "count": 0
           },
           {
            "bin_start": -0.4,
            "bin_end": -0.3,
            "count": 0
           },
           {
            "bin_start": -0.3,
            "bin_end": -0.19999999999999996,
            "count": 0
           },
           {
            "bin_start": -0.19999999999999996,
            "bin_end": -0.09999999999999998,
            "count": 0
           },
           {
            "bin_start": -0.09999999999999998,
            "bin_end": 0,
            "count": 0
           },
           {
            "bin_start": 0,
            "bin_end": 0.10000000000000009,
            "count": 5
           },
           {
            "bin_start": 0.10000000000000009,
            "bin_end": 0.20000000000000007,
            "count": 0
           },
           {
            "bin_start": 0.20000000000000007,
            "bin_end": 0.30000000000000004,
            "count": 0
           },
           {
            "bin_start": 0.30000000000000004,
            "bin_end": 0.4,
            "count": 0
           },
           {
            "bin_start": 0.4,
            "bin_end": 0.5,
            "count": 0
           }
          ]
         }
        },
        {
         "name": "property_type_Villa",
         "dtype": "uint8",
         "stats": {
          "unique_count": 1,
          "nan_count": 0,
          "min": "0",
          "max": "0",
          "histogram": [
           {
            "bin_start": -0.5,
            "bin_end": -0.4,
            "count": 0
           },
           {
            "bin_start": -0.4,
            "bin_end": -0.3,
            "count": 0
           },
           {
            "bin_start": -0.3,
            "bin_end": -0.19999999999999996,
            "count": 0
           },
           {
            "bin_start": -0.19999999999999996,
            "bin_end": -0.09999999999999998,
            "count": 0
           },
           {
            "bin_start": -0.09999999999999998,
            "bin_end": 0,
            "count": 0
           },
           {
            "bin_start": 0,
            "bin_end": 0.10000000000000009,
            "count": 5
           },
           {
            "bin_start": 0.10000000000000009,
            "bin_end": 0.20000000000000007,
            "count": 0
           },
           {
            "bin_start": 0.20000000000000007,
            "bin_end": 0.30000000000000004,
            "count": 0
           },
           {
            "bin_start": 0.30000000000000004,
            "bin_end": 0.4,
            "count": 0
           },
           {
            "bin_start": 0.4,
            "bin_end": 0.5,
            "count": 0
           }
          ]
         }
        },
        {
         "name": "property_type_Yurt",
         "dtype": "uint8",
         "stats": {
          "unique_count": 1,
          "nan_count": 0,
          "min": "0",
          "max": "0",
          "histogram": [
           {
            "bin_start": -0.5,
            "bin_end": -0.4,
            "count": 0
           },
           {
            "bin_start": -0.4,
            "bin_end": -0.3,
            "count": 0
           },
           {
            "bin_start": -0.3,
            "bin_end": -0.19999999999999996,
            "count": 0
           },
           {
            "bin_start": -0.19999999999999996,
            "bin_end": -0.09999999999999998,
            "count": 0
           },
           {
            "bin_start": -0.09999999999999998,
            "bin_end": 0,
            "count": 0
           },
           {
            "bin_start": 0,
            "bin_end": 0.10000000000000009,
            "count": 5
           },
           {
            "bin_start": 0.10000000000000009,
            "bin_end": 0.20000000000000007,
            "count": 0
           },
           {
            "bin_start": 0.20000000000000007,
            "bin_end": 0.30000000000000004,
            "count": 0
           },
           {
            "bin_start": 0.30000000000000004,
            "bin_end": 0.4,
            "count": 0
           },
           {
            "bin_start": 0.4,
            "bin_end": 0.5,
            "count": 0
           }
          ]
         }
        },
        {
         "name": "room_type_Entire home/apt",
         "dtype": "uint8",
         "stats": {
          "unique_count": 2,
          "nan_count": 0,
          "min": "0",
          "max": "1",
          "histogram": [
           {
            "bin_start": 0,
            "bin_end": 0.1,
            "count": 2
           },
           {
            "bin_start": 0.1,
            "bin_end": 0.2,
            "count": 0
           },
           {
            "bin_start": 0.2,
            "bin_end": 0.30000000000000004,
            "count": 0
           },
           {
            "bin_start": 0.30000000000000004,
            "bin_end": 0.4,
            "count": 0
           },
           {
            "bin_start": 0.4,
            "bin_end": 0.5,
            "count": 0
           },
           {
            "bin_start": 0.5,
            "bin_end": 0.6000000000000001,
            "count": 0
           },
           {
            "bin_start": 0.6000000000000001,
            "bin_end": 0.7000000000000001,
            "count": 0
           },
           {
            "bin_start": 0.7000000000000001,
            "bin_end": 0.8,
            "count": 0
           },
           {
            "bin_start": 0.8,
            "bin_end": 0.9,
            "count": 0
           },
           {
            "bin_start": 0.9,
            "bin_end": 1,
            "count": 3
           }
          ]
         }
        },
        {
         "name": "room_type_Private room",
         "dtype": "uint8",
         "stats": {
          "unique_count": 2,
          "nan_count": 0,
          "min": "0",
          "max": "1",
          "histogram": [
           {
            "bin_start": 0,
            "bin_end": 0.1,
            "count": 4
           },
           {
            "bin_start": 0.1,
            "bin_end": 0.2,
            "count": 0
           },
           {
            "bin_start": 0.2,
            "bin_end": 0.30000000000000004,
            "count": 0
           },
           {
            "bin_start": 0.30000000000000004,
            "bin_end": 0.4,
            "count": 0
           },
           {
            "bin_start": 0.4,
            "bin_end": 0.5,
            "count": 0
           },
           {
            "bin_start": 0.5,
            "bin_end": 0.6000000000000001,
            "count": 0
           },
           {
            "bin_start": 0.6000000000000001,
            "bin_end": 0.7000000000000001,
            "count": 0
           },
           {
            "bin_start": 0.7000000000000001,
            "bin_end": 0.8,
            "count": 0
           },
           {
            "bin_start": 0.8,
            "bin_end": 0.9,
            "count": 0
           },
           {
            "bin_start": 0.9,
            "bin_end": 1,
            "count": 1
           }
          ]
         }
        },
        {
         "name": "room_type_Shared room",
         "dtype": "uint8",
         "stats": {
          "unique_count": 2,
          "nan_count": 0,
          "min": "0",
          "max": "1",
          "histogram": [
           {
            "bin_start": 0,
            "bin_end": 0.1,
            "count": 4
           },
           {
            "bin_start": 0.1,
            "bin_end": 0.2,
            "count": 0
           },
           {
            "bin_start": 0.2,
            "bin_end": 0.30000000000000004,
            "count": 0
           },
           {
            "bin_start": 0.30000000000000004,
            "bin_end": 0.4,
            "count": 0
           },
           {
            "bin_start": 0.4,
            "bin_end": 0.5,
            "count": 0
           },
           {
            "bin_start": 0.5,
            "bin_end": 0.6000000000000001,
            "count": 0
           },
           {
            "bin_start": 0.6000000000000001,
            "bin_end": 0.7000000000000001,
            "count": 0
           },
           {
            "bin_start": 0.7000000000000001,
            "bin_end": 0.8,
            "count": 0
           },
           {
            "bin_start": 0.8,
            "bin_end": 0.9,
            "count": 0
           },
           {
            "bin_start": 0.9,
            "bin_end": 1,
            "count": 1
           }
          ]
         }
        },
        {
         "name": "_deepnote_index_column",
         "dtype": "int64"
        }
       ],
       "rows_top": [
        {
         "accommodates": 2,
         "amenities": "{\"Wireless Internet\",\"Air Conditioning\",Kitchen,\"Free Parking on Premises\",\"Pets Allowed\",\"Pets liv…",
         "availability_30": 0,
         "bathrooms": 1,
         "bedrooms": 1,
         "beds": 1,
         "city": "Asheville",
         "metropolitan": "asheville",
         "name": "Lovely cabin, great Asheville spot",
         "price": 105,
         "review_scores_checkin": 10,
         "review_scores_cleanliness": 9,
         "review_scores_communication": 10,
         "review_scores_location": 9,
         "review_scores_rating": 96,
         "review_scores_value": 10,
         "state": "NC",
         "bed_type_Airbed": 0,
         "bed_type_Couch": 0,
         "bed_type_Futon": 0,
         "bed_type_Pull-out Sofa": 0,
         "bed_type_Real Bed": 1,
         "cancellation_policy_flexible": 0,
         "cancellation_policy_moderate": 1,
         "cancellation_policy_no_refunds": 0,
         "cancellation_policy_strict": 0,
         "cancellation_policy_super_strict_30": 0,
         "cancellation_policy_super_strict_60": 0,
         "instant_bookable_f": 1,
         "instant_bookable_t": 0,
         "property_type_Apartment": 0,
         "property_type_Bed & Breakfast": 0,
         "property_type_Boat": 0,
         "property_type_Boutique hotel": 0,
         "property_type_Bungalow": 0,
         "property_type_Cabin": 0,
         "property_type_Camper/RV": 0,
         "property_type_Chalet": 0,
         "property_type_Condominium": 0,
         "property_type_Dorm": 0,
         "property_type_Earth House": 0,
         "property_type_Entire Floor": 0,
         "property_type_Guest suite": 0,
         "property_type_Guesthouse": 0,
         "property_type_Hostel": 0,
         "property_type_House": 1,
         "property_type_In-law": 0,
         "property_type_Island": 0,
         "property_type_Lighthouse": 0,
         "property_type_Loft": 0,
         "property_type_Other": 0,
         "property_type_Serviced apartment": 0,
         "property_type_Tent": 0,
         "property_type_Timeshare": 0,
         "property_type_Tipi": 0,
         "property_type_Townhouse": 0,
         "property_type_Treehouse": 0,
         "property_type_Vacation home": 0,
         "property_type_Villa": 0,
         "property_type_Yurt": 0,
         "room_type_Entire home/apt": 1,
         "room_type_Private room": 0,
         "room_type_Shared room": 0,
         "_deepnote_index_column": 0
        },
        {
         "accommodates": 4,
         "amenities": "{TV,\"Cable TV\",Internet,\"Wireless Internet\",\"Air Conditioning\",Kitchen,\"Free Parking on Premises\",D…",
         "availability_30": 17,
         "bathrooms": 1,
         "bedrooms": 1,
         "beds": 2,
         "city": "Asheville",
         "metropolitan": "asheville",
         "name": "Glamping w HOT TUB + AC!",
         "price": 125,
         "review_scores_checkin": 10,
         "review_scores_cleanliness": 10,
         "review_scores_communication": 10,
         "review_scores_location": 9,
         "review_scores_rating": 96,
         "review_scores_value": 9,
         "state": "NC",
         "bed_type_Airbed": 0,
         "bed_type_Couch": 0,
         "bed_type_Futon": 0,
         "bed_type_Pull-out Sofa": 0,
         "bed_type_Real Bed": 1,
         "cancellation_policy_flexible": 0,
         "cancellation_policy_moderate": 0,
         "cancellation_policy_no_refunds": 0,
         "cancellation_policy_strict": 1,
         "cancellation_policy_super_strict_30": 0,
         "cancellation_policy_super_strict_60": 0,
         "instant_bookable_f": 1,
         "instant_bookable_t": 0,
         "property_type_Apartment": 0,
         "property_type_Bed & Breakfast": 0,
         "property_type_Boat": 0,
         "property_type_Boutique hotel": 0,
         "property_type_Bungalow": 0,
         "property_type_Cabin": 0,
         "property_type_Camper/RV": 0,
         "property_type_Chalet": 0,
         "property_type_Condominium": 0,
         "property_type_Dorm": 0,
         "property_type_Earth House": 0,
         "property_type_Entire Floor": 0,
         "property_type_Guest suite": 0,
         "property_type_Guesthouse": 0,
         "property_type_Hostel": 0,
         "property_type_House": 0,
         "property_type_In-law": 0,
         "property_type_Island": 0,
         "property_type_Lighthouse": 0,
         "property_type_Loft": 0,
         "property_type_Other": 0,
         "property_type_Serviced apartment": 0,
         "property_type_Tent": 1,
         "property_type_Timeshare": 0,
         "property_type_Tipi": 0,
         "property_type_Townhouse": 0,
         "property_type_Treehouse": 0,
         "property_type_Vacation home": 0,
         "property_type_Villa": 0,
         "property_type_Yurt": 0,
         "room_type_Entire home/apt": 1,
         "room_type_Private room": 0,
         "room_type_Shared room": 0,
         "_deepnote_index_column": 1
        },
        {
         "accommodates": 6,
         "amenities": "{Internet,\"Wireless Internet\",\"Free Parking on Premises\",\"Smoking Allowed\",Heating,\"Family/Kid Frie…",
         "availability_30": 25,
         "bathrooms": 2.5,
         "bedrooms": 1,
         "beds": 6,
         "city": "Asheville",
         "metropolitan": "asheville",
         "name": "Mixed Dorm Bunk at BPS Hostel",
         "price": 24,
         "review_scores_checkin": 10,
         "review_scores_cleanliness": 9,
         "review_scores_communication": 9,
         "review_scores_location": 9,
         "review_scores_rating": 93,
         "review_scores_value": 10,
         "state": "NC",
         "bed_type_Airbed": 0,
         "bed_type_Couch": 0,
         "bed_type_Futon": 0,
         "bed_type_Pull-out Sofa": 0,
         "bed_type_Real Bed": 1,
         "cancellation_policy_flexible": 0,
         "cancellation_policy_moderate": 1,
         "cancellation_policy_no_refunds": 0,
         "cancellation_policy_strict": 0,
         "cancellation_policy_super_strict_30": 0,
         "cancellation_policy_super_strict_60": 0,
         "instant_bookable_f": 1,
         "instant_bookable_t": 0,
         "property_type_Apartment": 0,
         "property_type_Bed & Breakfast": 0,
         "property_type_Boat": 0,
         "property_type_Boutique hotel": 0,
         "property_type_Bungalow": 0,
         "property_type_Cabin": 0,
         "property_type_Camper/RV": 0,
         "property_type_Chalet": 0,
         "property_type_Condominium": 0,
         "property_type_Dorm": 0,
         "property_type_Earth House": 0,
         "property_type_Entire Floor": 0,
         "property_type_Guest suite": 0,
         "property_type_Guesthouse": 0,
         "property_type_Hostel": 0,
         "property_type_House": 1,
         "property_type_In-law": 0,
         "property_type_Island": 0,
         "property_type_Lighthouse": 0,
         "property_type_Loft": 0,
         "property_type_Other": 0,
         "property_type_Serviced apartment": 0,
         "property_type_Tent": 0,
         "property_type_Timeshare": 0,
         "property_type_Tipi": 0,
         "property_type_Townhouse": 0,
         "property_type_Treehouse": 0,
         "property_type_Vacation home": 0,
         "property_type_Villa": 0,
         "property_type_Yurt": 0,
         "room_type_Entire home/apt": 0,
         "room_type_Private room": 0,
         "room_type_Shared room": 1,
         "_deepnote_index_column": 2
        },
        {
         "accommodates": 10,
         "amenities": "{TV,\"Cable TV\",Internet,\"Wireless Internet\",\"Air Conditioning\",Kitchen,\"Free Parking on Premises\",\"…",
         "availability_30": 17,
         "bathrooms": 2.5,
         "bedrooms": 4,
         "beds": 5,
         "city": "Asheville",
         "metropolitan": "asheville",
         "name": "Modern Home - Views - HOT TUB",
         "price": 105,
         "review_scores_checkin": 9,
         "review_scores_cleanliness": 8,
         "review_scores_communication": 9,
         "review_scores_location": 8,
         "review_scores_rating": 78,
         "review_scores_value": 8,
         "state": "NC",
         "bed_type_Airbed": 0,
         "bed_type_Couch": 0,
         "bed_type_Futon": 0,
         "bed_type_Pull-out Sofa": 0,
         "bed_type_Real Bed": 1,
         "cancellation_policy_flexible": 0,
         "cancellation_policy_moderate": 0,
         "cancellation_policy_no_refunds": 0,
         "cancellation_policy_strict": 1,
         "cancellation_policy_super_strict_30": 0,
         "cancellation_policy_super_strict_60": 0,
         "instant_bookable_f": 1,
         "instant_bookable_t": 0,
         "property_type_Apartment": 0,
         "property_type_Bed & Breakfast": 0,
         "property_type_Boat": 0,
         "property_type_Boutique hotel": 0,
         "property_type_Bungalow": 0,
         "property_type_Cabin": 0,
         "property_type_Camper/RV": 0,
         "property_type_Chalet": 0,
         "property_type_Condominium": 0,
         "property_type_Dorm": 0,
         "property_type_Earth House": 0,
         "property_type_Entire Floor": 0,
         "property_type_Guest suite": 0,
         "property_type_Guesthouse": 0,
         "property_type_Hostel": 0,
         "property_type_House": 1,
         "property_type_In-law": 0,
         "property_type_Island": 0,
         "property_type_Lighthouse": 0,
         "property_type_Loft": 0,
         "property_type_Other": 0,
         "property_type_Serviced apartment": 0,
         "property_type_Tent": 0,
         "property_type_Timeshare": 0,
         "property_type_Tipi": 0,
         "property_type_Townhouse": 0,
         "property_type_Treehouse": 0,
         "property_type_Vacation home": 0,
         "property_type_Villa": 0,
         "property_type_Yurt": 0,
         "room_type_Entire home/apt": 1,
         "room_type_Private room": 0,
         "room_type_Shared room": 0,
         "_deepnote_index_column": 3
        },
        {
         "accommodates": 2,
         "amenities": "{Internet,\"Wireless Internet\",\"Air Conditioning\",Kitchen,\"Free Parking on Premises\",\"Pets live on t…",
         "availability_30": 16,
         "bathrooms": 1,
         "bedrooms": 1,
         "beds": 1,
         "city": "Asheville",
         "metropolitan": "asheville",
         "name": "Bright Suite with Sunroom",
         "price": 65,
         "review_scores_checkin": 10,
         "review_scores_cleanliness": 10,
         "review_scores_communication": 10,
         "review_scores_location": 9,
         "review_scores_rating": 93,
         "review_scores_value": 9,
         "state": "NC",
         "bed_type_Airbed": 0,
         "bed_type_Couch": 0,
         "bed_type_Futon": 0,
         "bed_type_Pull-out Sofa": 0,
         "bed_type_Real Bed": 1,
         "cancellation_policy_flexible": 1,
         "cancellation_policy_moderate": 0,
         "cancellation_policy_no_refunds": 0,
         "cancellation_policy_strict": 0,
         "cancellation_policy_super_strict_30": 0,
         "cancellation_policy_super_strict_60": 0,
         "instant_bookable_f": 0,
         "instant_bookable_t": 1,
         "property_type_Apartment": 0,
         "property_type_Bed & Breakfast": 0,
         "property_type_Boat": 0,
         "property_type_Boutique hotel": 0,
         "property_type_Bungalow": 0,
         "property_type_Cabin": 0,
         "property_type_Camper/RV": 0,
         "property_type_Chalet": 0,
         "property_type_Condominium": 0,
         "property_type_Dorm": 0,
         "property_type_Earth House": 0,
         "property_type_Entire Floor": 0,
         "property_type_Guest suite": 0,
         "property_type_Guesthouse": 0,
         "property_type_Hostel": 0,
         "property_type_House": 1,
         "property_type_In-law": 0,
         "property_type_Island": 0,
         "property_type_Lighthouse": 0,
         "property_type_Loft": 0,
         "property_type_Other": 0,
         "property_type_Serviced apartment": 0,
         "property_type_Tent": 0,
         "property_type_Timeshare": 0,
         "property_type_Tipi": 0,
         "property_type_Townhouse": 0,
         "property_type_Treehouse": 0,
         "property_type_Vacation home": 0,
         "property_type_Villa": 0,
         "property_type_Yurt": 0,
         "room_type_Entire home/apt": 0,
         "room_type_Private room": 1,
         "room_type_Shared room": 0,
         "_deepnote_index_column": 4
        }
       ],
       "rows_bottom": null
      },
      "text/plain": "   accommodates                                          amenities  \\\n0           2.0  {\"Wireless Internet\",\"Air Conditioning\",Kitche...   \n1           4.0  {TV,\"Cable TV\",Internet,\"Wireless Internet\",\"A...   \n2           6.0  {Internet,\"Wireless Internet\",\"Free Parking on...   \n3          10.0  {TV,\"Cable TV\",Internet,\"Wireless Internet\",\"A...   \n4           2.0  {Internet,\"Wireless Internet\",\"Air Conditionin...   \n\n   availability_30  bathrooms  bedrooms  beds       city metropolitan  \\\n0                0        1.0       1.0   1.0  Asheville    asheville   \n1               17        1.0       1.0   2.0  Asheville    asheville   \n2               25        2.5       1.0   6.0  Asheville    asheville   \n3               17        2.5       4.0   5.0  Asheville    asheville   \n4               16        1.0       1.0   1.0  Asheville    asheville   \n\n                                 name  price  ...  property_type_Timeshare  \\\n0  Lovely cabin, great Asheville spot  105.0  ...                        0   \n1            Glamping w HOT TUB + AC!  125.0  ...                        0   \n2       Mixed Dorm Bunk at BPS Hostel   24.0  ...                        0   \n3       Modern Home - Views - HOT TUB  105.0  ...                        0   \n4           Bright Suite with Sunroom   65.0  ...                        0   \n\n   property_type_Tipi  property_type_Townhouse  property_type_Treehouse  \\\n0                   0                        0                        0   \n1                   0                        0                        0   \n2                   0                        0                        0   \n3                   0                        0                        0   \n4                   0                        0                        0   \n\n   property_type_Vacation home  property_type_Villa property_type_Yurt  \\\n0                            0                    0                  0   \n1                            0                    0                  0   \n2                            0                    0                  0   \n3                            0                    0                  0   \n4                            0                    0                  0   \n\n   room_type_Entire home/apt  room_type_Private room  room_type_Shared room  \n0                          1                       0                      0  \n1                          1                       0                      0  \n2                          0                       0                      1  \n3                          1                       0                      0  \n4                          0                       1                      0  \n\n[5 rows x 63 columns]",
      "text/html": "<div>\n<style scoped>\n    .dataframe tbody tr th:only-of-type {\n        vertical-align: middle;\n    }\n\n    .dataframe tbody tr th {\n        vertical-align: top;\n    }\n\n    .dataframe thead th {\n        text-align: right;\n    }\n</style>\n<table border=\"1\" class=\"dataframe\">\n  <thead>\n    <tr style=\"text-align: right;\">\n      <th></th>\n      <th>accommodates</th>\n      <th>amenities</th>\n      <th>availability_30</th>\n      <th>bathrooms</th>\n      <th>bedrooms</th>\n      <th>beds</th>\n      <th>city</th>\n      <th>metropolitan</th>\n      <th>name</th>\n      <th>price</th>\n      <th>...</th>\n      <th>property_type_Timeshare</th>\n      <th>property_type_Tipi</th>\n      <th>property_type_Townhouse</th>\n      <th>property_type_Treehouse</th>\n      <th>property_type_Vacation home</th>\n      <th>property_type_Villa</th>\n      <th>property_type_Yurt</th>\n      <th>room_type_Entire home/apt</th>\n      <th>room_type_Private room</th>\n      <th>room_type_Shared room</th>\n    </tr>\n  </thead>\n  <tbody>\n    <tr>\n      <th>0</th>\n      <td>2.0</td>\n      <td>{\"Wireless Internet\",\"Air Conditioning\",Kitche...</td>\n      <td>0</td>\n      <td>1.0</td>\n      <td>1.0</td>\n      <td>1.0</td>\n      <td>Asheville</td>\n      <td>asheville</td>\n      <td>Lovely cabin, great Asheville spot</td>\n      <td>105.0</td>\n      <td>...</td>\n      <td>0</td>\n      <td>0</td>\n      <td>0</td>\n      <td>0</td>\n      <td>0</td>\n      <td>0</td>\n      <td>0</td>\n      <td>1</td>\n      <td>0</td>\n      <td>0</td>\n    </tr>\n    <tr>\n      <th>1</th>\n      <td>4.0</td>\n      <td>{TV,\"Cable TV\",Internet,\"Wireless Internet\",\"A...</td>\n      <td>17</td>\n      <td>1.0</td>\n      <td>1.0</td>\n      <td>2.0</td>\n      <td>Asheville</td>\n      <td>asheville</td>\n      <td>Glamping w HOT TUB + AC!</td>\n      <td>125.0</td>\n      <td>...</td>\n      <td>0</td>\n      <td>0</td>\n      <td>0</td>\n      <td>0</td>\n      <td>0</td>\n      <td>0</td>\n      <td>0</td>\n      <td>1</td>\n      <td>0</td>\n      <td>0</td>\n    </tr>\n    <tr>\n      <th>2</th>\n      <td>6.0</td>\n      <td>{Internet,\"Wireless Internet\",\"Free Parking on...</td>\n      <td>25</td>\n      <td>2.5</td>\n      <td>1.0</td>\n      <td>6.0</td>\n      <td>Asheville</td>\n      <td>asheville</td>\n      <td>Mixed Dorm Bunk at BPS Hostel</td>\n      <td>24.0</td>\n      <td>...</td>\n      <td>0</td>\n      <td>0</td>\n      <td>0</td>\n      <td>0</td>\n      <td>0</td>\n      <td>0</td>\n      <td>0</td>\n      <td>0</td>\n      <td>0</td>\n      <td>1</td>\n    </tr>\n    <tr>\n      <th>3</th>\n      <td>10.0</td>\n      <td>{TV,\"Cable TV\",Internet,\"Wireless Internet\",\"A...</td>\n      <td>17</td>\n      <td>2.5</td>\n      <td>4.0</td>\n      <td>5.0</td>\n      <td>Asheville</td>\n      <td>asheville</td>\n      <td>Modern Home - Views - HOT TUB</td>\n      <td>105.0</td>\n      <td>...</td>\n      <td>0</td>\n      <td>0</td>\n      <td>0</td>\n      <td>0</td>\n      <td>0</td>\n      <td>0</td>\n      <td>0</td>\n      <td>1</td>\n      <td>0</td>\n      <td>0</td>\n    </tr>\n    <tr>\n      <th>4</th>\n      <td>2.0</td>\n      <td>{Internet,\"Wireless Internet\",\"Air Conditionin...</td>\n      <td>16</td>\n      <td>1.0</td>\n      <td>1.0</td>\n      <td>1.0</td>\n      <td>Asheville</td>\n      <td>asheville</td>\n      <td>Bright Suite with Sunroom</td>\n      <td>65.0</td>\n      <td>...</td>\n      <td>0</td>\n      <td>0</td>\n      <td>0</td>\n      <td>0</td>\n      <td>0</td>\n      <td>0</td>\n      <td>0</td>\n      <td>0</td>\n      <td>1</td>\n      <td>0</td>\n    </tr>\n  </tbody>\n</table>\n<p>5 rows × 63 columns</p>\n</div>"
     },
     "metadata": {}
    }
   ]
  },
  {
   "cell_type": "code",
   "metadata": {
    "tags": [],
    "cell_id": "00024-0cd61df4-3e2a-49da-ae15-e75f4d0f0e36",
    "deepnote_to_be_reexecuted": false,
    "source_hash": "ca556b5e",
    "execution_start": 1626628382573,
    "execution_millis": 69750463,
    "deepnote_cell_type": "code"
   },
   "source": "listings.shape",
   "execution_count": null,
   "outputs": [
    {
     "output_type": "execute_result",
     "execution_count": 26,
     "data": {
      "text/plain": "(13944, 63)"
     },
     "metadata": {}
    }
   ]
  },
  {
   "cell_type": "code",
   "metadata": {
    "tags": [],
    "cell_id": "00025-9f2c2153-d2cb-4baa-a004-2d51b22ebe3f",
    "deepnote_to_be_reexecuted": false,
    "source_hash": "6ba41dd4",
    "execution_start": 1627421699551,
    "execution_millis": 1018,
    "deepnote_cell_type": "code"
   },
   "source": "#Need a different custom one hot encoding for the amenities column, \n#since it has a set of values for each row\nimport re\nlistings['amenities'] = listings['amenities'].apply(lambda x: re.sub('[^a-zA-Z,\\/\\s\\d-]*', '', x).split(sep=','))",
   "execution_count": null,
   "outputs": []
  },
  {
   "cell_type": "code",
   "metadata": {
    "tags": [],
    "cell_id": "00026-48e64f9e-a9fc-449b-9952-5a31180c450b",
    "deepnote_to_be_reexecuted": false,
    "source_hash": "48e499e7",
    "execution_start": 1627421704649,
    "execution_millis": 11,
    "deepnote_cell_type": "code"
   },
   "source": "listings['amenities']",
   "execution_count": null,
   "outputs": [
    {
     "output_type": "execute_result",
     "execution_count": 25,
     "data": {
      "text/plain": "0        [Wireless Internet, Air Conditioning, Kitchen,...\n1        [TV, Cable TV, Internet, Wireless Internet, Ai...\n2        [Internet, Wireless Internet, Free Parking on ...\n3        [TV, Cable TV, Internet, Wireless Internet, Ai...\n4        [Internet, Wireless Internet, Air Conditioning...\n                               ...                        \n13939    [TV, Wireless Internet, Air conditioning, Kitc...\n13940    [TV, Cable TV, Air conditioning, Kitchen, Heat...\n13941    [TV, Cable TV, Internet, Wireless Internet, Ai...\n13942    [TV, Air conditioning, Wheelchair accessible, ...\n13943    [TV, Wireless Internet, Air conditioning, Free...\nName: amenities, Length: 13944, dtype: object"
     },
     "metadata": {}
    }
   ]
  },
  {
   "cell_type": "code",
   "metadata": {
    "tags": [],
    "cell_id": "00027-e43e1b2e-9d49-4e41-b78a-4f33e2009aa2",
    "deepnote_to_be_reexecuted": false,
    "source_hash": "faa734c8",
    "execution_start": 1627421706568,
    "execution_millis": 5,
    "deepnote_cell_type": "code"
   },
   "source": "#Creating a flat list for all amenities entries\namenities_list = [item for sublist in listings['amenities'] for item in sublist]",
   "execution_count": null,
   "outputs": []
  },
  {
   "cell_type": "code",
   "metadata": {
    "tags": [],
    "cell_id": "00028-3ce5b675-9542-4d3a-b37b-70c537646067",
    "deepnote_to_be_reexecuted": false,
    "source_hash": "19669dc4",
    "execution_start": 1627421725440,
    "execution_millis": 5,
    "deepnote_cell_type": "code"
   },
   "source": "#Add up amenities counts\nfrom collections import Counter\namenity_counts = Counter(amenities_list).most_common()",
   "execution_count": null,
   "outputs": []
  },
  {
   "cell_type": "code",
   "metadata": {
    "tags": [],
    "cell_id": "00029-e2cc51ec-21f3-4d11-a364-1339f16e5b0a",
    "deepnote_to_be_reexecuted": false,
    "source_hash": "5dd1f8df",
    "execution_start": 1627421727333,
    "execution_millis": 24,
    "deepnote_cell_type": "code"
   },
   "source": "#Let's see what these look like, look at the first 20\namenity_counts[0:20]",
   "execution_count": null,
   "outputs": [
    {
     "output_type": "execute_result",
     "execution_count": 28,
     "data": {
      "text/plain": "[('Heating', 13502),\n ('Wireless Internet', 13439),\n ('Kitchen', 12731),\n ('Essentials', 12437),\n ('TV', 11076),\n ('Shampoo', 10628),\n ('Washer', 10522),\n ('Dryer', 10448),\n ('Air conditioning', 10281),\n ('Internet', 10197),\n ('Hangers', 9272),\n ('Smoke detector', 9041),\n ('Iron', 8387),\n ('Free parking on premises', 7611),\n ('Family/kid friendly', 6733),\n ('Fire extinguisher', 6579),\n ('Laptop friendly workspace', 6318),\n ('Hair dryer', 6272),\n ('Cable TV', 5749),\n ('Carbon monoxide detector', 5614)]"
     },
     "metadata": {}
    }
   ]
  },
  {
   "cell_type": "code",
   "metadata": {
    "tags": [],
    "cell_id": "00030-02c7ef87-92be-48a9-bcb1-6a1baf492b25",
    "deepnote_to_be_reexecuted": false,
    "source_hash": "ddce1c47",
    "execution_start": 1627421731288,
    "execution_millis": 1,
    "deepnote_cell_type": "code"
   },
   "source": "#Make a list of the amenities we're interested in\namenities_of_interest = [x[0] for x in amenity_counts[0:70]]",
   "execution_count": null,
   "outputs": []
  },
  {
   "cell_type": "code",
   "metadata": {
    "tags": [],
    "cell_id": "00031-d26cb4fc-06bd-4852-bff3-00d97fe7de0e",
    "deepnote_to_be_reexecuted": false,
    "source_hash": "96a94551",
    "execution_start": 1627421738624,
    "execution_millis": 50,
    "deepnote_cell_type": "code"
   },
   "source": "amenities_of_interest",
   "execution_count": null,
   "outputs": [
    {
     "output_type": "execute_result",
     "execution_count": 30,
     "data": {
      "text/plain": "['Heating',\n 'Wireless Internet',\n 'Kitchen',\n 'Essentials',\n 'TV',\n 'Shampoo',\n 'Washer',\n 'Dryer',\n 'Air conditioning',\n 'Internet',\n 'Hangers',\n 'Smoke detector',\n 'Iron',\n 'Free parking on premises',\n 'Family/kid friendly',\n 'Fire extinguisher',\n 'Laptop friendly workspace',\n 'Hair dryer',\n 'Cable TV',\n 'Carbon monoxide detector',\n '24-hour check-in',\n 'First aid kit',\n 'Air Conditioning',\n 'translation missing enhostingamenity50',\n 'Pets live on this property',\n 'Free Parking on Premises',\n 'Smoke Detector',\n 'translation missing enhostingamenity49',\n 'Family/Kid Friendly',\n 'Fire Extinguisher',\n 'Pool',\n 'Pets allowed',\n 'Dogs',\n 'Hair Dryer',\n 'Carbon Monoxide Detector',\n 'Lock on bedroom door',\n 'Laptop Friendly Workspace',\n 'Self Check-In',\n 'Safety card',\n 'Breakfast',\n '24-Hour Check-in',\n 'First Aid Kit',\n 'Suitable for events',\n 'Private entrance',\n 'Indoor fireplace',\n 'Gym',\n 'Cats',\n 'Elevator in building',\n 'Safety Card',\n 'Lockbox',\n 'Keypad',\n 'Indoor Fireplace',\n 'Wheelchair accessible',\n 'Pets Allowed',\n 'Hot tub',\n 'Smoking allowed',\n 'Suitable for Events',\n 'Lock on Bedroom Door',\n 'Bathtub',\n 'Buzzer/wireless intercom',\n 'Smart lock',\n 'Doorman',\n 'Other pets',\n 'Elevator in Building',\n 'Wheelchair Accessible',\n 'Refrigerator',\n 'Dishes and silverware',\n 'Microwave',\n 'Coffee maker',\n 'Bed linens']"
     },
     "metadata": {}
    }
   ]
  },
  {
   "cell_type": "code",
   "metadata": {
    "tags": [],
    "cell_id": "00032-060632e5-6211-40a5-a151-02a34e4e4d51",
    "deepnote_to_be_reexecuted": false,
    "source_hash": "255f2bbc",
    "execution_start": 1627421741397,
    "execution_millis": 4,
    "deepnote_cell_type": "code"
   },
   "source": "#Remove the unnecessary ones\namenities_of_interest.remove('translation missing enhostingamenity49')\namenities_of_interest.remove('translation missing enhostingamenity50')",
   "execution_count": null,
   "outputs": []
  },
  {
   "cell_type": "code",
   "metadata": {
    "tags": [],
    "cell_id": "00033-ec5f2b6d-e235-4885-986d-58bb4a603bc2",
    "deepnote_to_be_reexecuted": false,
    "source_hash": "96a94551",
    "execution_start": 1627421789357,
    "execution_millis": 16,
    "deepnote_cell_type": "code"
   },
   "source": "amenities_of_interest",
   "execution_count": null,
   "outputs": [
    {
     "output_type": "execute_result",
     "execution_count": 32,
     "data": {
      "text/plain": "['Heating',\n 'Wireless Internet',\n 'Kitchen',\n 'Essentials',\n 'TV',\n 'Shampoo',\n 'Washer',\n 'Dryer',\n 'Air conditioning',\n 'Internet',\n 'Hangers',\n 'Smoke detector',\n 'Iron',\n 'Free parking on premises',\n 'Family/kid friendly',\n 'Fire extinguisher',\n 'Laptop friendly workspace',\n 'Hair dryer',\n 'Cable TV',\n 'Carbon monoxide detector',\n '24-hour check-in',\n 'First aid kit',\n 'Air Conditioning',\n 'Pets live on this property',\n 'Free Parking on Premises',\n 'Smoke Detector',\n 'Family/Kid Friendly',\n 'Fire Extinguisher',\n 'Pool',\n 'Pets allowed',\n 'Dogs',\n 'Hair Dryer',\n 'Carbon Monoxide Detector',\n 'Lock on bedroom door',\n 'Laptop Friendly Workspace',\n 'Self Check-In',\n 'Safety card',\n 'Breakfast',\n '24-Hour Check-in',\n 'First Aid Kit',\n 'Suitable for events',\n 'Private entrance',\n 'Indoor fireplace',\n 'Gym',\n 'Cats',\n 'Elevator in building',\n 'Safety Card',\n 'Lockbox',\n 'Keypad',\n 'Indoor Fireplace',\n 'Wheelchair accessible',\n 'Pets Allowed',\n 'Hot tub',\n 'Smoking allowed',\n 'Suitable for Events',\n 'Lock on Bedroom Door',\n 'Bathtub',\n 'Buzzer/wireless intercom',\n 'Smart lock',\n 'Doorman',\n 'Other pets',\n 'Elevator in Building',\n 'Wheelchair Accessible',\n 'Refrigerator',\n 'Dishes and silverware',\n 'Microwave',\n 'Coffee maker',\n 'Bed linens']"
     },
     "metadata": {}
    }
   ]
  },
  {
   "cell_type": "code",
   "metadata": {
    "tags": [],
    "cell_id": "00035-e35a822a-08de-4e21-afe6-aaf633408cf8",
    "deepnote_to_be_reexecuted": false,
    "source_hash": "a51fb1de",
    "execution_start": 1626628383699,
    "execution_millis": 61,
    "deepnote_cell_type": "code"
   },
   "source": "len(amenities_of_interest)",
   "execution_count": null,
   "outputs": [
    {
     "output_type": "execute_result",
     "execution_count": 36,
     "data": {
      "text/plain": "68"
     },
     "metadata": {}
    }
   ]
  },
  {
   "cell_type": "code",
   "metadata": {
    "tags": [],
    "cell_id": "00034-e64459a9-b81e-471d-ac2e-c0e11c3b8e46",
    "deepnote_to_be_reexecuted": false,
    "source_hash": "bd8fa20b",
    "execution_start": 1627421794117,
    "execution_millis": 825,
    "deepnote_cell_type": "code"
   },
   "source": "amenities_cols = []\namenities_col_names = []\nfor amenity in amenities_of_interest:\n    amenities_cols.append([1 if x==True else 0 for x in listings['amenities'].apply(lambda x: amenity in x)])\n    amenities_col_names.append(('amen_'+amenity))",
   "execution_count": null,
   "outputs": []
  },
  {
   "cell_type": "code",
   "metadata": {
    "tags": [],
    "cell_id": "00035-9bbcee09-e36a-422d-9568-5e4d0b3194eb",
    "deepnote_to_be_reexecuted": false,
    "source_hash": "18dabe5c",
    "execution_start": 1627421859361,
    "execution_millis": 1798,
    "deepnote_cell_type": "code"
   },
   "source": "#dummy variable cols\namenity_columns = pd.DataFrame(amenities_cols).transpose()\namenity_columns.columns = amenities_col_names\namenity_columns.index = listings.index",
   "execution_count": null,
   "outputs": []
  },
  {
   "cell_type": "code",
   "metadata": {
    "tags": [],
    "cell_id": "00036-a9587a9a-15d6-4c98-a359-47ae8ec8e111",
    "deepnote_to_be_reexecuted": false,
    "source_hash": "4e8ab64d",
    "execution_start": 1627421861619,
    "execution_millis": 3,
    "deepnote_cell_type": "code"
   },
   "source": "kitchen_amenities = [\n    'Kitchen', 'Refrigerator', 'Dishes and silverware', 'Microwave',\n    'Coffee maker', 'Stove', 'Cooking basics', 'Oven', 'Dishwasher',\n    'BBQ grill', 'Breakfast'\n]\ncleaning_amenities = [\n    'Shampoo', 'Hair dryer', 'Washer', 'Dryer', 'Iron', 'Hot water', 'Bathtub'\n]\nsafety_amenities = [\n    'Smoke detector', 'Carbon monoxide detector', 'Fire extinguisher',\n    'First aid kit', 'Lock on bedroom door', 'Lockbox', 'Keypad',\n    'Safety card', 'Smart lock', 'Doorman', 'Buzzer/wireless intercom'\n]\nhousehold_amenities = [\n    'Heating', 'Air Conditioning', 'Essentials', 'Laptop friendly workspace',\n    'Free parking on premises', 'Free street parking', 'Private entrance',\n    'Self check-in', 'No stairs or steps to enter', 'Long term stays allowed',\n    'Family/kid friendly', 'Luggage dropoff allowed', 'Indoor fireplace',\n    'Elevator', 'Pets allowed', 'Host greets you', 'Single level home',\n    'Well-lit path to entrance', '24-hour check-in',\n    'Pets live on this property', 'Wide entrance for guests',\n    'Extra space around bed', 'Smoking allowed', 'Wide hallways',\n    'Wide entrance', 'Room-darkening shades', 'Flat path to guest entrance',\n    'Wide entryway', 'Suitable for events', 'Wheelchair Accessible'\n]\nbedroom_amenities = ['Hangers', 'Bed linens', 'Extra pillows and blankets']\nelectronics_amenities = [\n    'Wireless Internet', 'TV', 'Cable TV', 'Internet', 'Ethernet connection'\n]\nextra_spaces_amenities = [\n    'Patio or balcony', 'Pool', 'Garden or backyard', 'Hot tub', 'BBQ grill',\n    'Private living room', 'Gym'\n]\n\namenity_groups = [\n    kitchen_amenities, cleaning_amenities, safety_amenities,\n    household_amenities, bedroom_amenities, electronics_amenities,\n    extra_spaces_amenities\n]",
   "execution_count": null,
   "outputs": []
  },
  {
   "cell_type": "code",
   "metadata": {
    "tags": [],
    "cell_id": "00037-bcd9c288-2781-48a6-8bf2-04ecac795459",
    "deepnote_to_be_reexecuted": false,
    "source_hash": "8b4c6fa6",
    "execution_start": 1627421865461,
    "execution_millis": 303,
    "deepnote_cell_type": "code"
   },
   "source": "#Get counts for # of amenities within each category for each listing\namenity_group_cols = []\nfor group in amenity_groups:\n    amenity_group_cols.append(listings['amenities'].apply(\n    lambda x: len(set(group).intersection(set(x)))))",
   "execution_count": null,
   "outputs": []
  },
  {
   "cell_type": "code",
   "metadata": {
    "tags": [],
    "cell_id": "00038-aa137c9c-80cd-441d-93d5-0bcfd5111f5d",
    "deepnote_to_be_reexecuted": false,
    "source_hash": "4e396de3",
    "execution_start": 1627421867912,
    "execution_millis": 1048,
    "deepnote_cell_type": "code"
   },
   "source": "amenity_group_columns = pd.DataFrame(amenity_group_cols).transpose()\namenity_group_columns.index = listings.index\namenity_group_columns.columns = [\n    'amen_group_kitchen', 'amen_group_cleaning', 'amen_group_safety',\n    'amen_group_household', 'amen_group_bedroom', 'amen_group_electronics',\n    'amen_group_extra_spaces'\n]",
   "execution_count": null,
   "outputs": []
  },
  {
   "cell_type": "code",
   "metadata": {
    "tags": [],
    "cell_id": "00039-dde44d25-1517-41f4-95cd-70b6cfdb12f0",
    "deepnote_to_be_reexecuted": false,
    "source_hash": "72598ee0",
    "execution_start": 1627422051379,
    "execution_millis": 4,
    "deepnote_cell_type": "code"
   },
   "source": "#merge into main dataframe\nlistings = listings.merge(amenity_group_columns,how='left',left_index=True,right_index=True)",
   "execution_count": null,
   "outputs": []
  },
  {
   "cell_type": "code",
   "metadata": {
    "tags": [],
    "cell_id": "00040-f45dd34d-557f-4a2c-8290-732bcba5f17f",
    "deepnote_to_be_reexecuted": false,
    "source_hash": "a4919e8b",
    "execution_start": 1627422052755,
    "execution_millis": 6,
    "deepnote_cell_type": "code"
   },
   "source": "listings['amenities_num'] = [len(x) for x in listings['amenities']]",
   "execution_count": null,
   "outputs": []
  },
  {
   "cell_type": "code",
   "metadata": {
    "tags": [],
    "cell_id": "00041-a85768b8-3169-4137-96f6-7ef9ed2d3c94",
    "deepnote_to_be_reexecuted": false,
    "source_hash": "25b5f428",
    "execution_start": 1627422054626,
    "execution_millis": 8,
    "deepnote_cell_type": "code"
   },
   "source": "listings = listings.drop(columns=['amenities'])",
   "execution_count": null,
   "outputs": []
  },
  {
   "cell_type": "code",
   "metadata": {
    "tags": [],
    "cell_id": "00042-d4465244-72ca-4b1f-93b0-6a9aaef6bf4b",
    "deepnote_to_be_reexecuted": false,
    "source_hash": "e3d19b19",
    "execution_start": 1627422061634,
    "execution_millis": 577,
    "deepnote_cell_type": "code"
   },
   "source": "redundant_cols = []\nfor col in listings.columns:\n    if listings[col].nunique() <= 10:\n        redundant_cols.append(col)\n\nredundant_cols\nremove_cols = ['cancellation_policy_flexible','cancellation_policy_moderate','cancellation_policy_no_refunds',\n'cancellation_policy_strict','cancellation_policy_super_strict_30','cancellation_policy_super_strict_60',\n'instant_bookable_f','instant_bookable_t']\nfor col in remove_cols:\n    redundant_cols.remove(col)\n\nlistings = listings.drop(columns=redundant_cols)\n\nlistings",
   "execution_count": null,
   "outputs": [
    {
     "output_type": "execute_result",
     "execution_count": 41,
     "data": {
      "application/vnd.deepnote.dataframe.v2+json": {
       "row_count": 13944,
       "column_count": 20,
       "columns": [
        {
         "name": "accommodates",
         "dtype": "float64",
         "stats": {
          "unique_count": 16,
          "nan_count": 0,
          "min": "1.0",
          "max": "16.0",
          "histogram": [
           {
            "bin_start": 1,
            "bin_end": 2.5,
            "count": 4516
           },
           {
            "bin_start": 2.5,
            "bin_end": 4,
            "count": 1060
           },
           {
            "bin_start": 4,
            "bin_end": 5.5,
            "count": 3935
           },
           {
            "bin_start": 5.5,
            "bin_end": 7,
            "count": 2036
           },
           {
            "bin_start": 7,
            "bin_end": 8.5,
            "count": 1182
           },
           {
            "bin_start": 8.5,
            "bin_end": 10,
            "count": 99
           },
           {
            "bin_start": 10,
            "bin_end": 11.5,
            "count": 598
           },
           {
            "bin_start": 11.5,
            "bin_end": 13,
            "count": 260
           },
           {
            "bin_start": 13,
            "bin_end": 14.5,
            "count": 90
           },
           {
            "bin_start": 14.5,
            "bin_end": 16,
            "count": 168
           }
          ]
         }
        },
        {
         "name": "availability_30",
         "dtype": "int64",
         "stats": {
          "unique_count": 31,
          "nan_count": 0,
          "min": "0",
          "max": "30",
          "histogram": [
           {
            "bin_start": 0,
            "bin_end": 3,
            "count": 2931
           },
           {
            "bin_start": 3,
            "bin_end": 6,
            "count": 966
           },
           {
            "bin_start": 6,
            "bin_end": 9,
            "count": 982
           },
           {
            "bin_start": 9,
            "bin_end": 12,
            "count": 1157
           },
           {
            "bin_start": 12,
            "bin_end": 15,
            "count": 1226
           },
           {
            "bin_start": 15,
            "bin_end": 18,
            "count": 1268
           },
           {
            "bin_start": 18,
            "bin_end": 21,
            "count": 1298
           },
           {
            "bin_start": 21,
            "bin_end": 24,
            "count": 1168
           },
           {
            "bin_start": 24,
            "bin_end": 27,
            "count": 943
           },
           {
            "bin_start": 27,
            "bin_end": 30,
            "count": 2005
           }
          ]
         }
        },
        {
         "name": "bathrooms",
         "dtype": "float64",
         "stats": {
          "unique_count": 17,
          "nan_count": 0,
          "min": "0.0",
          "max": "8.0",
          "histogram": [
           {
            "bin_start": 0,
            "bin_end": 0.8,
            "count": 83
           },
           {
            "bin_start": 0.8,
            "bin_end": 1.6,
            "count": 9769
           },
           {
            "bin_start": 1.6,
            "bin_end": 2.4000000000000004,
            "count": 2398
           },
           {
            "bin_start": 2.4000000000000004,
            "bin_end": 3.2,
            "count": 1256
           },
           {
            "bin_start": 3.2,
            "bin_end": 4,
            "count": 210
           },
           {
            "bin_start": 4,
            "bin_end": 4.800000000000001,
            "count": 150
           },
           {
            "bin_start": 4.800000000000001,
            "bin_end": 5.6000000000000005,
            "count": 50
           },
           {
            "bin_start": 5.6000000000000005,
            "bin_end": 6.4,
            "count": 10
           },
           {
            "bin_start": 6.4,
            "bin_end": 7.2,
            "count": 10
           },
           {
            "bin_start": 7.2,
            "bin_end": 8,
            "count": 8
           }
          ]
         }
        },
        {
         "name": "bedrooms",
         "dtype": "float64",
         "stats": {
          "unique_count": 11,
          "nan_count": 0,
          "min": "0.0",
          "max": "10.0",
          "histogram": [
           {
            "bin_start": 0,
            "bin_end": 1,
            "count": 704
           },
           {
            "bin_start": 1,
            "bin_end": 2,
            "count": 6992
           },
           {
            "bin_start": 2,
            "bin_end": 3,
            "count": 3285
           },
           {
            "bin_start": 3,
            "bin_end": 4,
            "count": 1912
           },
           {
            "bin_start": 4,
            "bin_end": 5,
            "count": 751
           },
           {
            "bin_start": 5,
            "bin_end": 6,
            "count": 198
           },
           {
            "bin_start": 6,
            "bin_end": 7,
            "count": 66
           },
           {
            "bin_start": 7,
            "bin_end": 8,
            "count": 20
           },
           {
            "bin_start": 8,
            "bin_end": 9,
            "count": 6
           },
           {
            "bin_start": 9,
            "bin_end": 10,
            "count": 10
           }
          ]
         }
        },
        {
         "name": "beds",
         "dtype": "float64",
         "stats": {
          "unique_count": 17,
          "nan_count": 0,
          "min": "0.0",
          "max": "16.0",
          "histogram": [
           {
            "bin_start": 0,
            "bin_end": 1.6,
            "count": 5457
           },
           {
            "bin_start": 1.6,
            "bin_end": 3.2,
            "count": 6020
           },
           {
            "bin_start": 3.2,
            "bin_end": 4.800000000000001,
            "count": 1097
           },
           {
            "bin_start": 4.800000000000001,
            "bin_end": 6.4,
            "count": 880
           },
           {
            "bin_start": 6.4,
            "bin_end": 8,
            "count": 158
           },
           {
            "bin_start": 8,
            "bin_end": 9.600000000000001,
            "count": 190
           },
           {
            "bin_start": 9.600000000000001,
            "bin_end": 11.200000000000001,
            "count": 79
           },
           {
            "bin_start": 11.200000000000001,
            "bin_end": 12.8,
            "count": 27
           },
           {
            "bin_start": 12.8,
            "bin_end": 14.4,
            "count": 13
           },
           {
            "bin_start": 14.4,
            "bin_end": 16,
            "count": 23
           }
          ]
         }
        },
        {
         "name": "city",
         "dtype": "object",
         "stats": {
          "unique_count": 35,
          "nan_count": 0,
          "categories": [
           {
            "name": "austin",
            "count": 5882
           },
           {
            "name": "New Orleans",
            "count": 4482
           },
           {
            "name": "33 others",
            "count": 3580
           }
          ]
         }
        },
        {
         "name": "name",
         "dtype": "object",
         "stats": {
          "unique_count": 13813,
          "nan_count": 1,
          "categories": [
           {
            "name": "JazzFest Suite Sleeps 4-Street Car!",
            "count": 8
           },
           {
            "name": "13812 others",
            "count": 13935
           },
           {
            "name": "Missing",
            "count": 1
           }
          ]
         }
        },
        {
         "name": "price",
         "dtype": "float64"
        },
        {
         "name": "review_scores_rating",
         "dtype": "float64"
        },
        {
         "name": "cancellation_policy_flexible",
         "dtype": "uint8"
        },
        {
         "name": "cancellation_policy_moderate",
         "dtype": "uint8"
        },
        {
         "name": "cancellation_policy_no_refunds",
         "dtype": "uint8"
        },
        {
         "name": "cancellation_policy_strict",
         "dtype": "uint8"
        },
        {
         "name": "cancellation_policy_super_strict_30",
         "dtype": "uint8"
        },
        {
         "name": "cancellation_policy_super_strict_60",
         "dtype": "uint8"
        },
        {
         "name": "instant_bookable_f",
         "dtype": "uint8"
        },
        {
         "name": "instant_bookable_t",
         "dtype": "uint8"
        },
        {
         "name": "amen_group_kitchen",
         "dtype": "int64"
        },
        {
         "name": "amen_group_household",
         "dtype": "int64"
        },
        {
         "name": "amenities_num",
         "dtype": "int64"
        },
        {
         "name": "_deepnote_index_column",
         "dtype": "int64"
        }
       ],
       "rows_top": [
        {
         "accommodates": 2,
         "availability_30": 0,
         "bathrooms": 1,
         "bedrooms": 1,
         "beds": 1,
         "city": "Asheville",
         "name": "Lovely cabin, great Asheville spot",
         "price": 105,
         "review_scores_rating": 96,
         "cancellation_policy_flexible": 0,
         "cancellation_policy_moderate": 1,
         "cancellation_policy_no_refunds": 0,
         "cancellation_policy_strict": 0,
         "cancellation_policy_super_strict_30": 0,
         "cancellation_policy_super_strict_60": 0,
         "instant_bookable_f": 1,
         "instant_bookable_t": 0,
         "amen_group_kitchen": 1,
         "amen_group_household": 3,
         "amenities_num": 9,
         "_deepnote_index_column": 0
        },
        {
         "accommodates": 4,
         "availability_30": 17,
         "bathrooms": 1,
         "bedrooms": 1,
         "beds": 2,
         "city": "Asheville",
         "name": "Glamping w HOT TUB + AC!",
         "price": 125,
         "review_scores_rating": 96,
         "cancellation_policy_flexible": 0,
         "cancellation_policy_moderate": 0,
         "cancellation_policy_no_refunds": 0,
         "cancellation_policy_strict": 1,
         "cancellation_policy_super_strict_30": 0,
         "cancellation_policy_super_strict_60": 0,
         "instant_bookable_f": 1,
         "instant_bookable_t": 0,
         "amen_group_kitchen": 1,
         "amen_group_household": 2,
         "amenities_num": 11,
         "_deepnote_index_column": 1
        },
        {
         "accommodates": 6,
         "availability_30": 25,
         "bathrooms": 2.5,
         "bedrooms": 1,
         "beds": 6,
         "city": "Asheville",
         "name": "Mixed Dorm Bunk at BPS Hostel",
         "price": 24,
         "review_scores_rating": 93,
         "cancellation_policy_flexible": 0,
         "cancellation_policy_moderate": 1,
         "cancellation_policy_no_refunds": 0,
         "cancellation_policy_strict": 0,
         "cancellation_policy_super_strict_30": 0,
         "cancellation_policy_super_strict_60": 0,
         "instant_bookable_f": 1,
         "instant_bookable_t": 0,
         "amen_group_kitchen": 0,
         "amen_group_household": 1,
         "amenities_num": 7,
         "_deepnote_index_column": 2
        },
        {
         "accommodates": 10,
         "availability_30": 17,
         "bathrooms": 2.5,
         "bedrooms": 4,
         "beds": 5,
         "city": "Asheville",
         "name": "Modern Home - Views - HOT TUB",
         "price": 105,
         "review_scores_rating": 78,
         "cancellation_policy_flexible": 0,
         "cancellation_policy_moderate": 0,
         "cancellation_policy_no_refunds": 0,
         "cancellation_policy_strict": 1,
         "cancellation_policy_super_strict_30": 0,
         "cancellation_policy_super_strict_60": 0,
         "instant_bookable_f": 1,
         "instant_bookable_t": 0,
         "amen_group_kitchen": 1,
         "amen_group_household": 2,
         "amenities_num": 18,
         "_deepnote_index_column": 3
        },
        {
         "accommodates": 2,
         "availability_30": 16,
         "bathrooms": 1,
         "bedrooms": 1,
         "beds": 1,
         "city": "Asheville",
         "name": "Bright Suite with Sunroom",
         "price": 65,
         "review_scores_rating": 93,
         "cancellation_policy_flexible": 1,
         "cancellation_policy_moderate": 0,
         "cancellation_policy_no_refunds": 0,
         "cancellation_policy_strict": 0,
         "cancellation_policy_super_strict_30": 0,
         "cancellation_policy_super_strict_60": 0,
         "instant_bookable_f": 0,
         "instant_bookable_t": 1,
         "amen_group_kitchen": 1,
         "amen_group_household": 4,
         "amenities_num": 13,
         "_deepnote_index_column": 4
        },
        {
         "accommodates": 2,
         "availability_30": 10,
         "bathrooms": 1,
         "bedrooms": 1,
         "beds": 1,
         "city": "Asheville",
         "name": "Serene, spacious, cozy and clean!",
         "price": 75,
         "review_scores_rating": 98,
         "cancellation_policy_flexible": 0,
         "cancellation_policy_moderate": 1,
         "cancellation_policy_no_refunds": 0,
         "cancellation_policy_strict": 0,
         "cancellation_policy_super_strict_30": 0,
         "cancellation_policy_super_strict_60": 0,
         "instant_bookable_f": 0,
         "instant_bookable_t": 1,
         "amen_group_kitchen": 2,
         "amen_group_household": 4,
         "amenities_num": 17,
         "_deepnote_index_column": 5
        },
        {
         "accommodates": 3,
         "availability_30": 7,
         "bathrooms": 1,
         "bedrooms": 1,
         "beds": 2,
         "city": "Asheville",
         "name": "West Asheville top floor sleeps 3",
         "price": 75,
         "review_scores_rating": 99,
         "cancellation_policy_flexible": 0,
         "cancellation_policy_moderate": 1,
         "cancellation_policy_no_refunds": 0,
         "cancellation_policy_strict": 0,
         "cancellation_policy_super_strict_30": 0,
         "cancellation_policy_super_strict_60": 0,
         "instant_bookable_f": 0,
         "instant_bookable_t": 1,
         "amen_group_kitchen": 0,
         "amen_group_household": 4,
         "amenities_num": 10,
         "_deepnote_index_column": 6
        },
        {
         "accommodates": 2,
         "availability_30": 0,
         "bathrooms": 1,
         "bedrooms": 1,
         "beds": 1,
         "city": "Asheville",
         "name": "The Mimosa Room",
         "price": 65,
         "review_scores_rating": 94,
         "cancellation_policy_flexible": 0,
         "cancellation_policy_moderate": 0,
         "cancellation_policy_no_refunds": 0,
         "cancellation_policy_strict": 1,
         "cancellation_policy_super_strict_30": 0,
         "cancellation_policy_super_strict_60": 0,
         "instant_bookable_f": 1,
         "instant_bookable_t": 0,
         "amen_group_kitchen": 2,
         "amen_group_household": 3,
         "amenities_num": 17,
         "_deepnote_index_column": 7
        },
        {
         "accommodates": 1,
         "availability_30": 27,
         "bathrooms": 1,
         "bedrooms": 1,
         "beds": 1,
         "city": "Asheville",
         "name": "Eclectic Room with Jacuzzi tub",
         "price": 45,
         "review_scores_rating": 95,
         "cancellation_policy_flexible": 1,
         "cancellation_policy_moderate": 0,
         "cancellation_policy_no_refunds": 0,
         "cancellation_policy_strict": 0,
         "cancellation_policy_super_strict_30": 0,
         "cancellation_policy_super_strict_60": 0,
         "instant_bookable_f": 1,
         "instant_bookable_t": 0,
         "amen_group_kitchen": 1,
         "amen_group_household": 3,
         "amenities_num": 18,
         "_deepnote_index_column": 8
        },
        {
         "accommodates": 2,
         "availability_30": 30,
         "bathrooms": 1,
         "bedrooms": 1,
         "beds": 1,
         "city": "Asheville",
         "name": "West Asheville Bound",
         "price": 45,
         "review_scores_rating": 95,
         "cancellation_policy_flexible": 0,
         "cancellation_policy_moderate": 1,
         "cancellation_policy_no_refunds": 0,
         "cancellation_policy_strict": 0,
         "cancellation_policy_super_strict_30": 0,
         "cancellation_policy_super_strict_60": 0,
         "instant_bookable_f": 1,
         "instant_bookable_t": 0,
         "amen_group_kitchen": 1,
         "amen_group_household": 2,
         "amenities_num": 9,
         "_deepnote_index_column": 9
        },
        {
         "accommodates": 2,
         "availability_30": 28,
         "bathrooms": 1,
         "bedrooms": 1,
         "beds": 1,
         "city": "Asheville",
         "name": "Squash House",
         "price": 80,
         "review_scores_rating": 95,
         "cancellation_policy_flexible": 0,
         "cancellation_policy_moderate": 1,
         "cancellation_policy_no_refunds": 0,
         "cancellation_policy_strict": 0,
         "cancellation_policy_super_strict_30": 0,
         "cancellation_policy_super_strict_60": 0,
         "instant_bookable_f": 1,
         "instant_bookable_t": 0,
         "amen_group_kitchen": 2,
         "amen_group_household": 3,
         "amenities_num": 12,
         "_deepnote_index_column": 10
        },
        {
         "accommodates": 4,
         "availability_30": 18,
         "bathrooms": 1,
         "bedrooms": 1,
         "beds": 2,
         "city": "Asheville",
         "name": "Cozy Cabin Studio Apartment",
         "price": 85,
         "review_scores_rating": 93,
         "cancellation_policy_flexible": 0,
         "cancellation_policy_moderate": 1,
         "cancellation_policy_no_refunds": 0,
         "cancellation_policy_strict": 0,
         "cancellation_policy_super_strict_30": 0,
         "cancellation_policy_super_strict_60": 0,
         "instant_bookable_f": 1,
         "instant_bookable_t": 0,
         "amen_group_kitchen": 1,
         "amen_group_household": 3,
         "amenities_num": 13,
         "_deepnote_index_column": 11
        },
        {
         "accommodates": 2,
         "availability_30": 0,
         "bathrooms": 1,
         "bedrooms": 1,
         "beds": 1,
         "city": "Asheville",
         "name": "West Asheville Private Bed and Bath",
         "price": 58,
         "review_scores_rating": 98,
         "cancellation_policy_flexible": 0,
         "cancellation_policy_moderate": 1,
         "cancellation_policy_no_refunds": 0,
         "cancellation_policy_strict": 0,
         "cancellation_policy_super_strict_30": 0,
         "cancellation_policy_super_strict_60": 0,
         "instant_bookable_f": 1,
         "instant_bookable_t": 0,
         "amen_group_kitchen": 0,
         "amen_group_household": 0,
         "amenities_num": 1,
         "_deepnote_index_column": 12
        },
        {
         "accommodates": 1,
         "availability_30": 30,
         "bathrooms": 1.5,
         "bedrooms": 1,
         "beds": 1,
         "city": "Asheville",
         "name": "Close to everything!!!!!",
         "price": 110,
         "review_scores_rating": 100,
         "cancellation_policy_flexible": 0,
         "cancellation_policy_moderate": 1,
         "cancellation_policy_no_refunds": 0,
         "cancellation_policy_strict": 0,
         "cancellation_policy_super_strict_30": 0,
         "cancellation_policy_super_strict_60": 0,
         "instant_bookable_f": 1,
         "instant_bookable_t": 0,
         "amen_group_kitchen": 1,
         "amen_group_household": 4,
         "amenities_num": 14,
         "_deepnote_index_column": 13
        },
        {
         "accommodates": 1,
         "availability_30": 30,
         "bathrooms": 1,
         "bedrooms": 0,
         "beds": 1,
         "city": "Asheville",
         "name": "400+ REVS Apt #7 in Artsy W ASHV!",
         "price": 65,
         "review_scores_rating": 100,
         "cancellation_policy_flexible": 0,
         "cancellation_policy_moderate": 0,
         "cancellation_policy_no_refunds": 0,
         "cancellation_policy_strict": 1,
         "cancellation_policy_super_strict_30": 0,
         "cancellation_policy_super_strict_60": 0,
         "instant_bookable_f": 1,
         "instant_bookable_t": 0,
         "amen_group_kitchen": 1,
         "amen_group_household": 3,
         "amenities_num": 18,
         "_deepnote_index_column": 14
        },
        {
         "accommodates": 2,
         "availability_30": 5,
         "bathrooms": 1,
         "bedrooms": 1,
         "beds": 1,
         "city": "Asheville",
         "name": "the rad pad",
         "price": 111,
         "review_scores_rating": 99,
         "cancellation_policy_flexible": 0,
         "cancellation_policy_moderate": 0,
         "cancellation_policy_no_refunds": 0,
         "cancellation_policy_strict": 1,
         "cancellation_policy_super_strict_30": 0,
         "cancellation_policy_super_strict_60": 0,
         "instant_bookable_f": 1,
         "instant_bookable_t": 0,
         "amen_group_kitchen": 1,
         "amen_group_household": 3,
         "amenities_num": 18,
         "_deepnote_index_column": 15
        },
        {
         "accommodates": 4,
         "availability_30": 10,
         "bathrooms": 1,
         "bedrooms": 2,
         "beds": 2,
         "city": "Asheville",
         "name": "Great location, so cute and cozy",
         "price": 125,
         "review_scores_rating": 99,
         "cancellation_policy_flexible": 0,
         "cancellation_policy_moderate": 0,
         "cancellation_policy_no_refunds": 0,
         "cancellation_policy_strict": 1,
         "cancellation_policy_super_strict_30": 0,
         "cancellation_policy_super_strict_60": 0,
         "instant_bookable_f": 1,
         "instant_bookable_t": 0,
         "amen_group_kitchen": 1,
         "amen_group_household": 3,
         "amenities_num": 20,
         "_deepnote_index_column": 16
        },
        {
         "accommodates": 2,
         "availability_30": 7,
         "bathrooms": 2,
         "bedrooms": 1,
         "beds": 1,
         "city": "Asheville",
         "name": "Charming Bungalow - Great Location",
         "price": 105,
         "review_scores_rating": 98,
         "cancellation_policy_flexible": 0,
         "cancellation_policy_moderate": 0,
         "cancellation_policy_no_refunds": 0,
         "cancellation_policy_strict": 1,
         "cancellation_policy_super_strict_30": 0,
         "cancellation_policy_super_strict_60": 0,
         "instant_bookable_f": 1,
         "instant_bookable_t": 0,
         "amen_group_kitchen": 2,
         "amen_group_household": 3,
         "amenities_num": 26,
         "_deepnote_index_column": 17
        },
        {
         "accommodates": 2,
         "availability_30": 7,
         "bathrooms": 1,
         "bedrooms": 1,
         "beds": 1,
         "city": "Asheville",
         "name": "West AVL SCENT FREE Green Getaway",
         "price": 88,
         "review_scores_rating": 98,
         "cancellation_policy_flexible": 0,
         "cancellation_policy_moderate": 1,
         "cancellation_policy_no_refunds": 0,
         "cancellation_policy_strict": 0,
         "cancellation_policy_super_strict_30": 0,
         "cancellation_policy_super_strict_60": 0,
         "instant_bookable_f": 0,
         "instant_bookable_t": 1,
         "amen_group_kitchen": 1,
         "amen_group_household": 3,
         "amenities_num": 19,
         "_deepnote_index_column": 18
        },
        {
         "accommodates": 2,
         "availability_30": 6,
         "bathrooms": 1,
         "bedrooms": 1,
         "beds": 1,
         "city": "Asheville",
         "name": "Cozy Log Cabin near downtown",
         "price": 175,
         "review_scores_rating": 100,
         "cancellation_policy_flexible": 0,
         "cancellation_policy_moderate": 1,
         "cancellation_policy_no_refunds": 0,
         "cancellation_policy_strict": 0,
         "cancellation_policy_super_strict_30": 0,
         "cancellation_policy_super_strict_60": 0,
         "instant_bookable_f": 1,
         "instant_bookable_t": 0,
         "amen_group_kitchen": 1,
         "amen_group_household": 2,
         "amenities_num": 14,
         "_deepnote_index_column": 19
        },
        {
         "accommodates": 2,
         "availability_30": 11,
         "bathrooms": 1,
         "bedrooms": 1,
         "beds": 1,
         "city": "Asheville",
         "name": "Cozy River Arts/ W. Asheville Apt.",
         "price": 96,
         "review_scores_rating": 99,
         "cancellation_policy_flexible": 0,
         "cancellation_policy_moderate": 1,
         "cancellation_policy_no_refunds": 0,
         "cancellation_policy_strict": 0,
         "cancellation_policy_super_strict_30": 0,
         "cancellation_policy_super_strict_60": 0,
         "instant_bookable_f": 1,
         "instant_bookable_t": 0,
         "amen_group_kitchen": 1,
         "amen_group_household": 4,
         "amenities_num": 22,
         "_deepnote_index_column": 20
        },
        {
         "accommodates": 2,
         "availability_30": 15,
         "bathrooms": 1,
         "bedrooms": 1,
         "beds": 1,
         "city": "Asheville",
         "name": "Bright Efficiency in West Asheville",
         "price": 85,
         "review_scores_rating": 98,
         "cancellation_policy_flexible": 0,
         "cancellation_policy_moderate": 1,
         "cancellation_policy_no_refunds": 0,
         "cancellation_policy_strict": 0,
         "cancellation_policy_super_strict_30": 0,
         "cancellation_policy_super_strict_60": 0,
         "instant_bookable_f": 1,
         "instant_bookable_t": 0,
         "amen_group_kitchen": 1,
         "amen_group_household": 3,
         "amenities_num": 14,
         "_deepnote_index_column": 21
        },
        {
         "accommodates": 3,
         "availability_30": 0,
         "bathrooms": 1.5,
         "bedrooms": 1,
         "beds": 2,
         "city": "Asheville",
         "name": "Super Cool West Asheville Condo",
         "price": 80,
         "review_scores_rating": 100,
         "cancellation_policy_flexible": 0,
         "cancellation_policy_moderate": 1,
         "cancellation_policy_no_refunds": 0,
         "cancellation_policy_strict": 0,
         "cancellation_policy_super_strict_30": 0,
         "cancellation_policy_super_strict_60": 0,
         "instant_bookable_f": 1,
         "instant_bookable_t": 0,
         "amen_group_kitchen": 1,
         "amen_group_household": 4,
         "amenities_num": 18,
         "_deepnote_index_column": 22
        },
        {
         "accommodates": 2,
         "availability_30": 21,
         "bathrooms": 1,
         "bedrooms": 1,
         "beds": 1,
         "city": "Asheville",
         "name": "380 Reviews Apt #5,  Artsy W ASHV!",
         "price": 101,
         "review_scores_rating": 97,
         "cancellation_policy_flexible": 0,
         "cancellation_policy_moderate": 0,
         "cancellation_policy_no_refunds": 0,
         "cancellation_policy_strict": 1,
         "cancellation_policy_super_strict_30": 0,
         "cancellation_policy_super_strict_60": 0,
         "instant_bookable_f": 1,
         "instant_bookable_t": 0,
         "amen_group_kitchen": 1,
         "amen_group_household": 3,
         "amenities_num": 14,
         "_deepnote_index_column": 23
        },
        {
         "accommodates": 4,
         "availability_30": 12,
         "bathrooms": 1,
         "bedrooms": 2,
         "beds": 2,
         "city": "Asheville",
         "name": "Cute 2 BR-Heart of Hip W. Asheville",
         "price": 99,
         "review_scores_rating": 91,
         "cancellation_policy_flexible": 0,
         "cancellation_policy_moderate": 1,
         "cancellation_policy_no_refunds": 0,
         "cancellation_policy_strict": 0,
         "cancellation_policy_super_strict_30": 0,
         "cancellation_policy_super_strict_60": 0,
         "instant_bookable_f": 0,
         "instant_bookable_t": 1,
         "amen_group_kitchen": 1,
         "amen_group_household": 3,
         "amenities_num": 15,
         "_deepnote_index_column": 24
        }
       ],
       "rows_bottom": [
        {
         "accommodates": 6,
         "availability_30": 12,
         "bathrooms": 2.5,
         "bedrooms": 3,
         "beds": 4,
         "city": "New Orleans",
         "name": "CHARMING VICTORIAN UPTOWN COTTAGE!!",
         "price": 300,
         "review_scores_rating": 100,
         "cancellation_policy_flexible": 0,
         "cancellation_policy_moderate": 0,
         "cancellation_policy_no_refunds": 0,
         "cancellation_policy_strict": 1,
         "cancellation_policy_super_strict_30": 0,
         "cancellation_policy_super_strict_60": 0,
         "instant_bookable_f": 1,
         "instant_bookable_t": 0,
         "amen_group_kitchen": 1,
         "amen_group_household": 6,
         "amenities_num": 19,
         "_deepnote_index_column": 13919
        },
        {
         "accommodates": 16,
         "availability_30": 25,
         "bathrooms": 3.5,
         "bedrooms": 5,
         "beds": 9,
         "city": "New Orleans",
         "name": "Uptown Home Close to Everything!",
         "price": 800,
         "review_scores_rating": 99,
         "cancellation_policy_flexible": 0,
         "cancellation_policy_moderate": 0,
         "cancellation_policy_no_refunds": 0,
         "cancellation_policy_strict": 1,
         "cancellation_policy_super_strict_30": 0,
         "cancellation_policy_super_strict_60": 0,
         "instant_bookable_f": 1,
         "instant_bookable_t": 0,
         "amen_group_kitchen": 1,
         "amen_group_household": 8,
         "amenities_num": 25,
         "_deepnote_index_column": 13920
        },
        {
         "accommodates": 3,
         "availability_30": 2,
         "bathrooms": 1,
         "bedrooms": 1,
         "beds": 1,
         "city": "New Orleans",
         "name": "1Br/1Ba Unit in Duplex - Uptown",
         "price": 85,
         "review_scores_rating": 88,
         "cancellation_policy_flexible": 1,
         "cancellation_policy_moderate": 0,
         "cancellation_policy_no_refunds": 0,
         "cancellation_policy_strict": 0,
         "cancellation_policy_super_strict_30": 0,
         "cancellation_policy_super_strict_60": 0,
         "instant_bookable_f": 1,
         "instant_bookable_t": 0,
         "amen_group_kitchen": 1,
         "amen_group_household": 2,
         "amenities_num": 10,
         "_deepnote_index_column": 13921
        },
        {
         "accommodates": 1,
         "availability_30": 0,
         "bathrooms": 1,
         "bedrooms": 1,
         "beds": 1,
         "city": "New Orleans",
         "name": "uptown house close to Audubon Park",
         "price": 38,
         "review_scores_rating": 100,
         "cancellation_policy_flexible": 1,
         "cancellation_policy_moderate": 0,
         "cancellation_policy_no_refunds": 0,
         "cancellation_policy_strict": 0,
         "cancellation_policy_super_strict_30": 0,
         "cancellation_policy_super_strict_60": 0,
         "instant_bookable_f": 1,
         "instant_bookable_t": 0,
         "amen_group_kitchen": 0,
         "amen_group_household": 0,
         "amenities_num": 1,
         "_deepnote_index_column": 13922
        },
        {
         "accommodates": 4,
         "availability_30": 15,
         "bathrooms": 2,
         "bedrooms": 2,
         "beds": 2,
         "city": "New Orleans",
         "name": "Stumble to all things New Orleans",
         "price": 185,
         "review_scores_rating": 97,
         "cancellation_policy_flexible": 0,
         "cancellation_policy_moderate": 0,
         "cancellation_policy_no_refunds": 0,
         "cancellation_policy_strict": 1,
         "cancellation_policy_super_strict_30": 0,
         "cancellation_policy_super_strict_60": 0,
         "instant_bookable_f": 0,
         "instant_bookable_t": 1,
         "amen_group_kitchen": 1,
         "amen_group_household": 2,
         "amenities_num": 12,
         "_deepnote_index_column": 13923
        },
        {
         "accommodates": 4,
         "availability_30": 0,
         "bathrooms": 1,
         "bedrooms": 1,
         "beds": 2,
         "city": "New Orleans",
         "name": "Uptown, on the parade route w/prkg.",
         "price": 70,
         "review_scores_rating": 98,
         "cancellation_policy_flexible": 0,
         "cancellation_policy_moderate": 0,
         "cancellation_policy_no_refunds": 0,
         "cancellation_policy_strict": 1,
         "cancellation_policy_super_strict_30": 0,
         "cancellation_policy_super_strict_60": 0,
         "instant_bookable_f": 1,
         "instant_bookable_t": 0,
         "amen_group_kitchen": 1,
         "amen_group_household": 4,
         "amenities_num": 17,
         "_deepnote_index_column": 13924
        },
        {
         "accommodates": 4,
         "availability_30": 8,
         "bathrooms": 2,
         "bedrooms": 2,
         "beds": 2,
         "city": "New Orleans",
         "name": "Cute house uptown! Great for parades/ all star wkd",
         "price": 380,
         "review_scores_rating": 100,
         "cancellation_policy_flexible": 0,
         "cancellation_policy_moderate": 1,
         "cancellation_policy_no_refunds": 0,
         "cancellation_policy_strict": 0,
         "cancellation_policy_super_strict_30": 0,
         "cancellation_policy_super_strict_60": 0,
         "instant_bookable_f": 1,
         "instant_bookable_t": 0,
         "amen_group_kitchen": 1,
         "amen_group_household": 7,
         "amenities_num": 23,
         "_deepnote_index_column": 13925
        },
        {
         "accommodates": 4,
         "availability_30": 29,
         "bathrooms": 1,
         "bedrooms": 1,
         "beds": 1,
         "city": "New Orleans",
         "name": "Sixth Ward Sanctuary",
         "price": 150,
         "review_scores_rating": 100,
         "cancellation_policy_flexible": 0,
         "cancellation_policy_moderate": 0,
         "cancellation_policy_no_refunds": 0,
         "cancellation_policy_strict": 1,
         "cancellation_policy_super_strict_30": 0,
         "cancellation_policy_super_strict_60": 0,
         "instant_bookable_f": 1,
         "instant_bookable_t": 0,
         "amen_group_kitchen": 1,
         "amen_group_household": 8,
         "amenities_num": 23,
         "_deepnote_index_column": 13926
        },
        {
         "accommodates": 16,
         "availability_30": 30,
         "bathrooms": 4,
         "bedrooms": 6,
         "beds": 9,
         "city": "New Orleans",
         "name": "Uptown Near Audubon Park - Sleeps 16!",
         "price": 600,
         "review_scores_rating": 100,
         "cancellation_policy_flexible": 0,
         "cancellation_policy_moderate": 0,
         "cancellation_policy_no_refunds": 0,
         "cancellation_policy_strict": 1,
         "cancellation_policy_super_strict_30": 0,
         "cancellation_policy_super_strict_60": 0,
         "instant_bookable_f": 0,
         "instant_bookable_t": 1,
         "amen_group_kitchen": 2,
         "amen_group_household": 3,
         "amenities_num": 17,
         "_deepnote_index_column": 13927
        },
        {
         "accommodates": 5,
         "availability_30": 29,
         "bathrooms": 1,
         "bedrooms": 2,
         "beds": 3,
         "city": "New Orleans",
         "name": "New Orleans Shotgun",
         "price": 110,
         "review_scores_rating": 100,
         "cancellation_policy_flexible": 0,
         "cancellation_policy_moderate": 0,
         "cancellation_policy_no_refunds": 0,
         "cancellation_policy_strict": 1,
         "cancellation_policy_super_strict_30": 0,
         "cancellation_policy_super_strict_60": 0,
         "instant_bookable_f": 1,
         "instant_bookable_t": 0,
         "amen_group_kitchen": 1,
         "amen_group_household": 6,
         "amenities_num": 21,
         "_deepnote_index_column": 13928
        },
        {
         "accommodates": 5,
         "availability_30": 22,
         "bathrooms": 2,
         "bedrooms": 2,
         "beds": 2,
         "city": "New Orleans",
         "name": "Uptown Cottage - Walk to the best of New Orleans",
         "price": 250,
         "review_scores_rating": 100,
         "cancellation_policy_flexible": 0,
         "cancellation_policy_moderate": 0,
         "cancellation_policy_no_refunds": 0,
         "cancellation_policy_strict": 1,
         "cancellation_policy_super_strict_30": 0,
         "cancellation_policy_super_strict_60": 0,
         "instant_bookable_f": 1,
         "instant_bookable_t": 0,
         "amen_group_kitchen": 1,
         "amen_group_household": 5,
         "amenities_num": 24,
         "_deepnote_index_column": 13929
        },
        {
         "accommodates": 4,
         "availability_30": 20,
         "bathrooms": 1,
         "bedrooms": 2,
         "beds": 3,
         "city": "New Orleans",
         "name": "Recently Renovated Uptown - Ideal Location",
         "price": 175,
         "review_scores_rating": 100,
         "cancellation_policy_flexible": 0,
         "cancellation_policy_moderate": 1,
         "cancellation_policy_no_refunds": 0,
         "cancellation_policy_strict": 0,
         "cancellation_policy_super_strict_30": 0,
         "cancellation_policy_super_strict_60": 0,
         "instant_bookable_f": 1,
         "instant_bookable_t": 0,
         "amen_group_kitchen": 0,
         "amen_group_household": 6,
         "amenities_num": 22,
         "_deepnote_index_column": 13930
        },
        {
         "accommodates": 5,
         "availability_30": 26,
         "bathrooms": 1,
         "bedrooms": 1,
         "beds": 4,
         "city": "New Orleans",
         "name": "Audubon Park Craftsman Cottage",
         "price": 195,
         "review_scores_rating": 98,
         "cancellation_policy_flexible": 1,
         "cancellation_policy_moderate": 0,
         "cancellation_policy_no_refunds": 0,
         "cancellation_policy_strict": 0,
         "cancellation_policy_super_strict_30": 0,
         "cancellation_policy_super_strict_60": 0,
         "instant_bookable_f": 1,
         "instant_bookable_t": 0,
         "amen_group_kitchen": 1,
         "amen_group_household": 6,
         "amenities_num": 21,
         "_deepnote_index_column": 13931
        },
        {
         "accommodates": 4,
         "availability_30": 17,
         "bathrooms": 1,
         "bedrooms": 1,
         "beds": 2,
         "city": "New Orleans",
         "name": "NEW! ADORABLE and TOTALLY NOLA home off Magazine!!",
         "price": 115,
         "review_scores_rating": 100,
         "cancellation_policy_flexible": 0,
         "cancellation_policy_moderate": 0,
         "cancellation_policy_no_refunds": 0,
         "cancellation_policy_strict": 1,
         "cancellation_policy_super_strict_30": 0,
         "cancellation_policy_super_strict_60": 0,
         "instant_bookable_f": 0,
         "instant_bookable_t": 1,
         "amen_group_kitchen": 1,
         "amen_group_household": 4,
         "amenities_num": 19,
         "_deepnote_index_column": 13932
        },
        {
         "accommodates": 4,
         "availability_30": 13,
         "bathrooms": 1,
         "bedrooms": 2,
         "beds": 2,
         "city": "New Orleans",
         "name": "Sweet Olive Cottage Uptown",
         "price": 100,
         "review_scores_rating": 99,
         "cancellation_policy_flexible": 0,
         "cancellation_policy_moderate": 0,
         "cancellation_policy_no_refunds": 0,
         "cancellation_policy_strict": 1,
         "cancellation_policy_super_strict_30": 0,
         "cancellation_policy_super_strict_60": 0,
         "instant_bookable_f": 1,
         "instant_bookable_t": 0,
         "amen_group_kitchen": 1,
         "amen_group_household": 6,
         "amenities_num": 25,
         "_deepnote_index_column": 13933
        },
        {
         "accommodates": 4,
         "availability_30": 7,
         "bathrooms": 1,
         "bedrooms": 1,
         "beds": 1,
         "city": "New Orleans",
         "name": "Uptown Historic Spot: Location!!!",
         "price": 70,
         "review_scores_rating": 94,
         "cancellation_policy_flexible": 0,
         "cancellation_policy_moderate": 1,
         "cancellation_policy_no_refunds": 0,
         "cancellation_policy_strict": 0,
         "cancellation_policy_super_strict_30": 0,
         "cancellation_policy_super_strict_60": 0,
         "instant_bookable_f": 1,
         "instant_bookable_t": 0,
         "amen_group_kitchen": 1,
         "amen_group_household": 5,
         "amenities_num": 16,
         "_deepnote_index_column": 13934
        },
        {
         "accommodates": 4,
         "availability_30": 24,
         "bathrooms": 1,
         "bedrooms": 1,
         "beds": 2,
         "city": "New Orleans",
         "name": "Uptown & Audubon Park",
         "price": 115,
         "review_scores_rating": 99,
         "cancellation_policy_flexible": 0,
         "cancellation_policy_moderate": 0,
         "cancellation_policy_no_refunds": 0,
         "cancellation_policy_strict": 1,
         "cancellation_policy_super_strict_30": 0,
         "cancellation_policy_super_strict_60": 0,
         "instant_bookable_f": 1,
         "instant_bookable_t": 0,
         "amen_group_kitchen": 0,
         "amen_group_household": 10,
         "amenities_num": 24,
         "_deepnote_index_column": 13935
        },
        {
         "accommodates": 8,
         "availability_30": 0,
         "bathrooms": 4,
         "bedrooms": 4,
         "beds": 4,
         "city": "New Orleans",
         "name": "Upscale NEW Uptown Home",
         "price": 1000,
         "review_scores_rating": 90,
         "cancellation_policy_flexible": 0,
         "cancellation_policy_moderate": 0,
         "cancellation_policy_no_refunds": 0,
         "cancellation_policy_strict": 1,
         "cancellation_policy_super_strict_30": 0,
         "cancellation_policy_super_strict_60": 0,
         "instant_bookable_f": 1,
         "instant_bookable_t": 0,
         "amen_group_kitchen": 1,
         "amen_group_household": 4,
         "amenities_num": 16,
         "_deepnote_index_column": 13936
        },
        {
         "accommodates": 4,
         "availability_30": 0,
         "bathrooms": 1,
         "bedrooms": 1,
         "beds": 3,
         "city": "New Orleans",
         "name": "Your Mardi Gras spot!",
         "price": 115,
         "review_scores_rating": 97,
         "cancellation_policy_flexible": 0,
         "cancellation_policy_moderate": 0,
         "cancellation_policy_no_refunds": 0,
         "cancellation_policy_strict": 1,
         "cancellation_policy_super_strict_30": 0,
         "cancellation_policy_super_strict_60": 0,
         "instant_bookable_f": 1,
         "instant_bookable_t": 0,
         "amen_group_kitchen": 1,
         "amen_group_household": 4,
         "amenities_num": 22,
         "_deepnote_index_column": 13937
        },
        {
         "accommodates": 8,
         "availability_30": 0,
         "bathrooms": 2,
         "bedrooms": 3,
         "beds": 5,
         "city": "New Orleans",
         "name": "Creole Cottage Steps to Magazine! Sleeps up to 8!",
         "price": 160,
         "review_scores_rating": 99,
         "cancellation_policy_flexible": 0,
         "cancellation_policy_moderate": 0,
         "cancellation_policy_no_refunds": 0,
         "cancellation_policy_strict": 1,
         "cancellation_policy_super_strict_30": 0,
         "cancellation_policy_super_strict_60": 0,
         "instant_bookable_f": 1,
         "instant_bookable_t": 0,
         "amen_group_kitchen": 1,
         "amen_group_household": 6,
         "amenities_num": 21,
         "_deepnote_index_column": 13938
        },
        {
         "accommodates": 6,
         "availability_30": 1,
         "bathrooms": 2,
         "bedrooms": 2,
         "beds": 2,
         "city": "New Orleans",
         "name": "Spacious House, Perfect Location Near Everything!",
         "price": 162,
         "review_scores_rating": 100,
         "cancellation_policy_flexible": 0,
         "cancellation_policy_moderate": 1,
         "cancellation_policy_no_refunds": 0,
         "cancellation_policy_strict": 0,
         "cancellation_policy_super_strict_30": 0,
         "cancellation_policy_super_strict_60": 0,
         "instant_bookable_f": 0,
         "instant_bookable_t": 1,
         "amen_group_kitchen": 1,
         "amen_group_household": 6,
         "amenities_num": 20,
         "_deepnote_index_column": 13939
        },
        {
         "accommodates": 2,
         "availability_30": 21,
         "bathrooms": 1,
         "bedrooms": 1,
         "beds": 1,
         "city": "New Orleans",
         "name": "Cozy 1 Bedroom With Everything!",
         "price": 65,
         "review_scores_rating": 90,
         "cancellation_policy_flexible": 1,
         "cancellation_policy_moderate": 0,
         "cancellation_policy_no_refunds": 0,
         "cancellation_policy_strict": 0,
         "cancellation_policy_super_strict_30": 0,
         "cancellation_policy_super_strict_60": 0,
         "instant_bookable_f": 0,
         "instant_bookable_t": 1,
         "amen_group_kitchen": 1,
         "amen_group_household": 2,
         "amenities_num": 13,
         "_deepnote_index_column": 13940
        },
        {
         "accommodates": 6,
         "availability_30": 29,
         "bathrooms": 2,
         "bedrooms": 3,
         "beds": 5,
         "city": "New Orleans",
         "name": "Big EZ Bungalow",
         "price": 200,
         "review_scores_rating": 98,
         "cancellation_policy_flexible": 0,
         "cancellation_policy_moderate": 1,
         "cancellation_policy_no_refunds": 0,
         "cancellation_policy_strict": 0,
         "cancellation_policy_super_strict_30": 0,
         "cancellation_policy_super_strict_60": 0,
         "instant_bookable_f": 1,
         "instant_bookable_t": 0,
         "amen_group_kitchen": 1,
         "amen_group_household": 6,
         "amenities_num": 16,
         "_deepnote_index_column": 13941
        },
        {
         "accommodates": 8,
         "availability_30": 23,
         "bathrooms": 2.5,
         "bedrooms": 3,
         "beds": 3,
         "city": "New Orleans",
         "name": "Blessed",
         "price": 300,
         "review_scores_rating": 100,
         "cancellation_policy_flexible": 1,
         "cancellation_policy_moderate": 0,
         "cancellation_policy_no_refunds": 0,
         "cancellation_policy_strict": 0,
         "cancellation_policy_super_strict_30": 0,
         "cancellation_policy_super_strict_60": 0,
         "instant_bookable_f": 1,
         "instant_bookable_t": 0,
         "amen_group_kitchen": 1,
         "amen_group_household": 4,
         "amenities_num": 12,
         "_deepnote_index_column": 13942
        },
        {
         "accommodates": 3,
         "availability_30": 28,
         "bathrooms": 1,
         "bedrooms": 0,
         "beds": 1,
         "city": "Arabi",
         "name": "Arabi Cottage",
         "price": 99,
         "review_scores_rating": 100,
         "cancellation_policy_flexible": 0,
         "cancellation_policy_moderate": 0,
         "cancellation_policy_no_refunds": 0,
         "cancellation_policy_strict": 1,
         "cancellation_policy_super_strict_30": 0,
         "cancellation_policy_super_strict_60": 0,
         "instant_bookable_f": 0,
         "instant_bookable_t": 1,
         "amen_group_kitchen": 0,
         "amen_group_household": 7,
         "amenities_num": 19,
         "_deepnote_index_column": 13943
        }
       ]
      },
      "text/plain": "       accommodates  availability_30  bathrooms  bedrooms  beds         city  \\\n0               2.0                0        1.0       1.0   1.0    Asheville   \n1               4.0               17        1.0       1.0   2.0    Asheville   \n2               6.0               25        2.5       1.0   6.0    Asheville   \n3              10.0               17        2.5       4.0   5.0    Asheville   \n4               2.0               16        1.0       1.0   1.0    Asheville   \n...             ...              ...        ...       ...   ...          ...   \n13939           6.0                1        2.0       2.0   2.0  New Orleans   \n13940           2.0               21        1.0       1.0   1.0  New Orleans   \n13941           6.0               29        2.0       3.0   5.0  New Orleans   \n13942           8.0               23        2.5       3.0   3.0  New Orleans   \n13943           3.0               28        1.0       0.0   1.0        Arabi   \n\n                                                    name  price  \\\n0                     Lovely cabin, great Asheville spot  105.0   \n1                               Glamping w HOT TUB + AC!  125.0   \n2                          Mixed Dorm Bunk at BPS Hostel   24.0   \n3                          Modern Home - Views - HOT TUB  105.0   \n4                              Bright Suite with Sunroom   65.0   \n...                                                  ...    ...   \n13939  Spacious House, Perfect Location Near Everything!  162.0   \n13940                    Cozy 1 Bedroom With Everything!   65.0   \n13941                                    Big EZ Bungalow  200.0   \n13942                                            Blessed  300.0   \n13943                                      Arabi Cottage   99.0   \n\n       review_scores_rating  cancellation_policy_flexible  \\\n0                      96.0                             0   \n1                      96.0                             0   \n2                      93.0                             0   \n3                      78.0                             0   \n4                      93.0                             1   \n...                     ...                           ...   \n13939                 100.0                             0   \n13940                  90.0                             1   \n13941                  98.0                             0   \n13942                 100.0                             1   \n13943                 100.0                             0   \n\n       cancellation_policy_moderate  cancellation_policy_no_refunds  \\\n0                                 1                               0   \n1                                 0                               0   \n2                                 1                               0   \n3                                 0                               0   \n4                                 0                               0   \n...                             ...                             ...   \n13939                             1                               0   \n13940                             0                               0   \n13941                             1                               0   \n13942                             0                               0   \n13943                             0                               0   \n\n       cancellation_policy_strict  cancellation_policy_super_strict_30  \\\n0                               0                                    0   \n1                               1                                    0   \n2                               0                                    0   \n3                               1                                    0   \n4                               0                                    0   \n...                           ...                                  ...   \n13939                           0                                    0   \n13940                           0                                    0   \n13941                           0                                    0   \n13942                           0                                    0   \n13943                           1                                    0   \n\n       cancellation_policy_super_strict_60  instant_bookable_f  \\\n0                                        0                   1   \n1                                        0                   1   \n2                                        0                   1   \n3                                        0                   1   \n4                                        0                   0   \n...                                    ...                 ...   \n13939                                    0                   0   \n13940                                    0                   0   \n13941                                    0                   1   \n13942                                    0                   1   \n13943                                    0                   0   \n\n       instant_bookable_t  amen_group_kitchen  amen_group_household  \\\n0                       0                   1                     3   \n1                       0                   1                     2   \n2                       0                   0                     1   \n3                       0                   1                     2   \n4                       1                   1                     4   \n...                   ...                 ...                   ...   \n13939                   1                   1                     6   \n13940                   1                   1                     2   \n13941                   0                   1                     6   \n13942                   0                   1                     4   \n13943                   1                   0                     7   \n\n       amenities_num  \n0                  9  \n1                 11  \n2                  7  \n3                 18  \n4                 13  \n...              ...  \n13939             20  \n13940             13  \n13941             16  \n13942             12  \n13943             19  \n\n[13944 rows x 20 columns]",
      "text/html": "<div>\n<style scoped>\n    .dataframe tbody tr th:only-of-type {\n        vertical-align: middle;\n    }\n\n    .dataframe tbody tr th {\n        vertical-align: top;\n    }\n\n    .dataframe thead th {\n        text-align: right;\n    }\n</style>\n<table border=\"1\" class=\"dataframe\">\n  <thead>\n    <tr style=\"text-align: right;\">\n      <th></th>\n      <th>accommodates</th>\n      <th>availability_30</th>\n      <th>bathrooms</th>\n      <th>bedrooms</th>\n      <th>beds</th>\n      <th>city</th>\n      <th>name</th>\n      <th>price</th>\n      <th>review_scores_rating</th>\n      <th>cancellation_policy_flexible</th>\n      <th>cancellation_policy_moderate</th>\n      <th>cancellation_policy_no_refunds</th>\n      <th>cancellation_policy_strict</th>\n      <th>cancellation_policy_super_strict_30</th>\n      <th>cancellation_policy_super_strict_60</th>\n      <th>instant_bookable_f</th>\n      <th>instant_bookable_t</th>\n      <th>amen_group_kitchen</th>\n      <th>amen_group_household</th>\n      <th>amenities_num</th>\n    </tr>\n  </thead>\n  <tbody>\n    <tr>\n      <th>0</th>\n      <td>2.0</td>\n      <td>0</td>\n      <td>1.0</td>\n      <td>1.0</td>\n      <td>1.0</td>\n      <td>Asheville</td>\n      <td>Lovely cabin, great Asheville spot</td>\n      <td>105.0</td>\n      <td>96.0</td>\n      <td>0</td>\n      <td>1</td>\n      <td>0</td>\n      <td>0</td>\n      <td>0</td>\n      <td>0</td>\n      <td>1</td>\n      <td>0</td>\n      <td>1</td>\n      <td>3</td>\n      <td>9</td>\n    </tr>\n    <tr>\n      <th>1</th>\n      <td>4.0</td>\n      <td>17</td>\n      <td>1.0</td>\n      <td>1.0</td>\n      <td>2.0</td>\n      <td>Asheville</td>\n      <td>Glamping w HOT TUB + AC!</td>\n      <td>125.0</td>\n      <td>96.0</td>\n      <td>0</td>\n      <td>0</td>\n      <td>0</td>\n      <td>1</td>\n      <td>0</td>\n      <td>0</td>\n      <td>1</td>\n      <td>0</td>\n      <td>1</td>\n      <td>2</td>\n      <td>11</td>\n    </tr>\n    <tr>\n      <th>2</th>\n      <td>6.0</td>\n      <td>25</td>\n      <td>2.5</td>\n      <td>1.0</td>\n      <td>6.0</td>\n      <td>Asheville</td>\n      <td>Mixed Dorm Bunk at BPS Hostel</td>\n      <td>24.0</td>\n      <td>93.0</td>\n      <td>0</td>\n      <td>1</td>\n      <td>0</td>\n      <td>0</td>\n      <td>0</td>\n      <td>0</td>\n      <td>1</td>\n      <td>0</td>\n      <td>0</td>\n      <td>1</td>\n      <td>7</td>\n    </tr>\n    <tr>\n      <th>3</th>\n      <td>10.0</td>\n      <td>17</td>\n      <td>2.5</td>\n      <td>4.0</td>\n      <td>5.0</td>\n      <td>Asheville</td>\n      <td>Modern Home - Views - HOT TUB</td>\n      <td>105.0</td>\n      <td>78.0</td>\n      <td>0</td>\n      <td>0</td>\n      <td>0</td>\n      <td>1</td>\n      <td>0</td>\n      <td>0</td>\n      <td>1</td>\n      <td>0</td>\n      <td>1</td>\n      <td>2</td>\n      <td>18</td>\n    </tr>\n    <tr>\n      <th>4</th>\n      <td>2.0</td>\n      <td>16</td>\n      <td>1.0</td>\n      <td>1.0</td>\n      <td>1.0</td>\n      <td>Asheville</td>\n      <td>Bright Suite with Sunroom</td>\n      <td>65.0</td>\n      <td>93.0</td>\n      <td>1</td>\n      <td>0</td>\n      <td>0</td>\n      <td>0</td>\n      <td>0</td>\n      <td>0</td>\n      <td>0</td>\n      <td>1</td>\n      <td>1</td>\n      <td>4</td>\n      <td>13</td>\n    </tr>\n    <tr>\n      <th>...</th>\n      <td>...</td>\n      <td>...</td>\n      <td>...</td>\n      <td>...</td>\n      <td>...</td>\n      <td>...</td>\n      <td>...</td>\n      <td>...</td>\n      <td>...</td>\n      <td>...</td>\n      <td>...</td>\n      <td>...</td>\n      <td>...</td>\n      <td>...</td>\n      <td>...</td>\n      <td>...</td>\n      <td>...</td>\n      <td>...</td>\n      <td>...</td>\n      <td>...</td>\n    </tr>\n    <tr>\n      <th>13939</th>\n      <td>6.0</td>\n      <td>1</td>\n      <td>2.0</td>\n      <td>2.0</td>\n      <td>2.0</td>\n      <td>New Orleans</td>\n      <td>Spacious House, Perfect Location Near Everything!</td>\n      <td>162.0</td>\n      <td>100.0</td>\n      <td>0</td>\n      <td>1</td>\n      <td>0</td>\n      <td>0</td>\n      <td>0</td>\n      <td>0</td>\n      <td>0</td>\n      <td>1</td>\n      <td>1</td>\n      <td>6</td>\n      <td>20</td>\n    </tr>\n    <tr>\n      <th>13940</th>\n      <td>2.0</td>\n      <td>21</td>\n      <td>1.0</td>\n      <td>1.0</td>\n      <td>1.0</td>\n      <td>New Orleans</td>\n      <td>Cozy 1 Bedroom With Everything!</td>\n      <td>65.0</td>\n      <td>90.0</td>\n      <td>1</td>\n      <td>0</td>\n      <td>0</td>\n      <td>0</td>\n      <td>0</td>\n      <td>0</td>\n      <td>0</td>\n      <td>1</td>\n      <td>1</td>\n      <td>2</td>\n      <td>13</td>\n    </tr>\n    <tr>\n      <th>13941</th>\n      <td>6.0</td>\n      <td>29</td>\n      <td>2.0</td>\n      <td>3.0</td>\n      <td>5.0</td>\n      <td>New Orleans</td>\n      <td>Big EZ Bungalow</td>\n      <td>200.0</td>\n      <td>98.0</td>\n      <td>0</td>\n      <td>1</td>\n      <td>0</td>\n      <td>0</td>\n      <td>0</td>\n      <td>0</td>\n      <td>1</td>\n      <td>0</td>\n      <td>1</td>\n      <td>6</td>\n      <td>16</td>\n    </tr>\n    <tr>\n      <th>13942</th>\n      <td>8.0</td>\n      <td>23</td>\n      <td>2.5</td>\n      <td>3.0</td>\n      <td>3.0</td>\n      <td>New Orleans</td>\n      <td>Blessed</td>\n      <td>300.0</td>\n      <td>100.0</td>\n      <td>1</td>\n      <td>0</td>\n      <td>0</td>\n      <td>0</td>\n      <td>0</td>\n      <td>0</td>\n      <td>1</td>\n      <td>0</td>\n      <td>1</td>\n      <td>4</td>\n      <td>12</td>\n    </tr>\n    <tr>\n      <th>13943</th>\n      <td>3.0</td>\n      <td>28</td>\n      <td>1.0</td>\n      <td>0.0</td>\n      <td>1.0</td>\n      <td>Arabi</td>\n      <td>Arabi Cottage</td>\n      <td>99.0</td>\n      <td>100.0</td>\n      <td>0</td>\n      <td>0</td>\n      <td>0</td>\n      <td>1</td>\n      <td>0</td>\n      <td>0</td>\n      <td>0</td>\n      <td>1</td>\n      <td>0</td>\n      <td>7</td>\n      <td>19</td>\n    </tr>\n  </tbody>\n</table>\n<p>13944 rows × 20 columns</p>\n</div>"
     },
     "metadata": {}
    }
   ]
  },
  {
   "cell_type": "code",
   "metadata": {
    "tags": [],
    "cell_id": "00045-fdcf45a1-defa-4287-84e8-a162970888a7",
    "deepnote_to_be_reexecuted": false,
    "source_hash": "21953700",
    "execution_start": 1627422077055,
    "execution_millis": 264,
    "deepnote_cell_type": "code"
   },
   "source": "listings_final = pd.read_csv(\"/work/Datasets/listings_final.csv\")\nlistings_final.head()",
   "execution_count": null,
   "outputs": [
    {
     "output_type": "execute_result",
     "execution_count": 42,
     "data": {
      "application/vnd.deepnote.dataframe.v2+json": {
       "row_count": 5,
       "column_count": 20,
       "columns": [
        {
         "name": "Unnamed: 0",
         "dtype": "int64",
         "stats": {
          "unique_count": 5,
          "nan_count": 0,
          "min": "0",
          "max": "4",
          "histogram": [
           {
            "bin_start": 0,
            "bin_end": 0.4,
            "count": 1
           },
           {
            "bin_start": 0.4,
            "bin_end": 0.8,
            "count": 0
           },
           {
            "bin_start": 0.8,
            "bin_end": 1.2000000000000002,
            "count": 1
           },
           {
            "bin_start": 1.2000000000000002,
            "bin_end": 1.6,
            "count": 0
           },
           {
            "bin_start": 1.6,
            "bin_end": 2,
            "count": 0
           },
           {
            "bin_start": 2,
            "bin_end": 2.4000000000000004,
            "count": 1
           },
           {
            "bin_start": 2.4000000000000004,
            "bin_end": 2.8000000000000003,
            "count": 0
           },
           {
            "bin_start": 2.8000000000000003,
            "bin_end": 3.2,
            "count": 1
           },
           {
            "bin_start": 3.2,
            "bin_end": 3.6,
            "count": 0
           },
           {
            "bin_start": 3.6,
            "bin_end": 4,
            "count": 1
           }
          ]
         }
        },
        {
         "name": "accommodates",
         "dtype": "float64",
         "stats": {
          "unique_count": 4,
          "nan_count": 0,
          "min": "2.0",
          "max": "10.0",
          "histogram": [
           {
            "bin_start": 2,
            "bin_end": 2.8,
            "count": 2
           },
           {
            "bin_start": 2.8,
            "bin_end": 3.6,
            "count": 0
           },
           {
            "bin_start": 3.6,
            "bin_end": 4.4,
            "count": 1
           },
           {
            "bin_start": 4.4,
            "bin_end": 5.2,
            "count": 0
           },
           {
            "bin_start": 5.2,
            "bin_end": 6,
            "count": 0
           },
           {
            "bin_start": 6,
            "bin_end": 6.800000000000001,
            "count": 1
           },
           {
            "bin_start": 6.800000000000001,
            "bin_end": 7.6000000000000005,
            "count": 0
           },
           {
            "bin_start": 7.6000000000000005,
            "bin_end": 8.4,
            "count": 0
           },
           {
            "bin_start": 8.4,
            "bin_end": 9.2,
            "count": 0
           },
           {
            "bin_start": 9.2,
            "bin_end": 10,
            "count": 1
           }
          ]
         }
        },
        {
         "name": "availability_30",
         "dtype": "int64",
         "stats": {
          "unique_count": 4,
          "nan_count": 0,
          "min": "0",
          "max": "25",
          "histogram": [
           {
            "bin_start": 0,
            "bin_end": 2.5,
            "count": 1
           },
           {
            "bin_start": 2.5,
            "bin_end": 5,
            "count": 0
           },
           {
            "bin_start": 5,
            "bin_end": 7.5,
            "count": 0
           },
           {
            "bin_start": 7.5,
            "bin_end": 10,
            "count": 0
           },
           {
            "bin_start": 10,
            "bin_end": 12.5,
            "count": 0
           },
           {
            "bin_start": 12.5,
            "bin_end": 15,
            "count": 0
           },
           {
            "bin_start": 15,
            "bin_end": 17.5,
            "count": 3
           },
           {
            "bin_start": 17.5,
            "bin_end": 20,
            "count": 0
           },
           {
            "bin_start": 20,
            "bin_end": 22.5,
            "count": 0
           },
           {
            "bin_start": 22.5,
            "bin_end": 25,
            "count": 1
           }
          ]
         }
        },
        {
         "name": "bathrooms",
         "dtype": "float64",
         "stats": {
          "unique_count": 2,
          "nan_count": 0,
          "min": "1.0",
          "max": "2.5",
          "histogram": [
           {
            "bin_start": 1,
            "bin_end": 1.15,
            "count": 3
           },
           {
            "bin_start": 1.15,
            "bin_end": 1.3,
            "count": 0
           },
           {
            "bin_start": 1.3,
            "bin_end": 1.45,
            "count": 0
           },
           {
            "bin_start": 1.45,
            "bin_end": 1.6,
            "count": 0
           },
           {
            "bin_start": 1.6,
            "bin_end": 1.75,
            "count": 0
           },
           {
            "bin_start": 1.75,
            "bin_end": 1.9,
            "count": 0
           },
           {
            "bin_start": 1.9,
            "bin_end": 2.05,
            "count": 0
           },
           {
            "bin_start": 2.05,
            "bin_end": 2.2,
            "count": 0
           },
           {
            "bin_start": 2.2,
            "bin_end": 2.3499999999999996,
            "count": 0
           },
           {
            "bin_start": 2.3499999999999996,
            "bin_end": 2.5,
            "count": 2
           }
          ]
         }
        },
        {
         "name": "bedrooms",
         "dtype": "float64",
         "stats": {
          "unique_count": 2,
          "nan_count": 0,
          "min": "1.0",
          "max": "4.0",
          "histogram": [
           {
            "bin_start": 1,
            "bin_end": 1.3,
            "count": 4
           },
           {
            "bin_start": 1.3,
            "bin_end": 1.6,
            "count": 0
           },
           {
            "bin_start": 1.6,
            "bin_end": 1.9,
            "count": 0
           },
           {
            "bin_start": 1.9,
            "bin_end": 2.2,
            "count": 0
           },
           {
            "bin_start": 2.2,
            "bin_end": 2.5,
            "count": 0
           },
           {
            "bin_start": 2.5,
            "bin_end": 2.8,
            "count": 0
           },
           {
            "bin_start": 2.8,
            "bin_end": 3.1,
            "count": 0
           },
           {
            "bin_start": 3.1,
            "bin_end": 3.4,
            "count": 0
           },
           {
            "bin_start": 3.4,
            "bin_end": 3.6999999999999997,
            "count": 0
           },
           {
            "bin_start": 3.6999999999999997,
            "bin_end": 4,
            "count": 1
           }
          ]
         }
        },
        {
         "name": "beds",
         "dtype": "float64",
         "stats": {
          "unique_count": 4,
          "nan_count": 0,
          "min": "1.0",
          "max": "6.0",
          "histogram": [
           {
            "bin_start": 1,
            "bin_end": 1.5,
            "count": 2
           },
           {
            "bin_start": 1.5,
            "bin_end": 2,
            "count": 0
           },
           {
            "bin_start": 2,
            "bin_end": 2.5,
            "count": 1
           },
           {
            "bin_start": 2.5,
            "bin_end": 3,
            "count": 0
           },
           {
            "bin_start": 3,
            "bin_end": 3.5,
            "count": 0
           },
           {
            "bin_start": 3.5,
            "bin_end": 4,
            "count": 0
           },
           {
            "bin_start": 4,
            "bin_end": 4.5,
            "count": 0
           },
           {
            "bin_start": 4.5,
            "bin_end": 5,
            "count": 0
           },
           {
            "bin_start": 5,
            "bin_end": 5.5,
            "count": 1
           },
           {
            "bin_start": 5.5,
            "bin_end": 6,
            "count": 1
           }
          ]
         }
        },
        {
         "name": "price",
         "dtype": "float64",
         "stats": {
          "unique_count": 4,
          "nan_count": 0,
          "min": "24.0",
          "max": "125.0",
          "histogram": [
           {
            "bin_start": 24,
            "bin_end": 34.1,
            "count": 1
           },
           {
            "bin_start": 34.1,
            "bin_end": 44.2,
            "count": 0
           },
           {
            "bin_start": 44.2,
            "bin_end": 54.3,
            "count": 0
           },
           {
            "bin_start": 54.3,
            "bin_end": 64.4,
            "count": 0
           },
           {
            "bin_start": 64.4,
            "bin_end": 74.5,
            "count": 1
           },
           {
            "bin_start": 74.5,
            "bin_end": 84.6,
            "count": 0
           },
           {
            "bin_start": 84.6,
            "bin_end": 94.7,
            "count": 0
           },
           {
            "bin_start": 94.7,
            "bin_end": 104.8,
            "count": 0
           },
           {
            "bin_start": 104.8,
            "bin_end": 114.89999999999999,
            "count": 2
           },
           {
            "bin_start": 114.89999999999999,
            "bin_end": 125,
            "count": 1
           }
          ]
         }
        },
        {
         "name": "review_scores_rating",
         "dtype": "float64",
         "stats": {
          "unique_count": 3,
          "nan_count": 0,
          "min": "78.0",
          "max": "96.0",
          "histogram": [
           {
            "bin_start": 78,
            "bin_end": 79.8,
            "count": 1
           },
           {
            "bin_start": 79.8,
            "bin_end": 81.6,
            "count": 0
           },
           {
            "bin_start": 81.6,
            "bin_end": 83.4,
            "count": 0
           },
           {
            "bin_start": 83.4,
            "bin_end": 85.2,
            "count": 0
           },
           {
            "bin_start": 85.2,
            "bin_end": 87,
            "count": 0
           },
           {
            "bin_start": 87,
            "bin_end": 88.8,
            "count": 0
           },
           {
            "bin_start": 88.8,
            "bin_end": 90.6,
            "count": 0
           },
           {
            "bin_start": 90.6,
            "bin_end": 92.4,
            "count": 0
           },
           {
            "bin_start": 92.4,
            "bin_end": 94.2,
            "count": 2
           },
           {
            "bin_start": 94.2,
            "bin_end": 96,
            "count": 2
           }
          ]
         }
        },
        {
         "name": "cancellation_policy_flexible",
         "dtype": "int64",
         "stats": {
          "unique_count": 2,
          "nan_count": 0,
          "min": "0",
          "max": "1",
          "histogram": [
           {
            "bin_start": 0,
            "bin_end": 0.1,
            "count": 4
           },
           {
            "bin_start": 0.1,
            "bin_end": 0.2,
            "count": 0
           },
           {
            "bin_start": 0.2,
            "bin_end": 0.30000000000000004,
            "count": 0
           },
           {
            "bin_start": 0.30000000000000004,
            "bin_end": 0.4,
            "count": 0
           },
           {
            "bin_start": 0.4,
            "bin_end": 0.5,
            "count": 0
           },
           {
            "bin_start": 0.5,
            "bin_end": 0.6000000000000001,
            "count": 0
           },
           {
            "bin_start": 0.6000000000000001,
            "bin_end": 0.7000000000000001,
            "count": 0
           },
           {
            "bin_start": 0.7000000000000001,
            "bin_end": 0.8,
            "count": 0
           },
           {
            "bin_start": 0.8,
            "bin_end": 0.9,
            "count": 0
           },
           {
            "bin_start": 0.9,
            "bin_end": 1,
            "count": 1
           }
          ]
         }
        },
        {
         "name": "cancellation_policy_moderate",
         "dtype": "int64",
         "stats": {
          "unique_count": 2,
          "nan_count": 0,
          "min": "0",
          "max": "1",
          "histogram": [
           {
            "bin_start": 0,
            "bin_end": 0.1,
            "count": 3
           },
           {
            "bin_start": 0.1,
            "bin_end": 0.2,
            "count": 0
           },
           {
            "bin_start": 0.2,
            "bin_end": 0.30000000000000004,
            "count": 0
           },
           {
            "bin_start": 0.30000000000000004,
            "bin_end": 0.4,
            "count": 0
           },
           {
            "bin_start": 0.4,
            "bin_end": 0.5,
            "count": 0
           },
           {
            "bin_start": 0.5,
            "bin_end": 0.6000000000000001,
            "count": 0
           },
           {
            "bin_start": 0.6000000000000001,
            "bin_end": 0.7000000000000001,
            "count": 0
           },
           {
            "bin_start": 0.7000000000000001,
            "bin_end": 0.8,
            "count": 0
           },
           {
            "bin_start": 0.8,
            "bin_end": 0.9,
            "count": 0
           },
           {
            "bin_start": 0.9,
            "bin_end": 1,
            "count": 2
           }
          ]
         }
        },
        {
         "name": "cancellation_policy_no_refunds",
         "dtype": "int64",
         "stats": {
          "unique_count": 1,
          "nan_count": 0,
          "min": "0",
          "max": "0",
          "histogram": [
           {
            "bin_start": -0.5,
            "bin_end": -0.4,
            "count": 0
           },
           {
            "bin_start": -0.4,
            "bin_end": -0.3,
            "count": 0
           },
           {
            "bin_start": -0.3,
            "bin_end": -0.19999999999999996,
            "count": 0
           },
           {
            "bin_start": -0.19999999999999996,
            "bin_end": -0.09999999999999998,
            "count": 0
           },
           {
            "bin_start": -0.09999999999999998,
            "bin_end": 0,
            "count": 0
           },
           {
            "bin_start": 0,
            "bin_end": 0.10000000000000009,
            "count": 5
           },
           {
            "bin_start": 0.10000000000000009,
            "bin_end": 0.20000000000000007,
            "count": 0
           },
           {
            "bin_start": 0.20000000000000007,
            "bin_end": 0.30000000000000004,
            "count": 0
           },
           {
            "bin_start": 0.30000000000000004,
            "bin_end": 0.4,
            "count": 0
           },
           {
            "bin_start": 0.4,
            "bin_end": 0.5,
            "count": 0
           }
          ]
         }
        },
        {
         "name": "cancellation_policy_strict",
         "dtype": "int64",
         "stats": {
          "unique_count": 2,
          "nan_count": 0,
          "min": "0",
          "max": "1",
          "histogram": [
           {
            "bin_start": 0,
            "bin_end": 0.1,
            "count": 3
           },
           {
            "bin_start": 0.1,
            "bin_end": 0.2,
            "count": 0
           },
           {
            "bin_start": 0.2,
            "bin_end": 0.30000000000000004,
            "count": 0
           },
           {
            "bin_start": 0.30000000000000004,
            "bin_end": 0.4,
            "count": 0
           },
           {
            "bin_start": 0.4,
            "bin_end": 0.5,
            "count": 0
           },
           {
            "bin_start": 0.5,
            "bin_end": 0.6000000000000001,
            "count": 0
           },
           {
            "bin_start": 0.6000000000000001,
            "bin_end": 0.7000000000000001,
            "count": 0
           },
           {
            "bin_start": 0.7000000000000001,
            "bin_end": 0.8,
            "count": 0
           },
           {
            "bin_start": 0.8,
            "bin_end": 0.9,
            "count": 0
           },
           {
            "bin_start": 0.9,
            "bin_end": 1,
            "count": 2
           }
          ]
         }
        },
        {
         "name": "cancellation_policy_super_strict_30",
         "dtype": "int64",
         "stats": {
          "unique_count": 1,
          "nan_count": 0,
          "min": "0",
          "max": "0",
          "histogram": [
           {
            "bin_start": -0.5,
            "bin_end": -0.4,
            "count": 0
           },
           {
            "bin_start": -0.4,
            "bin_end": -0.3,
            "count": 0
           },
           {
            "bin_start": -0.3,
            "bin_end": -0.19999999999999996,
            "count": 0
           },
           {
            "bin_start": -0.19999999999999996,
            "bin_end": -0.09999999999999998,
            "count": 0
           },
           {
            "bin_start": -0.09999999999999998,
            "bin_end": 0,
            "count": 0
           },
           {
            "bin_start": 0,
            "bin_end": 0.10000000000000009,
            "count": 5
           },
           {
            "bin_start": 0.10000000000000009,
            "bin_end": 0.20000000000000007,
            "count": 0
           },
           {
            "bin_start": 0.20000000000000007,
            "bin_end": 0.30000000000000004,
            "count": 0
           },
           {
            "bin_start": 0.30000000000000004,
            "bin_end": 0.4,
            "count": 0
           },
           {
            "bin_start": 0.4,
            "bin_end": 0.5,
            "count": 0
           }
          ]
         }
        },
        {
         "name": "cancellation_policy_super_strict_60",
         "dtype": "int64",
         "stats": {
          "unique_count": 1,
          "nan_count": 0,
          "min": "0",
          "max": "0",
          "histogram": [
           {
            "bin_start": -0.5,
            "bin_end": -0.4,
            "count": 0
           },
           {
            "bin_start": -0.4,
            "bin_end": -0.3,
            "count": 0
           },
           {
            "bin_start": -0.3,
            "bin_end": -0.19999999999999996,
            "count": 0
           },
           {
            "bin_start": -0.19999999999999996,
            "bin_end": -0.09999999999999998,
            "count": 0
           },
           {
            "bin_start": -0.09999999999999998,
            "bin_end": 0,
            "count": 0
           },
           {
            "bin_start": 0,
            "bin_end": 0.10000000000000009,
            "count": 5
           },
           {
            "bin_start": 0.10000000000000009,
            "bin_end": 0.20000000000000007,
            "count": 0
           },
           {
            "bin_start": 0.20000000000000007,
            "bin_end": 0.30000000000000004,
            "count": 0
           },
           {
            "bin_start": 0.30000000000000004,
            "bin_end": 0.4,
            "count": 0
           },
           {
            "bin_start": 0.4,
            "bin_end": 0.5,
            "count": 0
           }
          ]
         }
        },
        {
         "name": "instant_bookable_f",
         "dtype": "int64",
         "stats": {
          "unique_count": 2,
          "nan_count": 0,
          "min": "0",
          "max": "1",
          "histogram": [
           {
            "bin_start": 0,
            "bin_end": 0.1,
            "count": 1
           },
           {
            "bin_start": 0.1,
            "bin_end": 0.2,
            "count": 0
           },
           {
            "bin_start": 0.2,
            "bin_end": 0.30000000000000004,
            "count": 0
           },
           {
            "bin_start": 0.30000000000000004,
            "bin_end": 0.4,
            "count": 0
           },
           {
            "bin_start": 0.4,
            "bin_end": 0.5,
            "count": 0
           },
           {
            "bin_start": 0.5,
            "bin_end": 0.6000000000000001,
            "count": 0
           },
           {
            "bin_start": 0.6000000000000001,
            "bin_end": 0.7000000000000001,
            "count": 0
           },
           {
            "bin_start": 0.7000000000000001,
            "bin_end": 0.8,
            "count": 0
           },
           {
            "bin_start": 0.8,
            "bin_end": 0.9,
            "count": 0
           },
           {
            "bin_start": 0.9,
            "bin_end": 1,
            "count": 4
           }
          ]
         }
        },
        {
         "name": "instant_bookable_t",
         "dtype": "int64",
         "stats": {
          "unique_count": 2,
          "nan_count": 0,
          "min": "0",
          "max": "1",
          "histogram": [
           {
            "bin_start": 0,
            "bin_end": 0.1,
            "count": 4
           },
           {
            "bin_start": 0.1,
            "bin_end": 0.2,
            "count": 0
           },
           {
            "bin_start": 0.2,
            "bin_end": 0.30000000000000004,
            "count": 0
           },
           {
            "bin_start": 0.30000000000000004,
            "bin_end": 0.4,
            "count": 0
           },
           {
            "bin_start": 0.4,
            "bin_end": 0.5,
            "count": 0
           },
           {
            "bin_start": 0.5,
            "bin_end": 0.6000000000000001,
            "count": 0
           },
           {
            "bin_start": 0.6000000000000001,
            "bin_end": 0.7000000000000001,
            "count": 0
           },
           {
            "bin_start": 0.7000000000000001,
            "bin_end": 0.8,
            "count": 0
           },
           {
            "bin_start": 0.8,
            "bin_end": 0.9,
            "count": 0
           },
           {
            "bin_start": 0.9,
            "bin_end": 1,
            "count": 1
           }
          ]
         }
        },
        {
         "name": "amen_group_kitchen",
         "dtype": "int64",
         "stats": {
          "unique_count": 2,
          "nan_count": 0,
          "min": "0",
          "max": "1",
          "histogram": [
           {
            "bin_start": 0,
            "bin_end": 0.1,
            "count": 1
           },
           {
            "bin_start": 0.1,
            "bin_end": 0.2,
            "count": 0
           },
           {
            "bin_start": 0.2,
            "bin_end": 0.30000000000000004,
            "count": 0
           },
           {
            "bin_start": 0.30000000000000004,
            "bin_end": 0.4,
            "count": 0
           },
           {
            "bin_start": 0.4,
            "bin_end": 0.5,
            "count": 0
           },
           {
            "bin_start": 0.5,
            "bin_end": 0.6000000000000001,
            "count": 0
           },
           {
            "bin_start": 0.6000000000000001,
            "bin_end": 0.7000000000000001,
            "count": 0
           },
           {
            "bin_start": 0.7000000000000001,
            "bin_end": 0.8,
            "count": 0
           },
           {
            "bin_start": 0.8,
            "bin_end": 0.9,
            "count": 0
           },
           {
            "bin_start": 0.9,
            "bin_end": 1,
            "count": 4
           }
          ]
         }
        },
        {
         "name": "amen_group_household",
         "dtype": "int64",
         "stats": {
          "unique_count": 4,
          "nan_count": 0,
          "min": "1",
          "max": "4",
          "histogram": [
           {
            "bin_start": 1,
            "bin_end": 1.3,
            "count": 1
           },
           {
            "bin_start": 1.3,
            "bin_end": 1.6,
            "count": 0
           },
           {
            "bin_start": 1.6,
            "bin_end": 1.9,
            "count": 0
           },
           {
            "bin_start": 1.9,
            "bin_end": 2.2,
            "count": 2
           },
           {
            "bin_start": 2.2,
            "bin_end": 2.5,
            "count": 0
           },
           {
            "bin_start": 2.5,
            "bin_end": 2.8,
            "count": 0
           },
           {
            "bin_start": 2.8,
            "bin_end": 3.1,
            "count": 1
           },
           {
            "bin_start": 3.1,
            "bin_end": 3.4,
            "count": 0
           },
           {
            "bin_start": 3.4,
            "bin_end": 3.6999999999999997,
            "count": 0
           },
           {
            "bin_start": 3.6999999999999997,
            "bin_end": 4,
            "count": 1
           }
          ]
         }
        },
        {
         "name": "amenities_num",
         "dtype": "int64",
         "stats": {
          "unique_count": 5,
          "nan_count": 0,
          "min": "7",
          "max": "18",
          "histogram": [
           {
            "bin_start": 7,
            "bin_end": 8.1,
            "count": 1
           },
           {
            "bin_start": 8.1,
            "bin_end": 9.2,
            "count": 1
           },
           {
            "bin_start": 9.2,
            "bin_end": 10.3,
            "count": 0
           },
           {
            "bin_start": 10.3,
            "bin_end": 11.4,
            "count": 1
           },
           {
            "bin_start": 11.4,
            "bin_end": 12.5,
            "count": 0
           },
           {
            "bin_start": 12.5,
            "bin_end": 13.600000000000001,
            "count": 1
           },
           {
            "bin_start": 13.600000000000001,
            "bin_end": 14.700000000000001,
            "count": 0
           },
           {
            "bin_start": 14.700000000000001,
            "bin_end": 15.8,
            "count": 0
           },
           {
            "bin_start": 15.8,
            "bin_end": 16.9,
            "count": 0
           },
           {
            "bin_start": 16.9,
            "bin_end": 18,
            "count": 1
           }
          ]
         }
        },
        {
         "name": "id",
         "dtype": "int64",
         "stats": {
          "unique_count": 5,
          "nan_count": 0,
          "min": "156926",
          "max": "5927700",
          "histogram": [
           {
            "bin_start": 156926,
            "bin_end": 734003.4,
            "count": 2
           },
           {
            "bin_start": 734003.4,
            "bin_end": 1311080.8,
            "count": 0
           },
           {
            "bin_start": 1311080.8,
            "bin_end": 1888158.2000000002,
            "count": 0
           },
           {
            "bin_start": 1888158.2000000002,
            "bin_end": 2465235.6,
            "count": 0
           },
           {
            "bin_start": 2465235.6,
            "bin_end": 3042313,
            "count": 1
           },
           {
            "bin_start": 3042313,
            "bin_end": 3619390.4000000004,
            "count": 0
           },
           {
            "bin_start": 3619390.4000000004,
            "bin_end": 4196467.800000001,
            "count": 1
           },
           {
            "bin_start": 4196467.800000001,
            "bin_end": 4773545.2,
            "count": 0
           },
           {
            "bin_start": 4773545.2,
            "bin_end": 5350622.600000001,
            "count": 0
           },
           {
            "bin_start": 5350622.600000001,
            "bin_end": 5927700,
            "count": 1
           }
          ]
         }
        },
        {
         "name": "_deepnote_index_column",
         "dtype": "int64"
        }
       ],
       "rows_top": [
        {
         "Unnamed: 0": 0,
         "accommodates": 2,
         "availability_30": 0,
         "bathrooms": 1,
         "bedrooms": 1,
         "beds": 1,
         "price": 105,
         "review_scores_rating": 96,
         "cancellation_policy_flexible": 0,
         "cancellation_policy_moderate": 1,
         "cancellation_policy_no_refunds": 0,
         "cancellation_policy_strict": 0,
         "cancellation_policy_super_strict_30": 0,
         "cancellation_policy_super_strict_60": 0,
         "instant_bookable_f": 1,
         "instant_bookable_t": 0,
         "amen_group_kitchen": 1,
         "amen_group_household": 3,
         "amenities_num": 9,
         "id": 665257,
         "_deepnote_index_column": 0
        },
        {
         "Unnamed: 0": 1,
         "accommodates": 4,
         "availability_30": 17,
         "bathrooms": 1,
         "bedrooms": 1,
         "beds": 2,
         "price": 125,
         "review_scores_rating": 96,
         "cancellation_policy_flexible": 0,
         "cancellation_policy_moderate": 0,
         "cancellation_policy_no_refunds": 0,
         "cancellation_policy_strict": 1,
         "cancellation_policy_super_strict_30": 0,
         "cancellation_policy_super_strict_60": 0,
         "instant_bookable_f": 1,
         "instant_bookable_t": 0,
         "amen_group_kitchen": 1,
         "amen_group_household": 2,
         "amenities_num": 11,
         "id": 2746729,
         "_deepnote_index_column": 1
        },
        {
         "Unnamed: 0": 2,
         "accommodates": 6,
         "availability_30": 25,
         "bathrooms": 2.5,
         "bedrooms": 1,
         "beds": 6,
         "price": 24,
         "review_scores_rating": 93,
         "cancellation_policy_flexible": 0,
         "cancellation_policy_moderate": 1,
         "cancellation_policy_no_refunds": 0,
         "cancellation_policy_strict": 0,
         "cancellation_policy_super_strict_30": 0,
         "cancellation_policy_super_strict_60": 0,
         "instant_bookable_f": 1,
         "instant_bookable_t": 0,
         "amen_group_kitchen": 0,
         "amen_group_household": 1,
         "amenities_num": 7,
         "id": 156926,
         "_deepnote_index_column": 2
        },
        {
         "Unnamed: 0": 3,
         "accommodates": 10,
         "availability_30": 17,
         "bathrooms": 2.5,
         "bedrooms": 4,
         "beds": 5,
         "price": 105,
         "review_scores_rating": 78,
         "cancellation_policy_flexible": 0,
         "cancellation_policy_moderate": 0,
         "cancellation_policy_no_refunds": 0,
         "cancellation_policy_strict": 1,
         "cancellation_policy_super_strict_30": 0,
         "cancellation_policy_super_strict_60": 0,
         "instant_bookable_f": 1,
         "instant_bookable_t": 0,
         "amen_group_kitchen": 1,
         "amen_group_household": 2,
         "amenities_num": 18,
         "id": 3767793,
         "_deepnote_index_column": 3
        },
        {
         "Unnamed: 0": 4,
         "accommodates": 2,
         "availability_30": 16,
         "bathrooms": 1,
         "bedrooms": 1,
         "beds": 1,
         "price": 65,
         "review_scores_rating": 93,
         "cancellation_policy_flexible": 1,
         "cancellation_policy_moderate": 0,
         "cancellation_policy_no_refunds": 0,
         "cancellation_policy_strict": 0,
         "cancellation_policy_super_strict_30": 0,
         "cancellation_policy_super_strict_60": 0,
         "instant_bookable_f": 0,
         "instant_bookable_t": 1,
         "amen_group_kitchen": 1,
         "amen_group_household": 4,
         "amenities_num": 13,
         "id": 5927700,
         "_deepnote_index_column": 4
        }
       ],
       "rows_bottom": null
      },
      "text/plain": "   Unnamed: 0  accommodates  availability_30  bathrooms  bedrooms  beds  \\\n0           0           2.0                0        1.0       1.0   1.0   \n1           1           4.0               17        1.0       1.0   2.0   \n2           2           6.0               25        2.5       1.0   6.0   \n3           3          10.0               17        2.5       4.0   5.0   \n4           4           2.0               16        1.0       1.0   1.0   \n\n   price  review_scores_rating  cancellation_policy_flexible  \\\n0  105.0                  96.0                             0   \n1  125.0                  96.0                             0   \n2   24.0                  93.0                             0   \n3  105.0                  78.0                             0   \n4   65.0                  93.0                             1   \n\n   cancellation_policy_moderate  cancellation_policy_no_refunds  \\\n0                             1                               0   \n1                             0                               0   \n2                             1                               0   \n3                             0                               0   \n4                             0                               0   \n\n   cancellation_policy_strict  cancellation_policy_super_strict_30  \\\n0                           0                                    0   \n1                           1                                    0   \n2                           0                                    0   \n3                           1                                    0   \n4                           0                                    0   \n\n   cancellation_policy_super_strict_60  instant_bookable_f  \\\n0                                    0                   1   \n1                                    0                   1   \n2                                    0                   1   \n3                                    0                   1   \n4                                    0                   0   \n\n   instant_bookable_t  amen_group_kitchen  amen_group_household  \\\n0                   0                   1                     3   \n1                   0                   1                     2   \n2                   0                   0                     1   \n3                   0                   1                     2   \n4                   1                   1                     4   \n\n   amenities_num       id  \n0              9   665257  \n1             11  2746729  \n2              7   156926  \n3             18  3767793  \n4             13  5927700  ",
      "text/html": "<div>\n<style scoped>\n    .dataframe tbody tr th:only-of-type {\n        vertical-align: middle;\n    }\n\n    .dataframe tbody tr th {\n        vertical-align: top;\n    }\n\n    .dataframe thead th {\n        text-align: right;\n    }\n</style>\n<table border=\"1\" class=\"dataframe\">\n  <thead>\n    <tr style=\"text-align: right;\">\n      <th></th>\n      <th>Unnamed: 0</th>\n      <th>accommodates</th>\n      <th>availability_30</th>\n      <th>bathrooms</th>\n      <th>bedrooms</th>\n      <th>beds</th>\n      <th>price</th>\n      <th>review_scores_rating</th>\n      <th>cancellation_policy_flexible</th>\n      <th>cancellation_policy_moderate</th>\n      <th>cancellation_policy_no_refunds</th>\n      <th>cancellation_policy_strict</th>\n      <th>cancellation_policy_super_strict_30</th>\n      <th>cancellation_policy_super_strict_60</th>\n      <th>instant_bookable_f</th>\n      <th>instant_bookable_t</th>\n      <th>amen_group_kitchen</th>\n      <th>amen_group_household</th>\n      <th>amenities_num</th>\n      <th>id</th>\n    </tr>\n  </thead>\n  <tbody>\n    <tr>\n      <th>0</th>\n      <td>0</td>\n      <td>2.0</td>\n      <td>0</td>\n      <td>1.0</td>\n      <td>1.0</td>\n      <td>1.0</td>\n      <td>105.0</td>\n      <td>96.0</td>\n      <td>0</td>\n      <td>1</td>\n      <td>0</td>\n      <td>0</td>\n      <td>0</td>\n      <td>0</td>\n      <td>1</td>\n      <td>0</td>\n      <td>1</td>\n      <td>3</td>\n      <td>9</td>\n      <td>665257</td>\n    </tr>\n    <tr>\n      <th>1</th>\n      <td>1</td>\n      <td>4.0</td>\n      <td>17</td>\n      <td>1.0</td>\n      <td>1.0</td>\n      <td>2.0</td>\n      <td>125.0</td>\n      <td>96.0</td>\n      <td>0</td>\n      <td>0</td>\n      <td>0</td>\n      <td>1</td>\n      <td>0</td>\n      <td>0</td>\n      <td>1</td>\n      <td>0</td>\n      <td>1</td>\n      <td>2</td>\n      <td>11</td>\n      <td>2746729</td>\n    </tr>\n    <tr>\n      <th>2</th>\n      <td>2</td>\n      <td>6.0</td>\n      <td>25</td>\n      <td>2.5</td>\n      <td>1.0</td>\n      <td>6.0</td>\n      <td>24.0</td>\n      <td>93.0</td>\n      <td>0</td>\n      <td>1</td>\n      <td>0</td>\n      <td>0</td>\n      <td>0</td>\n      <td>0</td>\n      <td>1</td>\n      <td>0</td>\n      <td>0</td>\n      <td>1</td>\n      <td>7</td>\n      <td>156926</td>\n    </tr>\n    <tr>\n      <th>3</th>\n      <td>3</td>\n      <td>10.0</td>\n      <td>17</td>\n      <td>2.5</td>\n      <td>4.0</td>\n      <td>5.0</td>\n      <td>105.0</td>\n      <td>78.0</td>\n      <td>0</td>\n      <td>0</td>\n      <td>0</td>\n      <td>1</td>\n      <td>0</td>\n      <td>0</td>\n      <td>1</td>\n      <td>0</td>\n      <td>1</td>\n      <td>2</td>\n      <td>18</td>\n      <td>3767793</td>\n    </tr>\n    <tr>\n      <th>4</th>\n      <td>4</td>\n      <td>2.0</td>\n      <td>16</td>\n      <td>1.0</td>\n      <td>1.0</td>\n      <td>1.0</td>\n      <td>65.0</td>\n      <td>93.0</td>\n      <td>1</td>\n      <td>0</td>\n      <td>0</td>\n      <td>0</td>\n      <td>0</td>\n      <td>0</td>\n      <td>0</td>\n      <td>1</td>\n      <td>1</td>\n      <td>4</td>\n      <td>13</td>\n      <td>5927700</td>\n    </tr>\n  </tbody>\n</table>\n</div>"
     },
     "metadata": {}
    }
   ]
  },
  {
   "cell_type": "code",
   "metadata": {
    "tags": [],
    "cell_id": "00046-08e93974-129c-4213-a53b-55812c21ceb9",
    "deepnote_to_be_reexecuted": false,
    "source_hash": "ee7d4382",
    "execution_start": 1627422389598,
    "execution_millis": 126,
    "deepnote_cell_type": "code"
   },
   "source": "listings_final = listings_final.drop(columns=['Unnamed: 0'])\nlistings_final.head()",
   "execution_count": null,
   "outputs": [
    {
     "output_type": "execute_result",
     "execution_count": 43,
     "data": {
      "application/vnd.deepnote.dataframe.v2+json": {
       "row_count": 5,
       "column_count": 19,
       "columns": [
        {
         "name": "accommodates",
         "dtype": "float64",
         "stats": {
          "unique_count": 4,
          "nan_count": 0,
          "min": "2.0",
          "max": "10.0",
          "histogram": [
           {
            "bin_start": 2,
            "bin_end": 2.8,
            "count": 2
           },
           {
            "bin_start": 2.8,
            "bin_end": 3.6,
            "count": 0
           },
           {
            "bin_start": 3.6,
            "bin_end": 4.4,
            "count": 1
           },
           {
            "bin_start": 4.4,
            "bin_end": 5.2,
            "count": 0
           },
           {
            "bin_start": 5.2,
            "bin_end": 6,
            "count": 0
           },
           {
            "bin_start": 6,
            "bin_end": 6.800000000000001,
            "count": 1
           },
           {
            "bin_start": 6.800000000000001,
            "bin_end": 7.6000000000000005,
            "count": 0
           },
           {
            "bin_start": 7.6000000000000005,
            "bin_end": 8.4,
            "count": 0
           },
           {
            "bin_start": 8.4,
            "bin_end": 9.2,
            "count": 0
           },
           {
            "bin_start": 9.2,
            "bin_end": 10,
            "count": 1
           }
          ]
         }
        },
        {
         "name": "availability_30",
         "dtype": "int64",
         "stats": {
          "unique_count": 4,
          "nan_count": 0,
          "min": "0",
          "max": "25",
          "histogram": [
           {
            "bin_start": 0,
            "bin_end": 2.5,
            "count": 1
           },
           {
            "bin_start": 2.5,
            "bin_end": 5,
            "count": 0
           },
           {
            "bin_start": 5,
            "bin_end": 7.5,
            "count": 0
           },
           {
            "bin_start": 7.5,
            "bin_end": 10,
            "count": 0
           },
           {
            "bin_start": 10,
            "bin_end": 12.5,
            "count": 0
           },
           {
            "bin_start": 12.5,
            "bin_end": 15,
            "count": 0
           },
           {
            "bin_start": 15,
            "bin_end": 17.5,
            "count": 3
           },
           {
            "bin_start": 17.5,
            "bin_end": 20,
            "count": 0
           },
           {
            "bin_start": 20,
            "bin_end": 22.5,
            "count": 0
           },
           {
            "bin_start": 22.5,
            "bin_end": 25,
            "count": 1
           }
          ]
         }
        },
        {
         "name": "bathrooms",
         "dtype": "float64",
         "stats": {
          "unique_count": 2,
          "nan_count": 0,
          "min": "1.0",
          "max": "2.5",
          "histogram": [
           {
            "bin_start": 1,
            "bin_end": 1.15,
            "count": 3
           },
           {
            "bin_start": 1.15,
            "bin_end": 1.3,
            "count": 0
           },
           {
            "bin_start": 1.3,
            "bin_end": 1.45,
            "count": 0
           },
           {
            "bin_start": 1.45,
            "bin_end": 1.6,
            "count": 0
           },
           {
            "bin_start": 1.6,
            "bin_end": 1.75,
            "count": 0
           },
           {
            "bin_start": 1.75,
            "bin_end": 1.9,
            "count": 0
           },
           {
            "bin_start": 1.9,
            "bin_end": 2.05,
            "count": 0
           },
           {
            "bin_start": 2.05,
            "bin_end": 2.2,
            "count": 0
           },
           {
            "bin_start": 2.2,
            "bin_end": 2.3499999999999996,
            "count": 0
           },
           {
            "bin_start": 2.3499999999999996,
            "bin_end": 2.5,
            "count": 2
           }
          ]
         }
        },
        {
         "name": "bedrooms",
         "dtype": "float64",
         "stats": {
          "unique_count": 2,
          "nan_count": 0,
          "min": "1.0",
          "max": "4.0",
          "histogram": [
           {
            "bin_start": 1,
            "bin_end": 1.3,
            "count": 4
           },
           {
            "bin_start": 1.3,
            "bin_end": 1.6,
            "count": 0
           },
           {
            "bin_start": 1.6,
            "bin_end": 1.9,
            "count": 0
           },
           {
            "bin_start": 1.9,
            "bin_end": 2.2,
            "count": 0
           },
           {
            "bin_start": 2.2,
            "bin_end": 2.5,
            "count": 0
           },
           {
            "bin_start": 2.5,
            "bin_end": 2.8,
            "count": 0
           },
           {
            "bin_start": 2.8,
            "bin_end": 3.1,
            "count": 0
           },
           {
            "bin_start": 3.1,
            "bin_end": 3.4,
            "count": 0
           },
           {
            "bin_start": 3.4,
            "bin_end": 3.6999999999999997,
            "count": 0
           },
           {
            "bin_start": 3.6999999999999997,
            "bin_end": 4,
            "count": 1
           }
          ]
         }
        },
        {
         "name": "beds",
         "dtype": "float64",
         "stats": {
          "unique_count": 4,
          "nan_count": 0,
          "min": "1.0",
          "max": "6.0",
          "histogram": [
           {
            "bin_start": 1,
            "bin_end": 1.5,
            "count": 2
           },
           {
            "bin_start": 1.5,
            "bin_end": 2,
            "count": 0
           },
           {
            "bin_start": 2,
            "bin_end": 2.5,
            "count": 1
           },
           {
            "bin_start": 2.5,
            "bin_end": 3,
            "count": 0
           },
           {
            "bin_start": 3,
            "bin_end": 3.5,
            "count": 0
           },
           {
            "bin_start": 3.5,
            "bin_end": 4,
            "count": 0
           },
           {
            "bin_start": 4,
            "bin_end": 4.5,
            "count": 0
           },
           {
            "bin_start": 4.5,
            "bin_end": 5,
            "count": 0
           },
           {
            "bin_start": 5,
            "bin_end": 5.5,
            "count": 1
           },
           {
            "bin_start": 5.5,
            "bin_end": 6,
            "count": 1
           }
          ]
         }
        },
        {
         "name": "price",
         "dtype": "float64",
         "stats": {
          "unique_count": 4,
          "nan_count": 0,
          "min": "24.0",
          "max": "125.0",
          "histogram": [
           {
            "bin_start": 24,
            "bin_end": 34.1,
            "count": 1
           },
           {
            "bin_start": 34.1,
            "bin_end": 44.2,
            "count": 0
           },
           {
            "bin_start": 44.2,
            "bin_end": 54.3,
            "count": 0
           },
           {
            "bin_start": 54.3,
            "bin_end": 64.4,
            "count": 0
           },
           {
            "bin_start": 64.4,
            "bin_end": 74.5,
            "count": 1
           },
           {
            "bin_start": 74.5,
            "bin_end": 84.6,
            "count": 0
           },
           {
            "bin_start": 84.6,
            "bin_end": 94.7,
            "count": 0
           },
           {
            "bin_start": 94.7,
            "bin_end": 104.8,
            "count": 0
           },
           {
            "bin_start": 104.8,
            "bin_end": 114.89999999999999,
            "count": 2
           },
           {
            "bin_start": 114.89999999999999,
            "bin_end": 125,
            "count": 1
           }
          ]
         }
        },
        {
         "name": "review_scores_rating",
         "dtype": "float64",
         "stats": {
          "unique_count": 3,
          "nan_count": 0,
          "min": "78.0",
          "max": "96.0",
          "histogram": [
           {
            "bin_start": 78,
            "bin_end": 79.8,
            "count": 1
           },
           {
            "bin_start": 79.8,
            "bin_end": 81.6,
            "count": 0
           },
           {
            "bin_start": 81.6,
            "bin_end": 83.4,
            "count": 0
           },
           {
            "bin_start": 83.4,
            "bin_end": 85.2,
            "count": 0
           },
           {
            "bin_start": 85.2,
            "bin_end": 87,
            "count": 0
           },
           {
            "bin_start": 87,
            "bin_end": 88.8,
            "count": 0
           },
           {
            "bin_start": 88.8,
            "bin_end": 90.6,
            "count": 0
           },
           {
            "bin_start": 90.6,
            "bin_end": 92.4,
            "count": 0
           },
           {
            "bin_start": 92.4,
            "bin_end": 94.2,
            "count": 2
           },
           {
            "bin_start": 94.2,
            "bin_end": 96,
            "count": 2
           }
          ]
         }
        },
        {
         "name": "cancellation_policy_flexible",
         "dtype": "int64",
         "stats": {
          "unique_count": 2,
          "nan_count": 0,
          "min": "0",
          "max": "1",
          "histogram": [
           {
            "bin_start": 0,
            "bin_end": 0.1,
            "count": 4
           },
           {
            "bin_start": 0.1,
            "bin_end": 0.2,
            "count": 0
           },
           {
            "bin_start": 0.2,
            "bin_end": 0.30000000000000004,
            "count": 0
           },
           {
            "bin_start": 0.30000000000000004,
            "bin_end": 0.4,
            "count": 0
           },
           {
            "bin_start": 0.4,
            "bin_end": 0.5,
            "count": 0
           },
           {
            "bin_start": 0.5,
            "bin_end": 0.6000000000000001,
            "count": 0
           },
           {
            "bin_start": 0.6000000000000001,
            "bin_end": 0.7000000000000001,
            "count": 0
           },
           {
            "bin_start": 0.7000000000000001,
            "bin_end": 0.8,
            "count": 0
           },
           {
            "bin_start": 0.8,
            "bin_end": 0.9,
            "count": 0
           },
           {
            "bin_start": 0.9,
            "bin_end": 1,
            "count": 1
           }
          ]
         }
        },
        {
         "name": "cancellation_policy_moderate",
         "dtype": "int64",
         "stats": {
          "unique_count": 2,
          "nan_count": 0,
          "min": "0",
          "max": "1",
          "histogram": [
           {
            "bin_start": 0,
            "bin_end": 0.1,
            "count": 3
           },
           {
            "bin_start": 0.1,
            "bin_end": 0.2,
            "count": 0
           },
           {
            "bin_start": 0.2,
            "bin_end": 0.30000000000000004,
            "count": 0
           },
           {
            "bin_start": 0.30000000000000004,
            "bin_end": 0.4,
            "count": 0
           },
           {
            "bin_start": 0.4,
            "bin_end": 0.5,
            "count": 0
           },
           {
            "bin_start": 0.5,
            "bin_end": 0.6000000000000001,
            "count": 0
           },
           {
            "bin_start": 0.6000000000000001,
            "bin_end": 0.7000000000000001,
            "count": 0
           },
           {
            "bin_start": 0.7000000000000001,
            "bin_end": 0.8,
            "count": 0
           },
           {
            "bin_start": 0.8,
            "bin_end": 0.9,
            "count": 0
           },
           {
            "bin_start": 0.9,
            "bin_end": 1,
            "count": 2
           }
          ]
         }
        },
        {
         "name": "cancellation_policy_no_refunds",
         "dtype": "int64",
         "stats": {
          "unique_count": 1,
          "nan_count": 0,
          "min": "0",
          "max": "0",
          "histogram": [
           {
            "bin_start": -0.5,
            "bin_end": -0.4,
            "count": 0
           },
           {
            "bin_start": -0.4,
            "bin_end": -0.3,
            "count": 0
           },
           {
            "bin_start": -0.3,
            "bin_end": -0.19999999999999996,
            "count": 0
           },
           {
            "bin_start": -0.19999999999999996,
            "bin_end": -0.09999999999999998,
            "count": 0
           },
           {
            "bin_start": -0.09999999999999998,
            "bin_end": 0,
            "count": 0
           },
           {
            "bin_start": 0,
            "bin_end": 0.10000000000000009,
            "count": 5
           },
           {
            "bin_start": 0.10000000000000009,
            "bin_end": 0.20000000000000007,
            "count": 0
           },
           {
            "bin_start": 0.20000000000000007,
            "bin_end": 0.30000000000000004,
            "count": 0
           },
           {
            "bin_start": 0.30000000000000004,
            "bin_end": 0.4,
            "count": 0
           },
           {
            "bin_start": 0.4,
            "bin_end": 0.5,
            "count": 0
           }
          ]
         }
        },
        {
         "name": "cancellation_policy_strict",
         "dtype": "int64",
         "stats": {
          "unique_count": 2,
          "nan_count": 0,
          "min": "0",
          "max": "1",
          "histogram": [
           {
            "bin_start": 0,
            "bin_end": 0.1,
            "count": 3
           },
           {
            "bin_start": 0.1,
            "bin_end": 0.2,
            "count": 0
           },
           {
            "bin_start": 0.2,
            "bin_end": 0.30000000000000004,
            "count": 0
           },
           {
            "bin_start": 0.30000000000000004,
            "bin_end": 0.4,
            "count": 0
           },
           {
            "bin_start": 0.4,
            "bin_end": 0.5,
            "count": 0
           },
           {
            "bin_start": 0.5,
            "bin_end": 0.6000000000000001,
            "count": 0
           },
           {
            "bin_start": 0.6000000000000001,
            "bin_end": 0.7000000000000001,
            "count": 0
           },
           {
            "bin_start": 0.7000000000000001,
            "bin_end": 0.8,
            "count": 0
           },
           {
            "bin_start": 0.8,
            "bin_end": 0.9,
            "count": 0
           },
           {
            "bin_start": 0.9,
            "bin_end": 1,
            "count": 2
           }
          ]
         }
        },
        {
         "name": "cancellation_policy_super_strict_30",
         "dtype": "int64",
         "stats": {
          "unique_count": 1,
          "nan_count": 0,
          "min": "0",
          "max": "0",
          "histogram": [
           {
            "bin_start": -0.5,
            "bin_end": -0.4,
            "count": 0
           },
           {
            "bin_start": -0.4,
            "bin_end": -0.3,
            "count": 0
           },
           {
            "bin_start": -0.3,
            "bin_end": -0.19999999999999996,
            "count": 0
           },
           {
            "bin_start": -0.19999999999999996,
            "bin_end": -0.09999999999999998,
            "count": 0
           },
           {
            "bin_start": -0.09999999999999998,
            "bin_end": 0,
            "count": 0
           },
           {
            "bin_start": 0,
            "bin_end": 0.10000000000000009,
            "count": 5
           },
           {
            "bin_start": 0.10000000000000009,
            "bin_end": 0.20000000000000007,
            "count": 0
           },
           {
            "bin_start": 0.20000000000000007,
            "bin_end": 0.30000000000000004,
            "count": 0
           },
           {
            "bin_start": 0.30000000000000004,
            "bin_end": 0.4,
            "count": 0
           },
           {
            "bin_start": 0.4,
            "bin_end": 0.5,
            "count": 0
           }
          ]
         }
        },
        {
         "name": "cancellation_policy_super_strict_60",
         "dtype": "int64",
         "stats": {
          "unique_count": 1,
          "nan_count": 0,
          "min": "0",
          "max": "0",
          "histogram": [
           {
            "bin_start": -0.5,
            "bin_end": -0.4,
            "count": 0
           },
           {
            "bin_start": -0.4,
            "bin_end": -0.3,
            "count": 0
           },
           {
            "bin_start": -0.3,
            "bin_end": -0.19999999999999996,
            "count": 0
           },
           {
            "bin_start": -0.19999999999999996,
            "bin_end": -0.09999999999999998,
            "count": 0
           },
           {
            "bin_start": -0.09999999999999998,
            "bin_end": 0,
            "count": 0
           },
           {
            "bin_start": 0,
            "bin_end": 0.10000000000000009,
            "count": 5
           },
           {
            "bin_start": 0.10000000000000009,
            "bin_end": 0.20000000000000007,
            "count": 0
           },
           {
            "bin_start": 0.20000000000000007,
            "bin_end": 0.30000000000000004,
            "count": 0
           },
           {
            "bin_start": 0.30000000000000004,
            "bin_end": 0.4,
            "count": 0
           },
           {
            "bin_start": 0.4,
            "bin_end": 0.5,
            "count": 0
           }
          ]
         }
        },
        {
         "name": "instant_bookable_f",
         "dtype": "int64",
         "stats": {
          "unique_count": 2,
          "nan_count": 0,
          "min": "0",
          "max": "1",
          "histogram": [
           {
            "bin_start": 0,
            "bin_end": 0.1,
            "count": 1
           },
           {
            "bin_start": 0.1,
            "bin_end": 0.2,
            "count": 0
           },
           {
            "bin_start": 0.2,
            "bin_end": 0.30000000000000004,
            "count": 0
           },
           {
            "bin_start": 0.30000000000000004,
            "bin_end": 0.4,
            "count": 0
           },
           {
            "bin_start": 0.4,
            "bin_end": 0.5,
            "count": 0
           },
           {
            "bin_start": 0.5,
            "bin_end": 0.6000000000000001,
            "count": 0
           },
           {
            "bin_start": 0.6000000000000001,
            "bin_end": 0.7000000000000001,
            "count": 0
           },
           {
            "bin_start": 0.7000000000000001,
            "bin_end": 0.8,
            "count": 0
           },
           {
            "bin_start": 0.8,
            "bin_end": 0.9,
            "count": 0
           },
           {
            "bin_start": 0.9,
            "bin_end": 1,
            "count": 4
           }
          ]
         }
        },
        {
         "name": "instant_bookable_t",
         "dtype": "int64",
         "stats": {
          "unique_count": 2,
          "nan_count": 0,
          "min": "0",
          "max": "1",
          "histogram": [
           {
            "bin_start": 0,
            "bin_end": 0.1,
            "count": 4
           },
           {
            "bin_start": 0.1,
            "bin_end": 0.2,
            "count": 0
           },
           {
            "bin_start": 0.2,
            "bin_end": 0.30000000000000004,
            "count": 0
           },
           {
            "bin_start": 0.30000000000000004,
            "bin_end": 0.4,
            "count": 0
           },
           {
            "bin_start": 0.4,
            "bin_end": 0.5,
            "count": 0
           },
           {
            "bin_start": 0.5,
            "bin_end": 0.6000000000000001,
            "count": 0
           },
           {
            "bin_start": 0.6000000000000001,
            "bin_end": 0.7000000000000001,
            "count": 0
           },
           {
            "bin_start": 0.7000000000000001,
            "bin_end": 0.8,
            "count": 0
           },
           {
            "bin_start": 0.8,
            "bin_end": 0.9,
            "count": 0
           },
           {
            "bin_start": 0.9,
            "bin_end": 1,
            "count": 1
           }
          ]
         }
        },
        {
         "name": "amen_group_kitchen",
         "dtype": "int64",
         "stats": {
          "unique_count": 2,
          "nan_count": 0,
          "min": "0",
          "max": "1",
          "histogram": [
           {
            "bin_start": 0,
            "bin_end": 0.1,
            "count": 1
           },
           {
            "bin_start": 0.1,
            "bin_end": 0.2,
            "count": 0
           },
           {
            "bin_start": 0.2,
            "bin_end": 0.30000000000000004,
            "count": 0
           },
           {
            "bin_start": 0.30000000000000004,
            "bin_end": 0.4,
            "count": 0
           },
           {
            "bin_start": 0.4,
            "bin_end": 0.5,
            "count": 0
           },
           {
            "bin_start": 0.5,
            "bin_end": 0.6000000000000001,
            "count": 0
           },
           {
            "bin_start": 0.6000000000000001,
            "bin_end": 0.7000000000000001,
            "count": 0
           },
           {
            "bin_start": 0.7000000000000001,
            "bin_end": 0.8,
            "count": 0
           },
           {
            "bin_start": 0.8,
            "bin_end": 0.9,
            "count": 0
           },
           {
            "bin_start": 0.9,
            "bin_end": 1,
            "count": 4
           }
          ]
         }
        },
        {
         "name": "amen_group_household",
         "dtype": "int64",
         "stats": {
          "unique_count": 4,
          "nan_count": 0,
          "min": "1",
          "max": "4",
          "histogram": [
           {
            "bin_start": 1,
            "bin_end": 1.3,
            "count": 1
           },
           {
            "bin_start": 1.3,
            "bin_end": 1.6,
            "count": 0
           },
           {
            "bin_start": 1.6,
            "bin_end": 1.9,
            "count": 0
           },
           {
            "bin_start": 1.9,
            "bin_end": 2.2,
            "count": 2
           },
           {
            "bin_start": 2.2,
            "bin_end": 2.5,
            "count": 0
           },
           {
            "bin_start": 2.5,
            "bin_end": 2.8,
            "count": 0
           },
           {
            "bin_start": 2.8,
            "bin_end": 3.1,
            "count": 1
           },
           {
            "bin_start": 3.1,
            "bin_end": 3.4,
            "count": 0
           },
           {
            "bin_start": 3.4,
            "bin_end": 3.6999999999999997,
            "count": 0
           },
           {
            "bin_start": 3.6999999999999997,
            "bin_end": 4,
            "count": 1
           }
          ]
         }
        },
        {
         "name": "amenities_num",
         "dtype": "int64",
         "stats": {
          "unique_count": 5,
          "nan_count": 0,
          "min": "7",
          "max": "18",
          "histogram": [
           {
            "bin_start": 7,
            "bin_end": 8.1,
            "count": 1
           },
           {
            "bin_start": 8.1,
            "bin_end": 9.2,
            "count": 1
           },
           {
            "bin_start": 9.2,
            "bin_end": 10.3,
            "count": 0
           },
           {
            "bin_start": 10.3,
            "bin_end": 11.4,
            "count": 1
           },
           {
            "bin_start": 11.4,
            "bin_end": 12.5,
            "count": 0
           },
           {
            "bin_start": 12.5,
            "bin_end": 13.600000000000001,
            "count": 1
           },
           {
            "bin_start": 13.600000000000001,
            "bin_end": 14.700000000000001,
            "count": 0
           },
           {
            "bin_start": 14.700000000000001,
            "bin_end": 15.8,
            "count": 0
           },
           {
            "bin_start": 15.8,
            "bin_end": 16.9,
            "count": 0
           },
           {
            "bin_start": 16.9,
            "bin_end": 18,
            "count": 1
           }
          ]
         }
        },
        {
         "name": "id",
         "dtype": "int64",
         "stats": {
          "unique_count": 5,
          "nan_count": 0,
          "min": "156926",
          "max": "5927700",
          "histogram": [
           {
            "bin_start": 156926,
            "bin_end": 734003.4,
            "count": 2
           },
           {
            "bin_start": 734003.4,
            "bin_end": 1311080.8,
            "count": 0
           },
           {
            "bin_start": 1311080.8,
            "bin_end": 1888158.2000000002,
            "count": 0
           },
           {
            "bin_start": 1888158.2000000002,
            "bin_end": 2465235.6,
            "count": 0
           },
           {
            "bin_start": 2465235.6,
            "bin_end": 3042313,
            "count": 1
           },
           {
            "bin_start": 3042313,
            "bin_end": 3619390.4000000004,
            "count": 0
           },
           {
            "bin_start": 3619390.4000000004,
            "bin_end": 4196467.800000001,
            "count": 1
           },
           {
            "bin_start": 4196467.800000001,
            "bin_end": 4773545.2,
            "count": 0
           },
           {
            "bin_start": 4773545.2,
            "bin_end": 5350622.600000001,
            "count": 0
           },
           {
            "bin_start": 5350622.600000001,
            "bin_end": 5927700,
            "count": 1
           }
          ]
         }
        },
        {
         "name": "_deepnote_index_column",
         "dtype": "int64"
        }
       ],
       "rows_top": [
        {
         "accommodates": 2,
         "availability_30": 0,
         "bathrooms": 1,
         "bedrooms": 1,
         "beds": 1,
         "price": 105,
         "review_scores_rating": 96,
         "cancellation_policy_flexible": 0,
         "cancellation_policy_moderate": 1,
         "cancellation_policy_no_refunds": 0,
         "cancellation_policy_strict": 0,
         "cancellation_policy_super_strict_30": 0,
         "cancellation_policy_super_strict_60": 0,
         "instant_bookable_f": 1,
         "instant_bookable_t": 0,
         "amen_group_kitchen": 1,
         "amen_group_household": 3,
         "amenities_num": 9,
         "id": 665257,
         "_deepnote_index_column": 0
        },
        {
         "accommodates": 4,
         "availability_30": 17,
         "bathrooms": 1,
         "bedrooms": 1,
         "beds": 2,
         "price": 125,
         "review_scores_rating": 96,
         "cancellation_policy_flexible": 0,
         "cancellation_policy_moderate": 0,
         "cancellation_policy_no_refunds": 0,
         "cancellation_policy_strict": 1,
         "cancellation_policy_super_strict_30": 0,
         "cancellation_policy_super_strict_60": 0,
         "instant_bookable_f": 1,
         "instant_bookable_t": 0,
         "amen_group_kitchen": 1,
         "amen_group_household": 2,
         "amenities_num": 11,
         "id": 2746729,
         "_deepnote_index_column": 1
        },
        {
         "accommodates": 6,
         "availability_30": 25,
         "bathrooms": 2.5,
         "bedrooms": 1,
         "beds": 6,
         "price": 24,
         "review_scores_rating": 93,
         "cancellation_policy_flexible": 0,
         "cancellation_policy_moderate": 1,
         "cancellation_policy_no_refunds": 0,
         "cancellation_policy_strict": 0,
         "cancellation_policy_super_strict_30": 0,
         "cancellation_policy_super_strict_60": 0,
         "instant_bookable_f": 1,
         "instant_bookable_t": 0,
         "amen_group_kitchen": 0,
         "amen_group_household": 1,
         "amenities_num": 7,
         "id": 156926,
         "_deepnote_index_column": 2
        },
        {
         "accommodates": 10,
         "availability_30": 17,
         "bathrooms": 2.5,
         "bedrooms": 4,
         "beds": 5,
         "price": 105,
         "review_scores_rating": 78,
         "cancellation_policy_flexible": 0,
         "cancellation_policy_moderate": 0,
         "cancellation_policy_no_refunds": 0,
         "cancellation_policy_strict": 1,
         "cancellation_policy_super_strict_30": 0,
         "cancellation_policy_super_strict_60": 0,
         "instant_bookable_f": 1,
         "instant_bookable_t": 0,
         "amen_group_kitchen": 1,
         "amen_group_household": 2,
         "amenities_num": 18,
         "id": 3767793,
         "_deepnote_index_column": 3
        },
        {
         "accommodates": 2,
         "availability_30": 16,
         "bathrooms": 1,
         "bedrooms": 1,
         "beds": 1,
         "price": 65,
         "review_scores_rating": 93,
         "cancellation_policy_flexible": 1,
         "cancellation_policy_moderate": 0,
         "cancellation_policy_no_refunds": 0,
         "cancellation_policy_strict": 0,
         "cancellation_policy_super_strict_30": 0,
         "cancellation_policy_super_strict_60": 0,
         "instant_bookable_f": 0,
         "instant_bookable_t": 1,
         "amen_group_kitchen": 1,
         "amen_group_household": 4,
         "amenities_num": 13,
         "id": 5927700,
         "_deepnote_index_column": 4
        }
       ],
       "rows_bottom": null
      },
      "text/plain": "   accommodates  availability_30  bathrooms  bedrooms  beds  price  \\\n0           2.0                0        1.0       1.0   1.0  105.0   \n1           4.0               17        1.0       1.0   2.0  125.0   \n2           6.0               25        2.5       1.0   6.0   24.0   \n3          10.0               17        2.5       4.0   5.0  105.0   \n4           2.0               16        1.0       1.0   1.0   65.0   \n\n   review_scores_rating  cancellation_policy_flexible  \\\n0                  96.0                             0   \n1                  96.0                             0   \n2                  93.0                             0   \n3                  78.0                             0   \n4                  93.0                             1   \n\n   cancellation_policy_moderate  cancellation_policy_no_refunds  \\\n0                             1                               0   \n1                             0                               0   \n2                             1                               0   \n3                             0                               0   \n4                             0                               0   \n\n   cancellation_policy_strict  cancellation_policy_super_strict_30  \\\n0                           0                                    0   \n1                           1                                    0   \n2                           0                                    0   \n3                           1                                    0   \n4                           0                                    0   \n\n   cancellation_policy_super_strict_60  instant_bookable_f  \\\n0                                    0                   1   \n1                                    0                   1   \n2                                    0                   1   \n3                                    0                   1   \n4                                    0                   0   \n\n   instant_bookable_t  amen_group_kitchen  amen_group_household  \\\n0                   0                   1                     3   \n1                   0                   1                     2   \n2                   0                   0                     1   \n3                   0                   1                     2   \n4                   1                   1                     4   \n\n   amenities_num       id  \n0              9   665257  \n1             11  2746729  \n2              7   156926  \n3             18  3767793  \n4             13  5927700  ",
      "text/html": "<div>\n<style scoped>\n    .dataframe tbody tr th:only-of-type {\n        vertical-align: middle;\n    }\n\n    .dataframe tbody tr th {\n        vertical-align: top;\n    }\n\n    .dataframe thead th {\n        text-align: right;\n    }\n</style>\n<table border=\"1\" class=\"dataframe\">\n  <thead>\n    <tr style=\"text-align: right;\">\n      <th></th>\n      <th>accommodates</th>\n      <th>availability_30</th>\n      <th>bathrooms</th>\n      <th>bedrooms</th>\n      <th>beds</th>\n      <th>price</th>\n      <th>review_scores_rating</th>\n      <th>cancellation_policy_flexible</th>\n      <th>cancellation_policy_moderate</th>\n      <th>cancellation_policy_no_refunds</th>\n      <th>cancellation_policy_strict</th>\n      <th>cancellation_policy_super_strict_30</th>\n      <th>cancellation_policy_super_strict_60</th>\n      <th>instant_bookable_f</th>\n      <th>instant_bookable_t</th>\n      <th>amen_group_kitchen</th>\n      <th>amen_group_household</th>\n      <th>amenities_num</th>\n      <th>id</th>\n    </tr>\n  </thead>\n  <tbody>\n    <tr>\n      <th>0</th>\n      <td>2.0</td>\n      <td>0</td>\n      <td>1.0</td>\n      <td>1.0</td>\n      <td>1.0</td>\n      <td>105.0</td>\n      <td>96.0</td>\n      <td>0</td>\n      <td>1</td>\n      <td>0</td>\n      <td>0</td>\n      <td>0</td>\n      <td>0</td>\n      <td>1</td>\n      <td>0</td>\n      <td>1</td>\n      <td>3</td>\n      <td>9</td>\n      <td>665257</td>\n    </tr>\n    <tr>\n      <th>1</th>\n      <td>4.0</td>\n      <td>17</td>\n      <td>1.0</td>\n      <td>1.0</td>\n      <td>2.0</td>\n      <td>125.0</td>\n      <td>96.0</td>\n      <td>0</td>\n      <td>0</td>\n      <td>0</td>\n      <td>1</td>\n      <td>0</td>\n      <td>0</td>\n      <td>1</td>\n      <td>0</td>\n      <td>1</td>\n      <td>2</td>\n      <td>11</td>\n      <td>2746729</td>\n    </tr>\n    <tr>\n      <th>2</th>\n      <td>6.0</td>\n      <td>25</td>\n      <td>2.5</td>\n      <td>1.0</td>\n      <td>6.0</td>\n      <td>24.0</td>\n      <td>93.0</td>\n      <td>0</td>\n      <td>1</td>\n      <td>0</td>\n      <td>0</td>\n      <td>0</td>\n      <td>0</td>\n      <td>1</td>\n      <td>0</td>\n      <td>0</td>\n      <td>1</td>\n      <td>7</td>\n      <td>156926</td>\n    </tr>\n    <tr>\n      <th>3</th>\n      <td>10.0</td>\n      <td>17</td>\n      <td>2.5</td>\n      <td>4.0</td>\n      <td>5.0</td>\n      <td>105.0</td>\n      <td>78.0</td>\n      <td>0</td>\n      <td>0</td>\n      <td>0</td>\n      <td>1</td>\n      <td>0</td>\n      <td>0</td>\n      <td>1</td>\n      <td>0</td>\n      <td>1</td>\n      <td>2</td>\n      <td>18</td>\n      <td>3767793</td>\n    </tr>\n    <tr>\n      <th>4</th>\n      <td>2.0</td>\n      <td>16</td>\n      <td>1.0</td>\n      <td>1.0</td>\n      <td>1.0</td>\n      <td>65.0</td>\n      <td>93.0</td>\n      <td>1</td>\n      <td>0</td>\n      <td>0</td>\n      <td>0</td>\n      <td>0</td>\n      <td>0</td>\n      <td>0</td>\n      <td>1</td>\n      <td>1</td>\n      <td>4</td>\n      <td>13</td>\n      <td>5927700</td>\n    </tr>\n  </tbody>\n</table>\n</div>"
     },
     "metadata": {}
    }
   ]
  },
  {
   "cell_type": "code",
   "metadata": {
    "tags": [],
    "cell_id": "00047-6032eb69-51ab-4551-934d-083bb600377b",
    "deepnote_to_be_reexecuted": false,
    "source_hash": "f2d3dae5",
    "execution_start": 1626628544728,
    "execution_millis": 0,
    "deepnote_cell_type": "code"
   },
   "source": "listings_final = listings_final.drop(columns=['review_scores_rating'])",
   "execution_count": null,
   "outputs": []
  },
  {
   "cell_type": "code",
   "metadata": {
    "tags": [],
    "cell_id": "00048-81a3f570-acfc-4fb9-ae47-18efd0a9a2a5",
    "deepnote_to_be_reexecuted": false,
    "source_hash": "afde12f6",
    "execution_start": 1627422537024,
    "execution_millis": 43,
    "deepnote_cell_type": "code"
   },
   "source": "feedback_score = pd.read_csv(\"/work/feedback_score.csv\")\nfeedback_score.head()",
   "execution_count": null,
   "outputs": [
    {
     "output_type": "execute_result",
     "execution_count": 45,
     "data": {
      "application/vnd.deepnote.dataframe.v2+json": {
       "row_count": 5,
       "column_count": 3,
       "columns": [
        {
         "name": "Unnamed: 0",
         "dtype": "int64",
         "stats": {
          "unique_count": 5,
          "nan_count": 0,
          "min": "0",
          "max": "4",
          "histogram": [
           {
            "bin_start": 0,
            "bin_end": 0.4,
            "count": 1
           },
           {
            "bin_start": 0.4,
            "bin_end": 0.8,
            "count": 0
           },
           {
            "bin_start": 0.8,
            "bin_end": 1.2000000000000002,
            "count": 1
           },
           {
            "bin_start": 1.2000000000000002,
            "bin_end": 1.6,
            "count": 0
           },
           {
            "bin_start": 1.6,
            "bin_end": 2,
            "count": 0
           },
           {
            "bin_start": 2,
            "bin_end": 2.4000000000000004,
            "count": 1
           },
           {
            "bin_start": 2.4000000000000004,
            "bin_end": 2.8000000000000003,
            "count": 0
           },
           {
            "bin_start": 2.8000000000000003,
            "bin_end": 3.2,
            "count": 1
           },
           {
            "bin_start": 3.2,
            "bin_end": 3.6,
            "count": 0
           },
           {
            "bin_start": 3.6,
            "bin_end": 4,
            "count": 1
           }
          ]
         }
        },
        {
         "name": "listing_id",
         "dtype": "int64",
         "stats": {
          "unique_count": 5,
          "nan_count": 0,
          "min": "1001303",
          "max": "10071238",
          "histogram": [
           {
            "bin_start": 1001303,
            "bin_end": 1908296.5,
            "count": 1
           },
           {
            "bin_start": 1908296.5,
            "bin_end": 2815290,
            "count": 0
           },
           {
            "bin_start": 2815290,
            "bin_end": 3722283.5,
            "count": 0
           },
           {
            "bin_start": 3722283.5,
            "bin_end": 4629277,
            "count": 0
           },
           {
            "bin_start": 4629277,
            "bin_end": 5536270.5,
            "count": 0
           },
           {
            "bin_start": 5536270.5,
            "bin_end": 6443264,
            "count": 0
           },
           {
            "bin_start": 6443264,
            "bin_end": 7350257.5,
            "count": 0
           },
           {
            "bin_start": 7350257.5,
            "bin_end": 8257251,
            "count": 0
           },
           {
            "bin_start": 8257251,
            "bin_end": 9164244.5,
            "count": 0
           },
           {
            "bin_start": 9164244.5,
            "bin_end": 10071238,
            "count": 4
           }
          ]
         }
        },
        {
         "name": "prob_positive_feedback",
         "dtype": "float64",
         "stats": {
          "unique_count": 4,
          "nan_count": 1,
          "min": "0.7916666666666666",
          "max": "0.8571428571428571",
          "histogram": [
           {
            "bin_start": 0.7916666666666666,
            "bin_end": 0.7982142857142857,
            "count": 1
           },
           {
            "bin_start": 0.7982142857142857,
            "bin_end": 0.8047619047619047,
            "count": 0
           },
           {
            "bin_start": 0.8047619047619047,
            "bin_end": 0.8113095238095238,
            "count": 0
           },
           {
            "bin_start": 0.8113095238095238,
            "bin_end": 0.8178571428571428,
            "count": 0
           },
           {
            "bin_start": 0.8178571428571428,
            "bin_end": 0.8244047619047619,
            "count": 0
           },
           {
            "bin_start": 0.8244047619047619,
            "bin_end": 0.8309523809523809,
            "count": 0
           },
           {
            "bin_start": 0.8309523809523809,
            "bin_end": 0.8374999999999999,
            "count": 1
           },
           {
            "bin_start": 0.8374999999999999,
            "bin_end": 0.844047619047619,
            "count": 0
           },
           {
            "bin_start": 0.844047619047619,
            "bin_end": 0.8505952380952381,
            "count": 0
           },
           {
            "bin_start": 0.8505952380952381,
            "bin_end": 0.8571428571428571,
            "count": 2
           }
          ]
         }
        },
        {
         "name": "_deepnote_index_column",
         "dtype": "int64"
        }
       ],
       "rows_top": [
        {
         "Unnamed: 0": 0,
         "listing_id": 1001303,
         "prob_positive_feedback": 0.8354430379746836,
         "_deepnote_index_column": 0
        },
        {
         "Unnamed: 0": 1,
         "listing_id": 10062315,
         "prob_positive_feedback": "nan",
         "_deepnote_index_column": 1
        },
        {
         "Unnamed: 0": 2,
         "listing_id": 10069202,
         "prob_positive_feedback": 0.85667215815486,
         "_deepnote_index_column": 2
        },
        {
         "Unnamed: 0": 3,
         "listing_id": 10069609,
         "prob_positive_feedback": 0.8571428571428571,
         "_deepnote_index_column": 3
        },
        {
         "Unnamed: 0": 4,
         "listing_id": 10071238,
         "prob_positive_feedback": 0.7916666666666666,
         "_deepnote_index_column": 4
        }
       ],
       "rows_bottom": null
      },
      "text/plain": "   Unnamed: 0  listing_id  prob_positive_feedback\n0           0     1001303                0.835443\n1           1    10062315                     NaN\n2           2    10069202                0.856672\n3           3    10069609                0.857143\n4           4    10071238                0.791667",
      "text/html": "<div>\n<style scoped>\n    .dataframe tbody tr th:only-of-type {\n        vertical-align: middle;\n    }\n\n    .dataframe tbody tr th {\n        vertical-align: top;\n    }\n\n    .dataframe thead th {\n        text-align: right;\n    }\n</style>\n<table border=\"1\" class=\"dataframe\">\n  <thead>\n    <tr style=\"text-align: right;\">\n      <th></th>\n      <th>Unnamed: 0</th>\n      <th>listing_id</th>\n      <th>prob_positive_feedback</th>\n    </tr>\n  </thead>\n  <tbody>\n    <tr>\n      <th>0</th>\n      <td>0</td>\n      <td>1001303</td>\n      <td>0.835443</td>\n    </tr>\n    <tr>\n      <th>1</th>\n      <td>1</td>\n      <td>10062315</td>\n      <td>NaN</td>\n    </tr>\n    <tr>\n      <th>2</th>\n      <td>2</td>\n      <td>10069202</td>\n      <td>0.856672</td>\n    </tr>\n    <tr>\n      <th>3</th>\n      <td>3</td>\n      <td>10069609</td>\n      <td>0.857143</td>\n    </tr>\n    <tr>\n      <th>4</th>\n      <td>4</td>\n      <td>10071238</td>\n      <td>0.791667</td>\n    </tr>\n  </tbody>\n</table>\n</div>"
     },
     "metadata": {}
    }
   ]
  },
  {
   "cell_type": "code",
   "metadata": {
    "tags": [],
    "cell_id": "00049-2d4e01f0-131f-42e1-87d5-605a657fef7c",
    "deepnote_to_be_reexecuted": false,
    "source_hash": "5f43c68c",
    "execution_start": 1627422540422,
    "execution_millis": 0,
    "deepnote_cell_type": "code"
   },
   "source": "feedback_score = feedback_score.drop(columns=['Unnamed: 0'])",
   "execution_count": null,
   "outputs": []
  },
  {
   "cell_type": "code",
   "metadata": {
    "tags": [],
    "cell_id": "00050-f2dbc011-9790-45ec-bdd0-15c40cc1acc2",
    "deepnote_to_be_reexecuted": false,
    "source_hash": "ed6c544d",
    "execution_start": 1626628766871,
    "execution_millis": 117,
    "deepnote_cell_type": "code"
   },
   "source": "listings_final = pd.merge(listings_final, feedback_score, on='id',how='left')\nlistings_final.head()",
   "execution_count": null,
   "outputs": [
    {
     "output_type": "execute_result",
     "execution_count": 58,
     "data": {
      "application/vnd.deepnote.dataframe.v2+json": {
       "row_count": 5,
       "column_count": 20,
       "columns": [
        {
         "name": "accommodates",
         "dtype": "float64",
         "stats": {
          "unique_count": 4,
          "nan_count": 0,
          "min": "2.0",
          "max": "10.0",
          "histogram": [
           {
            "bin_start": 2,
            "bin_end": 2.8,
            "count": 2
           },
           {
            "bin_start": 2.8,
            "bin_end": 3.6,
            "count": 0
           },
           {
            "bin_start": 3.6,
            "bin_end": 4.4,
            "count": 1
           },
           {
            "bin_start": 4.4,
            "bin_end": 5.2,
            "count": 0
           },
           {
            "bin_start": 5.2,
            "bin_end": 6,
            "count": 0
           },
           {
            "bin_start": 6,
            "bin_end": 6.800000000000001,
            "count": 1
           },
           {
            "bin_start": 6.800000000000001,
            "bin_end": 7.6000000000000005,
            "count": 0
           },
           {
            "bin_start": 7.6000000000000005,
            "bin_end": 8.4,
            "count": 0
           },
           {
            "bin_start": 8.4,
            "bin_end": 9.2,
            "count": 0
           },
           {
            "bin_start": 9.2,
            "bin_end": 10,
            "count": 1
           }
          ]
         }
        },
        {
         "name": "availability_30",
         "dtype": "int64",
         "stats": {
          "unique_count": 4,
          "nan_count": 0,
          "min": "0",
          "max": "25",
          "histogram": [
           {
            "bin_start": 0,
            "bin_end": 2.5,
            "count": 1
           },
           {
            "bin_start": 2.5,
            "bin_end": 5,
            "count": 0
           },
           {
            "bin_start": 5,
            "bin_end": 7.5,
            "count": 0
           },
           {
            "bin_start": 7.5,
            "bin_end": 10,
            "count": 0
           },
           {
            "bin_start": 10,
            "bin_end": 12.5,
            "count": 0
           },
           {
            "bin_start": 12.5,
            "bin_end": 15,
            "count": 0
           },
           {
            "bin_start": 15,
            "bin_end": 17.5,
            "count": 3
           },
           {
            "bin_start": 17.5,
            "bin_end": 20,
            "count": 0
           },
           {
            "bin_start": 20,
            "bin_end": 22.5,
            "count": 0
           },
           {
            "bin_start": 22.5,
            "bin_end": 25,
            "count": 1
           }
          ]
         }
        },
        {
         "name": "bathrooms",
         "dtype": "float64",
         "stats": {
          "unique_count": 2,
          "nan_count": 0,
          "min": "1.0",
          "max": "2.5",
          "histogram": [
           {
            "bin_start": 1,
            "bin_end": 1.15,
            "count": 3
           },
           {
            "bin_start": 1.15,
            "bin_end": 1.3,
            "count": 0
           },
           {
            "bin_start": 1.3,
            "bin_end": 1.45,
            "count": 0
           },
           {
            "bin_start": 1.45,
            "bin_end": 1.6,
            "count": 0
           },
           {
            "bin_start": 1.6,
            "bin_end": 1.75,
            "count": 0
           },
           {
            "bin_start": 1.75,
            "bin_end": 1.9,
            "count": 0
           },
           {
            "bin_start": 1.9,
            "bin_end": 2.05,
            "count": 0
           },
           {
            "bin_start": 2.05,
            "bin_end": 2.2,
            "count": 0
           },
           {
            "bin_start": 2.2,
            "bin_end": 2.3499999999999996,
            "count": 0
           },
           {
            "bin_start": 2.3499999999999996,
            "bin_end": 2.5,
            "count": 2
           }
          ]
         }
        },
        {
         "name": "bedrooms",
         "dtype": "float64",
         "stats": {
          "unique_count": 2,
          "nan_count": 0,
          "min": "1.0",
          "max": "4.0",
          "histogram": [
           {
            "bin_start": 1,
            "bin_end": 1.3,
            "count": 4
           },
           {
            "bin_start": 1.3,
            "bin_end": 1.6,
            "count": 0
           },
           {
            "bin_start": 1.6,
            "bin_end": 1.9,
            "count": 0
           },
           {
            "bin_start": 1.9,
            "bin_end": 2.2,
            "count": 0
           },
           {
            "bin_start": 2.2,
            "bin_end": 2.5,
            "count": 0
           },
           {
            "bin_start": 2.5,
            "bin_end": 2.8,
            "count": 0
           },
           {
            "bin_start": 2.8,
            "bin_end": 3.1,
            "count": 0
           },
           {
            "bin_start": 3.1,
            "bin_end": 3.4,
            "count": 0
           },
           {
            "bin_start": 3.4,
            "bin_end": 3.6999999999999997,
            "count": 0
           },
           {
            "bin_start": 3.6999999999999997,
            "bin_end": 4,
            "count": 1
           }
          ]
         }
        },
        {
         "name": "beds",
         "dtype": "float64",
         "stats": {
          "unique_count": 4,
          "nan_count": 0,
          "min": "1.0",
          "max": "6.0",
          "histogram": [
           {
            "bin_start": 1,
            "bin_end": 1.5,
            "count": 2
           },
           {
            "bin_start": 1.5,
            "bin_end": 2,
            "count": 0
           },
           {
            "bin_start": 2,
            "bin_end": 2.5,
            "count": 1
           },
           {
            "bin_start": 2.5,
            "bin_end": 3,
            "count": 0
           },
           {
            "bin_start": 3,
            "bin_end": 3.5,
            "count": 0
           },
           {
            "bin_start": 3.5,
            "bin_end": 4,
            "count": 0
           },
           {
            "bin_start": 4,
            "bin_end": 4.5,
            "count": 0
           },
           {
            "bin_start": 4.5,
            "bin_end": 5,
            "count": 0
           },
           {
            "bin_start": 5,
            "bin_end": 5.5,
            "count": 1
           },
           {
            "bin_start": 5.5,
            "bin_end": 6,
            "count": 1
           }
          ]
         }
        },
        {
         "name": "price",
         "dtype": "float64",
         "stats": {
          "unique_count": 4,
          "nan_count": 0,
          "min": "24.0",
          "max": "125.0",
          "histogram": [
           {
            "bin_start": 24,
            "bin_end": 34.1,
            "count": 1
           },
           {
            "bin_start": 34.1,
            "bin_end": 44.2,
            "count": 0
           },
           {
            "bin_start": 44.2,
            "bin_end": 54.3,
            "count": 0
           },
           {
            "bin_start": 54.3,
            "bin_end": 64.4,
            "count": 0
           },
           {
            "bin_start": 64.4,
            "bin_end": 74.5,
            "count": 1
           },
           {
            "bin_start": 74.5,
            "bin_end": 84.6,
            "count": 0
           },
           {
            "bin_start": 84.6,
            "bin_end": 94.7,
            "count": 0
           },
           {
            "bin_start": 94.7,
            "bin_end": 104.8,
            "count": 0
           },
           {
            "bin_start": 104.8,
            "bin_end": 114.89999999999999,
            "count": 2
           },
           {
            "bin_start": 114.89999999999999,
            "bin_end": 125,
            "count": 1
           }
          ]
         }
        },
        {
         "name": "cancellation_policy_flexible",
         "dtype": "int64",
         "stats": {
          "unique_count": 2,
          "nan_count": 0,
          "min": "0",
          "max": "1",
          "histogram": [
           {
            "bin_start": 0,
            "bin_end": 0.1,
            "count": 4
           },
           {
            "bin_start": 0.1,
            "bin_end": 0.2,
            "count": 0
           },
           {
            "bin_start": 0.2,
            "bin_end": 0.30000000000000004,
            "count": 0
           },
           {
            "bin_start": 0.30000000000000004,
            "bin_end": 0.4,
            "count": 0
           },
           {
            "bin_start": 0.4,
            "bin_end": 0.5,
            "count": 0
           },
           {
            "bin_start": 0.5,
            "bin_end": 0.6000000000000001,
            "count": 0
           },
           {
            "bin_start": 0.6000000000000001,
            "bin_end": 0.7000000000000001,
            "count": 0
           },
           {
            "bin_start": 0.7000000000000001,
            "bin_end": 0.8,
            "count": 0
           },
           {
            "bin_start": 0.8,
            "bin_end": 0.9,
            "count": 0
           },
           {
            "bin_start": 0.9,
            "bin_end": 1,
            "count": 1
           }
          ]
         }
        },
        {
         "name": "cancellation_policy_moderate",
         "dtype": "int64",
         "stats": {
          "unique_count": 2,
          "nan_count": 0,
          "min": "0",
          "max": "1",
          "histogram": [
           {
            "bin_start": 0,
            "bin_end": 0.1,
            "count": 3
           },
           {
            "bin_start": 0.1,
            "bin_end": 0.2,
            "count": 0
           },
           {
            "bin_start": 0.2,
            "bin_end": 0.30000000000000004,
            "count": 0
           },
           {
            "bin_start": 0.30000000000000004,
            "bin_end": 0.4,
            "count": 0
           },
           {
            "bin_start": 0.4,
            "bin_end": 0.5,
            "count": 0
           },
           {
            "bin_start": 0.5,
            "bin_end": 0.6000000000000001,
            "count": 0
           },
           {
            "bin_start": 0.6000000000000001,
            "bin_end": 0.7000000000000001,
            "count": 0
           },
           {
            "bin_start": 0.7000000000000001,
            "bin_end": 0.8,
            "count": 0
           },
           {
            "bin_start": 0.8,
            "bin_end": 0.9,
            "count": 0
           },
           {
            "bin_start": 0.9,
            "bin_end": 1,
            "count": 2
           }
          ]
         }
        },
        {
         "name": "cancellation_policy_no_refunds",
         "dtype": "int64",
         "stats": {
          "unique_count": 1,
          "nan_count": 0,
          "min": "0",
          "max": "0",
          "histogram": [
           {
            "bin_start": -0.5,
            "bin_end": -0.4,
            "count": 0
           },
           {
            "bin_start": -0.4,
            "bin_end": -0.3,
            "count": 0
           },
           {
            "bin_start": -0.3,
            "bin_end": -0.19999999999999996,
            "count": 0
           },
           {
            "bin_start": -0.19999999999999996,
            "bin_end": -0.09999999999999998,
            "count": 0
           },
           {
            "bin_start": -0.09999999999999998,
            "bin_end": 0,
            "count": 0
           },
           {
            "bin_start": 0,
            "bin_end": 0.10000000000000009,
            "count": 5
           },
           {
            "bin_start": 0.10000000000000009,
            "bin_end": 0.20000000000000007,
            "count": 0
           },
           {
            "bin_start": 0.20000000000000007,
            "bin_end": 0.30000000000000004,
            "count": 0
           },
           {
            "bin_start": 0.30000000000000004,
            "bin_end": 0.4,
            "count": 0
           },
           {
            "bin_start": 0.4,
            "bin_end": 0.5,
            "count": 0
           }
          ]
         }
        },
        {
         "name": "cancellation_policy_strict",
         "dtype": "int64",
         "stats": {
          "unique_count": 2,
          "nan_count": 0,
          "min": "0",
          "max": "1",
          "histogram": [
           {
            "bin_start": 0,
            "bin_end": 0.1,
            "count": 3
           },
           {
            "bin_start": 0.1,
            "bin_end": 0.2,
            "count": 0
           },
           {
            "bin_start": 0.2,
            "bin_end": 0.30000000000000004,
            "count": 0
           },
           {
            "bin_start": 0.30000000000000004,
            "bin_end": 0.4,
            "count": 0
           },
           {
            "bin_start": 0.4,
            "bin_end": 0.5,
            "count": 0
           },
           {
            "bin_start": 0.5,
            "bin_end": 0.6000000000000001,
            "count": 0
           },
           {
            "bin_start": 0.6000000000000001,
            "bin_end": 0.7000000000000001,
            "count": 0
           },
           {
            "bin_start": 0.7000000000000001,
            "bin_end": 0.8,
            "count": 0
           },
           {
            "bin_start": 0.8,
            "bin_end": 0.9,
            "count": 0
           },
           {
            "bin_start": 0.9,
            "bin_end": 1,
            "count": 2
           }
          ]
         }
        },
        {
         "name": "cancellation_policy_super_strict_30",
         "dtype": "int64",
         "stats": {
          "unique_count": 1,
          "nan_count": 0,
          "min": "0",
          "max": "0",
          "histogram": [
           {
            "bin_start": -0.5,
            "bin_end": -0.4,
            "count": 0
           },
           {
            "bin_start": -0.4,
            "bin_end": -0.3,
            "count": 0
           },
           {
            "bin_start": -0.3,
            "bin_end": -0.19999999999999996,
            "count": 0
           },
           {
            "bin_start": -0.19999999999999996,
            "bin_end": -0.09999999999999998,
            "count": 0
           },
           {
            "bin_start": -0.09999999999999998,
            "bin_end": 0,
            "count": 0
           },
           {
            "bin_start": 0,
            "bin_end": 0.10000000000000009,
            "count": 5
           },
           {
            "bin_start": 0.10000000000000009,
            "bin_end": 0.20000000000000007,
            "count": 0
           },
           {
            "bin_start": 0.20000000000000007,
            "bin_end": 0.30000000000000004,
            "count": 0
           },
           {
            "bin_start": 0.30000000000000004,
            "bin_end": 0.4,
            "count": 0
           },
           {
            "bin_start": 0.4,
            "bin_end": 0.5,
            "count": 0
           }
          ]
         }
        },
        {
         "name": "cancellation_policy_super_strict_60",
         "dtype": "int64",
         "stats": {
          "unique_count": 1,
          "nan_count": 0,
          "min": "0",
          "max": "0",
          "histogram": [
           {
            "bin_start": -0.5,
            "bin_end": -0.4,
            "count": 0
           },
           {
            "bin_start": -0.4,
            "bin_end": -0.3,
            "count": 0
           },
           {
            "bin_start": -0.3,
            "bin_end": -0.19999999999999996,
            "count": 0
           },
           {
            "bin_start": -0.19999999999999996,
            "bin_end": -0.09999999999999998,
            "count": 0
           },
           {
            "bin_start": -0.09999999999999998,
            "bin_end": 0,
            "count": 0
           },
           {
            "bin_start": 0,
            "bin_end": 0.10000000000000009,
            "count": 5
           },
           {
            "bin_start": 0.10000000000000009,
            "bin_end": 0.20000000000000007,
            "count": 0
           },
           {
            "bin_start": 0.20000000000000007,
            "bin_end": 0.30000000000000004,
            "count": 0
           },
           {
            "bin_start": 0.30000000000000004,
            "bin_end": 0.4,
            "count": 0
           },
           {
            "bin_start": 0.4,
            "bin_end": 0.5,
            "count": 0
           }
          ]
         }
        },
        {
         "name": "instant_bookable_f",
         "dtype": "int64",
         "stats": {
          "unique_count": 2,
          "nan_count": 0,
          "min": "0",
          "max": "1",
          "histogram": [
           {
            "bin_start": 0,
            "bin_end": 0.1,
            "count": 1
           },
           {
            "bin_start": 0.1,
            "bin_end": 0.2,
            "count": 0
           },
           {
            "bin_start": 0.2,
            "bin_end": 0.30000000000000004,
            "count": 0
           },
           {
            "bin_start": 0.30000000000000004,
            "bin_end": 0.4,
            "count": 0
           },
           {
            "bin_start": 0.4,
            "bin_end": 0.5,
            "count": 0
           },
           {
            "bin_start": 0.5,
            "bin_end": 0.6000000000000001,
            "count": 0
           },
           {
            "bin_start": 0.6000000000000001,
            "bin_end": 0.7000000000000001,
            "count": 0
           },
           {
            "bin_start": 0.7000000000000001,
            "bin_end": 0.8,
            "count": 0
           },
           {
            "bin_start": 0.8,
            "bin_end": 0.9,
            "count": 0
           },
           {
            "bin_start": 0.9,
            "bin_end": 1,
            "count": 4
           }
          ]
         }
        },
        {
         "name": "instant_bookable_t",
         "dtype": "int64",
         "stats": {
          "unique_count": 2,
          "nan_count": 0,
          "min": "0",
          "max": "1",
          "histogram": [
           {
            "bin_start": 0,
            "bin_end": 0.1,
            "count": 4
           },
           {
            "bin_start": 0.1,
            "bin_end": 0.2,
            "count": 0
           },
           {
            "bin_start": 0.2,
            "bin_end": 0.30000000000000004,
            "count": 0
           },
           {
            "bin_start": 0.30000000000000004,
            "bin_end": 0.4,
            "count": 0
           },
           {
            "bin_start": 0.4,
            "bin_end": 0.5,
            "count": 0
           },
           {
            "bin_start": 0.5,
            "bin_end": 0.6000000000000001,
            "count": 0
           },
           {
            "bin_start": 0.6000000000000001,
            "bin_end": 0.7000000000000001,
            "count": 0
           },
           {
            "bin_start": 0.7000000000000001,
            "bin_end": 0.8,
            "count": 0
           },
           {
            "bin_start": 0.8,
            "bin_end": 0.9,
            "count": 0
           },
           {
            "bin_start": 0.9,
            "bin_end": 1,
            "count": 1
           }
          ]
         }
        },
        {
         "name": "amen_group_kitchen",
         "dtype": "int64",
         "stats": {
          "unique_count": 2,
          "nan_count": 0,
          "min": "0",
          "max": "1",
          "histogram": [
           {
            "bin_start": 0,
            "bin_end": 0.1,
            "count": 1
           },
           {
            "bin_start": 0.1,
            "bin_end": 0.2,
            "count": 0
           },
           {
            "bin_start": 0.2,
            "bin_end": 0.30000000000000004,
            "count": 0
           },
           {
            "bin_start": 0.30000000000000004,
            "bin_end": 0.4,
            "count": 0
           },
           {
            "bin_start": 0.4,
            "bin_end": 0.5,
            "count": 0
           },
           {
            "bin_start": 0.5,
            "bin_end": 0.6000000000000001,
            "count": 0
           },
           {
            "bin_start": 0.6000000000000001,
            "bin_end": 0.7000000000000001,
            "count": 0
           },
           {
            "bin_start": 0.7000000000000001,
            "bin_end": 0.8,
            "count": 0
           },
           {
            "bin_start": 0.8,
            "bin_end": 0.9,
            "count": 0
           },
           {
            "bin_start": 0.9,
            "bin_end": 1,
            "count": 4
           }
          ]
         }
        },
        {
         "name": "amen_group_household",
         "dtype": "int64",
         "stats": {
          "unique_count": 4,
          "nan_count": 0,
          "min": "1",
          "max": "4",
          "histogram": [
           {
            "bin_start": 1,
            "bin_end": 1.3,
            "count": 1
           },
           {
            "bin_start": 1.3,
            "bin_end": 1.6,
            "count": 0
           },
           {
            "bin_start": 1.6,
            "bin_end": 1.9,
            "count": 0
           },
           {
            "bin_start": 1.9,
            "bin_end": 2.2,
            "count": 2
           },
           {
            "bin_start": 2.2,
            "bin_end": 2.5,
            "count": 0
           },
           {
            "bin_start": 2.5,
            "bin_end": 2.8,
            "count": 0
           },
           {
            "bin_start": 2.8,
            "bin_end": 3.1,
            "count": 1
           },
           {
            "bin_start": 3.1,
            "bin_end": 3.4,
            "count": 0
           },
           {
            "bin_start": 3.4,
            "bin_end": 3.6999999999999997,
            "count": 0
           },
           {
            "bin_start": 3.6999999999999997,
            "bin_end": 4,
            "count": 1
           }
          ]
         }
        },
        {
         "name": "amenities_num",
         "dtype": "int64",
         "stats": {
          "unique_count": 5,
          "nan_count": 0,
          "min": "7",
          "max": "18",
          "histogram": [
           {
            "bin_start": 7,
            "bin_end": 8.1,
            "count": 1
           },
           {
            "bin_start": 8.1,
            "bin_end": 9.2,
            "count": 1
           },
           {
            "bin_start": 9.2,
            "bin_end": 10.3,
            "count": 0
           },
           {
            "bin_start": 10.3,
            "bin_end": 11.4,
            "count": 1
           },
           {
            "bin_start": 11.4,
            "bin_end": 12.5,
            "count": 0
           },
           {
            "bin_start": 12.5,
            "bin_end": 13.600000000000001,
            "count": 1
           },
           {
            "bin_start": 13.600000000000001,
            "bin_end": 14.700000000000001,
            "count": 0
           },
           {
            "bin_start": 14.700000000000001,
            "bin_end": 15.8,
            "count": 0
           },
           {
            "bin_start": 15.8,
            "bin_end": 16.9,
            "count": 0
           },
           {
            "bin_start": 16.9,
            "bin_end": 18,
            "count": 1
           }
          ]
         }
        },
        {
         "name": "id",
         "dtype": "int64",
         "stats": {
          "unique_count": 5,
          "nan_count": 0,
          "min": "156926",
          "max": "5927700",
          "histogram": [
           {
            "bin_start": 156926,
            "bin_end": 734003.4,
            "count": 2
           },
           {
            "bin_start": 734003.4,
            "bin_end": 1311080.8,
            "count": 0
           },
           {
            "bin_start": 1311080.8,
            "bin_end": 1888158.2000000002,
            "count": 0
           },
           {
            "bin_start": 1888158.2000000002,
            "bin_end": 2465235.6,
            "count": 0
           },
           {
            "bin_start": 2465235.6,
            "bin_end": 3042313,
            "count": 1
           },
           {
            "bin_start": 3042313,
            "bin_end": 3619390.4000000004,
            "count": 0
           },
           {
            "bin_start": 3619390.4000000004,
            "bin_end": 4196467.800000001,
            "count": 1
           },
           {
            "bin_start": 4196467.800000001,
            "bin_end": 4773545.2,
            "count": 0
           },
           {
            "bin_start": 4773545.2,
            "bin_end": 5350622.600000001,
            "count": 0
           },
           {
            "bin_start": 5350622.600000001,
            "bin_end": 5927700,
            "count": 1
           }
          ]
         }
        },
        {
         "name": "feedback_score",
         "dtype": "float64",
         "stats": {
          "unique_count": 2,
          "nan_count": 3,
          "min": "0.3508457588480048",
          "max": "0.6946583076200576",
          "histogram": [
           {
            "bin_start": 0.3508457588480048,
            "bin_end": 0.38522701372521007,
            "count": 1
           },
           {
            "bin_start": 0.38522701372521007,
            "bin_end": 0.41960826860241535,
            "count": 0
           },
           {
            "bin_start": 0.41960826860241535,
            "bin_end": 0.4539895234796206,
            "count": 0
           },
           {
            "bin_start": 0.4539895234796206,
            "bin_end": 0.48837077835682596,
            "count": 0
           },
           {
            "bin_start": 0.48837077835682596,
            "bin_end": 0.5227520332340312,
            "count": 0
           },
           {
            "bin_start": 0.5227520332340312,
            "bin_end": 0.5571332881112365,
            "count": 0
           },
           {
            "bin_start": 0.5571332881112365,
            "bin_end": 0.5915145429884419,
            "count": 0
           },
           {
            "bin_start": 0.5915145429884419,
            "bin_end": 0.6258957978656471,
            "count": 0
           },
           {
            "bin_start": 0.6258957978656471,
            "bin_end": 0.6602770527428523,
            "count": 0
           },
           {
            "bin_start": 0.6602770527428523,
            "bin_end": 0.6946583076200576,
            "count": 1
           }
          ]
         }
        },
        {
         "name": "normalized_fbs",
         "dtype": "float64",
         "stats": {
          "unique_count": 2,
          "nan_count": 3,
          "min": "-0.6053893380293927",
          "max": "1.1420521887938984",
          "histogram": [
           {
            "bin_start": -0.6053893380293927,
            "bin_end": -0.43064518534706353,
            "count": 1
           },
           {
            "bin_start": -0.43064518534706353,
            "bin_end": -0.25590103266473446,
            "count": 0
           },
           {
            "bin_start": -0.25590103266473446,
            "bin_end": -0.0811568799824054,
            "count": 0
           },
           {
            "bin_start": -0.0811568799824054,
            "bin_end": 0.09358727269992373,
            "count": 0
           },
           {
            "bin_start": 0.09358727269992373,
            "bin_end": 0.26833142538225285,
            "count": 0
           },
           {
            "bin_start": 0.26833142538225285,
            "bin_end": 0.44307557806458187,
            "count": 0
           },
           {
            "bin_start": 0.44307557806458187,
            "bin_end": 0.6178197307469111,
            "count": 0
           },
           {
            "bin_start": 0.6178197307469111,
            "bin_end": 0.7925638834292401,
            "count": 0
           },
           {
            "bin_start": 0.7925638834292401,
            "bin_end": 0.9673080361115691,
            "count": 0
           },
           {
            "bin_start": 0.9673080361115691,
            "bin_end": 1.1420521887938984,
            "count": 1
           }
          ]
         }
        },
        {
         "name": "_deepnote_index_column",
         "dtype": "int64"
        }
       ],
       "rows_top": [
        {
         "accommodates": 2,
         "availability_30": 0,
         "bathrooms": 1,
         "bedrooms": 1,
         "beds": 1,
         "price": 105,
         "cancellation_policy_flexible": 0,
         "cancellation_policy_moderate": 1,
         "cancellation_policy_no_refunds": 0,
         "cancellation_policy_strict": 0,
         "cancellation_policy_super_strict_30": 0,
         "cancellation_policy_super_strict_60": 0,
         "instant_bookable_f": 1,
         "instant_bookable_t": 0,
         "amen_group_kitchen": 1,
         "amen_group_household": 3,
         "amenities_num": 9,
         "id": 665257,
         "feedback_score": "nan",
         "normalized_fbs": "nan",
         "_deepnote_index_column": 0
        },
        {
         "accommodates": 4,
         "availability_30": 17,
         "bathrooms": 1,
         "bedrooms": 1,
         "beds": 2,
         "price": 125,
         "cancellation_policy_flexible": 0,
         "cancellation_policy_moderate": 0,
         "cancellation_policy_no_refunds": 0,
         "cancellation_policy_strict": 1,
         "cancellation_policy_super_strict_30": 0,
         "cancellation_policy_super_strict_60": 0,
         "instant_bookable_f": 1,
         "instant_bookable_t": 0,
         "amen_group_kitchen": 1,
         "amen_group_household": 2,
         "amenities_num": 11,
         "id": 2746729,
         "feedback_score": "nan",
         "normalized_fbs": "nan",
         "_deepnote_index_column": 1
        },
        {
         "accommodates": 6,
         "availability_30": 25,
         "bathrooms": 2.5,
         "bedrooms": 1,
         "beds": 6,
         "price": 24,
         "cancellation_policy_flexible": 0,
         "cancellation_policy_moderate": 1,
         "cancellation_policy_no_refunds": 0,
         "cancellation_policy_strict": 0,
         "cancellation_policy_super_strict_30": 0,
         "cancellation_policy_super_strict_60": 0,
         "instant_bookable_f": 1,
         "instant_bookable_t": 0,
         "amen_group_kitchen": 0,
         "amen_group_household": 1,
         "amenities_num": 7,
         "id": 156926,
         "feedback_score": 0.6946583076200576,
         "normalized_fbs": 1.1420521887938984,
         "_deepnote_index_column": 2
        },
        {
         "accommodates": 10,
         "availability_30": 17,
         "bathrooms": 2.5,
         "bedrooms": 4,
         "beds": 5,
         "price": 105,
         "cancellation_policy_flexible": 0,
         "cancellation_policy_moderate": 0,
         "cancellation_policy_no_refunds": 0,
         "cancellation_policy_strict": 1,
         "cancellation_policy_super_strict_30": 0,
         "cancellation_policy_super_strict_60": 0,
         "instant_bookable_f": 1,
         "instant_bookable_t": 0,
         "amen_group_kitchen": 1,
         "amen_group_household": 2,
         "amenities_num": 18,
         "id": 3767793,
         "feedback_score": 0.3508457588480048,
         "normalized_fbs": -0.6053893380293927,
         "_deepnote_index_column": 3
        },
        {
         "accommodates": 2,
         "availability_30": 16,
         "bathrooms": 1,
         "bedrooms": 1,
         "beds": 1,
         "price": 65,
         "cancellation_policy_flexible": 1,
         "cancellation_policy_moderate": 0,
         "cancellation_policy_no_refunds": 0,
         "cancellation_policy_strict": 0,
         "cancellation_policy_super_strict_30": 0,
         "cancellation_policy_super_strict_60": 0,
         "instant_bookable_f": 0,
         "instant_bookable_t": 1,
         "amen_group_kitchen": 1,
         "amen_group_household": 4,
         "amenities_num": 13,
         "id": 5927700,
         "feedback_score": "nan",
         "normalized_fbs": "nan",
         "_deepnote_index_column": 4
        }
       ],
       "rows_bottom": null
      },
      "text/plain": "   accommodates  availability_30  bathrooms  bedrooms  beds  price  \\\n0           2.0                0        1.0       1.0   1.0  105.0   \n1           4.0               17        1.0       1.0   2.0  125.0   \n2           6.0               25        2.5       1.0   6.0   24.0   \n3          10.0               17        2.5       4.0   5.0  105.0   \n4           2.0               16        1.0       1.0   1.0   65.0   \n\n   cancellation_policy_flexible  cancellation_policy_moderate  \\\n0                             0                             1   \n1                             0                             0   \n2                             0                             1   \n3                             0                             0   \n4                             1                             0   \n\n   cancellation_policy_no_refunds  cancellation_policy_strict  \\\n0                               0                           0   \n1                               0                           1   \n2                               0                           0   \n3                               0                           1   \n4                               0                           0   \n\n   cancellation_policy_super_strict_30  cancellation_policy_super_strict_60  \\\n0                                    0                                    0   \n1                                    0                                    0   \n2                                    0                                    0   \n3                                    0                                    0   \n4                                    0                                    0   \n\n   instant_bookable_f  instant_bookable_t  amen_group_kitchen  \\\n0                   1                   0                   1   \n1                   1                   0                   1   \n2                   1                   0                   0   \n3                   1                   0                   1   \n4                   0                   1                   1   \n\n   amen_group_household  amenities_num       id  feedback_score  \\\n0                     3              9   665257             NaN   \n1                     2             11  2746729             NaN   \n2                     1              7   156926        0.694658   \n3                     2             18  3767793        0.350846   \n4                     4             13  5927700             NaN   \n\n   normalized_fbs  \n0             NaN  \n1             NaN  \n2        1.142052  \n3       -0.605389  \n4             NaN  ",
      "text/html": "<div>\n<style scoped>\n    .dataframe tbody tr th:only-of-type {\n        vertical-align: middle;\n    }\n\n    .dataframe tbody tr th {\n        vertical-align: top;\n    }\n\n    .dataframe thead th {\n        text-align: right;\n    }\n</style>\n<table border=\"1\" class=\"dataframe\">\n  <thead>\n    <tr style=\"text-align: right;\">\n      <th></th>\n      <th>accommodates</th>\n      <th>availability_30</th>\n      <th>bathrooms</th>\n      <th>bedrooms</th>\n      <th>beds</th>\n      <th>price</th>\n      <th>cancellation_policy_flexible</th>\n      <th>cancellation_policy_moderate</th>\n      <th>cancellation_policy_no_refunds</th>\n      <th>cancellation_policy_strict</th>\n      <th>cancellation_policy_super_strict_30</th>\n      <th>cancellation_policy_super_strict_60</th>\n      <th>instant_bookable_f</th>\n      <th>instant_bookable_t</th>\n      <th>amen_group_kitchen</th>\n      <th>amen_group_household</th>\n      <th>amenities_num</th>\n      <th>id</th>\n      <th>feedback_score</th>\n      <th>normalized_fbs</th>\n    </tr>\n  </thead>\n  <tbody>\n    <tr>\n      <th>0</th>\n      <td>2.0</td>\n      <td>0</td>\n      <td>1.0</td>\n      <td>1.0</td>\n      <td>1.0</td>\n      <td>105.0</td>\n      <td>0</td>\n      <td>1</td>\n      <td>0</td>\n      <td>0</td>\n      <td>0</td>\n      <td>0</td>\n      <td>1</td>\n      <td>0</td>\n      <td>1</td>\n      <td>3</td>\n      <td>9</td>\n      <td>665257</td>\n      <td>NaN</td>\n      <td>NaN</td>\n    </tr>\n    <tr>\n      <th>1</th>\n      <td>4.0</td>\n      <td>17</td>\n      <td>1.0</td>\n      <td>1.0</td>\n      <td>2.0</td>\n      <td>125.0</td>\n      <td>0</td>\n      <td>0</td>\n      <td>0</td>\n      <td>1</td>\n      <td>0</td>\n      <td>0</td>\n      <td>1</td>\n      <td>0</td>\n      <td>1</td>\n      <td>2</td>\n      <td>11</td>\n      <td>2746729</td>\n      <td>NaN</td>\n      <td>NaN</td>\n    </tr>\n    <tr>\n      <th>2</th>\n      <td>6.0</td>\n      <td>25</td>\n      <td>2.5</td>\n      <td>1.0</td>\n      <td>6.0</td>\n      <td>24.0</td>\n      <td>0</td>\n      <td>1</td>\n      <td>0</td>\n      <td>0</td>\n      <td>0</td>\n      <td>0</td>\n      <td>1</td>\n      <td>0</td>\n      <td>0</td>\n      <td>1</td>\n      <td>7</td>\n      <td>156926</td>\n      <td>0.694658</td>\n      <td>1.142052</td>\n    </tr>\n    <tr>\n      <th>3</th>\n      <td>10.0</td>\n      <td>17</td>\n      <td>2.5</td>\n      <td>4.0</td>\n      <td>5.0</td>\n      <td>105.0</td>\n      <td>0</td>\n      <td>0</td>\n      <td>0</td>\n      <td>1</td>\n      <td>0</td>\n      <td>0</td>\n      <td>1</td>\n      <td>0</td>\n      <td>1</td>\n      <td>2</td>\n      <td>18</td>\n      <td>3767793</td>\n      <td>0.350846</td>\n      <td>-0.605389</td>\n    </tr>\n    <tr>\n      <th>4</th>\n      <td>2.0</td>\n      <td>16</td>\n      <td>1.0</td>\n      <td>1.0</td>\n      <td>1.0</td>\n      <td>65.0</td>\n      <td>1</td>\n      <td>0</td>\n      <td>0</td>\n      <td>0</td>\n      <td>0</td>\n      <td>0</td>\n      <td>0</td>\n      <td>1</td>\n      <td>1</td>\n      <td>4</td>\n      <td>13</td>\n      <td>5927700</td>\n      <td>NaN</td>\n      <td>NaN</td>\n    </tr>\n  </tbody>\n</table>\n</div>"
     },
     "metadata": {}
    }
   ]
  },
  {
   "cell_type": "code",
   "metadata": {
    "tags": [],
    "cell_id": "00051-9c739426-9833-45e9-920a-1ce6276c6799",
    "deepnote_to_be_reexecuted": false,
    "source_hash": "6241ea6c",
    "execution_start": 1626629110084,
    "execution_millis": 50,
    "deepnote_cell_type": "code"
   },
   "source": "listings_final.dropna(inplace=True)\nlistings_final.isna().any()",
   "execution_count": null,
   "outputs": [
    {
     "output_type": "execute_result",
     "execution_count": 65,
     "data": {
      "text/plain": "accommodates                           False\navailability_30                        False\nbathrooms                              False\nbedrooms                               False\nbeds                                   False\nprice                                  False\ncancellation_policy_flexible           False\ncancellation_policy_moderate           False\ncancellation_policy_no_refunds         False\ncancellation_policy_strict             False\ncancellation_policy_super_strict_30    False\ncancellation_policy_super_strict_60    False\ninstant_bookable_f                     False\ninstant_bookable_t                     False\namen_group_kitchen                     False\namen_group_household                   False\namenities_num                          False\nid                                     False\nfeedback_score                         False\nnormalized_fbs                         False\ndtype: bool"
     },
     "metadata": {}
    }
   ]
  },
  {
   "cell_type": "code",
   "metadata": {
    "tags": [],
    "cell_id": "00042-8ac860a3-ea78-4fec-b5ac-6636298fca2e",
    "deepnote_to_be_reexecuted": false,
    "source_hash": "efbbd98f",
    "execution_start": 1626629308746,
    "execution_millis": 0,
    "deepnote_cell_type": "code"
   },
   "source": "#Ready for feature selection\n#We begin by using random forest: why would it be successful for this dataset?\n#In general, it provides good predictive performance, lower overfitting, and easy interpretability\n#So it is easy to compute how much each variable is contributing to the decision\n\nfrom sklearn.ensemble import RandomForestRegressor\nfrom sklearn.model_selection import train_test_split\nfrom sklearn.model_selection import cross_val_score\nfrom sklearn.metrics import r2_score, mean_squared_error\nimport math\n\nlistings_final = listings_final.drop(columns=['id', 'normalized_fbs'])\ny = listings_final['feedback_score']\nX = listings_final.drop(columns='feedback_score')",
   "execution_count": null,
   "outputs": []
  },
  {
   "cell_type": "code",
   "metadata": {
    "tags": [],
    "cell_id": "00053-43b5979c-3e0a-4bc5-bbd0-a6b7a55dc218",
    "deepnote_to_be_reexecuted": false,
    "source_hash": "42c1f79b",
    "execution_start": 1626629471596,
    "execution_millis": 0,
    "deepnote_cell_type": "code"
   },
   "source": "listings_final.shape",
   "execution_count": null,
   "outputs": [
    {
     "output_type": "execute_result",
     "execution_count": 69,
     "data": {
      "text/plain": "(3315, 18)"
     },
     "metadata": {}
    }
   ]
  },
  {
   "cell_type": "code",
   "metadata": {
    "tags": [],
    "cell_id": "00054-ecd1c7ca-ba1d-4a63-aab2-1f7cc32ec146",
    "deepnote_to_be_reexecuted": false,
    "source_hash": "fc4de0b8",
    "execution_start": 1626629725813,
    "execution_millis": 3648,
    "deepnote_cell_type": "code"
   },
   "source": "X_train = X[:2500]\nX_test = X[2501:]\ny_train = y[:2500]\ny_test = y[2501:]\n\nrfr = RandomForestRegressor(n_estimators=250, random_state=42)\nrfr.fit(X_train, y_train)\n\ny_pred_rand_for = rfr.predict(X_test)\ny_pred_train = rfr.predict(X_train)\n\nprint('Test:', math.sqrt(mean_squared_error(y_test, y_pred_rand_for)), r2_score(y_test, y_pred_rand_for))\nprint('Train:', math.sqrt(mean_squared_error(y_train, y_pred_train)), r2_score(y_train, y_pred_train))",
   "execution_count": null,
   "outputs": [
    {
     "name": "stdout",
     "text": "Test: 0.13311823613775048 -0.09535685647236902\nTrain: 0.0798103113732896 0.8614213403398916\n",
     "output_type": "stream"
    }
   ]
  },
  {
   "cell_type": "code",
   "metadata": {
    "tags": [],
    "cell_id": "00043-7a1b7f7a-8c37-4d6e-9b89-e46306667c35",
    "deepnote_to_be_reexecuted": false,
    "source_hash": "42401d3a",
    "execution_start": 1626629312239,
    "execution_millis": 3372,
    "deepnote_cell_type": "code"
   },
   "source": "X_train, X_test, y_train, y_test = train_test_split(X, y, test_size=0.3, random_state=42)\n\nrfr = RandomForestRegressor(n_estimators=250, random_state=42)\nrfr.fit(X_train, y_train)\n\ny_pred_rand_for = rfr.predict(X_test)\ny_pred_train = rfr.predict(X_train)\n\nprint('Test:', math.sqrt(mean_squared_error(y_test, y_pred_rand_for)), r2_score(y_test, y_pred_rand_for))\nprint('Train:', math.sqrt(mean_squared_error(y_train, y_pred_train)), r2_score(y_train, y_pred_train))",
   "execution_count": null,
   "outputs": [
    {
     "name": "stdout",
     "text": "Test: 0.19192230722692666 -0.05082920208306674\nTrain: 0.0739524317850871 0.8640871506450455\n",
     "output_type": "stream"
    }
   ]
  },
  {
   "cell_type": "code",
   "metadata": {
    "tags": [],
    "cell_id": "00046-7d8ab05d-8a00-4632-a470-7f464cf718af",
    "deepnote_to_be_reexecuted": false,
    "source_hash": "4306606d",
    "execution_start": 1626629754640,
    "execution_millis": 1,
    "deepnote_cell_type": "code"
   },
   "source": "y_pred_rand_for_df = pd.Series(y_pred_rand_for)\ny_pred_rand_for_df.to_csv(r'/work/Datasets/y_pred_rand_for.csv')",
   "execution_count": null,
   "outputs": []
  },
  {
   "cell_type": "code",
   "metadata": {
    "tags": [],
    "cell_id": "00057-756115b2-989f-4ee3-8552-c977a946f998",
    "deepnote_to_be_reexecuted": false,
    "source_hash": "65fd4ab0",
    "execution_start": 1626629915857,
    "execution_millis": 0,
    "deepnote_cell_type": "code"
   },
   "source": "y_test_df = pd.Series(y_test)\ny_test_df.to_csv(r'/work/Datasets/y_test.csv')",
   "execution_count": null,
   "outputs": []
  },
  {
   "cell_type": "code",
   "metadata": {
    "tags": [],
    "cell_id": "00045-1dbe922d-eee7-4b5b-91b6-dcc0d06ae21f",
    "deepnote_to_be_reexecuted": false,
    "source_hash": "328b3193",
    "execution_start": 1626629940811,
    "execution_millis": 19742,
    "deepnote_cell_type": "code"
   },
   "source": "#Random forest cross validation\nscores_rfr = cross_val_score(rfr, X, y, scoring='neg_mean_absolute_error', cv=5)\nscores_rfr",
   "execution_count": null,
   "outputs": [
    {
     "output_type": "execute_result",
     "execution_count": 79,
     "data": {
      "text/plain": "array([-0.1554267 , -0.15815588, -0.16727232, -0.10736399, -0.09350272])"
     },
     "metadata": {}
    }
   ]
  },
  {
   "cell_type": "code",
   "metadata": {
    "tags": [],
    "cell_id": "00046-3b35638a-321e-4679-8d8a-4ea42972f08b",
    "deepnote_to_be_reexecuted": false,
    "source_hash": "a4fb254",
    "execution_start": 1626629963496,
    "execution_millis": 51,
    "deepnote_cell_type": "code"
   },
   "source": "mae_rfr = scores_rfr.mean()\nmae_rfr",
   "execution_count": null,
   "outputs": [
    {
     "output_type": "execute_result",
     "execution_count": 80,
     "data": {
      "text/plain": "-0.13634432383694406"
     },
     "metadata": {}
    }
   ]
  },
  {
   "cell_type": "code",
   "metadata": {
    "tags": [],
    "cell_id": "00045-36249df1-ce41-4f70-a3e1-138fd06f15ef",
    "deepnote_to_be_reexecuted": false,
    "source_hash": "7a28b1a",
    "execution_start": 1626629972935,
    "execution_millis": 16974,
    "deepnote_cell_type": "code"
   },
   "source": "#xgboost \n!pip install xgboost\nimport xgboost as xgb\n\nxgb_reg = xgb.XGBRegressor(\n    n_estimators=250, \n    reg_lambda=10,\n    gamma=0,\n    max_depth=3,\n    objective='reg:squarederror',\n    random_state=42\n)\n\nxgb_reg.fit(X_train, y_train)\n\ny_pred_xgb = xgb_reg.predict(X_test)\ny_pred_train = xgb_reg.predict(X_train)\n\nprint('Test:', math.sqrt(mean_squared_error(y_test, y_pred_xgb)), r2_score(y_test, y_pred_xgb))\nprint('Train:', math.sqrt(mean_squared_error(y_train, y_pred_train)), r2_score(y_train, y_pred_train))",
   "execution_count": null,
   "outputs": [
    {
     "name": "stdout",
     "text": "Collecting xgboost\n  Downloading xgboost-1.4.2-py3-none-manylinux2010_x86_64.whl (166.7 MB)\n\u001b[K     |████████████████████████████████| 166.7 MB 20 kB/s \n\u001b[?25hRequirement already satisfied: scipy in /shared-libs/python3.7/py/lib/python3.7/site-packages (from xgboost) (1.7.0)\nRequirement already satisfied: numpy in /shared-libs/python3.7/py/lib/python3.7/site-packages (from xgboost) (1.19.5)\nInstalling collected packages: xgboost\nSuccessfully installed xgboost-1.4.2\n\u001b[33mWARNING: You are using pip version 21.1.2; however, version 21.1.3 is available.\nYou should consider upgrading via the '/root/venv/bin/python -m pip install --upgrade pip' command.\u001b[0m\nTest: 0.13680698522599172 -0.1569033200366441\nTrain: 0.16159677874019263 0.4318752037646848\n",
     "output_type": "stream"
    }
   ]
  },
  {
   "cell_type": "code",
   "metadata": {
    "tags": [],
    "cell_id": "00047-8ff2a86f-bfd6-4fd1-bde6-a14b4277001d",
    "deepnote_to_be_reexecuted": false,
    "source_hash": "e598c3dd",
    "execution_start": 1626629994826,
    "execution_millis": 2471,
    "deepnote_cell_type": "code"
   },
   "source": "scores_xgb = cross_val_score(xgb_reg, X, y, scoring='neg_mean_absolute_error', cv=5)\nscores_xgb",
   "execution_count": null,
   "outputs": [
    {
     "output_type": "execute_result",
     "execution_count": 82,
     "data": {
      "text/plain": "array([-0.15821708, -0.15850548, -0.16587506, -0.10968538, -0.09770896])"
     },
     "metadata": {}
    }
   ]
  },
  {
   "cell_type": "code",
   "metadata": {
    "tags": [],
    "cell_id": "00049-7547e8da-6dd4-4d80-a7aa-e454e9e23336",
    "deepnote_to_be_reexecuted": false,
    "source_hash": "ef921424",
    "execution_start": 1626630002490,
    "execution_millis": 38,
    "deepnote_cell_type": "code"
   },
   "source": "mae_xgb = scores_xgb.mean()\nmae_xgb",
   "execution_count": null,
   "outputs": [
    {
     "output_type": "execute_result",
     "execution_count": 83,
     "data": {
      "text/plain": "-0.1379983915955788"
     },
     "metadata": {}
    }
   ]
  },
  {
   "cell_type": "code",
   "metadata": {
    "tags": [],
    "cell_id": "00063-b2f55163-bba5-4517-aced-fcdf5a7121b0",
    "deepnote_to_be_reexecuted": false,
    "source_hash": "dd382aba",
    "execution_start": 1626630192093,
    "execution_millis": 1,
    "deepnote_cell_type": "code"
   },
   "source": "y_pred_xgb_df = pd.Series(y_pred_xgb)\ny_pred_xgb_df.to_csv(r'/work/Datasets/y_pred_xgb.csv')",
   "execution_count": null,
   "outputs": []
  },
  {
   "cell_type": "code",
   "metadata": {
    "tags": [],
    "cell_id": "00047-a111350c-eb39-4e0e-906e-7d837490e36a",
    "deepnote_to_be_reexecuted": false,
    "source_hash": "d6f8e614",
    "execution_start": 1626630027720,
    "execution_millis": 608,
    "deepnote_cell_type": "code"
   },
   "source": "#SVR\nfrom sklearn.svm import SVR\n\nsupport_vec_reg = SVR(C=0.1, epsilon=0.2)\nsupport_vec_reg.fit(X_train, y_train)\n\ny_pred_svr = support_vec_reg.predict(X_test)\ny_pred_train = support_vec_reg.predict(X_train)\n\nprint('Test:', math.sqrt(mean_squared_error(y_test, y_pred_svr)), r2_score(y_test, y_pred_svr))\nprint('Train:', math.sqrt(mean_squared_error(y_train, y_pred_train)), r2_score(y_train, y_pred_train))",
   "execution_count": null,
   "outputs": [
    {
     "name": "stdout",
     "text": "Test: 0.12989964953423153 -0.04302923388180235\nTrain: 0.2129971301349704 0.012980233859274493\n",
     "output_type": "stream"
    }
   ]
  },
  {
   "cell_type": "code",
   "metadata": {
    "tags": [],
    "cell_id": "00053-b2dc2cea-79b7-49c7-8d7e-238811fbada2",
    "deepnote_to_be_reexecuted": false,
    "source_hash": "491cae15",
    "execution_start": 1626630034142,
    "execution_millis": 1,
    "deepnote_cell_type": "code"
   },
   "source": "y_pred_svr_df = pd.Series(y_pred_svr)\ny_pred_svr_df.to_csv(r'/work/Datasets/y_pred_svr.csv')",
   "execution_count": null,
   "outputs": []
  },
  {
   "cell_type": "code",
   "metadata": {
    "tags": [],
    "cell_id": "00052-4f4087cd-f922-491b-9205-e67e6813adca",
    "deepnote_to_be_reexecuted": false,
    "source_hash": "d3103ba7",
    "execution_start": 1626630052162,
    "execution_millis": 850,
    "deepnote_cell_type": "code"
   },
   "source": "scores_svr = cross_val_score(support_vec_reg, X, y, scoring='neg_mean_absolute_error', cv=5)\nscores_svr",
   "execution_count": null,
   "outputs": [
    {
     "output_type": "execute_result",
     "execution_count": 86,
     "data": {
      "text/plain": "array([-0.15725247, -0.16382998, -0.17636558, -0.10463018, -0.09847612])"
     },
     "metadata": {}
    }
   ]
  },
  {
   "cell_type": "code",
   "metadata": {
    "tags": [],
    "cell_id": "00052-91744407-e74c-4baa-833a-4452525410c8",
    "deepnote_to_be_reexecuted": false,
    "source_hash": "15d393eb",
    "execution_start": 1626630055030,
    "execution_millis": 39,
    "deepnote_cell_type": "code"
   },
   "source": "mae_svr = scores_svr.mean()\nmae_svr",
   "execution_count": null,
   "outputs": [
    {
     "output_type": "execute_result",
     "execution_count": 87,
     "data": {
      "text/plain": "-0.14011086632741743"
     },
     "metadata": {}
    }
   ]
  },
  {
   "cell_type": "code",
   "metadata": {
    "tags": [],
    "cell_id": "00048-935e3276-ac24-4c38-8368-09b2efdb7530",
    "deepnote_to_be_reexecuted": false,
    "source_hash": "16742fc3",
    "execution_start": 1626630057984,
    "execution_millis": 80,
    "deepnote_cell_type": "code"
   },
   "source": "#Feature importance\nFeatImpRFR = pd.DataFrame({'feature': list(X.columns), 'importance': list(rfr.feature_importances_)})\nFeatImpRFR = FeatImpRFR.sort_values('importance', ascending=False)\n#Set index to the field you want to sort the bar char by\nFeatImpRFR = FeatImpRFR.set_index('feature')\nFeatImpRFR.index[0:20]",
   "execution_count": null,
   "outputs": [
    {
     "output_type": "execute_result",
     "execution_count": 88,
     "data": {
      "text/plain": "Index(['price', 'amenities_num', 'availability_30', 'amen_group_household',\n       'accommodates', 'beds', 'bathrooms', 'bedrooms',\n       'cancellation_policy_flexible', 'amen_group_kitchen',\n       'cancellation_policy_strict', 'instant_bookable_t',\n       'instant_bookable_f', 'cancellation_policy_moderate',\n       'cancellation_policy_super_strict_30',\n       'cancellation_policy_super_strict_60',\n       'cancellation_policy_no_refunds'],\n      dtype='object', name='feature')"
     },
     "metadata": {}
    }
   ]
  },
  {
   "cell_type": "code",
   "metadata": {
    "tags": [],
    "cell_id": "00049-05353987-1eac-4392-8db8-5110a925e596",
    "deepnote_to_be_reexecuted": false,
    "source_hash": "29fc66dc",
    "execution_start": 1626630060890,
    "execution_millis": 702,
    "deepnote_cell_type": "code"
   },
   "source": "plt.figure()\nplt.title('Feature Importance with Random Forest')\ny_pos = np.arange(len(FeatImpRFR.index[0:30]))\nplt.bar(y_pos, FeatImpRFR['importance'].values[0:30], color='blue')\nplt.xticks(y_pos, FeatImpRFR.index[0:30], rotation='vertical')\n#plt.show()\n\nimage_format = 'svg' # e.g .png, .svg, etc.\nimage_name = 'feature importance rfr.svg'\n\nplt.savefig(image_name, format=image_format, dpi=1200)",
   "execution_count": null,
   "outputs": [
    {
     "data": {
      "text/plain": "<Figure size 432x288 with 1 Axes>",
      "image/png": "[encoded data removed]"
     },
     "metadata": {
      "needs_background": "light",
      "image/png": {
       "width": 378,
       "height": 431
      }
     },
     "output_type": "display_data"
    }
   ]
  },
  {
   "cell_type": "code",
   "metadata": {
    "tags": [],
    "cell_id": "00056-4dbd7596-fa09-4ac7-9db1-9c1a83a21e45",
    "deepnote_to_be_reexecuted": false,
    "source_hash": "f670dacb",
    "execution_start": 1626630074445,
    "execution_millis": 116,
    "deepnote_cell_type": "code"
   },
   "source": "#Feature importance\nFeatImpXGB = pd.DataFrame({'feature': list(X.columns), 'importance': list(xgb_reg.feature_importances_)})\nFeatImpXGB = FeatImpXGB.sort_values('importance', ascending=False)\n#Set index to the field you want to sort the bar char by\nFeatImpXGB = FeatImpXGB.set_index('feature')\nFeatImpXGB.index[0:20]",
   "execution_count": null,
   "outputs": [
    {
     "output_type": "execute_result",
     "execution_count": 90,
     "data": {
      "text/plain": "Index(['cancellation_policy_flexible', 'accommodates',\n       'cancellation_policy_strict', 'availability_30', 'bedrooms',\n       'cancellation_policy_moderate', 'price', 'amen_group_household',\n       'amenities_num', 'amen_group_kitchen', 'instant_bookable_f', 'beds',\n       'bathrooms', 'cancellation_policy_super_strict_30',\n       'cancellation_policy_super_strict_60', 'instant_bookable_t',\n       'cancellation_policy_no_refunds'],\n      dtype='object', name='feature')"
     },
     "metadata": {}
    }
   ]
  },
  {
   "cell_type": "code",
   "metadata": {
    "tags": [],
    "cell_id": "00057-07fdd998-f7db-431c-93a9-13ad99dec96c",
    "deepnote_to_be_reexecuted": false,
    "source_hash": "fd74ee2a",
    "execution_start": 1626630078549,
    "execution_millis": 703,
    "deepnote_cell_type": "code"
   },
   "source": "plt.figure()\nplt.title('Feature Importance with XGBoost')\ny_pos = np.arange(len(FeatImpXGB.index[0:30]))\nplt.bar(y_pos, FeatImpXGB['importance'].values[0:30], color='blue')\nplt.xticks(y_pos, FeatImpXGB.index[0:30], rotation='vertical')\n#plt.show()\n\nimage_format = 'svg' # e.g .png, .svg, etc.\nimage_name = 'feature importance xgb.svg'\n\nplt.savefig(image_name, format=image_format, dpi=1200)",
   "execution_count": null,
   "outputs": [
    {
     "data": {
      "text/plain": "<Figure size 432x288 with 1 Axes>",
      "image/png": "[encoded data removed]"
     },
     "metadata": {
      "needs_background": "light",
      "image/png": {
       "width": 378,
       "height": 431
      }
     },
     "output_type": "display_data"
    }
   ]
  },
  {
   "cell_type": "markdown",
   "source": "<a style='text-decoration:none;line-height:16px;display:flex;color:#5B5B62;padding:10px;justify-content:end;' href='https://deepnote.com?utm_source=created-in-deepnote-cell&projectId=8e6d3dd7-a3ce-422e-8f25-57163d804f84' target=\"_blank\">\n<img alt='Created in deepnote.com' style='display:inline;max-height:16px;margin:0px;margin-right:7.5px;' src='data:image/svg+xml;base64,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' > </img>\nCreated in <span style='font-weight:600;margin-left:4px;'>Deepnote</span></a>",
   "metadata": {
    "tags": [],
    "created_in_deepnote_cell": true,
    "deepnote_cell_type": "markdown"
   }
  }
 ],
 "nbformat": 4,
 "nbformat_minor": 2,
 "metadata": {
  "orig_nbformat": 2,
  "deepnote": {
   "is_reactive": false
  },
  "deepnote_notebook_id": "c644038b-1691-4ad5-a40d-3227a247c5b4",
  "deepnote_execution_queue": []
 }
}