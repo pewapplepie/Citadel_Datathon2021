{
 "cells": [
  {
   "cell_type": "code",
   "metadata": {
    "cell_id": "00000-f2ba8993-4658-4677-86bc-23f2d158e00a",
    "deepnote_to_be_reexecuted": false,
    "source_hash": "486af69c",
    "execution_start": 1626543585145,
    "execution_millis": 475,
    "deepnote_cell_type": "code"
   },
   "source": "import pandas as pd \nimport numpy as np \n\ndatafolder = '/work/Datasets/'\n\nlisting_data = pd.read_csv(datafolder + 'listings.csv')\nlistingcln = pd.read_csv(datafolder + 'listings_cleaned.csv')\n#listing_south = pd.read_csv(datafolder +'us_south_listings_multi_label.csv')\n",
   "execution_count": null,
   "outputs": []
  },
  {
   "cell_type": "code",
   "metadata": {
    "cell_id": "00001-3699f5e4-252b-4140-81df-0d70e7fb5f4f",
    "deepnote_to_be_reexecuted": false,
    "source_hash": "816a0460",
    "execution_start": 1626543588077,
    "execution_millis": 4,
    "deepnote_cell_type": "code"
   },
   "source": "listings = listing_data.drop(columns=['has_availability', 'weekly_price'])",
   "execution_count": null,
   "outputs": []
  },
  {
   "cell_type": "code",
   "metadata": {
    "cell_id": "00002-7305ec34-fadb-4d9d-af9b-559b679fe2aa",
    "deepnote_to_be_reexecuted": false,
    "source_hash": "a6f4f302",
    "execution_start": 1626543589420,
    "execution_millis": 29,
    "deepnote_cell_type": "code"
   },
   "source": "south = [\"OK\", \"TX\", \"LA\", \"AR\", \"TN\", \"MS\", \"AL\", \"GA\", \"WV\", \"NC\", \"SC\", \"FL\", \"KY\", \"VA\"]\nlistings = listings[(listings.review_scores_rating.fillna(0) > 0) & (listings.state.isin(south))].reset_index()\nlistings = listings.drop(columns = [\"index\"])",
   "execution_count": null,
   "outputs": []
  },
  {
   "cell_type": "code",
   "metadata": {
    "cell_id": "00003-194ea56d-6c82-42d1-8bd7-7f0ba32a8c53",
    "deepnote_to_be_reexecuted": false,
    "source_hash": "e8ee126c",
    "execution_start": 1626543590102,
    "execution_millis": 6,
    "deepnote_cell_type": "code"
   },
   "source": "listings = (listings[listings.state == 'TX'].reset_index(drop=True))",
   "execution_count": null,
   "outputs": []
  },
  {
   "cell_type": "code",
   "metadata": {
    "cell_id": "00004-7ca9a3cf-427b-4927-85bf-6ab1cbda8f05",
    "deepnote_to_be_reexecuted": false,
    "source_hash": "aedeb841",
    "execution_start": 1626543592029,
    "execution_millis": 17,
    "deepnote_cell_type": "code"
   },
   "source": "listings['price'] = listings['price'].str.replace(',', '').str.replace('$', '').astype(float)",
   "execution_count": null,
   "outputs": [
    {
     "name": "stderr",
     "text": "/shared-libs/python3.7/py-core/lib/python3.7/site-packages/ipykernel_launcher.py:1: FutureWarning: The default value of regex will change from True to False in a future version. In addition, single character regular expressions will*not* be treated as literal strings when regex=True.\n  \"\"\"Entry point for launching an IPython kernel.\n",
     "output_type": "stream"
    }
   ]
  },
  {
   "cell_type": "code",
   "metadata": {
    "cell_id": "00005-9f0d6efc-1102-4930-9f8f-930c2da08f31",
    "deepnote_to_be_reexecuted": false,
    "source_hash": "1af0e29d",
    "execution_start": 1626543595690,
    "execution_millis": 8,
    "deepnote_cell_type": "code"
   },
   "source": "len(listings)",
   "execution_count": null,
   "outputs": [
    {
     "output_type": "execute_result",
     "execution_count": 6,
     "data": {
      "text/plain": "5942"
     },
     "metadata": {}
    }
   ]
  },
  {
   "cell_type": "code",
   "metadata": {
    "cell_id": "00006-c56a9785-e553-47da-826a-fd4ea5539d8c",
    "deepnote_to_be_reexecuted": false,
    "source_hash": "aeea32d8",
    "execution_start": 1626543596375,
    "execution_millis": 7,
    "deepnote_cell_type": "code"
   },
   "source": "#for now\nunnec_cols = ['latitude', 'longitude', 'zipcode', 'host_id']\nlistings = listings.drop(columns = unnec_cols)",
   "execution_count": null,
   "outputs": []
  },
  {
   "cell_type": "code",
   "metadata": {
    "cell_id": "00007-d9df709a-e8ff-400e-ba29-75cb126694a8",
    "deepnote_to_be_reexecuted": false,
    "source_hash": "8ca7bc60",
    "execution_start": 1626543599516,
    "execution_millis": 27,
    "deepnote_cell_type": "code"
   },
   "source": "listings.isna().mean()",
   "execution_count": null,
   "outputs": [
    {
     "output_type": "execute_result",
     "execution_count": 8,
     "data": {
      "text/plain": "accommodates                   0.000000\namenities                      0.000000\navailability_30                0.000000\nbathrooms                      0.002188\nbed_type                       0.000000\nbedrooms                       0.000841\nbeds                           0.000673\ncancellation_policy            0.000000\ncity                           0.000000\nid                             0.000000\ninstant_bookable               0.000000\nmetropolitan                   0.000000\nname                           0.000000\nprice                          0.000000\nproperty_type                  0.000000\nreview_scores_checkin          0.004039\nreview_scores_cleanliness      0.001683\nreview_scores_communication    0.001683\nreview_scores_location         0.004712\nreview_scores_rating           0.000000\nreview_scores_value            0.005217\nroom_type                      0.000000\nstate                          0.000000\ndtype: float64"
     },
     "metadata": {}
    }
   ]
  },
  {
   "cell_type": "code",
   "metadata": {
    "cell_id": "00008-a9ab856a-fa70-4dbf-9a5a-86d0c20dae71",
    "deepnote_to_be_reexecuted": false,
    "source_hash": "247d3b0c",
    "execution_start": 1626543602002,
    "execution_millis": 51,
    "deepnote_cell_type": "code"
   },
   "source": "null_cols = ['bedrooms', 'bathrooms', 'beds', 'review_scores_checkin', 'review_scores_cleanliness', 'review_scores_communication', 'review_scores_location', 'review_scores_value']\nfor col in null_cols:\n    listings[col].fillna(0, inplace = True)\nlistings.head()",
   "execution_count": null,
   "outputs": [
    {
     "output_type": "execute_result",
     "execution_count": 9,
     "data": {
      "application/vnd.deepnote.dataframe.v2+json": {
       "row_count": 5,
       "column_count": 23,
       "columns": [
        {
         "name": "accommodates",
         "dtype": "float64",
         "stats": {
          "unique_count": 5,
          "nan_count": 0,
          "min": "2.0",
          "max": "12.0",
          "histogram": [
           {
            "bin_start": 2,
            "bin_end": 3,
            "count": 1
           },
           {
            "bin_start": 3,
            "bin_end": 4,
            "count": 0
           },
           {
            "bin_start": 4,
            "bin_end": 5,
            "count": 1
           },
           {
            "bin_start": 5,
            "bin_end": 6,
            "count": 1
           },
           {
            "bin_start": 6,
            "bin_end": 7,
            "count": 0
           },
           {
            "bin_start": 7,
            "bin_end": 8,
            "count": 1
           },
           {
            "bin_start": 8,
            "bin_end": 9,
            "count": 0
           },
           {
            "bin_start": 9,
            "bin_end": 10,
            "count": 0
           },
           {
            "bin_start": 10,
            "bin_end": 11,
            "count": 0
           },
           {
            "bin_start": 11,
            "bin_end": 12,
            "count": 1
           }
          ]
         }
        },
        {
         "name": "amenities",
         "dtype": "object",
         "stats": {
          "unique_count": 5,
          "nan_count": 0,
          "categories": [
           {
            "name": "{TV,\"Cable TV\",Internet,\"Wireless Internet\",\"Air conditioning\",Kitchen,\"Free parking on premises\",\"Indoor fireplace\",Heating,\"Family/kid friendly\",Washer,Dryer,Essentials,Shampoo,Hangers,\"Hair dryer\",Iron,\"Laptop friendly workspace\"}",
            "count": 1
           },
           {
            "name": "{\"Cable TV\",\"Wireless Internet\",\"Air conditioning\",Kitchen,\"Free parking on premises\",\"Indoor fireplace\",Heating,\"Family/kid friendly\",Washer,Dryer}",
            "count": 1
           },
           {
            "name": "3 others",
            "count": 3
           }
          ]
         }
        },
        {
         "name": "availability_30",
         "dtype": "int64",
         "stats": {
          "unique_count": 5,
          "nan_count": 0,
          "min": "0",
          "max": "25",
          "histogram": [
           {
            "bin_start": 0,
            "bin_end": 2.5,
            "count": 1
           },
           {
            "bin_start": 2.5,
            "bin_end": 5,
            "count": 0
           },
           {
            "bin_start": 5,
            "bin_end": 7.5,
            "count": 1
           },
           {
            "bin_start": 7.5,
            "bin_end": 10,
            "count": 0
           },
           {
            "bin_start": 10,
            "bin_end": 12.5,
            "count": 1
           },
           {
            "bin_start": 12.5,
            "bin_end": 15,
            "count": 0
           },
           {
            "bin_start": 15,
            "bin_end": 17.5,
            "count": 0
           },
           {
            "bin_start": 17.5,
            "bin_end": 20,
            "count": 0
           },
           {
            "bin_start": 20,
            "bin_end": 22.5,
            "count": 0
           },
           {
            "bin_start": 22.5,
            "bin_end": 25,
            "count": 2
           }
          ]
         }
        },
        {
         "name": "bathrooms",
         "dtype": "float64",
         "stats": {
          "unique_count": 3,
          "nan_count": 0,
          "min": "1.0",
          "max": "3.0",
          "histogram": [
           {
            "bin_start": 1,
            "bin_end": 1.2,
            "count": 2
           },
           {
            "bin_start": 1.2,
            "bin_end": 1.4,
            "count": 0
           },
           {
            "bin_start": 1.4,
            "bin_end": 1.6,
            "count": 0
           },
           {
            "bin_start": 1.6,
            "bin_end": 1.8,
            "count": 0
           },
           {
            "bin_start": 1.8,
            "bin_end": 2,
            "count": 0
           },
           {
            "bin_start": 2,
            "bin_end": 2.2,
            "count": 2
           },
           {
            "bin_start": 2.2,
            "bin_end": 2.4000000000000004,
            "count": 0
           },
           {
            "bin_start": 2.4000000000000004,
            "bin_end": 2.6,
            "count": 0
           },
           {
            "bin_start": 2.6,
            "bin_end": 2.8,
            "count": 0
           },
           {
            "bin_start": 2.8,
            "bin_end": 3,
            "count": 1
           }
          ]
         }
        },
        {
         "name": "bed_type",
         "dtype": "object",
         "stats": {
          "unique_count": 1,
          "nan_count": 0,
          "categories": [
           {
            "name": "Real Bed",
            "count": 5
           }
          ]
         }
        },
        {
         "name": "bedrooms",
         "dtype": "float64",
         "stats": {
          "unique_count": 3,
          "nan_count": 0,
          "min": "1.0",
          "max": "4.0",
          "histogram": [
           {
            "bin_start": 1,
            "bin_end": 1.3,
            "count": 2
           },
           {
            "bin_start": 1.3,
            "bin_end": 1.6,
            "count": 0
           },
           {
            "bin_start": 1.6,
            "bin_end": 1.9,
            "count": 0
           },
           {
            "bin_start": 1.9,
            "bin_end": 2.2,
            "count": 0
           },
           {
            "bin_start": 2.2,
            "bin_end": 2.5,
            "count": 0
           },
           {
            "bin_start": 2.5,
            "bin_end": 2.8,
            "count": 0
           },
           {
            "bin_start": 2.8,
            "bin_end": 3.1,
            "count": 2
           },
           {
            "bin_start": 3.1,
            "bin_end": 3.4,
            "count": 0
           },
           {
            "bin_start": 3.4,
            "bin_end": 3.6999999999999997,
            "count": 0
           },
           {
            "bin_start": 3.6999999999999997,
            "bin_end": 4,
            "count": 1
           }
          ]
         }
        },
        {
         "name": "beds",
         "dtype": "float64",
         "stats": {
          "unique_count": 4,
          "nan_count": 0,
          "min": "1.0",
          "max": "5.0",
          "histogram": [
           {
            "bin_start": 1,
            "bin_end": 1.4,
            "count": 1
           },
           {
            "bin_start": 1.4,
            "bin_end": 1.8,
            "count": 0
           },
           {
            "bin_start": 1.8,
            "bin_end": 2.2,
            "count": 1
           },
           {
            "bin_start": 2.2,
            "bin_end": 2.6,
            "count": 0
           },
           {
            "bin_start": 2.6,
            "bin_end": 3,
            "count": 0
           },
           {
            "bin_start": 3,
            "bin_end": 3.4000000000000004,
            "count": 0
           },
           {
            "bin_start": 3.4000000000000004,
            "bin_end": 3.8000000000000003,
            "count": 0
           },
           {
            "bin_start": 3.8000000000000003,
            "bin_end": 4.2,
            "count": 1
           },
           {
            "bin_start": 4.2,
            "bin_end": 4.6,
            "count": 0
           },
           {
            "bin_start": 4.6,
            "bin_end": 5,
            "count": 2
           }
          ]
         }
        },
        {
         "name": "cancellation_policy",
         "dtype": "object",
         "stats": {
          "unique_count": 2,
          "nan_count": 0,
          "categories": [
           {
            "name": "strict",
            "count": 3
           },
           {
            "name": "moderate",
            "count": 2
           }
          ]
         }
        },
        {
         "name": "city",
         "dtype": "object",
         "stats": {
          "unique_count": 1,
          "nan_count": 0,
          "categories": [
           {
            "name": "austin",
            "count": 5
           }
          ]
         }
        },
        {
         "name": "id",
         "dtype": "int64",
         "stats": {
          "unique_count": 5,
          "nan_count": 0,
          "min": "593102",
          "max": "10069609",
          "histogram": [
           {
            "bin_start": 593102,
            "bin_end": 1540752.7,
            "count": 2
           },
           {
            "bin_start": 1540752.7,
            "bin_end": 2488403.4,
            "count": 0
           },
           {
            "bin_start": 2488403.4,
            "bin_end": 3436054.0999999996,
            "count": 0
           },
           {
            "bin_start": 3436054.0999999996,
            "bin_end": 4383704.8,
            "count": 1
           },
           {
            "bin_start": 4383704.8,
            "bin_end": 5331355.5,
            "count": 0
           },
           {
            "bin_start": 5331355.5,
            "bin_end": 6279006.199999999,
            "count": 1
           },
           {
            "bin_start": 6279006.199999999,
            "bin_end": 7226656.899999999,
            "count": 0
           },
           {
            "bin_start": 7226656.899999999,
            "bin_end": 8174307.6,
            "count": 0
           },
           {
            "bin_start": 8174307.6,
            "bin_end": 9121958.299999999,
            "count": 0
           },
           {
            "bin_start": 9121958.299999999,
            "bin_end": 10069609,
            "count": 1
           }
          ]
         }
        },
        {
         "name": "instant_bookable",
         "dtype": "object",
         "stats": {
          "unique_count": 1,
          "nan_count": 0,
          "categories": [
           {
            "name": "f",
            "count": 5
           }
          ]
         }
        },
        {
         "name": "metropolitan",
         "dtype": "object",
         "stats": {
          "unique_count": 1,
          "nan_count": 0,
          "categories": [
           {
            "name": "austin",
            "count": 5
           }
          ]
         }
        },
        {
         "name": "name",
         "dtype": "object",
         "stats": {
          "unique_count": 5,
          "nan_count": 0,
          "categories": [
           {
            "name": "Beautiful Central Austin Home",
            "count": 1
           },
           {
            "name": "Rosedale's Casa Blanca: ACL/Form 1 ",
            "count": 1
           },
           {
            "name": "3 others",
            "count": 3
           }
          ]
         }
        },
        {
         "name": "price",
         "dtype": "float64",
         "stats": {
          "unique_count": 5,
          "nan_count": 0,
          "min": "105.0",
          "max": "500.0",
          "histogram": [
           {
            "bin_start": 105,
            "bin_end": 144.5,
            "count": 2
           },
           {
            "bin_start": 144.5,
            "bin_end": 184,
            "count": 0
           },
           {
            "bin_start": 184,
            "bin_end": 223.5,
            "count": 1
           },
           {
            "bin_start": 223.5,
            "bin_end": 263,
            "count": 0
           },
           {
            "bin_start": 263,
            "bin_end": 302.5,
            "count": 1
           },
           {
            "bin_start": 302.5,
            "bin_end": 342,
            "count": 0
           },
           {
            "bin_start": 342,
            "bin_end": 381.5,
            "count": 0
           },
           {
            "bin_start": 381.5,
            "bin_end": 421,
            "count": 0
           },
           {
            "bin_start": 421,
            "bin_end": 460.5,
            "count": 0
           },
           {
            "bin_start": 460.5,
            "bin_end": 500,
            "count": 1
           }
          ]
         }
        },
        {
         "name": "property_type",
         "dtype": "object",
         "stats": {
          "unique_count": 2,
          "nan_count": 0,
          "categories": [
           {
            "name": "House",
            "count": 4
           },
           {
            "name": "Apartment",
            "count": 1
           }
          ]
         }
        },
        {
         "name": "review_scores_checkin",
         "dtype": "float64",
         "stats": {
          "unique_count": 1,
          "nan_count": 0,
          "min": "10.0",
          "max": "10.0",
          "histogram": [
           {
            "bin_start": 9.5,
            "bin_end": 9.6,
            "count": 0
           },
           {
            "bin_start": 9.6,
            "bin_end": 9.7,
            "count": 0
           },
           {
            "bin_start": 9.7,
            "bin_end": 9.8,
            "count": 0
           },
           {
            "bin_start": 9.8,
            "bin_end": 9.9,
            "count": 0
           },
           {
            "bin_start": 9.9,
            "bin_end": 10,
            "count": 0
           },
           {
            "bin_start": 10,
            "bin_end": 10.1,
            "count": 5
           },
           {
            "bin_start": 10.1,
            "bin_end": 10.2,
            "count": 0
           },
           {
            "bin_start": 10.2,
            "bin_end": 10.3,
            "count": 0
           },
           {
            "bin_start": 10.3,
            "bin_end": 10.4,
            "count": 0
           },
           {
            "bin_start": 10.4,
            "bin_end": 10.5,
            "count": 0
           }
          ]
         }
        },
        {
         "name": "review_scores_cleanliness",
         "dtype": "float64",
         "stats": {
          "unique_count": 2,
          "nan_count": 0,
          "min": "9.0",
          "max": "10.0",
          "histogram": [
           {
            "bin_start": 9,
            "bin_end": 9.1,
            "count": 1
           },
           {
            "bin_start": 9.1,
            "bin_end": 9.2,
            "count": 0
           },
           {
            "bin_start": 9.2,
            "bin_end": 9.3,
            "count": 0
           },
           {
            "bin_start": 9.3,
            "bin_end": 9.4,
            "count": 0
           },
           {
            "bin_start": 9.4,
            "bin_end": 9.5,
            "count": 0
           },
           {
            "bin_start": 9.5,
            "bin_end": 9.6,
            "count": 0
           },
           {
            "bin_start": 9.6,
            "bin_end": 9.7,
            "count": 0
           },
           {
            "bin_start": 9.7,
            "bin_end": 9.8,
            "count": 0
           },
           {
            "bin_start": 9.8,
            "bin_end": 9.9,
            "count": 0
           },
           {
            "bin_start": 9.9,
            "bin_end": 10,
            "count": 4
           }
          ]
         }
        },
        {
         "name": "review_scores_communication",
         "dtype": "float64",
         "stats": {
          "unique_count": 1,
          "nan_count": 0,
          "min": "10.0",
          "max": "10.0",
          "histogram": [
           {
            "bin_start": 9.5,
            "bin_end": 9.6,
            "count": 0
           },
           {
            "bin_start": 9.6,
            "bin_end": 9.7,
            "count": 0
           },
           {
            "bin_start": 9.7,
            "bin_end": 9.8,
            "count": 0
           },
           {
            "bin_start": 9.8,
            "bin_end": 9.9,
            "count": 0
           },
           {
            "bin_start": 9.9,
            "bin_end": 10,
            "count": 0
           },
           {
            "bin_start": 10,
            "bin_end": 10.1,
            "count": 5
           },
           {
            "bin_start": 10.1,
            "bin_end": 10.2,
            "count": 0
           },
           {
            "bin_start": 10.2,
            "bin_end": 10.3,
            "count": 0
           },
           {
            "bin_start": 10.3,
            "bin_end": 10.4,
            "count": 0
           },
           {
            "bin_start": 10.4,
            "bin_end": 10.5,
            "count": 0
           }
          ]
         }
        },
        {
         "name": "review_scores_location",
         "dtype": "float64",
         "stats": {
          "unique_count": 1,
          "nan_count": 0,
          "min": "10.0",
          "max": "10.0",
          "histogram": [
           {
            "bin_start": 9.5,
            "bin_end": 9.6,
            "count": 0
           },
           {
            "bin_start": 9.6,
            "bin_end": 9.7,
            "count": 0
           },
           {
            "bin_start": 9.7,
            "bin_end": 9.8,
            "count": 0
           },
           {
            "bin_start": 9.8,
            "bin_end": 9.9,
            "count": 0
           },
           {
            "bin_start": 9.9,
            "bin_end": 10,
            "count": 0
           },
           {
            "bin_start": 10,
            "bin_end": 10.1,
            "count": 5
           },
           {
            "bin_start": 10.1,
            "bin_end": 10.2,
            "count": 0
           },
           {
            "bin_start": 10.2,
            "bin_end": 10.3,
            "count": 0
           },
           {
            "bin_start": 10.3,
            "bin_end": 10.4,
            "count": 0
           },
           {
            "bin_start": 10.4,
            "bin_end": 10.5,
            "count": 0
           }
          ]
         }
        },
        {
         "name": "review_scores_rating",
         "dtype": "float64",
         "stats": {
          "unique_count": 4,
          "nan_count": 0,
          "min": "93.0",
          "max": "100.0",
          "histogram": [
           {
            "bin_start": 93,
            "bin_end": 93.7,
            "count": 1
           },
           {
            "bin_start": 93.7,
            "bin_end": 94.4,
            "count": 0
           },
           {
            "bin_start": 94.4,
            "bin_end": 95.1,
            "count": 0
           },
           {
            "bin_start": 95.1,
            "bin_end": 95.8,
            "count": 0
           },
           {
            "bin_start": 95.8,
            "bin_end": 96.5,
            "count": 0
           },
           {
            "bin_start": 96.5,
            "bin_end": 97.2,
            "count": 0
           },
           {
            "bin_start": 97.2,
            "bin_end": 97.9,
            "count": 0
           },
           {
            "bin_start": 97.9,
            "bin_end": 98.6,
            "count": 1
           },
           {
            "bin_start": 98.6,
            "bin_end": 99.3,
            "count": 1
           },
           {
            "bin_start": 99.3,
            "bin_end": 100,
            "count": 2
           }
          ]
         }
        },
        {
         "name": "review_scores_value",
         "dtype": "float64",
         "stats": {
          "unique_count": 2,
          "nan_count": 0,
          "min": "9.0",
          "max": "10.0",
          "histogram": [
           {
            "bin_start": 9,
            "bin_end": 9.1,
            "count": 1
           },
           {
            "bin_start": 9.1,
            "bin_end": 9.2,
            "count": 0
           },
           {
            "bin_start": 9.2,
            "bin_end": 9.3,
            "count": 0
           },
           {
            "bin_start": 9.3,
            "bin_end": 9.4,
            "count": 0
           },
           {
            "bin_start": 9.4,
            "bin_end": 9.5,
            "count": 0
           },
           {
            "bin_start": 9.5,
            "bin_end": 9.6,
            "count": 0
           },
           {
            "bin_start": 9.6,
            "bin_end": 9.7,
            "count": 0
           },
           {
            "bin_start": 9.7,
            "bin_end": 9.8,
            "count": 0
           },
           {
            "bin_start": 9.8,
            "bin_end": 9.9,
            "count": 0
           },
           {
            "bin_start": 9.9,
            "bin_end": 10,
            "count": 4
           }
          ]
         }
        },
        {
         "name": "room_type",
         "dtype": "object",
         "stats": {
          "unique_count": 1,
          "nan_count": 0,
          "categories": [
           {
            "name": "Entire home/apt",
            "count": 5
           }
          ]
         }
        },
        {
         "name": "state",
         "dtype": "object",
         "stats": {
          "unique_count": 1,
          "nan_count": 0,
          "categories": [
           {
            "name": "TX",
            "count": 5
           }
          ]
         }
        },
        {
         "name": "_deepnote_index_column",
         "dtype": "int64"
        }
       ],
       "rows_top": [
        {
         "accommodates": 5,
         "amenities": "{TV,\"Cable TV\",Internet,\"Wireless Internet\",\"Air conditioning\",Kitchen,\"Free parking on premises\",\"…",
         "availability_30": 0,
         "bathrooms": 2,
         "bed_type": "Real Bed",
         "bedrooms": 3,
         "beds": 4,
         "cancellation_policy": "strict",
         "city": "austin",
         "id": 1068507,
         "instant_bookable": "f",
         "metropolitan": "austin",
         "name": "Beautiful Central Austin Home",
         "price": 130,
         "property_type": "House",
         "review_scores_checkin": 10,
         "review_scores_cleanliness": 9,
         "review_scores_communication": 10,
         "review_scores_location": 10,
         "review_scores_rating": 100,
         "review_scores_value": 10,
         "room_type": "Entire home/apt",
         "state": "TX",
         "_deepnote_index_column": 0
        },
        {
         "accommodates": 7,
         "amenities": "{\"Cable TV\",\"Wireless Internet\",\"Air conditioning\",Kitchen,\"Free parking on premises\",\"Indoor firep…",
         "availability_30": 25,
         "bathrooms": 2,
         "bed_type": "Real Bed",
         "bedrooms": 3,
         "beds": 5,
         "cancellation_policy": "strict",
         "city": "austin",
         "id": 593102,
         "instant_bookable": "f",
         "metropolitan": "austin",
         "name": "Rosedale's Casa Blanca: ACL/Form 1 ",
         "price": 500,
         "property_type": "House",
         "review_scores_checkin": 10,
         "review_scores_cleanliness": 10,
         "review_scores_communication": 10,
         "review_scores_location": 10,
         "review_scores_rating": 99,
         "review_scores_value": 9,
         "room_type": "Entire home/apt",
         "state": "TX",
         "_deepnote_index_column": 1
        },
        {
         "accommodates": 4,
         "amenities": "{TV,Internet,\"Wireless Internet\",\"Air conditioning\",Kitchen,\"Free parking on premises\",\"Pets allowe…",
         "availability_30": 6,
         "bathrooms": 1,
         "bed_type": "Real Bed",
         "bedrooms": 1,
         "beds": 2,
         "cancellation_policy": "moderate",
         "city": "austin",
         "id": 5992071,
         "instant_bookable": "f",
         "metropolitan": "austin",
         "name": "Central Austin Craftsman Sleeps 4",
         "price": 195,
         "property_type": "Apartment",
         "review_scores_checkin": 10,
         "review_scores_cleanliness": 10,
         "review_scores_communication": 10,
         "review_scores_location": 10,
         "review_scores_rating": 100,
         "review_scores_value": 10,
         "room_type": "Entire home/apt",
         "state": "TX",
         "_deepnote_index_column": 2
        },
        {
         "accommodates": 12,
         "amenities": "{TV,\"Cable TV\",Internet,\"Wireless Internet\",\"Air conditioning\",Kitchen,\"Free parking on premises\",\"…",
         "availability_30": 23,
         "bathrooms": 3,
         "bed_type": "Real Bed",
         "bedrooms": 4,
         "beds": 5,
         "cancellation_policy": "strict",
         "city": "austin",
         "id": 10069609,
         "instant_bookable": "f",
         "metropolitan": "austin",
         "name": "Charming Rosedale Home Sleeps 12!",
         "price": 300,
         "property_type": "House",
         "review_scores_checkin": 10,
         "review_scores_cleanliness": 10,
         "review_scores_communication": 10,
         "review_scores_location": 10,
         "review_scores_rating": 93,
         "review_scores_value": 10,
         "room_type": "Entire home/apt",
         "state": "TX",
         "_deepnote_index_column": 3
        },
        {
         "accommodates": 2,
         "amenities": "{TV,\"Wireless Internet\",\"Air conditioning\",\"Free parking on premises\",Heating,\"Smoke detector\",\"Car…",
         "availability_30": 10,
         "bathrooms": 1,
         "bed_type": "Real Bed",
         "bedrooms": 1,
         "beds": 1,
         "cancellation_policy": "moderate",
         "city": "austin",
         "id": 3689085,
         "instant_bookable": "f",
         "metropolitan": "austin",
         "name": "Welcome - TajMaSmall Guest Suite",
         "price": 105,
         "property_type": "House",
         "review_scores_checkin": 10,
         "review_scores_cleanliness": 10,
         "review_scores_communication": 10,
         "review_scores_location": 10,
         "review_scores_rating": 98,
         "review_scores_value": 10,
         "room_type": "Entire home/apt",
         "state": "TX",
         "_deepnote_index_column": 4
        }
       ],
       "rows_bottom": null
      },
      "text/plain": "   accommodates                                          amenities  \\\n0           5.0  {TV,\"Cable TV\",Internet,\"Wireless Internet\",\"A...   \n1           7.0  {\"Cable TV\",\"Wireless Internet\",\"Air condition...   \n2           4.0  {TV,Internet,\"Wireless Internet\",\"Air conditio...   \n3          12.0  {TV,\"Cable TV\",Internet,\"Wireless Internet\",\"A...   \n4           2.0  {TV,\"Wireless Internet\",\"Air conditioning\",\"Fr...   \n\n   availability_30  bathrooms  bed_type  bedrooms  beds cancellation_policy  \\\n0                0        2.0  Real Bed       3.0   4.0              strict   \n1               25        2.0  Real Bed       3.0   5.0              strict   \n2                6        1.0  Real Bed       1.0   2.0            moderate   \n3               23        3.0  Real Bed       4.0   5.0              strict   \n4               10        1.0  Real Bed       1.0   1.0            moderate   \n\n     city        id  ...  price property_type review_scores_checkin  \\\n0  austin   1068507  ...  130.0         House                  10.0   \n1  austin    593102  ...  500.0         House                  10.0   \n2  austin   5992071  ...  195.0     Apartment                  10.0   \n3  austin  10069609  ...  300.0         House                  10.0   \n4  austin   3689085  ...  105.0         House                  10.0   \n\n   review_scores_cleanliness review_scores_communication  \\\n0                        9.0                        10.0   \n1                       10.0                        10.0   \n2                       10.0                        10.0   \n3                       10.0                        10.0   \n4                       10.0                        10.0   \n\n   review_scores_location  review_scores_rating  review_scores_value  \\\n0                    10.0                 100.0                 10.0   \n1                    10.0                  99.0                  9.0   \n2                    10.0                 100.0                 10.0   \n3                    10.0                  93.0                 10.0   \n4                    10.0                  98.0                 10.0   \n\n         room_type  state  \n0  Entire home/apt     TX  \n1  Entire home/apt     TX  \n2  Entire home/apt     TX  \n3  Entire home/apt     TX  \n4  Entire home/apt     TX  \n\n[5 rows x 23 columns]",
      "text/html": "<div>\n<style scoped>\n    .dataframe tbody tr th:only-of-type {\n        vertical-align: middle;\n    }\n\n    .dataframe tbody tr th {\n        vertical-align: top;\n    }\n\n    .dataframe thead th {\n        text-align: right;\n    }\n</style>\n<table border=\"1\" class=\"dataframe\">\n  <thead>\n    <tr style=\"text-align: right;\">\n      <th></th>\n      <th>accommodates</th>\n      <th>amenities</th>\n      <th>availability_30</th>\n      <th>bathrooms</th>\n      <th>bed_type</th>\n      <th>bedrooms</th>\n      <th>beds</th>\n      <th>cancellation_policy</th>\n      <th>city</th>\n      <th>id</th>\n      <th>...</th>\n      <th>price</th>\n      <th>property_type</th>\n      <th>review_scores_checkin</th>\n      <th>review_scores_cleanliness</th>\n      <th>review_scores_communication</th>\n      <th>review_scores_location</th>\n      <th>review_scores_rating</th>\n      <th>review_scores_value</th>\n      <th>room_type</th>\n      <th>state</th>\n    </tr>\n  </thead>\n  <tbody>\n    <tr>\n      <th>0</th>\n      <td>5.0</td>\n      <td>{TV,\"Cable TV\",Internet,\"Wireless Internet\",\"A...</td>\n      <td>0</td>\n      <td>2.0</td>\n      <td>Real Bed</td>\n      <td>3.0</td>\n      <td>4.0</td>\n      <td>strict</td>\n      <td>austin</td>\n      <td>1068507</td>\n      <td>...</td>\n      <td>130.0</td>\n      <td>House</td>\n      <td>10.0</td>\n      <td>9.0</td>\n      <td>10.0</td>\n      <td>10.0</td>\n      <td>100.0</td>\n      <td>10.0</td>\n      <td>Entire home/apt</td>\n      <td>TX</td>\n    </tr>\n    <tr>\n      <th>1</th>\n      <td>7.0</td>\n      <td>{\"Cable TV\",\"Wireless Internet\",\"Air condition...</td>\n      <td>25</td>\n      <td>2.0</td>\n      <td>Real Bed</td>\n      <td>3.0</td>\n      <td>5.0</td>\n      <td>strict</td>\n      <td>austin</td>\n      <td>593102</td>\n      <td>...</td>\n      <td>500.0</td>\n      <td>House</td>\n      <td>10.0</td>\n      <td>10.0</td>\n      <td>10.0</td>\n      <td>10.0</td>\n      <td>99.0</td>\n      <td>9.0</td>\n      <td>Entire home/apt</td>\n      <td>TX</td>\n    </tr>\n    <tr>\n      <th>2</th>\n      <td>4.0</td>\n      <td>{TV,Internet,\"Wireless Internet\",\"Air conditio...</td>\n      <td>6</td>\n      <td>1.0</td>\n      <td>Real Bed</td>\n      <td>1.0</td>\n      <td>2.0</td>\n      <td>moderate</td>\n      <td>austin</td>\n      <td>5992071</td>\n      <td>...</td>\n      <td>195.0</td>\n      <td>Apartment</td>\n      <td>10.0</td>\n      <td>10.0</td>\n      <td>10.0</td>\n      <td>10.0</td>\n      <td>100.0</td>\n      <td>10.0</td>\n      <td>Entire home/apt</td>\n      <td>TX</td>\n    </tr>\n    <tr>\n      <th>3</th>\n      <td>12.0</td>\n      <td>{TV,\"Cable TV\",Internet,\"Wireless Internet\",\"A...</td>\n      <td>23</td>\n      <td>3.0</td>\n      <td>Real Bed</td>\n      <td>4.0</td>\n      <td>5.0</td>\n      <td>strict</td>\n      <td>austin</td>\n      <td>10069609</td>\n      <td>...</td>\n      <td>300.0</td>\n      <td>House</td>\n      <td>10.0</td>\n      <td>10.0</td>\n      <td>10.0</td>\n      <td>10.0</td>\n      <td>93.0</td>\n      <td>10.0</td>\n      <td>Entire home/apt</td>\n      <td>TX</td>\n    </tr>\n    <tr>\n      <th>4</th>\n      <td>2.0</td>\n      <td>{TV,\"Wireless Internet\",\"Air conditioning\",\"Fr...</td>\n      <td>10</td>\n      <td>1.0</td>\n      <td>Real Bed</td>\n      <td>1.0</td>\n      <td>1.0</td>\n      <td>moderate</td>\n      <td>austin</td>\n      <td>3689085</td>\n      <td>...</td>\n      <td>105.0</td>\n      <td>House</td>\n      <td>10.0</td>\n      <td>10.0</td>\n      <td>10.0</td>\n      <td>10.0</td>\n      <td>98.0</td>\n      <td>10.0</td>\n      <td>Entire home/apt</td>\n      <td>TX</td>\n    </tr>\n  </tbody>\n</table>\n<p>5 rows × 23 columns</p>\n</div>"
     },
     "metadata": {}
    }
   ]
  },
  {
   "cell_type": "code",
   "metadata": {
    "cell_id": "00009-3cfeb0bf-6df2-462a-8df8-daafcde31efb",
    "deepnote_to_be_reexecuted": false,
    "source_hash": "e25481d6",
    "execution_start": 1626543604271,
    "execution_millis": 50,
    "deepnote_cell_type": "code"
   },
   "source": "categorical_types = ['bed_type', 'cancellation_policy', 'instant_bookable', 'property_type', 'room_type']\nlistings[categorical_types] = listings[categorical_types].apply(lambda x: x.astype('category'), axis='rows')\nlistings[categorical_types].dtypes",
   "execution_count": null,
   "outputs": [
    {
     "output_type": "execute_result",
     "execution_count": 10,
     "data": {
      "text/plain": "bed_type               category\ncancellation_policy    category\ninstant_bookable       category\nproperty_type          category\nroom_type              category\ndtype: object"
     },
     "metadata": {}
    }
   ]
  },
  {
   "cell_type": "code",
   "metadata": {
    "cell_id": "00010-82755638-fe06-4e88-912f-c4472a6c0bfb",
    "deepnote_to_be_reexecuted": false,
    "source_hash": "6fd98521",
    "execution_start": 1626543604800,
    "execution_millis": 134,
    "deepnote_cell_type": "code"
   },
   "source": "category_onehot_encoding = pd.get_dummies(listings[categorical_types])\ncategory_onehot_encoding.head()",
   "execution_count": null,
   "outputs": [
    {
     "output_type": "execute_result",
     "execution_count": 11,
     "data": {
      "application/vnd.deepnote.dataframe.v2+json": {
       "row_count": 5,
       "column_count": 38,
       "columns": [
        {
         "name": "bed_type_Airbed",
         "dtype": "uint8",
         "stats": {
          "unique_count": 1,
          "nan_count": 0,
          "min": "0",
          "max": "0",
          "histogram": [
           {
            "bin_start": -0.5,
            "bin_end": -0.4,
            "count": 0
           },
           {
            "bin_start": -0.4,
            "bin_end": -0.3,
            "count": 0
           },
           {
            "bin_start": -0.3,
            "bin_end": -0.19999999999999996,
            "count": 0
           },
           {
            "bin_start": -0.19999999999999996,
            "bin_end": -0.09999999999999998,
            "count": 0
           },
           {
            "bin_start": -0.09999999999999998,
            "bin_end": 0,
            "count": 0
           },
           {
            "bin_start": 0,
            "bin_end": 0.10000000000000009,
            "count": 5
           },
           {
            "bin_start": 0.10000000000000009,
            "bin_end": 0.20000000000000007,
            "count": 0
           },
           {
            "bin_start": 0.20000000000000007,
            "bin_end": 0.30000000000000004,
            "count": 0
           },
           {
            "bin_start": 0.30000000000000004,
            "bin_end": 0.4,
            "count": 0
           },
           {
            "bin_start": 0.4,
            "bin_end": 0.5,
            "count": 0
           }
          ]
         }
        },
        {
         "name": "bed_type_Couch",
         "dtype": "uint8",
         "stats": {
          "unique_count": 1,
          "nan_count": 0,
          "min": "0",
          "max": "0",
          "histogram": [
           {
            "bin_start": -0.5,
            "bin_end": -0.4,
            "count": 0
           },
           {
            "bin_start": -0.4,
            "bin_end": -0.3,
            "count": 0
           },
           {
            "bin_start": -0.3,
            "bin_end": -0.19999999999999996,
            "count": 0
           },
           {
            "bin_start": -0.19999999999999996,
            "bin_end": -0.09999999999999998,
            "count": 0
           },
           {
            "bin_start": -0.09999999999999998,
            "bin_end": 0,
            "count": 0
           },
           {
            "bin_start": 0,
            "bin_end": 0.10000000000000009,
            "count": 5
           },
           {
            "bin_start": 0.10000000000000009,
            "bin_end": 0.20000000000000007,
            "count": 0
           },
           {
            "bin_start": 0.20000000000000007,
            "bin_end": 0.30000000000000004,
            "count": 0
           },
           {
            "bin_start": 0.30000000000000004,
            "bin_end": 0.4,
            "count": 0
           },
           {
            "bin_start": 0.4,
            "bin_end": 0.5,
            "count": 0
           }
          ]
         }
        },
        {
         "name": "bed_type_Futon",
         "dtype": "uint8",
         "stats": {
          "unique_count": 1,
          "nan_count": 0,
          "min": "0",
          "max": "0",
          "histogram": [
           {
            "bin_start": -0.5,
            "bin_end": -0.4,
            "count": 0
           },
           {
            "bin_start": -0.4,
            "bin_end": -0.3,
            "count": 0
           },
           {
            "bin_start": -0.3,
            "bin_end": -0.19999999999999996,
            "count": 0
           },
           {
            "bin_start": -0.19999999999999996,
            "bin_end": -0.09999999999999998,
            "count": 0
           },
           {
            "bin_start": -0.09999999999999998,
            "bin_end": 0,
            "count": 0
           },
           {
            "bin_start": 0,
            "bin_end": 0.10000000000000009,
            "count": 5
           },
           {
            "bin_start": 0.10000000000000009,
            "bin_end": 0.20000000000000007,
            "count": 0
           },
           {
            "bin_start": 0.20000000000000007,
            "bin_end": 0.30000000000000004,
            "count": 0
           },
           {
            "bin_start": 0.30000000000000004,
            "bin_end": 0.4,
            "count": 0
           },
           {
            "bin_start": 0.4,
            "bin_end": 0.5,
            "count": 0
           }
          ]
         }
        },
        {
         "name": "bed_type_Pull-out Sofa",
         "dtype": "uint8",
         "stats": {
          "unique_count": 1,
          "nan_count": 0,
          "min": "0",
          "max": "0",
          "histogram": [
           {
            "bin_start": -0.5,
            "bin_end": -0.4,
            "count": 0
           },
           {
            "bin_start": -0.4,
            "bin_end": -0.3,
            "count": 0
           },
           {
            "bin_start": -0.3,
            "bin_end": -0.19999999999999996,
            "count": 0
           },
           {
            "bin_start": -0.19999999999999996,
            "bin_end": -0.09999999999999998,
            "count": 0
           },
           {
            "bin_start": -0.09999999999999998,
            "bin_end": 0,
            "count": 0
           },
           {
            "bin_start": 0,
            "bin_end": 0.10000000000000009,
            "count": 5
           },
           {
            "bin_start": 0.10000000000000009,
            "bin_end": 0.20000000000000007,
            "count": 0
           },
           {
            "bin_start": 0.20000000000000007,
            "bin_end": 0.30000000000000004,
            "count": 0
           },
           {
            "bin_start": 0.30000000000000004,
            "bin_end": 0.4,
            "count": 0
           },
           {
            "bin_start": 0.4,
            "bin_end": 0.5,
            "count": 0
           }
          ]
         }
        },
        {
         "name": "bed_type_Real Bed",
         "dtype": "uint8",
         "stats": {
          "unique_count": 1,
          "nan_count": 0,
          "min": "1",
          "max": "1",
          "histogram": [
           {
            "bin_start": 0.5,
            "bin_end": 0.6,
            "count": 0
           },
           {
            "bin_start": 0.6,
            "bin_end": 0.7,
            "count": 0
           },
           {
            "bin_start": 0.7,
            "bin_end": 0.8,
            "count": 0
           },
           {
            "bin_start": 0.8,
            "bin_end": 0.9,
            "count": 0
           },
           {
            "bin_start": 0.9,
            "bin_end": 1,
            "count": 0
           },
           {
            "bin_start": 1,
            "bin_end": 1.1,
            "count": 5
           },
           {
            "bin_start": 1.1,
            "bin_end": 1.2000000000000002,
            "count": 0
           },
           {
            "bin_start": 1.2000000000000002,
            "bin_end": 1.3,
            "count": 0
           },
           {
            "bin_start": 1.3,
            "bin_end": 1.4,
            "count": 0
           },
           {
            "bin_start": 1.4,
            "bin_end": 1.5,
            "count": 0
           }
          ]
         }
        },
        {
         "name": "cancellation_policy_flexible",
         "dtype": "uint8",
         "stats": {
          "unique_count": 1,
          "nan_count": 0,
          "min": "0",
          "max": "0",
          "histogram": [
           {
            "bin_start": -0.5,
            "bin_end": -0.4,
            "count": 0
           },
           {
            "bin_start": -0.4,
            "bin_end": -0.3,
            "count": 0
           },
           {
            "bin_start": -0.3,
            "bin_end": -0.19999999999999996,
            "count": 0
           },
           {
            "bin_start": -0.19999999999999996,
            "bin_end": -0.09999999999999998,
            "count": 0
           },
           {
            "bin_start": -0.09999999999999998,
            "bin_end": 0,
            "count": 0
           },
           {
            "bin_start": 0,
            "bin_end": 0.10000000000000009,
            "count": 5
           },
           {
            "bin_start": 0.10000000000000009,
            "bin_end": 0.20000000000000007,
            "count": 0
           },
           {
            "bin_start": 0.20000000000000007,
            "bin_end": 0.30000000000000004,
            "count": 0
           },
           {
            "bin_start": 0.30000000000000004,
            "bin_end": 0.4,
            "count": 0
           },
           {
            "bin_start": 0.4,
            "bin_end": 0.5,
            "count": 0
           }
          ]
         }
        },
        {
         "name": "cancellation_policy_moderate",
         "dtype": "uint8",
         "stats": {
          "unique_count": 2,
          "nan_count": 0,
          "min": "0",
          "max": "1",
          "histogram": [
           {
            "bin_start": 0,
            "bin_end": 0.1,
            "count": 3
           },
           {
            "bin_start": 0.1,
            "bin_end": 0.2,
            "count": 0
           },
           {
            "bin_start": 0.2,
            "bin_end": 0.30000000000000004,
            "count": 0
           },
           {
            "bin_start": 0.30000000000000004,
            "bin_end": 0.4,
            "count": 0
           },
           {
            "bin_start": 0.4,
            "bin_end": 0.5,
            "count": 0
           },
           {
            "bin_start": 0.5,
            "bin_end": 0.6000000000000001,
            "count": 0
           },
           {
            "bin_start": 0.6000000000000001,
            "bin_end": 0.7000000000000001,
            "count": 0
           },
           {
            "bin_start": 0.7000000000000001,
            "bin_end": 0.8,
            "count": 0
           },
           {
            "bin_start": 0.8,
            "bin_end": 0.9,
            "count": 0
           },
           {
            "bin_start": 0.9,
            "bin_end": 1,
            "count": 2
           }
          ]
         }
        },
        {
         "name": "cancellation_policy_strict",
         "dtype": "uint8",
         "stats": {
          "unique_count": 2,
          "nan_count": 0,
          "min": "0",
          "max": "1",
          "histogram": [
           {
            "bin_start": 0,
            "bin_end": 0.1,
            "count": 2
           },
           {
            "bin_start": 0.1,
            "bin_end": 0.2,
            "count": 0
           },
           {
            "bin_start": 0.2,
            "bin_end": 0.30000000000000004,
            "count": 0
           },
           {
            "bin_start": 0.30000000000000004,
            "bin_end": 0.4,
            "count": 0
           },
           {
            "bin_start": 0.4,
            "bin_end": 0.5,
            "count": 0
           },
           {
            "bin_start": 0.5,
            "bin_end": 0.6000000000000001,
            "count": 0
           },
           {
            "bin_start": 0.6000000000000001,
            "bin_end": 0.7000000000000001,
            "count": 0
           },
           {
            "bin_start": 0.7000000000000001,
            "bin_end": 0.8,
            "count": 0
           },
           {
            "bin_start": 0.8,
            "bin_end": 0.9,
            "count": 0
           },
           {
            "bin_start": 0.9,
            "bin_end": 1,
            "count": 3
           }
          ]
         }
        },
        {
         "name": "cancellation_policy_super_strict_30",
         "dtype": "uint8",
         "stats": {
          "unique_count": 1,
          "nan_count": 0,
          "min": "0",
          "max": "0",
          "histogram": [
           {
            "bin_start": -0.5,
            "bin_end": -0.4,
            "count": 0
           },
           {
            "bin_start": -0.4,
            "bin_end": -0.3,
            "count": 0
           },
           {
            "bin_start": -0.3,
            "bin_end": -0.19999999999999996,
            "count": 0
           },
           {
            "bin_start": -0.19999999999999996,
            "bin_end": -0.09999999999999998,
            "count": 0
           },
           {
            "bin_start": -0.09999999999999998,
            "bin_end": 0,
            "count": 0
           },
           {
            "bin_start": 0,
            "bin_end": 0.10000000000000009,
            "count": 5
           },
           {
            "bin_start": 0.10000000000000009,
            "bin_end": 0.20000000000000007,
            "count": 0
           },
           {
            "bin_start": 0.20000000000000007,
            "bin_end": 0.30000000000000004,
            "count": 0
           },
           {
            "bin_start": 0.30000000000000004,
            "bin_end": 0.4,
            "count": 0
           },
           {
            "bin_start": 0.4,
            "bin_end": 0.5,
            "count": 0
           }
          ]
         }
        },
        {
         "name": "cancellation_policy_super_strict_60",
         "dtype": "uint8",
         "stats": {
          "unique_count": 1,
          "nan_count": 0,
          "min": "0",
          "max": "0",
          "histogram": [
           {
            "bin_start": -0.5,
            "bin_end": -0.4,
            "count": 0
           },
           {
            "bin_start": -0.4,
            "bin_end": -0.3,
            "count": 0
           },
           {
            "bin_start": -0.3,
            "bin_end": -0.19999999999999996,
            "count": 0
           },
           {
            "bin_start": -0.19999999999999996,
            "bin_end": -0.09999999999999998,
            "count": 0
           },
           {
            "bin_start": -0.09999999999999998,
            "bin_end": 0,
            "count": 0
           },
           {
            "bin_start": 0,
            "bin_end": 0.10000000000000009,
            "count": 5
           },
           {
            "bin_start": 0.10000000000000009,
            "bin_end": 0.20000000000000007,
            "count": 0
           },
           {
            "bin_start": 0.20000000000000007,
            "bin_end": 0.30000000000000004,
            "count": 0
           },
           {
            "bin_start": 0.30000000000000004,
            "bin_end": 0.4,
            "count": 0
           },
           {
            "bin_start": 0.4,
            "bin_end": 0.5,
            "count": 0
           }
          ]
         }
        },
        {
         "name": "instant_bookable_f",
         "dtype": "uint8",
         "stats": {
          "unique_count": 1,
          "nan_count": 0,
          "min": "1",
          "max": "1",
          "histogram": [
           {
            "bin_start": 0.5,
            "bin_end": 0.6,
            "count": 0
           },
           {
            "bin_start": 0.6,
            "bin_end": 0.7,
            "count": 0
           },
           {
            "bin_start": 0.7,
            "bin_end": 0.8,
            "count": 0
           },
           {
            "bin_start": 0.8,
            "bin_end": 0.9,
            "count": 0
           },
           {
            "bin_start": 0.9,
            "bin_end": 1,
            "count": 0
           },
           {
            "bin_start": 1,
            "bin_end": 1.1,
            "count": 5
           },
           {
            "bin_start": 1.1,
            "bin_end": 1.2000000000000002,
            "count": 0
           },
           {
            "bin_start": 1.2000000000000002,
            "bin_end": 1.3,
            "count": 0
           },
           {
            "bin_start": 1.3,
            "bin_end": 1.4,
            "count": 0
           },
           {
            "bin_start": 1.4,
            "bin_end": 1.5,
            "count": 0
           }
          ]
         }
        },
        {
         "name": "instant_bookable_t",
         "dtype": "uint8",
         "stats": {
          "unique_count": 1,
          "nan_count": 0,
          "min": "0",
          "max": "0",
          "histogram": [
           {
            "bin_start": -0.5,
            "bin_end": -0.4,
            "count": 0
           },
           {
            "bin_start": -0.4,
            "bin_end": -0.3,
            "count": 0
           },
           {
            "bin_start": -0.3,
            "bin_end": -0.19999999999999996,
            "count": 0
           },
           {
            "bin_start": -0.19999999999999996,
            "bin_end": -0.09999999999999998,
            "count": 0
           },
           {
            "bin_start": -0.09999999999999998,
            "bin_end": 0,
            "count": 0
           },
           {
            "bin_start": 0,
            "bin_end": 0.10000000000000009,
            "count": 5
           },
           {
            "bin_start": 0.10000000000000009,
            "bin_end": 0.20000000000000007,
            "count": 0
           },
           {
            "bin_start": 0.20000000000000007,
            "bin_end": 0.30000000000000004,
            "count": 0
           },
           {
            "bin_start": 0.30000000000000004,
            "bin_end": 0.4,
            "count": 0
           },
           {
            "bin_start": 0.4,
            "bin_end": 0.5,
            "count": 0
           }
          ]
         }
        },
        {
         "name": "property_type_Apartment",
         "dtype": "uint8",
         "stats": {
          "unique_count": 2,
          "nan_count": 0,
          "min": "0",
          "max": "1",
          "histogram": [
           {
            "bin_start": 0,
            "bin_end": 0.1,
            "count": 4
           },
           {
            "bin_start": 0.1,
            "bin_end": 0.2,
            "count": 0
           },
           {
            "bin_start": 0.2,
            "bin_end": 0.30000000000000004,
            "count": 0
           },
           {
            "bin_start": 0.30000000000000004,
            "bin_end": 0.4,
            "count": 0
           },
           {
            "bin_start": 0.4,
            "bin_end": 0.5,
            "count": 0
           },
           {
            "bin_start": 0.5,
            "bin_end": 0.6000000000000001,
            "count": 0
           },
           {
            "bin_start": 0.6000000000000001,
            "bin_end": 0.7000000000000001,
            "count": 0
           },
           {
            "bin_start": 0.7000000000000001,
            "bin_end": 0.8,
            "count": 0
           },
           {
            "bin_start": 0.8,
            "bin_end": 0.9,
            "count": 0
           },
           {
            "bin_start": 0.9,
            "bin_end": 1,
            "count": 1
           }
          ]
         }
        },
        {
         "name": "property_type_Bed & Breakfast",
         "dtype": "uint8",
         "stats": {
          "unique_count": 1,
          "nan_count": 0,
          "min": "0",
          "max": "0",
          "histogram": [
           {
            "bin_start": -0.5,
            "bin_end": -0.4,
            "count": 0
           },
           {
            "bin_start": -0.4,
            "bin_end": -0.3,
            "count": 0
           },
           {
            "bin_start": -0.3,
            "bin_end": -0.19999999999999996,
            "count": 0
           },
           {
            "bin_start": -0.19999999999999996,
            "bin_end": -0.09999999999999998,
            "count": 0
           },
           {
            "bin_start": -0.09999999999999998,
            "bin_end": 0,
            "count": 0
           },
           {
            "bin_start": 0,
            "bin_end": 0.10000000000000009,
            "count": 5
           },
           {
            "bin_start": 0.10000000000000009,
            "bin_end": 0.20000000000000007,
            "count": 0
           },
           {
            "bin_start": 0.20000000000000007,
            "bin_end": 0.30000000000000004,
            "count": 0
           },
           {
            "bin_start": 0.30000000000000004,
            "bin_end": 0.4,
            "count": 0
           },
           {
            "bin_start": 0.4,
            "bin_end": 0.5,
            "count": 0
           }
          ]
         }
        },
        {
         "name": "property_type_Boat",
         "dtype": "uint8",
         "stats": {
          "unique_count": 1,
          "nan_count": 0,
          "min": "0",
          "max": "0",
          "histogram": [
           {
            "bin_start": -0.5,
            "bin_end": -0.4,
            "count": 0
           },
           {
            "bin_start": -0.4,
            "bin_end": -0.3,
            "count": 0
           },
           {
            "bin_start": -0.3,
            "bin_end": -0.19999999999999996,
            "count": 0
           },
           {
            "bin_start": -0.19999999999999996,
            "bin_end": -0.09999999999999998,
            "count": 0
           },
           {
            "bin_start": -0.09999999999999998,
            "bin_end": 0,
            "count": 0
           },
           {
            "bin_start": 0,
            "bin_end": 0.10000000000000009,
            "count": 5
           },
           {
            "bin_start": 0.10000000000000009,
            "bin_end": 0.20000000000000007,
            "count": 0
           },
           {
            "bin_start": 0.20000000000000007,
            "bin_end": 0.30000000000000004,
            "count": 0
           },
           {
            "bin_start": 0.30000000000000004,
            "bin_end": 0.4,
            "count": 0
           },
           {
            "bin_start": 0.4,
            "bin_end": 0.5,
            "count": 0
           }
          ]
         }
        },
        {
         "name": "property_type_Boutique hotel",
         "dtype": "uint8",
         "stats": {
          "unique_count": 1,
          "nan_count": 0,
          "min": "0",
          "max": "0",
          "histogram": [
           {
            "bin_start": -0.5,
            "bin_end": -0.4,
            "count": 0
           },
           {
            "bin_start": -0.4,
            "bin_end": -0.3,
            "count": 0
           },
           {
            "bin_start": -0.3,
            "bin_end": -0.19999999999999996,
            "count": 0
           },
           {
            "bin_start": -0.19999999999999996,
            "bin_end": -0.09999999999999998,
            "count": 0
           },
           {
            "bin_start": -0.09999999999999998,
            "bin_end": 0,
            "count": 0
           },
           {
            "bin_start": 0,
            "bin_end": 0.10000000000000009,
            "count": 5
           },
           {
            "bin_start": 0.10000000000000009,
            "bin_end": 0.20000000000000007,
            "count": 0
           },
           {
            "bin_start": 0.20000000000000007,
            "bin_end": 0.30000000000000004,
            "count": 0
           },
           {
            "bin_start": 0.30000000000000004,
            "bin_end": 0.4,
            "count": 0
           },
           {
            "bin_start": 0.4,
            "bin_end": 0.5,
            "count": 0
           }
          ]
         }
        },
        {
         "name": "property_type_Bungalow",
         "dtype": "uint8",
         "stats": {
          "unique_count": 1,
          "nan_count": 0,
          "min": "0",
          "max": "0",
          "histogram": [
           {
            "bin_start": -0.5,
            "bin_end": -0.4,
            "count": 0
           },
           {
            "bin_start": -0.4,
            "bin_end": -0.3,
            "count": 0
           },
           {
            "bin_start": -0.3,
            "bin_end": -0.19999999999999996,
            "count": 0
           },
           {
            "bin_start": -0.19999999999999996,
            "bin_end": -0.09999999999999998,
            "count": 0
           },
           {
            "bin_start": -0.09999999999999998,
            "bin_end": 0,
            "count": 0
           },
           {
            "bin_start": 0,
            "bin_end": 0.10000000000000009,
            "count": 5
           },
           {
            "bin_start": 0.10000000000000009,
            "bin_end": 0.20000000000000007,
            "count": 0
           },
           {
            "bin_start": 0.20000000000000007,
            "bin_end": 0.30000000000000004,
            "count": 0
           },
           {
            "bin_start": 0.30000000000000004,
            "bin_end": 0.4,
            "count": 0
           },
           {
            "bin_start": 0.4,
            "bin_end": 0.5,
            "count": 0
           }
          ]
         }
        },
        {
         "name": "property_type_Cabin",
         "dtype": "uint8",
         "stats": {
          "unique_count": 1,
          "nan_count": 0,
          "min": "0",
          "max": "0",
          "histogram": [
           {
            "bin_start": -0.5,
            "bin_end": -0.4,
            "count": 0
           },
           {
            "bin_start": -0.4,
            "bin_end": -0.3,
            "count": 0
           },
           {
            "bin_start": -0.3,
            "bin_end": -0.19999999999999996,
            "count": 0
           },
           {
            "bin_start": -0.19999999999999996,
            "bin_end": -0.09999999999999998,
            "count": 0
           },
           {
            "bin_start": -0.09999999999999998,
            "bin_end": 0,
            "count": 0
           },
           {
            "bin_start": 0,
            "bin_end": 0.10000000000000009,
            "count": 5
           },
           {
            "bin_start": 0.10000000000000009,
            "bin_end": 0.20000000000000007,
            "count": 0
           },
           {
            "bin_start": 0.20000000000000007,
            "bin_end": 0.30000000000000004,
            "count": 0
           },
           {
            "bin_start": 0.30000000000000004,
            "bin_end": 0.4,
            "count": 0
           },
           {
            "bin_start": 0.4,
            "bin_end": 0.5,
            "count": 0
           }
          ]
         }
        },
        {
         "name": "property_type_Camper/RV",
         "dtype": "uint8",
         "stats": {
          "unique_count": 1,
          "nan_count": 0,
          "min": "0",
          "max": "0",
          "histogram": [
           {
            "bin_start": -0.5,
            "bin_end": -0.4,
            "count": 0
           },
           {
            "bin_start": -0.4,
            "bin_end": -0.3,
            "count": 0
           },
           {
            "bin_start": -0.3,
            "bin_end": -0.19999999999999996,
            "count": 0
           },
           {
            "bin_start": -0.19999999999999996,
            "bin_end": -0.09999999999999998,
            "count": 0
           },
           {
            "bin_start": -0.09999999999999998,
            "bin_end": 0,
            "count": 0
           },
           {
            "bin_start": 0,
            "bin_end": 0.10000000000000009,
            "count": 5
           },
           {
            "bin_start": 0.10000000000000009,
            "bin_end": 0.20000000000000007,
            "count": 0
           },
           {
            "bin_start": 0.20000000000000007,
            "bin_end": 0.30000000000000004,
            "count": 0
           },
           {
            "bin_start": 0.30000000000000004,
            "bin_end": 0.4,
            "count": 0
           },
           {
            "bin_start": 0.4,
            "bin_end": 0.5,
            "count": 0
           }
          ]
         }
        },
        {
         "name": "property_type_Chalet",
         "dtype": "uint8",
         "stats": {
          "unique_count": 1,
          "nan_count": 0,
          "min": "0",
          "max": "0",
          "histogram": [
           {
            "bin_start": -0.5,
            "bin_end": -0.4,
            "count": 0
           },
           {
            "bin_start": -0.4,
            "bin_end": -0.3,
            "count": 0
           },
           {
            "bin_start": -0.3,
            "bin_end": -0.19999999999999996,
            "count": 0
           },
           {
            "bin_start": -0.19999999999999996,
            "bin_end": -0.09999999999999998,
            "count": 0
           },
           {
            "bin_start": -0.09999999999999998,
            "bin_end": 0,
            "count": 0
           },
           {
            "bin_start": 0,
            "bin_end": 0.10000000000000009,
            "count": 5
           },
           {
            "bin_start": 0.10000000000000009,
            "bin_end": 0.20000000000000007,
            "count": 0
           },
           {
            "bin_start": 0.20000000000000007,
            "bin_end": 0.30000000000000004,
            "count": 0
           },
           {
            "bin_start": 0.30000000000000004,
            "bin_end": 0.4,
            "count": 0
           },
           {
            "bin_start": 0.4,
            "bin_end": 0.5,
            "count": 0
           }
          ]
         }
        },
        {
         "name": "property_type_Condominium",
         "dtype": "uint8",
         "stats": {
          "unique_count": 1,
          "nan_count": 0,
          "min": "0",
          "max": "0",
          "histogram": [
           {
            "bin_start": -0.5,
            "bin_end": -0.4,
            "count": 0
           },
           {
            "bin_start": -0.4,
            "bin_end": -0.3,
            "count": 0
           },
           {
            "bin_start": -0.3,
            "bin_end": -0.19999999999999996,
            "count": 0
           },
           {
            "bin_start": -0.19999999999999996,
            "bin_end": -0.09999999999999998,
            "count": 0
           },
           {
            "bin_start": -0.09999999999999998,
            "bin_end": 0,
            "count": 0
           },
           {
            "bin_start": 0,
            "bin_end": 0.10000000000000009,
            "count": 5
           },
           {
            "bin_start": 0.10000000000000009,
            "bin_end": 0.20000000000000007,
            "count": 0
           },
           {
            "bin_start": 0.20000000000000007,
            "bin_end": 0.30000000000000004,
            "count": 0
           },
           {
            "bin_start": 0.30000000000000004,
            "bin_end": 0.4,
            "count": 0
           },
           {
            "bin_start": 0.4,
            "bin_end": 0.5,
            "count": 0
           }
          ]
         }
        },
        {
         "name": "property_type_Dorm",
         "dtype": "uint8",
         "stats": {
          "unique_count": 1,
          "nan_count": 0,
          "min": "0",
          "max": "0",
          "histogram": [
           {
            "bin_start": -0.5,
            "bin_end": -0.4,
            "count": 0
           },
           {
            "bin_start": -0.4,
            "bin_end": -0.3,
            "count": 0
           },
           {
            "bin_start": -0.3,
            "bin_end": -0.19999999999999996,
            "count": 0
           },
           {
            "bin_start": -0.19999999999999996,
            "bin_end": -0.09999999999999998,
            "count": 0
           },
           {
            "bin_start": -0.09999999999999998,
            "bin_end": 0,
            "count": 0
           },
           {
            "bin_start": 0,
            "bin_end": 0.10000000000000009,
            "count": 5
           },
           {
            "bin_start": 0.10000000000000009,
            "bin_end": 0.20000000000000007,
            "count": 0
           },
           {
            "bin_start": 0.20000000000000007,
            "bin_end": 0.30000000000000004,
            "count": 0
           },
           {
            "bin_start": 0.30000000000000004,
            "bin_end": 0.4,
            "count": 0
           },
           {
            "bin_start": 0.4,
            "bin_end": 0.5,
            "count": 0
           }
          ]
         }
        },
        {
         "name": "property_type_Guesthouse",
         "dtype": "uint8",
         "stats": {
          "unique_count": 1,
          "nan_count": 0,
          "min": "0",
          "max": "0",
          "histogram": [
           {
            "bin_start": -0.5,
            "bin_end": -0.4,
            "count": 0
           },
           {
            "bin_start": -0.4,
            "bin_end": -0.3,
            "count": 0
           },
           {
            "bin_start": -0.3,
            "bin_end": -0.19999999999999996,
            "count": 0
           },
           {
            "bin_start": -0.19999999999999996,
            "bin_end": -0.09999999999999998,
            "count": 0
           },
           {
            "bin_start": -0.09999999999999998,
            "bin_end": 0,
            "count": 0
           },
           {
            "bin_start": 0,
            "bin_end": 0.10000000000000009,
            "count": 5
           },
           {
            "bin_start": 0.10000000000000009,
            "bin_end": 0.20000000000000007,
            "count": 0
           },
           {
            "bin_start": 0.20000000000000007,
            "bin_end": 0.30000000000000004,
            "count": 0
           },
           {
            "bin_start": 0.30000000000000004,
            "bin_end": 0.4,
            "count": 0
           },
           {
            "bin_start": 0.4,
            "bin_end": 0.5,
            "count": 0
           }
          ]
         }
        },
        {
         "name": "property_type_Hostel",
         "dtype": "uint8",
         "stats": {
          "unique_count": 1,
          "nan_count": 0,
          "min": "0",
          "max": "0",
          "histogram": [
           {
            "bin_start": -0.5,
            "bin_end": -0.4,
            "count": 0
           },
           {
            "bin_start": -0.4,
            "bin_end": -0.3,
            "count": 0
           },
           {
            "bin_start": -0.3,
            "bin_end": -0.19999999999999996,
            "count": 0
           },
           {
            "bin_start": -0.19999999999999996,
            "bin_end": -0.09999999999999998,
            "count": 0
           },
           {
            "bin_start": -0.09999999999999998,
            "bin_end": 0,
            "count": 0
           },
           {
            "bin_start": 0,
            "bin_end": 0.10000000000000009,
            "count": 5
           },
           {
            "bin_start": 0.10000000000000009,
            "bin_end": 0.20000000000000007,
            "count": 0
           },
           {
            "bin_start": 0.20000000000000007,
            "bin_end": 0.30000000000000004,
            "count": 0
           },
           {
            "bin_start": 0.30000000000000004,
            "bin_end": 0.4,
            "count": 0
           },
           {
            "bin_start": 0.4,
            "bin_end": 0.5,
            "count": 0
           }
          ]
         }
        },
        {
         "name": "property_type_House",
         "dtype": "uint8",
         "stats": {
          "unique_count": 2,
          "nan_count": 0,
          "min": "0",
          "max": "1",
          "histogram": [
           {
            "bin_start": 0,
            "bin_end": 0.1,
            "count": 1
           },
           {
            "bin_start": 0.1,
            "bin_end": 0.2,
            "count": 0
           },
           {
            "bin_start": 0.2,
            "bin_end": 0.30000000000000004,
            "count": 0
           },
           {
            "bin_start": 0.30000000000000004,
            "bin_end": 0.4,
            "count": 0
           },
           {
            "bin_start": 0.4,
            "bin_end": 0.5,
            "count": 0
           },
           {
            "bin_start": 0.5,
            "bin_end": 0.6000000000000001,
            "count": 0
           },
           {
            "bin_start": 0.6000000000000001,
            "bin_end": 0.7000000000000001,
            "count": 0
           },
           {
            "bin_start": 0.7000000000000001,
            "bin_end": 0.8,
            "count": 0
           },
           {
            "bin_start": 0.8,
            "bin_end": 0.9,
            "count": 0
           },
           {
            "bin_start": 0.9,
            "bin_end": 1,
            "count": 4
           }
          ]
         }
        },
        {
         "name": "property_type_Island",
         "dtype": "uint8",
         "stats": {
          "unique_count": 1,
          "nan_count": 0,
          "min": "0",
          "max": "0",
          "histogram": [
           {
            "bin_start": -0.5,
            "bin_end": -0.4,
            "count": 0
           },
           {
            "bin_start": -0.4,
            "bin_end": -0.3,
            "count": 0
           },
           {
            "bin_start": -0.3,
            "bin_end": -0.19999999999999996,
            "count": 0
           },
           {
            "bin_start": -0.19999999999999996,
            "bin_end": -0.09999999999999998,
            "count": 0
           },
           {
            "bin_start": -0.09999999999999998,
            "bin_end": 0,
            "count": 0
           },
           {
            "bin_start": 0,
            "bin_end": 0.10000000000000009,
            "count": 5
           },
           {
            "bin_start": 0.10000000000000009,
            "bin_end": 0.20000000000000007,
            "count": 0
           },
           {
            "bin_start": 0.20000000000000007,
            "bin_end": 0.30000000000000004,
            "count": 0
           },
           {
            "bin_start": 0.30000000000000004,
            "bin_end": 0.4,
            "count": 0
           },
           {
            "bin_start": 0.4,
            "bin_end": 0.5,
            "count": 0
           }
          ]
         }
        },
        {
         "name": "property_type_Lighthouse",
         "dtype": "uint8",
         "stats": {
          "unique_count": 1,
          "nan_count": 0,
          "min": "0",
          "max": "0",
          "histogram": [
           {
            "bin_start": -0.5,
            "bin_end": -0.4,
            "count": 0
           },
           {
            "bin_start": -0.4,
            "bin_end": -0.3,
            "count": 0
           },
           {
            "bin_start": -0.3,
            "bin_end": -0.19999999999999996,
            "count": 0
           },
           {
            "bin_start": -0.19999999999999996,
            "bin_end": -0.09999999999999998,
            "count": 0
           },
           {
            "bin_start": -0.09999999999999998,
            "bin_end": 0,
            "count": 0
           },
           {
            "bin_start": 0,
            "bin_end": 0.10000000000000009,
            "count": 5
           },
           {
            "bin_start": 0.10000000000000009,
            "bin_end": 0.20000000000000007,
            "count": 0
           },
           {
            "bin_start": 0.20000000000000007,
            "bin_end": 0.30000000000000004,
            "count": 0
           },
           {
            "bin_start": 0.30000000000000004,
            "bin_end": 0.4,
            "count": 0
           },
           {
            "bin_start": 0.4,
            "bin_end": 0.5,
            "count": 0
           }
          ]
         }
        },
        {
         "name": "property_type_Loft",
         "dtype": "uint8",
         "stats": {
          "unique_count": 1,
          "nan_count": 0,
          "min": "0",
          "max": "0",
          "histogram": [
           {
            "bin_start": -0.5,
            "bin_end": -0.4,
            "count": 0
           },
           {
            "bin_start": -0.4,
            "bin_end": -0.3,
            "count": 0
           },
           {
            "bin_start": -0.3,
            "bin_end": -0.19999999999999996,
            "count": 0
           },
           {
            "bin_start": -0.19999999999999996,
            "bin_end": -0.09999999999999998,
            "count": 0
           },
           {
            "bin_start": -0.09999999999999998,
            "bin_end": 0,
            "count": 0
           },
           {
            "bin_start": 0,
            "bin_end": 0.10000000000000009,
            "count": 5
           },
           {
            "bin_start": 0.10000000000000009,
            "bin_end": 0.20000000000000007,
            "count": 0
           },
           {
            "bin_start": 0.20000000000000007,
            "bin_end": 0.30000000000000004,
            "count": 0
           },
           {
            "bin_start": 0.30000000000000004,
            "bin_end": 0.4,
            "count": 0
           },
           {
            "bin_start": 0.4,
            "bin_end": 0.5,
            "count": 0
           }
          ]
         }
        },
        {
         "name": "property_type_Other",
         "dtype": "uint8",
         "stats": {
          "unique_count": 1,
          "nan_count": 0,
          "min": "0",
          "max": "0",
          "histogram": [
           {
            "bin_start": -0.5,
            "bin_end": -0.4,
            "count": 0
           },
           {
            "bin_start": -0.4,
            "bin_end": -0.3,
            "count": 0
           },
           {
            "bin_start": -0.3,
            "bin_end": -0.19999999999999996,
            "count": 0
           },
           {
            "bin_start": -0.19999999999999996,
            "bin_end": -0.09999999999999998,
            "count": 0
           },
           {
            "bin_start": -0.09999999999999998,
            "bin_end": 0,
            "count": 0
           },
           {
            "bin_start": 0,
            "bin_end": 0.10000000000000009,
            "count": 5
           },
           {
            "bin_start": 0.10000000000000009,
            "bin_end": 0.20000000000000007,
            "count": 0
           },
           {
            "bin_start": 0.20000000000000007,
            "bin_end": 0.30000000000000004,
            "count": 0
           },
           {
            "bin_start": 0.30000000000000004,
            "bin_end": 0.4,
            "count": 0
           },
           {
            "bin_start": 0.4,
            "bin_end": 0.5,
            "count": 0
           }
          ]
         }
        },
        {
         "name": "property_type_Serviced apartment",
         "dtype": "uint8",
         "stats": {
          "unique_count": 1,
          "nan_count": 0,
          "min": "0",
          "max": "0",
          "histogram": [
           {
            "bin_start": -0.5,
            "bin_end": -0.4,
            "count": 0
           },
           {
            "bin_start": -0.4,
            "bin_end": -0.3,
            "count": 0
           },
           {
            "bin_start": -0.3,
            "bin_end": -0.19999999999999996,
            "count": 0
           },
           {
            "bin_start": -0.19999999999999996,
            "bin_end": -0.09999999999999998,
            "count": 0
           },
           {
            "bin_start": -0.09999999999999998,
            "bin_end": 0,
            "count": 0
           },
           {
            "bin_start": 0,
            "bin_end": 0.10000000000000009,
            "count": 5
           },
           {
            "bin_start": 0.10000000000000009,
            "bin_end": 0.20000000000000007,
            "count": 0
           },
           {
            "bin_start": 0.20000000000000007,
            "bin_end": 0.30000000000000004,
            "count": 0
           },
           {
            "bin_start": 0.30000000000000004,
            "bin_end": 0.4,
            "count": 0
           },
           {
            "bin_start": 0.4,
            "bin_end": 0.5,
            "count": 0
           }
          ]
         }
        },
        {
         "name": "property_type_Tent",
         "dtype": "uint8",
         "stats": {
          "unique_count": 1,
          "nan_count": 0,
          "min": "0",
          "max": "0",
          "histogram": [
           {
            "bin_start": -0.5,
            "bin_end": -0.4,
            "count": 0
           },
           {
            "bin_start": -0.4,
            "bin_end": -0.3,
            "count": 0
           },
           {
            "bin_start": -0.3,
            "bin_end": -0.19999999999999996,
            "count": 0
           },
           {
            "bin_start": -0.19999999999999996,
            "bin_end": -0.09999999999999998,
            "count": 0
           },
           {
            "bin_start": -0.09999999999999998,
            "bin_end": 0,
            "count": 0
           },
           {
            "bin_start": 0,
            "bin_end": 0.10000000000000009,
            "count": 5
           },
           {
            "bin_start": 0.10000000000000009,
            "bin_end": 0.20000000000000007,
            "count": 0
           },
           {
            "bin_start": 0.20000000000000007,
            "bin_end": 0.30000000000000004,
            "count": 0
           },
           {
            "bin_start": 0.30000000000000004,
            "bin_end": 0.4,
            "count": 0
           },
           {
            "bin_start": 0.4,
            "bin_end": 0.5,
            "count": 0
           }
          ]
         }
        },
        {
         "name": "property_type_Tipi",
         "dtype": "uint8",
         "stats": {
          "unique_count": 1,
          "nan_count": 0,
          "min": "0",
          "max": "0",
          "histogram": [
           {
            "bin_start": -0.5,
            "bin_end": -0.4,
            "count": 0
           },
           {
            "bin_start": -0.4,
            "bin_end": -0.3,
            "count": 0
           },
           {
            "bin_start": -0.3,
            "bin_end": -0.19999999999999996,
            "count": 0
           },
           {
            "bin_start": -0.19999999999999996,
            "bin_end": -0.09999999999999998,
            "count": 0
           },
           {
            "bin_start": -0.09999999999999998,
            "bin_end": 0,
            "count": 0
           },
           {
            "bin_start": 0,
            "bin_end": 0.10000000000000009,
            "count": 5
           },
           {
            "bin_start": 0.10000000000000009,
            "bin_end": 0.20000000000000007,
            "count": 0
           },
           {
            "bin_start": 0.20000000000000007,
            "bin_end": 0.30000000000000004,
            "count": 0
           },
           {
            "bin_start": 0.30000000000000004,
            "bin_end": 0.4,
            "count": 0
           },
           {
            "bin_start": 0.4,
            "bin_end": 0.5,
            "count": 0
           }
          ]
         }
        },
        {
         "name": "property_type_Townhouse",
         "dtype": "uint8",
         "stats": {
          "unique_count": 1,
          "nan_count": 0,
          "min": "0",
          "max": "0",
          "histogram": [
           {
            "bin_start": -0.5,
            "bin_end": -0.4,
            "count": 0
           },
           {
            "bin_start": -0.4,
            "bin_end": -0.3,
            "count": 0
           },
           {
            "bin_start": -0.3,
            "bin_end": -0.19999999999999996,
            "count": 0
           },
           {
            "bin_start": -0.19999999999999996,
            "bin_end": -0.09999999999999998,
            "count": 0
           },
           {
            "bin_start": -0.09999999999999998,
            "bin_end": 0,
            "count": 0
           },
           {
            "bin_start": 0,
            "bin_end": 0.10000000000000009,
            "count": 5
           },
           {
            "bin_start": 0.10000000000000009,
            "bin_end": 0.20000000000000007,
            "count": 0
           },
           {
            "bin_start": 0.20000000000000007,
            "bin_end": 0.30000000000000004,
            "count": 0
           },
           {
            "bin_start": 0.30000000000000004,
            "bin_end": 0.4,
            "count": 0
           },
           {
            "bin_start": 0.4,
            "bin_end": 0.5,
            "count": 0
           }
          ]
         }
        },
        {
         "name": "property_type_Treehouse",
         "dtype": "uint8",
         "stats": {
          "unique_count": 1,
          "nan_count": 0,
          "min": "0",
          "max": "0",
          "histogram": [
           {
            "bin_start": -0.5,
            "bin_end": -0.4,
            "count": 0
           },
           {
            "bin_start": -0.4,
            "bin_end": -0.3,
            "count": 0
           },
           {
            "bin_start": -0.3,
            "bin_end": -0.19999999999999996,
            "count": 0
           },
           {
            "bin_start": -0.19999999999999996,
            "bin_end": -0.09999999999999998,
            "count": 0
           },
           {
            "bin_start": -0.09999999999999998,
            "bin_end": 0,
            "count": 0
           },
           {
            "bin_start": 0,
            "bin_end": 0.10000000000000009,
            "count": 5
           },
           {
            "bin_start": 0.10000000000000009,
            "bin_end": 0.20000000000000007,
            "count": 0
           },
           {
            "bin_start": 0.20000000000000007,
            "bin_end": 0.30000000000000004,
            "count": 0
           },
           {
            "bin_start": 0.30000000000000004,
            "bin_end": 0.4,
            "count": 0
           },
           {
            "bin_start": 0.4,
            "bin_end": 0.5,
            "count": 0
           }
          ]
         }
        },
        {
         "name": "property_type_Villa",
         "dtype": "uint8",
         "stats": {
          "unique_count": 1,
          "nan_count": 0,
          "min": "0",
          "max": "0",
          "histogram": [
           {
            "bin_start": -0.5,
            "bin_end": -0.4,
            "count": 0
           },
           {
            "bin_start": -0.4,
            "bin_end": -0.3,
            "count": 0
           },
           {
            "bin_start": -0.3,
            "bin_end": -0.19999999999999996,
            "count": 0
           },
           {
            "bin_start": -0.19999999999999996,
            "bin_end": -0.09999999999999998,
            "count": 0
           },
           {
            "bin_start": -0.09999999999999998,
            "bin_end": 0,
            "count": 0
           },
           {
            "bin_start": 0,
            "bin_end": 0.10000000000000009,
            "count": 5
           },
           {
            "bin_start": 0.10000000000000009,
            "bin_end": 0.20000000000000007,
            "count": 0
           },
           {
            "bin_start": 0.20000000000000007,
            "bin_end": 0.30000000000000004,
            "count": 0
           },
           {
            "bin_start": 0.30000000000000004,
            "bin_end": 0.4,
            "count": 0
           },
           {
            "bin_start": 0.4,
            "bin_end": 0.5,
            "count": 0
           }
          ]
         }
        },
        {
         "name": "room_type_Entire home/apt",
         "dtype": "uint8",
         "stats": {
          "unique_count": 1,
          "nan_count": 0,
          "min": "1",
          "max": "1",
          "histogram": [
           {
            "bin_start": 0.5,
            "bin_end": 0.6,
            "count": 0
           },
           {
            "bin_start": 0.6,
            "bin_end": 0.7,
            "count": 0
           },
           {
            "bin_start": 0.7,
            "bin_end": 0.8,
            "count": 0
           },
           {
            "bin_start": 0.8,
            "bin_end": 0.9,
            "count": 0
           },
           {
            "bin_start": 0.9,
            "bin_end": 1,
            "count": 0
           },
           {
            "bin_start": 1,
            "bin_end": 1.1,
            "count": 5
           },
           {
            "bin_start": 1.1,
            "bin_end": 1.2000000000000002,
            "count": 0
           },
           {
            "bin_start": 1.2000000000000002,
            "bin_end": 1.3,
            "count": 0
           },
           {
            "bin_start": 1.3,
            "bin_end": 1.4,
            "count": 0
           },
           {
            "bin_start": 1.4,
            "bin_end": 1.5,
            "count": 0
           }
          ]
         }
        },
        {
         "name": "room_type_Private room",
         "dtype": "uint8",
         "stats": {
          "unique_count": 1,
          "nan_count": 0,
          "min": "0",
          "max": "0",
          "histogram": [
           {
            "bin_start": -0.5,
            "bin_end": -0.4,
            "count": 0
           },
           {
            "bin_start": -0.4,
            "bin_end": -0.3,
            "count": 0
           },
           {
            "bin_start": -0.3,
            "bin_end": -0.19999999999999996,
            "count": 0
           },
           {
            "bin_start": -0.19999999999999996,
            "bin_end": -0.09999999999999998,
            "count": 0
           },
           {
            "bin_start": -0.09999999999999998,
            "bin_end": 0,
            "count": 0
           },
           {
            "bin_start": 0,
            "bin_end": 0.10000000000000009,
            "count": 5
           },
           {
            "bin_start": 0.10000000000000009,
            "bin_end": 0.20000000000000007,
            "count": 0
           },
           {
            "bin_start": 0.20000000000000007,
            "bin_end": 0.30000000000000004,
            "count": 0
           },
           {
            "bin_start": 0.30000000000000004,
            "bin_end": 0.4,
            "count": 0
           },
           {
            "bin_start": 0.4,
            "bin_end": 0.5,
            "count": 0
           }
          ]
         }
        },
        {
         "name": "room_type_Shared room",
         "dtype": "uint8",
         "stats": {
          "unique_count": 1,
          "nan_count": 0,
          "min": "0",
          "max": "0",
          "histogram": [
           {
            "bin_start": -0.5,
            "bin_end": -0.4,
            "count": 0
           },
           {
            "bin_start": -0.4,
            "bin_end": -0.3,
            "count": 0
           },
           {
            "bin_start": -0.3,
            "bin_end": -0.19999999999999996,
            "count": 0
           },
           {
            "bin_start": -0.19999999999999996,
            "bin_end": -0.09999999999999998,
            "count": 0
           },
           {
            "bin_start": -0.09999999999999998,
            "bin_end": 0,
            "count": 0
           },
           {
            "bin_start": 0,
            "bin_end": 0.10000000000000009,
            "count": 5
           },
           {
            "bin_start": 0.10000000000000009,
            "bin_end": 0.20000000000000007,
            "count": 0
           },
           {
            "bin_start": 0.20000000000000007,
            "bin_end": 0.30000000000000004,
            "count": 0
           },
           {
            "bin_start": 0.30000000000000004,
            "bin_end": 0.4,
            "count": 0
           },
           {
            "bin_start": 0.4,
            "bin_end": 0.5,
            "count": 0
           }
          ]
         }
        },
        {
         "name": "_deepnote_index_column",
         "dtype": "int64"
        }
       ],
       "rows_top": [
        {
         "bed_type_Airbed": 0,
         "bed_type_Couch": 0,
         "bed_type_Futon": 0,
         "bed_type_Pull-out Sofa": 0,
         "bed_type_Real Bed": 1,
         "cancellation_policy_flexible": 0,
         "cancellation_policy_moderate": 0,
         "cancellation_policy_strict": 1,
         "cancellation_policy_super_strict_30": 0,
         "cancellation_policy_super_strict_60": 0,
         "instant_bookable_f": 1,
         "instant_bookable_t": 0,
         "property_type_Apartment": 0,
         "property_type_Bed & Breakfast": 0,
         "property_type_Boat": 0,
         "property_type_Boutique hotel": 0,
         "property_type_Bungalow": 0,
         "property_type_Cabin": 0,
         "property_type_Camper/RV": 0,
         "property_type_Chalet": 0,
         "property_type_Condominium": 0,
         "property_type_Dorm": 0,
         "property_type_Guesthouse": 0,
         "property_type_Hostel": 0,
         "property_type_House": 1,
         "property_type_Island": 0,
         "property_type_Lighthouse": 0,
         "property_type_Loft": 0,
         "property_type_Other": 0,
         "property_type_Serviced apartment": 0,
         "property_type_Tent": 0,
         "property_type_Tipi": 0,
         "property_type_Townhouse": 0,
         "property_type_Treehouse": 0,
         "property_type_Villa": 0,
         "room_type_Entire home/apt": 1,
         "room_type_Private room": 0,
         "room_type_Shared room": 0,
         "_deepnote_index_column": 0
        },
        {
         "bed_type_Airbed": 0,
         "bed_type_Couch": 0,
         "bed_type_Futon": 0,
         "bed_type_Pull-out Sofa": 0,
         "bed_type_Real Bed": 1,
         "cancellation_policy_flexible": 0,
         "cancellation_policy_moderate": 0,
         "cancellation_policy_strict": 1,
         "cancellation_policy_super_strict_30": 0,
         "cancellation_policy_super_strict_60": 0,
         "instant_bookable_f": 1,
         "instant_bookable_t": 0,
         "property_type_Apartment": 0,
         "property_type_Bed & Breakfast": 0,
         "property_type_Boat": 0,
         "property_type_Boutique hotel": 0,
         "property_type_Bungalow": 0,
         "property_type_Cabin": 0,
         "property_type_Camper/RV": 0,
         "property_type_Chalet": 0,
         "property_type_Condominium": 0,
         "property_type_Dorm": 0,
         "property_type_Guesthouse": 0,
         "property_type_Hostel": 0,
         "property_type_House": 1,
         "property_type_Island": 0,
         "property_type_Lighthouse": 0,
         "property_type_Loft": 0,
         "property_type_Other": 0,
         "property_type_Serviced apartment": 0,
         "property_type_Tent": 0,
         "property_type_Tipi": 0,
         "property_type_Townhouse": 0,
         "property_type_Treehouse": 0,
         "property_type_Villa": 0,
         "room_type_Entire home/apt": 1,
         "room_type_Private room": 0,
         "room_type_Shared room": 0,
         "_deepnote_index_column": 1
        },
        {
         "bed_type_Airbed": 0,
         "bed_type_Couch": 0,
         "bed_type_Futon": 0,
         "bed_type_Pull-out Sofa": 0,
         "bed_type_Real Bed": 1,
         "cancellation_policy_flexible": 0,
         "cancellation_policy_moderate": 1,
         "cancellation_policy_strict": 0,
         "cancellation_policy_super_strict_30": 0,
         "cancellation_policy_super_strict_60": 0,
         "instant_bookable_f": 1,
         "instant_bookable_t": 0,
         "property_type_Apartment": 1,
         "property_type_Bed & Breakfast": 0,
         "property_type_Boat": 0,
         "property_type_Boutique hotel": 0,
         "property_type_Bungalow": 0,
         "property_type_Cabin": 0,
         "property_type_Camper/RV": 0,
         "property_type_Chalet": 0,
         "property_type_Condominium": 0,
         "property_type_Dorm": 0,
         "property_type_Guesthouse": 0,
         "property_type_Hostel": 0,
         "property_type_House": 0,
         "property_type_Island": 0,
         "property_type_Lighthouse": 0,
         "property_type_Loft": 0,
         "property_type_Other": 0,
         "property_type_Serviced apartment": 0,
         "property_type_Tent": 0,
         "property_type_Tipi": 0,
         "property_type_Townhouse": 0,
         "property_type_Treehouse": 0,
         "property_type_Villa": 0,
         "room_type_Entire home/apt": 1,
         "room_type_Private room": 0,
         "room_type_Shared room": 0,
         "_deepnote_index_column": 2
        },
        {
         "bed_type_Airbed": 0,
         "bed_type_Couch": 0,
         "bed_type_Futon": 0,
         "bed_type_Pull-out Sofa": 0,
         "bed_type_Real Bed": 1,
         "cancellation_policy_flexible": 0,
         "cancellation_policy_moderate": 0,
         "cancellation_policy_strict": 1,
         "cancellation_policy_super_strict_30": 0,
         "cancellation_policy_super_strict_60": 0,
         "instant_bookable_f": 1,
         "instant_bookable_t": 0,
         "property_type_Apartment": 0,
         "property_type_Bed & Breakfast": 0,
         "property_type_Boat": 0,
         "property_type_Boutique hotel": 0,
         "property_type_Bungalow": 0,
         "property_type_Cabin": 0,
         "property_type_Camper/RV": 0,
         "property_type_Chalet": 0,
         "property_type_Condominium": 0,
         "property_type_Dorm": 0,
         "property_type_Guesthouse": 0,
         "property_type_Hostel": 0,
         "property_type_House": 1,
         "property_type_Island": 0,
         "property_type_Lighthouse": 0,
         "property_type_Loft": 0,
         "property_type_Other": 0,
         "property_type_Serviced apartment": 0,
         "property_type_Tent": 0,
         "property_type_Tipi": 0,
         "property_type_Townhouse": 0,
         "property_type_Treehouse": 0,
         "property_type_Villa": 0,
         "room_type_Entire home/apt": 1,
         "room_type_Private room": 0,
         "room_type_Shared room": 0,
         "_deepnote_index_column": 3
        },
        {
         "bed_type_Airbed": 0,
         "bed_type_Couch": 0,
         "bed_type_Futon": 0,
         "bed_type_Pull-out Sofa": 0,
         "bed_type_Real Bed": 1,
         "cancellation_policy_flexible": 0,
         "cancellation_policy_moderate": 1,
         "cancellation_policy_strict": 0,
         "cancellation_policy_super_strict_30": 0,
         "cancellation_policy_super_strict_60": 0,
         "instant_bookable_f": 1,
         "instant_bookable_t": 0,
         "property_type_Apartment": 0,
         "property_type_Bed & Breakfast": 0,
         "property_type_Boat": 0,
         "property_type_Boutique hotel": 0,
         "property_type_Bungalow": 0,
         "property_type_Cabin": 0,
         "property_type_Camper/RV": 0,
         "property_type_Chalet": 0,
         "property_type_Condominium": 0,
         "property_type_Dorm": 0,
         "property_type_Guesthouse": 0,
         "property_type_Hostel": 0,
         "property_type_House": 1,
         "property_type_Island": 0,
         "property_type_Lighthouse": 0,
         "property_type_Loft": 0,
         "property_type_Other": 0,
         "property_type_Serviced apartment": 0,
         "property_type_Tent": 0,
         "property_type_Tipi": 0,
         "property_type_Townhouse": 0,
         "property_type_Treehouse": 0,
         "property_type_Villa": 0,
         "room_type_Entire home/apt": 1,
         "room_type_Private room": 0,
         "room_type_Shared room": 0,
         "_deepnote_index_column": 4
        }
       ],
       "rows_bottom": null
      },
      "text/plain": "   bed_type_Airbed  bed_type_Couch  bed_type_Futon  bed_type_Pull-out Sofa  \\\n0                0               0               0                       0   \n1                0               0               0                       0   \n2                0               0               0                       0   \n3                0               0               0                       0   \n4                0               0               0                       0   \n\n   bed_type_Real Bed  cancellation_policy_flexible  \\\n0                  1                             0   \n1                  1                             0   \n2                  1                             0   \n3                  1                             0   \n4                  1                             0   \n\n   cancellation_policy_moderate  cancellation_policy_strict  \\\n0                             0                           1   \n1                             0                           1   \n2                             1                           0   \n3                             0                           1   \n4                             1                           0   \n\n   cancellation_policy_super_strict_30  cancellation_policy_super_strict_60  \\\n0                                    0                                    0   \n1                                    0                                    0   \n2                                    0                                    0   \n3                                    0                                    0   \n4                                    0                                    0   \n\n   ...  property_type_Other  property_type_Serviced apartment  \\\n0  ...                    0                                 0   \n1  ...                    0                                 0   \n2  ...                    0                                 0   \n3  ...                    0                                 0   \n4  ...                    0                                 0   \n\n   property_type_Tent  property_type_Tipi  property_type_Townhouse  \\\n0                   0                   0                        0   \n1                   0                   0                        0   \n2                   0                   0                        0   \n3                   0                   0                        0   \n4                   0                   0                        0   \n\n   property_type_Treehouse  property_type_Villa  room_type_Entire home/apt  \\\n0                        0                    0                          1   \n1                        0                    0                          1   \n2                        0                    0                          1   \n3                        0                    0                          1   \n4                        0                    0                          1   \n\n   room_type_Private room  room_type_Shared room  \n0                       0                      0  \n1                       0                      0  \n2                       0                      0  \n3                       0                      0  \n4                       0                      0  \n\n[5 rows x 38 columns]",
      "text/html": "<div>\n<style scoped>\n    .dataframe tbody tr th:only-of-type {\n        vertical-align: middle;\n    }\n\n    .dataframe tbody tr th {\n        vertical-align: top;\n    }\n\n    .dataframe thead th {\n        text-align: right;\n    }\n</style>\n<table border=\"1\" class=\"dataframe\">\n  <thead>\n    <tr style=\"text-align: right;\">\n      <th></th>\n      <th>bed_type_Airbed</th>\n      <th>bed_type_Couch</th>\n      <th>bed_type_Futon</th>\n      <th>bed_type_Pull-out Sofa</th>\n      <th>bed_type_Real Bed</th>\n      <th>cancellation_policy_flexible</th>\n      <th>cancellation_policy_moderate</th>\n      <th>cancellation_policy_strict</th>\n      <th>cancellation_policy_super_strict_30</th>\n      <th>cancellation_policy_super_strict_60</th>\n      <th>...</th>\n      <th>property_type_Other</th>\n      <th>property_type_Serviced apartment</th>\n      <th>property_type_Tent</th>\n      <th>property_type_Tipi</th>\n      <th>property_type_Townhouse</th>\n      <th>property_type_Treehouse</th>\n      <th>property_type_Villa</th>\n      <th>room_type_Entire home/apt</th>\n      <th>room_type_Private room</th>\n      <th>room_type_Shared room</th>\n    </tr>\n  </thead>\n  <tbody>\n    <tr>\n      <th>0</th>\n      <td>0</td>\n      <td>0</td>\n      <td>0</td>\n      <td>0</td>\n      <td>1</td>\n      <td>0</td>\n      <td>0</td>\n      <td>1</td>\n      <td>0</td>\n      <td>0</td>\n      <td>...</td>\n      <td>0</td>\n      <td>0</td>\n      <td>0</td>\n      <td>0</td>\n      <td>0</td>\n      <td>0</td>\n      <td>0</td>\n      <td>1</td>\n      <td>0</td>\n      <td>0</td>\n    </tr>\n    <tr>\n      <th>1</th>\n      <td>0</td>\n      <td>0</td>\n      <td>0</td>\n      <td>0</td>\n      <td>1</td>\n      <td>0</td>\n      <td>0</td>\n      <td>1</td>\n      <td>0</td>\n      <td>0</td>\n      <td>...</td>\n      <td>0</td>\n      <td>0</td>\n      <td>0</td>\n      <td>0</td>\n      <td>0</td>\n      <td>0</td>\n      <td>0</td>\n      <td>1</td>\n      <td>0</td>\n      <td>0</td>\n    </tr>\n    <tr>\n      <th>2</th>\n      <td>0</td>\n      <td>0</td>\n      <td>0</td>\n      <td>0</td>\n      <td>1</td>\n      <td>0</td>\n      <td>1</td>\n      <td>0</td>\n      <td>0</td>\n      <td>0</td>\n      <td>...</td>\n      <td>0</td>\n      <td>0</td>\n      <td>0</td>\n      <td>0</td>\n      <td>0</td>\n      <td>0</td>\n      <td>0</td>\n      <td>1</td>\n      <td>0</td>\n      <td>0</td>\n    </tr>\n    <tr>\n      <th>3</th>\n      <td>0</td>\n      <td>0</td>\n      <td>0</td>\n      <td>0</td>\n      <td>1</td>\n      <td>0</td>\n      <td>0</td>\n      <td>1</td>\n      <td>0</td>\n      <td>0</td>\n      <td>...</td>\n      <td>0</td>\n      <td>0</td>\n      <td>0</td>\n      <td>0</td>\n      <td>0</td>\n      <td>0</td>\n      <td>0</td>\n      <td>1</td>\n      <td>0</td>\n      <td>0</td>\n    </tr>\n    <tr>\n      <th>4</th>\n      <td>0</td>\n      <td>0</td>\n      <td>0</td>\n      <td>0</td>\n      <td>1</td>\n      <td>0</td>\n      <td>1</td>\n      <td>0</td>\n      <td>0</td>\n      <td>0</td>\n      <td>...</td>\n      <td>0</td>\n      <td>0</td>\n      <td>0</td>\n      <td>0</td>\n      <td>0</td>\n      <td>0</td>\n      <td>0</td>\n      <td>1</td>\n      <td>0</td>\n      <td>0</td>\n    </tr>\n  </tbody>\n</table>\n<p>5 rows × 38 columns</p>\n</div>"
     },
     "metadata": {}
    }
   ]
  },
  {
   "cell_type": "code",
   "metadata": {
    "cell_id": "00011-a895a5ac-2573-49dd-a5ff-ed86d7df5d3d",
    "deepnote_to_be_reexecuted": false,
    "source_hash": "e479d894",
    "execution_start": 1626543605437,
    "execution_millis": 7,
    "deepnote_cell_type": "code"
   },
   "source": "category_onehot_encoding.shape",
   "execution_count": null,
   "outputs": [
    {
     "output_type": "execute_result",
     "execution_count": 12,
     "data": {
      "text/plain": "(5942, 38)"
     },
     "metadata": {}
    }
   ]
  },
  {
   "cell_type": "code",
   "metadata": {
    "cell_id": "00012-7448a393-6b7d-481c-9021-dfb9cf1db54c",
    "deepnote_to_be_reexecuted": false,
    "source_hash": "fb46c65",
    "execution_start": 1626543605719,
    "execution_millis": 175,
    "deepnote_cell_type": "code"
   },
   "source": "listings = pd.concat([listings, category_onehot_encoding], axis ='columns').drop(categorical_types, axis='columns')\nlistings.head()",
   "execution_count": null,
   "outputs": [
    {
     "output_type": "execute_result",
     "execution_count": 13,
     "data": {
      "application/vnd.deepnote.dataframe.v2+json": {
       "row_count": 5,
       "column_count": 56,
       "columns": [
        {
         "name": "accommodates",
         "dtype": "float64",
         "stats": {
          "unique_count": 5,
          "nan_count": 0,
          "min": "2.0",
          "max": "12.0",
          "histogram": [
           {
            "bin_start": 2,
            "bin_end": 3,
            "count": 1
           },
           {
            "bin_start": 3,
            "bin_end": 4,
            "count": 0
           },
           {
            "bin_start": 4,
            "bin_end": 5,
            "count": 1
           },
           {
            "bin_start": 5,
            "bin_end": 6,
            "count": 1
           },
           {
            "bin_start": 6,
            "bin_end": 7,
            "count": 0
           },
           {
            "bin_start": 7,
            "bin_end": 8,
            "count": 1
           },
           {
            "bin_start": 8,
            "bin_end": 9,
            "count": 0
           },
           {
            "bin_start": 9,
            "bin_end": 10,
            "count": 0
           },
           {
            "bin_start": 10,
            "bin_end": 11,
            "count": 0
           },
           {
            "bin_start": 11,
            "bin_end": 12,
            "count": 1
           }
          ]
         }
        },
        {
         "name": "amenities",
         "dtype": "object",
         "stats": {
          "unique_count": 5,
          "nan_count": 0,
          "categories": [
           {
            "name": "{TV,\"Cable TV\",Internet,\"Wireless Internet\",\"Air conditioning\",Kitchen,\"Free parking on premises\",\"Indoor fireplace\",Heating,\"Family/kid friendly\",Washer,Dryer,Essentials,Shampoo,Hangers,\"Hair dryer\",Iron,\"Laptop friendly workspace\"}",
            "count": 1
           },
           {
            "name": "{\"Cable TV\",\"Wireless Internet\",\"Air conditioning\",Kitchen,\"Free parking on premises\",\"Indoor fireplace\",Heating,\"Family/kid friendly\",Washer,Dryer}",
            "count": 1
           },
           {
            "name": "3 others",
            "count": 3
           }
          ]
         }
        },
        {
         "name": "availability_30",
         "dtype": "int64",
         "stats": {
          "unique_count": 5,
          "nan_count": 0,
          "min": "0",
          "max": "25",
          "histogram": [
           {
            "bin_start": 0,
            "bin_end": 2.5,
            "count": 1
           },
           {
            "bin_start": 2.5,
            "bin_end": 5,
            "count": 0
           },
           {
            "bin_start": 5,
            "bin_end": 7.5,
            "count": 1
           },
           {
            "bin_start": 7.5,
            "bin_end": 10,
            "count": 0
           },
           {
            "bin_start": 10,
            "bin_end": 12.5,
            "count": 1
           },
           {
            "bin_start": 12.5,
            "bin_end": 15,
            "count": 0
           },
           {
            "bin_start": 15,
            "bin_end": 17.5,
            "count": 0
           },
           {
            "bin_start": 17.5,
            "bin_end": 20,
            "count": 0
           },
           {
            "bin_start": 20,
            "bin_end": 22.5,
            "count": 0
           },
           {
            "bin_start": 22.5,
            "bin_end": 25,
            "count": 2
           }
          ]
         }
        },
        {
         "name": "bathrooms",
         "dtype": "float64",
         "stats": {
          "unique_count": 3,
          "nan_count": 0,
          "min": "1.0",
          "max": "3.0",
          "histogram": [
           {
            "bin_start": 1,
            "bin_end": 1.2,
            "count": 2
           },
           {
            "bin_start": 1.2,
            "bin_end": 1.4,
            "count": 0
           },
           {
            "bin_start": 1.4,
            "bin_end": 1.6,
            "count": 0
           },
           {
            "bin_start": 1.6,
            "bin_end": 1.8,
            "count": 0
           },
           {
            "bin_start": 1.8,
            "bin_end": 2,
            "count": 0
           },
           {
            "bin_start": 2,
            "bin_end": 2.2,
            "count": 2
           },
           {
            "bin_start": 2.2,
            "bin_end": 2.4000000000000004,
            "count": 0
           },
           {
            "bin_start": 2.4000000000000004,
            "bin_end": 2.6,
            "count": 0
           },
           {
            "bin_start": 2.6,
            "bin_end": 2.8,
            "count": 0
           },
           {
            "bin_start": 2.8,
            "bin_end": 3,
            "count": 1
           }
          ]
         }
        },
        {
         "name": "bedrooms",
         "dtype": "float64",
         "stats": {
          "unique_count": 3,
          "nan_count": 0,
          "min": "1.0",
          "max": "4.0",
          "histogram": [
           {
            "bin_start": 1,
            "bin_end": 1.3,
            "count": 2
           },
           {
            "bin_start": 1.3,
            "bin_end": 1.6,
            "count": 0
           },
           {
            "bin_start": 1.6,
            "bin_end": 1.9,
            "count": 0
           },
           {
            "bin_start": 1.9,
            "bin_end": 2.2,
            "count": 0
           },
           {
            "bin_start": 2.2,
            "bin_end": 2.5,
            "count": 0
           },
           {
            "bin_start": 2.5,
            "bin_end": 2.8,
            "count": 0
           },
           {
            "bin_start": 2.8,
            "bin_end": 3.1,
            "count": 2
           },
           {
            "bin_start": 3.1,
            "bin_end": 3.4,
            "count": 0
           },
           {
            "bin_start": 3.4,
            "bin_end": 3.6999999999999997,
            "count": 0
           },
           {
            "bin_start": 3.6999999999999997,
            "bin_end": 4,
            "count": 1
           }
          ]
         }
        },
        {
         "name": "beds",
         "dtype": "float64",
         "stats": {
          "unique_count": 4,
          "nan_count": 0,
          "min": "1.0",
          "max": "5.0",
          "histogram": [
           {
            "bin_start": 1,
            "bin_end": 1.4,
            "count": 1
           },
           {
            "bin_start": 1.4,
            "bin_end": 1.8,
            "count": 0
           },
           {
            "bin_start": 1.8,
            "bin_end": 2.2,
            "count": 1
           },
           {
            "bin_start": 2.2,
            "bin_end": 2.6,
            "count": 0
           },
           {
            "bin_start": 2.6,
            "bin_end": 3,
            "count": 0
           },
           {
            "bin_start": 3,
            "bin_end": 3.4000000000000004,
            "count": 0
           },
           {
            "bin_start": 3.4000000000000004,
            "bin_end": 3.8000000000000003,
            "count": 0
           },
           {
            "bin_start": 3.8000000000000003,
            "bin_end": 4.2,
            "count": 1
           },
           {
            "bin_start": 4.2,
            "bin_end": 4.6,
            "count": 0
           },
           {
            "bin_start": 4.6,
            "bin_end": 5,
            "count": 2
           }
          ]
         }
        },
        {
         "name": "city",
         "dtype": "object",
         "stats": {
          "unique_count": 1,
          "nan_count": 0,
          "categories": [
           {
            "name": "austin",
            "count": 5
           }
          ]
         }
        },
        {
         "name": "id",
         "dtype": "int64",
         "stats": {
          "unique_count": 5,
          "nan_count": 0,
          "min": "593102",
          "max": "10069609",
          "histogram": [
           {
            "bin_start": 593102,
            "bin_end": 1540752.7,
            "count": 2
           },
           {
            "bin_start": 1540752.7,
            "bin_end": 2488403.4,
            "count": 0
           },
           {
            "bin_start": 2488403.4,
            "bin_end": 3436054.0999999996,
            "count": 0
           },
           {
            "bin_start": 3436054.0999999996,
            "bin_end": 4383704.8,
            "count": 1
           },
           {
            "bin_start": 4383704.8,
            "bin_end": 5331355.5,
            "count": 0
           },
           {
            "bin_start": 5331355.5,
            "bin_end": 6279006.199999999,
            "count": 1
           },
           {
            "bin_start": 6279006.199999999,
            "bin_end": 7226656.899999999,
            "count": 0
           },
           {
            "bin_start": 7226656.899999999,
            "bin_end": 8174307.6,
            "count": 0
           },
           {
            "bin_start": 8174307.6,
            "bin_end": 9121958.299999999,
            "count": 0
           },
           {
            "bin_start": 9121958.299999999,
            "bin_end": 10069609,
            "count": 1
           }
          ]
         }
        },
        {
         "name": "metropolitan",
         "dtype": "object",
         "stats": {
          "unique_count": 1,
          "nan_count": 0,
          "categories": [
           {
            "name": "austin",
            "count": 5
           }
          ]
         }
        },
        {
         "name": "name",
         "dtype": "object",
         "stats": {
          "unique_count": 5,
          "nan_count": 0,
          "categories": [
           {
            "name": "Beautiful Central Austin Home",
            "count": 1
           },
           {
            "name": "Rosedale's Casa Blanca: ACL/Form 1 ",
            "count": 1
           },
           {
            "name": "3 others",
            "count": 3
           }
          ]
         }
        },
        {
         "name": "price",
         "dtype": "float64",
         "stats": {
          "unique_count": 5,
          "nan_count": 0,
          "min": "105.0",
          "max": "500.0",
          "histogram": [
           {
            "bin_start": 105,
            "bin_end": 144.5,
            "count": 2
           },
           {
            "bin_start": 144.5,
            "bin_end": 184,
            "count": 0
           },
           {
            "bin_start": 184,
            "bin_end": 223.5,
            "count": 1
           },
           {
            "bin_start": 223.5,
            "bin_end": 263,
            "count": 0
           },
           {
            "bin_start": 263,
            "bin_end": 302.5,
            "count": 1
           },
           {
            "bin_start": 302.5,
            "bin_end": 342,
            "count": 0
           },
           {
            "bin_start": 342,
            "bin_end": 381.5,
            "count": 0
           },
           {
            "bin_start": 381.5,
            "bin_end": 421,
            "count": 0
           },
           {
            "bin_start": 421,
            "bin_end": 460.5,
            "count": 0
           },
           {
            "bin_start": 460.5,
            "bin_end": 500,
            "count": 1
           }
          ]
         }
        },
        {
         "name": "review_scores_checkin",
         "dtype": "float64",
         "stats": {
          "unique_count": 1,
          "nan_count": 0,
          "min": "10.0",
          "max": "10.0",
          "histogram": [
           {
            "bin_start": 9.5,
            "bin_end": 9.6,
            "count": 0
           },
           {
            "bin_start": 9.6,
            "bin_end": 9.7,
            "count": 0
           },
           {
            "bin_start": 9.7,
            "bin_end": 9.8,
            "count": 0
           },
           {
            "bin_start": 9.8,
            "bin_end": 9.9,
            "count": 0
           },
           {
            "bin_start": 9.9,
            "bin_end": 10,
            "count": 0
           },
           {
            "bin_start": 10,
            "bin_end": 10.1,
            "count": 5
           },
           {
            "bin_start": 10.1,
            "bin_end": 10.2,
            "count": 0
           },
           {
            "bin_start": 10.2,
            "bin_end": 10.3,
            "count": 0
           },
           {
            "bin_start": 10.3,
            "bin_end": 10.4,
            "count": 0
           },
           {
            "bin_start": 10.4,
            "bin_end": 10.5,
            "count": 0
           }
          ]
         }
        },
        {
         "name": "review_scores_cleanliness",
         "dtype": "float64",
         "stats": {
          "unique_count": 2,
          "nan_count": 0,
          "min": "9.0",
          "max": "10.0",
          "histogram": [
           {
            "bin_start": 9,
            "bin_end": 9.1,
            "count": 1
           },
           {
            "bin_start": 9.1,
            "bin_end": 9.2,
            "count": 0
           },
           {
            "bin_start": 9.2,
            "bin_end": 9.3,
            "count": 0
           },
           {
            "bin_start": 9.3,
            "bin_end": 9.4,
            "count": 0
           },
           {
            "bin_start": 9.4,
            "bin_end": 9.5,
            "count": 0
           },
           {
            "bin_start": 9.5,
            "bin_end": 9.6,
            "count": 0
           },
           {
            "bin_start": 9.6,
            "bin_end": 9.7,
            "count": 0
           },
           {
            "bin_start": 9.7,
            "bin_end": 9.8,
            "count": 0
           },
           {
            "bin_start": 9.8,
            "bin_end": 9.9,
            "count": 0
           },
           {
            "bin_start": 9.9,
            "bin_end": 10,
            "count": 4
           }
          ]
         }
        },
        {
         "name": "review_scores_communication",
         "dtype": "float64",
         "stats": {
          "unique_count": 1,
          "nan_count": 0,
          "min": "10.0",
          "max": "10.0",
          "histogram": [
           {
            "bin_start": 9.5,
            "bin_end": 9.6,
            "count": 0
           },
           {
            "bin_start": 9.6,
            "bin_end": 9.7,
            "count": 0
           },
           {
            "bin_start": 9.7,
            "bin_end": 9.8,
            "count": 0
           },
           {
            "bin_start": 9.8,
            "bin_end": 9.9,
            "count": 0
           },
           {
            "bin_start": 9.9,
            "bin_end": 10,
            "count": 0
           },
           {
            "bin_start": 10,
            "bin_end": 10.1,
            "count": 5
           },
           {
            "bin_start": 10.1,
            "bin_end": 10.2,
            "count": 0
           },
           {
            "bin_start": 10.2,
            "bin_end": 10.3,
            "count": 0
           },
           {
            "bin_start": 10.3,
            "bin_end": 10.4,
            "count": 0
           },
           {
            "bin_start": 10.4,
            "bin_end": 10.5,
            "count": 0
           }
          ]
         }
        },
        {
         "name": "review_scores_location",
         "dtype": "float64",
         "stats": {
          "unique_count": 1,
          "nan_count": 0,
          "min": "10.0",
          "max": "10.0",
          "histogram": [
           {
            "bin_start": 9.5,
            "bin_end": 9.6,
            "count": 0
           },
           {
            "bin_start": 9.6,
            "bin_end": 9.7,
            "count": 0
           },
           {
            "bin_start": 9.7,
            "bin_end": 9.8,
            "count": 0
           },
           {
            "bin_start": 9.8,
            "bin_end": 9.9,
            "count": 0
           },
           {
            "bin_start": 9.9,
            "bin_end": 10,
            "count": 0
           },
           {
            "bin_start": 10,
            "bin_end": 10.1,
            "count": 5
           },
           {
            "bin_start": 10.1,
            "bin_end": 10.2,
            "count": 0
           },
           {
            "bin_start": 10.2,
            "bin_end": 10.3,
            "count": 0
           },
           {
            "bin_start": 10.3,
            "bin_end": 10.4,
            "count": 0
           },
           {
            "bin_start": 10.4,
            "bin_end": 10.5,
            "count": 0
           }
          ]
         }
        },
        {
         "name": "review_scores_rating",
         "dtype": "float64",
         "stats": {
          "unique_count": 4,
          "nan_count": 0,
          "min": "93.0",
          "max": "100.0",
          "histogram": [
           {
            "bin_start": 93,
            "bin_end": 93.7,
            "count": 1
           },
           {
            "bin_start": 93.7,
            "bin_end": 94.4,
            "count": 0
           },
           {
            "bin_start": 94.4,
            "bin_end": 95.1,
            "count": 0
           },
           {
            "bin_start": 95.1,
            "bin_end": 95.8,
            "count": 0
           },
           {
            "bin_start": 95.8,
            "bin_end": 96.5,
            "count": 0
           },
           {
            "bin_start": 96.5,
            "bin_end": 97.2,
            "count": 0
           },
           {
            "bin_start": 97.2,
            "bin_end": 97.9,
            "count": 0
           },
           {
            "bin_start": 97.9,
            "bin_end": 98.6,
            "count": 1
           },
           {
            "bin_start": 98.6,
            "bin_end": 99.3,
            "count": 1
           },
           {
            "bin_start": 99.3,
            "bin_end": 100,
            "count": 2
           }
          ]
         }
        },
        {
         "name": "review_scores_value",
         "dtype": "float64",
         "stats": {
          "unique_count": 2,
          "nan_count": 0,
          "min": "9.0",
          "max": "10.0",
          "histogram": [
           {
            "bin_start": 9,
            "bin_end": 9.1,
            "count": 1
           },
           {
            "bin_start": 9.1,
            "bin_end": 9.2,
            "count": 0
           },
           {
            "bin_start": 9.2,
            "bin_end": 9.3,
            "count": 0
           },
           {
            "bin_start": 9.3,
            "bin_end": 9.4,
            "count": 0
           },
           {
            "bin_start": 9.4,
            "bin_end": 9.5,
            "count": 0
           },
           {
            "bin_start": 9.5,
            "bin_end": 9.6,
            "count": 0
           },
           {
            "bin_start": 9.6,
            "bin_end": 9.7,
            "count": 0
           },
           {
            "bin_start": 9.7,
            "bin_end": 9.8,
            "count": 0
           },
           {
            "bin_start": 9.8,
            "bin_end": 9.9,
            "count": 0
           },
           {
            "bin_start": 9.9,
            "bin_end": 10,
            "count": 4
           }
          ]
         }
        },
        {
         "name": "state",
         "dtype": "object",
         "stats": {
          "unique_count": 1,
          "nan_count": 0,
          "categories": [
           {
            "name": "TX",
            "count": 5
           }
          ]
         }
        },
        {
         "name": "bed_type_Airbed",
         "dtype": "uint8",
         "stats": {
          "unique_count": 1,
          "nan_count": 0,
          "min": "0",
          "max": "0",
          "histogram": [
           {
            "bin_start": -0.5,
            "bin_end": -0.4,
            "count": 0
           },
           {
            "bin_start": -0.4,
            "bin_end": -0.3,
            "count": 0
           },
           {
            "bin_start": -0.3,
            "bin_end": -0.19999999999999996,
            "count": 0
           },
           {
            "bin_start": -0.19999999999999996,
            "bin_end": -0.09999999999999998,
            "count": 0
           },
           {
            "bin_start": -0.09999999999999998,
            "bin_end": 0,
            "count": 0
           },
           {
            "bin_start": 0,
            "bin_end": 0.10000000000000009,
            "count": 5
           },
           {
            "bin_start": 0.10000000000000009,
            "bin_end": 0.20000000000000007,
            "count": 0
           },
           {
            "bin_start": 0.20000000000000007,
            "bin_end": 0.30000000000000004,
            "count": 0
           },
           {
            "bin_start": 0.30000000000000004,
            "bin_end": 0.4,
            "count": 0
           },
           {
            "bin_start": 0.4,
            "bin_end": 0.5,
            "count": 0
           }
          ]
         }
        },
        {
         "name": "bed_type_Couch",
         "dtype": "uint8",
         "stats": {
          "unique_count": 1,
          "nan_count": 0,
          "min": "0",
          "max": "0",
          "histogram": [
           {
            "bin_start": -0.5,
            "bin_end": -0.4,
            "count": 0
           },
           {
            "bin_start": -0.4,
            "bin_end": -0.3,
            "count": 0
           },
           {
            "bin_start": -0.3,
            "bin_end": -0.19999999999999996,
            "count": 0
           },
           {
            "bin_start": -0.19999999999999996,
            "bin_end": -0.09999999999999998,
            "count": 0
           },
           {
            "bin_start": -0.09999999999999998,
            "bin_end": 0,
            "count": 0
           },
           {
            "bin_start": 0,
            "bin_end": 0.10000000000000009,
            "count": 5
           },
           {
            "bin_start": 0.10000000000000009,
            "bin_end": 0.20000000000000007,
            "count": 0
           },
           {
            "bin_start": 0.20000000000000007,
            "bin_end": 0.30000000000000004,
            "count": 0
           },
           {
            "bin_start": 0.30000000000000004,
            "bin_end": 0.4,
            "count": 0
           },
           {
            "bin_start": 0.4,
            "bin_end": 0.5,
            "count": 0
           }
          ]
         }
        },
        {
         "name": "bed_type_Futon",
         "dtype": "uint8",
         "stats": {
          "unique_count": 1,
          "nan_count": 0,
          "min": "0",
          "max": "0",
          "histogram": [
           {
            "bin_start": -0.5,
            "bin_end": -0.4,
            "count": 0
           },
           {
            "bin_start": -0.4,
            "bin_end": -0.3,
            "count": 0
           },
           {
            "bin_start": -0.3,
            "bin_end": -0.19999999999999996,
            "count": 0
           },
           {
            "bin_start": -0.19999999999999996,
            "bin_end": -0.09999999999999998,
            "count": 0
           },
           {
            "bin_start": -0.09999999999999998,
            "bin_end": 0,
            "count": 0
           },
           {
            "bin_start": 0,
            "bin_end": 0.10000000000000009,
            "count": 5
           },
           {
            "bin_start": 0.10000000000000009,
            "bin_end": 0.20000000000000007,
            "count": 0
           },
           {
            "bin_start": 0.20000000000000007,
            "bin_end": 0.30000000000000004,
            "count": 0
           },
           {
            "bin_start": 0.30000000000000004,
            "bin_end": 0.4,
            "count": 0
           },
           {
            "bin_start": 0.4,
            "bin_end": 0.5,
            "count": 0
           }
          ]
         }
        },
        {
         "name": "bed_type_Pull-out Sofa",
         "dtype": "uint8",
         "stats": {
          "unique_count": 1,
          "nan_count": 0,
          "min": "0",
          "max": "0",
          "histogram": [
           {
            "bin_start": -0.5,
            "bin_end": -0.4,
            "count": 0
           },
           {
            "bin_start": -0.4,
            "bin_end": -0.3,
            "count": 0
           },
           {
            "bin_start": -0.3,
            "bin_end": -0.19999999999999996,
            "count": 0
           },
           {
            "bin_start": -0.19999999999999996,
            "bin_end": -0.09999999999999998,
            "count": 0
           },
           {
            "bin_start": -0.09999999999999998,
            "bin_end": 0,
            "count": 0
           },
           {
            "bin_start": 0,
            "bin_end": 0.10000000000000009,
            "count": 5
           },
           {
            "bin_start": 0.10000000000000009,
            "bin_end": 0.20000000000000007,
            "count": 0
           },
           {
            "bin_start": 0.20000000000000007,
            "bin_end": 0.30000000000000004,
            "count": 0
           },
           {
            "bin_start": 0.30000000000000004,
            "bin_end": 0.4,
            "count": 0
           },
           {
            "bin_start": 0.4,
            "bin_end": 0.5,
            "count": 0
           }
          ]
         }
        },
        {
         "name": "bed_type_Real Bed",
         "dtype": "uint8",
         "stats": {
          "unique_count": 1,
          "nan_count": 0,
          "min": "1",
          "max": "1",
          "histogram": [
           {
            "bin_start": 0.5,
            "bin_end": 0.6,
            "count": 0
           },
           {
            "bin_start": 0.6,
            "bin_end": 0.7,
            "count": 0
           },
           {
            "bin_start": 0.7,
            "bin_end": 0.8,
            "count": 0
           },
           {
            "bin_start": 0.8,
            "bin_end": 0.9,
            "count": 0
           },
           {
            "bin_start": 0.9,
            "bin_end": 1,
            "count": 0
           },
           {
            "bin_start": 1,
            "bin_end": 1.1,
            "count": 5
           },
           {
            "bin_start": 1.1,
            "bin_end": 1.2000000000000002,
            "count": 0
           },
           {
            "bin_start": 1.2000000000000002,
            "bin_end": 1.3,
            "count": 0
           },
           {
            "bin_start": 1.3,
            "bin_end": 1.4,
            "count": 0
           },
           {
            "bin_start": 1.4,
            "bin_end": 1.5,
            "count": 0
           }
          ]
         }
        },
        {
         "name": "cancellation_policy_flexible",
         "dtype": "uint8",
         "stats": {
          "unique_count": 1,
          "nan_count": 0,
          "min": "0",
          "max": "0",
          "histogram": [
           {
            "bin_start": -0.5,
            "bin_end": -0.4,
            "count": 0
           },
           {
            "bin_start": -0.4,
            "bin_end": -0.3,
            "count": 0
           },
           {
            "bin_start": -0.3,
            "bin_end": -0.19999999999999996,
            "count": 0
           },
           {
            "bin_start": -0.19999999999999996,
            "bin_end": -0.09999999999999998,
            "count": 0
           },
           {
            "bin_start": -0.09999999999999998,
            "bin_end": 0,
            "count": 0
           },
           {
            "bin_start": 0,
            "bin_end": 0.10000000000000009,
            "count": 5
           },
           {
            "bin_start": 0.10000000000000009,
            "bin_end": 0.20000000000000007,
            "count": 0
           },
           {
            "bin_start": 0.20000000000000007,
            "bin_end": 0.30000000000000004,
            "count": 0
           },
           {
            "bin_start": 0.30000000000000004,
            "bin_end": 0.4,
            "count": 0
           },
           {
            "bin_start": 0.4,
            "bin_end": 0.5,
            "count": 0
           }
          ]
         }
        },
        {
         "name": "cancellation_policy_moderate",
         "dtype": "uint8",
         "stats": {
          "unique_count": 2,
          "nan_count": 0,
          "min": "0",
          "max": "1",
          "histogram": [
           {
            "bin_start": 0,
            "bin_end": 0.1,
            "count": 3
           },
           {
            "bin_start": 0.1,
            "bin_end": 0.2,
            "count": 0
           },
           {
            "bin_start": 0.2,
            "bin_end": 0.30000000000000004,
            "count": 0
           },
           {
            "bin_start": 0.30000000000000004,
            "bin_end": 0.4,
            "count": 0
           },
           {
            "bin_start": 0.4,
            "bin_end": 0.5,
            "count": 0
           },
           {
            "bin_start": 0.5,
            "bin_end": 0.6000000000000001,
            "count": 0
           },
           {
            "bin_start": 0.6000000000000001,
            "bin_end": 0.7000000000000001,
            "count": 0
           },
           {
            "bin_start": 0.7000000000000001,
            "bin_end": 0.8,
            "count": 0
           },
           {
            "bin_start": 0.8,
            "bin_end": 0.9,
            "count": 0
           },
           {
            "bin_start": 0.9,
            "bin_end": 1,
            "count": 2
           }
          ]
         }
        },
        {
         "name": "cancellation_policy_strict",
         "dtype": "uint8",
         "stats": {
          "unique_count": 2,
          "nan_count": 0,
          "min": "0",
          "max": "1",
          "histogram": [
           {
            "bin_start": 0,
            "bin_end": 0.1,
            "count": 2
           },
           {
            "bin_start": 0.1,
            "bin_end": 0.2,
            "count": 0
           },
           {
            "bin_start": 0.2,
            "bin_end": 0.30000000000000004,
            "count": 0
           },
           {
            "bin_start": 0.30000000000000004,
            "bin_end": 0.4,
            "count": 0
           },
           {
            "bin_start": 0.4,
            "bin_end": 0.5,
            "count": 0
           },
           {
            "bin_start": 0.5,
            "bin_end": 0.6000000000000001,
            "count": 0
           },
           {
            "bin_start": 0.6000000000000001,
            "bin_end": 0.7000000000000001,
            "count": 0
           },
           {
            "bin_start": 0.7000000000000001,
            "bin_end": 0.8,
            "count": 0
           },
           {
            "bin_start": 0.8,
            "bin_end": 0.9,
            "count": 0
           },
           {
            "bin_start": 0.9,
            "bin_end": 1,
            "count": 3
           }
          ]
         }
        },
        {
         "name": "cancellation_policy_super_strict_30",
         "dtype": "uint8",
         "stats": {
          "unique_count": 1,
          "nan_count": 0,
          "min": "0",
          "max": "0",
          "histogram": [
           {
            "bin_start": -0.5,
            "bin_end": -0.4,
            "count": 0
           },
           {
            "bin_start": -0.4,
            "bin_end": -0.3,
            "count": 0
           },
           {
            "bin_start": -0.3,
            "bin_end": -0.19999999999999996,
            "count": 0
           },
           {
            "bin_start": -0.19999999999999996,
            "bin_end": -0.09999999999999998,
            "count": 0
           },
           {
            "bin_start": -0.09999999999999998,
            "bin_end": 0,
            "count": 0
           },
           {
            "bin_start": 0,
            "bin_end": 0.10000000000000009,
            "count": 5
           },
           {
            "bin_start": 0.10000000000000009,
            "bin_end": 0.20000000000000007,
            "count": 0
           },
           {
            "bin_start": 0.20000000000000007,
            "bin_end": 0.30000000000000004,
            "count": 0
           },
           {
            "bin_start": 0.30000000000000004,
            "bin_end": 0.4,
            "count": 0
           },
           {
            "bin_start": 0.4,
            "bin_end": 0.5,
            "count": 0
           }
          ]
         }
        },
        {
         "name": "cancellation_policy_super_strict_60",
         "dtype": "uint8",
         "stats": {
          "unique_count": 1,
          "nan_count": 0,
          "min": "0",
          "max": "0",
          "histogram": [
           {
            "bin_start": -0.5,
            "bin_end": -0.4,
            "count": 0
           },
           {
            "bin_start": -0.4,
            "bin_end": -0.3,
            "count": 0
           },
           {
            "bin_start": -0.3,
            "bin_end": -0.19999999999999996,
            "count": 0
           },
           {
            "bin_start": -0.19999999999999996,
            "bin_end": -0.09999999999999998,
            "count": 0
           },
           {
            "bin_start": -0.09999999999999998,
            "bin_end": 0,
            "count": 0
           },
           {
            "bin_start": 0,
            "bin_end": 0.10000000000000009,
            "count": 5
           },
           {
            "bin_start": 0.10000000000000009,
            "bin_end": 0.20000000000000007,
            "count": 0
           },
           {
            "bin_start": 0.20000000000000007,
            "bin_end": 0.30000000000000004,
            "count": 0
           },
           {
            "bin_start": 0.30000000000000004,
            "bin_end": 0.4,
            "count": 0
           },
           {
            "bin_start": 0.4,
            "bin_end": 0.5,
            "count": 0
           }
          ]
         }
        },
        {
         "name": "instant_bookable_f",
         "dtype": "uint8",
         "stats": {
          "unique_count": 1,
          "nan_count": 0,
          "min": "1",
          "max": "1",
          "histogram": [
           {
            "bin_start": 0.5,
            "bin_end": 0.6,
            "count": 0
           },
           {
            "bin_start": 0.6,
            "bin_end": 0.7,
            "count": 0
           },
           {
            "bin_start": 0.7,
            "bin_end": 0.8,
            "count": 0
           },
           {
            "bin_start": 0.8,
            "bin_end": 0.9,
            "count": 0
           },
           {
            "bin_start": 0.9,
            "bin_end": 1,
            "count": 0
           },
           {
            "bin_start": 1,
            "bin_end": 1.1,
            "count": 5
           },
           {
            "bin_start": 1.1,
            "bin_end": 1.2000000000000002,
            "count": 0
           },
           {
            "bin_start": 1.2000000000000002,
            "bin_end": 1.3,
            "count": 0
           },
           {
            "bin_start": 1.3,
            "bin_end": 1.4,
            "count": 0
           },
           {
            "bin_start": 1.4,
            "bin_end": 1.5,
            "count": 0
           }
          ]
         }
        },
        {
         "name": "instant_bookable_t",
         "dtype": "uint8",
         "stats": {
          "unique_count": 1,
          "nan_count": 0,
          "min": "0",
          "max": "0",
          "histogram": [
           {
            "bin_start": -0.5,
            "bin_end": -0.4,
            "count": 0
           },
           {
            "bin_start": -0.4,
            "bin_end": -0.3,
            "count": 0
           },
           {
            "bin_start": -0.3,
            "bin_end": -0.19999999999999996,
            "count": 0
           },
           {
            "bin_start": -0.19999999999999996,
            "bin_end": -0.09999999999999998,
            "count": 0
           },
           {
            "bin_start": -0.09999999999999998,
            "bin_end": 0,
            "count": 0
           },
           {
            "bin_start": 0,
            "bin_end": 0.10000000000000009,
            "count": 5
           },
           {
            "bin_start": 0.10000000000000009,
            "bin_end": 0.20000000000000007,
            "count": 0
           },
           {
            "bin_start": 0.20000000000000007,
            "bin_end": 0.30000000000000004,
            "count": 0
           },
           {
            "bin_start": 0.30000000000000004,
            "bin_end": 0.4,
            "count": 0
           },
           {
            "bin_start": 0.4,
            "bin_end": 0.5,
            "count": 0
           }
          ]
         }
        },
        {
         "name": "property_type_Apartment",
         "dtype": "uint8",
         "stats": {
          "unique_count": 2,
          "nan_count": 0,
          "min": "0",
          "max": "1",
          "histogram": [
           {
            "bin_start": 0,
            "bin_end": 0.1,
            "count": 4
           },
           {
            "bin_start": 0.1,
            "bin_end": 0.2,
            "count": 0
           },
           {
            "bin_start": 0.2,
            "bin_end": 0.30000000000000004,
            "count": 0
           },
           {
            "bin_start": 0.30000000000000004,
            "bin_end": 0.4,
            "count": 0
           },
           {
            "bin_start": 0.4,
            "bin_end": 0.5,
            "count": 0
           },
           {
            "bin_start": 0.5,
            "bin_end": 0.6000000000000001,
            "count": 0
           },
           {
            "bin_start": 0.6000000000000001,
            "bin_end": 0.7000000000000001,
            "count": 0
           },
           {
            "bin_start": 0.7000000000000001,
            "bin_end": 0.8,
            "count": 0
           },
           {
            "bin_start": 0.8,
            "bin_end": 0.9,
            "count": 0
           },
           {
            "bin_start": 0.9,
            "bin_end": 1,
            "count": 1
           }
          ]
         }
        },
        {
         "name": "property_type_Bed & Breakfast",
         "dtype": "uint8",
         "stats": {
          "unique_count": 1,
          "nan_count": 0,
          "min": "0",
          "max": "0",
          "histogram": [
           {
            "bin_start": -0.5,
            "bin_end": -0.4,
            "count": 0
           },
           {
            "bin_start": -0.4,
            "bin_end": -0.3,
            "count": 0
           },
           {
            "bin_start": -0.3,
            "bin_end": -0.19999999999999996,
            "count": 0
           },
           {
            "bin_start": -0.19999999999999996,
            "bin_end": -0.09999999999999998,
            "count": 0
           },
           {
            "bin_start": -0.09999999999999998,
            "bin_end": 0,
            "count": 0
           },
           {
            "bin_start": 0,
            "bin_end": 0.10000000000000009,
            "count": 5
           },
           {
            "bin_start": 0.10000000000000009,
            "bin_end": 0.20000000000000007,
            "count": 0
           },
           {
            "bin_start": 0.20000000000000007,
            "bin_end": 0.30000000000000004,
            "count": 0
           },
           {
            "bin_start": 0.30000000000000004,
            "bin_end": 0.4,
            "count": 0
           },
           {
            "bin_start": 0.4,
            "bin_end": 0.5,
            "count": 0
           }
          ]
         }
        },
        {
         "name": "property_type_Boat",
         "dtype": "uint8",
         "stats": {
          "unique_count": 1,
          "nan_count": 0,
          "min": "0",
          "max": "0",
          "histogram": [
           {
            "bin_start": -0.5,
            "bin_end": -0.4,
            "count": 0
           },
           {
            "bin_start": -0.4,
            "bin_end": -0.3,
            "count": 0
           },
           {
            "bin_start": -0.3,
            "bin_end": -0.19999999999999996,
            "count": 0
           },
           {
            "bin_start": -0.19999999999999996,
            "bin_end": -0.09999999999999998,
            "count": 0
           },
           {
            "bin_start": -0.09999999999999998,
            "bin_end": 0,
            "count": 0
           },
           {
            "bin_start": 0,
            "bin_end": 0.10000000000000009,
            "count": 5
           },
           {
            "bin_start": 0.10000000000000009,
            "bin_end": 0.20000000000000007,
            "count": 0
           },
           {
            "bin_start": 0.20000000000000007,
            "bin_end": 0.30000000000000004,
            "count": 0
           },
           {
            "bin_start": 0.30000000000000004,
            "bin_end": 0.4,
            "count": 0
           },
           {
            "bin_start": 0.4,
            "bin_end": 0.5,
            "count": 0
           }
          ]
         }
        },
        {
         "name": "property_type_Boutique hotel",
         "dtype": "uint8",
         "stats": {
          "unique_count": 1,
          "nan_count": 0,
          "min": "0",
          "max": "0",
          "histogram": [
           {
            "bin_start": -0.5,
            "bin_end": -0.4,
            "count": 0
           },
           {
            "bin_start": -0.4,
            "bin_end": -0.3,
            "count": 0
           },
           {
            "bin_start": -0.3,
            "bin_end": -0.19999999999999996,
            "count": 0
           },
           {
            "bin_start": -0.19999999999999996,
            "bin_end": -0.09999999999999998,
            "count": 0
           },
           {
            "bin_start": -0.09999999999999998,
            "bin_end": 0,
            "count": 0
           },
           {
            "bin_start": 0,
            "bin_end": 0.10000000000000009,
            "count": 5
           },
           {
            "bin_start": 0.10000000000000009,
            "bin_end": 0.20000000000000007,
            "count": 0
           },
           {
            "bin_start": 0.20000000000000007,
            "bin_end": 0.30000000000000004,
            "count": 0
           },
           {
            "bin_start": 0.30000000000000004,
            "bin_end": 0.4,
            "count": 0
           },
           {
            "bin_start": 0.4,
            "bin_end": 0.5,
            "count": 0
           }
          ]
         }
        },
        {
         "name": "property_type_Bungalow",
         "dtype": "uint8",
         "stats": {
          "unique_count": 1,
          "nan_count": 0,
          "min": "0",
          "max": "0",
          "histogram": [
           {
            "bin_start": -0.5,
            "bin_end": -0.4,
            "count": 0
           },
           {
            "bin_start": -0.4,
            "bin_end": -0.3,
            "count": 0
           },
           {
            "bin_start": -0.3,
            "bin_end": -0.19999999999999996,
            "count": 0
           },
           {
            "bin_start": -0.19999999999999996,
            "bin_end": -0.09999999999999998,
            "count": 0
           },
           {
            "bin_start": -0.09999999999999998,
            "bin_end": 0,
            "count": 0
           },
           {
            "bin_start": 0,
            "bin_end": 0.10000000000000009,
            "count": 5
           },
           {
            "bin_start": 0.10000000000000009,
            "bin_end": 0.20000000000000007,
            "count": 0
           },
           {
            "bin_start": 0.20000000000000007,
            "bin_end": 0.30000000000000004,
            "count": 0
           },
           {
            "bin_start": 0.30000000000000004,
            "bin_end": 0.4,
            "count": 0
           },
           {
            "bin_start": 0.4,
            "bin_end": 0.5,
            "count": 0
           }
          ]
         }
        },
        {
         "name": "property_type_Cabin",
         "dtype": "uint8",
         "stats": {
          "unique_count": 1,
          "nan_count": 0,
          "min": "0",
          "max": "0",
          "histogram": [
           {
            "bin_start": -0.5,
            "bin_end": -0.4,
            "count": 0
           },
           {
            "bin_start": -0.4,
            "bin_end": -0.3,
            "count": 0
           },
           {
            "bin_start": -0.3,
            "bin_end": -0.19999999999999996,
            "count": 0
           },
           {
            "bin_start": -0.19999999999999996,
            "bin_end": -0.09999999999999998,
            "count": 0
           },
           {
            "bin_start": -0.09999999999999998,
            "bin_end": 0,
            "count": 0
           },
           {
            "bin_start": 0,
            "bin_end": 0.10000000000000009,
            "count": 5
           },
           {
            "bin_start": 0.10000000000000009,
            "bin_end": 0.20000000000000007,
            "count": 0
           },
           {
            "bin_start": 0.20000000000000007,
            "bin_end": 0.30000000000000004,
            "count": 0
           },
           {
            "bin_start": 0.30000000000000004,
            "bin_end": 0.4,
            "count": 0
           },
           {
            "bin_start": 0.4,
            "bin_end": 0.5,
            "count": 0
           }
          ]
         }
        },
        {
         "name": "property_type_Camper/RV",
         "dtype": "uint8",
         "stats": {
          "unique_count": 1,
          "nan_count": 0,
          "min": "0",
          "max": "0",
          "histogram": [
           {
            "bin_start": -0.5,
            "bin_end": -0.4,
            "count": 0
           },
           {
            "bin_start": -0.4,
            "bin_end": -0.3,
            "count": 0
           },
           {
            "bin_start": -0.3,
            "bin_end": -0.19999999999999996,
            "count": 0
           },
           {
            "bin_start": -0.19999999999999996,
            "bin_end": -0.09999999999999998,
            "count": 0
           },
           {
            "bin_start": -0.09999999999999998,
            "bin_end": 0,
            "count": 0
           },
           {
            "bin_start": 0,
            "bin_end": 0.10000000000000009,
            "count": 5
           },
           {
            "bin_start": 0.10000000000000009,
            "bin_end": 0.20000000000000007,
            "count": 0
           },
           {
            "bin_start": 0.20000000000000007,
            "bin_end": 0.30000000000000004,
            "count": 0
           },
           {
            "bin_start": 0.30000000000000004,
            "bin_end": 0.4,
            "count": 0
           },
           {
            "bin_start": 0.4,
            "bin_end": 0.5,
            "count": 0
           }
          ]
         }
        },
        {
         "name": "property_type_Chalet",
         "dtype": "uint8",
         "stats": {
          "unique_count": 1,
          "nan_count": 0,
          "min": "0",
          "max": "0",
          "histogram": [
           {
            "bin_start": -0.5,
            "bin_end": -0.4,
            "count": 0
           },
           {
            "bin_start": -0.4,
            "bin_end": -0.3,
            "count": 0
           },
           {
            "bin_start": -0.3,
            "bin_end": -0.19999999999999996,
            "count": 0
           },
           {
            "bin_start": -0.19999999999999996,
            "bin_end": -0.09999999999999998,
            "count": 0
           },
           {
            "bin_start": -0.09999999999999998,
            "bin_end": 0,
            "count": 0
           },
           {
            "bin_start": 0,
            "bin_end": 0.10000000000000009,
            "count": 5
           },
           {
            "bin_start": 0.10000000000000009,
            "bin_end": 0.20000000000000007,
            "count": 0
           },
           {
            "bin_start": 0.20000000000000007,
            "bin_end": 0.30000000000000004,
            "count": 0
           },
           {
            "bin_start": 0.30000000000000004,
            "bin_end": 0.4,
            "count": 0
           },
           {
            "bin_start": 0.4,
            "bin_end": 0.5,
            "count": 0
           }
          ]
         }
        },
        {
         "name": "property_type_Condominium",
         "dtype": "uint8",
         "stats": {
          "unique_count": 1,
          "nan_count": 0,
          "min": "0",
          "max": "0",
          "histogram": [
           {
            "bin_start": -0.5,
            "bin_end": -0.4,
            "count": 0
           },
           {
            "bin_start": -0.4,
            "bin_end": -0.3,
            "count": 0
           },
           {
            "bin_start": -0.3,
            "bin_end": -0.19999999999999996,
            "count": 0
           },
           {
            "bin_start": -0.19999999999999996,
            "bin_end": -0.09999999999999998,
            "count": 0
           },
           {
            "bin_start": -0.09999999999999998,
            "bin_end": 0,
            "count": 0
           },
           {
            "bin_start": 0,
            "bin_end": 0.10000000000000009,
            "count": 5
           },
           {
            "bin_start": 0.10000000000000009,
            "bin_end": 0.20000000000000007,
            "count": 0
           },
           {
            "bin_start": 0.20000000000000007,
            "bin_end": 0.30000000000000004,
            "count": 0
           },
           {
            "bin_start": 0.30000000000000004,
            "bin_end": 0.4,
            "count": 0
           },
           {
            "bin_start": 0.4,
            "bin_end": 0.5,
            "count": 0
           }
          ]
         }
        },
        {
         "name": "property_type_Dorm",
         "dtype": "uint8",
         "stats": {
          "unique_count": 1,
          "nan_count": 0,
          "min": "0",
          "max": "0",
          "histogram": [
           {
            "bin_start": -0.5,
            "bin_end": -0.4,
            "count": 0
           },
           {
            "bin_start": -0.4,
            "bin_end": -0.3,
            "count": 0
           },
           {
            "bin_start": -0.3,
            "bin_end": -0.19999999999999996,
            "count": 0
           },
           {
            "bin_start": -0.19999999999999996,
            "bin_end": -0.09999999999999998,
            "count": 0
           },
           {
            "bin_start": -0.09999999999999998,
            "bin_end": 0,
            "count": 0
           },
           {
            "bin_start": 0,
            "bin_end": 0.10000000000000009,
            "count": 5
           },
           {
            "bin_start": 0.10000000000000009,
            "bin_end": 0.20000000000000007,
            "count": 0
           },
           {
            "bin_start": 0.20000000000000007,
            "bin_end": 0.30000000000000004,
            "count": 0
           },
           {
            "bin_start": 0.30000000000000004,
            "bin_end": 0.4,
            "count": 0
           },
           {
            "bin_start": 0.4,
            "bin_end": 0.5,
            "count": 0
           }
          ]
         }
        },
        {
         "name": "property_type_Guesthouse",
         "dtype": "uint8",
         "stats": {
          "unique_count": 1,
          "nan_count": 0,
          "min": "0",
          "max": "0",
          "histogram": [
           {
            "bin_start": -0.5,
            "bin_end": -0.4,
            "count": 0
           },
           {
            "bin_start": -0.4,
            "bin_end": -0.3,
            "count": 0
           },
           {
            "bin_start": -0.3,
            "bin_end": -0.19999999999999996,
            "count": 0
           },
           {
            "bin_start": -0.19999999999999996,
            "bin_end": -0.09999999999999998,
            "count": 0
           },
           {
            "bin_start": -0.09999999999999998,
            "bin_end": 0,
            "count": 0
           },
           {
            "bin_start": 0,
            "bin_end": 0.10000000000000009,
            "count": 5
           },
           {
            "bin_start": 0.10000000000000009,
            "bin_end": 0.20000000000000007,
            "count": 0
           },
           {
            "bin_start": 0.20000000000000007,
            "bin_end": 0.30000000000000004,
            "count": 0
           },
           {
            "bin_start": 0.30000000000000004,
            "bin_end": 0.4,
            "count": 0
           },
           {
            "bin_start": 0.4,
            "bin_end": 0.5,
            "count": 0
           }
          ]
         }
        },
        {
         "name": "property_type_Hostel",
         "dtype": "uint8",
         "stats": {
          "unique_count": 1,
          "nan_count": 0,
          "min": "0",
          "max": "0",
          "histogram": [
           {
            "bin_start": -0.5,
            "bin_end": -0.4,
            "count": 0
           },
           {
            "bin_start": -0.4,
            "bin_end": -0.3,
            "count": 0
           },
           {
            "bin_start": -0.3,
            "bin_end": -0.19999999999999996,
            "count": 0
           },
           {
            "bin_start": -0.19999999999999996,
            "bin_end": -0.09999999999999998,
            "count": 0
           },
           {
            "bin_start": -0.09999999999999998,
            "bin_end": 0,
            "count": 0
           },
           {
            "bin_start": 0,
            "bin_end": 0.10000000000000009,
            "count": 5
           },
           {
            "bin_start": 0.10000000000000009,
            "bin_end": 0.20000000000000007,
            "count": 0
           },
           {
            "bin_start": 0.20000000000000007,
            "bin_end": 0.30000000000000004,
            "count": 0
           },
           {
            "bin_start": 0.30000000000000004,
            "bin_end": 0.4,
            "count": 0
           },
           {
            "bin_start": 0.4,
            "bin_end": 0.5,
            "count": 0
           }
          ]
         }
        },
        {
         "name": "property_type_House",
         "dtype": "uint8",
         "stats": {
          "unique_count": 2,
          "nan_count": 0,
          "min": "0",
          "max": "1",
          "histogram": [
           {
            "bin_start": 0,
            "bin_end": 0.1,
            "count": 1
           },
           {
            "bin_start": 0.1,
            "bin_end": 0.2,
            "count": 0
           },
           {
            "bin_start": 0.2,
            "bin_end": 0.30000000000000004,
            "count": 0
           },
           {
            "bin_start": 0.30000000000000004,
            "bin_end": 0.4,
            "count": 0
           },
           {
            "bin_start": 0.4,
            "bin_end": 0.5,
            "count": 0
           },
           {
            "bin_start": 0.5,
            "bin_end": 0.6000000000000001,
            "count": 0
           },
           {
            "bin_start": 0.6000000000000001,
            "bin_end": 0.7000000000000001,
            "count": 0
           },
           {
            "bin_start": 0.7000000000000001,
            "bin_end": 0.8,
            "count": 0
           },
           {
            "bin_start": 0.8,
            "bin_end": 0.9,
            "count": 0
           },
           {
            "bin_start": 0.9,
            "bin_end": 1,
            "count": 4
           }
          ]
         }
        },
        {
         "name": "property_type_Island",
         "dtype": "uint8",
         "stats": {
          "unique_count": 1,
          "nan_count": 0,
          "min": "0",
          "max": "0",
          "histogram": [
           {
            "bin_start": -0.5,
            "bin_end": -0.4,
            "count": 0
           },
           {
            "bin_start": -0.4,
            "bin_end": -0.3,
            "count": 0
           },
           {
            "bin_start": -0.3,
            "bin_end": -0.19999999999999996,
            "count": 0
           },
           {
            "bin_start": -0.19999999999999996,
            "bin_end": -0.09999999999999998,
            "count": 0
           },
           {
            "bin_start": -0.09999999999999998,
            "bin_end": 0,
            "count": 0
           },
           {
            "bin_start": 0,
            "bin_end": 0.10000000000000009,
            "count": 5
           },
           {
            "bin_start": 0.10000000000000009,
            "bin_end": 0.20000000000000007,
            "count": 0
           },
           {
            "bin_start": 0.20000000000000007,
            "bin_end": 0.30000000000000004,
            "count": 0
           },
           {
            "bin_start": 0.30000000000000004,
            "bin_end": 0.4,
            "count": 0
           },
           {
            "bin_start": 0.4,
            "bin_end": 0.5,
            "count": 0
           }
          ]
         }
        },
        {
         "name": "property_type_Lighthouse",
         "dtype": "uint8",
         "stats": {
          "unique_count": 1,
          "nan_count": 0,
          "min": "0",
          "max": "0",
          "histogram": [
           {
            "bin_start": -0.5,
            "bin_end": -0.4,
            "count": 0
           },
           {
            "bin_start": -0.4,
            "bin_end": -0.3,
            "count": 0
           },
           {
            "bin_start": -0.3,
            "bin_end": -0.19999999999999996,
            "count": 0
           },
           {
            "bin_start": -0.19999999999999996,
            "bin_end": -0.09999999999999998,
            "count": 0
           },
           {
            "bin_start": -0.09999999999999998,
            "bin_end": 0,
            "count": 0
           },
           {
            "bin_start": 0,
            "bin_end": 0.10000000000000009,
            "count": 5
           },
           {
            "bin_start": 0.10000000000000009,
            "bin_end": 0.20000000000000007,
            "count": 0
           },
           {
            "bin_start": 0.20000000000000007,
            "bin_end": 0.30000000000000004,
            "count": 0
           },
           {
            "bin_start": 0.30000000000000004,
            "bin_end": 0.4,
            "count": 0
           },
           {
            "bin_start": 0.4,
            "bin_end": 0.5,
            "count": 0
           }
          ]
         }
        },
        {
         "name": "property_type_Loft",
         "dtype": "uint8",
         "stats": {
          "unique_count": 1,
          "nan_count": 0,
          "min": "0",
          "max": "0",
          "histogram": [
           {
            "bin_start": -0.5,
            "bin_end": -0.4,
            "count": 0
           },
           {
            "bin_start": -0.4,
            "bin_end": -0.3,
            "count": 0
           },
           {
            "bin_start": -0.3,
            "bin_end": -0.19999999999999996,
            "count": 0
           },
           {
            "bin_start": -0.19999999999999996,
            "bin_end": -0.09999999999999998,
            "count": 0
           },
           {
            "bin_start": -0.09999999999999998,
            "bin_end": 0,
            "count": 0
           },
           {
            "bin_start": 0,
            "bin_end": 0.10000000000000009,
            "count": 5
           },
           {
            "bin_start": 0.10000000000000009,
            "bin_end": 0.20000000000000007,
            "count": 0
           },
           {
            "bin_start": 0.20000000000000007,
            "bin_end": 0.30000000000000004,
            "count": 0
           },
           {
            "bin_start": 0.30000000000000004,
            "bin_end": 0.4,
            "count": 0
           },
           {
            "bin_start": 0.4,
            "bin_end": 0.5,
            "count": 0
           }
          ]
         }
        },
        {
         "name": "property_type_Other",
         "dtype": "uint8",
         "stats": {
          "unique_count": 1,
          "nan_count": 0,
          "min": "0",
          "max": "0",
          "histogram": [
           {
            "bin_start": -0.5,
            "bin_end": -0.4,
            "count": 0
           },
           {
            "bin_start": -0.4,
            "bin_end": -0.3,
            "count": 0
           },
           {
            "bin_start": -0.3,
            "bin_end": -0.19999999999999996,
            "count": 0
           },
           {
            "bin_start": -0.19999999999999996,
            "bin_end": -0.09999999999999998,
            "count": 0
           },
           {
            "bin_start": -0.09999999999999998,
            "bin_end": 0,
            "count": 0
           },
           {
            "bin_start": 0,
            "bin_end": 0.10000000000000009,
            "count": 5
           },
           {
            "bin_start": 0.10000000000000009,
            "bin_end": 0.20000000000000007,
            "count": 0
           },
           {
            "bin_start": 0.20000000000000007,
            "bin_end": 0.30000000000000004,
            "count": 0
           },
           {
            "bin_start": 0.30000000000000004,
            "bin_end": 0.4,
            "count": 0
           },
           {
            "bin_start": 0.4,
            "bin_end": 0.5,
            "count": 0
           }
          ]
         }
        },
        {
         "name": "property_type_Serviced apartment",
         "dtype": "uint8",
         "stats": {
          "unique_count": 1,
          "nan_count": 0,
          "min": "0",
          "max": "0",
          "histogram": [
           {
            "bin_start": -0.5,
            "bin_end": -0.4,
            "count": 0
           },
           {
            "bin_start": -0.4,
            "bin_end": -0.3,
            "count": 0
           },
           {
            "bin_start": -0.3,
            "bin_end": -0.19999999999999996,
            "count": 0
           },
           {
            "bin_start": -0.19999999999999996,
            "bin_end": -0.09999999999999998,
            "count": 0
           },
           {
            "bin_start": -0.09999999999999998,
            "bin_end": 0,
            "count": 0
           },
           {
            "bin_start": 0,
            "bin_end": 0.10000000000000009,
            "count": 5
           },
           {
            "bin_start": 0.10000000000000009,
            "bin_end": 0.20000000000000007,
            "count": 0
           },
           {
            "bin_start": 0.20000000000000007,
            "bin_end": 0.30000000000000004,
            "count": 0
           },
           {
            "bin_start": 0.30000000000000004,
            "bin_end": 0.4,
            "count": 0
           },
           {
            "bin_start": 0.4,
            "bin_end": 0.5,
            "count": 0
           }
          ]
         }
        },
        {
         "name": "property_type_Tent",
         "dtype": "uint8",
         "stats": {
          "unique_count": 1,
          "nan_count": 0,
          "min": "0",
          "max": "0",
          "histogram": [
           {
            "bin_start": -0.5,
            "bin_end": -0.4,
            "count": 0
           },
           {
            "bin_start": -0.4,
            "bin_end": -0.3,
            "count": 0
           },
           {
            "bin_start": -0.3,
            "bin_end": -0.19999999999999996,
            "count": 0
           },
           {
            "bin_start": -0.19999999999999996,
            "bin_end": -0.09999999999999998,
            "count": 0
           },
           {
            "bin_start": -0.09999999999999998,
            "bin_end": 0,
            "count": 0
           },
           {
            "bin_start": 0,
            "bin_end": 0.10000000000000009,
            "count": 5
           },
           {
            "bin_start": 0.10000000000000009,
            "bin_end": 0.20000000000000007,
            "count": 0
           },
           {
            "bin_start": 0.20000000000000007,
            "bin_end": 0.30000000000000004,
            "count": 0
           },
           {
            "bin_start": 0.30000000000000004,
            "bin_end": 0.4,
            "count": 0
           },
           {
            "bin_start": 0.4,
            "bin_end": 0.5,
            "count": 0
           }
          ]
         }
        },
        {
         "name": "property_type_Tipi",
         "dtype": "uint8",
         "stats": {
          "unique_count": 1,
          "nan_count": 0,
          "min": "0",
          "max": "0",
          "histogram": [
           {
            "bin_start": -0.5,
            "bin_end": -0.4,
            "count": 0
           },
           {
            "bin_start": -0.4,
            "bin_end": -0.3,
            "count": 0
           },
           {
            "bin_start": -0.3,
            "bin_end": -0.19999999999999996,
            "count": 0
           },
           {
            "bin_start": -0.19999999999999996,
            "bin_end": -0.09999999999999998,
            "count": 0
           },
           {
            "bin_start": -0.09999999999999998,
            "bin_end": 0,
            "count": 0
           },
           {
            "bin_start": 0,
            "bin_end": 0.10000000000000009,
            "count": 5
           },
           {
            "bin_start": 0.10000000000000009,
            "bin_end": 0.20000000000000007,
            "count": 0
           },
           {
            "bin_start": 0.20000000000000007,
            "bin_end": 0.30000000000000004,
            "count": 0
           },
           {
            "bin_start": 0.30000000000000004,
            "bin_end": 0.4,
            "count": 0
           },
           {
            "bin_start": 0.4,
            "bin_end": 0.5,
            "count": 0
           }
          ]
         }
        },
        {
         "name": "property_type_Townhouse",
         "dtype": "uint8",
         "stats": {
          "unique_count": 1,
          "nan_count": 0,
          "min": "0",
          "max": "0",
          "histogram": [
           {
            "bin_start": -0.5,
            "bin_end": -0.4,
            "count": 0
           },
           {
            "bin_start": -0.4,
            "bin_end": -0.3,
            "count": 0
           },
           {
            "bin_start": -0.3,
            "bin_end": -0.19999999999999996,
            "count": 0
           },
           {
            "bin_start": -0.19999999999999996,
            "bin_end": -0.09999999999999998,
            "count": 0
           },
           {
            "bin_start": -0.09999999999999998,
            "bin_end": 0,
            "count": 0
           },
           {
            "bin_start": 0,
            "bin_end": 0.10000000000000009,
            "count": 5
           },
           {
            "bin_start": 0.10000000000000009,
            "bin_end": 0.20000000000000007,
            "count": 0
           },
           {
            "bin_start": 0.20000000000000007,
            "bin_end": 0.30000000000000004,
            "count": 0
           },
           {
            "bin_start": 0.30000000000000004,
            "bin_end": 0.4,
            "count": 0
           },
           {
            "bin_start": 0.4,
            "bin_end": 0.5,
            "count": 0
           }
          ]
         }
        },
        {
         "name": "property_type_Treehouse",
         "dtype": "uint8",
         "stats": {
          "unique_count": 1,
          "nan_count": 0,
          "min": "0",
          "max": "0",
          "histogram": [
           {
            "bin_start": -0.5,
            "bin_end": -0.4,
            "count": 0
           },
           {
            "bin_start": -0.4,
            "bin_end": -0.3,
            "count": 0
           },
           {
            "bin_start": -0.3,
            "bin_end": -0.19999999999999996,
            "count": 0
           },
           {
            "bin_start": -0.19999999999999996,
            "bin_end": -0.09999999999999998,
            "count": 0
           },
           {
            "bin_start": -0.09999999999999998,
            "bin_end": 0,
            "count": 0
           },
           {
            "bin_start": 0,
            "bin_end": 0.10000000000000009,
            "count": 5
           },
           {
            "bin_start": 0.10000000000000009,
            "bin_end": 0.20000000000000007,
            "count": 0
           },
           {
            "bin_start": 0.20000000000000007,
            "bin_end": 0.30000000000000004,
            "count": 0
           },
           {
            "bin_start": 0.30000000000000004,
            "bin_end": 0.4,
            "count": 0
           },
           {
            "bin_start": 0.4,
            "bin_end": 0.5,
            "count": 0
           }
          ]
         }
        },
        {
         "name": "property_type_Villa",
         "dtype": "uint8",
         "stats": {
          "unique_count": 1,
          "nan_count": 0,
          "min": "0",
          "max": "0",
          "histogram": [
           {
            "bin_start": -0.5,
            "bin_end": -0.4,
            "count": 0
           },
           {
            "bin_start": -0.4,
            "bin_end": -0.3,
            "count": 0
           },
           {
            "bin_start": -0.3,
            "bin_end": -0.19999999999999996,
            "count": 0
           },
           {
            "bin_start": -0.19999999999999996,
            "bin_end": -0.09999999999999998,
            "count": 0
           },
           {
            "bin_start": -0.09999999999999998,
            "bin_end": 0,
            "count": 0
           },
           {
            "bin_start": 0,
            "bin_end": 0.10000000000000009,
            "count": 5
           },
           {
            "bin_start": 0.10000000000000009,
            "bin_end": 0.20000000000000007,
            "count": 0
           },
           {
            "bin_start": 0.20000000000000007,
            "bin_end": 0.30000000000000004,
            "count": 0
           },
           {
            "bin_start": 0.30000000000000004,
            "bin_end": 0.4,
            "count": 0
           },
           {
            "bin_start": 0.4,
            "bin_end": 0.5,
            "count": 0
           }
          ]
         }
        },
        {
         "name": "room_type_Entire home/apt",
         "dtype": "uint8",
         "stats": {
          "unique_count": 1,
          "nan_count": 0,
          "min": "1",
          "max": "1",
          "histogram": [
           {
            "bin_start": 0.5,
            "bin_end": 0.6,
            "count": 0
           },
           {
            "bin_start": 0.6,
            "bin_end": 0.7,
            "count": 0
           },
           {
            "bin_start": 0.7,
            "bin_end": 0.8,
            "count": 0
           },
           {
            "bin_start": 0.8,
            "bin_end": 0.9,
            "count": 0
           },
           {
            "bin_start": 0.9,
            "bin_end": 1,
            "count": 0
           },
           {
            "bin_start": 1,
            "bin_end": 1.1,
            "count": 5
           },
           {
            "bin_start": 1.1,
            "bin_end": 1.2000000000000002,
            "count": 0
           },
           {
            "bin_start": 1.2000000000000002,
            "bin_end": 1.3,
            "count": 0
           },
           {
            "bin_start": 1.3,
            "bin_end": 1.4,
            "count": 0
           },
           {
            "bin_start": 1.4,
            "bin_end": 1.5,
            "count": 0
           }
          ]
         }
        },
        {
         "name": "room_type_Private room",
         "dtype": "uint8",
         "stats": {
          "unique_count": 1,
          "nan_count": 0,
          "min": "0",
          "max": "0",
          "histogram": [
           {
            "bin_start": -0.5,
            "bin_end": -0.4,
            "count": 0
           },
           {
            "bin_start": -0.4,
            "bin_end": -0.3,
            "count": 0
           },
           {
            "bin_start": -0.3,
            "bin_end": -0.19999999999999996,
            "count": 0
           },
           {
            "bin_start": -0.19999999999999996,
            "bin_end": -0.09999999999999998,
            "count": 0
           },
           {
            "bin_start": -0.09999999999999998,
            "bin_end": 0,
            "count": 0
           },
           {
            "bin_start": 0,
            "bin_end": 0.10000000000000009,
            "count": 5
           },
           {
            "bin_start": 0.10000000000000009,
            "bin_end": 0.20000000000000007,
            "count": 0
           },
           {
            "bin_start": 0.20000000000000007,
            "bin_end": 0.30000000000000004,
            "count": 0
           },
           {
            "bin_start": 0.30000000000000004,
            "bin_end": 0.4,
            "count": 0
           },
           {
            "bin_start": 0.4,
            "bin_end": 0.5,
            "count": 0
           }
          ]
         }
        },
        {
         "name": "room_type_Shared room",
         "dtype": "uint8",
         "stats": {
          "unique_count": 1,
          "nan_count": 0,
          "min": "0",
          "max": "0",
          "histogram": [
           {
            "bin_start": -0.5,
            "bin_end": -0.4,
            "count": 0
           },
           {
            "bin_start": -0.4,
            "bin_end": -0.3,
            "count": 0
           },
           {
            "bin_start": -0.3,
            "bin_end": -0.19999999999999996,
            "count": 0
           },
           {
            "bin_start": -0.19999999999999996,
            "bin_end": -0.09999999999999998,
            "count": 0
           },
           {
            "bin_start": -0.09999999999999998,
            "bin_end": 0,
            "count": 0
           },
           {
            "bin_start": 0,
            "bin_end": 0.10000000000000009,
            "count": 5
           },
           {
            "bin_start": 0.10000000000000009,
            "bin_end": 0.20000000000000007,
            "count": 0
           },
           {
            "bin_start": 0.20000000000000007,
            "bin_end": 0.30000000000000004,
            "count": 0
           },
           {
            "bin_start": 0.30000000000000004,
            "bin_end": 0.4,
            "count": 0
           },
           {
            "bin_start": 0.4,
            "bin_end": 0.5,
            "count": 0
           }
          ]
         }
        },
        {
         "name": "_deepnote_index_column",
         "dtype": "int64"
        }
       ],
       "rows_top": [
        {
         "accommodates": 5,
         "amenities": "{TV,\"Cable TV\",Internet,\"Wireless Internet\",\"Air conditioning\",Kitchen,\"Free parking on premises\",\"…",
         "availability_30": 0,
         "bathrooms": 2,
         "bedrooms": 3,
         "beds": 4,
         "city": "austin",
         "id": 1068507,
         "metropolitan": "austin",
         "name": "Beautiful Central Austin Home",
         "price": 130,
         "review_scores_checkin": 10,
         "review_scores_cleanliness": 9,
         "review_scores_communication": 10,
         "review_scores_location": 10,
         "review_scores_rating": 100,
         "review_scores_value": 10,
         "state": "TX",
         "bed_type_Airbed": 0,
         "bed_type_Couch": 0,
         "bed_type_Futon": 0,
         "bed_type_Pull-out Sofa": 0,
         "bed_type_Real Bed": 1,
         "cancellation_policy_flexible": 0,
         "cancellation_policy_moderate": 0,
         "cancellation_policy_strict": 1,
         "cancellation_policy_super_strict_30": 0,
         "cancellation_policy_super_strict_60": 0,
         "instant_bookable_f": 1,
         "instant_bookable_t": 0,
         "property_type_Apartment": 0,
         "property_type_Bed & Breakfast": 0,
         "property_type_Boat": 0,
         "property_type_Boutique hotel": 0,
         "property_type_Bungalow": 0,
         "property_type_Cabin": 0,
         "property_type_Camper/RV": 0,
         "property_type_Chalet": 0,
         "property_type_Condominium": 0,
         "property_type_Dorm": 0,
         "property_type_Guesthouse": 0,
         "property_type_Hostel": 0,
         "property_type_House": 1,
         "property_type_Island": 0,
         "property_type_Lighthouse": 0,
         "property_type_Loft": 0,
         "property_type_Other": 0,
         "property_type_Serviced apartment": 0,
         "property_type_Tent": 0,
         "property_type_Tipi": 0,
         "property_type_Townhouse": 0,
         "property_type_Treehouse": 0,
         "property_type_Villa": 0,
         "room_type_Entire home/apt": 1,
         "room_type_Private room": 0,
         "room_type_Shared room": 0,
         "_deepnote_index_column": 0
        },
        {
         "accommodates": 7,
         "amenities": "{\"Cable TV\",\"Wireless Internet\",\"Air conditioning\",Kitchen,\"Free parking on premises\",\"Indoor firep…",
         "availability_30": 25,
         "bathrooms": 2,
         "bedrooms": 3,
         "beds": 5,
         "city": "austin",
         "id": 593102,
         "metropolitan": "austin",
         "name": "Rosedale's Casa Blanca: ACL/Form 1 ",
         "price": 500,
         "review_scores_checkin": 10,
         "review_scores_cleanliness": 10,
         "review_scores_communication": 10,
         "review_scores_location": 10,
         "review_scores_rating": 99,
         "review_scores_value": 9,
         "state": "TX",
         "bed_type_Airbed": 0,
         "bed_type_Couch": 0,
         "bed_type_Futon": 0,
         "bed_type_Pull-out Sofa": 0,
         "bed_type_Real Bed": 1,
         "cancellation_policy_flexible": 0,
         "cancellation_policy_moderate": 0,
         "cancellation_policy_strict": 1,
         "cancellation_policy_super_strict_30": 0,
         "cancellation_policy_super_strict_60": 0,
         "instant_bookable_f": 1,
         "instant_bookable_t": 0,
         "property_type_Apartment": 0,
         "property_type_Bed & Breakfast": 0,
         "property_type_Boat": 0,
         "property_type_Boutique hotel": 0,
         "property_type_Bungalow": 0,
         "property_type_Cabin": 0,
         "property_type_Camper/RV": 0,
         "property_type_Chalet": 0,
         "property_type_Condominium": 0,
         "property_type_Dorm": 0,
         "property_type_Guesthouse": 0,
         "property_type_Hostel": 0,
         "property_type_House": 1,
         "property_type_Island": 0,
         "property_type_Lighthouse": 0,
         "property_type_Loft": 0,
         "property_type_Other": 0,
         "property_type_Serviced apartment": 0,
         "property_type_Tent": 0,
         "property_type_Tipi": 0,
         "property_type_Townhouse": 0,
         "property_type_Treehouse": 0,
         "property_type_Villa": 0,
         "room_type_Entire home/apt": 1,
         "room_type_Private room": 0,
         "room_type_Shared room": 0,
         "_deepnote_index_column": 1
        },
        {
         "accommodates": 4,
         "amenities": "{TV,Internet,\"Wireless Internet\",\"Air conditioning\",Kitchen,\"Free parking on premises\",\"Pets allowe…",
         "availability_30": 6,
         "bathrooms": 1,
         "bedrooms": 1,
         "beds": 2,
         "city": "austin",
         "id": 5992071,
         "metropolitan": "austin",
         "name": "Central Austin Craftsman Sleeps 4",
         "price": 195,
         "review_scores_checkin": 10,
         "review_scores_cleanliness": 10,
         "review_scores_communication": 10,
         "review_scores_location": 10,
         "review_scores_rating": 100,
         "review_scores_value": 10,
         "state": "TX",
         "bed_type_Airbed": 0,
         "bed_type_Couch": 0,
         "bed_type_Futon": 0,
         "bed_type_Pull-out Sofa": 0,
         "bed_type_Real Bed": 1,
         "cancellation_policy_flexible": 0,
         "cancellation_policy_moderate": 1,
         "cancellation_policy_strict": 0,
         "cancellation_policy_super_strict_30": 0,
         "cancellation_policy_super_strict_60": 0,
         "instant_bookable_f": 1,
         "instant_bookable_t": 0,
         "property_type_Apartment": 1,
         "property_type_Bed & Breakfast": 0,
         "property_type_Boat": 0,
         "property_type_Boutique hotel": 0,
         "property_type_Bungalow": 0,
         "property_type_Cabin": 0,
         "property_type_Camper/RV": 0,
         "property_type_Chalet": 0,
         "property_type_Condominium": 0,
         "property_type_Dorm": 0,
         "property_type_Guesthouse": 0,
         "property_type_Hostel": 0,
         "property_type_House": 0,
         "property_type_Island": 0,
         "property_type_Lighthouse": 0,
         "property_type_Loft": 0,
         "property_type_Other": 0,
         "property_type_Serviced apartment": 0,
         "property_type_Tent": 0,
         "property_type_Tipi": 0,
         "property_type_Townhouse": 0,
         "property_type_Treehouse": 0,
         "property_type_Villa": 0,
         "room_type_Entire home/apt": 1,
         "room_type_Private room": 0,
         "room_type_Shared room": 0,
         "_deepnote_index_column": 2
        },
        {
         "accommodates": 12,
         "amenities": "{TV,\"Cable TV\",Internet,\"Wireless Internet\",\"Air conditioning\",Kitchen,\"Free parking on premises\",\"…",
         "availability_30": 23,
         "bathrooms": 3,
         "bedrooms": 4,
         "beds": 5,
         "city": "austin",
         "id": 10069609,
         "metropolitan": "austin",
         "name": "Charming Rosedale Home Sleeps 12!",
         "price": 300,
         "review_scores_checkin": 10,
         "review_scores_cleanliness": 10,
         "review_scores_communication": 10,
         "review_scores_location": 10,
         "review_scores_rating": 93,
         "review_scores_value": 10,
         "state": "TX",
         "bed_type_Airbed": 0,
         "bed_type_Couch": 0,
         "bed_type_Futon": 0,
         "bed_type_Pull-out Sofa": 0,
         "bed_type_Real Bed": 1,
         "cancellation_policy_flexible": 0,
         "cancellation_policy_moderate": 0,
         "cancellation_policy_strict": 1,
         "cancellation_policy_super_strict_30": 0,
         "cancellation_policy_super_strict_60": 0,
         "instant_bookable_f": 1,
         "instant_bookable_t": 0,
         "property_type_Apartment": 0,
         "property_type_Bed & Breakfast": 0,
         "property_type_Boat": 0,
         "property_type_Boutique hotel": 0,
         "property_type_Bungalow": 0,
         "property_type_Cabin": 0,
         "property_type_Camper/RV": 0,
         "property_type_Chalet": 0,
         "property_type_Condominium": 0,
         "property_type_Dorm": 0,
         "property_type_Guesthouse": 0,
         "property_type_Hostel": 0,
         "property_type_House": 1,
         "property_type_Island": 0,
         "property_type_Lighthouse": 0,
         "property_type_Loft": 0,
         "property_type_Other": 0,
         "property_type_Serviced apartment": 0,
         "property_type_Tent": 0,
         "property_type_Tipi": 0,
         "property_type_Townhouse": 0,
         "property_type_Treehouse": 0,
         "property_type_Villa": 0,
         "room_type_Entire home/apt": 1,
         "room_type_Private room": 0,
         "room_type_Shared room": 0,
         "_deepnote_index_column": 3
        },
        {
         "accommodates": 2,
         "amenities": "{TV,\"Wireless Internet\",\"Air conditioning\",\"Free parking on premises\",Heating,\"Smoke detector\",\"Car…",
         "availability_30": 10,
         "bathrooms": 1,
         "bedrooms": 1,
         "beds": 1,
         "city": "austin",
         "id": 3689085,
         "metropolitan": "austin",
         "name": "Welcome - TajMaSmall Guest Suite",
         "price": 105,
         "review_scores_checkin": 10,
         "review_scores_cleanliness": 10,
         "review_scores_communication": 10,
         "review_scores_location": 10,
         "review_scores_rating": 98,
         "review_scores_value": 10,
         "state": "TX",
         "bed_type_Airbed": 0,
         "bed_type_Couch": 0,
         "bed_type_Futon": 0,
         "bed_type_Pull-out Sofa": 0,
         "bed_type_Real Bed": 1,
         "cancellation_policy_flexible": 0,
         "cancellation_policy_moderate": 1,
         "cancellation_policy_strict": 0,
         "cancellation_policy_super_strict_30": 0,
         "cancellation_policy_super_strict_60": 0,
         "instant_bookable_f": 1,
         "instant_bookable_t": 0,
         "property_type_Apartment": 0,
         "property_type_Bed & Breakfast": 0,
         "property_type_Boat": 0,
         "property_type_Boutique hotel": 0,
         "property_type_Bungalow": 0,
         "property_type_Cabin": 0,
         "property_type_Camper/RV": 0,
         "property_type_Chalet": 0,
         "property_type_Condominium": 0,
         "property_type_Dorm": 0,
         "property_type_Guesthouse": 0,
         "property_type_Hostel": 0,
         "property_type_House": 1,
         "property_type_Island": 0,
         "property_type_Lighthouse": 0,
         "property_type_Loft": 0,
         "property_type_Other": 0,
         "property_type_Serviced apartment": 0,
         "property_type_Tent": 0,
         "property_type_Tipi": 0,
         "property_type_Townhouse": 0,
         "property_type_Treehouse": 0,
         "property_type_Villa": 0,
         "room_type_Entire home/apt": 1,
         "room_type_Private room": 0,
         "room_type_Shared room": 0,
         "_deepnote_index_column": 4
        }
       ],
       "rows_bottom": null
      },
      "text/plain": "   accommodates                                          amenities  \\\n0           5.0  {TV,\"Cable TV\",Internet,\"Wireless Internet\",\"A...   \n1           7.0  {\"Cable TV\",\"Wireless Internet\",\"Air condition...   \n2           4.0  {TV,Internet,\"Wireless Internet\",\"Air conditio...   \n3          12.0  {TV,\"Cable TV\",Internet,\"Wireless Internet\",\"A...   \n4           2.0  {TV,\"Wireless Internet\",\"Air conditioning\",\"Fr...   \n\n   availability_30  bathrooms  bedrooms  beds    city        id metropolitan  \\\n0                0        2.0       3.0   4.0  austin   1068507       austin   \n1               25        2.0       3.0   5.0  austin    593102       austin   \n2                6        1.0       1.0   2.0  austin   5992071       austin   \n3               23        3.0       4.0   5.0  austin  10069609       austin   \n4               10        1.0       1.0   1.0  austin   3689085       austin   \n\n                                  name  ...  property_type_Other  \\\n0        Beautiful Central Austin Home  ...                    0   \n1  Rosedale's Casa Blanca: ACL/Form 1   ...                    0   \n2    Central Austin Craftsman Sleeps 4  ...                    0   \n3    Charming Rosedale Home Sleeps 12!  ...                    0   \n4     Welcome - TajMaSmall Guest Suite  ...                    0   \n\n   property_type_Serviced apartment  property_type_Tent  property_type_Tipi  \\\n0                                 0                   0                   0   \n1                                 0                   0                   0   \n2                                 0                   0                   0   \n3                                 0                   0                   0   \n4                                 0                   0                   0   \n\n   property_type_Townhouse  property_type_Treehouse  property_type_Villa  \\\n0                        0                        0                    0   \n1                        0                        0                    0   \n2                        0                        0                    0   \n3                        0                        0                    0   \n4                        0                        0                    0   \n\n  room_type_Entire home/apt  room_type_Private room  room_type_Shared room  \n0                         1                       0                      0  \n1                         1                       0                      0  \n2                         1                       0                      0  \n3                         1                       0                      0  \n4                         1                       0                      0  \n\n[5 rows x 56 columns]",
      "text/html": "<div>\n<style scoped>\n    .dataframe tbody tr th:only-of-type {\n        vertical-align: middle;\n    }\n\n    .dataframe tbody tr th {\n        vertical-align: top;\n    }\n\n    .dataframe thead th {\n        text-align: right;\n    }\n</style>\n<table border=\"1\" class=\"dataframe\">\n  <thead>\n    <tr style=\"text-align: right;\">\n      <th></th>\n      <th>accommodates</th>\n      <th>amenities</th>\n      <th>availability_30</th>\n      <th>bathrooms</th>\n      <th>bedrooms</th>\n      <th>beds</th>\n      <th>city</th>\n      <th>id</th>\n      <th>metropolitan</th>\n      <th>name</th>\n      <th>...</th>\n      <th>property_type_Other</th>\n      <th>property_type_Serviced apartment</th>\n      <th>property_type_Tent</th>\n      <th>property_type_Tipi</th>\n      <th>property_type_Townhouse</th>\n      <th>property_type_Treehouse</th>\n      <th>property_type_Villa</th>\n      <th>room_type_Entire home/apt</th>\n      <th>room_type_Private room</th>\n      <th>room_type_Shared room</th>\n    </tr>\n  </thead>\n  <tbody>\n    <tr>\n      <th>0</th>\n      <td>5.0</td>\n      <td>{TV,\"Cable TV\",Internet,\"Wireless Internet\",\"A...</td>\n      <td>0</td>\n      <td>2.0</td>\n      <td>3.0</td>\n      <td>4.0</td>\n      <td>austin</td>\n      <td>1068507</td>\n      <td>austin</td>\n      <td>Beautiful Central Austin Home</td>\n      <td>...</td>\n      <td>0</td>\n      <td>0</td>\n      <td>0</td>\n      <td>0</td>\n      <td>0</td>\n      <td>0</td>\n      <td>0</td>\n      <td>1</td>\n      <td>0</td>\n      <td>0</td>\n    </tr>\n    <tr>\n      <th>1</th>\n      <td>7.0</td>\n      <td>{\"Cable TV\",\"Wireless Internet\",\"Air condition...</td>\n      <td>25</td>\n      <td>2.0</td>\n      <td>3.0</td>\n      <td>5.0</td>\n      <td>austin</td>\n      <td>593102</td>\n      <td>austin</td>\n      <td>Rosedale's Casa Blanca: ACL/Form 1</td>\n      <td>...</td>\n      <td>0</td>\n      <td>0</td>\n      <td>0</td>\n      <td>0</td>\n      <td>0</td>\n      <td>0</td>\n      <td>0</td>\n      <td>1</td>\n      <td>0</td>\n      <td>0</td>\n    </tr>\n    <tr>\n      <th>2</th>\n      <td>4.0</td>\n      <td>{TV,Internet,\"Wireless Internet\",\"Air conditio...</td>\n      <td>6</td>\n      <td>1.0</td>\n      <td>1.0</td>\n      <td>2.0</td>\n      <td>austin</td>\n      <td>5992071</td>\n      <td>austin</td>\n      <td>Central Austin Craftsman Sleeps 4</td>\n      <td>...</td>\n      <td>0</td>\n      <td>0</td>\n      <td>0</td>\n      <td>0</td>\n      <td>0</td>\n      <td>0</td>\n      <td>0</td>\n      <td>1</td>\n      <td>0</td>\n      <td>0</td>\n    </tr>\n    <tr>\n      <th>3</th>\n      <td>12.0</td>\n      <td>{TV,\"Cable TV\",Internet,\"Wireless Internet\",\"A...</td>\n      <td>23</td>\n      <td>3.0</td>\n      <td>4.0</td>\n      <td>5.0</td>\n      <td>austin</td>\n      <td>10069609</td>\n      <td>austin</td>\n      <td>Charming Rosedale Home Sleeps 12!</td>\n      <td>...</td>\n      <td>0</td>\n      <td>0</td>\n      <td>0</td>\n      <td>0</td>\n      <td>0</td>\n      <td>0</td>\n      <td>0</td>\n      <td>1</td>\n      <td>0</td>\n      <td>0</td>\n    </tr>\n    <tr>\n      <th>4</th>\n      <td>2.0</td>\n      <td>{TV,\"Wireless Internet\",\"Air conditioning\",\"Fr...</td>\n      <td>10</td>\n      <td>1.0</td>\n      <td>1.0</td>\n      <td>1.0</td>\n      <td>austin</td>\n      <td>3689085</td>\n      <td>austin</td>\n      <td>Welcome - TajMaSmall Guest Suite</td>\n      <td>...</td>\n      <td>0</td>\n      <td>0</td>\n      <td>0</td>\n      <td>0</td>\n      <td>0</td>\n      <td>0</td>\n      <td>0</td>\n      <td>1</td>\n      <td>0</td>\n      <td>0</td>\n    </tr>\n  </tbody>\n</table>\n<p>5 rows × 56 columns</p>\n</div>"
     },
     "metadata": {}
    }
   ]
  },
  {
   "cell_type": "code",
   "metadata": {
    "cell_id": "00013-5c2f2268-5823-470b-a485-114deb17420a",
    "deepnote_to_be_reexecuted": false,
    "source_hash": "6ba41dd4",
    "execution_start": 1626543606005,
    "execution_millis": 477,
    "deepnote_cell_type": "code"
   },
   "source": "#Need a different custom one hot encoding for the amenities column, \n#since it has a set of values for each row\nimport re\nlistings['amenities'] = listings['amenities'].apply(lambda x: re.sub('[^a-zA-Z,\\/\\s\\d-]*', '', x).split(sep=','))",
   "execution_count": null,
   "outputs": []
  },
  {
   "cell_type": "code",
   "metadata": {
    "cell_id": "00014-0d321edb-3216-44a5-93f6-d70a10926bc6",
    "deepnote_to_be_reexecuted": false,
    "source_hash": "2a44095e",
    "execution_start": 1626543606512,
    "execution_millis": 47,
    "deepnote_cell_type": "code"
   },
   "source": "#Creating a flat list for all amenities entries\namenities_list = [item for sublist in listings['amenities'] for item in sublist]\n#Add up amenities counts\nfrom collections import Counter\namenity_counts = Counter(amenities_list).most_common()\n#Let's see what these look like, look at the first 20\namenity_counts[0:20]",
   "execution_count": null,
   "outputs": [
    {
     "output_type": "execute_result",
     "execution_count": 15,
     "data": {
      "text/plain": "[('Air conditioning', 5851),\n ('Wireless Internet', 5779),\n ('Heating', 5732),\n ('Kitchen', 5574),\n ('Free parking on premises', 5353),\n ('Essentials', 5171),\n ('Smoke detector', 5153),\n ('Washer', 4781),\n ('Dryer', 4731),\n ('TV', 4729),\n ('Internet', 4549),\n ('Shampoo', 4547),\n ('Hangers', 3789),\n ('Family/kid friendly', 3730),\n ('Fire extinguisher', 3626),\n ('Laptop friendly workspace', 3505),\n ('Iron', 3311),\n ('Hair dryer', 3259),\n ('Carbon monoxide detector', 3146),\n ('24-hour check-in', 2560)]"
     },
     "metadata": {}
    }
   ]
  },
  {
   "cell_type": "code",
   "metadata": {
    "cell_id": "00015-8cf774fb-e94a-4125-9100-273037303701",
    "deepnote_to_be_reexecuted": false,
    "source_hash": "ddce1c47",
    "execution_start": 1626543606980,
    "execution_millis": 5,
    "deepnote_cell_type": "code"
   },
   "source": "#Make a list of the amenities we're interested in\namenities_of_interest = [x[0] for x in amenity_counts[0:70]]",
   "execution_count": null,
   "outputs": []
  },
  {
   "cell_type": "code",
   "metadata": {
    "cell_id": "00016-deb37751-02ae-4b7d-a1ad-7c7eb6e4165b",
    "deepnote_to_be_reexecuted": false,
    "source_hash": "255f2bbc",
    "execution_start": 1626543607679,
    "execution_millis": 3,
    "deepnote_cell_type": "code"
   },
   "source": "#Remove the unnecessary ones\namenities_of_interest.remove('translation missing enhostingamenity49')\namenities_of_interest.remove('translation missing enhostingamenity50')",
   "execution_count": null,
   "outputs": []
  },
  {
   "cell_type": "code",
   "metadata": {
    "cell_id": "00017-9e7eaf72-2367-4735-98e1-012ab8d60b01",
    "deepnote_to_be_reexecuted": false,
    "source_hash": "bd8fa20b",
    "execution_start": 1626543608878,
    "execution_millis": 6,
    "deepnote_cell_type": "code"
   },
   "source": "amenities_cols = []\namenities_col_names = []\nfor amenity in amenities_of_interest:\n    amenities_cols.append([1 if x==True else 0 for x in listings['amenities'].apply(lambda x: amenity in x)])\n    amenities_col_names.append(('amen_'+amenity))",
   "execution_count": null,
   "outputs": []
  },
  {
   "cell_type": "code",
   "metadata": {
    "cell_id": "00018-13c7bbb4-fad0-45b4-9840-90b29cd49bea",
    "deepnote_to_be_reexecuted": false,
    "source_hash": "18dabe5c",
    "execution_start": 1626543608985,
    "execution_millis": 730,
    "deepnote_cell_type": "code"
   },
   "source": "#dummy variable cols\namenity_columns = pd.DataFrame(amenities_cols).transpose()\namenity_columns.columns = amenities_col_names\namenity_columns.index = listings.index",
   "execution_count": null,
   "outputs": []
  },
  {
   "cell_type": "code",
   "metadata": {
    "cell_id": "00019-08ac448b-9f2b-464a-9367-a742c60b1105",
    "deepnote_to_be_reexecuted": false,
    "source_hash": "4e8ab64d",
    "execution_start": 1626543609759,
    "execution_millis": 0,
    "deepnote_cell_type": "code"
   },
   "source": "kitchen_amenities = [\n    'Kitchen', 'Refrigerator', 'Dishes and silverware', 'Microwave',\n    'Coffee maker', 'Stove', 'Cooking basics', 'Oven', 'Dishwasher',\n    'BBQ grill', 'Breakfast'\n]\ncleaning_amenities = [\n    'Shampoo', 'Hair dryer', 'Washer', 'Dryer', 'Iron', 'Hot water', 'Bathtub'\n]\nsafety_amenities = [\n    'Smoke detector', 'Carbon monoxide detector', 'Fire extinguisher',\n    'First aid kit', 'Lock on bedroom door', 'Lockbox', 'Keypad',\n    'Safety card', 'Smart lock', 'Doorman', 'Buzzer/wireless intercom'\n]\nhousehold_amenities = [\n    'Heating', 'Air Conditioning', 'Essentials', 'Laptop friendly workspace',\n    'Free parking on premises', 'Free street parking', 'Private entrance',\n    'Self check-in', 'No stairs or steps to enter', 'Long term stays allowed',\n    'Family/kid friendly', 'Luggage dropoff allowed', 'Indoor fireplace',\n    'Elevator', 'Pets allowed', 'Host greets you', 'Single level home',\n    'Well-lit path to entrance', '24-hour check-in',\n    'Pets live on this property', 'Wide entrance for guests',\n    'Extra space around bed', 'Smoking allowed', 'Wide hallways',\n    'Wide entrance', 'Room-darkening shades', 'Flat path to guest entrance',\n    'Wide entryway', 'Suitable for events', 'Wheelchair Accessible'\n]\nbedroom_amenities = ['Hangers', 'Bed linens', 'Extra pillows and blankets']\nelectronics_amenities = [\n    'Wireless Internet', 'TV', 'Cable TV', 'Internet', 'Ethernet connection'\n]\nextra_spaces_amenities = [\n    'Patio or balcony', 'Pool', 'Garden or backyard', 'Hot tub', 'BBQ grill',\n    'Private living room', 'Gym'\n]\n\namenity_groups = [\n    kitchen_amenities, cleaning_amenities, safety_amenities,\n    household_amenities, bedroom_amenities, electronics_amenities,\n    extra_spaces_amenities\n]",
   "execution_count": null,
   "outputs": []
  },
  {
   "cell_type": "code",
   "metadata": {
    "cell_id": "00020-fa8ce8b0-df16-4b70-985c-0d85fc70d767",
    "deepnote_to_be_reexecuted": false,
    "source_hash": "8b4c6fa6",
    "execution_start": 1626543609933,
    "execution_millis": 177,
    "deepnote_cell_type": "code"
   },
   "source": "#Get counts for # of amenities within each category for each listing\namenity_group_cols = []\nfor group in amenity_groups:\n    amenity_group_cols.append(listings['amenities'].apply(\n    lambda x: len(set(group).intersection(set(x)))))",
   "execution_count": null,
   "outputs": []
  },
  {
   "cell_type": "code",
   "metadata": {
    "cell_id": "00021-e79747db-1abb-4187-8003-e97c25082ca4",
    "deepnote_to_be_reexecuted": false,
    "source_hash": "4e396de3",
    "execution_start": 1626543610597,
    "execution_millis": 433,
    "deepnote_cell_type": "code"
   },
   "source": "amenity_group_columns = pd.DataFrame(amenity_group_cols).transpose()\namenity_group_columns.index = listings.index\namenity_group_columns.columns = [\n    'amen_group_kitchen', 'amen_group_cleaning', 'amen_group_safety',\n    'amen_group_household', 'amen_group_bedroom', 'amen_group_electronics',\n    'amen_group_extra_spaces'\n]",
   "execution_count": null,
   "outputs": []
  },
  {
   "cell_type": "code",
   "metadata": {
    "cell_id": "00022-3529b633-622d-417d-8f7e-d627f93e11c0",
    "deepnote_to_be_reexecuted": false,
    "source_hash": "72598ee0",
    "execution_start": 1626543611042,
    "execution_millis": 5,
    "deepnote_cell_type": "code"
   },
   "source": "#merge into main dataframe\nlistings = listings.merge(amenity_group_columns,how='left',left_index=True,right_index=True)",
   "execution_count": null,
   "outputs": []
  },
  {
   "cell_type": "code",
   "metadata": {
    "cell_id": "00023-0ae54f1e-ac97-4ef4-95b5-0cd549c7f9fa",
    "deepnote_to_be_reexecuted": false,
    "source_hash": "25b5f428",
    "execution_start": 1626543611206,
    "execution_millis": 8,
    "deepnote_cell_type": "code"
   },
   "source": "listings = listings.drop(columns=['amenities'])",
   "execution_count": null,
   "outputs": []
  },
  {
   "cell_type": "code",
   "metadata": {
    "cell_id": "00024-84e48411-83d9-4da5-a076-be367fbe3dc0",
    "deepnote_cell_type": "code"
   },
   "source": "listings",
   "execution_count": null,
   "outputs": [
    {
     "output_type": "execute_result",
     "data": {
      "text/plain": "      accommodates  availability_30  bathrooms  bedrooms  beds    city  \\\n0              5.0                0        2.0       3.0   4.0  austin   \n1              7.0               25        2.0       3.0   5.0  austin   \n2              4.0                6        1.0       1.0   2.0  austin   \n3             12.0               23        3.0       4.0   5.0  austin   \n4              2.0               10        1.0       1.0   1.0  austin   \n...            ...              ...        ...       ...   ...     ...   \n5937           2.0                0        1.0       1.0   1.0  austin   \n5938           4.0               13        1.0       1.0   1.0  austin   \n5939           8.0               11        2.5       4.0   7.0  austin   \n5940           2.0               24        1.0       1.0   1.0  austin   \n5941           1.0               15        1.0       1.0   1.0  austin   \n\n            id metropolitan  \\\n0      1068507       austin   \n1       593102       austin   \n2      5992071       austin   \n3     10069609       austin   \n4      3689085       austin   \n...        ...          ...   \n5937   8814298       austin   \n5938  14122592       austin   \n5939    949054       austin   \n5940  14842693       austin   \n5941   6913998       austin   \n\n                                                   name  price  ...  \\\n0                         Beautiful Central Austin Home  130.0  ...   \n1                   Rosedale's Casa Blanca: ACL/Form 1   500.0  ...   \n2                     Central Austin Craftsman Sleeps 4  195.0  ...   \n3                     Charming Rosedale Home Sleeps 12!  300.0  ...   \n4                      Welcome - TajMaSmall Guest Suite  105.0  ...   \n...                                                 ...    ...  ...   \n5937                 LARGE 1/1 with HUGE couch.  Slps 3  250.0  ...   \n5938                                 Modern and Comfort  110.0  ...   \n5939  2 Blocks to 6th St/Warehouse Dist, Sleeps 8! (LD)  295.0  ...   \n5940      Clean & Quiet Professional Downtown Apartment  110.0  ...   \n5941                Make New Friends in Downtown Austin   49.0  ...   \n\n      room_type_Entire home/apt  room_type_Private room  \\\n0                             1                       0   \n1                             1                       0   \n2                             1                       0   \n3                             1                       0   \n4                             1                       0   \n...                         ...                     ...   \n5937                          1                       0   \n5938                          1                       0   \n5939                          1                       0   \n5940                          1                       0   \n5941                          0                       0   \n\n      room_type_Shared room  amen_group_kitchen  amen_group_cleaning  \\\n0                         0                   1                    5   \n1                         0                   1                    2   \n2                         0                   1                    5   \n3                         0                   1                    5   \n4                         0                   0                    3   \n...                     ...                 ...                  ...   \n5937                      0                   1                    3   \n5938                      0                   1                    5   \n5939                      0                   1                    5   \n5940                      0                   1                    4   \n5941                      1                   2                    5   \n\n      amen_group_safety amen_group_household  amen_group_bedroom  \\\n0                     0                    6                   1   \n1                     0                    4                   0   \n2                     5                    7                   1   \n3                     2                    7                   1   \n4                     2                    5                   1   \n...                 ...                  ...                 ...   \n5937                  1                    2                   0   \n5938                  5                    7                   1   \n5939                  0                    3                   1   \n5940                  4                    6                   1   \n5941                  5                    4                   1   \n\n      amen_group_electronics  amen_group_extra_spaces  \n0                          4                        0  \n1                          2                        0  \n2                          3                        0  \n3                          4                        0  \n4                          2                        0  \n...                      ...                      ...  \n5937                       4                        3  \n5938                       4                        2  \n5939                       4                        1  \n5940                       4                        3  \n5941                       3                        0  \n\n[5942 rows x 62 columns]",
      "text/html": "<div>\n<style scoped>\n    .dataframe tbody tr th:only-of-type {\n        vertical-align: middle;\n    }\n\n    .dataframe tbody tr th {\n        vertical-align: top;\n    }\n\n    .dataframe thead th {\n        text-align: right;\n    }\n</style>\n<table border=\"1\" class=\"dataframe\">\n  <thead>\n    <tr style=\"text-align: right;\">\n      <th></th>\n      <th>accommodates</th>\n      <th>availability_30</th>\n      <th>bathrooms</th>\n      <th>bedrooms</th>\n      <th>beds</th>\n      <th>city</th>\n      <th>id</th>\n      <th>metropolitan</th>\n      <th>name</th>\n      <th>price</th>\n      <th>...</th>\n      <th>room_type_Entire home/apt</th>\n      <th>room_type_Private room</th>\n      <th>room_type_Shared room</th>\n      <th>amen_group_kitchen</th>\n      <th>amen_group_cleaning</th>\n      <th>amen_group_safety</th>\n      <th>amen_group_household</th>\n      <th>amen_group_bedroom</th>\n      <th>amen_group_electronics</th>\n      <th>amen_group_extra_spaces</th>\n    </tr>\n  </thead>\n  <tbody>\n    <tr>\n      <th>0</th>\n      <td>5.0</td>\n      <td>0</td>\n      <td>2.0</td>\n      <td>3.0</td>\n      <td>4.0</td>\n      <td>austin</td>\n      <td>1068507</td>\n      <td>austin</td>\n      <td>Beautiful Central Austin Home</td>\n      <td>130.0</td>\n      <td>...</td>\n      <td>1</td>\n      <td>0</td>\n      <td>0</td>\n      <td>1</td>\n      <td>5</td>\n      <td>0</td>\n      <td>6</td>\n      <td>1</td>\n      <td>4</td>\n      <td>0</td>\n    </tr>\n    <tr>\n      <th>1</th>\n      <td>7.0</td>\n      <td>25</td>\n      <td>2.0</td>\n      <td>3.0</td>\n      <td>5.0</td>\n      <td>austin</td>\n      <td>593102</td>\n      <td>austin</td>\n      <td>Rosedale's Casa Blanca: ACL/Form 1</td>\n      <td>500.0</td>\n      <td>...</td>\n      <td>1</td>\n      <td>0</td>\n      <td>0</td>\n      <td>1</td>\n      <td>2</td>\n      <td>0</td>\n      <td>4</td>\n      <td>0</td>\n      <td>2</td>\n      <td>0</td>\n    </tr>\n    <tr>\n      <th>2</th>\n      <td>4.0</td>\n      <td>6</td>\n      <td>1.0</td>\n      <td>1.0</td>\n      <td>2.0</td>\n      <td>austin</td>\n      <td>5992071</td>\n      <td>austin</td>\n      <td>Central Austin Craftsman Sleeps 4</td>\n      <td>195.0</td>\n      <td>...</td>\n      <td>1</td>\n      <td>0</td>\n      <td>0</td>\n      <td>1</td>\n      <td>5</td>\n      <td>5</td>\n      <td>7</td>\n      <td>1</td>\n      <td>3</td>\n      <td>0</td>\n    </tr>\n    <tr>\n      <th>3</th>\n      <td>12.0</td>\n      <td>23</td>\n      <td>3.0</td>\n      <td>4.0</td>\n      <td>5.0</td>\n      <td>austin</td>\n      <td>10069609</td>\n      <td>austin</td>\n      <td>Charming Rosedale Home Sleeps 12!</td>\n      <td>300.0</td>\n      <td>...</td>\n      <td>1</td>\n      <td>0</td>\n      <td>0</td>\n      <td>1</td>\n      <td>5</td>\n      <td>2</td>\n      <td>7</td>\n      <td>1</td>\n      <td>4</td>\n      <td>0</td>\n    </tr>\n    <tr>\n      <th>4</th>\n      <td>2.0</td>\n      <td>10</td>\n      <td>1.0</td>\n      <td>1.0</td>\n      <td>1.0</td>\n      <td>austin</td>\n      <td>3689085</td>\n      <td>austin</td>\n      <td>Welcome - TajMaSmall Guest Suite</td>\n      <td>105.0</td>\n      <td>...</td>\n      <td>1</td>\n      <td>0</td>\n      <td>0</td>\n      <td>0</td>\n      <td>3</td>\n      <td>2</td>\n      <td>5</td>\n      <td>1</td>\n      <td>2</td>\n      <td>0</td>\n    </tr>\n    <tr>\n      <th>...</th>\n      <td>...</td>\n      <td>...</td>\n      <td>...</td>\n      <td>...</td>\n      <td>...</td>\n      <td>...</td>\n      <td>...</td>\n      <td>...</td>\n      <td>...</td>\n      <td>...</td>\n      <td>...</td>\n      <td>...</td>\n      <td>...</td>\n      <td>...</td>\n      <td>...</td>\n      <td>...</td>\n      <td>...</td>\n      <td>...</td>\n      <td>...</td>\n      <td>...</td>\n      <td>...</td>\n    </tr>\n    <tr>\n      <th>5937</th>\n      <td>2.0</td>\n      <td>0</td>\n      <td>1.0</td>\n      <td>1.0</td>\n      <td>1.0</td>\n      <td>austin</td>\n      <td>8814298</td>\n      <td>austin</td>\n      <td>LARGE 1/1 with HUGE couch.  Slps 3</td>\n      <td>250.0</td>\n      <td>...</td>\n      <td>1</td>\n      <td>0</td>\n      <td>0</td>\n      <td>1</td>\n      <td>3</td>\n      <td>1</td>\n      <td>2</td>\n      <td>0</td>\n      <td>4</td>\n      <td>3</td>\n    </tr>\n    <tr>\n      <th>5938</th>\n      <td>4.0</td>\n      <td>13</td>\n      <td>1.0</td>\n      <td>1.0</td>\n      <td>1.0</td>\n      <td>austin</td>\n      <td>14122592</td>\n      <td>austin</td>\n      <td>Modern and Comfort</td>\n      <td>110.0</td>\n      <td>...</td>\n      <td>1</td>\n      <td>0</td>\n      <td>0</td>\n      <td>1</td>\n      <td>5</td>\n      <td>5</td>\n      <td>7</td>\n      <td>1</td>\n      <td>4</td>\n      <td>2</td>\n    </tr>\n    <tr>\n      <th>5939</th>\n      <td>8.0</td>\n      <td>11</td>\n      <td>2.5</td>\n      <td>4.0</td>\n      <td>7.0</td>\n      <td>austin</td>\n      <td>949054</td>\n      <td>austin</td>\n      <td>2 Blocks to 6th St/Warehouse Dist, Sleeps 8! (LD)</td>\n      <td>295.0</td>\n      <td>...</td>\n      <td>1</td>\n      <td>0</td>\n      <td>0</td>\n      <td>1</td>\n      <td>5</td>\n      <td>0</td>\n      <td>3</td>\n      <td>1</td>\n      <td>4</td>\n      <td>1</td>\n    </tr>\n    <tr>\n      <th>5940</th>\n      <td>2.0</td>\n      <td>24</td>\n      <td>1.0</td>\n      <td>1.0</td>\n      <td>1.0</td>\n      <td>austin</td>\n      <td>14842693</td>\n      <td>austin</td>\n      <td>Clean &amp; Quiet Professional Downtown Apartment</td>\n      <td>110.0</td>\n      <td>...</td>\n      <td>1</td>\n      <td>0</td>\n      <td>0</td>\n      <td>1</td>\n      <td>4</td>\n      <td>4</td>\n      <td>6</td>\n      <td>1</td>\n      <td>4</td>\n      <td>3</td>\n    </tr>\n    <tr>\n      <th>5941</th>\n      <td>1.0</td>\n      <td>15</td>\n      <td>1.0</td>\n      <td>1.0</td>\n      <td>1.0</td>\n      <td>austin</td>\n      <td>6913998</td>\n      <td>austin</td>\n      <td>Make New Friends in Downtown Austin</td>\n      <td>49.0</td>\n      <td>...</td>\n      <td>0</td>\n      <td>0</td>\n      <td>1</td>\n      <td>2</td>\n      <td>5</td>\n      <td>5</td>\n      <td>4</td>\n      <td>1</td>\n      <td>3</td>\n      <td>0</td>\n    </tr>\n  </tbody>\n</table>\n<p>5942 rows × 62 columns</p>\n</div>"
     },
     "metadata": {},
     "execution_count": 71
    }
   ]
  },
  {
   "cell_type": "code",
   "metadata": {
    "cell_id": "00025-c6661d66-4068-4591-8eb0-bc3471c9dbb0",
    "deepnote_to_be_reexecuted": false,
    "source_hash": "fbe321a5",
    "execution_start": 1626543614572,
    "execution_millis": 35,
    "deepnote_cell_type": "code"
   },
   "source": "redundant_cols = []\nfor col in listings.columns:\n    if listings[col].nunique() <= 10:\n        redundant_cols.append(col)\n\nredundant_cols",
   "execution_count": null,
   "outputs": [
    {
     "output_type": "execute_result",
     "execution_count": 25,
     "data": {
      "text/plain": "['city',\n 'metropolitan',\n 'review_scores_checkin',\n 'review_scores_cleanliness',\n 'review_scores_communication',\n 'review_scores_location',\n 'review_scores_value',\n 'state',\n 'bed_type_Airbed',\n 'bed_type_Couch',\n 'bed_type_Futon',\n 'bed_type_Pull-out Sofa',\n 'bed_type_Real Bed',\n 'cancellation_policy_flexible',\n 'cancellation_policy_moderate',\n 'cancellation_policy_strict',\n 'cancellation_policy_super_strict_30',\n 'cancellation_policy_super_strict_60',\n 'instant_bookable_f',\n 'instant_bookable_t',\n 'property_type_Apartment',\n 'property_type_Bed & Breakfast',\n 'property_type_Boat',\n 'property_type_Boutique hotel',\n 'property_type_Bungalow',\n 'property_type_Cabin',\n 'property_type_Camper/RV',\n 'property_type_Chalet',\n 'property_type_Condominium',\n 'property_type_Dorm',\n 'property_type_Guesthouse',\n 'property_type_Hostel',\n 'property_type_House',\n 'property_type_Island',\n 'property_type_Lighthouse',\n 'property_type_Loft',\n 'property_type_Other',\n 'property_type_Serviced apartment',\n 'property_type_Tent',\n 'property_type_Tipi',\n 'property_type_Townhouse',\n 'property_type_Treehouse',\n 'property_type_Villa',\n 'room_type_Entire home/apt',\n 'room_type_Private room',\n 'room_type_Shared room',\n 'amen_group_kitchen',\n 'amen_group_cleaning',\n 'amen_group_safety',\n 'amen_group_bedroom',\n 'amen_group_electronics',\n 'amen_group_extra_spaces']"
     },
     "metadata": {}
    }
   ]
  },
  {
   "cell_type": "code",
   "metadata": {
    "cell_id": "00026-dac42a7a-7a87-4f66-8913-7c323714d2cb",
    "deepnote_to_be_reexecuted": false,
    "source_hash": "1023c96c",
    "execution_start": 1626543616401,
    "execution_millis": 148,
    "deepnote_cell_type": "code"
   },
   "source": "\nremove_cols = ['cancellation_policy_flexible','cancellation_policy_moderate',#'cancellation_policy_no_refunds',\n'cancellation_policy_strict','cancellation_policy_super_strict_30','cancellation_policy_super_strict_60',\n'instant_bookable_f','instant_bookable_t','state']\nfor col in remove_cols:\n    if col not in remove_cols:\n        print(col)\n        continue\n    else:\n        redundant_cols.remove(col)\n\nlistings = listings.drop(columns=redundant_cols)\n\nlistings",
   "execution_count": null,
   "outputs": [
    {
     "output_type": "execute_result",
     "execution_count": 26,
     "data": {
      "application/vnd.deepnote.dataframe.v2+json": {
       "row_count": 5942,
       "column_count": 18,
       "columns": [
        {
         "name": "accommodates",
         "dtype": "float64",
         "stats": {
          "unique_count": 16,
          "nan_count": 0,
          "min": "1.0",
          "max": "16.0",
          "histogram": [
           {
            "bin_start": 1,
            "bin_end": 2.5,
            "count": 2036
           },
           {
            "bin_start": 2.5,
            "bin_end": 4,
            "count": 516
           },
           {
            "bin_start": 4,
            "bin_end": 5.5,
            "count": 1506
           },
           {
            "bin_start": 5.5,
            "bin_end": 7,
            "count": 896
           },
           {
            "bin_start": 7,
            "bin_end": 8.5,
            "count": 538
           },
           {
            "bin_start": 8.5,
            "bin_end": 10,
            "count": 44
           },
           {
            "bin_start": 10,
            "bin_end": 11.5,
            "count": 239
           },
           {
            "bin_start": 11.5,
            "bin_end": 13,
            "count": 77
           },
           {
            "bin_start": 13,
            "bin_end": 14.5,
            "count": 32
           },
           {
            "bin_start": 14.5,
            "bin_end": 16,
            "count": 58
           }
          ]
         }
        },
        {
         "name": "availability_30",
         "dtype": "int64",
         "stats": {
          "unique_count": 31,
          "nan_count": 0,
          "min": "0",
          "max": "30",
          "histogram": [
           {
            "bin_start": 0,
            "bin_end": 3,
            "count": 1446
           },
           {
            "bin_start": 3,
            "bin_end": 6,
            "count": 468
           },
           {
            "bin_start": 6,
            "bin_end": 9,
            "count": 452
           },
           {
            "bin_start": 9,
            "bin_end": 12,
            "count": 543
           },
           {
            "bin_start": 12,
            "bin_end": 15,
            "count": 532
           },
           {
            "bin_start": 15,
            "bin_end": 18,
            "count": 524
           },
           {
            "bin_start": 18,
            "bin_end": 21,
            "count": 581
           },
           {
            "bin_start": 21,
            "bin_end": 24,
            "count": 543
           },
           {
            "bin_start": 24,
            "bin_end": 27,
            "count": 311
           },
           {
            "bin_start": 27,
            "bin_end": 30,
            "count": 542
           }
          ]
         }
        },
        {
         "name": "bathrooms",
         "dtype": "float64",
         "stats": {
          "unique_count": 15,
          "nan_count": 0,
          "min": "0.0",
          "max": "7.5",
          "histogram": [
           {
            "bin_start": 0,
            "bin_end": 0.75,
            "count": 29
           },
           {
            "bin_start": 0.75,
            "bin_end": 1.5,
            "count": 3721
           },
           {
            "bin_start": 1.5,
            "bin_end": 2.25,
            "count": 1387
           },
           {
            "bin_start": 2.25,
            "bin_end": 3,
            "count": 399
           },
           {
            "bin_start": 3,
            "bin_end": 3.75,
            "count": 293
           },
           {
            "bin_start": 3.75,
            "bin_end": 4.5,
            "count": 62
           },
           {
            "bin_start": 4.5,
            "bin_end": 5.25,
            "count": 36
           },
           {
            "bin_start": 5.25,
            "bin_end": 6,
            "count": 9
           },
           {
            "bin_start": 6,
            "bin_end": 6.75,
            "count": 3
           },
           {
            "bin_start": 6.75,
            "bin_end": 7.5,
            "count": 3
           }
          ]
         }
        },
        {
         "name": "bedrooms",
         "dtype": "float64",
         "stats": {
          "unique_count": 11,
          "nan_count": 0,
          "min": "0.0",
          "max": "10.0",
          "histogram": [
           {
            "bin_start": 0,
            "bin_end": 1,
            "count": 345
           },
           {
            "bin_start": 1,
            "bin_end": 2,
            "count": 2994
           },
           {
            "bin_start": 2,
            "bin_end": 3,
            "count": 1262
           },
           {
            "bin_start": 3,
            "bin_end": 4,
            "count": 850
           },
           {
            "bin_start": 4,
            "bin_end": 5,
            "count": 338
           },
           {
            "bin_start": 5,
            "bin_end": 6,
            "count": 104
           },
           {
            "bin_start": 6,
            "bin_end": 7,
            "count": 31
           },
           {
            "bin_start": 7,
            "bin_end": 8,
            "count": 11
           },
           {
            "bin_start": 8,
            "bin_end": 9,
            "count": 2
           },
           {
            "bin_start": 9,
            "bin_end": 10,
            "count": 5
           }
          ]
         }
        },
        {
         "name": "beds",
         "dtype": "float64",
         "stats": {
          "unique_count": 17,
          "nan_count": 0,
          "min": "0.0",
          "max": "16.0",
          "histogram": [
           {
            "bin_start": 0,
            "bin_end": 1.6,
            "count": 2528
           },
           {
            "bin_start": 1.6,
            "bin_end": 3.2,
            "count": 2401
           },
           {
            "bin_start": 3.2,
            "bin_end": 4.800000000000001,
            "count": 436
           },
           {
            "bin_start": 4.800000000000001,
            "bin_end": 6.4,
            "count": 377
           },
           {
            "bin_start": 6.4,
            "bin_end": 8,
            "count": 75
           },
           {
            "bin_start": 8,
            "bin_end": 9.600000000000001,
            "count": 75
           },
           {
            "bin_start": 9.600000000000001,
            "bin_end": 11.200000000000001,
            "count": 26
           },
           {
            "bin_start": 11.200000000000001,
            "bin_end": 12.8,
            "count": 10
           },
           {
            "bin_start": 12.8,
            "bin_end": 14.4,
            "count": 5
           },
           {
            "bin_start": 14.4,
            "bin_end": 16,
            "count": 9
           }
          ]
         }
        },
        {
         "name": "id",
         "dtype": "int64",
         "stats": {
          "unique_count": 5942,
          "nan_count": 0,
          "min": "1078",
          "max": "17513329",
          "histogram": [
           {
            "bin_start": 1078,
            "bin_end": 1752303.1,
            "count": 899
           },
           {
            "bin_start": 1752303.1,
            "bin_end": 3503528.2,
            "count": 521
           },
           {
            "bin_start": 3503528.2,
            "bin_end": 5254753.300000001,
            "count": 599
           },
           {
            "bin_start": 5254753.300000001,
            "bin_end": 7005978.4,
            "count": 615
           },
           {
            "bin_start": 7005978.4,
            "bin_end": 8757203.5,
            "count": 553
           },
           {
            "bin_start": 8757203.5,
            "bin_end": 10508428.600000001,
            "count": 329
           },
           {
            "bin_start": 10508428.600000001,
            "bin_end": 12259653.700000001,
            "count": 717
           },
           {
            "bin_start": 12259653.700000001,
            "bin_end": 14010878.8,
            "count": 395
           },
           {
            "bin_start": 14010878.8,
            "bin_end": 15762103.9,
            "count": 786
           },
           {
            "bin_start": 15762103.9,
            "bin_end": 17513329,
            "count": 528
           }
          ]
         }
        },
        {
         "name": "name",
         "dtype": "object",
         "stats": {
          "unique_count": 5894,
          "nan_count": 0,
          "categories": [
           {
            "name": "Texas Hill Country Cabin(s) with Pool Access",
            "count": 4
           },
           {
            "name": "East Austin Bungalow",
            "count": 4
           },
           {
            "name": "5892 others",
            "count": 5934
           }
          ]
         }
        },
        {
         "name": "price",
         "dtype": "float64",
         "stats": {
          "unique_count": 477,
          "nan_count": 0,
          "min": "10.0",
          "max": "10000.0",
          "histogram": [
           {
            "bin_start": 10,
            "bin_end": 1009,
            "count": 5827
           },
           {
            "bin_start": 1009,
            "bin_end": 2008,
            "count": 97
           },
           {
            "bin_start": 2008,
            "bin_end": 3007,
            "count": 12
           },
           {
            "bin_start": 3007,
            "bin_end": 4006,
            "count": 1
           },
           {
            "bin_start": 4006,
            "bin_end": 5005,
            "count": 2
           },
           {
            "bin_start": 5005,
            "bin_end": 6004,
            "count": 1
           },
           {
            "bin_start": 6004,
            "bin_end": 7003,
            "count": 1
           },
           {
            "bin_start": 7003,
            "bin_end": 8002,
            "count": 0
           },
           {
            "bin_start": 8002,
            "bin_end": 9001,
            "count": 0
           },
           {
            "bin_start": 9001,
            "bin_end": 10000,
            "count": 1
           }
          ]
         }
        },
        {
         "name": "review_scores_rating",
         "dtype": "float64",
         "stats": {
          "unique_count": 39,
          "nan_count": 0,
          "min": "20.0",
          "max": "100.0",
          "histogram": [
           {
            "bin_start": 20,
            "bin_end": 28,
            "count": 5
           },
           {
            "bin_start": 28,
            "bin_end": 36,
            "count": 0
           },
           {
            "bin_start": 36,
            "bin_end": 44,
            "count": 5
           },
           {
            "bin_start": 44,
            "bin_end": 52,
            "count": 3
           },
           {
            "bin_start": 52,
            "bin_end": 60,
            "count": 2
           },
           {
            "bin_start": 60,
            "bin_end": 68,
            "count": 26
           },
           {
            "bin_start": 68,
            "bin_end": 76,
            "count": 39
           },
           {
            "bin_start": 76,
            "bin_end": 84,
            "count": 255
           },
           {
            "bin_start": 84,
            "bin_end": 92,
            "count": 573
           },
           {
            "bin_start": 92,
            "bin_end": 100,
            "count": 5034
           }
          ]
         }
        },
        {
         "name": "state",
         "dtype": "object",
         "stats": {
          "unique_count": 1,
          "nan_count": 0,
          "categories": [
           {
            "name": "TX",
            "count": 5942
           }
          ]
         }
        },
        {
         "name": "cancellation_policy_flexible",
         "dtype": "uint8",
         "stats": {
          "unique_count": 2,
          "nan_count": 0,
          "min": "0",
          "max": "1",
          "histogram": [
           {
            "bin_start": 0,
            "bin_end": 0.1,
            "count": 4465
           },
           {
            "bin_start": 0.1,
            "bin_end": 0.2,
            "count": 0
           },
           {
            "bin_start": 0.2,
            "bin_end": 0.30000000000000004,
            "count": 0
           },
           {
            "bin_start": 0.30000000000000004,
            "bin_end": 0.4,
            "count": 0
           },
           {
            "bin_start": 0.4,
            "bin_end": 0.5,
            "count": 0
           },
           {
            "bin_start": 0.5,
            "bin_end": 0.6000000000000001,
            "count": 0
           },
           {
            "bin_start": 0.6000000000000001,
            "bin_end": 0.7000000000000001,
            "count": 0
           },
           {
            "bin_start": 0.7000000000000001,
            "bin_end": 0.8,
            "count": 0
           },
           {
            "bin_start": 0.8,
            "bin_end": 0.9,
            "count": 0
           },
           {
            "bin_start": 0.9,
            "bin_end": 1,
            "count": 1477
           }
          ]
         }
        },
        {
         "name": "cancellation_policy_moderate",
         "dtype": "uint8",
         "stats": {
          "unique_count": 2,
          "nan_count": 0,
          "min": "0",
          "max": "1",
          "histogram": [
           {
            "bin_start": 0,
            "bin_end": 0.1,
            "count": 4319
           },
           {
            "bin_start": 0.1,
            "bin_end": 0.2,
            "count": 0
           },
           {
            "bin_start": 0.2,
            "bin_end": 0.30000000000000004,
            "count": 0
           },
           {
            "bin_start": 0.30000000000000004,
            "bin_end": 0.4,
            "count": 0
           },
           {
            "bin_start": 0.4,
            "bin_end": 0.5,
            "count": 0
           },
           {
            "bin_start": 0.5,
            "bin_end": 0.6000000000000001,
            "count": 0
           },
           {
            "bin_start": 0.6000000000000001,
            "bin_end": 0.7000000000000001,
            "count": 0
           },
           {
            "bin_start": 0.7000000000000001,
            "bin_end": 0.8,
            "count": 0
           },
           {
            "bin_start": 0.8,
            "bin_end": 0.9,
            "count": 0
           },
           {
            "bin_start": 0.9,
            "bin_end": 1,
            "count": 1623
           }
          ]
         }
        },
        {
         "name": "cancellation_policy_strict",
         "dtype": "uint8",
         "stats": {
          "unique_count": 2,
          "nan_count": 0,
          "min": "0",
          "max": "1",
          "histogram": [
           {
            "bin_start": 0,
            "bin_end": 0.1,
            "count": 3122
           },
           {
            "bin_start": 0.1,
            "bin_end": 0.2,
            "count": 0
           },
           {
            "bin_start": 0.2,
            "bin_end": 0.30000000000000004,
            "count": 0
           },
           {
            "bin_start": 0.30000000000000004,
            "bin_end": 0.4,
            "count": 0
           },
           {
            "bin_start": 0.4,
            "bin_end": 0.5,
            "count": 0
           },
           {
            "bin_start": 0.5,
            "bin_end": 0.6000000000000001,
            "count": 0
           },
           {
            "bin_start": 0.6000000000000001,
            "bin_end": 0.7000000000000001,
            "count": 0
           },
           {
            "bin_start": 0.7000000000000001,
            "bin_end": 0.8,
            "count": 0
           },
           {
            "bin_start": 0.8,
            "bin_end": 0.9,
            "count": 0
           },
           {
            "bin_start": 0.9,
            "bin_end": 1,
            "count": 2820
           }
          ]
         }
        },
        {
         "name": "cancellation_policy_super_strict_30",
         "dtype": "uint8",
         "stats": {
          "unique_count": 2,
          "nan_count": 0,
          "min": "0",
          "max": "1",
          "histogram": [
           {
            "bin_start": 0,
            "bin_end": 0.1,
            "count": 5930
           },
           {
            "bin_start": 0.1,
            "bin_end": 0.2,
            "count": 0
           },
           {
            "bin_start": 0.2,
            "bin_end": 0.30000000000000004,
            "count": 0
           },
           {
            "bin_start": 0.30000000000000004,
            "bin_end": 0.4,
            "count": 0
           },
           {
            "bin_start": 0.4,
            "bin_end": 0.5,
            "count": 0
           },
           {
            "bin_start": 0.5,
            "bin_end": 0.6000000000000001,
            "count": 0
           },
           {
            "bin_start": 0.6000000000000001,
            "bin_end": 0.7000000000000001,
            "count": 0
           },
           {
            "bin_start": 0.7000000000000001,
            "bin_end": 0.8,
            "count": 0
           },
           {
            "bin_start": 0.8,
            "bin_end": 0.9,
            "count": 0
           },
           {
            "bin_start": 0.9,
            "bin_end": 1,
            "count": 12
           }
          ]
         }
        },
        {
         "name": "cancellation_policy_super_strict_60",
         "dtype": "uint8",
         "stats": {
          "unique_count": 2,
          "nan_count": 0,
          "min": "0",
          "max": "1",
          "histogram": [
           {
            "bin_start": 0,
            "bin_end": 0.1,
            "count": 5932
           },
           {
            "bin_start": 0.1,
            "bin_end": 0.2,
            "count": 0
           },
           {
            "bin_start": 0.2,
            "bin_end": 0.30000000000000004,
            "count": 0
           },
           {
            "bin_start": 0.30000000000000004,
            "bin_end": 0.4,
            "count": 0
           },
           {
            "bin_start": 0.4,
            "bin_end": 0.5,
            "count": 0
           },
           {
            "bin_start": 0.5,
            "bin_end": 0.6000000000000001,
            "count": 0
           },
           {
            "bin_start": 0.6000000000000001,
            "bin_end": 0.7000000000000001,
            "count": 0
           },
           {
            "bin_start": 0.7000000000000001,
            "bin_end": 0.8,
            "count": 0
           },
           {
            "bin_start": 0.8,
            "bin_end": 0.9,
            "count": 0
           },
           {
            "bin_start": 0.9,
            "bin_end": 1,
            "count": 10
           }
          ]
         }
        },
        {
         "name": "instant_bookable_f",
         "dtype": "uint8",
         "stats": {
          "unique_count": 2,
          "nan_count": 0,
          "min": "0",
          "max": "1",
          "histogram": [
           {
            "bin_start": 0,
            "bin_end": 0.1,
            "count": 1269
           },
           {
            "bin_start": 0.1,
            "bin_end": 0.2,
            "count": 0
           },
           {
            "bin_start": 0.2,
            "bin_end": 0.30000000000000004,
            "count": 0
           },
           {
            "bin_start": 0.30000000000000004,
            "bin_end": 0.4,
            "count": 0
           },
           {
            "bin_start": 0.4,
            "bin_end": 0.5,
            "count": 0
           },
           {
            "bin_start": 0.5,
            "bin_end": 0.6000000000000001,
            "count": 0
           },
           {
            "bin_start": 0.6000000000000001,
            "bin_end": 0.7000000000000001,
            "count": 0
           },
           {
            "bin_start": 0.7000000000000001,
            "bin_end": 0.8,
            "count": 0
           },
           {
            "bin_start": 0.8,
            "bin_end": 0.9,
            "count": 0
           },
           {
            "bin_start": 0.9,
            "bin_end": 1,
            "count": 4673
           }
          ]
         }
        },
        {
         "name": "instant_bookable_t",
         "dtype": "uint8"
        },
        {
         "name": "amen_group_household",
         "dtype": "int64"
        },
        {
         "name": "_deepnote_index_column",
         "dtype": "int64"
        }
       ],
       "rows_top": [
        {
         "accommodates": 5,
         "availability_30": 0,
         "bathrooms": 2,
         "bedrooms": 3,
         "beds": 4,
         "id": 1068507,
         "name": "Beautiful Central Austin Home",
         "price": 130,
         "review_scores_rating": 100,
         "state": "TX",
         "cancellation_policy_flexible": 0,
         "cancellation_policy_moderate": 0,
         "cancellation_policy_strict": 1,
         "cancellation_policy_super_strict_30": 0,
         "cancellation_policy_super_strict_60": 0,
         "instant_bookable_f": 1,
         "instant_bookable_t": 0,
         "amen_group_household": 6,
         "_deepnote_index_column": 0
        },
        {
         "accommodates": 7,
         "availability_30": 25,
         "bathrooms": 2,
         "bedrooms": 3,
         "beds": 5,
         "id": 593102,
         "name": "Rosedale's Casa Blanca: ACL/Form 1 ",
         "price": 500,
         "review_scores_rating": 99,
         "state": "TX",
         "cancellation_policy_flexible": 0,
         "cancellation_policy_moderate": 0,
         "cancellation_policy_strict": 1,
         "cancellation_policy_super_strict_30": 0,
         "cancellation_policy_super_strict_60": 0,
         "instant_bookable_f": 1,
         "instant_bookable_t": 0,
         "amen_group_household": 4,
         "_deepnote_index_column": 1
        },
        {
         "accommodates": 4,
         "availability_30": 6,
         "bathrooms": 1,
         "bedrooms": 1,
         "beds": 2,
         "id": 5992071,
         "name": "Central Austin Craftsman Sleeps 4",
         "price": 195,
         "review_scores_rating": 100,
         "state": "TX",
         "cancellation_policy_flexible": 0,
         "cancellation_policy_moderate": 1,
         "cancellation_policy_strict": 0,
         "cancellation_policy_super_strict_30": 0,
         "cancellation_policy_super_strict_60": 0,
         "instant_bookable_f": 1,
         "instant_bookable_t": 0,
         "amen_group_household": 7,
         "_deepnote_index_column": 2
        },
        {
         "accommodates": 12,
         "availability_30": 23,
         "bathrooms": 3,
         "bedrooms": 4,
         "beds": 5,
         "id": 10069609,
         "name": "Charming Rosedale Home Sleeps 12!",
         "price": 300,
         "review_scores_rating": 93,
         "state": "TX",
         "cancellation_policy_flexible": 0,
         "cancellation_policy_moderate": 0,
         "cancellation_policy_strict": 1,
         "cancellation_policy_super_strict_30": 0,
         "cancellation_policy_super_strict_60": 0,
         "instant_bookable_f": 1,
         "instant_bookable_t": 0,
         "amen_group_household": 7,
         "_deepnote_index_column": 3
        },
        {
         "accommodates": 2,
         "availability_30": 10,
         "bathrooms": 1,
         "bedrooms": 1,
         "beds": 1,
         "id": 3689085,
         "name": "Welcome - TajMaSmall Guest Suite",
         "price": 105,
         "review_scores_rating": 98,
         "state": "TX",
         "cancellation_policy_flexible": 0,
         "cancellation_policy_moderate": 1,
         "cancellation_policy_strict": 0,
         "cancellation_policy_super_strict_30": 0,
         "cancellation_policy_super_strict_60": 0,
         "instant_bookable_f": 1,
         "instant_bookable_t": 0,
         "amen_group_household": 5,
         "_deepnote_index_column": 4
        },
        {
         "accommodates": 2,
         "availability_30": 4,
         "bathrooms": 1,
         "bedrooms": 0,
         "beds": 1,
         "id": 4235416,
         "name": "Cool studio in groovy central Austin",
         "price": 85,
         "review_scores_rating": 96,
         "state": "TX",
         "cancellation_policy_flexible": 0,
         "cancellation_policy_moderate": 1,
         "cancellation_policy_strict": 0,
         "cancellation_policy_super_strict_30": 0,
         "cancellation_policy_super_strict_60": 0,
         "instant_bookable_f": 0,
         "instant_bookable_t": 1,
         "amen_group_household": 5,
         "_deepnote_index_column": 5
        },
        {
         "accommodates": 4,
         "availability_30": 26,
         "bathrooms": 1,
         "bedrooms": 1,
         "beds": 2,
         "id": 5457288,
         "name": "The Skylight Modern",
         "price": 115,
         "review_scores_rating": 99,
         "state": "TX",
         "cancellation_policy_flexible": 0,
         "cancellation_policy_moderate": 1,
         "cancellation_policy_strict": 0,
         "cancellation_policy_super_strict_30": 0,
         "cancellation_policy_super_strict_60": 0,
         "instant_bookable_f": 1,
         "instant_bookable_t": 0,
         "amen_group_household": 5,
         "_deepnote_index_column": 6
        },
        {
         "accommodates": 4,
         "availability_30": 5,
         "bathrooms": 1,
         "bedrooms": 1,
         "beds": 2,
         "id": 1535250,
         "name": "Cute apartment in central Austin!!",
         "price": 85,
         "review_scores_rating": 95,
         "state": "TX",
         "cancellation_policy_flexible": 0,
         "cancellation_policy_moderate": 1,
         "cancellation_policy_strict": 0,
         "cancellation_policy_super_strict_30": 0,
         "cancellation_policy_super_strict_60": 0,
         "instant_bookable_f": 0,
         "instant_bookable_t": 1,
         "amen_group_household": 7,
         "_deepnote_index_column": 7
        },
        {
         "accommodates": 6,
         "availability_30": 14,
         "bathrooms": 1,
         "bedrooms": 2,
         "beds": 3,
         "id": 2077867,
         "name": "Cabin in the City",
         "price": 125,
         "review_scores_rating": 96,
         "state": "TX",
         "cancellation_policy_flexible": 0,
         "cancellation_policy_moderate": 0,
         "cancellation_policy_strict": 1,
         "cancellation_policy_super_strict_30": 0,
         "cancellation_policy_super_strict_60": 0,
         "instant_bookable_f": 0,
         "instant_bookable_t": 1,
         "amen_group_household": 7,
         "_deepnote_index_column": 8
        },
        {
         "accommodates": 2,
         "availability_30": 0,
         "bathrooms": 1,
         "bedrooms": 1,
         "beds": 1,
         "id": 13828639,
         "name": "Contemporary, Clean, Convenient",
         "price": 130,
         "review_scores_rating": 98,
         "state": "TX",
         "cancellation_policy_flexible": 1,
         "cancellation_policy_moderate": 0,
         "cancellation_policy_strict": 0,
         "cancellation_policy_super_strict_30": 0,
         "cancellation_policy_super_strict_60": 0,
         "instant_bookable_f": 1,
         "instant_bookable_t": 0,
         "amen_group_household": 6,
         "_deepnote_index_column": 9
        },
        {
         "accommodates": 5,
         "availability_30": 4,
         "bathrooms": 1,
         "bedrooms": 2,
         "beds": 2,
         "id": 2041310,
         "name": "Capitol Court Midtown Lodge",
         "price": 129,
         "review_scores_rating": 96,
         "state": "TX",
         "cancellation_policy_flexible": 0,
         "cancellation_policy_moderate": 0,
         "cancellation_policy_strict": 1,
         "cancellation_policy_super_strict_30": 0,
         "cancellation_policy_super_strict_60": 0,
         "instant_bookable_f": 1,
         "instant_bookable_t": 0,
         "amen_group_household": 6,
         "_deepnote_index_column": 10
        },
        {
         "accommodates": 2,
         "availability_30": 0,
         "bathrooms": 1,
         "bedrooms": 1,
         "beds": 1,
         "id": 11759391,
         "name": "COZY Austin Studio",
         "price": 74,
         "review_scores_rating": 80,
         "state": "TX",
         "cancellation_policy_flexible": 0,
         "cancellation_policy_moderate": 0,
         "cancellation_policy_strict": 1,
         "cancellation_policy_super_strict_30": 0,
         "cancellation_policy_super_strict_60": 0,
         "instant_bookable_f": 1,
         "instant_bookable_t": 0,
         "amen_group_household": 3,
         "_deepnote_index_column": 11
        },
        {
         "accommodates": 3,
         "availability_30": 0,
         "bathrooms": 1,
         "bedrooms": 0,
         "beds": 2,
         "id": 8993912,
         "name": "Great Studio in Central Austin!",
         "price": 110,
         "review_scores_rating": 100,
         "state": "TX",
         "cancellation_policy_flexible": 1,
         "cancellation_policy_moderate": 0,
         "cancellation_policy_strict": 0,
         "cancellation_policy_super_strict_30": 0,
         "cancellation_policy_super_strict_60": 0,
         "instant_bookable_f": 1,
         "instant_bookable_t": 0,
         "amen_group_household": 3,
         "_deepnote_index_column": 12
        },
        {
         "accommodates": 3,
         "availability_30": 0,
         "bathrooms": 1,
         "bedrooms": 1,
         "beds": 1,
         "id": 11519361,
         "name": "Central location, great food in the",
         "price": 77,
         "review_scores_rating": 75,
         "state": "TX",
         "cancellation_policy_flexible": 1,
         "cancellation_policy_moderate": 0,
         "cancellation_policy_strict": 0,
         "cancellation_policy_super_strict_30": 0,
         "cancellation_policy_super_strict_60": 0,
         "instant_bookable_f": 1,
         "instant_bookable_t": 0,
         "amen_group_household": 6,
         "_deepnote_index_column": 13
        },
        {
         "accommodates": 4,
         "availability_30": 13,
         "bathrooms": 1,
         "bedrooms": 1,
         "beds": 1,
         "id": 8690879,
         "name": "Artsy Apartment in Hyde Park Austin",
         "price": 109,
         "review_scores_rating": 94,
         "state": "TX",
         "cancellation_policy_flexible": 0,
         "cancellation_policy_moderate": 1,
         "cancellation_policy_strict": 0,
         "cancellation_policy_super_strict_30": 0,
         "cancellation_policy_super_strict_60": 0,
         "instant_bookable_f": 0,
         "instant_bookable_t": 1,
         "amen_group_household": 7,
         "_deepnote_index_column": 14
        },
        {
         "accommodates": 4,
         "availability_30": 8,
         "bathrooms": 2,
         "bedrooms": 2,
         "beds": 2,
         "id": 11547178,
         "name": "2BR Condo w/ Metrobus to Downtown. SXSW available!",
         "price": 219,
         "review_scores_rating": 100,
         "state": "TX",
         "cancellation_policy_flexible": 0,
         "cancellation_policy_moderate": 0,
         "cancellation_policy_strict": 1,
         "cancellation_policy_super_strict_30": 0,
         "cancellation_policy_super_strict_60": 0,
         "instant_bookable_f": 1,
         "instant_bookable_t": 0,
         "amen_group_household": 6,
         "_deepnote_index_column": 15
        },
        {
         "accommodates": 6,
         "availability_30": 4,
         "bathrooms": 1.5,
         "bedrooms": 2,
         "beds": 3,
         "id": 2036294,
         "name": "Updated Mid-Century Home 2Bd-1.5Ba",
         "price": 185,
         "review_scores_rating": 96,
         "state": "TX",
         "cancellation_policy_flexible": 0,
         "cancellation_policy_moderate": 0,
         "cancellation_policy_strict": 1,
         "cancellation_policy_super_strict_30": 0,
         "cancellation_policy_super_strict_60": 0,
         "instant_bookable_f": 1,
         "instant_bookable_t": 0,
         "amen_group_household": 4,
         "_deepnote_index_column": 16
        },
        {
         "accommodates": 1,
         "availability_30": 28,
         "bathrooms": 1,
         "bedrooms": 1,
         "beds": 2,
         "id": 4404358,
         "name": "Cozy centrally located couch",
         "price": 75,
         "review_scores_rating": 80,
         "state": "TX",
         "cancellation_policy_flexible": 0,
         "cancellation_policy_moderate": 1,
         "cancellation_policy_strict": 0,
         "cancellation_policy_super_strict_30": 0,
         "cancellation_policy_super_strict_60": 0,
         "instant_bookable_f": 1,
         "instant_bookable_t": 0,
         "amen_group_household": 4,
         "_deepnote_index_column": 17
        },
        {
         "accommodates": 6,
         "availability_30": 19,
         "bathrooms": 1.5,
         "bedrooms": 3,
         "beds": 5,
         "id": 767425,
         "name": "3BR Stylish New Austin Modern",
         "price": 114,
         "review_scores_rating": 93,
         "state": "TX",
         "cancellation_policy_flexible": 0,
         "cancellation_policy_moderate": 0,
         "cancellation_policy_strict": 1,
         "cancellation_policy_super_strict_30": 0,
         "cancellation_policy_super_strict_60": 0,
         "instant_bookable_f": 1,
         "instant_bookable_t": 0,
         "amen_group_household": 4,
         "_deepnote_index_column": 18
        },
        {
         "accommodates": 2,
         "availability_30": 29,
         "bathrooms": 1,
         "bedrooms": 2,
         "beds": 2,
         "id": 17381892,
         "name": "The Lodge on Lamar",
         "price": 89,
         "review_scores_rating": 100,
         "state": "TX",
         "cancellation_policy_flexible": 1,
         "cancellation_policy_moderate": 0,
         "cancellation_policy_strict": 0,
         "cancellation_policy_super_strict_30": 0,
         "cancellation_policy_super_strict_60": 0,
         "instant_bookable_f": 0,
         "instant_bookable_t": 1,
         "amen_group_household": 5,
         "_deepnote_index_column": 19
        },
        {
         "accommodates": 4,
         "availability_30": 16,
         "bathrooms": 1,
         "bedrooms": 1,
         "beds": 2,
         "id": 12171920,
         "name": "Convenient and cozy garage apt",
         "price": 115,
         "review_scores_rating": 99,
         "state": "TX",
         "cancellation_policy_flexible": 0,
         "cancellation_policy_moderate": 1,
         "cancellation_policy_strict": 0,
         "cancellation_policy_super_strict_30": 0,
         "cancellation_policy_super_strict_60": 0,
         "instant_bookable_f": 1,
         "instant_bookable_t": 0,
         "amen_group_household": 5,
         "_deepnote_index_column": 20
        },
        {
         "accommodates": 4,
         "availability_30": 0,
         "bathrooms": 1,
         "bedrooms": 1,
         "beds": 1,
         "id": 867806,
         "name": "Beautiful Allandale Flat",
         "price": 80,
         "review_scores_rating": 100,
         "state": "TX",
         "cancellation_policy_flexible": 0,
         "cancellation_policy_moderate": 0,
         "cancellation_policy_strict": 1,
         "cancellation_policy_super_strict_30": 0,
         "cancellation_policy_super_strict_60": 0,
         "instant_bookable_f": 1,
         "instant_bookable_t": 0,
         "amen_group_household": 7,
         "_deepnote_index_column": 21
        },
        {
         "accommodates": 3,
         "availability_30": 2,
         "bathrooms": 1,
         "bedrooms": 2,
         "beds": 2,
         "id": 16815832,
         "name": "Mid-century duplex, overlooking shoal creek, UT",
         "price": 128,
         "review_scores_rating": 100,
         "state": "TX",
         "cancellation_policy_flexible": 0,
         "cancellation_policy_moderate": 1,
         "cancellation_policy_strict": 0,
         "cancellation_policy_super_strict_30": 0,
         "cancellation_policy_super_strict_60": 0,
         "instant_bookable_f": 0,
         "instant_bookable_t": 1,
         "amen_group_household": 5,
         "_deepnote_index_column": 22
        },
        {
         "accommodates": 4,
         "availability_30": 19,
         "bathrooms": 1,
         "bedrooms": 2,
         "beds": 3,
         "id": 461404,
         "name": "Cute & Cozy Central Austin House   ",
         "price": 102,
         "review_scores_rating": 91,
         "state": "TX",
         "cancellation_policy_flexible": 0,
         "cancellation_policy_moderate": 1,
         "cancellation_policy_strict": 0,
         "cancellation_policy_super_strict_30": 0,
         "cancellation_policy_super_strict_60": 0,
         "instant_bookable_f": 1,
         "instant_bookable_t": 0,
         "amen_group_household": 6,
         "_deepnote_index_column": 23
        },
        {
         "accommodates": 6,
         "availability_30": 1,
         "bathrooms": 2,
         "bedrooms": 3,
         "beds": 3,
         "id": 11775230,
         "name": "Great yard–Bright rooms–Near it all",
         "price": 249,
         "review_scores_rating": 100,
         "state": "TX",
         "cancellation_policy_flexible": 0,
         "cancellation_policy_moderate": 0,
         "cancellation_policy_strict": 1,
         "cancellation_policy_super_strict_30": 0,
         "cancellation_policy_super_strict_60": 0,
         "instant_bookable_f": 1,
         "instant_bookable_t": 0,
         "amen_group_household": 5,
         "_deepnote_index_column": 24
        },
        {
         "accommodates": 3,
         "availability_30": 3,
         "bathrooms": 1,
         "bedrooms": 2,
         "beds": 2,
         "id": 16616633,
         "name": "Resort Style 2 Bedroom in North/Central Austin",
         "price": 70,
         "review_scores_rating": 90,
         "state": "TX",
         "cancellation_policy_flexible": 1,
         "cancellation_policy_moderate": 0,
         "cancellation_policy_strict": 0,
         "cancellation_policy_super_strict_30": 0,
         "cancellation_policy_super_strict_60": 0,
         "instant_bookable_f": 1,
         "instant_bookable_t": 0,
         "amen_group_household": 5,
         "_deepnote_index_column": 25
        },
        {
         "accommodates": 2,
         "availability_30": 0,
         "bathrooms": 1,
         "bedrooms": 1,
         "beds": 4,
         "id": 10096170,
         "name": "Comfortable Bed #1, Free Wifi",
         "price": 25,
         "review_scores_rating": 98,
         "state": "TX",
         "cancellation_policy_flexible": 0,
         "cancellation_policy_moderate": 1,
         "cancellation_policy_strict": 0,
         "cancellation_policy_super_strict_30": 0,
         "cancellation_policy_super_strict_60": 0,
         "instant_bookable_f": 1,
         "instant_bookable_t": 0,
         "amen_group_household": 3,
         "_deepnote_index_column": 26
        }
       ],
       "rows_bottom": [
        {
         "accommodates": 10,
         "availability_30": 11,
         "bathrooms": 2,
         "bedrooms": 4,
         "beds": 6,
         "id": 5386787,
         "name": "The Director's Suite in Downtown",
         "price": 395,
         "review_scores_rating": 96,
         "state": "TX",
         "cancellation_policy_flexible": 0,
         "cancellation_policy_moderate": 0,
         "cancellation_policy_strict": 1,
         "cancellation_policy_super_strict_30": 0,
         "cancellation_policy_super_strict_60": 0,
         "instant_bookable_f": 1,
         "instant_bookable_t": 0,
         "amen_group_household": 7,
         "_deepnote_index_column": 5914
        },
        {
         "accommodates": 7,
         "availability_30": 18,
         "bathrooms": 2,
         "bedrooms": 2,
         "beds": 4,
         "id": 2502568,
         "name": "Beautiful Apt with a downtown view!",
         "price": 750,
         "review_scores_rating": 98,
         "state": "TX",
         "cancellation_policy_flexible": 0,
         "cancellation_policy_moderate": 0,
         "cancellation_policy_strict": 1,
         "cancellation_policy_super_strict_30": 0,
         "cancellation_policy_super_strict_60": 0,
         "instant_bookable_f": 0,
         "instant_bookable_t": 1,
         "amen_group_household": 6,
         "_deepnote_index_column": 5915
        },
        {
         "accommodates": 4,
         "availability_30": 20,
         "bathrooms": 1,
         "bedrooms": 1,
         "beds": 2,
         "id": 2532340,
         "name": "Portion of Older House in Downtown ",
         "price": 120,
         "review_scores_rating": 93,
         "state": "TX",
         "cancellation_policy_flexible": 1,
         "cancellation_policy_moderate": 0,
         "cancellation_policy_strict": 0,
         "cancellation_policy_super_strict_30": 0,
         "cancellation_policy_super_strict_60": 0,
         "instant_bookable_f": 1,
         "instant_bookable_t": 0,
         "amen_group_household": 5,
         "_deepnote_index_column": 5916
        },
        {
         "accommodates": 2,
         "availability_30": 11,
         "bathrooms": 1,
         "bedrooms": 1,
         "beds": 1,
         "id": 16652687,
         "name": "SLEEPER SOFA in sky-rise Downtown",
         "price": 49,
         "review_scores_rating": 94,
         "state": "TX",
         "cancellation_policy_flexible": 0,
         "cancellation_policy_moderate": 1,
         "cancellation_policy_strict": 0,
         "cancellation_policy_super_strict_30": 0,
         "cancellation_policy_super_strict_60": 0,
         "instant_bookable_f": 0,
         "instant_bookable_t": 1,
         "amen_group_household": 6,
         "_deepnote_index_column": 5917
        },
        {
         "accommodates": 8,
         "availability_30": 13,
         "bathrooms": 2.5,
         "bedrooms": 4,
         "beds": 7,
         "id": 1743161,
         "name": "2 Blocks to 6th St/Warehouse Dist, Sleeps 8! (LQ)",
         "price": 339,
         "review_scores_rating": 90,
         "state": "TX",
         "cancellation_policy_flexible": 0,
         "cancellation_policy_moderate": 0,
         "cancellation_policy_strict": 1,
         "cancellation_policy_super_strict_30": 0,
         "cancellation_policy_super_strict_60": 0,
         "instant_bookable_f": 1,
         "instant_bookable_t": 0,
         "amen_group_household": 3,
         "_deepnote_index_column": 5918
        },
        {
         "accommodates": 6,
         "availability_30": 20,
         "bathrooms": 1,
         "bedrooms": 2,
         "beds": 3,
         "id": 1676941,
         "name": "Downtown 2/1 Loft. Best Location!",
         "price": 225,
         "review_scores_rating": 97,
         "state": "TX",
         "cancellation_policy_flexible": 0,
         "cancellation_policy_moderate": 0,
         "cancellation_policy_strict": 1,
         "cancellation_policy_super_strict_30": 0,
         "cancellation_policy_super_strict_60": 0,
         "instant_bookable_f": 1,
         "instant_bookable_t": 0,
         "amen_group_household": 4,
         "_deepnote_index_column": 5919
        },
        {
         "accommodates": 6,
         "availability_30": 0,
         "bathrooms": 2,
         "bedrooms": 2,
         "beds": 2,
         "id": 14806636,
         "name": "Perfect SXSW Spot. Centrally Located, Spacious 2/2",
         "price": 700,
         "review_scores_rating": 80,
         "state": "TX",
         "cancellation_policy_flexible": 0,
         "cancellation_policy_moderate": 0,
         "cancellation_policy_strict": 1,
         "cancellation_policy_super_strict_30": 0,
         "cancellation_policy_super_strict_60": 0,
         "instant_bookable_f": 0,
         "instant_bookable_t": 1,
         "amen_group_household": 6,
         "_deepnote_index_column": 5920
        },
        {
         "accommodates": 6,
         "availability_30": 11,
         "bathrooms": 1,
         "bedrooms": 2,
         "beds": 4,
         "id": 8426539,
         "name": "Shared Downtown Austin Condo!",
         "price": 250,
         "review_scores_rating": 100,
         "state": "TX",
         "cancellation_policy_flexible": 0,
         "cancellation_policy_moderate": 1,
         "cancellation_policy_strict": 0,
         "cancellation_policy_super_strict_30": 0,
         "cancellation_policy_super_strict_60": 0,
         "instant_bookable_f": 1,
         "instant_bookable_t": 0,
         "amen_group_household": 4,
         "_deepnote_index_column": 5921
        },
        {
         "accommodates": 3,
         "availability_30": 14,
         "bathrooms": 1,
         "bedrooms": 0,
         "beds": 1,
         "id": 2332910,
         "name": "SXSW Studio Downtown Austin, TX",
         "price": 750,
         "review_scores_rating": 100,
         "state": "TX",
         "cancellation_policy_flexible": 0,
         "cancellation_policy_moderate": 0,
         "cancellation_policy_strict": 1,
         "cancellation_policy_super_strict_30": 0,
         "cancellation_policy_super_strict_60": 0,
         "instant_bookable_f": 1,
         "instant_bookable_t": 0,
         "amen_group_household": 5,
         "_deepnote_index_column": 5922
        },
        {
         "accommodates": 6,
         "availability_30": 13,
         "bathrooms": 1.5,
         "bedrooms": 2,
         "beds": 2,
         "id": 1007322,
         "name": "The 78701 - 2BR Downtown/ConvCenter",
         "price": 249,
         "review_scores_rating": 98,
         "state": "TX",
         "cancellation_policy_flexible": 0,
         "cancellation_policy_moderate": 0,
         "cancellation_policy_strict": 1,
         "cancellation_policy_super_strict_30": 0,
         "cancellation_policy_super_strict_60": 0,
         "instant_bookable_f": 1,
         "instant_bookable_t": 0,
         "amen_group_household": 5,
         "_deepnote_index_column": 5923
        },
        {
         "accommodates": 6,
         "availability_30": 19,
         "bathrooms": 1,
         "bedrooms": 2,
         "beds": 3,
         "id": 3609272,
         "name": "6th St Loft right downtown C2",
         "price": 401,
         "review_scores_rating": 94,
         "state": "TX",
         "cancellation_policy_flexible": 0,
         "cancellation_policy_moderate": 0,
         "cancellation_policy_strict": 1,
         "cancellation_policy_super_strict_30": 0,
         "cancellation_policy_super_strict_60": 0,
         "instant_bookable_f": 1,
         "instant_bookable_t": 0,
         "amen_group_household": 5,
         "_deepnote_index_column": 5924
        },
        {
         "accommodates": 2,
         "availability_30": 30,
         "bathrooms": 2,
         "bedrooms": 2,
         "beds": 2,
         "id": 7344751,
         "name": "2 Bed Luxury Apt @ Ashton Austin",
         "price": 199,
         "review_scores_rating": 100,
         "state": "TX",
         "cancellation_policy_flexible": 0,
         "cancellation_policy_moderate": 0,
         "cancellation_policy_strict": 1,
         "cancellation_policy_super_strict_30": 0,
         "cancellation_policy_super_strict_60": 0,
         "instant_bookable_f": 1,
         "instant_bookable_t": 0,
         "amen_group_household": 6,
         "_deepnote_index_column": 5925
        },
        {
         "accommodates": 6,
         "availability_30": 0,
         "bathrooms": 2,
         "bedrooms": 2,
         "beds": 2,
         "id": 9866902,
         "name": "Downtown 2/2 Luxury w/ Waterview!",
         "price": 375,
         "review_scores_rating": 99,
         "state": "TX",
         "cancellation_policy_flexible": 0,
         "cancellation_policy_moderate": 0,
         "cancellation_policy_strict": 1,
         "cancellation_policy_super_strict_30": 0,
         "cancellation_policy_super_strict_60": 0,
         "instant_bookable_f": 1,
         "instant_bookable_t": 0,
         "amen_group_household": 4,
         "_deepnote_index_column": 5926
        },
        {
         "accommodates": 8,
         "availability_30": 17,
         "bathrooms": 3,
         "bedrooms": 5,
         "beds": 7,
         "id": 4623686,
         "name": "Great House, Judge's Hill, downtown",
         "price": 850,
         "review_scores_rating": 97,
         "state": "TX",
         "cancellation_policy_flexible": 0,
         "cancellation_policy_moderate": 0,
         "cancellation_policy_strict": 1,
         "cancellation_policy_super_strict_30": 0,
         "cancellation_policy_super_strict_60": 0,
         "instant_bookable_f": 1,
         "instant_bookable_t": 0,
         "amen_group_household": 5,
         "_deepnote_index_column": 5927
        },
        {
         "accommodates": 5,
         "availability_30": 3,
         "bathrooms": 1,
         "bedrooms": 2,
         "beds": 3,
         "id": 8194938,
         "name": "The SkyBlue Loft,Downtown,w/Parking",
         "price": 170,
         "review_scores_rating": 96,
         "state": "TX",
         "cancellation_policy_flexible": 0,
         "cancellation_policy_moderate": 0,
         "cancellation_policy_strict": 1,
         "cancellation_policy_super_strict_30": 0,
         "cancellation_policy_super_strict_60": 0,
         "instant_bookable_f": 1,
         "instant_bookable_t": 0,
         "amen_group_household": 5,
         "_deepnote_index_column": 5928
        },
        {
         "accommodates": 6,
         "availability_30": 8,
         "bathrooms": 2,
         "bedrooms": 3,
         "beds": 4,
         "id": 690984,
         "name": "Perfect 4 Executives/Professionals",
         "price": 295,
         "review_scores_rating": 96,
         "state": "TX",
         "cancellation_policy_flexible": 0,
         "cancellation_policy_moderate": 0,
         "cancellation_policy_strict": 1,
         "cancellation_policy_super_strict_30": 0,
         "cancellation_policy_super_strict_60": 0,
         "instant_bookable_f": 1,
         "instant_bookable_t": 0,
         "amen_group_household": 5,
         "_deepnote_index_column": 5929
        },
        {
         "accommodates": 2,
         "availability_30": 0,
         "bathrooms": 1,
         "bedrooms": 1,
         "beds": 1,
         "id": 339031,
         "name": "Luxury Condo DT Austin for SXSW",
         "price": 999,
         "review_scores_rating": 96,
         "state": "TX",
         "cancellation_policy_flexible": 0,
         "cancellation_policy_moderate": 0,
         "cancellation_policy_strict": 1,
         "cancellation_policy_super_strict_30": 0,
         "cancellation_policy_super_strict_60": 0,
         "instant_bookable_f": 1,
         "instant_bookable_t": 0,
         "amen_group_household": 3,
         "_deepnote_index_column": 5930
        },
        {
         "accommodates": 2,
         "availability_30": 21,
         "bathrooms": 2.5,
         "bedrooms": 1,
         "beds": 1,
         "id": 493892,
         "name": "Remarkable Central Austin House",
         "price": 129,
         "review_scores_rating": 98,
         "state": "TX",
         "cancellation_policy_flexible": 0,
         "cancellation_policy_moderate": 0,
         "cancellation_policy_strict": 1,
         "cancellation_policy_super_strict_30": 0,
         "cancellation_policy_super_strict_60": 0,
         "instant_bookable_f": 1,
         "instant_bookable_t": 0,
         "amen_group_household": 6,
         "_deepnote_index_column": 5931
        },
        {
         "accommodates": 4,
         "availability_30": 1,
         "bathrooms": 1,
         "bedrooms": 1,
         "beds": 2,
         "id": 14026561,
         "name": "The Ace: a Rock-Star Worthy Loft Downtown",
         "price": 500,
         "review_scores_rating": 100,
         "state": "TX",
         "cancellation_policy_flexible": 0,
         "cancellation_policy_moderate": 0,
         "cancellation_policy_strict": 1,
         "cancellation_policy_super_strict_30": 0,
         "cancellation_policy_super_strict_60": 0,
         "instant_bookable_f": 1,
         "instant_bookable_t": 0,
         "amen_group_household": 8,
         "_deepnote_index_column": 5932
        },
        {
         "accommodates": 3,
         "availability_30": 20,
         "bathrooms": 1,
         "bedrooms": 1,
         "beds": 2,
         "id": 5538443,
         "name": "Cozy Cottage in Downtown Austin",
         "price": 299,
         "review_scores_rating": 100,
         "state": "TX",
         "cancellation_policy_flexible": 1,
         "cancellation_policy_moderate": 0,
         "cancellation_policy_strict": 0,
         "cancellation_policy_super_strict_30": 0,
         "cancellation_policy_super_strict_60": 0,
         "instant_bookable_f": 1,
         "instant_bookable_t": 0,
         "amen_group_household": 6,
         "_deepnote_index_column": 5933
        },
        {
         "accommodates": 6,
         "availability_30": 10,
         "bathrooms": 1,
         "bedrooms": 2,
         "beds": 4,
         "id": 5277923,
         "name": "Downtown Loft with a View C7",
         "price": 286,
         "review_scores_rating": 99,
         "state": "TX",
         "cancellation_policy_flexible": 0,
         "cancellation_policy_moderate": 0,
         "cancellation_policy_strict": 1,
         "cancellation_policy_super_strict_30": 0,
         "cancellation_policy_super_strict_60": 0,
         "instant_bookable_f": 1,
         "instant_bookable_t": 0,
         "amen_group_household": 4,
         "_deepnote_index_column": 5934
        },
        {
         "accommodates": 6,
         "availability_30": 11,
         "bathrooms": 1.5,
         "bedrooms": 2,
         "beds": 3,
         "id": 16613697,
         "name": "LARGE 2 BR IN THE HEART OF DT! 3TB2AAZG",
         "price": 699,
         "review_scores_rating": 75,
         "state": "TX",
         "cancellation_policy_flexible": 0,
         "cancellation_policy_moderate": 0,
         "cancellation_policy_strict": 1,
         "cancellation_policy_super_strict_30": 0,
         "cancellation_policy_super_strict_60": 0,
         "instant_bookable_f": 0,
         "instant_bookable_t": 1,
         "amen_group_household": 6,
         "_deepnote_index_column": 5935
        },
        {
         "accommodates": 6,
         "availability_30": 17,
         "bathrooms": 1,
         "bedrooms": 2,
         "beds": 3,
         "id": 4194853,
         "name": "City Loft in Heart of Downtown B2",
         "price": 229,
         "review_scores_rating": 96,
         "state": "TX",
         "cancellation_policy_flexible": 0,
         "cancellation_policy_moderate": 0,
         "cancellation_policy_strict": 1,
         "cancellation_policy_super_strict_30": 0,
         "cancellation_policy_super_strict_60": 0,
         "instant_bookable_f": 1,
         "instant_bookable_t": 0,
         "amen_group_household": 4,
         "_deepnote_index_column": 5936
        },
        {
         "accommodates": 2,
         "availability_30": 0,
         "bathrooms": 1,
         "bedrooms": 1,
         "beds": 1,
         "id": 8814298,
         "name": "LARGE 1/1 with HUGE couch.  Slps 3",
         "price": 250,
         "review_scores_rating": 90,
         "state": "TX",
         "cancellation_policy_flexible": 1,
         "cancellation_policy_moderate": 0,
         "cancellation_policy_strict": 0,
         "cancellation_policy_super_strict_30": 0,
         "cancellation_policy_super_strict_60": 0,
         "instant_bookable_f": 1,
         "instant_bookable_t": 0,
         "amen_group_household": 2,
         "_deepnote_index_column": 5937
        },
        {
         "accommodates": 4,
         "availability_30": 13,
         "bathrooms": 1,
         "bedrooms": 1,
         "beds": 1,
         "id": 14122592,
         "name": "Modern and Comfort",
         "price": 110,
         "review_scores_rating": 98,
         "state": "TX",
         "cancellation_policy_flexible": 0,
         "cancellation_policy_moderate": 0,
         "cancellation_policy_strict": 1,
         "cancellation_policy_super_strict_30": 0,
         "cancellation_policy_super_strict_60": 0,
         "instant_bookable_f": 0,
         "instant_bookable_t": 1,
         "amen_group_household": 7,
         "_deepnote_index_column": 5938
        },
        {
         "accommodates": 8,
         "availability_30": 11,
         "bathrooms": 2.5,
         "bedrooms": 4,
         "beds": 7,
         "id": 949054,
         "name": "2 Blocks to 6th St/Warehouse Dist, Sleeps 8! (LD)",
         "price": 295,
         "review_scores_rating": 90,
         "state": "TX",
         "cancellation_policy_flexible": 0,
         "cancellation_policy_moderate": 0,
         "cancellation_policy_strict": 1,
         "cancellation_policy_super_strict_30": 0,
         "cancellation_policy_super_strict_60": 0,
         "instant_bookable_f": 1,
         "instant_bookable_t": 0,
         "amen_group_household": 3,
         "_deepnote_index_column": 5939
        },
        {
         "accommodates": 2,
         "availability_30": 24,
         "bathrooms": 1,
         "bedrooms": 1,
         "beds": 1,
         "id": 14842693,
         "name": "Clean & Quiet Professional Downtown Apartment",
         "price": 110,
         "review_scores_rating": 80,
         "state": "TX",
         "cancellation_policy_flexible": 0,
         "cancellation_policy_moderate": 0,
         "cancellation_policy_strict": 1,
         "cancellation_policy_super_strict_30": 0,
         "cancellation_policy_super_strict_60": 0,
         "instant_bookable_f": 1,
         "instant_bookable_t": 0,
         "amen_group_household": 6,
         "_deepnote_index_column": 5940
        },
        {
         "accommodates": 1,
         "availability_30": 15,
         "bathrooms": 1,
         "bedrooms": 1,
         "beds": 1,
         "id": 6913998,
         "name": "Make New Friends in Downtown Austin",
         "price": 49,
         "review_scores_rating": 92,
         "state": "TX",
         "cancellation_policy_flexible": 0,
         "cancellation_policy_moderate": 1,
         "cancellation_policy_strict": 0,
         "cancellation_policy_super_strict_30": 0,
         "cancellation_policy_super_strict_60": 0,
         "instant_bookable_f": 1,
         "instant_bookable_t": 0,
         "amen_group_household": 4,
         "_deepnote_index_column": 5941
        }
       ]
      },
      "text/plain": "      accommodates  availability_30  bathrooms  bedrooms  beds        id  \\\n0              5.0                0        2.0       3.0   4.0   1068507   \n1              7.0               25        2.0       3.0   5.0    593102   \n2              4.0                6        1.0       1.0   2.0   5992071   \n3             12.0               23        3.0       4.0   5.0  10069609   \n4              2.0               10        1.0       1.0   1.0   3689085   \n...            ...              ...        ...       ...   ...       ...   \n5937           2.0                0        1.0       1.0   1.0   8814298   \n5938           4.0               13        1.0       1.0   1.0  14122592   \n5939           8.0               11        2.5       4.0   7.0    949054   \n5940           2.0               24        1.0       1.0   1.0  14842693   \n5941           1.0               15        1.0       1.0   1.0   6913998   \n\n                                                   name  price  \\\n0                         Beautiful Central Austin Home  130.0   \n1                   Rosedale's Casa Blanca: ACL/Form 1   500.0   \n2                     Central Austin Craftsman Sleeps 4  195.0   \n3                     Charming Rosedale Home Sleeps 12!  300.0   \n4                      Welcome - TajMaSmall Guest Suite  105.0   \n...                                                 ...    ...   \n5937                 LARGE 1/1 with HUGE couch.  Slps 3  250.0   \n5938                                 Modern and Comfort  110.0   \n5939  2 Blocks to 6th St/Warehouse Dist, Sleeps 8! (LD)  295.0   \n5940      Clean & Quiet Professional Downtown Apartment  110.0   \n5941                Make New Friends in Downtown Austin   49.0   \n\n      review_scores_rating state  cancellation_policy_flexible  \\\n0                    100.0    TX                             0   \n1                     99.0    TX                             0   \n2                    100.0    TX                             0   \n3                     93.0    TX                             0   \n4                     98.0    TX                             0   \n...                    ...   ...                           ...   \n5937                  90.0    TX                             1   \n5938                  98.0    TX                             0   \n5939                  90.0    TX                             0   \n5940                  80.0    TX                             0   \n5941                  92.0    TX                             0   \n\n      cancellation_policy_moderate  cancellation_policy_strict  \\\n0                                0                           1   \n1                                0                           1   \n2                                1                           0   \n3                                0                           1   \n4                                1                           0   \n...                            ...                         ...   \n5937                             0                           0   \n5938                             0                           1   \n5939                             0                           1   \n5940                             0                           1   \n5941                             1                           0   \n\n      cancellation_policy_super_strict_30  \\\n0                                       0   \n1                                       0   \n2                                       0   \n3                                       0   \n4                                       0   \n...                                   ...   \n5937                                    0   \n5938                                    0   \n5939                                    0   \n5940                                    0   \n5941                                    0   \n\n      cancellation_policy_super_strict_60  instant_bookable_f  \\\n0                                       0                   1   \n1                                       0                   1   \n2                                       0                   1   \n3                                       0                   1   \n4                                       0                   1   \n...                                   ...                 ...   \n5937                                    0                   1   \n5938                                    0                   0   \n5939                                    0                   1   \n5940                                    0                   1   \n5941                                    0                   1   \n\n      instant_bookable_t  amen_group_household  \n0                      0                     6  \n1                      0                     4  \n2                      0                     7  \n3                      0                     7  \n4                      0                     5  \n...                  ...                   ...  \n5937                   0                     2  \n5938                   1                     7  \n5939                   0                     3  \n5940                   0                     6  \n5941                   0                     4  \n\n[5942 rows x 18 columns]",
      "text/html": "<div>\n<style scoped>\n    .dataframe tbody tr th:only-of-type {\n        vertical-align: middle;\n    }\n\n    .dataframe tbody tr th {\n        vertical-align: top;\n    }\n\n    .dataframe thead th {\n        text-align: right;\n    }\n</style>\n<table border=\"1\" class=\"dataframe\">\n  <thead>\n    <tr style=\"text-align: right;\">\n      <th></th>\n      <th>accommodates</th>\n      <th>availability_30</th>\n      <th>bathrooms</th>\n      <th>bedrooms</th>\n      <th>beds</th>\n      <th>id</th>\n      <th>name</th>\n      <th>price</th>\n      <th>review_scores_rating</th>\n      <th>state</th>\n      <th>cancellation_policy_flexible</th>\n      <th>cancellation_policy_moderate</th>\n      <th>cancellation_policy_strict</th>\n      <th>cancellation_policy_super_strict_30</th>\n      <th>cancellation_policy_super_strict_60</th>\n      <th>instant_bookable_f</th>\n      <th>instant_bookable_t</th>\n      <th>amen_group_household</th>\n    </tr>\n  </thead>\n  <tbody>\n    <tr>\n      <th>0</th>\n      <td>5.0</td>\n      <td>0</td>\n      <td>2.0</td>\n      <td>3.0</td>\n      <td>4.0</td>\n      <td>1068507</td>\n      <td>Beautiful Central Austin Home</td>\n      <td>130.0</td>\n      <td>100.0</td>\n      <td>TX</td>\n      <td>0</td>\n      <td>0</td>\n      <td>1</td>\n      <td>0</td>\n      <td>0</td>\n      <td>1</td>\n      <td>0</td>\n      <td>6</td>\n    </tr>\n    <tr>\n      <th>1</th>\n      <td>7.0</td>\n      <td>25</td>\n      <td>2.0</td>\n      <td>3.0</td>\n      <td>5.0</td>\n      <td>593102</td>\n      <td>Rosedale's Casa Blanca: ACL/Form 1</td>\n      <td>500.0</td>\n      <td>99.0</td>\n      <td>TX</td>\n      <td>0</td>\n      <td>0</td>\n      <td>1</td>\n      <td>0</td>\n      <td>0</td>\n      <td>1</td>\n      <td>0</td>\n      <td>4</td>\n    </tr>\n    <tr>\n      <th>2</th>\n      <td>4.0</td>\n      <td>6</td>\n      <td>1.0</td>\n      <td>1.0</td>\n      <td>2.0</td>\n      <td>5992071</td>\n      <td>Central Austin Craftsman Sleeps 4</td>\n      <td>195.0</td>\n      <td>100.0</td>\n      <td>TX</td>\n      <td>0</td>\n      <td>1</td>\n      <td>0</td>\n      <td>0</td>\n      <td>0</td>\n      <td>1</td>\n      <td>0</td>\n      <td>7</td>\n    </tr>\n    <tr>\n      <th>3</th>\n      <td>12.0</td>\n      <td>23</td>\n      <td>3.0</td>\n      <td>4.0</td>\n      <td>5.0</td>\n      <td>10069609</td>\n      <td>Charming Rosedale Home Sleeps 12!</td>\n      <td>300.0</td>\n      <td>93.0</td>\n      <td>TX</td>\n      <td>0</td>\n      <td>0</td>\n      <td>1</td>\n      <td>0</td>\n      <td>0</td>\n      <td>1</td>\n      <td>0</td>\n      <td>7</td>\n    </tr>\n    <tr>\n      <th>4</th>\n      <td>2.0</td>\n      <td>10</td>\n      <td>1.0</td>\n      <td>1.0</td>\n      <td>1.0</td>\n      <td>3689085</td>\n      <td>Welcome - TajMaSmall Guest Suite</td>\n      <td>105.0</td>\n      <td>98.0</td>\n      <td>TX</td>\n      <td>0</td>\n      <td>1</td>\n      <td>0</td>\n      <td>0</td>\n      <td>0</td>\n      <td>1</td>\n      <td>0</td>\n      <td>5</td>\n    </tr>\n    <tr>\n      <th>...</th>\n      <td>...</td>\n      <td>...</td>\n      <td>...</td>\n      <td>...</td>\n      <td>...</td>\n      <td>...</td>\n      <td>...</td>\n      <td>...</td>\n      <td>...</td>\n      <td>...</td>\n      <td>...</td>\n      <td>...</td>\n      <td>...</td>\n      <td>...</td>\n      <td>...</td>\n      <td>...</td>\n      <td>...</td>\n      <td>...</td>\n    </tr>\n    <tr>\n      <th>5937</th>\n      <td>2.0</td>\n      <td>0</td>\n      <td>1.0</td>\n      <td>1.0</td>\n      <td>1.0</td>\n      <td>8814298</td>\n      <td>LARGE 1/1 with HUGE couch.  Slps 3</td>\n      <td>250.0</td>\n      <td>90.0</td>\n      <td>TX</td>\n      <td>1</td>\n      <td>0</td>\n      <td>0</td>\n      <td>0</td>\n      <td>0</td>\n      <td>1</td>\n      <td>0</td>\n      <td>2</td>\n    </tr>\n    <tr>\n      <th>5938</th>\n      <td>4.0</td>\n      <td>13</td>\n      <td>1.0</td>\n      <td>1.0</td>\n      <td>1.0</td>\n      <td>14122592</td>\n      <td>Modern and Comfort</td>\n      <td>110.0</td>\n      <td>98.0</td>\n      <td>TX</td>\n      <td>0</td>\n      <td>0</td>\n      <td>1</td>\n      <td>0</td>\n      <td>0</td>\n      <td>0</td>\n      <td>1</td>\n      <td>7</td>\n    </tr>\n    <tr>\n      <th>5939</th>\n      <td>8.0</td>\n      <td>11</td>\n      <td>2.5</td>\n      <td>4.0</td>\n      <td>7.0</td>\n      <td>949054</td>\n      <td>2 Blocks to 6th St/Warehouse Dist, Sleeps 8! (LD)</td>\n      <td>295.0</td>\n      <td>90.0</td>\n      <td>TX</td>\n      <td>0</td>\n      <td>0</td>\n      <td>1</td>\n      <td>0</td>\n      <td>0</td>\n      <td>1</td>\n      <td>0</td>\n      <td>3</td>\n    </tr>\n    <tr>\n      <th>5940</th>\n      <td>2.0</td>\n      <td>24</td>\n      <td>1.0</td>\n      <td>1.0</td>\n      <td>1.0</td>\n      <td>14842693</td>\n      <td>Clean &amp; Quiet Professional Downtown Apartment</td>\n      <td>110.0</td>\n      <td>80.0</td>\n      <td>TX</td>\n      <td>0</td>\n      <td>0</td>\n      <td>1</td>\n      <td>0</td>\n      <td>0</td>\n      <td>1</td>\n      <td>0</td>\n      <td>6</td>\n    </tr>\n    <tr>\n      <th>5941</th>\n      <td>1.0</td>\n      <td>15</td>\n      <td>1.0</td>\n      <td>1.0</td>\n      <td>1.0</td>\n      <td>6913998</td>\n      <td>Make New Friends in Downtown Austin</td>\n      <td>49.0</td>\n      <td>92.0</td>\n      <td>TX</td>\n      <td>0</td>\n      <td>1</td>\n      <td>0</td>\n      <td>0</td>\n      <td>0</td>\n      <td>1</td>\n      <td>0</td>\n      <td>4</td>\n    </tr>\n  </tbody>\n</table>\n<p>5942 rows × 18 columns</p>\n</div>"
     },
     "metadata": {}
    }
   ]
  },
  {
   "cell_type": "code",
   "metadata": {
    "cell_id": "00027-dc549d6d-6451-42f8-807b-1047651d88b6",
    "deepnote_to_be_reexecuted": false,
    "source_hash": "499d6bc",
    "execution_start": 1626543663217,
    "execution_millis": 92,
    "deepnote_cell_type": "code"
   },
   "source": "feedback_score = pd.read_csv('/work/feedback_score.csv')\nfeedback_score.rename(columns={'listing_id':'id'}, inplace=True)\nfeedback_score.drop(feedback_score.columns[0], axis=1,inplace=True)\nfeedback_score",
   "execution_count": null,
   "outputs": [
    {
     "output_type": "execute_result",
     "execution_count": 32,
     "data": {
      "application/vnd.deepnote.dataframe.v2+json": {
       "row_count": 1782,
       "column_count": 2,
       "columns": [
        {
         "name": "id",
         "dtype": "int64",
         "stats": {
          "unique_count": 1782,
          "nan_count": 0,
          "min": "2265",
          "max": "17345973",
          "histogram": [
           {
            "bin_start": 2265,
            "bin_end": 1736635.8,
            "count": 299
           },
           {
            "bin_start": 1736635.8,
            "bin_end": 3471006.6,
            "count": 169
           },
           {
            "bin_start": 3471006.6,
            "bin_end": 5205377.4,
            "count": 195
           },
           {
            "bin_start": 5205377.4,
            "bin_end": 6939748.2,
            "count": 233
           },
           {
            "bin_start": 6939748.2,
            "bin_end": 8674119,
            "count": 177
           },
           {
            "bin_start": 8674119,
            "bin_end": 10408489.8,
            "count": 97
           },
           {
            "bin_start": 10408489.8,
            "bin_end": 12142860.6,
            "count": 226
           },
           {
            "bin_start": 12142860.6,
            "bin_end": 13877231.4,
            "count": 100
           },
           {
            "bin_start": 13877231.4,
            "bin_end": 15611602.200000001,
            "count": 182
           },
           {
            "bin_start": 15611602.200000001,
            "bin_end": 17345973,
            "count": 104
           }
          ]
         }
        },
        {
         "name": "prob_positive_feedback",
         "dtype": "float64",
         "stats": {
          "unique_count": 865,
          "nan_count": 16,
          "min": "0.0",
          "max": "1.0",
          "histogram": [
           {
            "bin_start": 0,
            "bin_end": 0.1,
            "count": 7
           },
           {
            "bin_start": 0.1,
            "bin_end": 0.2,
            "count": 0
           },
           {
            "bin_start": 0.2,
            "bin_end": 0.30000000000000004,
            "count": 4
           },
           {
            "bin_start": 0.30000000000000004,
            "bin_end": 0.4,
            "count": 0
           },
           {
            "bin_start": 0.4,
            "bin_end": 0.5,
            "count": 6
           },
           {
            "bin_start": 0.5,
            "bin_end": 0.6000000000000001,
            "count": 61
           },
           {
            "bin_start": 0.6000000000000001,
            "bin_end": 0.7000000000000001,
            "count": 109
           },
           {
            "bin_start": 0.7000000000000001,
            "bin_end": 0.8,
            "count": 506
           },
           {
            "bin_start": 0.8,
            "bin_end": 0.9,
            "count": 816
           },
           {
            "bin_start": 0.9,
            "bin_end": 1,
            "count": 257
           }
          ]
         }
        },
        {
         "name": "_deepnote_index_column",
         "dtype": "int64"
        }
       ],
       "rows_top": [
        {
         "id": 1001303,
         "prob_positive_feedback": 0.8354430379746836,
         "_deepnote_index_column": 0
        },
        {
         "id": 10062315,
         "prob_positive_feedback": "nan",
         "_deepnote_index_column": 1
        },
        {
         "id": 10069202,
         "prob_positive_feedback": 0.85667215815486,
         "_deepnote_index_column": 2
        },
        {
         "id": 10069609,
         "prob_positive_feedback": 0.8571428571428571,
         "_deepnote_index_column": 3
        },
        {
         "id": 10071238,
         "prob_positive_feedback": 0.7916666666666666,
         "_deepnote_index_column": 4
        },
        {
         "id": 10071591,
         "prob_positive_feedback": 0.6923076923076923,
         "_deepnote_index_column": 5
        },
        {
         "id": 10096170,
         "prob_positive_feedback": 0.7727272727272727,
         "_deepnote_index_column": 6
        },
        {
         "id": 1013629,
         "prob_positive_feedback": 0.7874564459930313,
         "_deepnote_index_column": 7
        },
        {
         "id": 10209163,
         "prob_positive_feedback": 0.8888888888888888,
         "_deepnote_index_column": 8
        },
        {
         "id": 1024597,
         "prob_positive_feedback": 0.6896551724137931,
         "_deepnote_index_column": 9
        },
        {
         "id": 10254489,
         "prob_positive_feedback": 0.7840909090909091,
         "_deepnote_index_column": 10
        },
        {
         "id": 10268403,
         "prob_positive_feedback": 1,
         "_deepnote_index_column": 11
        },
        {
         "id": 10273573,
         "prob_positive_feedback": 0.75,
         "_deepnote_index_column": 12
        },
        {
         "id": 10331035,
         "prob_positive_feedback": 0.7569296375266524,
         "_deepnote_index_column": 13
        },
        {
         "id": 10336181,
         "prob_positive_feedback": 0.8176100628930818,
         "_deepnote_index_column": 14
        },
        {
         "id": 10355760,
         "prob_positive_feedback": 0.813953488372093,
         "_deepnote_index_column": 15
        },
        {
         "id": 10367683,
         "prob_positive_feedback": 0.7674418604651163,
         "_deepnote_index_column": 16
        },
        {
         "id": 10377695,
         "prob_positive_feedback": 0.8,
         "_deepnote_index_column": 17
        },
        {
         "id": 10382291,
         "prob_positive_feedback": 0.5,
         "_deepnote_index_column": 18
        },
        {
         "id": 10408722,
         "prob_positive_feedback": 0.8155339805825242,
         "_deepnote_index_column": 19
        },
        {
         "id": 10412406,
         "prob_positive_feedback": 0.9,
         "_deepnote_index_column": 20
        },
        {
         "id": 10415975,
         "prob_positive_feedback": 0.8,
         "_deepnote_index_column": 21
        },
        {
         "id": 10426783,
         "prob_positive_feedback": 0.7881040892193308,
         "_deepnote_index_column": 22
        },
        {
         "id": 10438327,
         "prob_positive_feedback": 0.5,
         "_deepnote_index_column": 23
        },
        {
         "id": 10438383,
         "prob_positive_feedback": 0.6666666666666666,
         "_deepnote_index_column": 24
        },
        {
         "id": 10438567,
         "prob_positive_feedback": 0.8560311284046692,
         "_deepnote_index_column": 25
        },
        {
         "id": 104386,
         "prob_positive_feedback": 0.7939698492462312,
         "_deepnote_index_column": 26
        },
        {
         "id": 10451710,
         "prob_positive_feedback": 0.7607260726072608,
         "_deepnote_index_column": 27
        },
        {
         "id": 10501614,
         "prob_positive_feedback": 0.8888888888888888,
         "_deepnote_index_column": 28
        },
        {
         "id": 10526238,
         "prob_positive_feedback": 0.5,
         "_deepnote_index_column": 29
        },
        {
         "id": 10539443,
         "prob_positive_feedback": 0.8,
         "_deepnote_index_column": 30
        },
        {
         "id": 10540208,
         "prob_positive_feedback": 0.8441558441558441,
         "_deepnote_index_column": 31
        },
        {
         "id": 10541666,
         "prob_positive_feedback": 0.9090909090909092,
         "_deepnote_index_column": 32
        },
        {
         "id": 10547716,
         "prob_positive_feedback": 0.8205128205128205,
         "_deepnote_index_column": 33
        },
        {
         "id": 10569418,
         "prob_positive_feedback": 1,
         "_deepnote_index_column": 34
        },
        {
         "id": 10576483,
         "prob_positive_feedback": 0.7853107344632768,
         "_deepnote_index_column": 35
        },
        {
         "id": 10576585,
         "prob_positive_feedback": 0.8509485094850948,
         "_deepnote_index_column": 36
        },
        {
         "id": 10576853,
         "prob_positive_feedback": 1,
         "_deepnote_index_column": 37
        },
        {
         "id": 10586177,
         "prob_positive_feedback": 0.8135593220338984,
         "_deepnote_index_column": 38
        },
        {
         "id": 1059128,
         "prob_positive_feedback": 0.7853881278538812,
         "_deepnote_index_column": 39
        },
        {
         "id": 10592588,
         "prob_positive_feedback": 0.9,
         "_deepnote_index_column": 40
        },
        {
         "id": 10606818,
         "prob_positive_feedback": 0.7297297297297297,
         "_deepnote_index_column": 41
        },
        {
         "id": 10611619,
         "prob_positive_feedback": 0.8,
         "_deepnote_index_column": 42
        },
        {
         "id": 10644981,
         "prob_positive_feedback": 0.7987987987987988,
         "_deepnote_index_column": 43
        },
        {
         "id": 10694691,
         "prob_positive_feedback": 0.9375,
         "_deepnote_index_column": 44
        },
        {
         "id": 10699500,
         "prob_positive_feedback": 0.6976744186046512,
         "_deepnote_index_column": 45
        },
        {
         "id": 10701836,
         "prob_positive_feedback": 0.8,
         "_deepnote_index_column": 46
        },
        {
         "id": 10706987,
         "prob_positive_feedback": 1,
         "_deepnote_index_column": 47
        },
        {
         "id": 10707904,
         "prob_positive_feedback": 0.7849056603773585,
         "_deepnote_index_column": 48
        },
        {
         "id": 10721252,
         "prob_positive_feedback": 0.8658536585365854,
         "_deepnote_index_column": 49
        },
        {
         "id": 10733649,
         "prob_positive_feedback": 1,
         "_deepnote_index_column": 50
        },
        {
         "id": 10751717,
         "prob_positive_feedback": 0.7142857142857143,
         "_deepnote_index_column": 51
        },
        {
         "id": 10768287,
         "prob_positive_feedback": 0.7362637362637363,
         "_deepnote_index_column": 52
        },
        {
         "id": 10784670,
         "prob_positive_feedback": 1,
         "_deepnote_index_column": 53
        },
        {
         "id": 10789818,
         "prob_positive_feedback": 1,
         "_deepnote_index_column": 54
        },
        {
         "id": 10799894,
         "prob_positive_feedback": 0.6470588235294118,
         "_deepnote_index_column": 55
        },
        {
         "id": 10808197,
         "prob_positive_feedback": 0.8524590163934426,
         "_deepnote_index_column": 56
        },
        {
         "id": 10825723,
         "prob_positive_feedback": 0.779835390946502,
         "_deepnote_index_column": 57
        },
        {
         "id": 10836191,
         "prob_positive_feedback": 0.875,
         "_deepnote_index_column": 58
        },
        {
         "id": 10839662,
         "prob_positive_feedback": 0.7692307692307693,
         "_deepnote_index_column": 59
        },
        {
         "id": 10839733,
         "prob_positive_feedback": 0.8666666666666667,
         "_deepnote_index_column": 60
        },
        {
         "id": 10856933,
         "prob_positive_feedback": 1,
         "_deepnote_index_column": 61
        },
        {
         "id": 10859293,
         "prob_positive_feedback": 0.8318965517241379,
         "_deepnote_index_column": 62
        },
        {
         "id": 10882327,
         "prob_positive_feedback": 1,
         "_deepnote_index_column": 63
        },
        {
         "id": 10885857,
         "prob_positive_feedback": 0.8260869565217391,
         "_deepnote_index_column": 64
        },
        {
         "id": 10886605,
         "prob_positive_feedback": 0.75,
         "_deepnote_index_column": 65
        },
        {
         "id": 10899325,
         "prob_positive_feedback": 0.8305400372439479,
         "_deepnote_index_column": 66
        },
        {
         "id": 10908153,
         "prob_positive_feedback": 0.8125,
         "_deepnote_index_column": 67
        },
        {
         "id": 10909360,
         "prob_positive_feedback": 1,
         "_deepnote_index_column": 68
        },
        {
         "id": 10924106,
         "prob_positive_feedback": 1,
         "_deepnote_index_column": 69
        },
        {
         "id": 10924553,
         "prob_positive_feedback": 1,
         "_deepnote_index_column": 70
        },
        {
         "id": 10944023,
         "prob_positive_feedback": 0.625,
         "_deepnote_index_column": 71
        },
        {
         "id": 10959672,
         "prob_positive_feedback": 0.7083333333333334,
         "_deepnote_index_column": 72
        },
        {
         "id": 10960256,
         "prob_positive_feedback": 0.6666666666666666,
         "_deepnote_index_column": 73
        },
        {
         "id": 10970106,
         "prob_positive_feedback": 0.813953488372093,
         "_deepnote_index_column": 74
        },
        {
         "id": 10982852,
         "prob_positive_feedback": 1,
         "_deepnote_index_column": 75
        },
        {
         "id": 10984471,
         "prob_positive_feedback": 1,
         "_deepnote_index_column": 76
        },
        {
         "id": 10985692,
         "prob_positive_feedback": 1,
         "_deepnote_index_column": 77
        },
        {
         "id": 10988557,
         "prob_positive_feedback": 0.806,
         "_deepnote_index_column": 78
        },
        {
         "id": 10995390,
         "prob_positive_feedback": 0.7142857142857143,
         "_deepnote_index_column": 79
        },
        {
         "id": 11020832,
         "prob_positive_feedback": 0.25,
         "_deepnote_index_column": 80
        },
        {
         "id": 11047093,
         "prob_positive_feedback": 0.8928571428571429,
         "_deepnote_index_column": 81
        },
        {
         "id": 11051606,
         "prob_positive_feedback": 0.8633879781420765,
         "_deepnote_index_column": 82
        },
        {
         "id": 11061484,
         "prob_positive_feedback": 0.8461538461538461,
         "_deepnote_index_column": 83
        },
        {
         "id": 11068604,
         "prob_positive_feedback": 0.6666666666666666,
         "_deepnote_index_column": 84
        },
        {
         "id": 1109489,
         "prob_positive_feedback": 0.8411764705882353,
         "_deepnote_index_column": 85
        },
        {
         "id": 11098003,
         "prob_positive_feedback": "nan",
         "_deepnote_index_column": 86
        },
        {
         "id": 11099663,
         "prob_positive_feedback": 0.7591973244147158,
         "_deepnote_index_column": 87
        },
        {
         "id": 11101584,
         "prob_positive_feedback": 0.8171428571428572,
         "_deepnote_index_column": 88
        },
        {
         "id": 11102000,
         "prob_positive_feedback": 0.8043478260869565,
         "_deepnote_index_column": 89
        },
        {
         "id": 11103461,
         "prob_positive_feedback": 0.7833333333333333,
         "_deepnote_index_column": 90
        },
        {
         "id": 11105744,
         "prob_positive_feedback": 0.8,
         "_deepnote_index_column": 91
        },
        {
         "id": 11112402,
         "prob_positive_feedback": 0.75,
         "_deepnote_index_column": 92
        },
        {
         "id": 11119466,
         "prob_positive_feedback": 0.792,
         "_deepnote_index_column": 93
        },
        {
         "id": 11122045,
         "prob_positive_feedback": 0.8313725490196079,
         "_deepnote_index_column": 94
        },
        {
         "id": 11135685,
         "prob_positive_feedback": 1,
         "_deepnote_index_column": 95
        },
        {
         "id": 11141629,
         "prob_positive_feedback": 0.75,
         "_deepnote_index_column": 96
        },
        {
         "id": 11143943,
         "prob_positive_feedback": 1,
         "_deepnote_index_column": 97
        },
        {
         "id": 11144738,
         "prob_positive_feedback": 0.8294117647058824,
         "_deepnote_index_column": 98
        },
        {
         "id": 11146767,
         "prob_positive_feedback": 1,
         "_deepnote_index_column": 99
        },
        {
         "id": 11147279,
         "prob_positive_feedback": 1,
         "_deepnote_index_column": 100
        },
        {
         "id": 11147979,
         "prob_positive_feedback": 1,
         "_deepnote_index_column": 101
        },
        {
         "id": 11161303,
         "prob_positive_feedback": 0.6666666666666666,
         "_deepnote_index_column": 102
        },
        {
         "id": 11162065,
         "prob_positive_feedback": 0.75,
         "_deepnote_index_column": 103
        },
        {
         "id": 11163059,
         "prob_positive_feedback": 1,
         "_deepnote_index_column": 104
        },
        {
         "id": 1117880,
         "prob_positive_feedback": 0.7073170731707317,
         "_deepnote_index_column": 105
        },
        {
         "id": 11181782,
         "prob_positive_feedback": 1,
         "_deepnote_index_column": 106
        },
        {
         "id": 11184708,
         "prob_positive_feedback": 0.6933333333333334,
         "_deepnote_index_column": 107
        },
        {
         "id": 11200939,
         "prob_positive_feedback": 0.6666666666666666,
         "_deepnote_index_column": 108
        },
        {
         "id": 11205990,
         "prob_positive_feedback": 0.8333333333333334,
         "_deepnote_index_column": 109
        },
        {
         "id": 11207672,
         "prob_positive_feedback": 0.8205128205128205,
         "_deepnote_index_column": 110
        },
        {
         "id": 11210388,
         "prob_positive_feedback": 0.8475177304964538,
         "_deepnote_index_column": 111
        },
        {
         "id": 11218939,
         "prob_positive_feedback": 0.6666666666666666,
         "_deepnote_index_column": 112
        },
        {
         "id": 11222426,
         "prob_positive_feedback": 1,
         "_deepnote_index_column": 113
        },
        {
         "id": 11223098,
         "prob_positive_feedback": "nan",
         "_deepnote_index_column": 114
        },
        {
         "id": 11228977,
         "prob_positive_feedback": 0.5,
         "_deepnote_index_column": 115
        },
        {
         "id": 11229234,
         "prob_positive_feedback": 1,
         "_deepnote_index_column": 116
        },
        {
         "id": 11242704,
         "prob_positive_feedback": 0.8780487804878049,
         "_deepnote_index_column": 117
        },
        {
         "id": 11244040,
         "prob_positive_feedback": 0.7428571428571429,
         "_deepnote_index_column": 118
        },
        {
         "id": 11256270,
         "prob_positive_feedback": 0.6666666666666666,
         "_deepnote_index_column": 119
        },
        {
         "id": 11259781,
         "prob_positive_feedback": 1,
         "_deepnote_index_column": 120
        },
        {
         "id": 11260474,
         "prob_positive_feedback": 0.8333333333333334,
         "_deepnote_index_column": 121
        },
        {
         "id": 1126920,
         "prob_positive_feedback": 0.8471502590673575,
         "_deepnote_index_column": 122
        },
        {
         "id": 11274398,
         "prob_positive_feedback": 0.6538461538461539,
         "_deepnote_index_column": 123
        },
        {
         "id": 11274406,
         "prob_positive_feedback": 0.5,
         "_deepnote_index_column": 124
        },
        {
         "id": 11291196,
         "prob_positive_feedback": "nan",
         "_deepnote_index_column": 125
        },
        {
         "id": 11294317,
         "prob_positive_feedback": 0.7058823529411765,
         "_deepnote_index_column": 126
        },
        {
         "id": 11298101,
         "prob_positive_feedback": 0.5,
         "_deepnote_index_column": 127
        },
        {
         "id": 11306510,
         "prob_positive_feedback": 0.8775510204081632,
         "_deepnote_index_column": 128
        },
        {
         "id": 11318454,
         "prob_positive_feedback": "nan",
         "_deepnote_index_column": 129
        },
        {
         "id": 11323660,
         "prob_positive_feedback": 0.6666666666666666,
         "_deepnote_index_column": 130
        },
        {
         "id": 11325012,
         "prob_positive_feedback": 0.8313253012048193,
         "_deepnote_index_column": 131
        },
        {
         "id": 11325599,
         "prob_positive_feedback": 0.8394648829431438,
         "_deepnote_index_column": 132
        },
        {
         "id": 11330408,
         "prob_positive_feedback": 0.7804232804232805,
         "_deepnote_index_column": 133
        },
        {
         "id": 11337722,
         "prob_positive_feedback": 0.9117647058823528,
         "_deepnote_index_column": 134
        },
        {
         "id": 11341479,
         "prob_positive_feedback": 0.8333333333333334,
         "_deepnote_index_column": 135
        },
        {
         "id": 11351108,
         "prob_positive_feedback": 0.8181818181818182,
         "_deepnote_index_column": 136
        },
        {
         "id": 11352087,
         "prob_positive_feedback": 0.8571428571428571,
         "_deepnote_index_column": 137
        },
        {
         "id": 11357971,
         "prob_positive_feedback": 1,
         "_deepnote_index_column": 138
        },
        {
         "id": 11360943,
         "prob_positive_feedback": 0.7589743589743589,
         "_deepnote_index_column": 139
        },
        {
         "id": 11369999,
         "prob_positive_feedback": 0.7830423940149626,
         "_deepnote_index_column": 140
        },
        {
         "id": 11374424,
         "prob_positive_feedback": 0.8125,
         "_deepnote_index_column": 141
        },
        {
         "id": 11377313,
         "prob_positive_feedback": 1,
         "_deepnote_index_column": 142
        },
        {
         "id": 113779,
         "prob_positive_feedback": 0.8450704225352113,
         "_deepnote_index_column": 143
        },
        {
         "id": 11378134,
         "prob_positive_feedback": 1,
         "_deepnote_index_column": 144
        },
        {
         "id": 11380001,
         "prob_positive_feedback": 0.8947368421052632,
         "_deepnote_index_column": 145
        },
        {
         "id": 11395632,
         "prob_positive_feedback": 1,
         "_deepnote_index_column": 146
        },
        {
         "id": 11398275,
         "prob_positive_feedback": 0.8051282051282052,
         "_deepnote_index_column": 147
        },
        {
         "id": 11400538,
         "prob_positive_feedback": 0.8598130841121495,
         "_deepnote_index_column": 148
        },
        {
         "id": 11410715,
         "prob_positive_feedback": 0.896551724137931,
         "_deepnote_index_column": 149
        },
        {
         "id": 11412040,
         "prob_positive_feedback": 0.9090909090909092,
         "_deepnote_index_column": 150
        },
        {
         "id": 11413937,
         "prob_positive_feedback": 0.7777777777777778,
         "_deepnote_index_column": 151
        },
        {
         "id": 11414461,
         "prob_positive_feedback": 1,
         "_deepnote_index_column": 152
        },
        {
         "id": 11415319,
         "prob_positive_feedback": 0.75,
         "_deepnote_index_column": 153
        },
        {
         "id": 11415697,
         "prob_positive_feedback": 1,
         "_deepnote_index_column": 154
        },
        {
         "id": 11417129,
         "prob_positive_feedback": 0.7835051546391752,
         "_deepnote_index_column": 155
        },
        {
         "id": 11421176,
         "prob_positive_feedback": 0.9428571428571428,
         "_deepnote_index_column": 156
        },
        {
         "id": 11422242,
         "prob_positive_feedback": 0.8928571428571429,
         "_deepnote_index_column": 157
        },
        {
         "id": 11422368,
         "prob_positive_feedback": 1,
         "_deepnote_index_column": 158
        },
        {
         "id": 11424382,
         "prob_positive_feedback": 0.832579185520362,
         "_deepnote_index_column": 159
        },
        {
         "id": 11434645,
         "prob_positive_feedback": 0.7857142857142857,
         "_deepnote_index_column": 160
        },
        {
         "id": 11439003,
         "prob_positive_feedback": 0.7992957746478874,
         "_deepnote_index_column": 161
        },
        {
         "id": 11442375,
         "prob_positive_feedback": 0.8080985915492958,
         "_deepnote_index_column": 162
        },
        {
         "id": 11457218,
         "prob_positive_feedback": 1,
         "_deepnote_index_column": 163
        },
        {
         "id": 11458582,
         "prob_positive_feedback": 0.8333333333333334,
         "_deepnote_index_column": 164
        },
        {
         "id": 11459171,
         "prob_positive_feedback": 0.875,
         "_deepnote_index_column": 165
        },
        {
         "id": 11469522,
         "prob_positive_feedback": 0.8235294117647058,
         "_deepnote_index_column": 166
        },
        {
         "id": 11473086,
         "prob_positive_feedback": 0.7692307692307693,
         "_deepnote_index_column": 167
        },
        {
         "id": 11474166,
         "prob_positive_feedback": 0.7368421052631579,
         "_deepnote_index_column": 168
        },
        {
         "id": 11480675,
         "prob_positive_feedback": 1,
         "_deepnote_index_column": 169
        },
        {
         "id": 1148536,
         "prob_positive_feedback": 0.8788732394366198,
         "_deepnote_index_column": 170
        },
        {
         "id": 11492087,
         "prob_positive_feedback": 1,
         "_deepnote_index_column": 171
        },
        {
         "id": 11493326,
         "prob_positive_feedback": 0.8333333333333334,
         "_deepnote_index_column": 172
        },
        {
         "id": 11493555,
         "prob_positive_feedback": 1,
         "_deepnote_index_column": 173
        },
        {
         "id": 11496663,
         "prob_positive_feedback": 0.2857142857142857,
         "_deepnote_index_column": 174
        },
        {
         "id": 11505260,
         "prob_positive_feedback": 0.7678571428571429,
         "_deepnote_index_column": 175
        },
        {
         "id": 11510915,
         "prob_positive_feedback": 0.8484848484848485,
         "_deepnote_index_column": 176
        },
        {
         "id": 11519361,
         "prob_positive_feedback": 0.8888888888888888,
         "_deepnote_index_column": 177
        },
        {
         "id": 11526089,
         "prob_positive_feedback": 0.7272727272727273,
         "_deepnote_index_column": 178
        },
        {
         "id": 11526358,
         "prob_positive_feedback": 0.7857142857142857,
         "_deepnote_index_column": 179
        },
        {
         "id": 11526499,
         "prob_positive_feedback": 0.8736559139784946,
         "_deepnote_index_column": 180
        },
        {
         "id": 11530645,
         "prob_positive_feedback": 0.8294797687861272,
         "_deepnote_index_column": 181
        },
        {
         "id": 11531248,
         "prob_positive_feedback": 0.8333333333333334,
         "_deepnote_index_column": 182
        },
        {
         "id": 11540342,
         "prob_positive_feedback": 0.6666666666666666,
         "_deepnote_index_column": 183
        },
        {
         "id": 11545503,
         "prob_positive_feedback": 0.6666666666666666,
         "_deepnote_index_column": 184
        },
        {
         "id": 11547507,
         "prob_positive_feedback": 0.9333333333333332,
         "_deepnote_index_column": 185
        },
        {
         "id": 11554430,
         "prob_positive_feedback": 0.8524590163934426,
         "_deepnote_index_column": 186
        },
        {
         "id": 11568190,
         "prob_positive_feedback": 0.6666666666666666,
         "_deepnote_index_column": 187
        },
        {
         "id": 11570934,
         "prob_positive_feedback": 0.6470588235294118,
         "_deepnote_index_column": 188
        },
        {
         "id": 1157268,
         "prob_positive_feedback": 0.867579908675799,
         "_deepnote_index_column": 189
        },
        {
         "id": 1157317,
         "prob_positive_feedback": 0.8494208494208494,
         "_deepnote_index_column": 190
        },
        {
         "id": 11581222,
         "prob_positive_feedback": 0.8173076923076923,
         "_deepnote_index_column": 191
        },
        {
         "id": 11583653,
         "prob_positive_feedback": 0.775,
         "_deepnote_index_column": 192
        },
        {
         "id": 11584119,
         "prob_positive_feedback": 0.8,
         "_deepnote_index_column": 193
        },
        {
         "id": 11586531,
         "prob_positive_feedback": 0.7,
         "_deepnote_index_column": 194
        },
        {
         "id": 11586693,
         "prob_positive_feedback": 0.8,
         "_deepnote_index_column": 195
        },
        {
         "id": 11588056,
         "prob_positive_feedback": 0.7142857142857143,
         "_deepnote_index_column": 196
        },
        {
         "id": 11589978,
         "prob_positive_feedback": 0.8093994778067886,
         "_deepnote_index_column": 197
        },
        {
         "id": 11592645,
         "prob_positive_feedback": 1,
         "_deepnote_index_column": 198
        },
        {
         "id": 11601524,
         "prob_positive_feedback": 0.8409090909090909,
         "_deepnote_index_column": 199
        },
        {
         "id": 11604424,
         "prob_positive_feedback": 0.7777777777777778,
         "_deepnote_index_column": 200
        },
        {
         "id": 11608417,
         "prob_positive_feedback": 0.8888888888888888,
         "_deepnote_index_column": 201
        },
        {
         "id": 11609664,
         "prob_positive_feedback": "nan",
         "_deepnote_index_column": 202
        },
        {
         "id": 11610023,
         "prob_positive_feedback": 0.6666666666666666,
         "_deepnote_index_column": 203
        },
        {
         "id": 11611131,
         "prob_positive_feedback": 0.7543859649122807,
         "_deepnote_index_column": 204
        },
        {
         "id": 11618910,
         "prob_positive_feedback": 0.834319526627219,
         "_deepnote_index_column": 205
        },
        {
         "id": 11622156,
         "prob_positive_feedback": 0.6,
         "_deepnote_index_column": 206
        },
        {
         "id": 11622925,
         "prob_positive_feedback": 0.75,
         "_deepnote_index_column": 207
        },
        {
         "id": 1162922,
         "prob_positive_feedback": 0.8177339901477833,
         "_deepnote_index_column": 208
        },
        {
         "id": 11631657,
         "prob_positive_feedback": 0.7394957983193278,
         "_deepnote_index_column": 209
        },
        {
         "id": 11635174,
         "prob_positive_feedback": 0.6666666666666666,
         "_deepnote_index_column": 210
        },
        {
         "id": 11636642,
         "prob_positive_feedback": 1,
         "_deepnote_index_column": 211
        },
        {
         "id": 11638016,
         "prob_positive_feedback": 0.6,
         "_deepnote_index_column": 212
        },
        {
         "id": 11639594,
         "prob_positive_feedback": 1,
         "_deepnote_index_column": 213
        },
        {
         "id": 11647509,
         "prob_positive_feedback": 0.6666666666666666,
         "_deepnote_index_column": 214
        },
        {
         "id": 11652334,
         "prob_positive_feedback": 0.8333333333333334,
         "_deepnote_index_column": 215
        },
        {
         "id": 11655031,
         "prob_positive_feedback": 1,
         "_deepnote_index_column": 216
        },
        {
         "id": 1165854,
         "prob_positive_feedback": 0.8620689655172413,
         "_deepnote_index_column": 217
        },
        {
         "id": 11658679,
         "prob_positive_feedback": 0.8306451612903226,
         "_deepnote_index_column": 218
        },
        {
         "id": 11659369,
         "prob_positive_feedback": 0.9230769230769232,
         "_deepnote_index_column": 219
        },
        {
         "id": 11660447,
         "prob_positive_feedback": 0.6666666666666666,
         "_deepnote_index_column": 220
        },
        {
         "id": 11666642,
         "prob_positive_feedback": 0.8571428571428571,
         "_deepnote_index_column": 221
        },
        {
         "id": 11670278,
         "prob_positive_feedback": 0.75,
         "_deepnote_index_column": 222
        },
        {
         "id": 11673987,
         "prob_positive_feedback": 0.9,
         "_deepnote_index_column": 223
        },
        {
         "id": 11674520,
         "prob_positive_feedback": 1,
         "_deepnote_index_column": 224
        },
        {
         "id": 11677163,
         "prob_positive_feedback": 0.9,
         "_deepnote_index_column": 225
        },
        {
         "id": 11677901,
         "prob_positive_feedback": 0.6666666666666666,
         "_deepnote_index_column": 226
        },
        {
         "id": 11678166,
         "prob_positive_feedback": 1,
         "_deepnote_index_column": 227
        },
        {
         "id": 11680816,
         "prob_positive_feedback": 0.6,
         "_deepnote_index_column": 228
        },
        {
         "id": 11692487,
         "prob_positive_feedback": 0.6666666666666666,
         "_deepnote_index_column": 229
        },
        {
         "id": 11692489,
         "prob_positive_feedback": 0.7692307692307693,
         "_deepnote_index_column": 230
        },
        {
         "id": 11695915,
         "prob_positive_feedback": 0.5,
         "_deepnote_index_column": 231
        },
        {
         "id": 11712399,
         "prob_positive_feedback": 0.7551020408163265,
         "_deepnote_index_column": 232
        },
        {
         "id": 11721295,
         "prob_positive_feedback": 1,
         "_deepnote_index_column": 233
        },
        {
         "id": 11741468,
         "prob_positive_feedback": 0.6153846153846154,
         "_deepnote_index_column": 234
        },
        {
         "id": 11742431,
         "prob_positive_feedback": 0.75,
         "_deepnote_index_column": 235
        },
        {
         "id": 11754612,
         "prob_positive_feedback": 1,
         "_deepnote_index_column": 236
        },
        {
         "id": 11771703,
         "prob_positive_feedback": 1,
         "_deepnote_index_column": 237
        },
        {
         "id": 11778403,
         "prob_positive_feedback": "nan",
         "_deepnote_index_column": 238
        },
        {
         "id": 11791397,
         "prob_positive_feedback": 0.918918918918919,
         "_deepnote_index_column": 239
        },
        {
         "id": 11795213,
         "prob_positive_feedback": 0.775,
         "_deepnote_index_column": 240
        },
        {
         "id": 11815241,
         "prob_positive_feedback": 0.6666666666666666,
         "_deepnote_index_column": 241
        },
        {
         "id": 11819911,
         "prob_positive_feedback": 0.8344549125168237,
         "_deepnote_index_column": 242
        },
        {
         "id": 1182544,
         "prob_positive_feedback": 0.7542662116040956,
         "_deepnote_index_column": 243
        },
        {
         "id": 11828602,
         "prob_positive_feedback": 0.6666666666666666,
         "_deepnote_index_column": 244
        },
        {
         "id": 11834826,
         "prob_positive_feedback": 1,
         "_deepnote_index_column": 245
        },
        {
         "id": 11869687,
         "prob_positive_feedback": 0.8571428571428571,
         "_deepnote_index_column": 246
        },
        {
         "id": 11885610,
         "prob_positive_feedback": 1,
         "_deepnote_index_column": 247
        },
        {
         "id": 11937703,
         "prob_positive_feedback": 0.7843137254901961,
         "_deepnote_index_column": 248
        },
        {
         "id": 11942944,
         "prob_positive_feedback": 0.8,
         "_deepnote_index_column": 249
        }
       ],
       "rows_bottom": [
        {
         "id": 7881350,
         "prob_positive_feedback": 1,
         "_deepnote_index_column": 1532
        },
        {
         "id": 7881703,
         "prob_positive_feedback": 0.8275862068965517,
         "_deepnote_index_column": 1533
        },
        {
         "id": 78831,
         "prob_positive_feedback": 0.8137472283813747,
         "_deepnote_index_column": 1534
        },
        {
         "id": 7884851,
         "prob_positive_feedback": 0.7155172413793104,
         "_deepnote_index_column": 1535
        },
        {
         "id": 78884,
         "prob_positive_feedback": 0.8253968253968254,
         "_deepnote_index_column": 1536
        },
        {
         "id": 7894111,
         "prob_positive_feedback": 0.7748344370860927,
         "_deepnote_index_column": 1537
        },
        {
         "id": 7895103,
         "prob_positive_feedback": 0.7340425531914894,
         "_deepnote_index_column": 1538
        },
        {
         "id": 7899546,
         "prob_positive_feedback": 0.8115501519756839,
         "_deepnote_index_column": 1539
        },
        {
         "id": 7902053,
         "prob_positive_feedback": 0.9642857142857144,
         "_deepnote_index_column": 1540
        },
        {
         "id": 7902095,
         "prob_positive_feedback": 0.875,
         "_deepnote_index_column": 1541
        },
        {
         "id": 7902384,
         "prob_positive_feedback": 0.8771929824561403,
         "_deepnote_index_column": 1542
        },
        {
         "id": 7917741,
         "prob_positive_feedback": 1,
         "_deepnote_index_column": 1543
        },
        {
         "id": 7918922,
         "prob_positive_feedback": 0.7529411764705882,
         "_deepnote_index_column": 1544
        },
        {
         "id": 7922035,
         "prob_positive_feedback": 0.5,
         "_deepnote_index_column": 1545
        },
        {
         "id": 7932066,
         "prob_positive_feedback": 0.7777777777777778,
         "_deepnote_index_column": 1546
        },
        {
         "id": 7935687,
         "prob_positive_feedback": 0.6666666666666666,
         "_deepnote_index_column": 1547
        },
        {
         "id": 7937786,
         "prob_positive_feedback": 0.7341772151898734,
         "_deepnote_index_column": 1548
        },
        {
         "id": 7971903,
         "prob_positive_feedback": 0.7936507936507936,
         "_deepnote_index_column": 1549
        },
        {
         "id": 7985608,
         "prob_positive_feedback": 0.9285714285714286,
         "_deepnote_index_column": 1550
        },
        {
         "id": 801521,
         "prob_positive_feedback": 0.7707006369426752,
         "_deepnote_index_column": 1551
        },
        {
         "id": 8032556,
         "prob_positive_feedback": 0.7663817663817664,
         "_deepnote_index_column": 1552
        },
        {
         "id": 8034552,
         "prob_positive_feedback": 0.8205128205128205,
         "_deepnote_index_column": 1553
        },
        {
         "id": 8034612,
         "prob_positive_feedback": 0.9333333333333332,
         "_deepnote_index_column": 1554
        },
        {
         "id": 8067300,
         "prob_positive_feedback": 0.8545454545454545,
         "_deepnote_index_column": 1555
        },
        {
         "id": 8069972,
         "prob_positive_feedback": 0.64,
         "_deepnote_index_column": 1556
        },
        {
         "id": 8070894,
         "prob_positive_feedback": 0,
         "_deepnote_index_column": 1557
        },
        {
         "id": 8084195,
         "prob_positive_feedback": 0.8666666666666667,
         "_deepnote_index_column": 1558
        },
        {
         "id": 8090183,
         "prob_positive_feedback": 0.8404255319148937,
         "_deepnote_index_column": 1559
        },
        {
         "id": 8101620,
         "prob_positive_feedback": 1,
         "_deepnote_index_column": 1560
        },
        {
         "id": 8106607,
         "prob_positive_feedback": 0.7727272727272727,
         "_deepnote_index_column": 1561
        },
        {
         "id": 8117242,
         "prob_positive_feedback": 0.8181818181818182,
         "_deepnote_index_column": 1562
        },
        {
         "id": 8131911,
         "prob_positive_feedback": 0.8245614035087719,
         "_deepnote_index_column": 1563
        },
        {
         "id": 813709,
         "prob_positive_feedback": 0.8690476190476191,
         "_deepnote_index_column": 1564
        },
        {
         "id": 814908,
         "prob_positive_feedback": 0.7142857142857143,
         "_deepnote_index_column": 1565
        },
        {
         "id": 8149550,
         "prob_positive_feedback": 0.8319672131147541,
         "_deepnote_index_column": 1566
        },
        {
         "id": 8167068,
         "prob_positive_feedback": 0.7586206896551724,
         "_deepnote_index_column": 1567
        },
        {
         "id": 8167348,
         "prob_positive_feedback": 0.9333333333333332,
         "_deepnote_index_column": 1568
        },
        {
         "id": 8170048,
         "prob_positive_feedback": 0.7717391304347826,
         "_deepnote_index_column": 1569
        },
        {
         "id": 8171923,
         "prob_positive_feedback": 0.8095238095238095,
         "_deepnote_index_column": 1570
        },
        {
         "id": 8172120,
         "prob_positive_feedback": 1,
         "_deepnote_index_column": 1571
        },
        {
         "id": 8185376,
         "prob_positive_feedback": 0.76,
         "_deepnote_index_column": 1572
        },
        {
         "id": 8186176,
         "prob_positive_feedback": 0.7962962962962963,
         "_deepnote_index_column": 1573
        },
        {
         "id": 8213171,
         "prob_positive_feedback": 0.7323943661971831,
         "_deepnote_index_column": 1574
        },
        {
         "id": 8214182,
         "prob_positive_feedback": 0.5714285714285714,
         "_deepnote_index_column": 1575
        },
        {
         "id": 8222790,
         "prob_positive_feedback": 0.7974683544303798,
         "_deepnote_index_column": 1576
        },
        {
         "id": 8227170,
         "prob_positive_feedback": 0.8015267175572519,
         "_deepnote_index_column": 1577
        },
        {
         "id": 8235178,
         "prob_positive_feedback": 0.7551867219917012,
         "_deepnote_index_column": 1578
        },
        {
         "id": 8238039,
         "prob_positive_feedback": 0.8181818181818182,
         "_deepnote_index_column": 1579
        },
        {
         "id": 8241511,
         "prob_positive_feedback": 1,
         "_deepnote_index_column": 1580
        },
        {
         "id": 8253159,
         "prob_positive_feedback": 0.8269896193771626,
         "_deepnote_index_column": 1581
        },
        {
         "id": 8253891,
         "prob_positive_feedback": 0.7741273100616016,
         "_deepnote_index_column": 1582
        },
        {
         "id": 8255065,
         "prob_positive_feedback": 0.7995337995337995,
         "_deepnote_index_column": 1583
        },
        {
         "id": 826750,
         "prob_positive_feedback": 0.7272727272727273,
         "_deepnote_index_column": 1584
        },
        {
         "id": 8268045,
         "prob_positive_feedback": 0.8235294117647058,
         "_deepnote_index_column": 1585
        },
        {
         "id": 8274367,
         "prob_positive_feedback": 0,
         "_deepnote_index_column": 1586
        },
        {
         "id": 8275886,
         "prob_positive_feedback": 0.8947368421052632,
         "_deepnote_index_column": 1587
        },
        {
         "id": 8276110,
         "prob_positive_feedback": 1,
         "_deepnote_index_column": 1588
        },
        {
         "id": 8284053,
         "prob_positive_feedback": 1,
         "_deepnote_index_column": 1589
        },
        {
         "id": 8285130,
         "prob_positive_feedback": 0.7857142857142857,
         "_deepnote_index_column": 1590
        },
        {
         "id": 8290369,
         "prob_positive_feedback": 0.7634408602150538,
         "_deepnote_index_column": 1591
        },
        {
         "id": 8291582,
         "prob_positive_feedback": 0.6666666666666666,
         "_deepnote_index_column": 1592
        },
        {
         "id": 8293924,
         "prob_positive_feedback": 0.75,
         "_deepnote_index_column": 1593
        },
        {
         "id": 8294952,
         "prob_positive_feedback": 0.787012987012987,
         "_deepnote_index_column": 1594
        },
        {
         "id": 8301931,
         "prob_positive_feedback": 1,
         "_deepnote_index_column": 1595
        },
        {
         "id": 8302929,
         "prob_positive_feedback": 0.8333333333333334,
         "_deepnote_index_column": 1596
        },
        {
         "id": 830896,
         "prob_positive_feedback": 0.6923076923076923,
         "_deepnote_index_column": 1597
        },
        {
         "id": 8321562,
         "prob_positive_feedback": 0.7936507936507936,
         "_deepnote_index_column": 1598
        },
        {
         "id": 8327051,
         "prob_positive_feedback": 0.75,
         "_deepnote_index_column": 1599
        },
        {
         "id": 8342413,
         "prob_positive_feedback": 1,
         "_deepnote_index_column": 1600
        },
        {
         "id": 8355807,
         "prob_positive_feedback": 0.8387096774193549,
         "_deepnote_index_column": 1601
        },
        {
         "id": 8363877,
         "prob_positive_feedback": 0.789873417721519,
         "_deepnote_index_column": 1602
        },
        {
         "id": 83643,
         "prob_positive_feedback": 0.7755102040816326,
         "_deepnote_index_column": 1603
        },
        {
         "id": 8365492,
         "prob_positive_feedback": 1,
         "_deepnote_index_column": 1604
        },
        {
         "id": 8370503,
         "prob_positive_feedback": 0.6818181818181818,
         "_deepnote_index_column": 1605
        },
        {
         "id": 8371410,
         "prob_positive_feedback": 0.7692307692307693,
         "_deepnote_index_column": 1606
        },
        {
         "id": 8372093,
         "prob_positive_feedback": 0.8333333333333334,
         "_deepnote_index_column": 1607
        },
        {
         "id": 8387546,
         "prob_positive_feedback": 0.7951807228915663,
         "_deepnote_index_column": 1608
        },
        {
         "id": 8388876,
         "prob_positive_feedback": 0.6666666666666666,
         "_deepnote_index_column": 1609
        },
        {
         "id": 8390383,
         "prob_positive_feedback": 0.8166666666666667,
         "_deepnote_index_column": 1610
        },
        {
         "id": 8390607,
         "prob_positive_feedback": 0.8477157360406091,
         "_deepnote_index_column": 1611
        },
        {
         "id": 8404063,
         "prob_positive_feedback": 1,
         "_deepnote_index_column": 1612
        },
        {
         "id": 8408862,
         "prob_positive_feedback": 0.9142857142857144,
         "_deepnote_index_column": 1613
        },
        {
         "id": 8422925,
         "prob_positive_feedback": 0.8065843621399177,
         "_deepnote_index_column": 1614
        },
        {
         "id": 8423582,
         "prob_positive_feedback": 0.8285714285714286,
         "_deepnote_index_column": 1615
        },
        {
         "id": 8426539,
         "prob_positive_feedback": 0.9166666666666666,
         "_deepnote_index_column": 1616
        },
        {
         "id": 8427091,
         "prob_positive_feedback": 0.8203125,
         "_deepnote_index_column": 1617
        },
        {
         "id": 8427205,
         "prob_positive_feedback": 0.8780487804878049,
         "_deepnote_index_column": 1618
        },
        {
         "id": 8429604,
         "prob_positive_feedback": 0.7920792079207921,
         "_deepnote_index_column": 1619
        },
        {
         "id": 8437392,
         "prob_positive_feedback": 0.5714285714285714,
         "_deepnote_index_column": 1620
        },
        {
         "id": 8438090,
         "prob_positive_feedback": 0.7535211267605634,
         "_deepnote_index_column": 1621
        },
        {
         "id": 8455007,
         "prob_positive_feedback": 0.8641975308641975,
         "_deepnote_index_column": 1622
        },
        {
         "id": 846780,
         "prob_positive_feedback": 0.7436708860759493,
         "_deepnote_index_column": 1623
        },
        {
         "id": 8480556,
         "prob_positive_feedback": 0.790948275862069,
         "_deepnote_index_column": 1624
        },
        {
         "id": 8488895,
         "prob_positive_feedback": 0.825,
         "_deepnote_index_column": 1625
        },
        {
         "id": 8489018,
         "prob_positive_feedback": 0.7333333333333333,
         "_deepnote_index_column": 1626
        },
        {
         "id": 8502075,
         "prob_positive_feedback": 0.6666666666666666,
         "_deepnote_index_column": 1627
        },
        {
         "id": 850518,
         "prob_positive_feedback": 0.8,
         "_deepnote_index_column": 1628
        },
        {
         "id": 8506283,
         "prob_positive_feedback": 0.7640449438202247,
         "_deepnote_index_column": 1629
        },
        {
         "id": 8507456,
         "prob_positive_feedback": 0.6666666666666666,
         "_deepnote_index_column": 1630
        },
        {
         "id": 8507552,
         "prob_positive_feedback": 0.75,
         "_deepnote_index_column": 1631
        },
        {
         "id": 8507559,
         "prob_positive_feedback": 0.7984496124031008,
         "_deepnote_index_column": 1632
        },
        {
         "id": 8531225,
         "prob_positive_feedback": 0.7688442211055276,
         "_deepnote_index_column": 1633
        },
        {
         "id": 8540638,
         "prob_positive_feedback": 0.8117647058823529,
         "_deepnote_index_column": 1634
        },
        {
         "id": 8540885,
         "prob_positive_feedback": 0.8021978021978022,
         "_deepnote_index_column": 1635
        },
        {
         "id": 8541039,
         "prob_positive_feedback": 0.5833333333333334,
         "_deepnote_index_column": 1636
        },
        {
         "id": 8551560,
         "prob_positive_feedback": 0.76,
         "_deepnote_index_column": 1637
        },
        {
         "id": 8569523,
         "prob_positive_feedback": 0.5,
         "_deepnote_index_column": 1638
        },
        {
         "id": 8577931,
         "prob_positive_feedback": 0.8604651162790697,
         "_deepnote_index_column": 1639
        },
        {
         "id": 8581191,
         "prob_positive_feedback": 0.75,
         "_deepnote_index_column": 1640
        },
        {
         "id": 8594847,
         "prob_positive_feedback": 0.8333333333333334,
         "_deepnote_index_column": 1641
        },
        {
         "id": 8595301,
         "prob_positive_feedback": 0.8333333333333334,
         "_deepnote_index_column": 1642
        },
        {
         "id": 8609241,
         "prob_positive_feedback": 1,
         "_deepnote_index_column": 1643
        },
        {
         "id": 8609590,
         "prob_positive_feedback": 0.8218527315914489,
         "_deepnote_index_column": 1644
        },
        {
         "id": 8614178,
         "prob_positive_feedback": 1,
         "_deepnote_index_column": 1645
        },
        {
         "id": 8614516,
         "prob_positive_feedback": 0.8571428571428571,
         "_deepnote_index_column": 1646
        },
        {
         "id": 8628573,
         "prob_positive_feedback": 1,
         "_deepnote_index_column": 1647
        },
        {
         "id": 8655628,
         "prob_positive_feedback": 0.8208955223880597,
         "_deepnote_index_column": 1648
        },
        {
         "id": 8663006,
         "prob_positive_feedback": 0.6818181818181818,
         "_deepnote_index_column": 1649
        },
        {
         "id": 8668966,
         "prob_positive_feedback": 0.7804054054054054,
         "_deepnote_index_column": 1650
        },
        {
         "id": 8670731,
         "prob_positive_feedback": 0.8571428571428571,
         "_deepnote_index_column": 1651
        },
        {
         "id": 8672626,
         "prob_positive_feedback": 0.7272727272727273,
         "_deepnote_index_column": 1652
        },
        {
         "id": 8674351,
         "prob_positive_feedback": 0.8095238095238095,
         "_deepnote_index_column": 1653
        },
        {
         "id": 867806,
         "prob_positive_feedback": 0.7272727272727273,
         "_deepnote_index_column": 1654
        },
        {
         "id": 8688394,
         "prob_positive_feedback": 0.8260869565217391,
         "_deepnote_index_column": 1655
        },
        {
         "id": 8697580,
         "prob_positive_feedback": 0.8333333333333334,
         "_deepnote_index_column": 1656
        },
        {
         "id": 8703781,
         "prob_positive_feedback": 0.752895752895753,
         "_deepnote_index_column": 1657
        },
        {
         "id": 8740538,
         "prob_positive_feedback": 1,
         "_deepnote_index_column": 1658
        },
        {
         "id": 8743900,
         "prob_positive_feedback": 0.625,
         "_deepnote_index_column": 1659
        },
        {
         "id": 8756544,
         "prob_positive_feedback": 0.7909090909090909,
         "_deepnote_index_column": 1660
        },
        {
         "id": 8775493,
         "prob_positive_feedback": 0.8333333333333334,
         "_deepnote_index_column": 1661
        },
        {
         "id": 8780307,
         "prob_positive_feedback": 0.8392857142857143,
         "_deepnote_index_column": 1662
        },
        {
         "id": 8783699,
         "prob_positive_feedback": 0.7814070351758794,
         "_deepnote_index_column": 1663
        },
        {
         "id": 879070,
         "prob_positive_feedback": 0.8592592592592593,
         "_deepnote_index_column": 1664
        },
        {
         "id": 8814298,
         "prob_positive_feedback": 1,
         "_deepnote_index_column": 1665
        },
        {
         "id": 8826075,
         "prob_positive_feedback": 0.7727272727272727,
         "_deepnote_index_column": 1666
        },
        {
         "id": 8826503,
         "prob_positive_feedback": 0.6875,
         "_deepnote_index_column": 1667
        },
        {
         "id": 883970,
         "prob_positive_feedback": 0.7333333333333333,
         "_deepnote_index_column": 1668
        },
        {
         "id": 8880973,
         "prob_positive_feedback": 0.8123861566484517,
         "_deepnote_index_column": 1669
        },
        {
         "id": 8882372,
         "prob_positive_feedback": 0,
         "_deepnote_index_column": 1670
        },
        {
         "id": 890680,
         "prob_positive_feedback": 0.8333333333333334,
         "_deepnote_index_column": 1671
        },
        {
         "id": 8915312,
         "prob_positive_feedback": 0.7340425531914894,
         "_deepnote_index_column": 1672
        },
        {
         "id": 8920025,
         "prob_positive_feedback": 0.8759493670886076,
         "_deepnote_index_column": 1673
        },
        {
         "id": 892124,
         "prob_positive_feedback": 0.8009049773755657,
         "_deepnote_index_column": 1674
        },
        {
         "id": 8926402,
         "prob_positive_feedback": 0.8145695364238411,
         "_deepnote_index_column": 1675
        },
        {
         "id": 893630,
         "prob_positive_feedback": 0.6511627906976745,
         "_deepnote_index_column": 1676
        },
        {
         "id": 894743,
         "prob_positive_feedback": 0.751937984496124,
         "_deepnote_index_column": 1677
        },
        {
         "id": 89475,
         "prob_positive_feedback": 0.8461538461538461,
         "_deepnote_index_column": 1678
        },
        {
         "id": 895352,
         "prob_positive_feedback": 0.8333333333333334,
         "_deepnote_index_column": 1679
        },
        {
         "id": 8972263,
         "prob_positive_feedback": 0.7142857142857143,
         "_deepnote_index_column": 1680
        },
        {
         "id": 8980721,
         "prob_positive_feedback": 0.7058823529411765,
         "_deepnote_index_column": 1681
        },
        {
         "id": 8985401,
         "prob_positive_feedback": 0.6666666666666666,
         "_deepnote_index_column": 1682
        },
        {
         "id": 8986977,
         "prob_positive_feedback": 0.874439461883408,
         "_deepnote_index_column": 1683
        },
        {
         "id": 9011892,
         "prob_positive_feedback": 1,
         "_deepnote_index_column": 1684
        },
        {
         "id": 904354,
         "prob_positive_feedback": 0.8796680497925311,
         "_deepnote_index_column": 1685
        },
        {
         "id": 905360,
         "prob_positive_feedback": 0.8184818481848185,
         "_deepnote_index_column": 1686
        },
        {
         "id": 908424,
         "prob_positive_feedback": 0.88,
         "_deepnote_index_column": 1687
        },
        {
         "id": 9092423,
         "prob_positive_feedback": 0.5,
         "_deepnote_index_column": 1688
        },
        {
         "id": 9113180,
         "prob_positive_feedback": 0.8049645390070922,
         "_deepnote_index_column": 1689
        },
        {
         "id": 9136983,
         "prob_positive_feedback": 0.8267716535433071,
         "_deepnote_index_column": 1690
        },
        {
         "id": 9137791,
         "prob_positive_feedback": 0.5882352941176471,
         "_deepnote_index_column": 1691
        },
        {
         "id": 9157222,
         "prob_positive_feedback": 0.8159203980099502,
         "_deepnote_index_column": 1692
        },
        {
         "id": 9163030,
         "prob_positive_feedback": 0.75,
         "_deepnote_index_column": 1693
        },
        {
         "id": 9170221,
         "prob_positive_feedback": 1,
         "_deepnote_index_column": 1694
        },
        {
         "id": 917932,
         "prob_positive_feedback": 0.8288590604026845,
         "_deepnote_index_column": 1695
        },
        {
         "id": 918204,
         "prob_positive_feedback": 0.7752525252525253,
         "_deepnote_index_column": 1696
        },
        {
         "id": 9182645,
         "prob_positive_feedback": 0.9333333333333332,
         "_deepnote_index_column": 1697
        },
        {
         "id": 9194049,
         "prob_positive_feedback": 0.7894736842105263,
         "_deepnote_index_column": 1698
        },
        {
         "id": 9239771,
         "prob_positive_feedback": 1,
         "_deepnote_index_column": 1699
        },
        {
         "id": 9252583,
         "prob_positive_feedback": 0.8571428571428571,
         "_deepnote_index_column": 1700
        },
        {
         "id": 925980,
         "prob_positive_feedback": 0,
         "_deepnote_index_column": 1701
        },
        {
         "id": 926034,
         "prob_positive_feedback": 0.9166666666666666,
         "_deepnote_index_column": 1702
        },
        {
         "id": 9261455,
         "prob_positive_feedback": 0.8368298368298368,
         "_deepnote_index_column": 1703
        },
        {
         "id": 926804,
         "prob_positive_feedback": 0.6666666666666666,
         "_deepnote_index_column": 1704
        },
        {
         "id": 9281212,
         "prob_positive_feedback": 0.8064516129032258,
         "_deepnote_index_column": 1705
        },
        {
         "id": 929758,
         "prob_positive_feedback": 0.875,
         "_deepnote_index_column": 1706
        },
        {
         "id": 929974,
         "prob_positive_feedback": 0.8,
         "_deepnote_index_column": 1707
        },
        {
         "id": 9301824,
         "prob_positive_feedback": 0.7857142857142857,
         "_deepnote_index_column": 1708
        },
        {
         "id": 9302845,
         "prob_positive_feedback": 1,
         "_deepnote_index_column": 1709
        },
        {
         "id": 931667,
         "prob_positive_feedback": 0.6666666666666666,
         "_deepnote_index_column": 1710
        },
        {
         "id": 932231,
         "prob_positive_feedback": 0.8640776699029126,
         "_deepnote_index_column": 1711
        },
        {
         "id": 934074,
         "prob_positive_feedback": 0.7901234567901234,
         "_deepnote_index_column": 1712
        },
        {
         "id": 934471,
         "prob_positive_feedback": 0.6666666666666666,
         "_deepnote_index_column": 1713
        },
        {
         "id": 936349,
         "prob_positive_feedback": 0.9583333333333334,
         "_deepnote_index_column": 1714
        },
        {
         "id": 937157,
         "prob_positive_feedback": 0.8186274509803921,
         "_deepnote_index_column": 1715
        },
        {
         "id": 9392278,
         "prob_positive_feedback": 1,
         "_deepnote_index_column": 1716
        },
        {
         "id": 939240,
         "prob_positive_feedback": 0.8321678321678322,
         "_deepnote_index_column": 1717
        },
        {
         "id": 9405852,
         "prob_positive_feedback": 0.7913669064748201,
         "_deepnote_index_column": 1718
        },
        {
         "id": 9408680,
         "prob_positive_feedback": 0.7777777777777778,
         "_deepnote_index_column": 1719
        },
        {
         "id": 9409777,
         "prob_positive_feedback": 0.7333333333333333,
         "_deepnote_index_column": 1720
        },
        {
         "id": 942734,
         "prob_positive_feedback": 0.75,
         "_deepnote_index_column": 1721
        },
        {
         "id": 942883,
         "prob_positive_feedback": 0.7522658610271903,
         "_deepnote_index_column": 1722
        },
        {
         "id": 9430475,
         "prob_positive_feedback": 0.7769784172661871,
         "_deepnote_index_column": 1723
        },
        {
         "id": 9434045,
         "prob_positive_feedback": 0.8823529411764706,
         "_deepnote_index_column": 1724
        },
        {
         "id": 943528,
         "prob_positive_feedback": 0.8253557567917206,
         "_deepnote_index_column": 1725
        },
        {
         "id": 9445559,
         "prob_positive_feedback": 0.7575757575757576,
         "_deepnote_index_column": 1726
        },
        {
         "id": 9472636,
         "prob_positive_feedback": 1,
         "_deepnote_index_column": 1727
        },
        {
         "id": 947412,
         "prob_positive_feedback": 0.8780487804878049,
         "_deepnote_index_column": 1728
        },
        {
         "id": 9487955,
         "prob_positive_feedback": 0.8918918918918919,
         "_deepnote_index_column": 1729
        },
        {
         "id": 9490527,
         "prob_positive_feedback": 0.7777777777777778,
         "_deepnote_index_column": 1730
        },
        {
         "id": 949054,
         "prob_positive_feedback": 0.8504672897196262,
         "_deepnote_index_column": 1731
        },
        {
         "id": 9491998,
         "prob_positive_feedback": 0.8409090909090909,
         "_deepnote_index_column": 1732
        },
        {
         "id": 949922,
         "prob_positive_feedback": 0.804503582395087,
         "_deepnote_index_column": 1733
        },
        {
         "id": 9500935,
         "prob_positive_feedback": 0.5,
         "_deepnote_index_column": 1734
        },
        {
         "id": 9509077,
         "prob_positive_feedback": 0.8142857142857143,
         "_deepnote_index_column": 1735
        },
        {
         "id": 951272,
         "prob_positive_feedback": 0.8278427205100957,
         "_deepnote_index_column": 1736
        },
        {
         "id": 9525147,
         "prob_positive_feedback": 0.75,
         "_deepnote_index_column": 1737
        },
        {
         "id": 9530142,
         "prob_positive_feedback": 0.7784431137724551,
         "_deepnote_index_column": 1738
        },
        {
         "id": 954116,
         "prob_positive_feedback": 0.753315649867374,
         "_deepnote_index_column": 1739
        },
        {
         "id": 9543878,
         "prob_positive_feedback": 0.8237704918032787,
         "_deepnote_index_column": 1740
        },
        {
         "id": 955612,
         "prob_positive_feedback": 0.8290155440414507,
         "_deepnote_index_column": 1741
        },
        {
         "id": 9559710,
         "prob_positive_feedback": 1,
         "_deepnote_index_column": 1742
        },
        {
         "id": 958172,
         "prob_positive_feedback": 0.8004926108374384,
         "_deepnote_index_column": 1743
        },
        {
         "id": 959630,
         "prob_positive_feedback": 0.8297872340425532,
         "_deepnote_index_column": 1744
        },
        {
         "id": 960315,
         "prob_positive_feedback": 0.842741935483871,
         "_deepnote_index_column": 1745
        },
        {
         "id": 960376,
         "prob_positive_feedback": 0.8260869565217391,
         "_deepnote_index_column": 1746
        },
        {
         "id": 961883,
         "prob_positive_feedback": 0.8421052631578947,
         "_deepnote_index_column": 1747
        },
        {
         "id": 9626530,
         "prob_positive_feedback": 1,
         "_deepnote_index_column": 1748
        },
        {
         "id": 9664077,
         "prob_positive_feedback": 0.749034749034749,
         "_deepnote_index_column": 1749
        },
        {
         "id": 9684896,
         "prob_positive_feedback": 0.75,
         "_deepnote_index_column": 1750
        },
        {
         "id": 968817,
         "prob_positive_feedback": 0.7058823529411765,
         "_deepnote_index_column": 1751
        },
        {
         "id": 968883,
         "prob_positive_feedback": 0.5616438356164384,
         "_deepnote_index_column": 1752
        },
        {
         "id": 9693101,
         "prob_positive_feedback": 0.7424242424242424,
         "_deepnote_index_column": 1753
        },
        {
         "id": 9694693,
         "prob_positive_feedback": 0.6666666666666666,
         "_deepnote_index_column": 1754
        },
        {
         "id": 9694801,
         "prob_positive_feedback": 1,
         "_deepnote_index_column": 1755
        },
        {
         "id": 9713167,
         "prob_positive_feedback": 0.8367346938775511,
         "_deepnote_index_column": 1756
        },
        {
         "id": 972878,
         "prob_positive_feedback": 0.8186813186813187,
         "_deepnote_index_column": 1757
        },
        {
         "id": 9731339,
         "prob_positive_feedback": 0.8033707865168539,
         "_deepnote_index_column": 1758
        },
        {
         "id": 9737869,
         "prob_positive_feedback": 0.717391304347826,
         "_deepnote_index_column": 1759
        },
        {
         "id": 9753450,
         "prob_positive_feedback": 0.7741935483870968,
         "_deepnote_index_column": 1760
        },
        {
         "id": 9773468,
         "prob_positive_feedback": 0.5,
         "_deepnote_index_column": 1761
        },
        {
         "id": 977492,
         "prob_positive_feedback": 0.8539638386648123,
         "_deepnote_index_column": 1762
        },
        {
         "id": 9776221,
         "prob_positive_feedback": 0.8518518518518519,
         "_deepnote_index_column": 1763
        },
        {
         "id": 9778522,
         "prob_positive_feedback": 1,
         "_deepnote_index_column": 1764
        },
        {
         "id": 980424,
         "prob_positive_feedback": 0.8607142857142858,
         "_deepnote_index_column": 1765
        },
        {
         "id": 9813603,
         "prob_positive_feedback": 0.6153846153846154,
         "_deepnote_index_column": 1766
        },
        {
         "id": 9822958,
         "prob_positive_feedback": 0.7587548638132295,
         "_deepnote_index_column": 1767
        },
        {
         "id": 983864,
         "prob_positive_feedback": 0.7724550898203593,
         "_deepnote_index_column": 1768
        },
        {
         "id": 9840250,
         "prob_positive_feedback": 0.925925925925926,
         "_deepnote_index_column": 1769
        },
        {
         "id": 9902174,
         "prob_positive_feedback": 0.8235294117647058,
         "_deepnote_index_column": 1770
        },
        {
         "id": 9903299,
         "prob_positive_feedback": 0.775,
         "_deepnote_index_column": 1771
        },
        {
         "id": 9909751,
         "prob_positive_feedback": "nan",
         "_deepnote_index_column": 1772
        },
        {
         "id": 9917865,
         "prob_positive_feedback": 0.7466666666666667,
         "_deepnote_index_column": 1773
        },
        {
         "id": 9924242,
         "prob_positive_feedback": 0.8,
         "_deepnote_index_column": 1774
        },
        {
         "id": 9934794,
         "prob_positive_feedback": 0.75,
         "_deepnote_index_column": 1775
        },
        {
         "id": 9935362,
         "prob_positive_feedback": 0.8262910798122066,
         "_deepnote_index_column": 1776
        },
        {
         "id": 9936343,
         "prob_positive_feedback": 0.8203592814371258,
         "_deepnote_index_column": 1777
        },
        {
         "id": 9941582,
         "prob_positive_feedback": 0.7272727272727273,
         "_deepnote_index_column": 1778
        },
        {
         "id": 9951914,
         "prob_positive_feedback": 0.5,
         "_deepnote_index_column": 1779
        },
        {
         "id": 996332,
         "prob_positive_feedback": 0.7883597883597884,
         "_deepnote_index_column": 1780
        },
        {
         "id": 999823,
         "prob_positive_feedback": 0.8408163265306122,
         "_deepnote_index_column": 1781
        }
       ]
      },
      "text/plain": "            id  prob_positive_feedback\n0      1001303                0.835443\n1     10062315                     NaN\n2     10069202                0.856672\n3     10069609                0.857143\n4     10071238                0.791667\n...        ...                     ...\n1777   9936343                0.820359\n1778   9941582                0.727273\n1779   9951914                0.500000\n1780    996332                0.788360\n1781    999823                0.840816\n\n[1782 rows x 2 columns]",
      "text/html": "<div>\n<style scoped>\n    .dataframe tbody tr th:only-of-type {\n        vertical-align: middle;\n    }\n\n    .dataframe tbody tr th {\n        vertical-align: top;\n    }\n\n    .dataframe thead th {\n        text-align: right;\n    }\n</style>\n<table border=\"1\" class=\"dataframe\">\n  <thead>\n    <tr style=\"text-align: right;\">\n      <th></th>\n      <th>id</th>\n      <th>prob_positive_feedback</th>\n    </tr>\n  </thead>\n  <tbody>\n    <tr>\n      <th>0</th>\n      <td>1001303</td>\n      <td>0.835443</td>\n    </tr>\n    <tr>\n      <th>1</th>\n      <td>10062315</td>\n      <td>NaN</td>\n    </tr>\n    <tr>\n      <th>2</th>\n      <td>10069202</td>\n      <td>0.856672</td>\n    </tr>\n    <tr>\n      <th>3</th>\n      <td>10069609</td>\n      <td>0.857143</td>\n    </tr>\n    <tr>\n      <th>4</th>\n      <td>10071238</td>\n      <td>0.791667</td>\n    </tr>\n    <tr>\n      <th>...</th>\n      <td>...</td>\n      <td>...</td>\n    </tr>\n    <tr>\n      <th>1777</th>\n      <td>9936343</td>\n      <td>0.820359</td>\n    </tr>\n    <tr>\n      <th>1778</th>\n      <td>9941582</td>\n      <td>0.727273</td>\n    </tr>\n    <tr>\n      <th>1779</th>\n      <td>9951914</td>\n      <td>0.500000</td>\n    </tr>\n    <tr>\n      <th>1780</th>\n      <td>996332</td>\n      <td>0.788360</td>\n    </tr>\n    <tr>\n      <th>1781</th>\n      <td>999823</td>\n      <td>0.840816</td>\n    </tr>\n  </tbody>\n</table>\n<p>1782 rows × 2 columns</p>\n</div>"
     },
     "metadata": {}
    }
   ]
  },
  {
   "cell_type": "code",
   "metadata": {
    "cell_id": "00028-67bc15af-33af-40e6-887e-77f94b4d4968",
    "deepnote_to_be_reexecuted": false,
    "source_hash": "9f8861d5",
    "execution_start": 1626543665850,
    "execution_millis": 139,
    "deepnote_cell_type": "code"
   },
   "source": "data = pd.merge(feedback_score, listings, on=['id'], how='left')\ndata",
   "execution_count": null,
   "outputs": [
    {
     "output_type": "execute_result",
     "execution_count": 33,
     "data": {
      "application/vnd.deepnote.dataframe.v2+json": {
       "row_count": 1782,
       "column_count": 19,
       "columns": [
        {
         "name": "id",
         "dtype": "int64",
         "stats": {
          "unique_count": 1782,
          "nan_count": 0,
          "min": "2265",
          "max": "17345973",
          "histogram": [
           {
            "bin_start": 2265,
            "bin_end": 1736635.8,
            "count": 299
           },
           {
            "bin_start": 1736635.8,
            "bin_end": 3471006.6,
            "count": 169
           },
           {
            "bin_start": 3471006.6,
            "bin_end": 5205377.4,
            "count": 195
           },
           {
            "bin_start": 5205377.4,
            "bin_end": 6939748.2,
            "count": 233
           },
           {
            "bin_start": 6939748.2,
            "bin_end": 8674119,
            "count": 177
           },
           {
            "bin_start": 8674119,
            "bin_end": 10408489.8,
            "count": 97
           },
           {
            "bin_start": 10408489.8,
            "bin_end": 12142860.6,
            "count": 226
           },
           {
            "bin_start": 12142860.6,
            "bin_end": 13877231.4,
            "count": 100
           },
           {
            "bin_start": 13877231.4,
            "bin_end": 15611602.200000001,
            "count": 182
           },
           {
            "bin_start": 15611602.200000001,
            "bin_end": 17345973,
            "count": 104
           }
          ]
         }
        },
        {
         "name": "prob_positive_feedback",
         "dtype": "float64",
         "stats": {
          "unique_count": 865,
          "nan_count": 16,
          "min": "0.0",
          "max": "1.0",
          "histogram": [
           {
            "bin_start": 0,
            "bin_end": 0.1,
            "count": 7
           },
           {
            "bin_start": 0.1,
            "bin_end": 0.2,
            "count": 0
           },
           {
            "bin_start": 0.2,
            "bin_end": 0.30000000000000004,
            "count": 4
           },
           {
            "bin_start": 0.30000000000000004,
            "bin_end": 0.4,
            "count": 0
           },
           {
            "bin_start": 0.4,
            "bin_end": 0.5,
            "count": 6
           },
           {
            "bin_start": 0.5,
            "bin_end": 0.6000000000000001,
            "count": 61
           },
           {
            "bin_start": 0.6000000000000001,
            "bin_end": 0.7000000000000001,
            "count": 109
           },
           {
            "bin_start": 0.7000000000000001,
            "bin_end": 0.8,
            "count": 506
           },
           {
            "bin_start": 0.8,
            "bin_end": 0.9,
            "count": 816
           },
           {
            "bin_start": 0.9,
            "bin_end": 1,
            "count": 257
           }
          ]
         }
        },
        {
         "name": "accommodates",
         "dtype": "float64",
         "stats": {
          "unique_count": 16,
          "nan_count": 0,
          "min": "1.0",
          "max": "16.0",
          "histogram": [
           {
            "bin_start": 1,
            "bin_end": 2.5,
            "count": 571
           },
           {
            "bin_start": 2.5,
            "bin_end": 4,
            "count": 145
           },
           {
            "bin_start": 4,
            "bin_end": 5.5,
            "count": 468
           },
           {
            "bin_start": 5.5,
            "bin_end": 7,
            "count": 265
           },
           {
            "bin_start": 7,
            "bin_end": 8.5,
            "count": 176
           },
           {
            "bin_start": 8.5,
            "bin_end": 10,
            "count": 12
           },
           {
            "bin_start": 10,
            "bin_end": 11.5,
            "count": 88
           },
           {
            "bin_start": 11.5,
            "bin_end": 13,
            "count": 30
           },
           {
            "bin_start": 13,
            "bin_end": 14.5,
            "count": 12
           },
           {
            "bin_start": 14.5,
            "bin_end": 16,
            "count": 15
           }
          ]
         }
        },
        {
         "name": "availability_30",
         "dtype": "int64",
         "stats": {
          "unique_count": 31,
          "nan_count": 0,
          "min": "0",
          "max": "30",
          "histogram": [
           {
            "bin_start": 0,
            "bin_end": 3,
            "count": 525
           },
           {
            "bin_start": 3,
            "bin_end": 6,
            "count": 157
           },
           {
            "bin_start": 6,
            "bin_end": 9,
            "count": 144
           },
           {
            "bin_start": 9,
            "bin_end": 12,
            "count": 187
           },
           {
            "bin_start": 12,
            "bin_end": 15,
            "count": 173
           },
           {
            "bin_start": 15,
            "bin_end": 18,
            "count": 159
           },
           {
            "bin_start": 18,
            "bin_end": 21,
            "count": 149
           },
           {
            "bin_start": 21,
            "bin_end": 24,
            "count": 128
           },
           {
            "bin_start": 24,
            "bin_end": 27,
            "count": 63
           },
           {
            "bin_start": 27,
            "bin_end": 30,
            "count": 97
           }
          ]
         }
        },
        {
         "name": "bathrooms",
         "dtype": "float64",
         "stats": {
          "unique_count": 14,
          "nan_count": 0,
          "min": "0.0",
          "max": "7.0",
          "histogram": [
           {
            "bin_start": 0,
            "bin_end": 0.7,
            "count": 8
           },
           {
            "bin_start": 0.7,
            "bin_end": 1.4,
            "count": 1117
           },
           {
            "bin_start": 1.4,
            "bin_end": 2.0999999999999996,
            "count": 399
           },
           {
            "bin_start": 2.0999999999999996,
            "bin_end": 2.8,
            "count": 129
           },
           {
            "bin_start": 2.8,
            "bin_end": 3.5,
            "count": 68
           },
           {
            "bin_start": 3.5,
            "bin_end": 4.199999999999999,
            "count": 47
           },
           {
            "bin_start": 4.199999999999999,
            "bin_end": 4.8999999999999995,
            "count": 6
           },
           {
            "bin_start": 4.8999999999999995,
            "bin_end": 5.6,
            "count": 6
           },
           {
            "bin_start": 5.6,
            "bin_end": 6.3,
            "count": 1
           },
           {
            "bin_start": 6.3,
            "bin_end": 7,
            "count": 1
           }
          ]
         }
        },
        {
         "name": "bedrooms",
         "dtype": "float64",
         "stats": {
          "unique_count": 10,
          "nan_count": 0,
          "min": "0.0",
          "max": "10.0",
          "histogram": [
           {
            "bin_start": 0,
            "bin_end": 1,
            "count": 138
           },
           {
            "bin_start": 1,
            "bin_end": 2,
            "count": 814
           },
           {
            "bin_start": 2,
            "bin_end": 3,
            "count": 392
           },
           {
            "bin_start": 3,
            "bin_end": 4,
            "count": 269
           },
           {
            "bin_start": 4,
            "bin_end": 5,
            "count": 120
           },
           {
            "bin_start": 5,
            "bin_end": 6,
            "count": 33
           },
           {
            "bin_start": 6,
            "bin_end": 7,
            "count": 7
           },
           {
            "bin_start": 7,
            "bin_end": 8,
            "count": 6
           },
           {
            "bin_start": 8,
            "bin_end": 9,
            "count": 1
           },
           {
            "bin_start": 9,
            "bin_end": 10,
            "count": 2
           }
          ]
         }
        },
        {
         "name": "beds",
         "dtype": "float64",
         "stats": {
          "unique_count": 15,
          "nan_count": 0,
          "min": "1.0",
          "max": "16.0",
          "histogram": [
           {
            "bin_start": 1,
            "bin_end": 2.5,
            "count": 1135
           },
           {
            "bin_start": 2.5,
            "bin_end": 4,
            "count": 292
           },
           {
            "bin_start": 4,
            "bin_end": 5.5,
            "count": 241
           },
           {
            "bin_start": 5.5,
            "bin_end": 7,
            "count": 42
           },
           {
            "bin_start": 7,
            "bin_end": 8.5,
            "count": 42
           },
           {
            "bin_start": 8.5,
            "bin_end": 10,
            "count": 9
           },
           {
            "bin_start": 10,
            "bin_end": 11.5,
            "count": 11
           },
           {
            "bin_start": 11.5,
            "bin_end": 13,
            "count": 5
           },
           {
            "bin_start": 13,
            "bin_end": 14.5,
            "count": 1
           },
           {
            "bin_start": 14.5,
            "bin_end": 16,
            "count": 4
           }
          ]
         }
        },
        {
         "name": "name",
         "dtype": "object",
         "stats": {
          "unique_count": 1778,
          "nan_count": 0,
          "categories": [
           {
            "name": "East Austin Bungalow",
            "count": 3
           },
           {
            "name": "South Austin Creekside Retreat",
            "count": 2
           },
           {
            "name": "1776 others",
            "count": 1777
           }
          ]
         }
        },
        {
         "name": "price",
         "dtype": "float64",
         "stats": {
          "unique_count": 310,
          "nan_count": 0,
          "min": "14.0",
          "max": "10000.0",
          "histogram": [
           {
            "bin_start": 14,
            "bin_end": 1012.6,
            "count": 1751
           },
           {
            "bin_start": 1012.6,
            "bin_end": 2011.2,
            "count": 27
           },
           {
            "bin_start": 2011.2,
            "bin_end": 3009.8,
            "count": 2
           },
           {
            "bin_start": 3009.8,
            "bin_end": 4008.4,
            "count": 0
           },
           {
            "bin_start": 4008.4,
            "bin_end": 5007,
            "count": 0
           },
           {
            "bin_start": 5007,
            "bin_end": 6005.6,
            "count": 0
           },
           {
            "bin_start": 6005.6,
            "bin_end": 7004.2,
            "count": 1
           },
           {
            "bin_start": 7004.2,
            "bin_end": 8002.8,
            "count": 0
           },
           {
            "bin_start": 8002.8,
            "bin_end": 9001.4,
            "count": 0
           },
           {
            "bin_start": 9001.4,
            "bin_end": 10000,
            "count": 1
           }
          ]
         }
        },
        {
         "name": "review_scores_rating",
         "dtype": "float64",
         "stats": {
          "unique_count": 26,
          "nan_count": 0,
          "min": "40.0",
          "max": "100.0",
          "histogram": [
           {
            "bin_start": 40,
            "bin_end": 46,
            "count": 1
           },
           {
            "bin_start": 46,
            "bin_end": 52,
            "count": 0
           },
           {
            "bin_start": 52,
            "bin_end": 58,
            "count": 0
           },
           {
            "bin_start": 58,
            "bin_end": 64,
            "count": 6
           },
           {
            "bin_start": 64,
            "bin_end": 70,
            "count": 1
           },
           {
            "bin_start": 70,
            "bin_end": 76,
            "count": 5
           },
           {
            "bin_start": 76,
            "bin_end": 82,
            "count": 57
           },
           {
            "bin_start": 82,
            "bin_end": 88,
            "count": 33
           },
           {
            "bin_start": 88,
            "bin_end": 94,
            "count": 190
           },
           {
            "bin_start": 94,
            "bin_end": 100,
            "count": 1489
           }
          ]
         }
        },
        {
         "name": "state",
         "dtype": "object",
         "stats": {
          "unique_count": 1,
          "nan_count": 0,
          "categories": [
           {
            "name": "TX",
            "count": 1782
           }
          ]
         }
        },
        {
         "name": "cancellation_policy_flexible",
         "dtype": "uint8",
         "stats": {
          "unique_count": 2,
          "nan_count": 0,
          "min": "0",
          "max": "1",
          "histogram": [
           {
            "bin_start": 0,
            "bin_end": 0.1,
            "count": 1388
           },
           {
            "bin_start": 0.1,
            "bin_end": 0.2,
            "count": 0
           },
           {
            "bin_start": 0.2,
            "bin_end": 0.30000000000000004,
            "count": 0
           },
           {
            "bin_start": 0.30000000000000004,
            "bin_end": 0.4,
            "count": 0
           },
           {
            "bin_start": 0.4,
            "bin_end": 0.5,
            "count": 0
           },
           {
            "bin_start": 0.5,
            "bin_end": 0.6000000000000001,
            "count": 0
           },
           {
            "bin_start": 0.6000000000000001,
            "bin_end": 0.7000000000000001,
            "count": 0
           },
           {
            "bin_start": 0.7000000000000001,
            "bin_end": 0.8,
            "count": 0
           },
           {
            "bin_start": 0.8,
            "bin_end": 0.9,
            "count": 0
           },
           {
            "bin_start": 0.9,
            "bin_end": 1,
            "count": 394
           }
          ]
         }
        },
        {
         "name": "cancellation_policy_moderate",
         "dtype": "uint8",
         "stats": {
          "unique_count": 2,
          "nan_count": 0,
          "min": "0",
          "max": "1",
          "histogram": [
           {
            "bin_start": 0,
            "bin_end": 0.1,
            "count": 1328
           },
           {
            "bin_start": 0.1,
            "bin_end": 0.2,
            "count": 0
           },
           {
            "bin_start": 0.2,
            "bin_end": 0.30000000000000004,
            "count": 0
           },
           {
            "bin_start": 0.30000000000000004,
            "bin_end": 0.4,
            "count": 0
           },
           {
            "bin_start": 0.4,
            "bin_end": 0.5,
            "count": 0
           },
           {
            "bin_start": 0.5,
            "bin_end": 0.6000000000000001,
            "count": 0
           },
           {
            "bin_start": 0.6000000000000001,
            "bin_end": 0.7000000000000001,
            "count": 0
           },
           {
            "bin_start": 0.7000000000000001,
            "bin_end": 0.8,
            "count": 0
           },
           {
            "bin_start": 0.8,
            "bin_end": 0.9,
            "count": 0
           },
           {
            "bin_start": 0.9,
            "bin_end": 1,
            "count": 454
           }
          ]
         }
        },
        {
         "name": "cancellation_policy_strict",
         "dtype": "uint8",
         "stats": {
          "unique_count": 2,
          "nan_count": 0,
          "min": "0",
          "max": "1",
          "histogram": [
           {
            "bin_start": 0,
            "bin_end": 0.1,
            "count": 856
           },
           {
            "bin_start": 0.1,
            "bin_end": 0.2,
            "count": 0
           },
           {
            "bin_start": 0.2,
            "bin_end": 0.30000000000000004,
            "count": 0
           },
           {
            "bin_start": 0.30000000000000004,
            "bin_end": 0.4,
            "count": 0
           },
           {
            "bin_start": 0.4,
            "bin_end": 0.5,
            "count": 0
           },
           {
            "bin_start": 0.5,
            "bin_end": 0.6000000000000001,
            "count": 0
           },
           {
            "bin_start": 0.6000000000000001,
            "bin_end": 0.7000000000000001,
            "count": 0
           },
           {
            "bin_start": 0.7000000000000001,
            "bin_end": 0.8,
            "count": 0
           },
           {
            "bin_start": 0.8,
            "bin_end": 0.9,
            "count": 0
           },
           {
            "bin_start": 0.9,
            "bin_end": 1,
            "count": 926
           }
          ]
         }
        },
        {
         "name": "cancellation_policy_super_strict_30",
         "dtype": "uint8",
         "stats": {
          "unique_count": 2,
          "nan_count": 0,
          "min": "0",
          "max": "1",
          "histogram": [
           {
            "bin_start": 0,
            "bin_end": 0.1,
            "count": 1774
           },
           {
            "bin_start": 0.1,
            "bin_end": 0.2,
            "count": 0
           },
           {
            "bin_start": 0.2,
            "bin_end": 0.30000000000000004,
            "count": 0
           },
           {
            "bin_start": 0.30000000000000004,
            "bin_end": 0.4,
            "count": 0
           },
           {
            "bin_start": 0.4,
            "bin_end": 0.5,
            "count": 0
           },
           {
            "bin_start": 0.5,
            "bin_end": 0.6000000000000001,
            "count": 0
           },
           {
            "bin_start": 0.6000000000000001,
            "bin_end": 0.7000000000000001,
            "count": 0
           },
           {
            "bin_start": 0.7000000000000001,
            "bin_end": 0.8,
            "count": 0
           },
           {
            "bin_start": 0.8,
            "bin_end": 0.9,
            "count": 0
           },
           {
            "bin_start": 0.9,
            "bin_end": 1,
            "count": 8
           }
          ]
         }
        },
        {
         "name": "cancellation_policy_super_strict_60",
         "dtype": "uint8",
         "stats": {
          "unique_count": 1,
          "nan_count": 0,
          "min": "0",
          "max": "0",
          "histogram": [
           {
            "bin_start": -0.5,
            "bin_end": -0.4,
            "count": 0
           },
           {
            "bin_start": -0.4,
            "bin_end": -0.3,
            "count": 0
           },
           {
            "bin_start": -0.3,
            "bin_end": -0.19999999999999996,
            "count": 0
           },
           {
            "bin_start": -0.19999999999999996,
            "bin_end": -0.09999999999999998,
            "count": 0
           },
           {
            "bin_start": -0.09999999999999998,
            "bin_end": 0,
            "count": 0
           },
           {
            "bin_start": 0,
            "bin_end": 0.10000000000000009,
            "count": 1782
           },
           {
            "bin_start": 0.10000000000000009,
            "bin_end": 0.20000000000000007,
            "count": 0
           },
           {
            "bin_start": 0.20000000000000007,
            "bin_end": 0.30000000000000004,
            "count": 0
           },
           {
            "bin_start": 0.30000000000000004,
            "bin_end": 0.4,
            "count": 0
           },
           {
            "bin_start": 0.4,
            "bin_end": 0.5,
            "count": 0
           }
          ]
         }
        },
        {
         "name": "instant_bookable_f",
         "dtype": "uint8",
         "stats": {
          "unique_count": 2,
          "nan_count": 0,
          "min": "0",
          "max": "1",
          "histogram": [
           {
            "bin_start": 0,
            "bin_end": 0.1,
            "count": 386
           },
           {
            "bin_start": 0.1,
            "bin_end": 0.2,
            "count": 0
           },
           {
            "bin_start": 0.2,
            "bin_end": 0.30000000000000004,
            "count": 0
           },
           {
            "bin_start": 0.30000000000000004,
            "bin_end": 0.4,
            "count": 0
           },
           {
            "bin_start": 0.4,
            "bin_end": 0.5,
            "count": 0
           },
           {
            "bin_start": 0.5,
            "bin_end": 0.6000000000000001,
            "count": 0
           },
           {
            "bin_start": 0.6000000000000001,
            "bin_end": 0.7000000000000001,
            "count": 0
           },
           {
            "bin_start": 0.7000000000000001,
            "bin_end": 0.8,
            "count": 0
           },
           {
            "bin_start": 0.8,
            "bin_end": 0.9,
            "count": 0
           },
           {
            "bin_start": 0.9,
            "bin_end": 1,
            "count": 1396
           }
          ]
         }
        },
        {
         "name": "instant_bookable_t",
         "dtype": "uint8",
         "stats": {
          "unique_count": 2,
          "nan_count": 0,
          "min": "0",
          "max": "1",
          "histogram": [
           {
            "bin_start": 0,
            "bin_end": 0.1,
            "count": 1396
           },
           {
            "bin_start": 0.1,
            "bin_end": 0.2,
            "count": 0
           },
           {
            "bin_start": 0.2,
            "bin_end": 0.30000000000000004,
            "count": 0
           },
           {
            "bin_start": 0.30000000000000004,
            "bin_end": 0.4,
            "count": 0
           },
           {
            "bin_start": 0.4,
            "bin_end": 0.5,
            "count": 0
           },
           {
            "bin_start": 0.5,
            "bin_end": 0.6000000000000001,
            "count": 0
           },
           {
            "bin_start": 0.6000000000000001,
            "bin_end": 0.7000000000000001,
            "count": 0
           },
           {
            "bin_start": 0.7000000000000001,
            "bin_end": 0.8,
            "count": 0
           },
           {
            "bin_start": 0.8,
            "bin_end": 0.9,
            "count": 0
           },
           {
            "bin_start": 0.9,
            "bin_end": 1,
            "count": 386
           }
          ]
         }
        },
        {
         "name": "amen_group_household",
         "dtype": "int64",
         "stats": {
          "unique_count": 12,
          "nan_count": 0,
          "min": "0",
          "max": "11",
          "histogram": [
           {
            "bin_start": 0,
            "bin_end": 1.1,
            "count": 21
           },
           {
            "bin_start": 1.1,
            "bin_end": 2.2,
            "count": 50
           },
           {
            "bin_start": 2.2,
            "bin_end": 3.3000000000000003,
            "count": 174
           },
           {
            "bin_start": 3.3000000000000003,
            "bin_end": 4.4,
            "count": 285
           },
           {
            "bin_start": 4.4,
            "bin_end": 5.5,
            "count": 384
           },
           {
            "bin_start": 5.5,
            "bin_end": 6.6000000000000005,
            "count": 410
           },
           {
            "bin_start": 6.6000000000000005,
            "bin_end": 7.700000000000001,
            "count": 296
           },
           {
            "bin_start": 7.700000000000001,
            "bin_end": 8.8,
            "count": 124
           },
           {
            "bin_start": 8.8,
            "bin_end": 9.9,
            "count": 30
           },
           {
            "bin_start": 9.9,
            "bin_end": 11,
            "count": 8
           }
          ]
         }
        },
        {
         "name": "_deepnote_index_column",
         "dtype": "int64"
        }
       ],
       "rows_top": [
        {
         "id": 1001303,
         "prob_positive_feedback": 0.8354430379746836,
         "accommodates": 7,
         "availability_30": 22,
         "bathrooms": 2,
         "bedrooms": 3,
         "beds": 3,
         "name": "Contemporary Brentwood Cottage",
         "price": 250,
         "review_scores_rating": 100,
         "state": "TX",
         "cancellation_policy_flexible": 0,
         "cancellation_policy_moderate": 0,
         "cancellation_policy_strict": 1,
         "cancellation_policy_super_strict_30": 0,
         "cancellation_policy_super_strict_60": 0,
         "instant_bookable_f": 1,
         "instant_bookable_t": 0,
         "amen_group_household": 8,
         "_deepnote_index_column": 0
        },
        {
         "id": 10062315,
         "prob_positive_feedback": "nan",
         "accommodates": 7,
         "availability_30": 0,
         "bathrooms": 2.5,
         "bedrooms": 3,
         "beds": 3,
         "name": "Neighborhood Condo, DT Views",
         "price": 649,
         "review_scores_rating": 100,
         "state": "TX",
         "cancellation_policy_flexible": 0,
         "cancellation_policy_moderate": 0,
         "cancellation_policy_strict": 1,
         "cancellation_policy_super_strict_30": 0,
         "cancellation_policy_super_strict_60": 0,
         "instant_bookable_f": 1,
         "instant_bookable_t": 0,
         "amen_group_household": 8,
         "_deepnote_index_column": 1
        },
        {
         "id": 10069202,
         "prob_positive_feedback": 0.85667215815486,
         "accommodates": 4,
         "availability_30": 13,
         "bathrooms": 1,
         "bedrooms": 1,
         "beds": 2,
         "name": "PRIME walking distance from ACL, shopping, bars!",
         "price": 130,
         "review_scores_rating": 97,
         "state": "TX",
         "cancellation_policy_flexible": 0,
         "cancellation_policy_moderate": 1,
         "cancellation_policy_strict": 0,
         "cancellation_policy_super_strict_30": 0,
         "cancellation_policy_super_strict_60": 0,
         "instant_bookable_f": 1,
         "instant_bookable_t": 0,
         "amen_group_household": 7,
         "_deepnote_index_column": 2
        },
        {
         "id": 10069609,
         "prob_positive_feedback": 0.8571428571428571,
         "accommodates": 12,
         "availability_30": 23,
         "bathrooms": 3,
         "bedrooms": 4,
         "beds": 5,
         "name": "Charming Rosedale Home Sleeps 12!",
         "price": 300,
         "review_scores_rating": 93,
         "state": "TX",
         "cancellation_policy_flexible": 0,
         "cancellation_policy_moderate": 0,
         "cancellation_policy_strict": 1,
         "cancellation_policy_super_strict_30": 0,
         "cancellation_policy_super_strict_60": 0,
         "instant_bookable_f": 1,
         "instant_bookable_t": 0,
         "amen_group_household": 7,
         "_deepnote_index_column": 3
        },
        {
         "id": 10071238,
         "prob_positive_feedback": 0.7916666666666666,
         "accommodates": 8,
         "availability_30": 13,
         "bathrooms": 2,
         "bedrooms": 4,
         "beds": 5,
         "name": "Hancock Modern, Home Away from Home",
         "price": 215,
         "review_scores_rating": 93,
         "state": "TX",
         "cancellation_policy_flexible": 0,
         "cancellation_policy_moderate": 0,
         "cancellation_policy_strict": 1,
         "cancellation_policy_super_strict_30": 0,
         "cancellation_policy_super_strict_60": 0,
         "instant_bookable_f": 0,
         "instant_bookable_t": 1,
         "amen_group_household": 6,
         "_deepnote_index_column": 4
        },
        {
         "id": 10071591,
         "prob_positive_feedback": 0.6923076923076923,
         "accommodates": 10,
         "availability_30": 16,
         "bathrooms": 3.5,
         "bedrooms": 4,
         "beds": 5,
         "name": "SXSW and Formula 1 - Sleeps 10! CHIC!",
         "price": 1800,
         "review_scores_rating": 100,
         "state": "TX",
         "cancellation_policy_flexible": 0,
         "cancellation_policy_moderate": 0,
         "cancellation_policy_strict": 1,
         "cancellation_policy_super_strict_30": 0,
         "cancellation_policy_super_strict_60": 0,
         "instant_bookable_f": 0,
         "instant_bookable_t": 1,
         "amen_group_household": 7,
         "_deepnote_index_column": 5
        },
        {
         "id": 10096170,
         "prob_positive_feedback": 0.7727272727272727,
         "accommodates": 2,
         "availability_30": 0,
         "bathrooms": 1,
         "bedrooms": 1,
         "beds": 4,
         "name": "Comfortable Bed #1, Free Wifi",
         "price": 25,
         "review_scores_rating": 98,
         "state": "TX",
         "cancellation_policy_flexible": 0,
         "cancellation_policy_moderate": 1,
         "cancellation_policy_strict": 0,
         "cancellation_policy_super_strict_30": 0,
         "cancellation_policy_super_strict_60": 0,
         "instant_bookable_f": 1,
         "instant_bookable_t": 0,
         "amen_group_household": 3,
         "_deepnote_index_column": 6
        },
        {
         "id": 1013629,
         "prob_positive_feedback": 0.7874564459930313,
         "accommodates": 2,
         "availability_30": 12,
         "bathrooms": 1,
         "bedrooms": 0,
         "beds": 1,
         "name": "Eastside Private Studio + Bike",
         "price": 99,
         "review_scores_rating": 100,
         "state": "TX",
         "cancellation_policy_flexible": 0,
         "cancellation_policy_moderate": 1,
         "cancellation_policy_strict": 0,
         "cancellation_policy_super_strict_30": 0,
         "cancellation_policy_super_strict_60": 0,
         "instant_bookable_f": 0,
         "instant_bookable_t": 1,
         "amen_group_household": 6,
         "_deepnote_index_column": 7
        },
        {
         "id": 10209163,
         "prob_positive_feedback": 0.8888888888888888,
         "accommodates": 4,
         "availability_30": 0,
         "bathrooms": 1,
         "bedrooms": 1,
         "beds": 2,
         "name": "1 Bdrm Condo; 1 Blk to UT;  1 mi DT Austin",
         "price": 129,
         "review_scores_rating": 100,
         "state": "TX",
         "cancellation_policy_flexible": 0,
         "cancellation_policy_moderate": 1,
         "cancellation_policy_strict": 0,
         "cancellation_policy_super_strict_30": 0,
         "cancellation_policy_super_strict_60": 0,
         "instant_bookable_f": 1,
         "instant_bookable_t": 0,
         "amen_group_household": 4,
         "_deepnote_index_column": 8
        },
        {
         "id": 1024597,
         "prob_positive_feedback": 0.6896551724137931,
         "accommodates": 1,
         "availability_30": 13,
         "bathrooms": 1,
         "bedrooms": 1,
         "beds": 1,
         "name": "Blue Room Downtown Mansion",
         "price": 137,
         "review_scores_rating": 96,
         "state": "TX",
         "cancellation_policy_flexible": 0,
         "cancellation_policy_moderate": 1,
         "cancellation_policy_strict": 0,
         "cancellation_policy_super_strict_30": 0,
         "cancellation_policy_super_strict_60": 0,
         "instant_bookable_f": 1,
         "instant_bookable_t": 0,
         "amen_group_household": 3,
         "_deepnote_index_column": 9
        },
        {
         "id": 10254489,
         "prob_positive_feedback": 0.7840909090909091,
         "accommodates": 4,
         "availability_30": 20,
         "bathrooms": 1,
         "bedrooms": 2,
         "beds": 2,
         "name": "Hyde Park Historic District Home",
         "price": 132,
         "review_scores_rating": 90,
         "state": "TX",
         "cancellation_policy_flexible": 0,
         "cancellation_policy_moderate": 0,
         "cancellation_policy_strict": 1,
         "cancellation_policy_super_strict_30": 0,
         "cancellation_policy_super_strict_60": 0,
         "instant_bookable_f": 1,
         "instant_bookable_t": 0,
         "amen_group_household": 5,
         "_deepnote_index_column": 10
        },
        {
         "id": 10268403,
         "prob_positive_feedback": 1,
         "accommodates": 4,
         "availability_30": 18,
         "bathrooms": 1,
         "bedrooms": 2,
         "beds": 2,
         "name": "SXSW Nakashima Cottage 3.15.17-3.19.17 lake-trail",
         "price": 275,
         "review_scores_rating": 100,
         "state": "TX",
         "cancellation_policy_flexible": 0,
         "cancellation_policy_moderate": 0,
         "cancellation_policy_strict": 1,
         "cancellation_policy_super_strict_30": 0,
         "cancellation_policy_super_strict_60": 0,
         "instant_bookable_f": 1,
         "instant_bookable_t": 0,
         "amen_group_household": 4,
         "_deepnote_index_column": 11
        },
        {
         "id": 10273573,
         "prob_positive_feedback": 0.75,
         "accommodates": 5,
         "availability_30": 0,
         "bathrooms": 1,
         "bedrooms": 1,
         "beds": 1,
         "name": "Cozy apartment near downtown!",
         "price": 150,
         "review_scores_rating": 80,
         "state": "TX",
         "cancellation_policy_flexible": 0,
         "cancellation_policy_moderate": 0,
         "cancellation_policy_strict": 1,
         "cancellation_policy_super_strict_30": 0,
         "cancellation_policy_super_strict_60": 0,
         "instant_bookable_f": 1,
         "instant_bookable_t": 0,
         "amen_group_household": 7,
         "_deepnote_index_column": 12
        },
        {
         "id": 10331035,
         "prob_positive_feedback": 0.7569296375266524,
         "accommodates": 4,
         "availability_30": 6,
         "bathrooms": 1,
         "bedrooms": 1,
         "beds": 2,
         "name": "Cool Artistic Treehouse Cabin",
         "price": 139,
         "review_scores_rating": 96,
         "state": "TX",
         "cancellation_policy_flexible": 0,
         "cancellation_policy_moderate": 0,
         "cancellation_policy_strict": 1,
         "cancellation_policy_super_strict_30": 0,
         "cancellation_policy_super_strict_60": 0,
         "instant_bookable_f": 1,
         "instant_bookable_t": 0,
         "amen_group_household": 8,
         "_deepnote_index_column": 13
        },
        {
         "id": 10336181,
         "prob_positive_feedback": 0.8176100628930818,
         "accommodates": 5,
         "availability_30": 19,
         "bathrooms": 1.5,
         "bedrooms": 2,
         "beds": 3,
         "name": "BRAND NEW! Double Rooftop & Modern",
         "price": 149,
         "review_scores_rating": 99,
         "state": "TX",
         "cancellation_policy_flexible": 0,
         "cancellation_policy_moderate": 1,
         "cancellation_policy_strict": 0,
         "cancellation_policy_super_strict_30": 0,
         "cancellation_policy_super_strict_60": 0,
         "instant_bookable_f": 1,
         "instant_bookable_t": 0,
         "amen_group_household": 7,
         "_deepnote_index_column": 14
        },
        {
         "id": 10355760,
         "prob_positive_feedback": 0.813953488372093,
         "accommodates": 2,
         "availability_30": 0,
         "bathrooms": 1,
         "bedrooms": 1,
         "beds": 1,
         "name": "Funky Apartment Near Downtown and Zilker Park!",
         "price": 75,
         "review_scores_rating": 100,
         "state": "TX",
         "cancellation_policy_flexible": 1,
         "cancellation_policy_moderate": 0,
         "cancellation_policy_strict": 0,
         "cancellation_policy_super_strict_30": 0,
         "cancellation_policy_super_strict_60": 0,
         "instant_bookable_f": 1,
         "instant_bookable_t": 0,
         "amen_group_household": 4,
         "_deepnote_index_column": 15
        },
        {
         "id": 10367683,
         "prob_positive_feedback": 0.7674418604651163,
         "accommodates": 6,
         "availability_30": 7,
         "bathrooms": 3.5,
         "bedrooms": 3,
         "beds": 3,
         "name": "3/3 Spacious East Austin House",
         "price": 342,
         "review_scores_rating": 98,
         "state": "TX",
         "cancellation_policy_flexible": 0,
         "cancellation_policy_moderate": 0,
         "cancellation_policy_strict": 1,
         "cancellation_policy_super_strict_30": 0,
         "cancellation_policy_super_strict_60": 0,
         "instant_bookable_f": 1,
         "instant_bookable_t": 0,
         "amen_group_household": 6,
         "_deepnote_index_column": 16
        },
        {
         "id": 10377695,
         "prob_positive_feedback": 0.8,
         "accommodates": 2,
         "availability_30": 0,
         "bathrooms": 0.5,
         "bedrooms": 1,
         "beds": 1,
         "name": "Barton Springs Bungalow Hideaway!",
         "price": 62,
         "review_scores_rating": 95,
         "state": "TX",
         "cancellation_policy_flexible": 1,
         "cancellation_policy_moderate": 0,
         "cancellation_policy_strict": 0,
         "cancellation_policy_super_strict_30": 0,
         "cancellation_policy_super_strict_60": 0,
         "instant_bookable_f": 1,
         "instant_bookable_t": 0,
         "amen_group_household": 4,
         "_deepnote_index_column": 17
        },
        {
         "id": 10382291,
         "prob_positive_feedback": 0.5,
         "accommodates": 2,
         "availability_30": 0,
         "bathrooms": 1,
         "bedrooms": 1,
         "beds": 1,
         "name": "Conveniently located, updated condo",
         "price": 115,
         "review_scores_rating": 90,
         "state": "TX",
         "cancellation_policy_flexible": 0,
         "cancellation_policy_moderate": 1,
         "cancellation_policy_strict": 0,
         "cancellation_policy_super_strict_30": 0,
         "cancellation_policy_super_strict_60": 0,
         "instant_bookable_f": 1,
         "instant_bookable_t": 0,
         "amen_group_household": 6,
         "_deepnote_index_column": 18
        },
        {
         "id": 10408722,
         "prob_positive_feedback": 0.8155339805825242,
         "accommodates": 2,
         "availability_30": 0,
         "bathrooms": 1,
         "bedrooms": 1,
         "beds": 1,
         "name": "New + Modern 1/1 - S. Congress/SoFi",
         "price": 125,
         "review_scores_rating": 97,
         "state": "TX",
         "cancellation_policy_flexible": 0,
         "cancellation_policy_moderate": 0,
         "cancellation_policy_strict": 1,
         "cancellation_policy_super_strict_30": 0,
         "cancellation_policy_super_strict_60": 0,
         "instant_bookable_f": 1,
         "instant_bookable_t": 0,
         "amen_group_household": 7,
         "_deepnote_index_column": 19
        },
        {
         "id": 10412406,
         "prob_positive_feedback": 0.9,
         "accommodates": 2,
         "availability_30": 0,
         "bathrooms": 1,
         "bedrooms": 1,
         "beds": 1,
         "name": "Master Bedroom with private bath",
         "price": 50,
         "review_scores_rating": 100,
         "state": "TX",
         "cancellation_policy_flexible": 1,
         "cancellation_policy_moderate": 0,
         "cancellation_policy_strict": 0,
         "cancellation_policy_super_strict_30": 0,
         "cancellation_policy_super_strict_60": 0,
         "instant_bookable_f": 1,
         "instant_bookable_t": 0,
         "amen_group_household": 4,
         "_deepnote_index_column": 20
        },
        {
         "id": 10415975,
         "prob_positive_feedback": 0.8,
         "accommodates": 10,
         "availability_30": 23,
         "bathrooms": 5,
         "bedrooms": 4,
         "beds": 9,
         "name": "DOWNTOWN - EAST -Walk Everywhere!  Franklin BBQ!",
         "price": 1000,
         "review_scores_rating": 100,
         "state": "TX",
         "cancellation_policy_flexible": 0,
         "cancellation_policy_moderate": 0,
         "cancellation_policy_strict": 1,
         "cancellation_policy_super_strict_30": 0,
         "cancellation_policy_super_strict_60": 0,
         "instant_bookable_f": 1,
         "instant_bookable_t": 0,
         "amen_group_household": 4,
         "_deepnote_index_column": 21
        },
        {
         "id": 10426783,
         "prob_positive_feedback": 0.7881040892193308,
         "accommodates": 4,
         "availability_30": 9,
         "bathrooms": 1,
         "bedrooms": 1,
         "beds": 2,
         "name": "Bouldin Flat - Barton Springs Road",
         "price": 95,
         "review_scores_rating": 98,
         "state": "TX",
         "cancellation_policy_flexible": 0,
         "cancellation_policy_moderate": 0,
         "cancellation_policy_strict": 1,
         "cancellation_policy_super_strict_30": 0,
         "cancellation_policy_super_strict_60": 0,
         "instant_bookable_f": 1,
         "instant_bookable_t": 0,
         "amen_group_household": 5,
         "_deepnote_index_column": 22
        },
        {
         "id": 10438327,
         "prob_positive_feedback": 0.5,
         "accommodates": 4,
         "availability_30": 0,
         "bathrooms": 2,
         "bedrooms": 2,
         "beds": 2,
         "name": "Spacious Condo Near Downtown Austin",
         "price": 250,
         "review_scores_rating": 80,
         "state": "TX",
         "cancellation_policy_flexible": 0,
         "cancellation_policy_moderate": 0,
         "cancellation_policy_strict": 1,
         "cancellation_policy_super_strict_30": 0,
         "cancellation_policy_super_strict_60": 0,
         "instant_bookable_f": 1,
         "instant_bookable_t": 0,
         "amen_group_household": 7,
         "_deepnote_index_column": 23
        },
        {
         "id": 10438383,
         "prob_positive_feedback": 0.6666666666666666,
         "accommodates": 4,
         "availability_30": 0,
         "bathrooms": 1,
         "bedrooms": 1,
         "beds": 1,
         "name": "North Austin Allendale Neighborhood",
         "price": 70,
         "review_scores_rating": 100,
         "state": "TX",
         "cancellation_policy_flexible": 1,
         "cancellation_policy_moderate": 0,
         "cancellation_policy_strict": 0,
         "cancellation_policy_super_strict_30": 0,
         "cancellation_policy_super_strict_60": 0,
         "instant_bookable_f": 1,
         "instant_bookable_t": 0,
         "amen_group_household": 8,
         "_deepnote_index_column": 24
        },
        {
         "id": 10438567,
         "prob_positive_feedback": 0.8560311284046692,
         "accommodates": 2,
         "availability_30": 13,
         "bathrooms": 1,
         "bedrooms": 0,
         "beds": 1,
         "name": "Bouldin Creek Cottage",
         "price": 90,
         "review_scores_rating": 95,
         "state": "TX",
         "cancellation_policy_flexible": 0,
         "cancellation_policy_moderate": 0,
         "cancellation_policy_strict": 1,
         "cancellation_policy_super_strict_30": 0,
         "cancellation_policy_super_strict_60": 0,
         "instant_bookable_f": 0,
         "instant_bookable_t": 1,
         "amen_group_household": 5,
         "_deepnote_index_column": 25
        }
       ],
       "rows_bottom": [
        {
         "id": 9713167,
         "prob_positive_feedback": 0.8367346938775511,
         "accommodates": 2,
         "availability_30": 12,
         "bathrooms": 1,
         "bedrooms": 1,
         "beds": 1,
         "name": "Private Condo | 3 miles to SXSW",
         "price": 109,
         "review_scores_rating": 99,
         "state": "TX",
         "cancellation_policy_flexible": 0,
         "cancellation_policy_moderate": 1,
         "cancellation_policy_strict": 0,
         "cancellation_policy_super_strict_30": 0,
         "cancellation_policy_super_strict_60": 0,
         "instant_bookable_f": 1,
         "instant_bookable_t": 0,
         "amen_group_household": 5,
         "_deepnote_index_column": 1756
        },
        {
         "id": 972878,
         "prob_positive_feedback": 0.8186813186813187,
         "accommodates": 2,
         "availability_30": 12,
         "bathrooms": 1,
         "bedrooms": 1,
         "beds": 1,
         "name": "Faraday Electric Bike Bungalow in Central Austin",
         "price": 89,
         "review_scores_rating": 97,
         "state": "TX",
         "cancellation_policy_flexible": 0,
         "cancellation_policy_moderate": 0,
         "cancellation_policy_strict": 1,
         "cancellation_policy_super_strict_30": 0,
         "cancellation_policy_super_strict_60": 0,
         "instant_bookable_f": 0,
         "instant_bookable_t": 1,
         "amen_group_household": 6,
         "_deepnote_index_column": 1757
        },
        {
         "id": 9731339,
         "prob_positive_feedback": 0.8033707865168539,
         "accommodates": 4,
         "availability_30": 4,
         "bathrooms": 1,
         "bedrooms": 0,
         "beds": 3,
         "name": "Private Austin Clarksville Studio",
         "price": 125,
         "review_scores_rating": 93,
         "state": "TX",
         "cancellation_policy_flexible": 0,
         "cancellation_policy_moderate": 0,
         "cancellation_policy_strict": 1,
         "cancellation_policy_super_strict_30": 0,
         "cancellation_policy_super_strict_60": 0,
         "instant_bookable_f": 1,
         "instant_bookable_t": 0,
         "amen_group_household": 6,
         "_deepnote_index_column": 1758
        },
        {
         "id": 9737869,
         "prob_positive_feedback": 0.717391304347826,
         "accommodates": 4,
         "availability_30": 3,
         "bathrooms": 1,
         "bedrooms": 0,
         "beds": 1,
         "name": "The Cozy Studio",
         "price": 89,
         "review_scores_rating": 97,
         "state": "TX",
         "cancellation_policy_flexible": 0,
         "cancellation_policy_moderate": 0,
         "cancellation_policy_strict": 1,
         "cancellation_policy_super_strict_30": 0,
         "cancellation_policy_super_strict_60": 0,
         "instant_bookable_f": 1,
         "instant_bookable_t": 0,
         "amen_group_household": 5,
         "_deepnote_index_column": 1759
        },
        {
         "id": 9753450,
         "prob_positive_feedback": 0.7741935483870968,
         "accommodates": 2,
         "availability_30": 0,
         "bathrooms": 1,
         "bedrooms": 1,
         "beds": 1,
         "name": "Charming 1940s Eastside Home",
         "price": 92,
         "review_scores_rating": 80,
         "state": "TX",
         "cancellation_policy_flexible": 1,
         "cancellation_policy_moderate": 0,
         "cancellation_policy_strict": 0,
         "cancellation_policy_super_strict_30": 0,
         "cancellation_policy_super_strict_60": 0,
         "instant_bookable_f": 1,
         "instant_bookable_t": 0,
         "amen_group_household": 6,
         "_deepnote_index_column": 1760
        },
        {
         "id": 9773468,
         "prob_positive_feedback": 0.5,
         "accommodates": 4,
         "availability_30": 0,
         "bathrooms": 2,
         "bedrooms": 3,
         "beds": 3,
         "name": "2 bedroom and loft 1 mile from SXSW",
         "price": 300,
         "review_scores_rating": 100,
         "state": "TX",
         "cancellation_policy_flexible": 1,
         "cancellation_policy_moderate": 0,
         "cancellation_policy_strict": 0,
         "cancellation_policy_super_strict_30": 0,
         "cancellation_policy_super_strict_60": 0,
         "instant_bookable_f": 0,
         "instant_bookable_t": 1,
         "amen_group_household": 4,
         "_deepnote_index_column": 1761
        },
        {
         "id": 977492,
         "prob_positive_feedback": 0.8539638386648123,
         "accommodates": 2,
         "availability_30": 12,
         "bathrooms": 1,
         "bedrooms": 1,
         "beds": 1,
         "name": "Private Studio in Modern Crash Pad",
         "price": 128,
         "review_scores_rating": 98,
         "state": "TX",
         "cancellation_policy_flexible": 0,
         "cancellation_policy_moderate": 0,
         "cancellation_policy_strict": 1,
         "cancellation_policy_super_strict_30": 0,
         "cancellation_policy_super_strict_60": 0,
         "instant_bookable_f": 1,
         "instant_bookable_t": 0,
         "amen_group_household": 6,
         "_deepnote_index_column": 1762
        },
        {
         "id": 9776221,
         "prob_positive_feedback": 0.8518518518518519,
         "accommodates": 2,
         "availability_30": 20,
         "bathrooms": 1,
         "bedrooms": 1,
         "beds": 1,
         "name": "Glamping in Central Austin Heating for Cool Nights",
         "price": 40,
         "review_scores_rating": 94,
         "state": "TX",
         "cancellation_policy_flexible": 0,
         "cancellation_policy_moderate": 1,
         "cancellation_policy_strict": 0,
         "cancellation_policy_super_strict_30": 0,
         "cancellation_policy_super_strict_60": 0,
         "instant_bookable_f": 1,
         "instant_bookable_t": 0,
         "amen_group_household": 7,
         "_deepnote_index_column": 1763
        },
        {
         "id": 9778522,
         "prob_positive_feedback": 1,
         "accommodates": 2,
         "availability_30": 0,
         "bathrooms": 1,
         "bedrooms": 1,
         "beds": 1,
         "name": "East Austin Bungalow for SXSW",
         "price": 80,
         "review_scores_rating": 100,
         "state": "TX",
         "cancellation_policy_flexible": 1,
         "cancellation_policy_moderate": 0,
         "cancellation_policy_strict": 0,
         "cancellation_policy_super_strict_30": 0,
         "cancellation_policy_super_strict_60": 0,
         "instant_bookable_f": 0,
         "instant_bookable_t": 1,
         "amen_group_household": 5,
         "_deepnote_index_column": 1764
        },
        {
         "id": 980424,
         "prob_positive_feedback": 0.8607142857142858,
         "accommodates": 15,
         "availability_30": 20,
         "bathrooms": 3,
         "bedrooms": 6,
         "beds": 10,
         "name": "Walk to E 6th, Downtown, 2nd Unit Upgrade Option",
         "price": 600,
         "review_scores_rating": 99,
         "state": "TX",
         "cancellation_policy_flexible": 0,
         "cancellation_policy_moderate": 0,
         "cancellation_policy_strict": 1,
         "cancellation_policy_super_strict_30": 0,
         "cancellation_policy_super_strict_60": 0,
         "instant_bookable_f": 0,
         "instant_bookable_t": 1,
         "amen_group_household": 4,
         "_deepnote_index_column": 1765
        },
        {
         "id": 9813603,
         "prob_positive_feedback": 0.6153846153846154,
         "accommodates": 6,
         "availability_30": 6,
         "bathrooms": 1,
         "bedrooms": 2,
         "beds": 3,
         "name": "Cozy Riverwalk Apartment",
         "price": 95,
         "review_scores_rating": 93,
         "state": "TX",
         "cancellation_policy_flexible": 1,
         "cancellation_policy_moderate": 0,
         "cancellation_policy_strict": 0,
         "cancellation_policy_super_strict_30": 0,
         "cancellation_policy_super_strict_60": 0,
         "instant_bookable_f": 0,
         "instant_bookable_t": 1,
         "amen_group_household": 4,
         "_deepnote_index_column": 1766
        },
        {
         "id": 9822958,
         "prob_positive_feedback": 0.7587548638132295,
         "accommodates": 3,
         "availability_30": 4,
         "bathrooms": 1,
         "bedrooms": 0,
         "beds": 2,
         "name": "Clean, Comfy and Fully Stocked Hyde Park Studio 2",
         "price": 69,
         "review_scores_rating": 99,
         "state": "TX",
         "cancellation_policy_flexible": 0,
         "cancellation_policy_moderate": 1,
         "cancellation_policy_strict": 0,
         "cancellation_policy_super_strict_30": 0,
         "cancellation_policy_super_strict_60": 0,
         "instant_bookable_f": 0,
         "instant_bookable_t": 1,
         "amen_group_household": 7,
         "_deepnote_index_column": 1767
        },
        {
         "id": 983864,
         "prob_positive_feedback": 0.7724550898203593,
         "accommodates": 8,
         "availability_30": 9,
         "bathrooms": 2,
         "bedrooms": 3,
         "beds": 5,
         "name": "2 blks to Conv Ctr/6th. Sleeps 8!",
         "price": 295,
         "review_scores_rating": 88,
         "state": "TX",
         "cancellation_policy_flexible": 0,
         "cancellation_policy_moderate": 0,
         "cancellation_policy_strict": 1,
         "cancellation_policy_super_strict_30": 0,
         "cancellation_policy_super_strict_60": 0,
         "instant_bookable_f": 1,
         "instant_bookable_t": 0,
         "amen_group_household": 3,
         "_deepnote_index_column": 1768
        },
        {
         "id": 9840250,
         "prob_positive_feedback": 0.925925925925926,
         "accommodates": 14,
         "availability_30": 22,
         "bathrooms": 3,
         "bedrooms": 4,
         "beds": 11,
         "name": "Fox House",
         "price": 650,
         "review_scores_rating": 100,
         "state": "TX",
         "cancellation_policy_flexible": 0,
         "cancellation_policy_moderate": 0,
         "cancellation_policy_strict": 1,
         "cancellation_policy_super_strict_30": 0,
         "cancellation_policy_super_strict_60": 0,
         "instant_bookable_f": 0,
         "instant_bookable_t": 1,
         "amen_group_household": 7,
         "_deepnote_index_column": 1769
        },
        {
         "id": 9902174,
         "prob_positive_feedback": 0.8235294117647058,
         "accommodates": 4,
         "availability_30": 22,
         "bathrooms": 1,
         "bedrooms": 1,
         "beds": 2,
         "name": "Spacious Back House in Rosedale",
         "price": 95,
         "review_scores_rating": 89,
         "state": "TX",
         "cancellation_policy_flexible": 0,
         "cancellation_policy_moderate": 1,
         "cancellation_policy_strict": 0,
         "cancellation_policy_super_strict_30": 0,
         "cancellation_policy_super_strict_60": 0,
         "instant_bookable_f": 1,
         "instant_bookable_t": 0,
         "amen_group_household": 5,
         "_deepnote_index_column": 1770
        },
        {
         "id": 9903299,
         "prob_positive_feedback": 0.775,
         "accommodates": 10,
         "availability_30": 25,
         "bathrooms": 3,
         "bedrooms": 4,
         "beds": 5,
         "name": "Two Levels of Living in Allandale",
         "price": 295,
         "review_scores_rating": 100,
         "state": "TX",
         "cancellation_policy_flexible": 0,
         "cancellation_policy_moderate": 0,
         "cancellation_policy_strict": 1,
         "cancellation_policy_super_strict_30": 0,
         "cancellation_policy_super_strict_60": 0,
         "instant_bookable_f": 1,
         "instant_bookable_t": 0,
         "amen_group_household": 8,
         "_deepnote_index_column": 1771
        },
        {
         "id": 9909751,
         "prob_positive_feedback": "nan",
         "accommodates": 2,
         "availability_30": 8,
         "bathrooms": 1,
         "bedrooms": 1,
         "beds": 1,
         "name": "cozy apt. - walk to dt austin",
         "price": 295,
         "review_scores_rating": 100,
         "state": "TX",
         "cancellation_policy_flexible": 0,
         "cancellation_policy_moderate": 1,
         "cancellation_policy_strict": 0,
         "cancellation_policy_super_strict_30": 0,
         "cancellation_policy_super_strict_60": 0,
         "instant_bookable_f": 1,
         "instant_bookable_t": 0,
         "amen_group_household": 4,
         "_deepnote_index_column": 1772
        },
        {
         "id": 9917865,
         "prob_positive_feedback": 0.7466666666666667,
         "accommodates": 5,
         "availability_30": 6,
         "bathrooms": 1,
         "bedrooms": 2,
         "beds": 3,
         "name": "Charming cottage",
         "price": 187,
         "review_scores_rating": 95,
         "state": "TX",
         "cancellation_policy_flexible": 1,
         "cancellation_policy_moderate": 0,
         "cancellation_policy_strict": 0,
         "cancellation_policy_super_strict_30": 0,
         "cancellation_policy_super_strict_60": 0,
         "instant_bookable_f": 1,
         "instant_bookable_t": 0,
         "amen_group_household": 5,
         "_deepnote_index_column": 1773
        },
        {
         "id": 9924242,
         "prob_positive_feedback": 0.8,
         "accommodates": 11,
         "availability_30": 0,
         "bathrooms": 4,
         "bedrooms": 4,
         "beds": 6,
         "name": "4 BR 4 BTH in Heart of Austin",
         "price": 1200,
         "review_scores_rating": 100,
         "state": "TX",
         "cancellation_policy_flexible": 1,
         "cancellation_policy_moderate": 0,
         "cancellation_policy_strict": 0,
         "cancellation_policy_super_strict_30": 0,
         "cancellation_policy_super_strict_60": 0,
         "instant_bookable_f": 0,
         "instant_bookable_t": 1,
         "amen_group_household": 7,
         "_deepnote_index_column": 1774
        },
        {
         "id": 9934794,
         "prob_positive_feedback": 0.75,
         "accommodates": 4,
         "availability_30": 0,
         "bathrooms": 2,
         "bedrooms": 2,
         "beds": 2,
         "name": "WELL LOCATED 2BR SoCo Apartment",
         "price": 400,
         "review_scores_rating": 100,
         "state": "TX",
         "cancellation_policy_flexible": 1,
         "cancellation_policy_moderate": 0,
         "cancellation_policy_strict": 0,
         "cancellation_policy_super_strict_30": 0,
         "cancellation_policy_super_strict_60": 0,
         "instant_bookable_f": 0,
         "instant_bookable_t": 1,
         "amen_group_household": 5,
         "_deepnote_index_column": 1775
        },
        {
         "id": 9935362,
         "prob_positive_feedback": 0.8262910798122066,
         "accommodates": 2,
         "availability_30": 9,
         "bathrooms": 1,
         "bedrooms": 0,
         "beds": 1,
         "name": "Charming Casita in the Hill Country",
         "price": 125,
         "review_scores_rating": 99,
         "state": "TX",
         "cancellation_policy_flexible": 1,
         "cancellation_policy_moderate": 0,
         "cancellation_policy_strict": 0,
         "cancellation_policy_super_strict_30": 0,
         "cancellation_policy_super_strict_60": 0,
         "instant_bookable_f": 1,
         "instant_bookable_t": 0,
         "amen_group_household": 8,
         "_deepnote_index_column": 1776
        },
        {
         "id": 9936343,
         "prob_positive_feedback": 0.8203592814371258,
         "accommodates": 9,
         "availability_30": 1,
         "bathrooms": 2.5,
         "bedrooms": 3,
         "beds": 4,
         "name": "Central bungalow w/ downtown views",
         "price": 475,
         "review_scores_rating": 99,
         "state": "TX",
         "cancellation_policy_flexible": 0,
         "cancellation_policy_moderate": 0,
         "cancellation_policy_strict": 1,
         "cancellation_policy_super_strict_30": 0,
         "cancellation_policy_super_strict_60": 0,
         "instant_bookable_f": 1,
         "instant_bookable_t": 0,
         "amen_group_household": 10,
         "_deepnote_index_column": 1777
        },
        {
         "id": 9941582,
         "prob_positive_feedback": 0.7272727272727273,
         "accommodates": 7,
         "availability_30": 0,
         "bathrooms": 3,
         "bedrooms": 3,
         "beds": 3,
         "name": "Ranch charmer off SoCo for SXSW",
         "price": 495,
         "review_scores_rating": 100,
         "state": "TX",
         "cancellation_policy_flexible": 0,
         "cancellation_policy_moderate": 1,
         "cancellation_policy_strict": 0,
         "cancellation_policy_super_strict_30": 0,
         "cancellation_policy_super_strict_60": 0,
         "instant_bookable_f": 1,
         "instant_bookable_t": 0,
         "amen_group_household": 7,
         "_deepnote_index_column": 1778
        },
        {
         "id": 9951914,
         "prob_positive_feedback": 0.5,
         "accommodates": 2,
         "availability_30": 0,
         "bathrooms": 1,
         "bedrooms": 1,
         "beds": 1,
         "name": "Small Home 78745 / 5m to Downtown",
         "price": 90,
         "review_scores_rating": 100,
         "state": "TX",
         "cancellation_policy_flexible": 1,
         "cancellation_policy_moderate": 0,
         "cancellation_policy_strict": 0,
         "cancellation_policy_super_strict_30": 0,
         "cancellation_policy_super_strict_60": 0,
         "instant_bookable_f": 1,
         "instant_bookable_t": 0,
         "amen_group_household": 6,
         "_deepnote_index_column": 1779
        },
        {
         "id": 996332,
         "prob_positive_feedback": 0.7883597883597884,
         "accommodates": 2,
         "availability_30": 4,
         "bathrooms": 1,
         "bedrooms": 1,
         "beds": 1,
         "name": "Carbon Neutral Oasis in Austin",
         "price": 95,
         "review_scores_rating": 99,
         "state": "TX",
         "cancellation_policy_flexible": 1,
         "cancellation_policy_moderate": 0,
         "cancellation_policy_strict": 0,
         "cancellation_policy_super_strict_30": 0,
         "cancellation_policy_super_strict_60": 0,
         "instant_bookable_f": 1,
         "instant_bookable_t": 0,
         "amen_group_household": 4,
         "_deepnote_index_column": 1780
        },
        {
         "id": 999823,
         "prob_positive_feedback": 0.8408163265306122,
         "accommodates": 2,
         "availability_30": 13,
         "bathrooms": 1,
         "bedrooms": 1,
         "beds": 1,
         "name": "Fantastic Apartment-Heart of SoCo",
         "price": 160,
         "review_scores_rating": 99,
         "state": "TX",
         "cancellation_policy_flexible": 0,
         "cancellation_policy_moderate": 0,
         "cancellation_policy_strict": 1,
         "cancellation_policy_super_strict_30": 0,
         "cancellation_policy_super_strict_60": 0,
         "instant_bookable_f": 1,
         "instant_bookable_t": 0,
         "amen_group_household": 6,
         "_deepnote_index_column": 1781
        }
       ]
      },
      "text/plain": "            id  prob_positive_feedback  accommodates  availability_30  \\\n0      1001303                0.835443           7.0               22   \n1     10062315                     NaN           7.0                0   \n2     10069202                0.856672           4.0               13   \n3     10069609                0.857143          12.0               23   \n4     10071238                0.791667           8.0               13   \n...        ...                     ...           ...              ...   \n1777   9936343                0.820359           9.0                1   \n1778   9941582                0.727273           7.0                0   \n1779   9951914                0.500000           2.0                0   \n1780    996332                0.788360           2.0                4   \n1781    999823                0.840816           2.0               13   \n\n      bathrooms  bedrooms  beds  \\\n0           2.0       3.0   3.0   \n1           2.5       3.0   3.0   \n2           1.0       1.0   2.0   \n3           3.0       4.0   5.0   \n4           2.0       4.0   5.0   \n...         ...       ...   ...   \n1777        2.5       3.0   4.0   \n1778        3.0       3.0   3.0   \n1779        1.0       1.0   1.0   \n1780        1.0       1.0   1.0   \n1781        1.0       1.0   1.0   \n\n                                                  name  price  \\\n0                       Contemporary Brentwood Cottage  250.0   \n1                         Neighborhood Condo, DT Views  649.0   \n2     PRIME walking distance from ACL, shopping, bars!  130.0   \n3                    Charming Rosedale Home Sleeps 12!  300.0   \n4                  Hancock Modern, Home Away from Home  215.0   \n...                                                ...    ...   \n1777                Central bungalow w/ downtown views  475.0   \n1778                   Ranch charmer off SoCo for SXSW  495.0   \n1779                 Small Home 78745 / 5m to Downtown   90.0   \n1780                    Carbon Neutral Oasis in Austin   95.0   \n1781                 Fantastic Apartment-Heart of SoCo  160.0   \n\n      review_scores_rating state  cancellation_policy_flexible  \\\n0                    100.0    TX                             0   \n1                    100.0    TX                             0   \n2                     97.0    TX                             0   \n3                     93.0    TX                             0   \n4                     93.0    TX                             0   \n...                    ...   ...                           ...   \n1777                  99.0    TX                             0   \n1778                 100.0    TX                             0   \n1779                 100.0    TX                             1   \n1780                  99.0    TX                             1   \n1781                  99.0    TX                             0   \n\n      cancellation_policy_moderate  cancellation_policy_strict  \\\n0                                0                           1   \n1                                0                           1   \n2                                1                           0   \n3                                0                           1   \n4                                0                           1   \n...                            ...                         ...   \n1777                             0                           1   \n1778                             1                           0   \n1779                             0                           0   \n1780                             0                           0   \n1781                             0                           1   \n\n      cancellation_policy_super_strict_30  \\\n0                                       0   \n1                                       0   \n2                                       0   \n3                                       0   \n4                                       0   \n...                                   ...   \n1777                                    0   \n1778                                    0   \n1779                                    0   \n1780                                    0   \n1781                                    0   \n\n      cancellation_policy_super_strict_60  instant_bookable_f  \\\n0                                       0                   1   \n1                                       0                   1   \n2                                       0                   1   \n3                                       0                   1   \n4                                       0                   0   \n...                                   ...                 ...   \n1777                                    0                   1   \n1778                                    0                   1   \n1779                                    0                   1   \n1780                                    0                   1   \n1781                                    0                   1   \n\n      instant_bookable_t  amen_group_household  \n0                      0                     8  \n1                      0                     8  \n2                      0                     7  \n3                      0                     7  \n4                      1                     6  \n...                  ...                   ...  \n1777                   0                    10  \n1778                   0                     7  \n1779                   0                     6  \n1780                   0                     4  \n1781                   0                     6  \n\n[1782 rows x 19 columns]",
      "text/html": "<div>\n<style scoped>\n    .dataframe tbody tr th:only-of-type {\n        vertical-align: middle;\n    }\n\n    .dataframe tbody tr th {\n        vertical-align: top;\n    }\n\n    .dataframe thead th {\n        text-align: right;\n    }\n</style>\n<table border=\"1\" class=\"dataframe\">\n  <thead>\n    <tr style=\"text-align: right;\">\n      <th></th>\n      <th>id</th>\n      <th>prob_positive_feedback</th>\n      <th>accommodates</th>\n      <th>availability_30</th>\n      <th>bathrooms</th>\n      <th>bedrooms</th>\n      <th>beds</th>\n      <th>name</th>\n      <th>price</th>\n      <th>review_scores_rating</th>\n      <th>state</th>\n      <th>cancellation_policy_flexible</th>\n      <th>cancellation_policy_moderate</th>\n      <th>cancellation_policy_strict</th>\n      <th>cancellation_policy_super_strict_30</th>\n      <th>cancellation_policy_super_strict_60</th>\n      <th>instant_bookable_f</th>\n      <th>instant_bookable_t</th>\n      <th>amen_group_household</th>\n    </tr>\n  </thead>\n  <tbody>\n    <tr>\n      <th>0</th>\n      <td>1001303</td>\n      <td>0.835443</td>\n      <td>7.0</td>\n      <td>22</td>\n      <td>2.0</td>\n      <td>3.0</td>\n      <td>3.0</td>\n      <td>Contemporary Brentwood Cottage</td>\n      <td>250.0</td>\n      <td>100.0</td>\n      <td>TX</td>\n      <td>0</td>\n      <td>0</td>\n      <td>1</td>\n      <td>0</td>\n      <td>0</td>\n      <td>1</td>\n      <td>0</td>\n      <td>8</td>\n    </tr>\n    <tr>\n      <th>1</th>\n      <td>10062315</td>\n      <td>NaN</td>\n      <td>7.0</td>\n      <td>0</td>\n      <td>2.5</td>\n      <td>3.0</td>\n      <td>3.0</td>\n      <td>Neighborhood Condo, DT Views</td>\n      <td>649.0</td>\n      <td>100.0</td>\n      <td>TX</td>\n      <td>0</td>\n      <td>0</td>\n      <td>1</td>\n      <td>0</td>\n      <td>0</td>\n      <td>1</td>\n      <td>0</td>\n      <td>8</td>\n    </tr>\n    <tr>\n      <th>2</th>\n      <td>10069202</td>\n      <td>0.856672</td>\n      <td>4.0</td>\n      <td>13</td>\n      <td>1.0</td>\n      <td>1.0</td>\n      <td>2.0</td>\n      <td>PRIME walking distance from ACL, shopping, bars!</td>\n      <td>130.0</td>\n      <td>97.0</td>\n      <td>TX</td>\n      <td>0</td>\n      <td>1</td>\n      <td>0</td>\n      <td>0</td>\n      <td>0</td>\n      <td>1</td>\n      <td>0</td>\n      <td>7</td>\n    </tr>\n    <tr>\n      <th>3</th>\n      <td>10069609</td>\n      <td>0.857143</td>\n      <td>12.0</td>\n      <td>23</td>\n      <td>3.0</td>\n      <td>4.0</td>\n      <td>5.0</td>\n      <td>Charming Rosedale Home Sleeps 12!</td>\n      <td>300.0</td>\n      <td>93.0</td>\n      <td>TX</td>\n      <td>0</td>\n      <td>0</td>\n      <td>1</td>\n      <td>0</td>\n      <td>0</td>\n      <td>1</td>\n      <td>0</td>\n      <td>7</td>\n    </tr>\n    <tr>\n      <th>4</th>\n      <td>10071238</td>\n      <td>0.791667</td>\n      <td>8.0</td>\n      <td>13</td>\n      <td>2.0</td>\n      <td>4.0</td>\n      <td>5.0</td>\n      <td>Hancock Modern, Home Away from Home</td>\n      <td>215.0</td>\n      <td>93.0</td>\n      <td>TX</td>\n      <td>0</td>\n      <td>0</td>\n      <td>1</td>\n      <td>0</td>\n      <td>0</td>\n      <td>0</td>\n      <td>1</td>\n      <td>6</td>\n    </tr>\n    <tr>\n      <th>...</th>\n      <td>...</td>\n      <td>...</td>\n      <td>...</td>\n      <td>...</td>\n      <td>...</td>\n      <td>...</td>\n      <td>...</td>\n      <td>...</td>\n      <td>...</td>\n      <td>...</td>\n      <td>...</td>\n      <td>...</td>\n      <td>...</td>\n      <td>...</td>\n      <td>...</td>\n      <td>...</td>\n      <td>...</td>\n      <td>...</td>\n      <td>...</td>\n    </tr>\n    <tr>\n      <th>1777</th>\n      <td>9936343</td>\n      <td>0.820359</td>\n      <td>9.0</td>\n      <td>1</td>\n      <td>2.5</td>\n      <td>3.0</td>\n      <td>4.0</td>\n      <td>Central bungalow w/ downtown views</td>\n      <td>475.0</td>\n      <td>99.0</td>\n      <td>TX</td>\n      <td>0</td>\n      <td>0</td>\n      <td>1</td>\n      <td>0</td>\n      <td>0</td>\n      <td>1</td>\n      <td>0</td>\n      <td>10</td>\n    </tr>\n    <tr>\n      <th>1778</th>\n      <td>9941582</td>\n      <td>0.727273</td>\n      <td>7.0</td>\n      <td>0</td>\n      <td>3.0</td>\n      <td>3.0</td>\n      <td>3.0</td>\n      <td>Ranch charmer off SoCo for SXSW</td>\n      <td>495.0</td>\n      <td>100.0</td>\n      <td>TX</td>\n      <td>0</td>\n      <td>1</td>\n      <td>0</td>\n      <td>0</td>\n      <td>0</td>\n      <td>1</td>\n      <td>0</td>\n      <td>7</td>\n    </tr>\n    <tr>\n      <th>1779</th>\n      <td>9951914</td>\n      <td>0.500000</td>\n      <td>2.0</td>\n      <td>0</td>\n      <td>1.0</td>\n      <td>1.0</td>\n      <td>1.0</td>\n      <td>Small Home 78745 / 5m to Downtown</td>\n      <td>90.0</td>\n      <td>100.0</td>\n      <td>TX</td>\n      <td>1</td>\n      <td>0</td>\n      <td>0</td>\n      <td>0</td>\n      <td>0</td>\n      <td>1</td>\n      <td>0</td>\n      <td>6</td>\n    </tr>\n    <tr>\n      <th>1780</th>\n      <td>996332</td>\n      <td>0.788360</td>\n      <td>2.0</td>\n      <td>4</td>\n      <td>1.0</td>\n      <td>1.0</td>\n      <td>1.0</td>\n      <td>Carbon Neutral Oasis in Austin</td>\n      <td>95.0</td>\n      <td>99.0</td>\n      <td>TX</td>\n      <td>1</td>\n      <td>0</td>\n      <td>0</td>\n      <td>0</td>\n      <td>0</td>\n      <td>1</td>\n      <td>0</td>\n      <td>4</td>\n    </tr>\n    <tr>\n      <th>1781</th>\n      <td>999823</td>\n      <td>0.840816</td>\n      <td>2.0</td>\n      <td>13</td>\n      <td>1.0</td>\n      <td>1.0</td>\n      <td>1.0</td>\n      <td>Fantastic Apartment-Heart of SoCo</td>\n      <td>160.0</td>\n      <td>99.0</td>\n      <td>TX</td>\n      <td>0</td>\n      <td>0</td>\n      <td>1</td>\n      <td>0</td>\n      <td>0</td>\n      <td>1</td>\n      <td>0</td>\n      <td>6</td>\n    </tr>\n  </tbody>\n</table>\n<p>1782 rows × 19 columns</p>\n</div>"
     },
     "metadata": {}
    }
   ]
  },
  {
   "cell_type": "code",
   "metadata": {
    "cell_id": "00029-37b065a6-5b82-434b-a8ab-219e6586b12c",
    "deepnote_to_be_reexecuted": false,
    "source_hash": "c8a8c27a",
    "execution_start": 1626543676662,
    "execution_millis": 11,
    "deepnote_cell_type": "code"
   },
   "source": "data.columns",
   "execution_count": null,
   "outputs": [
    {
     "output_type": "execute_result",
     "execution_count": 34,
     "data": {
      "text/plain": "Index(['id', 'prob_positive_feedback', 'accommodates', 'availability_30',\n       'bathrooms', 'bedrooms', 'beds', 'name', 'price',\n       'review_scores_rating', 'state', 'cancellation_policy_flexible',\n       'cancellation_policy_moderate', 'cancellation_policy_strict',\n       'cancellation_policy_super_strict_30',\n       'cancellation_policy_super_strict_60', 'instant_bookable_f',\n       'instant_bookable_t', 'amen_group_household'],\n      dtype='object')"
     },
     "metadata": {}
    }
   ]
  },
  {
   "cell_type": "code",
   "metadata": {
    "cell_id": "00030-aaf19108-69da-4499-9afc-20c5478f2439",
    "deepnote_to_be_reexecuted": false,
    "source_hash": "2e1f82e",
    "execution_start": 1626543722790,
    "execution_millis": 9,
    "deepnote_cell_type": "code"
   },
   "source": "# data1 = data.drop(columns=['name','review_scores_rating','id'])\n# data1.dropna(inplace=True)\ndata1.columns",
   "execution_count": null,
   "outputs": [
    {
     "output_type": "execute_result",
     "execution_count": 38,
     "data": {
      "text/plain": "Index(['prob_positive_feedback', 'accommodates', 'availability_30',\n       'bathrooms', 'bedrooms', 'beds', 'price', 'state',\n       'cancellation_policy_flexible', 'cancellation_policy_moderate',\n       'cancellation_policy_strict', 'cancellation_policy_super_strict_30',\n       'cancellation_policy_super_strict_60', 'instant_bookable_f',\n       'instant_bookable_t', 'amen_group_household'],\n      dtype='object')"
     },
     "metadata": {}
    }
   ]
  },
  {
   "cell_type": "code",
   "metadata": {
    "tags": [],
    "cell_id": "00031-c45fe832-06bb-41fb-8bf2-505eb9c4516a",
    "deepnote_to_be_reexecuted": false,
    "source_hash": "6b52dbd9",
    "execution_start": 1626543716860,
    "execution_millis": 9,
    "deepnote_cell_type": "code"
   },
   "source": "data1.shape",
   "execution_count": null,
   "outputs": [
    {
     "output_type": "execute_result",
     "execution_count": 37,
     "data": {
      "text/plain": "(1766, 16)"
     },
     "metadata": {}
    }
   ]
  },
  {
   "cell_type": "code",
   "metadata": {
    "cell_id": "00031-3afa60e5-b403-4c08-86de-9a601d4ddb05",
    "deepnote_to_be_reexecuted": false,
    "source_hash": "15da26fe",
    "execution_start": 1626544159635,
    "execution_millis": 1,
    "deepnote_cell_type": "code"
   },
   "source": "#Ready for feature selection\n#We begin by using random forest: why would it be successful for this dataset?\n#In general, it provides good predictive performance, lower overfitting, and easy interpretability\n#So it is easy to compute how much each variable is contributing to the decision\n\nfrom sklearn.ensemble import RandomForestRegressor\nfrom sklearn.model_selection import train_test_split\nfrom sklearn.model_selection import cross_val_score\nfrom sklearn.metrics import r2_score, mean_squared_error\nimport math\n\n# data1 = data.drop(columns=['name','review_scores_rating','id'])\n# data1.dropna(inplace=True)\n\ny = data1['prob_positive_feedback']\nX = data1.drop(columns=['state','prob_positive_feedback']) #drop(columns='review_scores_rating')",
   "execution_count": null,
   "outputs": []
  },
  {
   "cell_type": "code",
   "metadata": {
    "cell_id": "00032-f0c60ddc-3fac-45e4-8852-4b6a74243a51",
    "deepnote_to_be_reexecuted": false,
    "source_hash": "42401d3a",
    "execution_start": 1626544161663,
    "execution_millis": 1784,
    "deepnote_cell_type": "code"
   },
   "source": "X_train, X_test, y_train, y_test = train_test_split(X, y, test_size=0.3, random_state=42)\n\nrfr = RandomForestRegressor(n_estimators=250, random_state=42)\nrfr.fit(X_train, y_train)\n\ny_pred_rand_for = rfr.predict(X_test)\ny_pred_train = rfr.predict(X_train)\n\nprint('Test:', math.sqrt(mean_squared_error(y_test, y_pred_rand_for)), r2_score(y_test, y_pred_rand_for))\nprint('Train:', math.sqrt(mean_squared_error(y_train, y_pred_train)), r2_score(y_train, y_pred_train))",
   "execution_count": null,
   "outputs": [
    {
     "name": "stdout",
     "text": "Test: 0.12824192874892806 -0.07600147493063192\nTrain: 0.04344911030102394 0.8447977955654775\n",
     "output_type": "stream"
    }
   ]
  },
  {
   "cell_type": "code",
   "metadata": {
    "cell_id": "00033-bcbdf379-2ad1-4b6a-bb16-99193f92b91b",
    "deepnote_to_be_reexecuted": false,
    "source_hash": "dc32d0cf",
    "execution_start": 1626543761291,
    "execution_millis": 314,
    "deepnote_cell_type": "code"
   },
   "source": "(pd.Series(y_pred_rand_for).hist())",
   "execution_count": null,
   "outputs": [
    {
     "output_type": "execute_result",
     "execution_count": 42,
     "data": {
      "text/plain": "<AxesSubplot:>"
     },
     "metadata": {}
    },
    {
     "data": {
      "text/plain": "<Figure size 432x288 with 1 Axes>",
      "image/png": "[encoded data removed]"
     },
     "metadata": {
      "needs_background": "light",
      "image/png": {
       "width": 375,
       "height": 248
      }
     },
     "output_type": "display_data"
    }
   ]
  },
  {
   "cell_type": "code",
   "metadata": {
    "cell_id": "00034-82a47a95-b70b-4bd6-97c4-cb92f32a9791",
    "deepnote_to_be_reexecuted": false,
    "source_hash": "4a3dc4b0",
    "execution_start": 1626543862087,
    "execution_millis": 19,
    "deepnote_cell_type": "code"
   },
   "source": "data1.to_csv('/work/data1.csv', index=False)",
   "execution_count": null,
   "outputs": []
  },
  {
   "cell_type": "code",
   "metadata": {
    "cell_id": "00035-6698771d-2259-4a1a-a87f-6e6eafe68d22",
    "deepnote_to_be_reexecuted": false,
    "source_hash": "42401d3a",
    "execution_start": 1626544269133,
    "execution_millis": 1828,
    "deepnote_cell_type": "code"
   },
   "source": "X_train, X_test, y_train, y_test = train_test_split(X, y, test_size=0.3, random_state=42)\n\nrfr = RandomForestRegressor(n_estimators=250, random_state=42)\nrfr.fit(X_train, y_train)\n\ny_pred_rand_for = rfr.predict(X_test)\ny_pred_train = rfr.predict(X_train)\n\nprint('Test:', math.sqrt(mean_squared_error(y_test, y_pred_rand_for)), r2_score(y_test, y_pred_rand_for))\nprint('Train:', math.sqrt(mean_squared_error(y_train, y_pred_train)), r2_score(y_train, y_pred_train))",
   "execution_count": null,
   "outputs": [
    {
     "name": "stdout",
     "text": "Test: 0.12824192874892806 -0.07600147493063192\nTrain: 0.04344911030102394 0.8447977955654775\n",
     "output_type": "stream"
    }
   ]
  },
  {
   "cell_type": "code",
   "metadata": {
    "cell_id": "00036-a87e48b1-f540-4fc5-b254-0175e1412fbf",
    "deepnote_to_be_reexecuted": false,
    "source_hash": "7a28b1a",
    "execution_start": 1626544407837,
    "execution_millis": 5018,
    "deepnote_cell_type": "code"
   },
   "source": "#xgboost \n!pip install xgboost\nimport xgboost as xgb\n\nxgb_reg = xgb.XGBRegressor(\n    n_estimators=250, \n    reg_lambda=10,\n    gamma=0,\n    max_depth=3,\n    objective='reg:squarederror',\n    random_state=42\n)\n\nxgb_reg.fit(X_train, y_train)\n\ny_pred_xgb = xgb_reg.predict(X_test)\ny_pred_train = xgb_reg.predict(X_train)\n\nprint('Test:', math.sqrt(mean_squared_error(y_test, y_pred_xgb)), r2_score(y_test, y_pred_xgb))\nprint('Train:', math.sqrt(mean_squared_error(y_train, y_pred_train)), r2_score(y_train, y_pred_train))",
   "execution_count": null,
   "outputs": [
    {
     "name": "stdout",
     "text": "Requirement already satisfied: xgboost in /root/venv/lib/python3.7/site-packages (1.4.2)\nRequirement already satisfied: scipy in /shared-libs/python3.7/py/lib/python3.7/site-packages (from xgboost) (1.7.0)\nRequirement already satisfied: numpy in /shared-libs/python3.7/py/lib/python3.7/site-packages (from xgboost) (1.19.5)\n\u001b[33mWARNING: You are using pip version 21.1.2; however, version 21.1.3 is available.\nYou should consider upgrading via the '/root/venv/bin/python -m pip install --upgrade pip' command.\u001b[0m\nTest: 0.13179121042923334 -0.1363854849735946\nTrain: 0.07548356528965523 0.5315740789271177\n",
     "output_type": "stream"
    }
   ]
  },
  {
   "cell_type": "code",
   "metadata": {
    "cell_id": "00037-bd64082e-f6ab-4312-a11a-f9c371b16e66",
    "deepnote_cell_type": "code"
   },
   "source": "(pd.Series(y_pred_train).hist())",
   "execution_count": null,
   "outputs": [
    {
     "output_type": "execute_result",
     "data": {
      "text/plain": "<AxesSubplot:>"
     },
     "metadata": {},
     "execution_count": 90
    },
    {
     "output_type": "display_data",
     "data": {
      "text/plain": "<Figure size 432x288 with 1 Axes>",
      "image/svg+xml": "<?xml version=\"1.0\" encoding=\"utf-8\" standalone=\"no\"?>\n<!DOCTYPE svg PUBLIC \"-//W3C//DTD SVG 1.1//EN\"\n  \"http://www.w3.org/Graphics/SVG/1.1/DTD/svg11.dtd\">\n<!-- Created with matplotlib (https://matplotlib.org/) -->\n<svg height=\"248.518125pt\" version=\"1.1\" viewBox=\"0 0 375.2875 248.518125\" width=\"375.2875pt\" xmlns=\"http://www.w3.org/2000/svg\" xmlns:xlink=\"http://www.w3.org/1999/xlink\">\n <metadata>\n  <rdf:RDF xmlns:cc=\"http://creativecommons.org/ns#\" xmlns:dc=\"http://purl.org/dc/elements/1.1/\" xmlns:rdf=\"http://www.w3.org/1999/02/22-rdf-syntax-ns#\">\n   <cc:Work>\n    <dc:type rdf:resource=\"http://purl.org/dc/dcmitype/StillImage\"/>\n    <dc:date>2021-07-16T19:44:14.691889</dc:date>\n    <dc:format>image/svg+xml</dc:format>\n    <dc:creator>\n     <cc:Agent>\n      <dc:title>Matplotlib v3.3.2, https://matplotlib.org/</dc:title>\n     </cc:Agent>\n    </dc:creator>\n   </cc:Work>\n  </rdf:RDF>\n </metadata>\n <defs>\n  <style type=\"text/css\">*{stroke-linecap:butt;stroke-linejoin:round;}</style>\n </defs>\n <g id=\"figure_1\">\n  <g id=\"patch_1\">\n   <path d=\"M 0 248.518125 \nL 375.2875 248.518125 \nL 375.2875 0 \nL 0 0 \nz\n\" style=\"fill:none;\"/>\n  </g>\n  <g id=\"axes_1\">\n   <g id=\"patch_2\">\n    <path d=\"M 33.2875 224.64 \nL 368.0875 224.64 \nL 368.0875 7.2 \nL 33.2875 7.2 \nz\n\" style=\"fill:#ffffff;\"/>\n   </g>\n   <g id=\"patch_3\">\n    <path clip-path=\"url(#p0b746f1702)\" d=\"M 48.505682 224.64 \nL 78.942045 224.64 \nL 78.942045 223.80833 \nL 48.505682 223.80833 \nz\n\" style=\"fill:#1f77b4;\"/>\n   </g>\n   <g id=\"patch_4\">\n    <path clip-path=\"url(#p0b746f1702)\" d=\"M 78.942045 224.64 \nL 109.378409 224.64 \nL 109.378409 223.392496 \nL 78.942045 223.392496 \nz\n\" style=\"fill:#1f77b4;\"/>\n   </g>\n   <g id=\"patch_5\">\n    <path clip-path=\"url(#p0b746f1702)\" d=\"M 109.378409 224.64 \nL 139.814773 224.64 \nL 139.814773 224.224165 \nL 109.378409 224.224165 \nz\n\" style=\"fill:#1f77b4;\"/>\n   </g>\n   <g id=\"patch_6\">\n    <path clip-path=\"url(#p0b746f1702)\" d=\"M 139.814773 224.64 \nL 170.251136 224.64 \nL 170.251136 224.224165 \nL 139.814773 224.224165 \nz\n\" style=\"fill:#1f77b4;\"/>\n   </g>\n   <g id=\"patch_7\">\n    <path clip-path=\"url(#p0b746f1702)\" d=\"M 170.251136 224.64 \nL 200.6875 224.64 \nL 200.6875 215.491635 \nL 170.251136 215.491635 \nz\n\" style=\"fill:#1f77b4;\"/>\n   </g>\n   <g id=\"patch_8\">\n    <path clip-path=\"url(#p0b746f1702)\" d=\"M 200.6875 224.64 \nL 231.123864 224.64 \nL 231.123864 213.828296 \nL 200.6875 213.828296 \nz\n\" style=\"fill:#1f77b4;\"/>\n   </g>\n   <g id=\"patch_9\">\n    <path clip-path=\"url(#p0b746f1702)\" d=\"M 231.123864 224.64 \nL 261.560227 224.64 \nL 261.560227 180.14568 \nL 231.123864 180.14568 \nz\n\" style=\"fill:#1f77b4;\"/>\n   </g>\n   <g id=\"patch_10\">\n    <path clip-path=\"url(#p0b746f1702)\" d=\"M 261.560227 224.64 \nL 291.996591 224.64 \nL 291.996591 54.979415 \nL 261.560227 54.979415 \nz\n\" style=\"fill:#1f77b4;\"/>\n   </g>\n   <g id=\"patch_11\">\n    <path clip-path=\"url(#p0b746f1702)\" d=\"M 291.996591 224.64 \nL 322.432955 224.64 \nL 322.432955 17.554286 \nL 291.996591 17.554286 \nz\n\" style=\"fill:#1f77b4;\"/>\n   </g>\n   <g id=\"patch_12\">\n    <path clip-path=\"url(#p0b746f1702)\" d=\"M 322.432955 224.64 \nL 352.869318 224.64 \nL 352.869318 154.779759 \nL 322.432955 154.779759 \nz\n\" style=\"fill:#1f77b4;\"/>\n   </g>\n   <g id=\"matplotlib.axis_1\">\n    <g id=\"xtick_1\">\n     <g id=\"line2d_1\">\n      <path clip-path=\"url(#p0b746f1702)\" d=\"M 96.969289 224.64 \nL 96.969289 7.2 \n\" style=\"fill:none;stroke:#b0b0b0;stroke-linecap:square;stroke-width:0.8;\"/>\n     </g>\n     <g id=\"line2d_2\">\n      <defs>\n       <path d=\"M 0 0 \nL 0 3.5 \n\" id=\"m53d83085d0\" style=\"stroke:#000000;stroke-width:0.8;\"/>\n      </defs>\n      <g>\n       <use style=\"stroke:#000000;stroke-width:0.8;\" x=\"96.969289\" xlink:href=\"#m53d83085d0\" y=\"224.64\"/>\n      </g>\n     </g>\n     <g id=\"text_1\">\n      <!-- 0.2 -->\n      <g transform=\"translate(89.017726 239.238437)scale(0.1 -0.1)\">\n       <defs>\n        <path d=\"M 31.78125 66.40625 \nQ 24.171875 66.40625 20.328125 58.90625 \nQ 16.5 51.421875 16.5 36.375 \nQ 16.5 21.390625 20.328125 13.890625 \nQ 24.171875 6.390625 31.78125 6.390625 \nQ 39.453125 6.390625 43.28125 13.890625 \nQ 47.125 21.390625 47.125 36.375 \nQ 47.125 51.421875 43.28125 58.90625 \nQ 39.453125 66.40625 31.78125 66.40625 \nz\nM 31.78125 74.21875 \nQ 44.046875 74.21875 50.515625 64.515625 \nQ 56.984375 54.828125 56.984375 36.375 \nQ 56.984375 17.96875 50.515625 8.265625 \nQ 44.046875 -1.421875 31.78125 -1.421875 \nQ 19.53125 -1.421875 13.0625 8.265625 \nQ 6.59375 17.96875 6.59375 36.375 \nQ 6.59375 54.828125 13.0625 64.515625 \nQ 19.53125 74.21875 31.78125 74.21875 \nz\n\" id=\"DejaVuSans-48\"/>\n        <path d=\"M 10.6875 12.40625 \nL 21 12.40625 \nL 21 0 \nL 10.6875 0 \nz\n\" id=\"DejaVuSans-46\"/>\n        <path d=\"M 19.1875 8.296875 \nL 53.609375 8.296875 \nL 53.609375 0 \nL 7.328125 0 \nL 7.328125 8.296875 \nQ 12.9375 14.109375 22.625 23.890625 \nQ 32.328125 33.6875 34.8125 36.53125 \nQ 39.546875 41.84375 41.421875 45.53125 \nQ 43.3125 49.21875 43.3125 52.78125 \nQ 43.3125 58.59375 39.234375 62.25 \nQ 35.15625 65.921875 28.609375 65.921875 \nQ 23.96875 65.921875 18.8125 64.3125 \nQ 13.671875 62.703125 7.8125 59.421875 \nL 7.8125 69.390625 \nQ 13.765625 71.78125 18.9375 73 \nQ 24.125 74.21875 28.421875 74.21875 \nQ 39.75 74.21875 46.484375 68.546875 \nQ 53.21875 62.890625 53.21875 53.421875 \nQ 53.21875 48.921875 51.53125 44.890625 \nQ 49.859375 40.875 45.40625 35.40625 \nQ 44.1875 33.984375 37.640625 27.21875 \nQ 31.109375 20.453125 19.1875 8.296875 \nz\n\" id=\"DejaVuSans-50\"/>\n       </defs>\n       <use xlink:href=\"#DejaVuSans-48\"/>\n       <use x=\"63.623047\" xlink:href=\"#DejaVuSans-46\"/>\n       <use x=\"95.410156\" xlink:href=\"#DejaVuSans-50\"/>\n      </g>\n     </g>\n    </g>\n    <g id=\"xtick_2\">\n     <g id=\"line2d_3\">\n      <path clip-path=\"url(#p0b746f1702)\" d=\"M 160.944296 224.64 \nL 160.944296 7.2 \n\" style=\"fill:none;stroke:#b0b0b0;stroke-linecap:square;stroke-width:0.8;\"/>\n     </g>\n     <g id=\"line2d_4\">\n      <g>\n       <use style=\"stroke:#000000;stroke-width:0.8;\" x=\"160.944296\" xlink:href=\"#m53d83085d0\" y=\"224.64\"/>\n      </g>\n     </g>\n     <g id=\"text_2\">\n      <!-- 0.4 -->\n      <g transform=\"translate(152.992734 239.238437)scale(0.1 -0.1)\">\n       <defs>\n        <path d=\"M 37.796875 64.3125 \nL 12.890625 25.390625 \nL 37.796875 25.390625 \nz\nM 35.203125 72.90625 \nL 47.609375 72.90625 \nL 47.609375 25.390625 \nL 58.015625 25.390625 \nL 58.015625 17.1875 \nL 47.609375 17.1875 \nL 47.609375 0 \nL 37.796875 0 \nL 37.796875 17.1875 \nL 4.890625 17.1875 \nL 4.890625 26.703125 \nz\n\" id=\"DejaVuSans-52\"/>\n       </defs>\n       <use xlink:href=\"#DejaVuSans-48\"/>\n       <use x=\"63.623047\" xlink:href=\"#DejaVuSans-46\"/>\n       <use x=\"95.410156\" xlink:href=\"#DejaVuSans-52\"/>\n      </g>\n     </g>\n    </g>\n    <g id=\"xtick_3\">\n     <g id=\"line2d_5\">\n      <path clip-path=\"url(#p0b746f1702)\" d=\"M 224.919303 224.64 \nL 224.919303 7.2 \n\" style=\"fill:none;stroke:#b0b0b0;stroke-linecap:square;stroke-width:0.8;\"/>\n     </g>\n     <g id=\"line2d_6\">\n      <g>\n       <use style=\"stroke:#000000;stroke-width:0.8;\" x=\"224.919303\" xlink:href=\"#m53d83085d0\" y=\"224.64\"/>\n      </g>\n     </g>\n     <g id=\"text_3\">\n      <!-- 0.6 -->\n      <g transform=\"translate(216.967741 239.238437)scale(0.1 -0.1)\">\n       <defs>\n        <path d=\"M 33.015625 40.375 \nQ 26.375 40.375 22.484375 35.828125 \nQ 18.609375 31.296875 18.609375 23.390625 \nQ 18.609375 15.53125 22.484375 10.953125 \nQ 26.375 6.390625 33.015625 6.390625 \nQ 39.65625 6.390625 43.53125 10.953125 \nQ 47.40625 15.53125 47.40625 23.390625 \nQ 47.40625 31.296875 43.53125 35.828125 \nQ 39.65625 40.375 33.015625 40.375 \nz\nM 52.59375 71.296875 \nL 52.59375 62.3125 \nQ 48.875 64.0625 45.09375 64.984375 \nQ 41.3125 65.921875 37.59375 65.921875 \nQ 27.828125 65.921875 22.671875 59.328125 \nQ 17.53125 52.734375 16.796875 39.40625 \nQ 19.671875 43.65625 24.015625 45.921875 \nQ 28.375 48.1875 33.59375 48.1875 \nQ 44.578125 48.1875 50.953125 41.515625 \nQ 57.328125 34.859375 57.328125 23.390625 \nQ 57.328125 12.15625 50.6875 5.359375 \nQ 44.046875 -1.421875 33.015625 -1.421875 \nQ 20.359375 -1.421875 13.671875 8.265625 \nQ 6.984375 17.96875 6.984375 36.375 \nQ 6.984375 53.65625 15.1875 63.9375 \nQ 23.390625 74.21875 37.203125 74.21875 \nQ 40.921875 74.21875 44.703125 73.484375 \nQ 48.484375 72.75 52.59375 71.296875 \nz\n\" id=\"DejaVuSans-54\"/>\n       </defs>\n       <use xlink:href=\"#DejaVuSans-48\"/>\n       <use x=\"63.623047\" xlink:href=\"#DejaVuSans-46\"/>\n       <use x=\"95.410156\" xlink:href=\"#DejaVuSans-54\"/>\n      </g>\n     </g>\n    </g>\n    <g id=\"xtick_4\">\n     <g id=\"line2d_7\">\n      <path clip-path=\"url(#p0b746f1702)\" d=\"M 288.894311 224.64 \nL 288.894311 7.2 \n\" style=\"fill:none;stroke:#b0b0b0;stroke-linecap:square;stroke-width:0.8;\"/>\n     </g>\n     <g id=\"line2d_8\">\n      <g>\n       <use style=\"stroke:#000000;stroke-width:0.8;\" x=\"288.894311\" xlink:href=\"#m53d83085d0\" y=\"224.64\"/>\n      </g>\n     </g>\n     <g id=\"text_4\">\n      <!-- 0.8 -->\n      <g transform=\"translate(280.942748 239.238437)scale(0.1 -0.1)\">\n       <defs>\n        <path d=\"M 31.78125 34.625 \nQ 24.75 34.625 20.71875 30.859375 \nQ 16.703125 27.09375 16.703125 20.515625 \nQ 16.703125 13.921875 20.71875 10.15625 \nQ 24.75 6.390625 31.78125 6.390625 \nQ 38.8125 6.390625 42.859375 10.171875 \nQ 46.921875 13.96875 46.921875 20.515625 \nQ 46.921875 27.09375 42.890625 30.859375 \nQ 38.875 34.625 31.78125 34.625 \nz\nM 21.921875 38.8125 \nQ 15.578125 40.375 12.03125 44.71875 \nQ 8.5 49.078125 8.5 55.328125 \nQ 8.5 64.0625 14.71875 69.140625 \nQ 20.953125 74.21875 31.78125 74.21875 \nQ 42.671875 74.21875 48.875 69.140625 \nQ 55.078125 64.0625 55.078125 55.328125 \nQ 55.078125 49.078125 51.53125 44.71875 \nQ 48 40.375 41.703125 38.8125 \nQ 48.828125 37.15625 52.796875 32.3125 \nQ 56.78125 27.484375 56.78125 20.515625 \nQ 56.78125 9.90625 50.3125 4.234375 \nQ 43.84375 -1.421875 31.78125 -1.421875 \nQ 19.734375 -1.421875 13.25 4.234375 \nQ 6.78125 9.90625 6.78125 20.515625 \nQ 6.78125 27.484375 10.78125 32.3125 \nQ 14.796875 37.15625 21.921875 38.8125 \nz\nM 18.3125 54.390625 \nQ 18.3125 48.734375 21.84375 45.5625 \nQ 25.390625 42.390625 31.78125 42.390625 \nQ 38.140625 42.390625 41.71875 45.5625 \nQ 45.3125 48.734375 45.3125 54.390625 \nQ 45.3125 60.0625 41.71875 63.234375 \nQ 38.140625 66.40625 31.78125 66.40625 \nQ 25.390625 66.40625 21.84375 63.234375 \nQ 18.3125 60.0625 18.3125 54.390625 \nz\n\" id=\"DejaVuSans-56\"/>\n       </defs>\n       <use xlink:href=\"#DejaVuSans-48\"/>\n       <use x=\"63.623047\" xlink:href=\"#DejaVuSans-46\"/>\n       <use x=\"95.410156\" xlink:href=\"#DejaVuSans-56\"/>\n      </g>\n     </g>\n    </g>\n    <g id=\"xtick_5\">\n     <g id=\"line2d_9\">\n      <path clip-path=\"url(#p0b746f1702)\" d=\"M 352.869318 224.64 \nL 352.869318 7.2 \n\" style=\"fill:none;stroke:#b0b0b0;stroke-linecap:square;stroke-width:0.8;\"/>\n     </g>\n     <g id=\"line2d_10\">\n      <g>\n       <use style=\"stroke:#000000;stroke-width:0.8;\" x=\"352.869318\" xlink:href=\"#m53d83085d0\" y=\"224.64\"/>\n      </g>\n     </g>\n     <g id=\"text_5\">\n      <!-- 1.0 -->\n      <g transform=\"translate(344.917756 239.238437)scale(0.1 -0.1)\">\n       <defs>\n        <path d=\"M 12.40625 8.296875 \nL 28.515625 8.296875 \nL 28.515625 63.921875 \nL 10.984375 60.40625 \nL 10.984375 69.390625 \nL 28.421875 72.90625 \nL 38.28125 72.90625 \nL 38.28125 8.296875 \nL 54.390625 8.296875 \nL 54.390625 0 \nL 12.40625 0 \nz\n\" id=\"DejaVuSans-49\"/>\n       </defs>\n       <use xlink:href=\"#DejaVuSans-49\"/>\n       <use x=\"63.623047\" xlink:href=\"#DejaVuSans-46\"/>\n       <use x=\"95.410156\" xlink:href=\"#DejaVuSans-48\"/>\n      </g>\n     </g>\n    </g>\n   </g>\n   <g id=\"matplotlib.axis_2\">\n    <g id=\"ytick_1\">\n     <g id=\"line2d_11\">\n      <path clip-path=\"url(#p0b746f1702)\" d=\"M 33.2875 224.64 \nL 368.0875 224.64 \n\" style=\"fill:none;stroke:#b0b0b0;stroke-linecap:square;stroke-width:0.8;\"/>\n     </g>\n     <g id=\"line2d_12\">\n      <defs>\n       <path d=\"M 0 0 \nL -3.5 0 \n\" id=\"mda2ab8b15a\" style=\"stroke:#000000;stroke-width:0.8;\"/>\n      </defs>\n      <g>\n       <use style=\"stroke:#000000;stroke-width:0.8;\" x=\"33.2875\" xlink:href=\"#mda2ab8b15a\" y=\"224.64\"/>\n      </g>\n     </g>\n     <g id=\"text_6\">\n      <!-- 0 -->\n      <g transform=\"translate(19.925 228.439219)scale(0.1 -0.1)\">\n       <use xlink:href=\"#DejaVuSans-48\"/>\n      </g>\n     </g>\n    </g>\n    <g id=\"ytick_2\">\n     <g id=\"line2d_13\">\n      <path clip-path=\"url(#p0b746f1702)\" d=\"M 33.2875 183.056523 \nL 368.0875 183.056523 \n\" style=\"fill:none;stroke:#b0b0b0;stroke-linecap:square;stroke-width:0.8;\"/>\n     </g>\n     <g id=\"line2d_14\">\n      <g>\n       <use style=\"stroke:#000000;stroke-width:0.8;\" x=\"33.2875\" xlink:href=\"#mda2ab8b15a\" y=\"183.056523\"/>\n      </g>\n     </g>\n     <g id=\"text_7\">\n      <!-- 100 -->\n      <g transform=\"translate(7.2 186.855742)scale(0.1 -0.1)\">\n       <use xlink:href=\"#DejaVuSans-49\"/>\n       <use x=\"63.623047\" xlink:href=\"#DejaVuSans-48\"/>\n       <use x=\"127.246094\" xlink:href=\"#DejaVuSans-48\"/>\n      </g>\n     </g>\n    </g>\n    <g id=\"ytick_3\">\n     <g id=\"line2d_15\">\n      <path clip-path=\"url(#p0b746f1702)\" d=\"M 33.2875 141.473046 \nL 368.0875 141.473046 \n\" style=\"fill:none;stroke:#b0b0b0;stroke-linecap:square;stroke-width:0.8;\"/>\n     </g>\n     <g id=\"line2d_16\">\n      <g>\n       <use style=\"stroke:#000000;stroke-width:0.8;\" x=\"33.2875\" xlink:href=\"#mda2ab8b15a\" y=\"141.473046\"/>\n      </g>\n     </g>\n     <g id=\"text_8\">\n      <!-- 200 -->\n      <g transform=\"translate(7.2 145.272265)scale(0.1 -0.1)\">\n       <use xlink:href=\"#DejaVuSans-50\"/>\n       <use x=\"63.623047\" xlink:href=\"#DejaVuSans-48\"/>\n       <use x=\"127.246094\" xlink:href=\"#DejaVuSans-48\"/>\n      </g>\n     </g>\n    </g>\n    <g id=\"ytick_4\">\n     <g id=\"line2d_17\">\n      <path clip-path=\"url(#p0b746f1702)\" d=\"M 33.2875 99.88957 \nL 368.0875 99.88957 \n\" style=\"fill:none;stroke:#b0b0b0;stroke-linecap:square;stroke-width:0.8;\"/>\n     </g>\n     <g id=\"line2d_18\">\n      <g>\n       <use style=\"stroke:#000000;stroke-width:0.8;\" x=\"33.2875\" xlink:href=\"#mda2ab8b15a\" y=\"99.88957\"/>\n      </g>\n     </g>\n     <g id=\"text_9\">\n      <!-- 300 -->\n      <g transform=\"translate(7.2 103.688788)scale(0.1 -0.1)\">\n       <defs>\n        <path d=\"M 40.578125 39.3125 \nQ 47.65625 37.796875 51.625 33 \nQ 55.609375 28.21875 55.609375 21.1875 \nQ 55.609375 10.40625 48.1875 4.484375 \nQ 40.765625 -1.421875 27.09375 -1.421875 \nQ 22.515625 -1.421875 17.65625 -0.515625 \nQ 12.796875 0.390625 7.625 2.203125 \nL 7.625 11.71875 \nQ 11.71875 9.328125 16.59375 8.109375 \nQ 21.484375 6.890625 26.8125 6.890625 \nQ 36.078125 6.890625 40.9375 10.546875 \nQ 45.796875 14.203125 45.796875 21.1875 \nQ 45.796875 27.640625 41.28125 31.265625 \nQ 36.765625 34.90625 28.71875 34.90625 \nL 20.21875 34.90625 \nL 20.21875 43.015625 \nL 29.109375 43.015625 \nQ 36.375 43.015625 40.234375 45.921875 \nQ 44.09375 48.828125 44.09375 54.296875 \nQ 44.09375 59.90625 40.109375 62.90625 \nQ 36.140625 65.921875 28.71875 65.921875 \nQ 24.65625 65.921875 20.015625 65.03125 \nQ 15.375 64.15625 9.8125 62.3125 \nL 9.8125 71.09375 \nQ 15.4375 72.65625 20.34375 73.4375 \nQ 25.25 74.21875 29.59375 74.21875 \nQ 40.828125 74.21875 47.359375 69.109375 \nQ 53.90625 64.015625 53.90625 55.328125 \nQ 53.90625 49.265625 50.4375 45.09375 \nQ 46.96875 40.921875 40.578125 39.3125 \nz\n\" id=\"DejaVuSans-51\"/>\n       </defs>\n       <use xlink:href=\"#DejaVuSans-51\"/>\n       <use x=\"63.623047\" xlink:href=\"#DejaVuSans-48\"/>\n       <use x=\"127.246094\" xlink:href=\"#DejaVuSans-48\"/>\n      </g>\n     </g>\n    </g>\n    <g id=\"ytick_5\">\n     <g id=\"line2d_19\">\n      <path clip-path=\"url(#p0b746f1702)\" d=\"M 33.2875 58.306093 \nL 368.0875 58.306093 \n\" style=\"fill:none;stroke:#b0b0b0;stroke-linecap:square;stroke-width:0.8;\"/>\n     </g>\n     <g id=\"line2d_20\">\n      <g>\n       <use style=\"stroke:#000000;stroke-width:0.8;\" x=\"33.2875\" xlink:href=\"#mda2ab8b15a\" y=\"58.306093\"/>\n      </g>\n     </g>\n     <g id=\"text_10\">\n      <!-- 400 -->\n      <g transform=\"translate(7.2 62.105312)scale(0.1 -0.1)\">\n       <use xlink:href=\"#DejaVuSans-52\"/>\n       <use x=\"63.623047\" xlink:href=\"#DejaVuSans-48\"/>\n       <use x=\"127.246094\" xlink:href=\"#DejaVuSans-48\"/>\n      </g>\n     </g>\n    </g>\n    <g id=\"ytick_6\">\n     <g id=\"line2d_21\">\n      <path clip-path=\"url(#p0b746f1702)\" d=\"M 33.2875 16.722616 \nL 368.0875 16.722616 \n\" style=\"fill:none;stroke:#b0b0b0;stroke-linecap:square;stroke-width:0.8;\"/>\n     </g>\n     <g id=\"line2d_22\">\n      <g>\n       <use style=\"stroke:#000000;stroke-width:0.8;\" x=\"33.2875\" xlink:href=\"#mda2ab8b15a\" y=\"16.722616\"/>\n      </g>\n     </g>\n     <g id=\"text_11\">\n      <!-- 500 -->\n      <g transform=\"translate(7.2 20.521835)scale(0.1 -0.1)\">\n       <defs>\n        <path d=\"M 10.796875 72.90625 \nL 49.515625 72.90625 \nL 49.515625 64.59375 \nL 19.828125 64.59375 \nL 19.828125 46.734375 \nQ 21.96875 47.46875 24.109375 47.828125 \nQ 26.265625 48.1875 28.421875 48.1875 \nQ 40.625 48.1875 47.75 41.5 \nQ 54.890625 34.8125 54.890625 23.390625 \nQ 54.890625 11.625 47.5625 5.09375 \nQ 40.234375 -1.421875 26.90625 -1.421875 \nQ 22.3125 -1.421875 17.546875 -0.640625 \nQ 12.796875 0.140625 7.71875 1.703125 \nL 7.71875 11.625 \nQ 12.109375 9.234375 16.796875 8.0625 \nQ 21.484375 6.890625 26.703125 6.890625 \nQ 35.15625 6.890625 40.078125 11.328125 \nQ 45.015625 15.765625 45.015625 23.390625 \nQ 45.015625 31 40.078125 35.4375 \nQ 35.15625 39.890625 26.703125 39.890625 \nQ 22.75 39.890625 18.8125 39.015625 \nQ 14.890625 38.140625 10.796875 36.28125 \nz\n\" id=\"DejaVuSans-53\"/>\n       </defs>\n       <use xlink:href=\"#DejaVuSans-53\"/>\n       <use x=\"63.623047\" xlink:href=\"#DejaVuSans-48\"/>\n       <use x=\"127.246094\" xlink:href=\"#DejaVuSans-48\"/>\n      </g>\n     </g>\n    </g>\n   </g>\n   <g id=\"patch_13\">\n    <path d=\"M 33.2875 224.64 \nL 33.2875 7.2 \n\" style=\"fill:none;stroke:#000000;stroke-linecap:square;stroke-linejoin:miter;stroke-width:0.8;\"/>\n   </g>\n   <g id=\"patch_14\">\n    <path d=\"M 368.0875 224.64 \nL 368.0875 7.2 \n\" style=\"fill:none;stroke:#000000;stroke-linecap:square;stroke-linejoin:miter;stroke-width:0.8;\"/>\n   </g>\n   <g id=\"patch_15\">\n    <path d=\"M 33.2875 224.64 \nL 368.0875 224.64 \n\" style=\"fill:none;stroke:#000000;stroke-linecap:square;stroke-linejoin:miter;stroke-width:0.8;\"/>\n   </g>\n   <g id=\"patch_16\">\n    <path d=\"M 33.2875 7.2 \nL 368.0875 7.2 \n\" style=\"fill:none;stroke:#000000;stroke-linecap:square;stroke-linejoin:miter;stroke-width:0.8;\"/>\n   </g>\n  </g>\n </g>\n <defs>\n  <clipPath id=\"p0b746f1702\">\n   <rect height=\"217.44\" width=\"334.8\" x=\"33.2875\" y=\"7.2\"/>\n  </clipPath>\n </defs>\n</svg>\n",
      "image/png": "[encoded data removed]"
     },
     "metadata": {
      "needs_background": "light",
      "image/png": {
       "width": 375,
       "height": 248
      }
     }
    }
   ]
  },
  {
   "cell_type": "code",
   "metadata": {
    "cell_id": "00038-3bc3b64c-48f6-4df7-bb6c-55a049eec263",
    "deepnote_cell_type": "code"
   },
   "source": "",
   "execution_count": null,
   "outputs": []
  },
  {
   "cell_type": "code",
   "metadata": {
    "cell_id": "00039-276022de-ac7f-4b99-88bb-9c3ecab13f24",
    "deepnote_cell_type": "code"
   },
   "source": "X_train, X_test, y_train, y_test = train_test_split(X, y, test_size=0.3, random_state=42)\n\nrfr = RandomForestRegressor(n_estimators=250, random_state=42)\nrfr.fit(X_train, y_train)\n\ny_pred_rand_for = rfr.predict(X_test)\ny_pred_train = rfr.predict(X_train)\n\nprint('Test:', math.sqrt(mean_squared_error(y_test, y_pred_rand_for)), r2_score(y_test, y_pred_rand_for))\nprint('Train:', math.sqrt(mean_squared_error(y_train, y_pred_train)), r2_score(y_train, y_pred_train))",
   "execution_count": null,
   "outputs": [
    {
     "output_type": "stream",
     "name": "stdout",
     "text": "Test: 6.277245955957676 -0.017411659328566476\nTrain: 2.3338333765520187 0.8597577379023195\n"
    }
   ]
  },
  {
   "cell_type": "code",
   "metadata": {
    "cell_id": "00040-718bf172-93d6-4d74-bcdd-951bad7a084f",
    "deepnote_cell_type": "code"
   },
   "source": "import numpy as np\nimport matplotlib.pyplot as plt\nimport skfuzzy as fuzz",
   "execution_count": null,
   "outputs": []
  },
  {
   "cell_type": "code",
   "metadata": {
    "cell_id": "00041-627416e0-6e49-4998-be53-42d072b7c68c",
    "deepnote_cell_type": "code"
   },
   "source": "\ncolors = ['b', 'orange', 'g', 'r', 'c', 'm', 'y', 'k', 'Brown', 'ForestGreen']\n\n# Define three cluster centers\ncenters = [[4, 2],\n           [1, 7],\n           [5, 6]]\n\n# Define three cluster sigmas in x and y, respectively\nsigmas = [[0.8, 0.3],\n          [0.3, 0.5],\n          [1.1, 0.7]]\n\n# Generate test data\nnp.random.seed(42)  # Set seed for reproducibility\nxpts = np.zeros(1)\nypts = np.zeros(1)\nlabels = np.zeros(1)\nfor i, ((xmu, ymu), (xsigma, ysigma)) in enumerate(zip(centers, sigmas)):\n    xpts = np.hstack((xpts, np.random.standard_normal(200) * xsigma + xmu))\n    ypts = np.hstack((ypts, np.random.standard_normal(200) * ysigma + ymu))\n    labels = np.hstack((labels, np.ones(200) * i))\n\n# Visualize the test data\nfig0, ax0 = plt.subplots()\nfor label in range(3):\n    ax0.plot(xpts[labels == label], ypts[labels == label], '.',\n             color=colors[label])\nax0.set_title('Test data: 200 points x3 clusters.')",
   "execution_count": null,
   "outputs": [
    {
     "output_type": "execute_result",
     "data": {
      "text/plain": "Text(0.5, 1.0, 'Test data: 200 points x3 clusters.')"
     },
     "metadata": {},
     "execution_count": 97
    },
    {
     "output_type": "display_data",
     "data": {
      "text/plain": "<Figure size 432x288 with 1 Axes>",
      "image/svg+xml": "<?xml version=\"1.0\" encoding=\"utf-8\" standalone=\"no\"?>\n<!DOCTYPE svg PUBLIC \"-//W3C//DTD SVG 1.1//EN\"\n  \"http://www.w3.org/Graphics/SVG/1.1/DTD/svg11.dtd\">\n<!-- Created with matplotlib (https://matplotlib.org/) -->\n<svg height=\"263.63625pt\" version=\"1.1\" viewBox=\"0 0 362.5625 263.63625\" width=\"362.5625pt\" xmlns=\"http://www.w3.org/2000/svg\" xmlns:xlink=\"http://www.w3.org/1999/xlink\">\n <metadata>\n  <rdf:RDF xmlns:cc=\"http://creativecommons.org/ns#\" xmlns:dc=\"http://purl.org/dc/elements/1.1/\" xmlns:rdf=\"http://www.w3.org/1999/02/22-rdf-syntax-ns#\">\n   <cc:Work>\n    <dc:type rdf:resource=\"http://purl.org/dc/dcmitype/StillImage\"/>\n    <dc:date>2021-07-17T02:13:23.931513</dc:date>\n    <dc:format>image/svg+xml</dc:format>\n    <dc:creator>\n     <cc:Agent>\n      <dc:title>Matplotlib v3.3.2, https://matplotlib.org/</dc:title>\n     </cc:Agent>\n    </dc:creator>\n   </cc:Work>\n  </rdf:RDF>\n </metadata>\n <defs>\n  <style type=\"text/css\">*{stroke-linecap:butt;stroke-linejoin:round;}</style>\n </defs>\n <g id=\"figure_1\">\n  <g id=\"patch_1\">\n   <path d=\"M 0 263.63625 \nL 362.5625 263.63625 \nL 362.5625 0 \nL 0 0 \nz\n\" style=\"fill:none;\"/>\n  </g>\n  <g id=\"axes_1\">\n   <g id=\"patch_2\">\n    <path d=\"M 20.5625 239.758125 \nL 355.3625 239.758125 \nL 355.3625 22.318125 \nL 20.5625 22.318125 \nz\n\" style=\"fill:#ffffff;\"/>\n   </g>\n   <g id=\"matplotlib.axis_1\">\n    <g id=\"xtick_1\">\n     <g id=\"line2d_1\">\n      <defs>\n       <path d=\"M 0 0 \nL 0 3.5 \n\" id=\"m517205a386\" style=\"stroke:#000000;stroke-width:0.8;\"/>\n      </defs>\n      <g>\n       <use style=\"stroke:#000000;stroke-width:0.8;\" x=\"35.780682\" xlink:href=\"#m517205a386\" y=\"239.758125\"/>\n      </g>\n     </g>\n     <g id=\"text_1\">\n      <!-- 0 -->\n      <g transform=\"translate(32.599432 254.356563)scale(0.1 -0.1)\">\n       <defs>\n        <path d=\"M 31.78125 66.40625 \nQ 24.171875 66.40625 20.328125 58.90625 \nQ 16.5 51.421875 16.5 36.375 \nQ 16.5 21.390625 20.328125 13.890625 \nQ 24.171875 6.390625 31.78125 6.390625 \nQ 39.453125 6.390625 43.28125 13.890625 \nQ 47.125 21.390625 47.125 36.375 \nQ 47.125 51.421875 43.28125 58.90625 \nQ 39.453125 66.40625 31.78125 66.40625 \nz\nM 31.78125 74.21875 \nQ 44.046875 74.21875 50.515625 64.515625 \nQ 56.984375 54.828125 56.984375 36.375 \nQ 56.984375 17.96875 50.515625 8.265625 \nQ 44.046875 -1.421875 31.78125 -1.421875 \nQ 19.53125 -1.421875 13.0625 8.265625 \nQ 6.59375 17.96875 6.59375 36.375 \nQ 6.59375 54.828125 13.0625 64.515625 \nQ 19.53125 74.21875 31.78125 74.21875 \nz\n\" id=\"DejaVuSans-48\"/>\n       </defs>\n       <use xlink:href=\"#DejaVuSans-48\"/>\n      </g>\n     </g>\n    </g>\n    <g id=\"xtick_2\">\n     <g id=\"line2d_2\">\n      <g>\n       <use style=\"stroke:#000000;stroke-width:0.8;\" x=\"74.903854\" xlink:href=\"#m517205a386\" y=\"239.758125\"/>\n      </g>\n     </g>\n     <g id=\"text_2\">\n      <!-- 1 -->\n      <g transform=\"translate(71.722604 254.356563)scale(0.1 -0.1)\">\n       <defs>\n        <path d=\"M 12.40625 8.296875 \nL 28.515625 8.296875 \nL 28.515625 63.921875 \nL 10.984375 60.40625 \nL 10.984375 69.390625 \nL 28.421875 72.90625 \nL 38.28125 72.90625 \nL 38.28125 8.296875 \nL 54.390625 8.296875 \nL 54.390625 0 \nL 12.40625 0 \nz\n\" id=\"DejaVuSans-49\"/>\n       </defs>\n       <use xlink:href=\"#DejaVuSans-49\"/>\n      </g>\n     </g>\n    </g>\n    <g id=\"xtick_3\">\n     <g id=\"line2d_3\">\n      <g>\n       <use style=\"stroke:#000000;stroke-width:0.8;\" x=\"114.027027\" xlink:href=\"#m517205a386\" y=\"239.758125\"/>\n      </g>\n     </g>\n     <g id=\"text_3\">\n      <!-- 2 -->\n      <g transform=\"translate(110.845777 254.356563)scale(0.1 -0.1)\">\n       <defs>\n        <path d=\"M 19.1875 8.296875 \nL 53.609375 8.296875 \nL 53.609375 0 \nL 7.328125 0 \nL 7.328125 8.296875 \nQ 12.9375 14.109375 22.625 23.890625 \nQ 32.328125 33.6875 34.8125 36.53125 \nQ 39.546875 41.84375 41.421875 45.53125 \nQ 43.3125 49.21875 43.3125 52.78125 \nQ 43.3125 58.59375 39.234375 62.25 \nQ 35.15625 65.921875 28.609375 65.921875 \nQ 23.96875 65.921875 18.8125 64.3125 \nQ 13.671875 62.703125 7.8125 59.421875 \nL 7.8125 69.390625 \nQ 13.765625 71.78125 18.9375 73 \nQ 24.125 74.21875 28.421875 74.21875 \nQ 39.75 74.21875 46.484375 68.546875 \nQ 53.21875 62.890625 53.21875 53.421875 \nQ 53.21875 48.921875 51.53125 44.890625 \nQ 49.859375 40.875 45.40625 35.40625 \nQ 44.1875 33.984375 37.640625 27.21875 \nQ 31.109375 20.453125 19.1875 8.296875 \nz\n\" id=\"DejaVuSans-50\"/>\n       </defs>\n       <use xlink:href=\"#DejaVuSans-50\"/>\n      </g>\n     </g>\n    </g>\n    <g id=\"xtick_4\">\n     <g id=\"line2d_4\">\n      <g>\n       <use style=\"stroke:#000000;stroke-width:0.8;\" x=\"153.150199\" xlink:href=\"#m517205a386\" y=\"239.758125\"/>\n      </g>\n     </g>\n     <g id=\"text_4\">\n      <!-- 3 -->\n      <g transform=\"translate(149.968949 254.356563)scale(0.1 -0.1)\">\n       <defs>\n        <path d=\"M 40.578125 39.3125 \nQ 47.65625 37.796875 51.625 33 \nQ 55.609375 28.21875 55.609375 21.1875 \nQ 55.609375 10.40625 48.1875 4.484375 \nQ 40.765625 -1.421875 27.09375 -1.421875 \nQ 22.515625 -1.421875 17.65625 -0.515625 \nQ 12.796875 0.390625 7.625 2.203125 \nL 7.625 11.71875 \nQ 11.71875 9.328125 16.59375 8.109375 \nQ 21.484375 6.890625 26.8125 6.890625 \nQ 36.078125 6.890625 40.9375 10.546875 \nQ 45.796875 14.203125 45.796875 21.1875 \nQ 45.796875 27.640625 41.28125 31.265625 \nQ 36.765625 34.90625 28.71875 34.90625 \nL 20.21875 34.90625 \nL 20.21875 43.015625 \nL 29.109375 43.015625 \nQ 36.375 43.015625 40.234375 45.921875 \nQ 44.09375 48.828125 44.09375 54.296875 \nQ 44.09375 59.90625 40.109375 62.90625 \nQ 36.140625 65.921875 28.71875 65.921875 \nQ 24.65625 65.921875 20.015625 65.03125 \nQ 15.375 64.15625 9.8125 62.3125 \nL 9.8125 71.09375 \nQ 15.4375 72.65625 20.34375 73.4375 \nQ 25.25 74.21875 29.59375 74.21875 \nQ 40.828125 74.21875 47.359375 69.109375 \nQ 53.90625 64.015625 53.90625 55.328125 \nQ 53.90625 49.265625 50.4375 45.09375 \nQ 46.96875 40.921875 40.578125 39.3125 \nz\n\" id=\"DejaVuSans-51\"/>\n       </defs>\n       <use xlink:href=\"#DejaVuSans-51\"/>\n      </g>\n     </g>\n    </g>\n    <g id=\"xtick_5\">\n     <g id=\"line2d_5\">\n      <g>\n       <use style=\"stroke:#000000;stroke-width:0.8;\" x=\"192.273371\" xlink:href=\"#m517205a386\" y=\"239.758125\"/>\n      </g>\n     </g>\n     <g id=\"text_5\">\n      <!-- 4 -->\n      <g transform=\"translate(189.092121 254.356563)scale(0.1 -0.1)\">\n       <defs>\n        <path d=\"M 37.796875 64.3125 \nL 12.890625 25.390625 \nL 37.796875 25.390625 \nz\nM 35.203125 72.90625 \nL 47.609375 72.90625 \nL 47.609375 25.390625 \nL 58.015625 25.390625 \nL 58.015625 17.1875 \nL 47.609375 17.1875 \nL 47.609375 0 \nL 37.796875 0 \nL 37.796875 17.1875 \nL 4.890625 17.1875 \nL 4.890625 26.703125 \nz\n\" id=\"DejaVuSans-52\"/>\n       </defs>\n       <use xlink:href=\"#DejaVuSans-52\"/>\n      </g>\n     </g>\n    </g>\n    <g id=\"xtick_6\">\n     <g id=\"line2d_6\">\n      <g>\n       <use style=\"stroke:#000000;stroke-width:0.8;\" x=\"231.396544\" xlink:href=\"#m517205a386\" y=\"239.758125\"/>\n      </g>\n     </g>\n     <g id=\"text_6\">\n      <!-- 5 -->\n      <g transform=\"translate(228.215294 254.356563)scale(0.1 -0.1)\">\n       <defs>\n        <path d=\"M 10.796875 72.90625 \nL 49.515625 72.90625 \nL 49.515625 64.59375 \nL 19.828125 64.59375 \nL 19.828125 46.734375 \nQ 21.96875 47.46875 24.109375 47.828125 \nQ 26.265625 48.1875 28.421875 48.1875 \nQ 40.625 48.1875 47.75 41.5 \nQ 54.890625 34.8125 54.890625 23.390625 \nQ 54.890625 11.625 47.5625 5.09375 \nQ 40.234375 -1.421875 26.90625 -1.421875 \nQ 22.3125 -1.421875 17.546875 -0.640625 \nQ 12.796875 0.140625 7.71875 1.703125 \nL 7.71875 11.625 \nQ 12.109375 9.234375 16.796875 8.0625 \nQ 21.484375 6.890625 26.703125 6.890625 \nQ 35.15625 6.890625 40.078125 11.328125 \nQ 45.015625 15.765625 45.015625 23.390625 \nQ 45.015625 31 40.078125 35.4375 \nQ 35.15625 39.890625 26.703125 39.890625 \nQ 22.75 39.890625 18.8125 39.015625 \nQ 14.890625 38.140625 10.796875 36.28125 \nz\n\" id=\"DejaVuSans-53\"/>\n       </defs>\n       <use xlink:href=\"#DejaVuSans-53\"/>\n      </g>\n     </g>\n    </g>\n    <g id=\"xtick_7\">\n     <g id=\"line2d_7\">\n      <g>\n       <use style=\"stroke:#000000;stroke-width:0.8;\" x=\"270.519716\" xlink:href=\"#m517205a386\" y=\"239.758125\"/>\n      </g>\n     </g>\n     <g id=\"text_7\">\n      <!-- 6 -->\n      <g transform=\"translate(267.338466 254.356563)scale(0.1 -0.1)\">\n       <defs>\n        <path d=\"M 33.015625 40.375 \nQ 26.375 40.375 22.484375 35.828125 \nQ 18.609375 31.296875 18.609375 23.390625 \nQ 18.609375 15.53125 22.484375 10.953125 \nQ 26.375 6.390625 33.015625 6.390625 \nQ 39.65625 6.390625 43.53125 10.953125 \nQ 47.40625 15.53125 47.40625 23.390625 \nQ 47.40625 31.296875 43.53125 35.828125 \nQ 39.65625 40.375 33.015625 40.375 \nz\nM 52.59375 71.296875 \nL 52.59375 62.3125 \nQ 48.875 64.0625 45.09375 64.984375 \nQ 41.3125 65.921875 37.59375 65.921875 \nQ 27.828125 65.921875 22.671875 59.328125 \nQ 17.53125 52.734375 16.796875 39.40625 \nQ 19.671875 43.65625 24.015625 45.921875 \nQ 28.375 48.1875 33.59375 48.1875 \nQ 44.578125 48.1875 50.953125 41.515625 \nQ 57.328125 34.859375 57.328125 23.390625 \nQ 57.328125 12.15625 50.6875 5.359375 \nQ 44.046875 -1.421875 33.015625 -1.421875 \nQ 20.359375 -1.421875 13.671875 8.265625 \nQ 6.984375 17.96875 6.984375 36.375 \nQ 6.984375 53.65625 15.1875 63.9375 \nQ 23.390625 74.21875 37.203125 74.21875 \nQ 40.921875 74.21875 44.703125 73.484375 \nQ 48.484375 72.75 52.59375 71.296875 \nz\n\" id=\"DejaVuSans-54\"/>\n       </defs>\n       <use xlink:href=\"#DejaVuSans-54\"/>\n      </g>\n     </g>\n    </g>\n    <g id=\"xtick_8\">\n     <g id=\"line2d_8\">\n      <g>\n       <use style=\"stroke:#000000;stroke-width:0.8;\" x=\"309.642889\" xlink:href=\"#m517205a386\" y=\"239.758125\"/>\n      </g>\n     </g>\n     <g id=\"text_8\">\n      <!-- 7 -->\n      <g transform=\"translate(306.461639 254.356563)scale(0.1 -0.1)\">\n       <defs>\n        <path d=\"M 8.203125 72.90625 \nL 55.078125 72.90625 \nL 55.078125 68.703125 \nL 28.609375 0 \nL 18.3125 0 \nL 43.21875 64.59375 \nL 8.203125 64.59375 \nz\n\" id=\"DejaVuSans-55\"/>\n       </defs>\n       <use xlink:href=\"#DejaVuSans-55\"/>\n      </g>\n     </g>\n    </g>\n    <g id=\"xtick_9\">\n     <g id=\"line2d_9\">\n      <g>\n       <use style=\"stroke:#000000;stroke-width:0.8;\" x=\"348.766061\" xlink:href=\"#m517205a386\" y=\"239.758125\"/>\n      </g>\n     </g>\n     <g id=\"text_9\">\n      <!-- 8 -->\n      <g transform=\"translate(345.584811 254.356563)scale(0.1 -0.1)\">\n       <defs>\n        <path d=\"M 31.78125 34.625 \nQ 24.75 34.625 20.71875 30.859375 \nQ 16.703125 27.09375 16.703125 20.515625 \nQ 16.703125 13.921875 20.71875 10.15625 \nQ 24.75 6.390625 31.78125 6.390625 \nQ 38.8125 6.390625 42.859375 10.171875 \nQ 46.921875 13.96875 46.921875 20.515625 \nQ 46.921875 27.09375 42.890625 30.859375 \nQ 38.875 34.625 31.78125 34.625 \nz\nM 21.921875 38.8125 \nQ 15.578125 40.375 12.03125 44.71875 \nQ 8.5 49.078125 8.5 55.328125 \nQ 8.5 64.0625 14.71875 69.140625 \nQ 20.953125 74.21875 31.78125 74.21875 \nQ 42.671875 74.21875 48.875 69.140625 \nQ 55.078125 64.0625 55.078125 55.328125 \nQ 55.078125 49.078125 51.53125 44.71875 \nQ 48 40.375 41.703125 38.8125 \nQ 48.828125 37.15625 52.796875 32.3125 \nQ 56.78125 27.484375 56.78125 20.515625 \nQ 56.78125 9.90625 50.3125 4.234375 \nQ 43.84375 -1.421875 31.78125 -1.421875 \nQ 19.734375 -1.421875 13.25 4.234375 \nQ 6.78125 9.90625 6.78125 20.515625 \nQ 6.78125 27.484375 10.78125 32.3125 \nQ 14.796875 37.15625 21.921875 38.8125 \nz\nM 18.3125 54.390625 \nQ 18.3125 48.734375 21.84375 45.5625 \nQ 25.390625 42.390625 31.78125 42.390625 \nQ 38.140625 42.390625 41.71875 45.5625 \nQ 45.3125 48.734375 45.3125 54.390625 \nQ 45.3125 60.0625 41.71875 63.234375 \nQ 38.140625 66.40625 31.78125 66.40625 \nQ 25.390625 66.40625 21.84375 63.234375 \nQ 18.3125 60.0625 18.3125 54.390625 \nz\n\" id=\"DejaVuSans-56\"/>\n       </defs>\n       <use xlink:href=\"#DejaVuSans-56\"/>\n      </g>\n     </g>\n    </g>\n   </g>\n   <g id=\"matplotlib.axis_2\">\n    <g id=\"ytick_1\">\n     <g id=\"line2d_10\">\n      <defs>\n       <path d=\"M 0 0 \nL -3.5 0 \n\" id=\"m2bdd9147f2\" style=\"stroke:#000000;stroke-width:0.8;\"/>\n      </defs>\n      <g>\n       <use style=\"stroke:#000000;stroke-width:0.8;\" x=\"20.5625\" xlink:href=\"#m2bdd9147f2\" y=\"229.874489\"/>\n      </g>\n     </g>\n     <g id=\"text_10\">\n      <!-- 0 -->\n      <g transform=\"translate(7.2 233.673707)scale(0.1 -0.1)\">\n       <use xlink:href=\"#DejaVuSans-48\"/>\n      </g>\n     </g>\n    </g>\n    <g id=\"ytick_2\">\n     <g id=\"line2d_11\">\n      <g>\n       <use style=\"stroke:#000000;stroke-width:0.8;\" x=\"20.5625\" xlink:href=\"#m2bdd9147f2\" y=\"182.335242\"/>\n      </g>\n     </g>\n     <g id=\"text_11\">\n      <!-- 2 -->\n      <g transform=\"translate(7.2 186.134461)scale(0.1 -0.1)\">\n       <use xlink:href=\"#DejaVuSans-50\"/>\n      </g>\n     </g>\n    </g>\n    <g id=\"ytick_3\">\n     <g id=\"line2d_12\">\n      <g>\n       <use style=\"stroke:#000000;stroke-width:0.8;\" x=\"20.5625\" xlink:href=\"#m2bdd9147f2\" y=\"134.795996\"/>\n      </g>\n     </g>\n     <g id=\"text_12\">\n      <!-- 4 -->\n      <g transform=\"translate(7.2 138.595215)scale(0.1 -0.1)\">\n       <use xlink:href=\"#DejaVuSans-52\"/>\n      </g>\n     </g>\n    </g>\n    <g id=\"ytick_4\">\n     <g id=\"line2d_13\">\n      <g>\n       <use style=\"stroke:#000000;stroke-width:0.8;\" x=\"20.5625\" xlink:href=\"#m2bdd9147f2\" y=\"87.256749\"/>\n      </g>\n     </g>\n     <g id=\"text_13\">\n      <!-- 6 -->\n      <g transform=\"translate(7.2 91.055968)scale(0.1 -0.1)\">\n       <use xlink:href=\"#DejaVuSans-54\"/>\n      </g>\n     </g>\n    </g>\n    <g id=\"ytick_5\">\n     <g id=\"line2d_14\">\n      <g>\n       <use style=\"stroke:#000000;stroke-width:0.8;\" x=\"20.5625\" xlink:href=\"#m2bdd9147f2\" y=\"39.717503\"/>\n      </g>\n     </g>\n     <g id=\"text_14\">\n      <!-- 8 -->\n      <g transform=\"translate(7.2 43.516722)scale(0.1 -0.1)\">\n       <use xlink:href=\"#DejaVuSans-56\"/>\n      </g>\n     </g>\n    </g>\n   </g>\n   <g id=\"line2d_15\">\n    <defs>\n     <path d=\"M 0 1.5 \nC 0.397805 1.5 0.77937 1.341951 1.06066 1.06066 \nC 1.341951 0.77937 1.5 0.397805 1.5 0 \nC 1.5 -0.397805 1.341951 -0.77937 1.06066 -1.06066 \nC 0.77937 -1.341951 0.397805 -1.5 0 -1.5 \nC -0.397805 -1.5 -0.77937 -1.341951 -1.06066 -1.06066 \nC -1.341951 -0.77937 -1.5 -0.397805 -1.5 0 \nC -1.5 0.397805 -1.341951 0.77937 -1.06066 1.06066 \nC -0.77937 1.341951 -0.397805 1.5 0 1.5 \nz\n\" id=\"me82964949c\" style=\"stroke:#0000ff;\"/>\n    </defs>\n    <g clip-path=\"url(#p9459fd928d)\">\n     <use style=\"fill:#0000ff;stroke:#0000ff;\" x=\"35.780682\" xlink:href=\"#me82964949c\" y=\"229.874489\"/>\n     <use style=\"fill:#0000ff;stroke:#0000ff;\" x=\"207.819798\" xlink:href=\"#me82964949c\" y=\"179.783901\"/>\n     <use style=\"fill:#0000ff;stroke:#0000ff;\" x=\"187.945901\" xlink:href=\"#me82964949c\" y=\"178.336351\"/>\n     <use style=\"fill:#0000ff;stroke:#0000ff;\" x=\"212.545076\" xlink:href=\"#me82964949c\" y=\"174.612126\"/>\n     <use style=\"fill:#0000ff;stroke:#0000ff;\" x=\"239.941979\" xlink:href=\"#me82964949c\" y=\"174.820699\"/>\n     <use style=\"fill:#0000ff;stroke:#0000ff;\" x=\"184.944713\" xlink:href=\"#me82964949c\" y=\"192.159247\"/>\n     <use style=\"fill:#0000ff;stroke:#0000ff;\" x=\"184.945227\" xlink:href=\"#me82964949c\" y=\"189.022767\"/>\n     <use style=\"fill:#0000ff;stroke:#0000ff;\" x=\"241.700424\" xlink:href=\"#me82964949c\" y=\"178.662584\"/>\n     <use style=\"fill:#0000ff;stroke:#0000ff;\" x=\"216.292956\" xlink:href=\"#me82964949c\" y=\"178.671493\"/>\n     <use style=\"fill:#0000ff;stroke:#0000ff;\" x=\"177.57951\" xlink:href=\"#me82964949c\" y=\"178.662495\"/>\n     <use style=\"fill:#0000ff;stroke:#0000ff;\" x=\"209.254708\" xlink:href=\"#me82964949c\" y=\"154.861849\"/>\n     <use style=\"fill:#0000ff;stroke:#0000ff;\" x=\"177.769075\" xlink:href=\"#me82964949c\" y=\"178.264287\"/>\n     <use style=\"fill:#0000ff;stroke:#0000ff;\" x=\"177.696711\" xlink:href=\"#me82964949c\" y=\"174.237652\"/>\n     <use style=\"fill:#0000ff;stroke:#0000ff;\" x=\"199.846437\" xlink:href=\"#me82964949c\" y=\"175.532364\"/>\n     <use style=\"fill:#0000ff;stroke:#0000ff;\" x=\"132.390497\" xlink:href=\"#me82964949c\" y=\"177.690245\"/>\n     <use style=\"fill:#0000ff;stroke:#0000ff;\" x=\"138.285965\" xlink:href=\"#me82964949c\" y=\"184.583392\"/>\n     <use style=\"fill:#0000ff;stroke:#0000ff;\" x=\"174.674594\" xlink:href=\"#me82964949c\" y=\"176.923119\"/>\n     <use style=\"fill:#0000ff;stroke:#0000ff;\" x=\"160.573238\" xlink:href=\"#me82964949c\" y=\"187.846171\"/>\n     <use style=\"fill:#0000ff;stroke:#0000ff;\" x=\"202.108854\" xlink:href=\"#me82964949c\" y=\"184.023969\"/>\n     <use style=\"fill:#0000ff;stroke:#0000ff;\" x=\"163.853546\" xlink:href=\"#me82964949c\" y=\"185.796315\"/>\n     <use style=\"fill:#0000ff;stroke:#0000ff;\" x=\"148.070331\" xlink:href=\"#me82964949c\" y=\"181.751407\"/>\n     <use style=\"fill:#0000ff;stroke:#0000ff;\" x=\"238.146035\" xlink:href=\"#me82964949c\" y=\"165.829674\"/>\n     <use style=\"fill:#0000ff;stroke:#0000ff;\" x=\"185.206903\" xlink:href=\"#me82964949c\" y=\"195.650499\"/>\n     <use style=\"fill:#0000ff;stroke:#0000ff;\" x=\"194.386906\" xlink:href=\"#me82964949c\" y=\"177.441598\"/>\n     <use style=\"fill:#0000ff;stroke:#0000ff;\" x=\"147.680836\" xlink:href=\"#me82964949c\" y=\"193.835337\"/>\n     <use style=\"fill:#0000ff;stroke:#0000ff;\" x=\"175.234988\" xlink:href=\"#me82964949c\" y=\"185.700535\"/>\n     <use style=\"fill:#0000ff;stroke:#0000ff;\" x=\"195.745086\" xlink:href=\"#me82964949c\" y=\"174.570059\"/>\n     <use style=\"fill:#0000ff;stroke:#0000ff;\" x=\"156.248955\" xlink:href=\"#me82964949c\" y=\"181.876869\"/>\n     <use style=\"fill:#0000ff;stroke:#0000ff;\" x=\"204.03217\" xlink:href=\"#me82964949c\" y=\"190.020518\"/>\n     <use style=\"fill:#0000ff;stroke:#0000ff;\" x=\"173.474259\" xlink:href=\"#me82964949c\" y=\"187.435992\"/>\n     <use style=\"fill:#0000ff;stroke:#0000ff;\" x=\"183.143784\" xlink:href=\"#me82964949c\" y=\"177.489108\"/>\n     <use style=\"fill:#0000ff;stroke:#0000ff;\" x=\"173.440834\" xlink:href=\"#me82964949c\" y=\"187.543404\"/>\n     <use style=\"fill:#0000ff;stroke:#0000ff;\" x=\"250.246971\" xlink:href=\"#me82964949c\" y=\"180.791701\"/>\n     <use style=\"fill:#0000ff;stroke:#0000ff;\" x=\"191.850928\" xlink:href=\"#me82964949c\" y=\"182.010275\"/>\n     <use style=\"fill:#0000ff;stroke:#0000ff;\" x=\"159.168566\" xlink:href=\"#me82964949c\" y=\"186.981731\"/>\n     <use style=\"fill:#0000ff;stroke:#0000ff;\" x=\"218.017825\" xlink:href=\"#me82964949c\" y=\"167.047019\"/>\n     <use style=\"fill:#0000ff;stroke:#0000ff;\" x=\"154.06275\" xlink:href=\"#me82964949c\" y=\"177.814837\"/>\n     <use style=\"fill:#0000ff;stroke:#0000ff;\" x=\"198.810497\" xlink:href=\"#me82964949c\" y=\"196.776305\"/>\n     <use style=\"fill:#0000ff;stroke:#0000ff;\" x=\"130.938562\" xlink:href=\"#me82964949c\" y=\"181.005658\"/>\n     <use style=\"fill:#0000ff;stroke:#0000ff;\" x=\"150.70309\" xlink:href=\"#me82964949c\" y=\"187.054367\"/>\n     <use style=\"fill:#0000ff;stroke:#0000ff;\" x=\"198.43484\" xlink:href=\"#me82964949c\" y=\"176.256636\"/>\n     <use style=\"fill:#0000ff;stroke:#0000ff;\" x=\"215.386296\" xlink:href=\"#me82964949c\" y=\"187.986618\"/>\n     <use style=\"fill:#0000ff;stroke:#0000ff;\" x=\"197.636948\" xlink:href=\"#me82964949c\" y=\"183.153415\"/>\n     <use style=\"fill:#0000ff;stroke:#0000ff;\" x=\"188.653749\" xlink:href=\"#me82964949c\" y=\"178.734235\"/>\n     <use style=\"fill:#0000ff;stroke:#0000ff;\" x=\"182.849266\" xlink:href=\"#me82964949c\" y=\"176.16164\"/>\n     <use style=\"fill:#0000ff;stroke:#0000ff;\" x=\"145.997795\" xlink:href=\"#me82964949c\" y=\"190.89442\"/>\n     <use style=\"fill:#0000ff;stroke:#0000ff;\" x=\"169.7433\" xlink:href=\"#me82964949c\" y=\"184.720533\"/>\n     <use style=\"fill:#0000ff;stroke:#0000ff;\" x=\"177.856051\" xlink:href=\"#me82964949c\" y=\"185.722024\"/>\n     <use style=\"fill:#0000ff;stroke:#0000ff;\" x=\"225.359752\" xlink:href=\"#me82964949c\" y=\"186.994059\"/>\n     <use style=\"fill:#0000ff;stroke:#0000ff;\" x=\"203.028122\" xlink:href=\"#me82964949c\" y=\"169.745988\"/>\n     <use style=\"fill:#0000ff;stroke:#0000ff;\" x=\"137.092792\" xlink:href=\"#me82964949c\" y=\"179.447363\"/>\n     <use style=\"fill:#0000ff;stroke:#0000ff;\" x=\"202.416726\" xlink:href=\"#me82964949c\" y=\"191.326463\"/>\n     <use style=\"fill:#0000ff;stroke:#0000ff;\" x=\"180.220859\" xlink:href=\"#me82964949c\" y=\"175.790072\"/>\n     <use style=\"fill:#0000ff;stroke:#0000ff;\" x=\"171.086703\" xlink:href=\"#me82964949c\" y=\"167.202386\"/>\n     <use style=\"fill:#0000ff;stroke:#0000ff;\" x=\"211.417945\" xlink:href=\"#me82964949c\" y=\"174.972849\"/>\n     <use style=\"fill:#0000ff;stroke:#0000ff;\" x=\"224.542149\" xlink:href=\"#me82964949c\" y=\"193.169698\"/>\n     <use style=\"fill:#0000ff;stroke:#0000ff;\" x=\"221.421078\" xlink:href=\"#me82964949c\" y=\"185.788261\"/>\n     <use style=\"fill:#0000ff;stroke:#0000ff;\" x=\"166.00709\" xlink:href=\"#me82964949c\" y=\"173.301042\"/>\n     <use style=\"fill:#0000ff;stroke:#0000ff;\" x=\"182.595476\" xlink:href=\"#me82964949c\" y=\"187.381553\"/>\n     <use style=\"fill:#0000ff;stroke:#0000ff;\" x=\"202.641433\" xlink:href=\"#me82964949c\" y=\"179.170416\"/>\n     <use style=\"fill:#0000ff;stroke:#0000ff;\" x=\"222.806508\" xlink:href=\"#me82964949c\" y=\"176.811414\"/>\n     <use style=\"fill:#0000ff;stroke:#0000ff;\" x=\"177.275918\" xlink:href=\"#me82964949c\" y=\"188.945079\"/>\n     <use style=\"fill:#0000ff;stroke:#0000ff;\" x=\"186.462517\" xlink:href=\"#me82964949c\" y=\"182.759711\"/>\n     <use style=\"fill:#0000ff;stroke:#0000ff;\" x=\"157.646704\" xlink:href=\"#me82964949c\" y=\"205.448353\"/>\n     <use style=\"fill:#0000ff;stroke:#0000ff;\" x=\"154.833853\" xlink:href=\"#me82964949c\" y=\"189.640035\"/>\n     <use style=\"fill:#0000ff;stroke:#0000ff;\" x=\"217.704242\" xlink:href=\"#me82964949c\" y=\"184.136277\"/>\n     <use style=\"fill:#0000ff;stroke:#0000ff;\" x=\"234.721701\" xlink:href=\"#me82964949c\" y=\"191.233043\"/>\n     <use style=\"fill:#0000ff;stroke:#0000ff;\" x=\"190.01956\" xlink:href=\"#me82964949c\" y=\"170.694702\"/>\n     <use style=\"fill:#0000ff;stroke:#0000ff;\" x=\"223.682484\" xlink:href=\"#me82964949c\" y=\"192.533419\"/>\n     <use style=\"fill:#0000ff;stroke:#0000ff;\" x=\"203.59205\" xlink:href=\"#me82964949c\" y=\"185.47315\"/>\n     <use style=\"fill:#0000ff;stroke:#0000ff;\" x=\"172.082066\" xlink:href=\"#me82964949c\" y=\"181.402946\"/>\n     <use style=\"fill:#0000ff;stroke:#0000ff;\" x=\"203.584526\" xlink:href=\"#me82964949c\" y=\"172.057685\"/>\n     <use style=\"fill:#0000ff;stroke:#0000ff;\" x=\"240.411667\" xlink:href=\"#me82964949c\" y=\"192.574213\"/>\n     <use style=\"fill:#0000ff;stroke:#0000ff;\" x=\"191.152069\" xlink:href=\"#me82964949c\" y=\"174.040853\"/>\n     <use style=\"fill:#0000ff;stroke:#0000ff;\" x=\"241.24443\" xlink:href=\"#me82964949c\" y=\"182.262271\"/>\n     <use style=\"fill:#0000ff;stroke:#0000ff;\" x=\"110.27918\" xlink:href=\"#me82964949c\" y=\"189.334269\"/>\n     <use style=\"fill:#0000ff;stroke:#0000ff;\" x=\"217.997718\" xlink:href=\"#me82964949c\" y=\"179.040035\"/>\n     <use style=\"fill:#0000ff;stroke:#0000ff;\" x=\"194.997817\" xlink:href=\"#me82964949c\" y=\"180.91577\"/>\n     <use style=\"fill:#0000ff;stroke:#0000ff;\" x=\"182.914879\" xlink:href=\"#me82964949c\" y=\"186.615321\"/>\n     <use style=\"fill:#0000ff;stroke:#0000ff;\" x=\"195.14535\" xlink:href=\"#me82964949c\" y=\"181.837491\"/>\n     <use style=\"fill:#0000ff;stroke:#0000ff;\" x=\"130.06537\" xlink:href=\"#me82964949c\" y=\"185.08287\"/>\n     <use style=\"fill:#0000ff;stroke:#0000ff;\" x=\"185.397963\" xlink:href=\"#me82964949c\" y=\"181.525763\"/>\n     <use style=\"fill:#0000ff;stroke:#0000ff;\" x=\"203.450473\" xlink:href=\"#me82964949c\" y=\"177.613663\"/>\n     <use style=\"fill:#0000ff;stroke:#0000ff;\" x=\"238.529294\" xlink:href=\"#me82964949c\" y=\"171.025536\"/>\n     <use style=\"fill:#0000ff;stroke:#0000ff;\" x=\"176.052271\" xlink:href=\"#me82964949c\" y=\"191.161965\"/>\n     <use style=\"fill:#0000ff;stroke:#0000ff;\" x=\"166.968704\" xlink:href=\"#me82964949c\" y=\"167.124822\"/>\n     <use style=\"fill:#0000ff;stroke:#0000ff;\" x=\"176.56911\" xlink:href=\"#me82964949c\" y=\"196.25536\"/>\n     <use style=\"fill:#0000ff;stroke:#0000ff;\" x=\"220.924119\" xlink:href=\"#me82964949c\" y=\"183.417605\"/>\n     <use style=\"fill:#0000ff;stroke:#0000ff;\" x=\"202.562801\" xlink:href=\"#me82964949c\" y=\"178.140019\"/>\n     <use style=\"fill:#0000ff;stroke:#0000ff;\" x=\"175.692652\" xlink:href=\"#me82964949c\" y=\"180.331521\"/>\n     <use style=\"fill:#0000ff;stroke:#0000ff;\" x=\"208.337892\" xlink:href=\"#me82964949c\" y=\"186.775642\"/>\n     <use style=\"fill:#0000ff;stroke:#0000ff;\" x=\"195.311757\" xlink:href=\"#me82964949c\" y=\"183.819338\"/>\n     <use style=\"fill:#0000ff;stroke:#0000ff;\" x=\"222.590543\" xlink:href=\"#me82964949c\" y=\"185.850776\"/>\n     <use style=\"fill:#0000ff;stroke:#0000ff;\" x=\"170.300136\" xlink:href=\"#me82964949c\" y=\"186.537936\"/>\n     <use style=\"fill:#0000ff;stroke:#0000ff;\" x=\"182.018025\" xlink:href=\"#me82964949c\" y=\"176.276826\"/>\n     <use style=\"fill:#0000ff;stroke:#0000ff;\" x=\"180.00096\" xlink:href=\"#me82964949c\" y=\"179.789405\"/>\n     <use style=\"fill:#0000ff;stroke:#0000ff;\" x=\"146.467493\" xlink:href=\"#me82964949c\" y=\"187.276302\"/>\n     <use style=\"fill:#0000ff;stroke:#0000ff;\" x=\"201.541503\" xlink:href=\"#me82964949c\" y=\"175.920297\"/>\n     <use style=\"fill:#0000ff;stroke:#0000ff;\" x=\"200.44402\" xlink:href=\"#me82964949c\" y=\"180.143924\"/>\n     <use style=\"fill:#0000ff;stroke:#0000ff;\" x=\"192.433415\" xlink:href=\"#me82964949c\" y=\"176.538814\"/>\n     <use style=\"fill:#0000ff;stroke:#0000ff;\" x=\"184.931137\" xlink:href=\"#me82964949c\" y=\"177.84543\"/>\n     <use style=\"fill:#0000ff;stroke:#0000ff;\" x=\"147.974337\" xlink:href=\"#me82964949c\" y=\"188.246712\"/>\n     <use style=\"fill:#0000ff;stroke:#0000ff;\" x=\"179.107788\" xlink:href=\"#me82964949c\" y=\"186.32983\"/>\n     <use style=\"fill:#0000ff;stroke:#0000ff;\" x=\"181.546908\" xlink:href=\"#me82964949c\" y=\"177.006376\"/>\n     <use style=\"fill:#0000ff;stroke:#0000ff;\" x=\"167.163266\" xlink:href=\"#me82964949c\" y=\"177.982761\"/>\n     <use style=\"fill:#0000ff;stroke:#0000ff;\" x=\"187.225365\" xlink:href=\"#me82964949c\" y=\"182.484289\"/>\n     <use style=\"fill:#0000ff;stroke:#0000ff;\" x=\"204.919573\" xlink:href=\"#me82964949c\" y=\"181.498594\"/>\n     <use style=\"fill:#0000ff;stroke:#0000ff;\" x=\"251.308232\" xlink:href=\"#me82964949c\" y=\"173.224358\"/>\n     <use style=\"fill:#0000ff;stroke:#0000ff;\" x=\"197.737402\" xlink:href=\"#me82964949c\" y=\"186.553671\"/>\n     <use style=\"fill:#0000ff;stroke:#0000ff;\" x=\"200.334322\" xlink:href=\"#me82964949c\" y=\"178.433953\"/>\n     <use style=\"fill:#0000ff;stroke:#0000ff;\" x=\"189.943323\" xlink:href=\"#me82964949c\" y=\"183.777055\"/>\n     <use style=\"fill:#0000ff;stroke:#0000ff;\" x=\"132.218638\" xlink:href=\"#me82964949c\" y=\"183.887502\"/>\n     <use style=\"fill:#0000ff;stroke:#0000ff;\" x=\"191.443526\" xlink:href=\"#me82964949c\" y=\"174.499989\"/>\n     <use style=\"fill:#0000ff;stroke:#0000ff;\" x=\"194.158489\" xlink:href=\"#me82964949c\" y=\"176.449292\"/>\n     <use style=\"fill:#0000ff;stroke:#0000ff;\" x=\"269.369248\" xlink:href=\"#me82964949c\" y=\"176.534197\"/>\n     <use style=\"fill:#0000ff;stroke:#0000ff;\" x=\"186.252755\" xlink:href=\"#me82964949c\" y=\"173.02602\"/>\n     <use style=\"fill:#0000ff;stroke:#0000ff;\" x=\"201.711362\" xlink:href=\"#me82964949c\" y=\"182.185466\"/>\n     <use style=\"fill:#0000ff;stroke:#0000ff;\" x=\"191.186944\" xlink:href=\"#me82964949c\" y=\"177.472313\"/>\n     <use style=\"fill:#0000ff;stroke:#0000ff;\" x=\"155.695458\" xlink:href=\"#me82964949c\" y=\"184.547719\"/>\n     <use style=\"fill:#0000ff;stroke:#0000ff;\" x=\"228.042055\" xlink:href=\"#me82964949c\" y=\"180.023649\"/>\n     <use style=\"fill:#0000ff;stroke:#0000ff;\" x=\"215.807776\" xlink:href=\"#me82964949c\" y=\"183.263278\"/>\n     <use style=\"fill:#0000ff;stroke:#0000ff;\" x=\"217.031515\" xlink:href=\"#me82964949c\" y=\"181.643575\"/>\n     <use style=\"fill:#0000ff;stroke:#0000ff;\" x=\"163.810874\" xlink:href=\"#me82964949c\" y=\"178.091245\"/>\n     <use style=\"fill:#0000ff;stroke:#0000ff;\" x=\"236.178782\" xlink:href=\"#me82964949c\" y=\"188.169881\"/>\n     <use style=\"fill:#0000ff;stroke:#0000ff;\" x=\"148.397483\" xlink:href=\"#me82964949c\" y=\"167.414665\"/>\n     <use style=\"fill:#0000ff;stroke:#0000ff;\" x=\"210.64114\" xlink:href=\"#me82964949c\" y=\"189.509038\"/>\n     <use style=\"fill:#0000ff;stroke:#0000ff;\" x=\"260.83143\" xlink:href=\"#me82964949c\" y=\"190.993484\"/>\n     <use style=\"fill:#0000ff;stroke:#0000ff;\" x=\"161.271033\" xlink:href=\"#me82964949c\" y=\"174.076885\"/>\n     <use style=\"fill:#0000ff;stroke:#0000ff;\" x=\"174.549081\" xlink:href=\"#me82964949c\" y=\"176.689985\"/>\n     <use style=\"fill:#0000ff;stroke:#0000ff;\" x=\"195.392314\" xlink:href=\"#me82964949c\" y=\"177.884714\"/>\n     <use style=\"fill:#0000ff;stroke:#0000ff;\" x=\"176.51532\" xlink:href=\"#me82964949c\" y=\"177.854581\"/>\n     <use style=\"fill:#0000ff;stroke:#0000ff;\" x=\"143.739873\" xlink:href=\"#me82964949c\" y=\"182.422573\"/>\n     <use style=\"fill:#0000ff;stroke:#0000ff;\" x=\"194.419292\" xlink:href=\"#me82964949c\" y=\"188.733462\"/>\n     <use style=\"fill:#0000ff;stroke:#0000ff;\" x=\"159.024818\" xlink:href=\"#me82964949c\" y=\"181.794689\"/>\n     <use style=\"fill:#0000ff;stroke:#0000ff;\" x=\"207.096122\" xlink:href=\"#me82964949c\" y=\"187.164006\"/>\n     <use style=\"fill:#0000ff;stroke:#0000ff;\" x=\"163.496737\" xlink:href=\"#me82964949c\" y=\"175.381774\"/>\n     <use style=\"fill:#0000ff;stroke:#0000ff;\" x=\"240.784052\" xlink:href=\"#me82964949c\" y=\"183.383892\"/>\n     <use style=\"fill:#0000ff;stroke:#0000ff;\" x=\"167.758689\" xlink:href=\"#me82964949c\" y=\"188.221769\"/>\n     <use style=\"fill:#0000ff;stroke:#0000ff;\" x=\"182.193317\" xlink:href=\"#me82964949c\" y=\"184.627008\"/>\n     <use style=\"fill:#0000ff;stroke:#0000ff;\" x=\"217.735271\" xlink:href=\"#me82964949c\" y=\"179.390675\"/>\n     <use style=\"fill:#0000ff;stroke:#0000ff;\" x=\"153.749118\" xlink:href=\"#me82964949c\" y=\"186.355098\"/>\n     <use style=\"fill:#0000ff;stroke:#0000ff;\" x=\"199.392535\" xlink:href=\"#me82964949c\" y=\"188.198403\"/>\n     <use style=\"fill:#0000ff;stroke:#0000ff;\" x=\"233.185029\" xlink:href=\"#me82964949c\" y=\"180.597536\"/>\n     <use style=\"fill:#0000ff;stroke:#0000ff;\" x=\"141.961496\" xlink:href=\"#me82964949c\" y=\"180.588413\"/>\n     <use style=\"fill:#0000ff;stroke:#0000ff;\" x=\"198.052141\" xlink:href=\"#me82964949c\" y=\"185.950197\"/>\n     <use style=\"fill:#0000ff;stroke:#0000ff;\" x=\"200.407323\" xlink:href=\"#me82964949c\" y=\"185.694163\"/>\n     <use style=\"fill:#0000ff;stroke:#0000ff;\" x=\"216.743284\" xlink:href=\"#me82964949c\" y=\"180.68052\"/>\n     <use style=\"fill:#0000ff;stroke:#0000ff;\" x=\"153.558623\" xlink:href=\"#me82964949c\" y=\"192.661368\"/>\n     <use style=\"fill:#0000ff;stroke:#0000ff;\" x=\"150.94501\" xlink:href=\"#me82964949c\" y=\"192.371707\"/>\n     <use style=\"fill:#0000ff;stroke:#0000ff;\" x=\"208.609379\" xlink:href=\"#me82964949c\" y=\"187.458387\"/>\n     <use style=\"fill:#0000ff;stroke:#0000ff;\" x=\"201.568558\" xlink:href=\"#me82964949c\" y=\"183.85731\"/>\n     <use style=\"fill:#0000ff;stroke:#0000ff;\" x=\"200.113431\" xlink:href=\"#me82964949c\" y=\"180.118196\"/>\n     <use style=\"fill:#0000ff;stroke:#0000ff;\" x=\"203.116694\" xlink:href=\"#me82964949c\" y=\"171.814644\"/>\n     <use style=\"fill:#0000ff;stroke:#0000ff;\" x=\"170.989592\" xlink:href=\"#me82964949c\" y=\"176.219368\"/>\n     <use style=\"fill:#0000ff;stroke:#0000ff;\" x=\"199.542573\" xlink:href=\"#me82964949c\" y=\"183.475746\"/>\n     <use style=\"fill:#0000ff;stroke:#0000ff;\" x=\"201.446111\" xlink:href=\"#me82964949c\" y=\"182.470845\"/>\n     <use style=\"fill:#0000ff;stroke:#0000ff;\" x=\"169.915217\" xlink:href=\"#me82964949c\" y=\"189.484166\"/>\n     <use style=\"fill:#0000ff;stroke:#0000ff;\" x=\"250.669386\" xlink:href=\"#me82964949c\" y=\"182.467257\"/>\n     <use style=\"fill:#0000ff;stroke:#0000ff;\" x=\"207.103649\" xlink:href=\"#me82964949c\" y=\"184.393634\"/>\n     <use style=\"fill:#0000ff;stroke:#0000ff;\" x=\"154.987314\" xlink:href=\"#me82964949c\" y=\"180.033973\"/>\n     <use style=\"fill:#0000ff;stroke:#0000ff;\" x=\"212.82254\" xlink:href=\"#me82964949c\" y=\"188.234133\"/>\n     <use style=\"fill:#0000ff;stroke:#0000ff;\" x=\"161.76726\" xlink:href=\"#me82964949c\" y=\"178.631841\"/>\n     <use style=\"fill:#0000ff;stroke:#0000ff;\" x=\"216.907969\" xlink:href=\"#me82964949c\" y=\"171.405454\"/>\n     <use style=\"fill:#0000ff;stroke:#0000ff;\" x=\"228.535719\" xlink:href=\"#me82964949c\" y=\"183.110799\"/>\n     <use style=\"fill:#0000ff;stroke:#0000ff;\" x=\"166.587215\" xlink:href=\"#me82964949c\" y=\"179.470681\"/>\n     <use style=\"fill:#0000ff;stroke:#0000ff;\" x=\"222.425636\" xlink:href=\"#me82964949c\" y=\"177.413903\"/>\n     <use style=\"fill:#0000ff;stroke:#0000ff;\" x=\"205.192811\" xlink:href=\"#me82964949c\" y=\"185.1963\"/>\n     <use style=\"fill:#0000ff;stroke:#0000ff;\" x=\"218.002653\" xlink:href=\"#me82964949c\" y=\"180.737264\"/>\n     <use style=\"fill:#0000ff;stroke:#0000ff;\" x=\"251.640219\" xlink:href=\"#me82964949c\" y=\"182.245447\"/>\n     <use style=\"fill:#0000ff;stroke:#0000ff;\" x=\"184.593082\" xlink:href=\"#me82964949c\" y=\"181.638725\"/>\n     <use style=\"fill:#0000ff;stroke:#0000ff;\" x=\"168.682532\" xlink:href=\"#me82964949c\" y=\"187.847488\"/>\n     <use style=\"fill:#0000ff;stroke:#0000ff;\" x=\"164.43287\" xlink:href=\"#me82964949c\" y=\"182.160463\"/>\n     <use style=\"fill:#0000ff;stroke:#0000ff;\" x=\"166.739702\" xlink:href=\"#me82964949c\" y=\"178.784073\"/>\n     <use style=\"fill:#0000ff;stroke:#0000ff;\" x=\"189.860201\" xlink:href=\"#me82964949c\" y=\"171.987301\"/>\n     <use style=\"fill:#0000ff;stroke:#0000ff;\" x=\"202.95093\" xlink:href=\"#me82964949c\" y=\"175.49479\"/>\n     <use style=\"fill:#0000ff;stroke:#0000ff;\" x=\"200.933389\" xlink:href=\"#me82964949c\" y=\"166.981142\"/>\n     <use style=\"fill:#0000ff;stroke:#0000ff;\" x=\"218.162998\" xlink:href=\"#me82964949c\" y=\"187.807111\"/>\n     <use style=\"fill:#0000ff;stroke:#0000ff;\" x=\"192.680312\" xlink:href=\"#me82964949c\" y=\"176.114822\"/>\n     <use style=\"fill:#0000ff;stroke:#0000ff;\" x=\"237.766863\" xlink:href=\"#me82964949c\" y=\"181.027851\"/>\n     <use style=\"fill:#0000ff;stroke:#0000ff;\" x=\"183.99\" xlink:href=\"#me82964949c\" y=\"166.720005\"/>\n     <use style=\"fill:#0000ff;stroke:#0000ff;\" x=\"277.410689\" xlink:href=\"#me82964949c\" y=\"188.099126\"/>\n     <use style=\"fill:#0000ff;stroke:#0000ff;\" x=\"211.855845\" xlink:href=\"#me82964949c\" y=\"188.323204\"/>\n     <use style=\"fill:#0000ff;stroke:#0000ff;\" x=\"165.445593\" xlink:href=\"#me82964949c\" y=\"186.609443\"/>\n     <use style=\"fill:#0000ff;stroke:#0000ff;\" x=\"158.756002\" xlink:href=\"#me82964949c\" y=\"197.480503\"/>\n     <use style=\"fill:#0000ff;stroke:#0000ff;\" x=\"207.374053\" xlink:href=\"#me82964949c\" y=\"186.084342\"/>\n     <use style=\"fill:#0000ff;stroke:#0000ff;\" x=\"185.279313\" xlink:href=\"#me82964949c\" y=\"187.748531\"/>\n     <use style=\"fill:#0000ff;stroke:#0000ff;\" x=\"214.620543\" xlink:href=\"#me82964949c\" y=\"181.262801\"/>\n     <use style=\"fill:#0000ff;stroke:#0000ff;\" x=\"207.085017\" xlink:href=\"#me82964949c\" y=\"179.898219\"/>\n     <use style=\"fill:#0000ff;stroke:#0000ff;\" x=\"189.993933\" xlink:href=\"#me82964949c\" y=\"168.95648\"/>\n     <use style=\"fill:#0000ff;stroke:#0000ff;\" x=\"165.769966\" xlink:href=\"#me82964949c\" y=\"175.557877\"/>\n     <use style=\"fill:#0000ff;stroke:#0000ff;\" x=\"144.860868\" xlink:href=\"#me82964949c\" y=\"186.449077\"/>\n     <use style=\"fill:#0000ff;stroke:#0000ff;\" x=\"178.298106\" xlink:href=\"#me82964949c\" y=\"188.741736\"/>\n     <use style=\"fill:#0000ff;stroke:#0000ff;\" x=\"219.077402\" xlink:href=\"#me82964949c\" y=\"178.827422\"/>\n     <use style=\"fill:#0000ff;stroke:#0000ff;\" x=\"198.974193\" xlink:href=\"#me82964949c\" y=\"191.749676\"/>\n     <use style=\"fill:#0000ff;stroke:#0000ff;\" x=\"153.283569\" xlink:href=\"#me82964949c\" y=\"169.275317\"/>\n     <use style=\"fill:#0000ff;stroke:#0000ff;\" x=\"197.693681\" xlink:href=\"#me82964949c\" y=\"173.924788\"/>\n     <use style=\"fill:#0000ff;stroke:#0000ff;\" x=\"204.333242\" xlink:href=\"#me82964949c\" y=\"185.680881\"/>\n     <use style=\"fill:#0000ff;stroke:#0000ff;\" x=\"164.609926\" xlink:href=\"#me82964949c\" y=\"194.551411\"/>\n     <use style=\"fill:#0000ff;stroke:#0000ff;\" x=\"197.084743\" xlink:href=\"#me82964949c\" y=\"172.680931\"/>\n     <use style=\"fill:#0000ff;stroke:#0000ff;\" x=\"194.095219\" xlink:href=\"#me82964949c\" y=\"183.152013\"/>\n     <use style=\"fill:#0000ff;stroke:#0000ff;\" x=\"156.500072\" xlink:href=\"#me82964949c\" y=\"173.508514\"/>\n    </g>\n   </g>\n   <g id=\"line2d_16\">\n    <defs>\n     <path d=\"M 0 1.5 \nC 0.397805 1.5 0.77937 1.341951 1.06066 1.06066 \nC 1.341951 0.77937 1.5 0.397805 1.5 0 \nC 1.5 -0.397805 1.341951 -0.77937 1.06066 -1.06066 \nC 0.77937 -1.341951 0.397805 -1.5 0 -1.5 \nC -0.397805 -1.5 -0.77937 -1.341951 -1.06066 -1.06066 \nC -1.341951 -0.77937 -1.5 -0.397805 -1.5 0 \nC -1.5 0.397805 -1.341951 0.77937 -1.06066 1.06066 \nC -0.77937 1.341951 -0.397805 1.5 0 1.5 \nz\n\" id=\"mfd5e71134e\" style=\"stroke:#ffa500;\"/>\n    </defs>\n    <g clip-path=\"url(#p9459fd928d)\">\n     <use style=\"fill:#ffa500;stroke:#ffa500;\" x=\"56.190134\" xlink:href=\"#mfd5e71134e\" y=\"54.490459\"/>\n     <use style=\"fill:#ffa500;stroke:#ffa500;\" x=\"67.869019\" xlink:href=\"#mfd5e71134e\" y=\"74.446887\"/>\n     <use style=\"fill:#ffa500;stroke:#ffa500;\" x=\"74.965399\" xlink:href=\"#mfd5e71134e\" y=\"53.152024\"/>\n     <use style=\"fill:#ffa500;stroke:#ffa500;\" x=\"75.455263\" xlink:href=\"#mfd5e71134e\" y=\"47.375626\"/>\n     <use style=\"fill:#ffa500;stroke:#ffa500;\" x=\"69.621458\" xlink:href=\"#mfd5e71134e\" y=\"58.57353\"/>\n     <use style=\"fill:#ffa500;stroke:#ffa500;\" x=\"82.214214\" xlink:href=\"#mfd5e71134e\" y=\"41.181762\"/>\n     <use style=\"fill:#ffa500;stroke:#ffa500;\" x=\"62.373245\" xlink:href=\"#mfd5e71134e\" y=\"72.683465\"/>\n     <use style=\"fill:#ffa500;stroke:#ffa500;\" x=\"73.232753\" xlink:href=\"#mfd5e71134e\" y=\"78.279613\"/>\n     <use style=\"fill:#ffa500;stroke:#ffa500;\" x=\"76.315758\" xlink:href=\"#mfd5e71134e\" y=\"84.626881\"/>\n     <use style=\"fill:#ffa500;stroke:#ffa500;\" x=\"80.941798\" xlink:href=\"#mfd5e71134e\" y=\"45.706921\"/>\n     <use style=\"fill:#ffa500;stroke:#ffa500;\" x=\"83.256044\" xlink:href=\"#mfd5e71134e\" y=\"55.710114\"/>\n     <use style=\"fill:#ffa500;stroke:#ffa500;\" x=\"61.703984\" xlink:href=\"#mfd5e71134e\" y=\"64.14774\"/>\n     <use style=\"fill:#ffa500;stroke:#ffa500;\" x=\"56.89803\" xlink:href=\"#mfd5e71134e\" y=\"60.159752\"/>\n     <use style=\"fill:#ffa500;stroke:#ffa500;\" x=\"89.899885\" xlink:href=\"#mfd5e71134e\" y=\"76.863352\"/>\n     <use style=\"fill:#ffa500;stroke:#ffa500;\" x=\"78.804208\" xlink:href=\"#mfd5e71134e\" y=\"34.419825\"/>\n     <use style=\"fill:#ffa500;stroke:#ffa500;\" x=\"66.118904\" xlink:href=\"#mfd5e71134e\" y=\"61.951357\"/>\n     <use style=\"fill:#ffa500;stroke:#ffa500;\" x=\"93.10965\" xlink:href=\"#mfd5e71134e\" y=\"62.18699\"/>\n     <use style=\"fill:#ffa500;stroke:#ffa500;\" x=\"76.261522\" xlink:href=\"#mfd5e71134e\" y=\"54.861527\"/>\n     <use style=\"fill:#ffa500;stroke:#ffa500;\" x=\"88.745208\" xlink:href=\"#mfd5e71134e\" y=\"57.770422\"/>\n     <use style=\"fill:#ffa500;stroke:#ffa500;\" x=\"75.696315\" xlink:href=\"#mfd5e71134e\" y=\"60.826307\"/>\n     <use style=\"fill:#ffa500;stroke:#ffa500;\" x=\"99.090753\" xlink:href=\"#mfd5e71134e\" y=\"72.881766\"/>\n     <use style=\"fill:#ffa500;stroke:#ffa500;\" x=\"95.506205\" xlink:href=\"#mfd5e71134e\" y=\"57.883814\"/>\n     <use style=\"fill:#ffa500;stroke:#ffa500;\" x=\"71.981774\" xlink:href=\"#mfd5e71134e\" y=\"41.11962\"/>\n     <use style=\"fill:#ffa500;stroke:#ffa500;\" x=\"86.307136\" xlink:href=\"#mfd5e71134e\" y=\"47.497062\"/>\n     <use style=\"fill:#ffa500;stroke:#ffa500;\" x=\"82.478601\" xlink:href=\"#mfd5e71134e\" y=\"44.552403\"/>\n     <use style=\"fill:#ffa500;stroke:#ffa500;\" x=\"90.967417\" xlink:href=\"#mfd5e71134e\" y=\"69.562828\"/>\n     <use style=\"fill:#ffa500;stroke:#ffa500;\" x=\"63.578594\" xlink:href=\"#mfd5e71134e\" y=\"75.248393\"/>\n     <use style=\"fill:#ffa500;stroke:#ffa500;\" x=\"82.956007\" xlink:href=\"#mfd5e71134e\" y=\"64.98208\"/>\n     <use style=\"fill:#ffa500;stroke:#ffa500;\" x=\"87.326531\" xlink:href=\"#mfd5e71134e\" y=\"62.824846\"/>\n     <use style=\"fill:#ffa500;stroke:#ffa500;\" x=\"54.261614\" xlink:href=\"#mfd5e71134e\" y=\"50.482866\"/>\n     <use style=\"fill:#ffa500;stroke:#ffa500;\" x=\"61.016006\" xlink:href=\"#mfd5e71134e\" y=\"83.60175\"/>\n     <use style=\"fill:#ffa500;stroke:#ffa500;\" x=\"50.969485\" xlink:href=\"#mfd5e71134e\" y=\"45.308709\"/>\n     <use style=\"fill:#ffa500;stroke:#ffa500;\" x=\"71.741839\" xlink:href=\"#mfd5e71134e\" y=\"65.36502\"/>\n     <use style=\"fill:#ffa500;stroke:#ffa500;\" x=\"83.325613\" xlink:href=\"#mfd5e71134e\" y=\"68.560527\"/>\n     <use style=\"fill:#ffa500;stroke:#ffa500;\" x=\"92.536946\" xlink:href=\"#mfd5e71134e\" y=\"75.515796\"/>\n     <use style=\"fill:#ffa500;stroke:#ffa500;\" x=\"75.773501\" xlink:href=\"#mfd5e71134e\" y=\"83.154786\"/>\n     <use style=\"fill:#ffa500;stroke:#ffa500;\" x=\"94.018836\" xlink:href=\"#mfd5e71134e\" y=\"53.703899\"/>\n     <use style=\"fill:#ffa500;stroke:#ffa500;\" x=\"58.70567\" xlink:href=\"#mfd5e71134e\" y=\"62.615756\"/>\n     <use style=\"fill:#ffa500;stroke:#ffa500;\" x=\"54.911337\" xlink:href=\"#mfd5e71134e\" y=\"78.818069\"/>\n     <use style=\"fill:#ffa500;stroke:#ffa500;\" x=\"74.251894\" xlink:href=\"#mfd5e71134e\" y=\"78.878893\"/>\n     <use style=\"fill:#ffa500;stroke:#ffa500;\" x=\"79.411612\" xlink:href=\"#mfd5e71134e\" y=\"67.477864\"/>\n     <use style=\"fill:#ffa500;stroke:#ffa500;\" x=\"74.520118\" xlink:href=\"#mfd5e71134e\" y=\"43.65112\"/>\n     <use style=\"fill:#ffa500;stroke:#ffa500;\" x=\"50.638386\" xlink:href=\"#mfd5e71134e\" y=\"66.572321\"/>\n     <use style=\"fill:#ffa500;stroke:#ffa500;\" x=\"73.857857\" xlink:href=\"#mfd5e71134e\" y=\"81.351697\"/>\n     <use style=\"fill:#ffa500;stroke:#ffa500;\" x=\"59.593359\" xlink:href=\"#mfd5e71134e\" y=\"66.407736\"/>\n     <use style=\"fill:#ffa500;stroke:#ffa500;\" x=\"82.763769\" xlink:href=\"#mfd5e71134e\" y=\"66.728395\"/>\n     <use style=\"fill:#ffa500;stroke:#ffa500;\" x=\"79.2066\" xlink:href=\"#mfd5e71134e\" y=\"95.539116\"/>\n     <use style=\"fill:#ffa500;stroke:#ffa500;\" x=\"63.872531\" xlink:href=\"#mfd5e71134e\" y=\"64.132411\"/>\n     <use style=\"fill:#ffa500;stroke:#ffa500;\" x=\"68.872623\" xlink:href=\"#mfd5e71134e\" y=\"66.23174\"/>\n     <use style=\"fill:#ffa500;stroke:#ffa500;\" x=\"62.471916\" xlink:href=\"#mfd5e71134e\" y=\"55.212845\"/>\n     <use style=\"fill:#ffa500;stroke:#ffa500;\" x=\"74.168193\" xlink:href=\"#mfd5e71134e\" y=\"41.512631\"/>\n     <use style=\"fill:#ffa500;stroke:#ffa500;\" x=\"86.114314\" xlink:href=\"#mfd5e71134e\" y=\"50.098113\"/>\n     <use style=\"fill:#ffa500;stroke:#ffa500;\" x=\"63.334435\" xlink:href=\"#mfd5e71134e\" y=\"66.682818\"/>\n     <use style=\"fill:#ffa500;stroke:#ffa500;\" x=\"80.819824\" xlink:href=\"#mfd5e71134e\" y=\"76.637978\"/>\n     <use style=\"fill:#ffa500;stroke:#ffa500;\" x=\"68.680246\" xlink:href=\"#mfd5e71134e\" y=\"32.90323\"/>\n     <use style=\"fill:#ffa500;stroke:#ffa500;\" x=\"65.597944\" xlink:href=\"#mfd5e71134e\" y=\"62.783326\"/>\n     <use style=\"fill:#ffa500;stroke:#ffa500;\" x=\"73.647644\" xlink:href=\"#mfd5e71134e\" y=\"63.321579\"/>\n     <use style=\"fill:#ffa500;stroke:#ffa500;\" x=\"62.753265\" xlink:href=\"#mfd5e71134e\" y=\"63.773848\"/>\n     <use style=\"fill:#ffa500;stroke:#ffa500;\" x=\"68.405699\" xlink:href=\"#mfd5e71134e\" y=\"61.132926\"/>\n     <use style=\"fill:#ffa500;stroke:#ffa500;\" x=\"60.844419\" xlink:href=\"#mfd5e71134e\" y=\"65.202823\"/>\n     <use style=\"fill:#ffa500;stroke:#ffa500;\" x=\"97.963738\" xlink:href=\"#mfd5e71134e\" y=\"70.304991\"/>\n     <use style=\"fill:#ffa500;stroke:#ffa500;\" x=\"75.317741\" xlink:href=\"#mfd5e71134e\" y=\"69.986442\"/>\n     <use style=\"fill:#ffa500;stroke:#ffa500;\" x=\"66.69121\" xlink:href=\"#mfd5e71134e\" y=\"63.876393\"/>\n     <use style=\"fill:#ffa500;stroke:#ffa500;\" x=\"77.415326\" xlink:href=\"#mfd5e71134e\" y=\"69.945627\"/>\n     <use style=\"fill:#ffa500;stroke:#ffa500;\" x=\"73.585465\" xlink:href=\"#mfd5e71134e\" y=\"71.959164\"/>\n     <use style=\"fill:#ffa500;stroke:#ffa500;\" x=\"72.310345\" xlink:href=\"#mfd5e71134e\" y=\"62.222223\"/>\n     <use style=\"fill:#ffa500;stroke:#ffa500;\" x=\"82.112299\" xlink:href=\"#mfd5e71134e\" y=\"66.517482\"/>\n     <use style=\"fill:#ffa500;stroke:#ffa500;\" x=\"83.794686\" xlink:href=\"#mfd5e71134e\" y=\"45.612453\"/>\n     <use style=\"fill:#ffa500;stroke:#ffa500;\" x=\"68.677388\" xlink:href=\"#mfd5e71134e\" y=\"94.993403\"/>\n     <use style=\"fill:#ffa500;stroke:#ffa500;\" x=\"68.145503\" xlink:href=\"#mfd5e71134e\" y=\"50.514773\"/>\n     <use style=\"fill:#ffa500;stroke:#ffa500;\" x=\"71.675586\" xlink:href=\"#mfd5e71134e\" y=\"48.677639\"/>\n     <use style=\"fill:#ffa500;stroke:#ffa500;\" x=\"47.886317\" xlink:href=\"#mfd5e71134e\" y=\"88.128979\"/>\n     <use style=\"fill:#ffa500;stroke:#ffa500;\" x=\"57.12013\" xlink:href=\"#mfd5e71134e\" y=\"67.559904\"/>\n     <use style=\"fill:#ffa500;stroke:#ffa500;\" x=\"90.946792\" xlink:href=\"#mfd5e71134e\" y=\"67.901631\"/>\n     <use style=\"fill:#ffa500;stroke:#ffa500;\" x=\"94.210761\" xlink:href=\"#mfd5e71134e\" y=\"80.215138\"/>\n     <use style=\"fill:#ffa500;stroke:#ffa500;\" x=\"71.98093\" xlink:href=\"#mfd5e71134e\" y=\"72.731331\"/>\n     <use style=\"fill:#ffa500;stroke:#ffa500;\" x=\"81.670875\" xlink:href=\"#mfd5e71134e\" y=\"76.686111\"/>\n     <use style=\"fill:#ffa500;stroke:#ffa500;\" x=\"78.556982\" xlink:href=\"#mfd5e71134e\" y=\"42.661722\"/>\n     <use style=\"fill:#ffa500;stroke:#ffa500;\" x=\"111.04053\" xlink:href=\"#mfd5e71134e\" y=\"52.366765\"/>\n     <use style=\"fill:#ffa500;stroke:#ffa500;\" x=\"88.044251\" xlink:href=\"#mfd5e71134e\" y=\"48.374934\"/>\n     <use style=\"fill:#ffa500;stroke:#ffa500;\" x=\"73.402492\" xlink:href=\"#mfd5e71134e\" y=\"54.91019\"/>\n     <use style=\"fill:#ffa500;stroke:#ffa500;\" x=\"63.688722\" xlink:href=\"#mfd5e71134e\" y=\"76.905694\"/>\n     <use style=\"fill:#ffa500;stroke:#ffa500;\" x=\"56.049071\" xlink:href=\"#mfd5e71134e\" y=\"69.720951\"/>\n     <use style=\"fill:#ffa500;stroke:#ffa500;\" x=\"77.291897\" xlink:href=\"#mfd5e71134e\" y=\"57.671002\"/>\n     <use style=\"fill:#ffa500;stroke:#ffa500;\" x=\"66.026602\" xlink:href=\"#mfd5e71134e\" y=\"78.011885\"/>\n     <use style=\"fill:#ffa500;stroke:#ffa500;\" x=\"58.210931\" xlink:href=\"#mfd5e71134e\" y=\"55.013274\"/>\n     <use style=\"fill:#ffa500;stroke:#ffa500;\" x=\"67.31506\" xlink:href=\"#mfd5e71134e\" y=\"66.343348\"/>\n     <use style=\"fill:#ffa500;stroke:#ffa500;\" x=\"62.209778\" xlink:href=\"#mfd5e71134e\" y=\"67.941801\"/>\n     <use style=\"fill:#ffa500;stroke:#ffa500;\" x=\"94.705754\" xlink:href=\"#mfd5e71134e\" y=\"55.037501\"/>\n     <use style=\"fill:#ffa500;stroke:#ffa500;\" x=\"85.251618\" xlink:href=\"#mfd5e71134e\" y=\"58.207141\"/>\n     <use style=\"fill:#ffa500;stroke:#ffa500;\" x=\"74.81028\" xlink:href=\"#mfd5e71134e\" y=\"67.777141\"/>\n     <use style=\"fill:#ffa500;stroke:#ffa500;\" x=\"92.273887\" xlink:href=\"#mfd5e71134e\" y=\"49.70871\"/>\n     <use style=\"fill:#ffa500;stroke:#ffa500;\" x=\"75.811922\" xlink:href=\"#mfd5e71134e\" y=\"76.33536\"/>\n     <use style=\"fill:#ffa500;stroke:#ffa500;\" x=\"64.795003\" xlink:href=\"#mfd5e71134e\" y=\"56.166848\"/>\n     <use style=\"fill:#ffa500;stroke:#ffa500;\" x=\"92.780688\" xlink:href=\"#mfd5e71134e\" y=\"56.43823\"/>\n     <use style=\"fill:#ffa500;stroke:#ffa500;\" x=\"81.229015\" xlink:href=\"#mfd5e71134e\" y=\"67.166027\"/>\n     <use style=\"fill:#ffa500;stroke:#ffa500;\" x=\"62.729746\" xlink:href=\"#mfd5e71134e\" y=\"59.611097\"/>\n     <use style=\"fill:#ffa500;stroke:#ffa500;\" x=\"72.669858\" xlink:href=\"#mfd5e71134e\" y=\"78.356375\"/>\n     <use style=\"fill:#ffa500;stroke:#ffa500;\" x=\"64.626765\" xlink:href=\"#mfd5e71134e\" y=\"52.505239\"/>\n     <use style=\"fill:#ffa500;stroke:#ffa500;\" x=\"58.674001\" xlink:href=\"#mfd5e71134e\" y=\"65.684653\"/>\n     <use style=\"fill:#ffa500;stroke:#ffa500;\" x=\"85.774355\" xlink:href=\"#mfd5e71134e\" y=\"69.699591\"/>\n     <use style=\"fill:#ffa500;stroke:#ffa500;\" x=\"97.314585\" xlink:href=\"#mfd5e71134e\" y=\"51.019849\"/>\n     <use style=\"fill:#ffa500;stroke:#ffa500;\" x=\"58.488934\" xlink:href=\"#mfd5e71134e\" y=\"71.858118\"/>\n     <use style=\"fill:#ffa500;stroke:#ffa500;\" x=\"81.511397\" xlink:href=\"#mfd5e71134e\" y=\"80.226423\"/>\n     <use style=\"fill:#ffa500;stroke:#ffa500;\" x=\"67.267294\" xlink:href=\"#mfd5e71134e\" y=\"81.987371\"/>\n     <use style=\"fill:#ffa500;stroke:#ffa500;\" x=\"69.186487\" xlink:href=\"#mfd5e71134e\" y=\"56.284812\"/>\n     <use style=\"fill:#ffa500;stroke:#ffa500;\" x=\"67.950955\" xlink:href=\"#mfd5e71134e\" y=\"78.704788\"/>\n     <use style=\"fill:#ffa500;stroke:#ffa500;\" x=\"64.763236\" xlink:href=\"#mfd5e71134e\" y=\"42.631728\"/>\n     <use style=\"fill:#ffa500;stroke:#ffa500;\" x=\"75.47335\" xlink:href=\"#mfd5e71134e\" y=\"88.230465\"/>\n     <use style=\"fill:#ffa500;stroke:#ffa500;\" x=\"65.151033\" xlink:href=\"#mfd5e71134e\" y=\"43.325062\"/>\n     <use style=\"fill:#ffa500;stroke:#ffa500;\" x=\"78.078193\" xlink:href=\"#mfd5e71134e\" y=\"60.979223\"/>\n     <use style=\"fill:#ffa500;stroke:#ffa500;\" x=\"74.314212\" xlink:href=\"#mfd5e71134e\" y=\"64.636543\"/>\n     <use style=\"fill:#ffa500;stroke:#ffa500;\" x=\"72.099333\" xlink:href=\"#mfd5e71134e\" y=\"69.963387\"/>\n     <use style=\"fill:#ffa500;stroke:#ffa500;\" x=\"64.251823\" xlink:href=\"#mfd5e71134e\" y=\"58.743469\"/>\n     <use style=\"fill:#ffa500;stroke:#ffa500;\" x=\"68.134317\" xlink:href=\"#mfd5e71134e\" y=\"63.934408\"/>\n     <use style=\"fill:#ffa500;stroke:#ffa500;\" x=\"83.769845\" xlink:href=\"#mfd5e71134e\" y=\"50.374591\"/>\n     <use style=\"fill:#ffa500;stroke:#ffa500;\" x=\"80.783095\" xlink:href=\"#mfd5e71134e\" y=\"62.129552\"/>\n     <use style=\"fill:#ffa500;stroke:#ffa500;\" x=\"63.430336\" xlink:href=\"#mfd5e71134e\" y=\"61.700818\"/>\n     <use style=\"fill:#ffa500;stroke:#ffa500;\" x=\"76.069713\" xlink:href=\"#mfd5e71134e\" y=\"67.808589\"/>\n     <use style=\"fill:#ffa500;stroke:#ffa500;\" x=\"83.722849\" xlink:href=\"#mfd5e71134e\" y=\"64.163914\"/>\n     <use style=\"fill:#ffa500;stroke:#ffa500;\" x=\"55.310125\" xlink:href=\"#mfd5e71134e\" y=\"59.82896\"/>\n     <use style=\"fill:#ffa500;stroke:#ffa500;\" x=\"81.281247\" xlink:href=\"#mfd5e71134e\" y=\"83.812155\"/>\n     <use style=\"fill:#ffa500;stroke:#ffa500;\" x=\"67.126671\" xlink:href=\"#mfd5e71134e\" y=\"79.510056\"/>\n     <use style=\"fill:#ffa500;stroke:#ffa500;\" x=\"81.600943\" xlink:href=\"#mfd5e71134e\" y=\"54.653573\"/>\n     <use style=\"fill:#ffa500;stroke:#ffa500;\" x=\"65.945518\" xlink:href=\"#mfd5e71134e\" y=\"61.456423\"/>\n     <use style=\"fill:#ffa500;stroke:#ffa500;\" x=\"53.72004\" xlink:href=\"#mfd5e71134e\" y=\"65.673734\"/>\n     <use style=\"fill:#ffa500;stroke:#ffa500;\" x=\"55.801467\" xlink:href=\"#mfd5e71134e\" y=\"63.268042\"/>\n     <use style=\"fill:#ffa500;stroke:#ffa500;\" x=\"75.468225\" xlink:href=\"#mfd5e71134e\" y=\"59.356183\"/>\n     <use style=\"fill:#ffa500;stroke:#ffa500;\" x=\"77.952205\" xlink:href=\"#mfd5e71134e\" y=\"69.902068\"/>\n     <use style=\"fill:#ffa500;stroke:#ffa500;\" x=\"64.289934\" xlink:href=\"#mfd5e71134e\" y=\"72.737131\"/>\n     <use style=\"fill:#ffa500;stroke:#ffa500;\" x=\"82.398983\" xlink:href=\"#mfd5e71134e\" y=\"61.159542\"/>\n     <use style=\"fill:#ffa500;stroke:#ffa500;\" x=\"55.402673\" xlink:href=\"#mfd5e71134e\" y=\"75.114902\"/>\n     <use style=\"fill:#ffa500;stroke:#ffa500;\" x=\"74.128279\" xlink:href=\"#mfd5e71134e\" y=\"58.635119\"/>\n     <use style=\"fill:#ffa500;stroke:#ffa500;\" x=\"60.690216\" xlink:href=\"#mfd5e71134e\" y=\"83.722012\"/>\n     <use style=\"fill:#ffa500;stroke:#ffa500;\" x=\"67.253285\" xlink:href=\"#mfd5e71134e\" y=\"51.255805\"/>\n     <use style=\"fill:#ffa500;stroke:#ffa500;\" x=\"75.46017\" xlink:href=\"#mfd5e71134e\" y=\"57.870394\"/>\n     <use style=\"fill:#ffa500;stroke:#ffa500;\" x=\"64.805224\" xlink:href=\"#mfd5e71134e\" y=\"60.444261\"/>\n     <use style=\"fill:#ffa500;stroke:#ffa500;\" x=\"70.390344\" xlink:href=\"#mfd5e71134e\" y=\"51.808029\"/>\n     <use style=\"fill:#ffa500;stroke:#ffa500;\" x=\"86.714664\" xlink:href=\"#mfd5e71134e\" y=\"43.693276\"/>\n     <use style=\"fill:#ffa500;stroke:#ffa500;\" x=\"68.132902\" xlink:href=\"#mfd5e71134e\" y=\"51.431529\"/>\n     <use style=\"fill:#ffa500;stroke:#ffa500;\" x=\"84.712332\" xlink:href=\"#mfd5e71134e\" y=\"85.36557\"/>\n     <use style=\"fill:#ffa500;stroke:#ffa500;\" x=\"61.644539\" xlink:href=\"#mfd5e71134e\" y=\"78.694657\"/>\n     <use style=\"fill:#ffa500;stroke:#ffa500;\" x=\"81.12214\" xlink:href=\"#mfd5e71134e\" y=\"70.912977\"/>\n     <use style=\"fill:#ffa500;stroke:#ffa500;\" x=\"91.823476\" xlink:href=\"#mfd5e71134e\" y=\"63.177039\"/>\n     <use style=\"fill:#ffa500;stroke:#ffa500;\" x=\"45.894282\" xlink:href=\"#mfd5e71134e\" y=\"57.334846\"/>\n     <use style=\"fill:#ffa500;stroke:#ffa500;\" x=\"65.550733\" xlink:href=\"#mfd5e71134e\" y=\"72.112455\"/>\n     <use style=\"fill:#ffa500;stroke:#ffa500;\" x=\"81.676922\" xlink:href=\"#mfd5e71134e\" y=\"61.267438\"/>\n     <use style=\"fill:#ffa500;stroke:#ffa500;\" x=\"72.52072\" xlink:href=\"#mfd5e71134e\" y=\"72.46471\"/>\n     <use style=\"fill:#ffa500;stroke:#ffa500;\" x=\"79.259975\" xlink:href=\"#mfd5e71134e\" y=\"70.7549\"/>\n     <use style=\"fill:#ffa500;stroke:#ffa500;\" x=\"67.814909\" xlink:href=\"#mfd5e71134e\" y=\"80.205028\"/>\n     <use style=\"fill:#ffa500;stroke:#ffa500;\" x=\"75.920154\" xlink:href=\"#mfd5e71134e\" y=\"74.459579\"/>\n     <use style=\"fill:#ffa500;stroke:#ffa500;\" x=\"73.076678\" xlink:href=\"#mfd5e71134e\" y=\"79.551643\"/>\n     <use style=\"fill:#ffa500;stroke:#ffa500;\" x=\"88.610056\" xlink:href=\"#mfd5e71134e\" y=\"75.085196\"/>\n     <use style=\"fill:#ffa500;stroke:#ffa500;\" x=\"77.889979\" xlink:href=\"#mfd5e71134e\" y=\"50.964792\"/>\n     <use style=\"fill:#ffa500;stroke:#ffa500;\" x=\"78.86628\" xlink:href=\"#mfd5e71134e\" y=\"74.770553\"/>\n     <use style=\"fill:#ffa500;stroke:#ffa500;\" x=\"70.069674\" xlink:href=\"#mfd5e71134e\" y=\"32.201761\"/>\n     <use style=\"fill:#ffa500;stroke:#ffa500;\" x=\"69.180844\" xlink:href=\"#mfd5e71134e\" y=\"57.624136\"/>\n     <use style=\"fill:#ffa500;stroke:#ffa500;\" x=\"69.82694\" xlink:href=\"#mfd5e71134e\" y=\"61.290384\"/>\n     <use style=\"fill:#ffa500;stroke:#ffa500;\" x=\"79.53352\" xlink:href=\"#mfd5e71134e\" y=\"73.688547\"/>\n     <use style=\"fill:#ffa500;stroke:#ffa500;\" x=\"69.96278\" xlink:href=\"#mfd5e71134e\" y=\"55.164075\"/>\n     <use style=\"fill:#ffa500;stroke:#ffa500;\" x=\"78.304928\" xlink:href=\"#mfd5e71134e\" y=\"70.328473\"/>\n     <use style=\"fill:#ffa500;stroke:#ffa500;\" x=\"99.262733\" xlink:href=\"#mfd5e71134e\" y=\"62.037063\"/>\n     <use style=\"fill:#ffa500;stroke:#ffa500;\" x=\"85.128203\" xlink:href=\"#mfd5e71134e\" y=\"33.061004\"/>\n     <use style=\"fill:#ffa500;stroke:#ffa500;\" x=\"71.077332\" xlink:href=\"#mfd5e71134e\" y=\"64.62878\"/>\n     <use style=\"fill:#ffa500;stroke:#ffa500;\" x=\"89.002444\" xlink:href=\"#mfd5e71134e\" y=\"49.828229\"/>\n     <use style=\"fill:#ffa500;stroke:#ffa500;\" x=\"70.114293\" xlink:href=\"#mfd5e71134e\" y=\"71.844246\"/>\n     <use style=\"fill:#ffa500;stroke:#ffa500;\" x=\"50.982485\" xlink:href=\"#mfd5e71134e\" y=\"63.902958\"/>\n     <use style=\"fill:#ffa500;stroke:#ffa500;\" x=\"63.071994\" xlink:href=\"#mfd5e71134e\" y=\"42.441494\"/>\n     <use style=\"fill:#ffa500;stroke:#ffa500;\" x=\"52.94646\" xlink:href=\"#mfd5e71134e\" y=\"70.938512\"/>\n     <use style=\"fill:#ffa500;stroke:#ffa500;\" x=\"70.778157\" xlink:href=\"#mfd5e71134e\" y=\"41.946517\"/>\n     <use style=\"fill:#ffa500;stroke:#ffa500;\" x=\"75.12003\" xlink:href=\"#mfd5e71134e\" y=\"55.075628\"/>\n     <use style=\"fill:#ffa500;stroke:#ffa500;\" x=\"94.580118\" xlink:href=\"#mfd5e71134e\" y=\"70.171938\"/>\n     <use style=\"fill:#ffa500;stroke:#ffa500;\" x=\"78.740985\" xlink:href=\"#mfd5e71134e\" y=\"55.971079\"/>\n     <use style=\"fill:#ffa500;stroke:#ffa500;\" x=\"72.332282\" xlink:href=\"#mfd5e71134e\" y=\"51.9285\"/>\n     <use style=\"fill:#ffa500;stroke:#ffa500;\" x=\"84.638548\" xlink:href=\"#mfd5e71134e\" y=\"56.097032\"/>\n     <use style=\"fill:#ffa500;stroke:#ffa500;\" x=\"48.951866\" xlink:href=\"#mfd5e71134e\" y=\"82.148951\"/>\n     <use style=\"fill:#ffa500;stroke:#ffa500;\" x=\"77.669251\" xlink:href=\"#mfd5e71134e\" y=\"72.129015\"/>\n     <use style=\"fill:#ffa500;stroke:#ffa500;\" x=\"83.951462\" xlink:href=\"#mfd5e71134e\" y=\"66.428839\"/>\n     <use style=\"fill:#ffa500;stroke:#ffa500;\" x=\"57.549759\" xlink:href=\"#mfd5e71134e\" y=\"64.371754\"/>\n     <use style=\"fill:#ffa500;stroke:#ffa500;\" x=\"88.32804\" xlink:href=\"#mfd5e71134e\" y=\"56.110555\"/>\n     <use style=\"fill:#ffa500;stroke:#ffa500;\" x=\"78.87677\" xlink:href=\"#mfd5e71134e\" y=\"61.375183\"/>\n     <use style=\"fill:#ffa500;stroke:#ffa500;\" x=\"70.02964\" xlink:href=\"#mfd5e71134e\" y=\"79.357442\"/>\n     <use style=\"fill:#ffa500;stroke:#ffa500;\" x=\"82.330784\" xlink:href=\"#mfd5e71134e\" y=\"58.968546\"/>\n     <use style=\"fill:#ffa500;stroke:#ffa500;\" x=\"101.554867\" xlink:href=\"#mfd5e71134e\" y=\"56.23043\"/>\n     <use style=\"fill:#ffa500;stroke:#ffa500;\" x=\"77.03841\" xlink:href=\"#mfd5e71134e\" y=\"56.834122\"/>\n     <use style=\"fill:#ffa500;stroke:#ffa500;\" x=\"77.817207\" xlink:href=\"#mfd5e71134e\" y=\"50.642251\"/>\n     <use style=\"fill:#ffa500;stroke:#ffa500;\" x=\"69.512358\" xlink:href=\"#mfd5e71134e\" y=\"53.576119\"/>\n     <use style=\"fill:#ffa500;stroke:#ffa500;\" x=\"64.929272\" xlink:href=\"#mfd5e71134e\" y=\"58.029858\"/>\n     <use style=\"fill:#ffa500;stroke:#ffa500;\" x=\"84.649466\" xlink:href=\"#mfd5e71134e\" y=\"64.321033\"/>\n     <use style=\"fill:#ffa500;stroke:#ffa500;\" x=\"64.85604\" xlink:href=\"#mfd5e71134e\" y=\"83.227334\"/>\n     <use style=\"fill:#ffa500;stroke:#ffa500;\" x=\"75.743824\" xlink:href=\"#mfd5e71134e\" y=\"58.381195\"/>\n     <use style=\"fill:#ffa500;stroke:#ffa500;\" x=\"69.297612\" xlink:href=\"#mfd5e71134e\" y=\"61.018797\"/>\n     <use style=\"fill:#ffa500;stroke:#ffa500;\" x=\"80.525617\" xlink:href=\"#mfd5e71134e\" y=\"60.259463\"/>\n     <use style=\"fill:#ffa500;stroke:#ffa500;\" x=\"78.82003\" xlink:href=\"#mfd5e71134e\" y=\"78.661043\"/>\n     <use style=\"fill:#ffa500;stroke:#ffa500;\" x=\"87.08141\" xlink:href=\"#mfd5e71134e\" y=\"76.33528\"/>\n     <use style=\"fill:#ffa500;stroke:#ffa500;\" x=\"68.917816\" xlink:href=\"#mfd5e71134e\" y=\"50.970603\"/>\n     <use style=\"fill:#ffa500;stroke:#ffa500;\" x=\"71.736345\" xlink:href=\"#mfd5e71134e\" y=\"63.957232\"/>\n     <use style=\"fill:#ffa500;stroke:#ffa500;\" x=\"63.416152\" xlink:href=\"#mfd5e71134e\" y=\"55.387619\"/>\n     <use style=\"fill:#ffa500;stroke:#ffa500;\" x=\"69.689206\" xlink:href=\"#mfd5e71134e\" y=\"63.150568\"/>\n     <use style=\"fill:#ffa500;stroke:#ffa500;\" x=\"79.332212\" xlink:href=\"#mfd5e71134e\" y=\"63.13348\"/>\n    </g>\n   </g>\n   <g id=\"line2d_17\">\n    <defs>\n     <path d=\"M 0 1.5 \nC 0.397805 1.5 0.77937 1.341951 1.06066 1.06066 \nC 1.341951 0.77937 1.5 0.397805 1.5 0 \nC 1.5 -0.397805 1.341951 -0.77937 1.06066 -1.06066 \nC 0.77937 -1.341951 0.397805 -1.5 0 -1.5 \nC -0.397805 -1.5 -0.77937 -1.341951 -1.06066 -1.06066 \nC -1.341951 -0.77937 -1.5 -0.397805 -1.5 0 \nC -1.5 0.397805 -1.341951 0.77937 -1.06066 1.06066 \nC -0.77937 1.341951 -0.397805 1.5 0 1.5 \nz\n\" id=\"mea85118732\" style=\"stroke:#008000;\"/>\n    </defs>\n    <g clip-path=\"url(#p9459fd928d)\">\n     <use style=\"fill:#008000;stroke:#008000;\" x=\"271.776047\" xlink:href=\"#mea85118732\" y=\"63.973243\"/>\n     <use style=\"fill:#008000;stroke:#008000;\" x=\"209.188306\" xlink:href=\"#mea85118732\" y=\"71.872013\"/>\n     <use style=\"fill:#008000;stroke:#008000;\" x=\"235.533149\" xlink:href=\"#mea85118732\" y=\"86.264575\"/>\n     <use style=\"fill:#008000;stroke:#008000;\" x=\"211.5023\" xlink:href=\"#mea85118732\" y=\"98.02096\"/>\n     <use style=\"fill:#008000;stroke:#008000;\" x=\"212.697786\" xlink:href=\"#mea85118732\" y=\"75.639196\"/>\n     <use style=\"fill:#008000;stroke:#008000;\" x=\"218.09117\" xlink:href=\"#mea85118732\" y=\"80.70965\"/>\n     <use style=\"fill:#008000;stroke:#008000;\" x=\"240.95618\" xlink:href=\"#mea85118732\" y=\"72.361866\"/>\n     <use style=\"fill:#008000;stroke:#008000;\" x=\"210.793363\" xlink:href=\"#mea85118732\" y=\"76.688293\"/>\n     <use style=\"fill:#008000;stroke:#008000;\" x=\"285.438624\" xlink:href=\"#mea85118732\" y=\"69.793519\"/>\n     <use style=\"fill:#008000;stroke:#008000;\" x=\"192.896681\" xlink:href=\"#mea85118732\" y=\"96.162387\"/>\n     <use style=\"fill:#008000;stroke:#008000;\" x=\"223.354431\" xlink:href=\"#mea85118732\" y=\"65.336977\"/>\n     <use style=\"fill:#008000;stroke:#008000;\" x=\"212.472502\" xlink:href=\"#mea85118732\" y=\"83.968942\"/>\n     <use style=\"fill:#008000;stroke:#008000;\" x=\"293.667946\" xlink:href=\"#mea85118732\" y=\"52.727031\"/>\n     <use style=\"fill:#008000;stroke:#008000;\" x=\"239.855375\" xlink:href=\"#mea85118732\" y=\"98.723964\"/>\n     <use style=\"fill:#008000;stroke:#008000;\" x=\"275.802479\" xlink:href=\"#mea85118732\" y=\"58.372506\"/>\n     <use style=\"fill:#008000;stroke:#008000;\" x=\"167.464726\" xlink:href=\"#mea85118732\" y=\"83.963764\"/>\n     <use style=\"fill:#008000;stroke:#008000;\" x=\"242.889183\" xlink:href=\"#mea85118732\" y=\"98.095522\"/>\n     <use style=\"fill:#008000;stroke:#008000;\" x=\"269.682241\" xlink:href=\"#mea85118732\" y=\"95.307998\"/>\n     <use style=\"fill:#008000;stroke:#008000;\" x=\"234.937676\" xlink:href=\"#mea85118732\" y=\"92.586924\"/>\n     <use style=\"fill:#008000;stroke:#008000;\" x=\"277.250014\" xlink:href=\"#mea85118732\" y=\"80.199164\"/>\n     <use style=\"fill:#008000;stroke:#008000;\" x=\"209.134782\" xlink:href=\"#mea85118732\" y=\"78.557428\"/>\n     <use style=\"fill:#008000;stroke:#008000;\" x=\"292.048501\" xlink:href=\"#mea85118732\" y=\"96.802393\"/>\n     <use style=\"fill:#008000;stroke:#008000;\" x=\"330.33075\" xlink:href=\"#mea85118732\" y=\"87.661979\"/>\n     <use style=\"fill:#008000;stroke:#008000;\" x=\"215.781609\" xlink:href=\"#mea85118732\" y=\"51.612078\"/>\n     <use style=\"fill:#008000;stroke:#008000;\" x=\"212.224125\" xlink:href=\"#mea85118732\" y=\"58.512614\"/>\n     <use style=\"fill:#008000;stroke:#008000;\" x=\"293.943657\" xlink:href=\"#mea85118732\" y=\"79.996875\"/>\n     <use style=\"fill:#008000;stroke:#008000;\" x=\"299.374205\" xlink:href=\"#mea85118732\" y=\"86.62442\"/>\n     <use style=\"fill:#008000;stroke:#008000;\" x=\"208.895007\" xlink:href=\"#mea85118732\" y=\"85.25958\"/>\n     <use style=\"fill:#008000;stroke:#008000;\" x=\"213.313598\" xlink:href=\"#mea85118732\" y=\"77.048586\"/>\n     <use style=\"fill:#008000;stroke:#008000;\" x=\"219.269805\" xlink:href=\"#mea85118732\" y=\"104.274725\"/>\n     <use style=\"fill:#008000;stroke:#008000;\" x=\"173.537458\" xlink:href=\"#mea85118732\" y=\"91.53917\"/>\n     <use style=\"fill:#008000;stroke:#008000;\" x=\"191.861908\" xlink:href=\"#mea85118732\" y=\"115.01988\"/>\n     <use style=\"fill:#008000;stroke:#008000;\" x=\"188.182854\" xlink:href=\"#mea85118732\" y=\"80.614181\"/>\n     <use style=\"fill:#008000;stroke:#008000;\" x=\"198.354\" xlink:href=\"#mea85118732\" y=\"76.488227\"/>\n     <use style=\"fill:#008000;stroke:#008000;\" x=\"229.903863\" xlink:href=\"#mea85118732\" y=\"95.296362\"/>\n     <use style=\"fill:#008000;stroke:#008000;\" x=\"241.47609\" xlink:href=\"#mea85118732\" y=\"61.067599\"/>\n     <use style=\"fill:#008000;stroke:#008000;\" x=\"298.123092\" xlink:href=\"#mea85118732\" y=\"107.651941\"/>\n     <use style=\"fill:#008000;stroke:#008000;\" x=\"188.431889\" xlink:href=\"#mea85118732\" y=\"111.622097\"/>\n     <use style=\"fill:#008000;stroke:#008000;\" x=\"273.75734\" xlink:href=\"#mea85118732\" y=\"83.522155\"/>\n     <use style=\"fill:#008000;stroke:#008000;\" x=\"222.187429\" xlink:href=\"#mea85118732\" y=\"69.834357\"/>\n     <use style=\"fill:#008000;stroke:#008000;\" x=\"229.267849\" xlink:href=\"#mea85118732\" y=\"59.238321\"/>\n     <use style=\"fill:#008000;stroke:#008000;\" x=\"260.437731\" xlink:href=\"#mea85118732\" y=\"94.892004\"/>\n     <use style=\"fill:#008000;stroke:#008000;\" x=\"183.079652\" xlink:href=\"#mea85118732\" y=\"69.308864\"/>\n     <use style=\"fill:#008000;stroke:#008000;\" x=\"247.853735\" xlink:href=\"#mea85118732\" y=\"87.897482\"/>\n     <use style=\"fill:#008000;stroke:#008000;\" x=\"238.559896\" xlink:href=\"#mea85118732\" y=\"90.12905\"/>\n     <use style=\"fill:#008000;stroke:#008000;\" x=\"252.589425\" xlink:href=\"#mea85118732\" y=\"72.553765\"/>\n     <use style=\"fill:#008000;stroke:#008000;\" x=\"243.841058\" xlink:href=\"#mea85118732\" y=\"76.402921\"/>\n     <use style=\"fill:#008000;stroke:#008000;\" x=\"337.061588\" xlink:href=\"#mea85118732\" y=\"113.485923\"/>\n     <use style=\"fill:#008000;stroke:#008000;\" x=\"203.951091\" xlink:href=\"#mea85118732\" y=\"62.688984\"/>\n     <use style=\"fill:#008000;stroke:#008000;\" x=\"208.54483\" xlink:href=\"#mea85118732\" y=\"64.293773\"/>\n     <use style=\"fill:#008000;stroke:#008000;\" x=\"204.579386\" xlink:href=\"#mea85118732\" y=\"97.665322\"/>\n     <use style=\"fill:#008000;stroke:#008000;\" x=\"207.491314\" xlink:href=\"#mea85118732\" y=\"80.671079\"/>\n     <use style=\"fill:#008000;stroke:#008000;\" x=\"203.966277\" xlink:href=\"#mea85118732\" y=\"79.036711\"/>\n     <use style=\"fill:#008000;stroke:#008000;\" x=\"282.566453\" xlink:href=\"#mea85118732\" y=\"82.919467\"/>\n     <use style=\"fill:#008000;stroke:#008000;\" x=\"292.52864\" xlink:href=\"#mea85118732\" y=\"96.413132\"/>\n     <use style=\"fill:#008000;stroke:#008000;\" x=\"206.834198\" xlink:href=\"#mea85118732\" y=\"98.431714\"/>\n     <use style=\"fill:#008000;stroke:#008000;\" x=\"195.575714\" xlink:href=\"#mea85118732\" y=\"87.681937\"/>\n     <use style=\"fill:#008000;stroke:#008000;\" x=\"251.684143\" xlink:href=\"#mea85118732\" y=\"67.744021\"/>\n     <use style=\"fill:#008000;stroke:#008000;\" x=\"207.631355\" xlink:href=\"#mea85118732\" y=\"78.21193\"/>\n     <use style=\"fill:#008000;stroke:#008000;\" x=\"258.635075\" xlink:href=\"#mea85118732\" y=\"93.423304\"/>\n     <use style=\"fill:#008000;stroke:#008000;\" x=\"240.129435\" xlink:href=\"#mea85118732\" y=\"74.416658\"/>\n     <use style=\"fill:#008000;stroke:#008000;\" x=\"166.165754\" xlink:href=\"#mea85118732\" y=\"134.652899\"/>\n     <use style=\"fill:#008000;stroke:#008000;\" x=\"297.994188\" xlink:href=\"#mea85118732\" y=\"68.14274\"/>\n     <use style=\"fill:#008000;stroke:#008000;\" x=\"308.683019\" xlink:href=\"#mea85118732\" y=\"116.203388\"/>\n     <use style=\"fill:#008000;stroke:#008000;\" x=\"205.024883\" xlink:href=\"#mea85118732\" y=\"93.287309\"/>\n     <use style=\"fill:#008000;stroke:#008000;\" x=\"214.711617\" xlink:href=\"#mea85118732\" y=\"105.886642\"/>\n     <use style=\"fill:#008000;stroke:#008000;\" x=\"243.698901\" xlink:href=\"#mea85118732\" y=\"108.798613\"/>\n     <use style=\"fill:#008000;stroke:#008000;\" x=\"245.790056\" xlink:href=\"#mea85118732\" y=\"67.942059\"/>\n     <use style=\"fill:#008000;stroke:#008000;\" x=\"259.737319\" xlink:href=\"#mea85118732\" y=\"95.038706\"/>\n     <use style=\"fill:#008000;stroke:#008000;\" x=\"317.906681\" xlink:href=\"#mea85118732\" y=\"81.491363\"/>\n     <use style=\"fill:#008000;stroke:#008000;\" x=\"223.781533\" xlink:href=\"#mea85118732\" y=\"88.037449\"/>\n     <use style=\"fill:#008000;stroke:#008000;\" x=\"197.041431\" xlink:href=\"#mea85118732\" y=\"79.319393\"/>\n     <use style=\"fill:#008000;stroke:#008000;\" x=\"172.036866\" xlink:href=\"#mea85118732\" y=\"85.97853\"/>\n     <use style=\"fill:#008000;stroke:#008000;\" x=\"199.940612\" xlink:href=\"#mea85118732\" y=\"108.604119\"/>\n     <use style=\"fill:#008000;stroke:#008000;\" x=\"229.970908\" xlink:href=\"#mea85118732\" y=\"70.680129\"/>\n     <use style=\"fill:#008000;stroke:#008000;\" x=\"308.62622\" xlink:href=\"#mea85118732\" y=\"95.472235\"/>\n     <use style=\"fill:#008000;stroke:#008000;\" x=\"209.120888\" xlink:href=\"#mea85118732\" y=\"113.156305\"/>\n     <use style=\"fill:#008000;stroke:#008000;\" x=\"241.027368\" xlink:href=\"#mea85118732\" y=\"94.380045\"/>\n     <use style=\"fill:#008000;stroke:#008000;\" x=\"230.689777\" xlink:href=\"#mea85118732\" y=\"62.286003\"/>\n     <use style=\"fill:#008000;stroke:#008000;\" x=\"282.53963\" xlink:href=\"#mea85118732\" y=\"73.110134\"/>\n     <use style=\"fill:#008000;stroke:#008000;\" x=\"340.144318\" xlink:href=\"#mea85118732\" y=\"93.05788\"/>\n     <use style=\"fill:#008000;stroke:#008000;\" x=\"208.550346\" xlink:href=\"#mea85118732\" y=\"93.067956\"/>\n     <use style=\"fill:#008000;stroke:#008000;\" x=\"210.333278\" xlink:href=\"#mea85118732\" y=\"92.60835\"/>\n     <use style=\"fill:#008000;stroke:#008000;\" x=\"276.332519\" xlink:href=\"#mea85118732\" y=\"52.702288\"/>\n     <use style=\"fill:#008000;stroke:#008000;\" x=\"260.742078\" xlink:href=\"#mea85118732\" y=\"80.901826\"/>\n     <use style=\"fill:#008000;stroke:#008000;\" x=\"310.870498\" xlink:href=\"#mea85118732\" y=\"80.1014\"/>\n     <use style=\"fill:#008000;stroke:#008000;\" x=\"256.526179\" xlink:href=\"#mea85118732\" y=\"70.114135\"/>\n     <use style=\"fill:#008000;stroke:#008000;\" x=\"215.934233\" xlink:href=\"#mea85118732\" y=\"83.2836\"/>\n     <use style=\"fill:#008000;stroke:#008000;\" x=\"256.815664\" xlink:href=\"#mea85118732\" y=\"91.566883\"/>\n     <use style=\"fill:#008000;stroke:#008000;\" x=\"279.110145\" xlink:href=\"#mea85118732\" y=\"90.523763\"/>\n     <use style=\"fill:#008000;stroke:#008000;\" x=\"266.706396\" xlink:href=\"#mea85118732\" y=\"88.448104\"/>\n     <use style=\"fill:#008000;stroke:#008000;\" x=\"253.22733\" xlink:href=\"#mea85118732\" y=\"87.87608\"/>\n     <use style=\"fill:#008000;stroke:#008000;\" x=\"277.301411\" xlink:href=\"#mea85118732\" y=\"75.149913\"/>\n     <use style=\"fill:#008000;stroke:#008000;\" x=\"281.717752\" xlink:href=\"#mea85118732\" y=\"86.392436\"/>\n     <use style=\"fill:#008000;stroke:#008000;\" x=\"290.878433\" xlink:href=\"#mea85118732\" y=\"75.066544\"/>\n     <use style=\"fill:#008000;stroke:#008000;\" x=\"259.314092\" xlink:href=\"#mea85118732\" y=\"88.599771\"/>\n     <use style=\"fill:#008000;stroke:#008000;\" x=\"224.204535\" xlink:href=\"#mea85118732\" y=\"85.948359\"/>\n     <use style=\"fill:#008000;stroke:#008000;\" x=\"237.710439\" xlink:href=\"#mea85118732\" y=\"120.504284\"/>\n     <use style=\"fill:#008000;stroke:#008000;\" x=\"283.319248\" xlink:href=\"#mea85118732\" y=\"72.010215\"/>\n     <use style=\"fill:#008000;stroke:#008000;\" x=\"196.239317\" xlink:href=\"#mea85118732\" y=\"81.491619\"/>\n     <use style=\"fill:#008000;stroke:#008000;\" x=\"247.26258\" xlink:href=\"#mea85118732\" y=\"70.651122\"/>\n     <use style=\"fill:#008000;stroke:#008000;\" x=\"214.469016\" xlink:href=\"#mea85118732\" y=\"135.446779\"/>\n     <use style=\"fill:#008000;stroke:#008000;\" x=\"232.633591\" xlink:href=\"#mea85118732\" y=\"52.508834\"/>\n     <use style=\"fill:#008000;stroke:#008000;\" x=\"286.415346\" xlink:href=\"#mea85118732\" y=\"89.579344\"/>\n     <use style=\"fill:#008000;stroke:#008000;\" x=\"239.620586\" xlink:href=\"#mea85118732\" y=\"68.817988\"/>\n     <use style=\"fill:#008000;stroke:#008000;\" x=\"233.394963\" xlink:href=\"#mea85118732\" y=\"104.55947\"/>\n     <use style=\"fill:#008000;stroke:#008000;\" x=\"172.874469\" xlink:href=\"#mea85118732\" y=\"77.060966\"/>\n     <use style=\"fill:#008000;stroke:#008000;\" x=\"263.511932\" xlink:href=\"#mea85118732\" y=\"104.784253\"/>\n     <use style=\"fill:#008000;stroke:#008000;\" x=\"259.175272\" xlink:href=\"#mea85118732\" y=\"97.635477\"/>\n     <use style=\"fill:#008000;stroke:#008000;\" x=\"324.49327\" xlink:href=\"#mea85118732\" y=\"55.409687\"/>\n     <use style=\"fill:#008000;stroke:#008000;\" x=\"218.151157\" xlink:href=\"#mea85118732\" y=\"90.429464\"/>\n     <use style=\"fill:#008000;stroke:#008000;\" x=\"240.827786\" xlink:href=\"#mea85118732\" y=\"83.638941\"/>\n     <use style=\"fill:#008000;stroke:#008000;\" x=\"242.128893\" xlink:href=\"#mea85118732\" y=\"72.779922\"/>\n     <use style=\"fill:#008000;stroke:#008000;\" x=\"299.283018\" xlink:href=\"#mea85118732\" y=\"79.009229\"/>\n     <use style=\"fill:#008000;stroke:#008000;\" x=\"227.295454\" xlink:href=\"#mea85118732\" y=\"84.753969\"/>\n     <use style=\"fill:#008000;stroke:#008000;\" x=\"243.404372\" xlink:href=\"#mea85118732\" y=\"81.18426\"/>\n     <use style=\"fill:#008000;stroke:#008000;\" x=\"257.557668\" xlink:href=\"#mea85118732\" y=\"47.266951\"/>\n     <use style=\"fill:#008000;stroke:#008000;\" x=\"239.427359\" xlink:href=\"#mea85118732\" y=\"88.215453\"/>\n     <use style=\"fill:#008000;stroke:#008000;\" x=\"212.184055\" xlink:href=\"#mea85118732\" y=\"83.910715\"/>\n     <use style=\"fill:#008000;stroke:#008000;\" x=\"239.749302\" xlink:href=\"#mea85118732\" y=\"69.775188\"/>\n     <use style=\"fill:#008000;stroke:#008000;\" x=\"277.600812\" xlink:href=\"#mea85118732\" y=\"68.862195\"/>\n     <use style=\"fill:#008000;stroke:#008000;\" x=\"187.219955\" xlink:href=\"#mea85118732\" y=\"67.506065\"/>\n     <use style=\"fill:#008000;stroke:#008000;\" x=\"237.118959\" xlink:href=\"#mea85118732\" y=\"76.629086\"/>\n     <use style=\"fill:#008000;stroke:#008000;\" x=\"201.266502\" xlink:href=\"#mea85118732\" y=\"106.274907\"/>\n     <use style=\"fill:#008000;stroke:#008000;\" x=\"282.825961\" xlink:href=\"#mea85118732\" y=\"60.078513\"/>\n     <use style=\"fill:#008000;stroke:#008000;\" x=\"165.84545\" xlink:href=\"#mea85118732\" y=\"106.330488\"/>\n     <use style=\"fill:#008000;stroke:#008000;\" x=\"207.343069\" xlink:href=\"#mea85118732\" y=\"82.221278\"/>\n     <use style=\"fill:#008000;stroke:#008000;\" x=\"247.630042\" xlink:href=\"#mea85118732\" y=\"99.806946\"/>\n     <use style=\"fill:#008000;stroke:#008000;\" x=\"298.769637\" xlink:href=\"#mea85118732\" y=\"88.32393\"/>\n     <use style=\"fill:#008000;stroke:#008000;\" x=\"228.566949\" xlink:href=\"#mea85118732\" y=\"81.786558\"/>\n     <use style=\"fill:#008000;stroke:#008000;\" x=\"207.50326\" xlink:href=\"#mea85118732\" y=\"81.909772\"/>\n     <use style=\"fill:#008000;stroke:#008000;\" x=\"312.35306\" xlink:href=\"#mea85118732\" y=\"80.236521\"/>\n     <use style=\"fill:#008000;stroke:#008000;\" x=\"169.080557\" xlink:href=\"#mea85118732\" y=\"60.406633\"/>\n     <use style=\"fill:#008000;stroke:#008000;\" x=\"136.769853\" xlink:href=\"#mea85118732\" y=\"79.710512\"/>\n     <use style=\"fill:#008000;stroke:#008000;\" x=\"250.332781\" xlink:href=\"#mea85118732\" y=\"91.319207\"/>\n     <use style=\"fill:#008000;stroke:#008000;\" x=\"209.790395\" xlink:href=\"#mea85118732\" y=\"71.215557\"/>\n     <use style=\"fill:#008000;stroke:#008000;\" x=\"187.44729\" xlink:href=\"#mea85118732\" y=\"67.465464\"/>\n     <use style=\"fill:#008000;stroke:#008000;\" x=\"261.88101\" xlink:href=\"#mea85118732\" y=\"107.682592\"/>\n     <use style=\"fill:#008000;stroke:#008000;\" x=\"241.888627\" xlink:href=\"#mea85118732\" y=\"77.316767\"/>\n     <use style=\"fill:#008000;stroke:#008000;\" x=\"207.121144\" xlink:href=\"#mea85118732\" y=\"75.590121\"/>\n     <use style=\"fill:#008000;stroke:#008000;\" x=\"176.298017\" xlink:href=\"#mea85118732\" y=\"92.20783\"/>\n     <use style=\"fill:#008000;stroke:#008000;\" x=\"268.943172\" xlink:href=\"#mea85118732\" y=\"64.366727\"/>\n     <use style=\"fill:#008000;stroke:#008000;\" x=\"259.37827\" xlink:href=\"#mea85118732\" y=\"89.753485\"/>\n     <use style=\"fill:#008000;stroke:#008000;\" x=\"227.128462\" xlink:href=\"#mea85118732\" y=\"85.167316\"/>\n     <use style=\"fill:#008000;stroke:#008000;\" x=\"310.867471\" xlink:href=\"#mea85118732\" y=\"90.136446\"/>\n     <use style=\"fill:#008000;stroke:#008000;\" x=\"185.344922\" xlink:href=\"#mea85118732\" y=\"86.997534\"/>\n     <use style=\"fill:#008000;stroke:#008000;\" x=\"165.744821\" xlink:href=\"#mea85118732\" y=\"105.497381\"/>\n     <use style=\"fill:#008000;stroke:#008000;\" x=\"201.619941\" xlink:href=\"#mea85118732\" y=\"111.217376\"/>\n     <use style=\"fill:#008000;stroke:#008000;\" x=\"229.434727\" xlink:href=\"#mea85118732\" y=\"60.7262\"/>\n     <use style=\"fill:#008000;stroke:#008000;\" x=\"241.868776\" xlink:href=\"#mea85118732\" y=\"101.349116\"/>\n     <use style=\"fill:#008000;stroke:#008000;\" x=\"221.014832\" xlink:href=\"#mea85118732\" y=\"103.752265\"/>\n     <use style=\"fill:#008000;stroke:#008000;\" x=\"246.54742\" xlink:href=\"#mea85118732\" y=\"123.08644\"/>\n     <use style=\"fill:#008000;stroke:#008000;\" x=\"177.535932\" xlink:href=\"#mea85118732\" y=\"97.888265\"/>\n     <use style=\"fill:#008000;stroke:#008000;\" x=\"293.529661\" xlink:href=\"#mea85118732\" y=\"109.271292\"/>\n     <use style=\"fill:#008000;stroke:#008000;\" x=\"227.861128\" xlink:href=\"#mea85118732\" y=\"59.935692\"/>\n     <use style=\"fill:#008000;stroke:#008000;\" x=\"279.479917\" xlink:href=\"#mea85118732\" y=\"70.454669\"/>\n     <use style=\"fill:#008000;stroke:#008000;\" x=\"246.145897\" xlink:href=\"#mea85118732\" y=\"98.706702\"/>\n     <use style=\"fill:#008000;stroke:#008000;\" x=\"251.053142\" xlink:href=\"#mea85118732\" y=\"49.779064\"/>\n     <use style=\"fill:#008000;stroke:#008000;\" x=\"255.916758\" xlink:href=\"#mea85118732\" y=\"70.921412\"/>\n     <use style=\"fill:#008000;stroke:#008000;\" x=\"250.663901\" xlink:href=\"#mea85118732\" y=\"92.661533\"/>\n     <use style=\"fill:#008000;stroke:#008000;\" x=\"259.056433\" xlink:href=\"#mea85118732\" y=\"128.843702\"/>\n     <use style=\"fill:#008000;stroke:#008000;\" x=\"288.597274\" xlink:href=\"#mea85118732\" y=\"49.13836\"/>\n     <use style=\"fill:#008000;stroke:#008000;\" x=\"239.853929\" xlink:href=\"#mea85118732\" y=\"110.377479\"/>\n     <use style=\"fill:#008000;stroke:#008000;\" x=\"261.908868\" xlink:href=\"#mea85118732\" y=\"114.634105\"/>\n     <use style=\"fill:#008000;stroke:#008000;\" x=\"227.534724\" xlink:href=\"#mea85118732\" y=\"70.24247\"/>\n     <use style=\"fill:#008000;stroke:#008000;\" x=\"293.372693\" xlink:href=\"#mea85118732\" y=\"46.662353\"/>\n     <use style=\"fill:#008000;stroke:#008000;\" x=\"202.28767\" xlink:href=\"#mea85118732\" y=\"64.224199\"/>\n     <use style=\"fill:#008000;stroke:#008000;\" x=\"308.900897\" xlink:href=\"#mea85118732\" y=\"77.874014\"/>\n     <use style=\"fill:#008000;stroke:#008000;\" x=\"229.668327\" xlink:href=\"#mea85118732\" y=\"77.360789\"/>\n     <use style=\"fill:#008000;stroke:#008000;\" x=\"169.822437\" xlink:href=\"#mea85118732\" y=\"73.056993\"/>\n     <use style=\"fill:#008000;stroke:#008000;\" x=\"236.90958\" xlink:href=\"#mea85118732\" y=\"74.629137\"/>\n     <use style=\"fill:#008000;stroke:#008000;\" x=\"202.087152\" xlink:href=\"#mea85118732\" y=\"82.57808\"/>\n     <use style=\"fill:#008000;stroke:#008000;\" x=\"267.574051\" xlink:href=\"#mea85118732\" y=\"85.522975\"/>\n     <use style=\"fill:#008000;stroke:#008000;\" x=\"203.310551\" xlink:href=\"#mea85118732\" y=\"88.29822\"/>\n     <use style=\"fill:#008000;stroke:#008000;\" x=\"212.194821\" xlink:href=\"#mea85118732\" y=\"99.801767\"/>\n     <use style=\"fill:#008000;stroke:#008000;\" x=\"150.079233\" xlink:href=\"#mea85118732\" y=\"91.926828\"/>\n     <use style=\"fill:#008000;stroke:#008000;\" x=\"211.93132\" xlink:href=\"#mea85118732\" y=\"115.425411\"/>\n     <use style=\"fill:#008000;stroke:#008000;\" x=\"127.08371\" xlink:href=\"#mea85118732\" y=\"88.892997\"/>\n     <use style=\"fill:#008000;stroke:#008000;\" x=\"163.23251\" xlink:href=\"#mea85118732\" y=\"103.705656\"/>\n     <use style=\"fill:#008000;stroke:#008000;\" x=\"264.121361\" xlink:href=\"#mea85118732\" y=\"105.619081\"/>\n     <use style=\"fill:#008000;stroke:#008000;\" x=\"265.213839\" xlink:href=\"#mea85118732\" y=\"84.263538\"/>\n     <use style=\"fill:#008000;stroke:#008000;\" x=\"249.706318\" xlink:href=\"#mea85118732\" y=\"64.095591\"/>\n     <use style=\"fill:#008000;stroke:#008000;\" x=\"189.782252\" xlink:href=\"#mea85118732\" y=\"71.977122\"/>\n     <use style=\"fill:#008000;stroke:#008000;\" x=\"229.343262\" xlink:href=\"#mea85118732\" y=\"113.387895\"/>\n     <use style=\"fill:#008000;stroke:#008000;\" x=\"231.241507\" xlink:href=\"#mea85118732\" y=\"103.722911\"/>\n     <use style=\"fill:#008000;stroke:#008000;\" x=\"181.545752\" xlink:href=\"#mea85118732\" y=\"71.603506\"/>\n     <use style=\"fill:#008000;stroke:#008000;\" x=\"296.096026\" xlink:href=\"#mea85118732\" y=\"103.604098\"/>\n     <use style=\"fill:#008000;stroke:#008000;\" x=\"269.15426\" xlink:href=\"#mea85118732\" y=\"90.994361\"/>\n     <use style=\"fill:#008000;stroke:#008000;\" x=\"221.887242\" xlink:href=\"#mea85118732\" y=\"78.104578\"/>\n     <use style=\"fill:#008000;stroke:#008000;\" x=\"232.553589\" xlink:href=\"#mea85118732\" y=\"103.368777\"/>\n     <use style=\"fill:#008000;stroke:#008000;\" x=\"240.3644\" xlink:href=\"#mea85118732\" y=\"85.503434\"/>\n     <use style=\"fill:#008000;stroke:#008000;\" x=\"143.529484\" xlink:href=\"#mea85118732\" y=\"109.453248\"/>\n     <use style=\"fill:#008000;stroke:#008000;\" x=\"220.759144\" xlink:href=\"#mea85118732\" y=\"97.262747\"/>\n     <use style=\"fill:#008000;stroke:#008000;\" x=\"202.047018\" xlink:href=\"#mea85118732\" y=\"81.935982\"/>\n     <use style=\"fill:#008000;stroke:#008000;\" x=\"188.291336\" xlink:href=\"#mea85118732\" y=\"113.762152\"/>\n     <use style=\"fill:#008000;stroke:#008000;\" x=\"219.299255\" xlink:href=\"#mea85118732\" y=\"79.927806\"/>\n     <use style=\"fill:#008000;stroke:#008000;\" x=\"308.760864\" xlink:href=\"#mea85118732\" y=\"87.583498\"/>\n     <use style=\"fill:#008000;stroke:#008000;\" x=\"258.97553\" xlink:href=\"#mea85118732\" y=\"78.064015\"/>\n     <use style=\"fill:#008000;stroke:#008000;\" x=\"206.815576\" xlink:href=\"#mea85118732\" y=\"83.531101\"/>\n     <use style=\"fill:#008000;stroke:#008000;\" x=\"256.037924\" xlink:href=\"#mea85118732\" y=\"64.559177\"/>\n    </g>\n   </g>\n   <g id=\"patch_3\">\n    <path d=\"M 20.5625 239.758125 \nL 20.5625 22.318125 \n\" style=\"fill:none;stroke:#000000;stroke-linecap:square;stroke-linejoin:miter;stroke-width:0.8;\"/>\n   </g>\n   <g id=\"patch_4\">\n    <path d=\"M 355.3625 239.758125 \nL 355.3625 22.318125 \n\" style=\"fill:none;stroke:#000000;stroke-linecap:square;stroke-linejoin:miter;stroke-width:0.8;\"/>\n   </g>\n   <g id=\"patch_5\">\n    <path d=\"M 20.5625 239.758125 \nL 355.3625 239.758125 \n\" style=\"fill:none;stroke:#000000;stroke-linecap:square;stroke-linejoin:miter;stroke-width:0.8;\"/>\n   </g>\n   <g id=\"patch_6\">\n    <path d=\"M 20.5625 22.318125 \nL 355.3625 22.318125 \n\" style=\"fill:none;stroke:#000000;stroke-linecap:square;stroke-linejoin:miter;stroke-width:0.8;\"/>\n   </g>\n   <g id=\"text_15\">\n    <!-- Test data: 200 points x3 clusters. -->\n    <g transform=\"translate(88.391563 16.318125)scale(0.12 -0.12)\">\n     <defs>\n      <path d=\"M -0.296875 72.90625 \nL 61.375 72.90625 \nL 61.375 64.59375 \nL 35.5 64.59375 \nL 35.5 0 \nL 25.59375 0 \nL 25.59375 64.59375 \nL -0.296875 64.59375 \nz\n\" id=\"DejaVuSans-84\"/>\n      <path d=\"M 56.203125 29.59375 \nL 56.203125 25.203125 \nL 14.890625 25.203125 \nQ 15.484375 15.921875 20.484375 11.0625 \nQ 25.484375 6.203125 34.421875 6.203125 \nQ 39.59375 6.203125 44.453125 7.46875 \nQ 49.3125 8.734375 54.109375 11.28125 \nL 54.109375 2.78125 \nQ 49.265625 0.734375 44.1875 -0.34375 \nQ 39.109375 -1.421875 33.890625 -1.421875 \nQ 20.796875 -1.421875 13.15625 6.1875 \nQ 5.515625 13.8125 5.515625 26.8125 \nQ 5.515625 40.234375 12.765625 48.109375 \nQ 20.015625 56 32.328125 56 \nQ 43.359375 56 49.78125 48.890625 \nQ 56.203125 41.796875 56.203125 29.59375 \nz\nM 47.21875 32.234375 \nQ 47.125 39.59375 43.09375 43.984375 \nQ 39.0625 48.390625 32.421875 48.390625 \nQ 24.90625 48.390625 20.390625 44.140625 \nQ 15.875 39.890625 15.1875 32.171875 \nz\n\" id=\"DejaVuSans-101\"/>\n      <path d=\"M 44.28125 53.078125 \nL 44.28125 44.578125 \nQ 40.484375 46.53125 36.375 47.5 \nQ 32.28125 48.484375 27.875 48.484375 \nQ 21.1875 48.484375 17.84375 46.4375 \nQ 14.5 44.390625 14.5 40.28125 \nQ 14.5 37.15625 16.890625 35.375 \nQ 19.28125 33.59375 26.515625 31.984375 \nL 29.59375 31.296875 \nQ 39.15625 29.25 43.1875 25.515625 \nQ 47.21875 21.78125 47.21875 15.09375 \nQ 47.21875 7.46875 41.1875 3.015625 \nQ 35.15625 -1.421875 24.609375 -1.421875 \nQ 20.21875 -1.421875 15.453125 -0.5625 \nQ 10.6875 0.296875 5.421875 2 \nL 5.421875 11.28125 \nQ 10.40625 8.6875 15.234375 7.390625 \nQ 20.0625 6.109375 24.8125 6.109375 \nQ 31.15625 6.109375 34.5625 8.28125 \nQ 37.984375 10.453125 37.984375 14.40625 \nQ 37.984375 18.0625 35.515625 20.015625 \nQ 33.0625 21.96875 24.703125 23.78125 \nL 21.578125 24.515625 \nQ 13.234375 26.265625 9.515625 29.90625 \nQ 5.8125 33.546875 5.8125 39.890625 \nQ 5.8125 47.609375 11.28125 51.796875 \nQ 16.75 56 26.8125 56 \nQ 31.78125 56 36.171875 55.265625 \nQ 40.578125 54.546875 44.28125 53.078125 \nz\n\" id=\"DejaVuSans-115\"/>\n      <path d=\"M 18.3125 70.21875 \nL 18.3125 54.6875 \nL 36.8125 54.6875 \nL 36.8125 47.703125 \nL 18.3125 47.703125 \nL 18.3125 18.015625 \nQ 18.3125 11.328125 20.140625 9.421875 \nQ 21.96875 7.515625 27.59375 7.515625 \nL 36.8125 7.515625 \nL 36.8125 0 \nL 27.59375 0 \nQ 17.1875 0 13.234375 3.875 \nQ 9.28125 7.765625 9.28125 18.015625 \nL 9.28125 47.703125 \nL 2.6875 47.703125 \nL 2.6875 54.6875 \nL 9.28125 54.6875 \nL 9.28125 70.21875 \nz\n\" id=\"DejaVuSans-116\"/>\n      <path id=\"DejaVuSans-32\"/>\n      <path d=\"M 45.40625 46.390625 \nL 45.40625 75.984375 \nL 54.390625 75.984375 \nL 54.390625 0 \nL 45.40625 0 \nL 45.40625 8.203125 \nQ 42.578125 3.328125 38.25 0.953125 \nQ 33.9375 -1.421875 27.875 -1.421875 \nQ 17.96875 -1.421875 11.734375 6.484375 \nQ 5.515625 14.40625 5.515625 27.296875 \nQ 5.515625 40.1875 11.734375 48.09375 \nQ 17.96875 56 27.875 56 \nQ 33.9375 56 38.25 53.625 \nQ 42.578125 51.265625 45.40625 46.390625 \nz\nM 14.796875 27.296875 \nQ 14.796875 17.390625 18.875 11.75 \nQ 22.953125 6.109375 30.078125 6.109375 \nQ 37.203125 6.109375 41.296875 11.75 \nQ 45.40625 17.390625 45.40625 27.296875 \nQ 45.40625 37.203125 41.296875 42.84375 \nQ 37.203125 48.484375 30.078125 48.484375 \nQ 22.953125 48.484375 18.875 42.84375 \nQ 14.796875 37.203125 14.796875 27.296875 \nz\n\" id=\"DejaVuSans-100\"/>\n      <path d=\"M 34.28125 27.484375 \nQ 23.390625 27.484375 19.1875 25 \nQ 14.984375 22.515625 14.984375 16.5 \nQ 14.984375 11.71875 18.140625 8.90625 \nQ 21.296875 6.109375 26.703125 6.109375 \nQ 34.1875 6.109375 38.703125 11.40625 \nQ 43.21875 16.703125 43.21875 25.484375 \nL 43.21875 27.484375 \nz\nM 52.203125 31.203125 \nL 52.203125 0 \nL 43.21875 0 \nL 43.21875 8.296875 \nQ 40.140625 3.328125 35.546875 0.953125 \nQ 30.953125 -1.421875 24.3125 -1.421875 \nQ 15.921875 -1.421875 10.953125 3.296875 \nQ 6 8.015625 6 15.921875 \nQ 6 25.140625 12.171875 29.828125 \nQ 18.359375 34.515625 30.609375 34.515625 \nL 43.21875 34.515625 \nL 43.21875 35.40625 \nQ 43.21875 41.609375 39.140625 45 \nQ 35.0625 48.390625 27.6875 48.390625 \nQ 23 48.390625 18.546875 47.265625 \nQ 14.109375 46.140625 10.015625 43.890625 \nL 10.015625 52.203125 \nQ 14.9375 54.109375 19.578125 55.046875 \nQ 24.21875 56 28.609375 56 \nQ 40.484375 56 46.34375 49.84375 \nQ 52.203125 43.703125 52.203125 31.203125 \nz\n\" id=\"DejaVuSans-97\"/>\n      <path d=\"M 11.71875 12.40625 \nL 22.015625 12.40625 \nL 22.015625 0 \nL 11.71875 0 \nz\nM 11.71875 51.703125 \nL 22.015625 51.703125 \nL 22.015625 39.3125 \nL 11.71875 39.3125 \nz\n\" id=\"DejaVuSans-58\"/>\n      <path d=\"M 18.109375 8.203125 \nL 18.109375 -20.796875 \nL 9.078125 -20.796875 \nL 9.078125 54.6875 \nL 18.109375 54.6875 \nL 18.109375 46.390625 \nQ 20.953125 51.265625 25.265625 53.625 \nQ 29.59375 56 35.59375 56 \nQ 45.5625 56 51.78125 48.09375 \nQ 58.015625 40.1875 58.015625 27.296875 \nQ 58.015625 14.40625 51.78125 6.484375 \nQ 45.5625 -1.421875 35.59375 -1.421875 \nQ 29.59375 -1.421875 25.265625 0.953125 \nQ 20.953125 3.328125 18.109375 8.203125 \nz\nM 48.6875 27.296875 \nQ 48.6875 37.203125 44.609375 42.84375 \nQ 40.53125 48.484375 33.40625 48.484375 \nQ 26.265625 48.484375 22.1875 42.84375 \nQ 18.109375 37.203125 18.109375 27.296875 \nQ 18.109375 17.390625 22.1875 11.75 \nQ 26.265625 6.109375 33.40625 6.109375 \nQ 40.53125 6.109375 44.609375 11.75 \nQ 48.6875 17.390625 48.6875 27.296875 \nz\n\" id=\"DejaVuSans-112\"/>\n      <path d=\"M 30.609375 48.390625 \nQ 23.390625 48.390625 19.1875 42.75 \nQ 14.984375 37.109375 14.984375 27.296875 \nQ 14.984375 17.484375 19.15625 11.84375 \nQ 23.34375 6.203125 30.609375 6.203125 \nQ 37.796875 6.203125 41.984375 11.859375 \nQ 46.1875 17.53125 46.1875 27.296875 \nQ 46.1875 37.015625 41.984375 42.703125 \nQ 37.796875 48.390625 30.609375 48.390625 \nz\nM 30.609375 56 \nQ 42.328125 56 49.015625 48.375 \nQ 55.71875 40.765625 55.71875 27.296875 \nQ 55.71875 13.875 49.015625 6.21875 \nQ 42.328125 -1.421875 30.609375 -1.421875 \nQ 18.84375 -1.421875 12.171875 6.21875 \nQ 5.515625 13.875 5.515625 27.296875 \nQ 5.515625 40.765625 12.171875 48.375 \nQ 18.84375 56 30.609375 56 \nz\n\" id=\"DejaVuSans-111\"/>\n      <path d=\"M 9.421875 54.6875 \nL 18.40625 54.6875 \nL 18.40625 0 \nL 9.421875 0 \nz\nM 9.421875 75.984375 \nL 18.40625 75.984375 \nL 18.40625 64.59375 \nL 9.421875 64.59375 \nz\n\" id=\"DejaVuSans-105\"/>\n      <path d=\"M 54.890625 33.015625 \nL 54.890625 0 \nL 45.90625 0 \nL 45.90625 32.71875 \nQ 45.90625 40.484375 42.875 44.328125 \nQ 39.84375 48.1875 33.796875 48.1875 \nQ 26.515625 48.1875 22.3125 43.546875 \nQ 18.109375 38.921875 18.109375 30.90625 \nL 18.109375 0 \nL 9.078125 0 \nL 9.078125 54.6875 \nL 18.109375 54.6875 \nL 18.109375 46.1875 \nQ 21.34375 51.125 25.703125 53.5625 \nQ 30.078125 56 35.796875 56 \nQ 45.21875 56 50.046875 50.171875 \nQ 54.890625 44.34375 54.890625 33.015625 \nz\n\" id=\"DejaVuSans-110\"/>\n      <path d=\"M 54.890625 54.6875 \nL 35.109375 28.078125 \nL 55.90625 0 \nL 45.3125 0 \nL 29.390625 21.484375 \nL 13.484375 0 \nL 2.875 0 \nL 24.125 28.609375 \nL 4.6875 54.6875 \nL 15.28125 54.6875 \nL 29.78125 35.203125 \nL 44.28125 54.6875 \nz\n\" id=\"DejaVuSans-120\"/>\n      <path d=\"M 48.78125 52.59375 \nL 48.78125 44.1875 \nQ 44.96875 46.296875 41.140625 47.34375 \nQ 37.3125 48.390625 33.40625 48.390625 \nQ 24.65625 48.390625 19.8125 42.84375 \nQ 14.984375 37.3125 14.984375 27.296875 \nQ 14.984375 17.28125 19.8125 11.734375 \nQ 24.65625 6.203125 33.40625 6.203125 \nQ 37.3125 6.203125 41.140625 7.25 \nQ 44.96875 8.296875 48.78125 10.40625 \nL 48.78125 2.09375 \nQ 45.015625 0.34375 40.984375 -0.53125 \nQ 36.96875 -1.421875 32.421875 -1.421875 \nQ 20.0625 -1.421875 12.78125 6.34375 \nQ 5.515625 14.109375 5.515625 27.296875 \nQ 5.515625 40.671875 12.859375 48.328125 \nQ 20.21875 56 33.015625 56 \nQ 37.15625 56 41.109375 55.140625 \nQ 45.0625 54.296875 48.78125 52.59375 \nz\n\" id=\"DejaVuSans-99\"/>\n      <path d=\"M 9.421875 75.984375 \nL 18.40625 75.984375 \nL 18.40625 0 \nL 9.421875 0 \nz\n\" id=\"DejaVuSans-108\"/>\n      <path d=\"M 8.5 21.578125 \nL 8.5 54.6875 \nL 17.484375 54.6875 \nL 17.484375 21.921875 \nQ 17.484375 14.15625 20.5 10.265625 \nQ 23.53125 6.390625 29.59375 6.390625 \nQ 36.859375 6.390625 41.078125 11.03125 \nQ 45.3125 15.671875 45.3125 23.6875 \nL 45.3125 54.6875 \nL 54.296875 54.6875 \nL 54.296875 0 \nL 45.3125 0 \nL 45.3125 8.40625 \nQ 42.046875 3.421875 37.71875 1 \nQ 33.40625 -1.421875 27.6875 -1.421875 \nQ 18.265625 -1.421875 13.375 4.4375 \nQ 8.5 10.296875 8.5 21.578125 \nz\nM 31.109375 56 \nz\n\" id=\"DejaVuSans-117\"/>\n      <path d=\"M 41.109375 46.296875 \nQ 39.59375 47.171875 37.8125 47.578125 \nQ 36.03125 48 33.890625 48 \nQ 26.265625 48 22.1875 43.046875 \nQ 18.109375 38.09375 18.109375 28.8125 \nL 18.109375 0 \nL 9.078125 0 \nL 9.078125 54.6875 \nL 18.109375 54.6875 \nL 18.109375 46.1875 \nQ 20.953125 51.171875 25.484375 53.578125 \nQ 30.03125 56 36.53125 56 \nQ 37.453125 56 38.578125 55.875 \nQ 39.703125 55.765625 41.0625 55.515625 \nz\n\" id=\"DejaVuSans-114\"/>\n      <path d=\"M 10.6875 12.40625 \nL 21 12.40625 \nL 21 0 \nL 10.6875 0 \nz\n\" id=\"DejaVuSans-46\"/>\n     </defs>\n     <use xlink:href=\"#DejaVuSans-84\"/>\n     <use x=\"44.083984\" xlink:href=\"#DejaVuSans-101\"/>\n     <use x=\"105.607422\" xlink:href=\"#DejaVuSans-115\"/>\n     <use x=\"157.707031\" xlink:href=\"#DejaVuSans-116\"/>\n     <use x=\"196.916016\" xlink:href=\"#DejaVuSans-32\"/>\n     <use x=\"228.703125\" xlink:href=\"#DejaVuSans-100\"/>\n     <use x=\"292.179688\" xlink:href=\"#DejaVuSans-97\"/>\n     <use x=\"353.458984\" xlink:href=\"#DejaVuSans-116\"/>\n     <use x=\"392.667969\" xlink:href=\"#DejaVuSans-97\"/>\n     <use x=\"453.947266\" xlink:href=\"#DejaVuSans-58\"/>\n     <use x=\"487.638672\" xlink:href=\"#DejaVuSans-32\"/>\n     <use x=\"519.425781\" xlink:href=\"#DejaVuSans-50\"/>\n     <use x=\"583.048828\" xlink:href=\"#DejaVuSans-48\"/>\n     <use x=\"646.671875\" xlink:href=\"#DejaVuSans-48\"/>\n     <use x=\"710.294922\" xlink:href=\"#DejaVuSans-32\"/>\n     <use x=\"742.082031\" xlink:href=\"#DejaVuSans-112\"/>\n     <use x=\"805.558594\" xlink:href=\"#DejaVuSans-111\"/>\n     <use x=\"866.740234\" xlink:href=\"#DejaVuSans-105\"/>\n     <use x=\"894.523438\" xlink:href=\"#DejaVuSans-110\"/>\n     <use x=\"957.902344\" xlink:href=\"#DejaVuSans-116\"/>\n     <use x=\"997.111328\" xlink:href=\"#DejaVuSans-115\"/>\n     <use x=\"1049.210938\" xlink:href=\"#DejaVuSans-32\"/>\n     <use x=\"1080.998047\" xlink:href=\"#DejaVuSans-120\"/>\n     <use x=\"1140.177734\" xlink:href=\"#DejaVuSans-51\"/>\n     <use x=\"1203.800781\" xlink:href=\"#DejaVuSans-32\"/>\n     <use x=\"1235.587891\" xlink:href=\"#DejaVuSans-99\"/>\n     <use x=\"1290.568359\" xlink:href=\"#DejaVuSans-108\"/>\n     <use x=\"1318.351562\" xlink:href=\"#DejaVuSans-117\"/>\n     <use x=\"1381.730469\" xlink:href=\"#DejaVuSans-115\"/>\n     <use x=\"1433.830078\" xlink:href=\"#DejaVuSans-116\"/>\n     <use x=\"1473.039062\" xlink:href=\"#DejaVuSans-101\"/>\n     <use x=\"1534.5625\" xlink:href=\"#DejaVuSans-114\"/>\n     <use x=\"1575.675781\" xlink:href=\"#DejaVuSans-115\"/>\n     <use x=\"1627.775391\" xlink:href=\"#DejaVuSans-46\"/>\n    </g>\n   </g>\n  </g>\n </g>\n <defs>\n  <clipPath id=\"p9459fd928d\">\n   <rect height=\"217.44\" width=\"334.8\" x=\"20.5625\" y=\"22.318125\"/>\n  </clipPath>\n </defs>\n</svg>\n",
      "image/png": "[encoded data removed]"
     },
     "metadata": {
      "needs_background": "light",
      "image/png": {
       "width": 362,
       "height": 264
      }
     }
    }
   ]
  },
  {
   "cell_type": "code",
   "metadata": {
    "cell_id": "00042-b6338653-40a6-4791-8319-297c1d412162",
    "deepnote_cell_type": "code"
   },
   "source": "print(X_train.shape,y_train.shape)\n",
   "execution_count": null,
   "outputs": [
    {
     "output_type": "stream",
     "name": "stdout",
     "text": "(1232, 15) (1232,)\n"
    }
   ]
  },
  {
   "cell_type": "code",
   "metadata": {
    "cell_id": "00043-cb148b8a-f745-440e-9a97-03eadb95e379",
    "deepnote_cell_type": "code"
   },
   "source": "X_train",
   "execution_count": null,
   "outputs": [
    {
     "output_type": "stream",
     "name": "stdout",
     "text": "<class 'pandas.core.frame.DataFrame'>\nInt64Index: 1232 entries, 935 to 1141\nData columns (total 15 columns):\n #   Column                               Non-Null Count  Dtype  \n---  ------                               --------------  -----  \n 0   prob_feedback_score                  1232 non-null   float64\n 1   accommodates                         1232 non-null   float64\n 2   availability_30                      1232 non-null   int64  \n 3   bathrooms                            1232 non-null   float64\n 4   bedrooms                             1232 non-null   float64\n 5   beds                                 1232 non-null   float64\n 6   price                                1232 non-null   float64\n 7   cancellation_policy_flexible         1232 non-null   uint8  \n 8   cancellation_policy_moderate         1232 non-null   uint8  \n 9   cancellation_policy_strict           1232 non-null   uint8  \n 10  cancellation_policy_super_strict_30  1232 non-null   uint8  \n 11  cancellation_policy_super_strict_60  1232 non-null   uint8  \n 12  instant_bookable_f                   1232 non-null   uint8  \n 13  instant_bookable_t                   1232 non-null   uint8  \n 14  amen_group_household                 1232 non-null   int64  \ndtypes: float64(6), int64(2), uint8(7)\nmemory usage: 135.0 KB\n"
    }
   ]
  },
  {
   "cell_type": "code",
   "metadata": {
    "cell_id": "00044-1c3591d3-06f2-46b4-ad51-f5a57d330c99",
    "deepnote_cell_type": "code"
   },
   "source": "",
   "execution_count": null,
   "outputs": []
  },
  {
   "cell_type": "code",
   "metadata": {
    "cell_id": "00045-30530350-d8c3-4579-a94f-d9802e8bd6fe",
    "deepnote_cell_type": "code"
   },
   "source": "",
   "execution_count": null,
   "outputs": []
  },
  {
   "cell_type": "code",
   "metadata": {
    "cell_id": "00046-76036630-3e58-44b8-a062-bcb5f4708bf4",
    "deepnote_cell_type": "code"
   },
   "source": "# Set up the loop and plot\nfig1, axes1 = plt.subplots(3, 3, figsize=(8, 8))\n#alldata = np.vstack((X_train, y_train))\nfpcs = []\n\nfor ncenters, ax in enumerate(axes1.reshape(-1), 2):\n    cntr, u, u0, d, jm, p, fpc = fuzz.cluster.cmeans(\n        X_train, ncenters, 2, error=0.005, maxiter=1000, init=None)\n\n    # Store fpc values for later\n    fpcs.append(fpc)\n\n    # Plot assigned clusters, for each data point in training set\n    print(u)\n    cluster_membership = np.argmax(u, axis=0)\n    print(cluster_membership)\n    for j in range(ncenters):\n        print(j)\n        ax.plot(X_train[cluster_membership == j],\n                #ypts[cluster_membership == j], \n                #'.', \n                color=colors[j])\n\n    # Mark the center of each fuzzy cluster\n    for pt in cntr:\n        ax.plot(pt[0], pt[1], 'rs')\n\n    ax.set_title('Centers = {0}; FPC = {1:.2f}'.format(ncenters, fpc))\n    ax.axis('off')\n\nfig1.tight_layout()",
   "execution_count": null,
   "outputs": [
    {
     "output_type": "stream",
     "name": "stdout",
     "text": "[[1.63150320e-05 8.44864625e-05 9.80372428e-04 6.86723458e-06\n  7.22207590e-06 1.73125892e-05 1.00000000e+00 3.10010595e-05\n  2.88991518e-05 2.14488146e-05 3.40612432e-05 3.41537048e-05\n  1.74687313e-05 2.96210799e-05 9.32308464e-05]\n [9.99983685e-01 9.99915514e-01 9.99019628e-01 9.99993133e-01\n  9.99992778e-01 9.99982687e-01 6.56386237e-13 9.99968999e-01\n  9.99971101e-01 9.99978551e-01 9.99965939e-01 9.99965846e-01\n  9.99982531e-01 9.99970379e-01 9.99906769e-01]]\n[1 1 1 1 1 1 0 1 1 1 1 1 1 1 1]\n0\n"
    },
    {
     "output_type": "error",
     "ename": "ValueError",
     "evalue": "Item wrong length 15 instead of 1232.",
     "traceback": [
      "\u001b[0;31m---------------------------------------------------------------------------\u001b[0m",
      "\u001b[0;31mValueError\u001b[0m                                Traceback (most recent call last)",
      "\u001b[0;32m<ipython-input-110-f80c7ec38d0e>\u001b[0m in \u001b[0;36m<module>\u001b[0;34m\u001b[0m\n\u001b[1;32m     17\u001b[0m     \u001b[0;32mfor\u001b[0m \u001b[0mj\u001b[0m \u001b[0;32min\u001b[0m \u001b[0mrange\u001b[0m\u001b[0;34m(\u001b[0m\u001b[0mncenters\u001b[0m\u001b[0;34m)\u001b[0m\u001b[0;34m:\u001b[0m\u001b[0;34m\u001b[0m\u001b[0;34m\u001b[0m\u001b[0m\n\u001b[1;32m     18\u001b[0m         \u001b[0mprint\u001b[0m\u001b[0;34m(\u001b[0m\u001b[0mj\u001b[0m\u001b[0;34m)\u001b[0m\u001b[0;34m\u001b[0m\u001b[0;34m\u001b[0m\u001b[0m\n\u001b[0;32m---> 19\u001b[0;31m         ax.plot(X_train[cluster_membership == j],\n\u001b[0m\u001b[1;32m     20\u001b[0m                 \u001b[0;31m#ypts[cluster_membership == j],\u001b[0m\u001b[0;34m\u001b[0m\u001b[0;34m\u001b[0m\u001b[0;34m\u001b[0m\u001b[0m\n\u001b[1;32m     21\u001b[0m                 \u001b[0;31m#'.',\u001b[0m\u001b[0;34m\u001b[0m\u001b[0;34m\u001b[0m\u001b[0;34m\u001b[0m\u001b[0m\n",
      "\u001b[0;32m~/opt/anaconda3/lib/python3.8/site-packages/pandas/core/frame.py\u001b[0m in \u001b[0;36m__getitem__\u001b[0;34m(self, key)\u001b[0m\n\u001b[1;32m   2891\u001b[0m         \u001b[0;31m# Do we have a (boolean) 1d indexer?\u001b[0m\u001b[0;34m\u001b[0m\u001b[0;34m\u001b[0m\u001b[0;34m\u001b[0m\u001b[0m\n\u001b[1;32m   2892\u001b[0m         \u001b[0;32mif\u001b[0m \u001b[0mcom\u001b[0m\u001b[0;34m.\u001b[0m\u001b[0mis_bool_indexer\u001b[0m\u001b[0;34m(\u001b[0m\u001b[0mkey\u001b[0m\u001b[0;34m)\u001b[0m\u001b[0;34m:\u001b[0m\u001b[0;34m\u001b[0m\u001b[0;34m\u001b[0m\u001b[0m\n\u001b[0;32m-> 2893\u001b[0;31m             \u001b[0;32mreturn\u001b[0m \u001b[0mself\u001b[0m\u001b[0;34m.\u001b[0m\u001b[0m_getitem_bool_array\u001b[0m\u001b[0;34m(\u001b[0m\u001b[0mkey\u001b[0m\u001b[0;34m)\u001b[0m\u001b[0;34m\u001b[0m\u001b[0;34m\u001b[0m\u001b[0m\n\u001b[0m\u001b[1;32m   2894\u001b[0m \u001b[0;34m\u001b[0m\u001b[0m\n\u001b[1;32m   2895\u001b[0m         \u001b[0;31m# We are left with two options: a single key, and a collection of keys,\u001b[0m\u001b[0;34m\u001b[0m\u001b[0;34m\u001b[0m\u001b[0;34m\u001b[0m\u001b[0m\n",
      "\u001b[0;32m~/opt/anaconda3/lib/python3.8/site-packages/pandas/core/frame.py\u001b[0m in \u001b[0;36m_getitem_bool_array\u001b[0;34m(self, key)\u001b[0m\n\u001b[1;32m   2937\u001b[0m             )\n\u001b[1;32m   2938\u001b[0m         \u001b[0;32melif\u001b[0m \u001b[0mlen\u001b[0m\u001b[0;34m(\u001b[0m\u001b[0mkey\u001b[0m\u001b[0;34m)\u001b[0m \u001b[0;34m!=\u001b[0m \u001b[0mlen\u001b[0m\u001b[0;34m(\u001b[0m\u001b[0mself\u001b[0m\u001b[0;34m.\u001b[0m\u001b[0mindex\u001b[0m\u001b[0;34m)\u001b[0m\u001b[0;34m:\u001b[0m\u001b[0;34m\u001b[0m\u001b[0;34m\u001b[0m\u001b[0m\n\u001b[0;32m-> 2939\u001b[0;31m             raise ValueError(\n\u001b[0m\u001b[1;32m   2940\u001b[0m                 \u001b[0;34mf\"Item wrong length {len(key)} instead of {len(self.index)}.\"\u001b[0m\u001b[0;34m\u001b[0m\u001b[0;34m\u001b[0m\u001b[0m\n\u001b[1;32m   2941\u001b[0m             )\n",
      "\u001b[0;31mValueError\u001b[0m: Item wrong length 15 instead of 1232."
     ]
    }
   ]
  },
  {
   "cell_type": "code",
   "metadata": {
    "cell_id": "00047-2a9867b9-3345-4484-a133-7bc7949033ff",
    "deepnote_cell_type": "code"
   },
   "source": "",
   "execution_count": null,
   "outputs": []
  },
  {
   "cell_type": "markdown",
   "source": "<a style='text-decoration:none;line-height:16px;display:flex;color:#5B5B62;padding:10px;justify-content:end;' href='https://deepnote.com?utm_source=created-in-deepnote-cell&projectId=8e6d3dd7-a3ce-422e-8f25-57163d804f84' target=\"_blank\">\n<img alt='Created in deepnote.com' style='display:inline;max-height:16px;margin:0px;margin-right:7.5px;' src='data:image/svg+xml;base64,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' > </img>\nCreated in <span style='font-weight:600;margin-left:4px;'>Deepnote</span></a>",
   "metadata": {
    "tags": [],
    "created_in_deepnote_cell": true,
    "deepnote_cell_type": "markdown"
   }
  }
 ],
 "nbformat": 4,
 "nbformat_minor": 2,
 "metadata": {
  "language_info": {
   "codemirror_mode": {
    "name": "ipython",
    "version": 3
   },
   "file_extension": ".py",
   "mimetype": "text/x-python",
   "name": "python",
   "nbconvert_exporter": "python",
   "pygments_lexer": "ipython3",
   "version": "3.8.5"
  },
  "orig_nbformat": 4,
  "kernelspec": {
   "name": "python3",
   "display_name": "Python 3.8.5 64-bit ('base': conda)"
  },
  "interpreter": {
   "hash": "976ce2bda790a58f831b3cd9628791a12ef5b3d61773f61425a8047b1ad6a185"
  },
  "deepnote_notebook_id": "8ecb559c-af8e-4f0b-909f-d8a1208b2937",
  "deepnote": {},
  "deepnote_execution_queue": []
 }
}